{
 "cells": [
  {
   "cell_type": "code",
   "execution_count": 73,
   "metadata": {},
   "outputs": [],
   "source": [
    "# initialisation\n",
    "import pandas as pd\n",
    "import numpy as np\n",
    "import plotly.express as px\n",
    "import plotly.graph_objects as go\n",
    "import itertools\n",
    "import joblib\n",
    "from scipy.stats import *\n",
    "from pandasgui import show\n",
    "from sklearn.ensemble import GradientBoostingRegressor\n",
    "from sklearn.linear_model import LinearRegression\n",
    "from sklearn.model_selection import train_test_split"
   ]
  },
  {
   "cell_type": "code",
   "execution_count": 74,
   "metadata": {},
   "outputs": [],
   "source": [
    "# import the model and data\n",
    "model = joblib.load('gbrmodel.joblib')\n",
    "data = pd.read_pickle('../data/processed_data.pkl')\n",
    "y_test = pd.read_pickle('../data/y_test.pkl')\n",
    "X_test = pd.read_pickle('../data/X_test.pkl')\n",
    "X = pd.read_pickle('../data/X.pkl')\n",
    "y = pd.read_pickle('../data/y.pkl')"
   ]
  },
  {
   "cell_type": "code",
   "execution_count": 75,
   "metadata": {},
   "outputs": [],
   "source": [
    "# analyse performance using test set\n",
    "test_labels = pd.merge(y_test, data['Game'], left_index= True, right_index = True) #join the game name back in to rating scores\n",
    "test_scores = pd.DataFrame({'Game': test_labels['Game'], 'Predicted Rating':model.predict(X_test), 'Actual Rating': test_labels['Rating']}) #join the test set to the predictions\n",
    "test_scores.to_csv('../data/test_scores_output.csv')"
   ]
  },
  {
   "cell_type": "code",
   "execution_count": 76,
   "metadata": {},
   "outputs": [
    {
     "data": {
      "application/vnd.plotly.v1+json": {
       "config": {
        "plotlyServerURL": "https://plot.ly"
       },
       "data": [
        {
         "hovertemplate": "<b>%{hovertext}</b><br><br>Actual Rating=%{x}<br>Predicted Rating=%{y}<extra></extra>",
         "hovertext": [
          "Assassin's Creed Origins",
          "Warhammer Vermentide 2",
          "A Short Hike",
          "Mario Golf: Super Rush",
          "Halo Reach",
          "Counter-Strike 2",
          "Marvel's Spider-Man Miles Morales",
          "Bioshock",
          "Far Cry Primal",
          "Octopath Traveller",
          "Call of Duty Modern Warfare 3",
          "Fifa 13",
          "Assassin's Creed IV Black Flag",
          "Xenoblade Chronicles",
          "Crypt of the Necrodancer",
          "Football Manager 2007",
          "Dragon Age Inquisition",
          "Game Dev Tycoon",
          "Pikmin 4",
          "Bayonetta",
          "Banjo-Kazooie",
          "Forza Motorsport 7",
          "Europa Universalis IV",
          "Tetris",
          "WRC 9",
          "Pokemon Omega Ruby",
          "Detroit Become Human",
          "Little Big Planet 3",
          "Armored Core VI: Fires of Rubicon",
          "Starfield",
          "Forza Horizon 3",
          "Embr",
          "Ys VIII Lacrimosa of Dana",
          "Super Mario 3D World",
          "Hi-Fi Rush",
          "Pure Pool",
          "Destruction Allstars",
          "Football Manager 2010",
          "Pokemon SoulSilver",
          "Guacamelee!",
          "Nintendogs",
          "Uncharted 4 A Thief's End",
          "Pokemon Sword",
          "Brain Training",
          "Dragon Quest Builders",
          "Call of Duty Black Ops II",
          "Super Mario Galaxy",
          "Football Manager 2013",
          "Warpips",
          "Splatoon 3",
          "Super Mario 64",
          "Assassin's Creed Brotherhood",
          "Inside",
          "Civilization Beyond Earth",
          "Grand Theft Auto V",
          "Ys IX: Monstrum Nox",
          "Kena: Bridge of Spirits",
          "Assassin's Creed Odyssey",
          "Football Manager 2015",
          "Gears of War",
          "Awesomenauts",
          "Worms W.M.D",
          "Buzz! Junior Jungle Party",
          "Trek to Yomi",
          "Just Cause 3",
          "A Plague Tale: Requiem",
          "Lies of P",
          "Psychonauts 2",
          "Star Wars Squadrons",
          "Star Wars Jedi Fallen Order",
          "Unsighted",
          "Wii Sports",
          "F1 2011",
          "Football Manager 2009",
          "Infamous First Light",
          "Luna",
          "Crash Bandicoot 3: Warped",
          "GreedFall",
          "The Last of Us Part II",
          "Apex Legends",
          "Far Cry 5",
          "Cat Quest II",
          "Football Manager 2008",
          "Need for Speed Unbound",
          "Terraria",
          "Stellaris",
          "Crash Team Racing",
          "Lost Ark",
          "Super Smash Bros. Brawl",
          "The Jackbox Party Pack 6",
          "F1 2012",
          "TemTem",
          "Assassin's Creed Unity",
          "Kingdom Hearts 3",
          "Super Smash Bros. Ultimate",
          "Bayonetta 2",
          "Sunlight",
          "Divinity Original Sin 2",
          "Mario Kart 7",
          "Luigi's Mansion 3",
          "Control",
          "Skyrim",
          "Pokemon Violet",
          "High on Life",
          "Guardians of the Galaxy",
          "Minecraft Legends",
          "Nobody Saves The World",
          "Call of Duty WW2",
          "DC Universe Online",
          "Final Fantasy XVI",
          "Velocity 2X",
          "Fifa 06 Game Boy Advance",
          "Dirt 5",
          "Driveclub",
          "Aces and Adventures",
          "F1 2017",
          "Baldur's Gate 3"
         ],
         "legendgroup": "",
         "marker": {
          "color": "#636efa",
          "symbol": "circle"
         },
         "mode": "markers",
         "name": "",
         "orientation": "v",
         "showlegend": false,
         "type": "scatter",
         "x": [
          82,
          76,
          89,
          67,
          90,
          70,
          88,
          93,
          66,
          53,
          84,
          78,
          88,
          78,
          73,
          91,
          92,
          66,
          80,
          69,
          85,
          82,
          84,
          90,
          74,
          78,
          69,
          55,
          82,
          76,
          93,
          60,
          90,
          88,
          97,
          51,
          55,
          83,
          91,
          75,
          72,
          94,
          59,
          71,
          64,
          79,
          97,
          79,
          71,
          84,
          96,
          92,
          81,
          64,
          95,
          83,
          84,
          67,
          73,
          85,
          64,
          65,
          62,
          69,
          63,
          63,
          87,
          89,
          70,
          90,
          85,
          75,
          80,
          84,
          71,
          59,
          87,
          68,
          96,
          79,
          73,
          71,
          86,
          66,
          83,
          72,
          84,
          54,
          91,
          66,
          78,
          69,
          81,
          78,
          90,
          90,
          32,
          89,
          85,
          82,
          53,
          69,
          74,
          72,
          86,
          49,
          78,
          77,
          55,
          92,
          70,
          42,
          80,
          93,
          85,
          84,
          91
         ],
         "xaxis": "x",
         "y": [
          74.26445044382922,
          73.64232099918706,
          75.83905634709754,
          65.79032600073629,
          85.36391555600471,
          71.35658090601578,
          83.66368390366347,
          93.03434402610526,
          70.22642439025628,
          75.51023417192528,
          86.19090113583343,
          83.747974802866,
          81.0058726308855,
          84.26525320598375,
          76.55773736491358,
          83.66876608007385,
          89.10853028425527,
          60.95458653702656,
          79.04777264293364,
          80.74762392869468,
          84.89693269624865,
          74.21731470155021,
          84.81732512212852,
          76.5522751292159,
          69.08342868877344,
          80.45976965477325,
          70.46483623105644,
          76.23424729694239,
          72.75211412934152,
          72.23280906948992,
          88.46241088508282,
          57.00558985968996,
          80.7605038389205,
          92.64362404170504,
          84.07499286460518,
          62.640627949183,
          53.587678106413705,
          82.71340423651407,
          86.3713227397194,
          77.35605413474593,
          76.90641590458108,
          100.65845519236416,
          77.26146804250618,
          71.59736731341548,
          58.137340194918465,
          81.6605940219415,
          94.9819018031443,
          81.25021917897413,
          69.22402311998235,
          78.005842767525,
          90.63018480799747,
          90.56372479838501,
          83.34765394957992,
          76.38766419306148,
          95.5386721148144,
          74.21973871682826,
          79.48153903347918,
          78.836686288117,
          74.49864559455568,
          84.18201614270333,
          72.17945907340015,
          68.68105289496691,
          64.85883858148895,
          60.49010077966466,
          59.57341784104756,
          77.15882711601898,
          69.32824047972815,
          82.87852678177626,
          70.63632693000307,
          85.07371371951058,
          73.41719365851316,
          70.322604570326,
          79.6766016498965,
          78.95541439189276,
          70.5748007876781,
          51.23744306920048,
          82.06996734618406,
          65.62682470686639,
          91.10873956251748,
          81.79714619766276,
          76.88684636901087,
          69.50525600133915,
          82.33120118410193,
          62.258674641385596,
          81.6719070756086,
          77.05990440442588,
          75.71557012340963,
          70.0230850440629,
          91.57859809567469,
          64.24583129854773,
          79.04264583831741,
          64.5988747192041,
          74.52385025752835,
          74.72334642889018,
          89.04006504641598,
          85.09485469035337,
          67.23152248161068,
          85.24946800334658,
          82.3949865346184,
          78.0455296466182,
          76.98259580724903,
          81.88314538108193,
          66.99188780948691,
          61.48029645010331,
          74.74267756804522,
          61.62118191515117,
          67.91117857399058,
          73.26026139753878,
          64.99307064389427,
          79.56717277177358,
          77.28936092059985,
          45.23269277854979,
          79.83578401764532,
          68.49755237505326,
          72.62232732006419,
          81.16844211080627,
          86.1219761398819
         ],
         "yaxis": "y"
        },
        {
         "line": {
          "dash": "dash"
         },
         "type": "scatter",
         "x": [
          32,
          100
         ],
         "y": [
          32,
          100
         ]
        }
       ],
       "layout": {
        "legend": {
         "tracegroupgap": 0
        },
        "margin": {
         "t": 60
        },
        "template": {
         "data": {
          "bar": [
           {
            "error_x": {
             "color": "#2a3f5f"
            },
            "error_y": {
             "color": "#2a3f5f"
            },
            "marker": {
             "line": {
              "color": "#E5ECF6",
              "width": 0.5
             },
             "pattern": {
              "fillmode": "overlay",
              "size": 10,
              "solidity": 0.2
             }
            },
            "type": "bar"
           }
          ],
          "barpolar": [
           {
            "marker": {
             "line": {
              "color": "#E5ECF6",
              "width": 0.5
             },
             "pattern": {
              "fillmode": "overlay",
              "size": 10,
              "solidity": 0.2
             }
            },
            "type": "barpolar"
           }
          ],
          "carpet": [
           {
            "aaxis": {
             "endlinecolor": "#2a3f5f",
             "gridcolor": "white",
             "linecolor": "white",
             "minorgridcolor": "white",
             "startlinecolor": "#2a3f5f"
            },
            "baxis": {
             "endlinecolor": "#2a3f5f",
             "gridcolor": "white",
             "linecolor": "white",
             "minorgridcolor": "white",
             "startlinecolor": "#2a3f5f"
            },
            "type": "carpet"
           }
          ],
          "choropleth": [
           {
            "colorbar": {
             "outlinewidth": 0,
             "ticks": ""
            },
            "type": "choropleth"
           }
          ],
          "contour": [
           {
            "colorbar": {
             "outlinewidth": 0,
             "ticks": ""
            },
            "colorscale": [
             [
              0,
              "#0d0887"
             ],
             [
              0.1111111111111111,
              "#46039f"
             ],
             [
              0.2222222222222222,
              "#7201a8"
             ],
             [
              0.3333333333333333,
              "#9c179e"
             ],
             [
              0.4444444444444444,
              "#bd3786"
             ],
             [
              0.5555555555555556,
              "#d8576b"
             ],
             [
              0.6666666666666666,
              "#ed7953"
             ],
             [
              0.7777777777777778,
              "#fb9f3a"
             ],
             [
              0.8888888888888888,
              "#fdca26"
             ],
             [
              1,
              "#f0f921"
             ]
            ],
            "type": "contour"
           }
          ],
          "contourcarpet": [
           {
            "colorbar": {
             "outlinewidth": 0,
             "ticks": ""
            },
            "type": "contourcarpet"
           }
          ],
          "heatmap": [
           {
            "colorbar": {
             "outlinewidth": 0,
             "ticks": ""
            },
            "colorscale": [
             [
              0,
              "#0d0887"
             ],
             [
              0.1111111111111111,
              "#46039f"
             ],
             [
              0.2222222222222222,
              "#7201a8"
             ],
             [
              0.3333333333333333,
              "#9c179e"
             ],
             [
              0.4444444444444444,
              "#bd3786"
             ],
             [
              0.5555555555555556,
              "#d8576b"
             ],
             [
              0.6666666666666666,
              "#ed7953"
             ],
             [
              0.7777777777777778,
              "#fb9f3a"
             ],
             [
              0.8888888888888888,
              "#fdca26"
             ],
             [
              1,
              "#f0f921"
             ]
            ],
            "type": "heatmap"
           }
          ],
          "heatmapgl": [
           {
            "colorbar": {
             "outlinewidth": 0,
             "ticks": ""
            },
            "colorscale": [
             [
              0,
              "#0d0887"
             ],
             [
              0.1111111111111111,
              "#46039f"
             ],
             [
              0.2222222222222222,
              "#7201a8"
             ],
             [
              0.3333333333333333,
              "#9c179e"
             ],
             [
              0.4444444444444444,
              "#bd3786"
             ],
             [
              0.5555555555555556,
              "#d8576b"
             ],
             [
              0.6666666666666666,
              "#ed7953"
             ],
             [
              0.7777777777777778,
              "#fb9f3a"
             ],
             [
              0.8888888888888888,
              "#fdca26"
             ],
             [
              1,
              "#f0f921"
             ]
            ],
            "type": "heatmapgl"
           }
          ],
          "histogram": [
           {
            "marker": {
             "pattern": {
              "fillmode": "overlay",
              "size": 10,
              "solidity": 0.2
             }
            },
            "type": "histogram"
           }
          ],
          "histogram2d": [
           {
            "colorbar": {
             "outlinewidth": 0,
             "ticks": ""
            },
            "colorscale": [
             [
              0,
              "#0d0887"
             ],
             [
              0.1111111111111111,
              "#46039f"
             ],
             [
              0.2222222222222222,
              "#7201a8"
             ],
             [
              0.3333333333333333,
              "#9c179e"
             ],
             [
              0.4444444444444444,
              "#bd3786"
             ],
             [
              0.5555555555555556,
              "#d8576b"
             ],
             [
              0.6666666666666666,
              "#ed7953"
             ],
             [
              0.7777777777777778,
              "#fb9f3a"
             ],
             [
              0.8888888888888888,
              "#fdca26"
             ],
             [
              1,
              "#f0f921"
             ]
            ],
            "type": "histogram2d"
           }
          ],
          "histogram2dcontour": [
           {
            "colorbar": {
             "outlinewidth": 0,
             "ticks": ""
            },
            "colorscale": [
             [
              0,
              "#0d0887"
             ],
             [
              0.1111111111111111,
              "#46039f"
             ],
             [
              0.2222222222222222,
              "#7201a8"
             ],
             [
              0.3333333333333333,
              "#9c179e"
             ],
             [
              0.4444444444444444,
              "#bd3786"
             ],
             [
              0.5555555555555556,
              "#d8576b"
             ],
             [
              0.6666666666666666,
              "#ed7953"
             ],
             [
              0.7777777777777778,
              "#fb9f3a"
             ],
             [
              0.8888888888888888,
              "#fdca26"
             ],
             [
              1,
              "#f0f921"
             ]
            ],
            "type": "histogram2dcontour"
           }
          ],
          "mesh3d": [
           {
            "colorbar": {
             "outlinewidth": 0,
             "ticks": ""
            },
            "type": "mesh3d"
           }
          ],
          "parcoords": [
           {
            "line": {
             "colorbar": {
              "outlinewidth": 0,
              "ticks": ""
             }
            },
            "type": "parcoords"
           }
          ],
          "pie": [
           {
            "automargin": true,
            "type": "pie"
           }
          ],
          "scatter": [
           {
            "fillpattern": {
             "fillmode": "overlay",
             "size": 10,
             "solidity": 0.2
            },
            "type": "scatter"
           }
          ],
          "scatter3d": [
           {
            "line": {
             "colorbar": {
              "outlinewidth": 0,
              "ticks": ""
             }
            },
            "marker": {
             "colorbar": {
              "outlinewidth": 0,
              "ticks": ""
             }
            },
            "type": "scatter3d"
           }
          ],
          "scattercarpet": [
           {
            "marker": {
             "colorbar": {
              "outlinewidth": 0,
              "ticks": ""
             }
            },
            "type": "scattercarpet"
           }
          ],
          "scattergeo": [
           {
            "marker": {
             "colorbar": {
              "outlinewidth": 0,
              "ticks": ""
             }
            },
            "type": "scattergeo"
           }
          ],
          "scattergl": [
           {
            "marker": {
             "colorbar": {
              "outlinewidth": 0,
              "ticks": ""
             }
            },
            "type": "scattergl"
           }
          ],
          "scattermapbox": [
           {
            "marker": {
             "colorbar": {
              "outlinewidth": 0,
              "ticks": ""
             }
            },
            "type": "scattermapbox"
           }
          ],
          "scatterpolar": [
           {
            "marker": {
             "colorbar": {
              "outlinewidth": 0,
              "ticks": ""
             }
            },
            "type": "scatterpolar"
           }
          ],
          "scatterpolargl": [
           {
            "marker": {
             "colorbar": {
              "outlinewidth": 0,
              "ticks": ""
             }
            },
            "type": "scatterpolargl"
           }
          ],
          "scatterternary": [
           {
            "marker": {
             "colorbar": {
              "outlinewidth": 0,
              "ticks": ""
             }
            },
            "type": "scatterternary"
           }
          ],
          "surface": [
           {
            "colorbar": {
             "outlinewidth": 0,
             "ticks": ""
            },
            "colorscale": [
             [
              0,
              "#0d0887"
             ],
             [
              0.1111111111111111,
              "#46039f"
             ],
             [
              0.2222222222222222,
              "#7201a8"
             ],
             [
              0.3333333333333333,
              "#9c179e"
             ],
             [
              0.4444444444444444,
              "#bd3786"
             ],
             [
              0.5555555555555556,
              "#d8576b"
             ],
             [
              0.6666666666666666,
              "#ed7953"
             ],
             [
              0.7777777777777778,
              "#fb9f3a"
             ],
             [
              0.8888888888888888,
              "#fdca26"
             ],
             [
              1,
              "#f0f921"
             ]
            ],
            "type": "surface"
           }
          ],
          "table": [
           {
            "cells": {
             "fill": {
              "color": "#EBF0F8"
             },
             "line": {
              "color": "white"
             }
            },
            "header": {
             "fill": {
              "color": "#C8D4E3"
             },
             "line": {
              "color": "white"
             }
            },
            "type": "table"
           }
          ]
         },
         "layout": {
          "annotationdefaults": {
           "arrowcolor": "#2a3f5f",
           "arrowhead": 0,
           "arrowwidth": 1
          },
          "autotypenumbers": "strict",
          "coloraxis": {
           "colorbar": {
            "outlinewidth": 0,
            "ticks": ""
           }
          },
          "colorscale": {
           "diverging": [
            [
             0,
             "#8e0152"
            ],
            [
             0.1,
             "#c51b7d"
            ],
            [
             0.2,
             "#de77ae"
            ],
            [
             0.3,
             "#f1b6da"
            ],
            [
             0.4,
             "#fde0ef"
            ],
            [
             0.5,
             "#f7f7f7"
            ],
            [
             0.6,
             "#e6f5d0"
            ],
            [
             0.7,
             "#b8e186"
            ],
            [
             0.8,
             "#7fbc41"
            ],
            [
             0.9,
             "#4d9221"
            ],
            [
             1,
             "#276419"
            ]
           ],
           "sequential": [
            [
             0,
             "#0d0887"
            ],
            [
             0.1111111111111111,
             "#46039f"
            ],
            [
             0.2222222222222222,
             "#7201a8"
            ],
            [
             0.3333333333333333,
             "#9c179e"
            ],
            [
             0.4444444444444444,
             "#bd3786"
            ],
            [
             0.5555555555555556,
             "#d8576b"
            ],
            [
             0.6666666666666666,
             "#ed7953"
            ],
            [
             0.7777777777777778,
             "#fb9f3a"
            ],
            [
             0.8888888888888888,
             "#fdca26"
            ],
            [
             1,
             "#f0f921"
            ]
           ],
           "sequentialminus": [
            [
             0,
             "#0d0887"
            ],
            [
             0.1111111111111111,
             "#46039f"
            ],
            [
             0.2222222222222222,
             "#7201a8"
            ],
            [
             0.3333333333333333,
             "#9c179e"
            ],
            [
             0.4444444444444444,
             "#bd3786"
            ],
            [
             0.5555555555555556,
             "#d8576b"
            ],
            [
             0.6666666666666666,
             "#ed7953"
            ],
            [
             0.7777777777777778,
             "#fb9f3a"
            ],
            [
             0.8888888888888888,
             "#fdca26"
            ],
            [
             1,
             "#f0f921"
            ]
           ]
          },
          "colorway": [
           "#636efa",
           "#EF553B",
           "#00cc96",
           "#ab63fa",
           "#FFA15A",
           "#19d3f3",
           "#FF6692",
           "#B6E880",
           "#FF97FF",
           "#FECB52"
          ],
          "font": {
           "color": "#2a3f5f"
          },
          "geo": {
           "bgcolor": "white",
           "lakecolor": "white",
           "landcolor": "#E5ECF6",
           "showlakes": true,
           "showland": true,
           "subunitcolor": "white"
          },
          "hoverlabel": {
           "align": "left"
          },
          "hovermode": "closest",
          "mapbox": {
           "style": "light"
          },
          "paper_bgcolor": "white",
          "plot_bgcolor": "#E5ECF6",
          "polar": {
           "angularaxis": {
            "gridcolor": "white",
            "linecolor": "white",
            "ticks": ""
           },
           "bgcolor": "#E5ECF6",
           "radialaxis": {
            "gridcolor": "white",
            "linecolor": "white",
            "ticks": ""
           }
          },
          "scene": {
           "xaxis": {
            "backgroundcolor": "#E5ECF6",
            "gridcolor": "white",
            "gridwidth": 2,
            "linecolor": "white",
            "showbackground": true,
            "ticks": "",
            "zerolinecolor": "white"
           },
           "yaxis": {
            "backgroundcolor": "#E5ECF6",
            "gridcolor": "white",
            "gridwidth": 2,
            "linecolor": "white",
            "showbackground": true,
            "ticks": "",
            "zerolinecolor": "white"
           },
           "zaxis": {
            "backgroundcolor": "#E5ECF6",
            "gridcolor": "white",
            "gridwidth": 2,
            "linecolor": "white",
            "showbackground": true,
            "ticks": "",
            "zerolinecolor": "white"
           }
          },
          "shapedefaults": {
           "line": {
            "color": "#2a3f5f"
           }
          },
          "ternary": {
           "aaxis": {
            "gridcolor": "white",
            "linecolor": "white",
            "ticks": ""
           },
           "baxis": {
            "gridcolor": "white",
            "linecolor": "white",
            "ticks": ""
           },
           "bgcolor": "#E5ECF6",
           "caxis": {
            "gridcolor": "white",
            "linecolor": "white",
            "ticks": ""
           }
          },
          "title": {
           "x": 0.05
          },
          "xaxis": {
           "automargin": true,
           "gridcolor": "white",
           "linecolor": "white",
           "ticks": "",
           "title": {
            "standoff": 15
           },
           "zerolinecolor": "white",
           "zerolinewidth": 2
          },
          "yaxis": {
           "automargin": true,
           "gridcolor": "white",
           "linecolor": "white",
           "ticks": "",
           "title": {
            "standoff": 15
           },
           "zerolinecolor": "white",
           "zerolinewidth": 2
          }
         }
        },
        "xaxis": {
         "anchor": "y",
         "domain": [
          0,
          1
         ],
         "title": {
          "text": "Actual Rating"
         }
        },
        "yaxis": {
         "anchor": "x",
         "domain": [
          0,
          1
         ],
         "title": {
          "text": "Predicted Rating"
         }
        }
       }
      },
      "text/html": [
       "<div>                            <div id=\"21abde48-77b9-4dde-a47f-d639ddb63843\" class=\"plotly-graph-div\" style=\"height:525px; width:100%;\"></div>            <script type=\"text/javascript\">                require([\"plotly\"], function(Plotly) {                    window.PLOTLYENV=window.PLOTLYENV || {};                                    if (document.getElementById(\"21abde48-77b9-4dde-a47f-d639ddb63843\")) {                    Plotly.newPlot(                        \"21abde48-77b9-4dde-a47f-d639ddb63843\",                        [{\"hovertemplate\":\"<b>%{hovertext}</b><br><br>Actual Rating=%{x}<br>Predicted Rating=%{y}<extra></extra>\",\"hovertext\":[\"Assassin's Creed Origins\",\"Warhammer Vermentide 2\",\"A Short Hike\",\"Mario Golf: Super Rush\",\"Halo Reach\",\"Counter-Strike 2\",\"Marvel's Spider-Man Miles Morales\",\"Bioshock\",\"Far Cry Primal\",\"Octopath Traveller\",\"Call of Duty Modern Warfare 3\",\"Fifa 13\",\"Assassin's Creed IV Black Flag\",\"Xenoblade Chronicles\",\"Crypt of the Necrodancer\",\"Football Manager 2007\",\"Dragon Age Inquisition\",\"Game Dev Tycoon\",\"Pikmin 4\",\"Bayonetta\",\"Banjo-Kazooie\",\"Forza Motorsport 7\",\"Europa Universalis IV\",\"Tetris\",\"WRC 9\",\"Pokemon Omega Ruby\",\"Detroit Become Human\",\"Little Big Planet 3\",\"Armored Core VI: Fires of Rubicon\",\"Starfield\",\"Forza Horizon 3\",\"Embr\",\"Ys VIII Lacrimosa of Dana\",\"Super Mario 3D World\",\"Hi-Fi Rush\",\"Pure Pool\",\"Destruction Allstars\",\"Football Manager 2010\",\"Pokemon SoulSilver\",\"Guacamelee!\",\"Nintendogs\",\"Uncharted 4 A Thief's End\",\"Pokemon Sword\",\"Brain Training\",\"Dragon Quest Builders\",\"Call of Duty Black Ops II\",\"Super Mario Galaxy\",\"Football Manager 2013\",\"Warpips\",\"Splatoon 3\",\"Super Mario 64\",\"Assassin's Creed Brotherhood\",\"Inside\",\"Civilization Beyond Earth\",\"Grand Theft Auto V\",\"Ys IX: Monstrum Nox\",\"Kena: Bridge of Spirits\",\"Assassin's Creed Odyssey\",\"Football Manager 2015\",\"Gears of War\",\"Awesomenauts\",\"Worms W.M.D\",\"Buzz! Junior Jungle Party\",\"Trek to Yomi\",\"Just Cause 3\",\"A Plague Tale: Requiem\",\"Lies of P\",\"Psychonauts 2\",\"Star Wars Squadrons\",\"Star Wars Jedi Fallen Order\",\"Unsighted\",\"Wii Sports\",\"F1 2011\",\"Football Manager 2009\",\"Infamous First Light\",\"Luna\",\"Crash Bandicoot 3: Warped\",\"GreedFall\",\"The Last of Us Part II\",\"Apex Legends\",\"Far Cry 5\",\"Cat Quest II\",\"Football Manager 2008\",\"Need for Speed Unbound\",\"Terraria\",\"Stellaris\",\"Crash Team Racing\",\"Lost Ark\",\"Super Smash Bros. Brawl\",\"The Jackbox Party Pack 6\",\"F1 2012\",\"TemTem\",\"Assassin's Creed Unity\",\"Kingdom Hearts 3\",\"Super Smash Bros. Ultimate\",\"Bayonetta 2\",\"Sunlight\",\"Divinity Original Sin 2\",\"Mario Kart 7\",\"Luigi's Mansion 3\",\"Control\",\"Skyrim\",\"Pokemon Violet\",\"High on Life\",\"Guardians of the Galaxy\",\"Minecraft Legends\",\"Nobody Saves The World\",\"Call of Duty WW2\",\"DC Universe Online\",\"Final Fantasy XVI\",\"Velocity 2X\",\"Fifa 06 Game Boy Advance\",\"Dirt 5\",\"Driveclub\",\"Aces and Adventures\",\"F1 2017\",\"Baldur's Gate 3\"],\"legendgroup\":\"\",\"marker\":{\"color\":\"#636efa\",\"symbol\":\"circle\"},\"mode\":\"markers\",\"name\":\"\",\"orientation\":\"v\",\"showlegend\":false,\"x\":[82,76,89,67,90,70,88,93,66,53,84,78,88,78,73,91,92,66,80,69,85,82,84,90,74,78,69,55,82,76,93,60,90,88,97,51,55,83,91,75,72,94,59,71,64,79,97,79,71,84,96,92,81,64,95,83,84,67,73,85,64,65,62,69,63,63,87,89,70,90,85,75,80,84,71,59,87,68,96,79,73,71,86,66,83,72,84,54,91,66,78,69,81,78,90,90,32,89,85,82,53,69,74,72,86,49,78,77,55,92,70,42,80,93,85,84,91],\"xaxis\":\"x\",\"y\":[74.26445044382922,73.64232099918706,75.83905634709754,65.79032600073629,85.36391555600471,71.35658090601578,83.66368390366347,93.03434402610526,70.22642439025628,75.51023417192528,86.19090113583343,83.747974802866,81.0058726308855,84.26525320598375,76.55773736491358,83.66876608007385,89.10853028425527,60.95458653702656,79.04777264293364,80.74762392869468,84.89693269624865,74.21731470155021,84.81732512212852,76.5522751292159,69.08342868877344,80.45976965477325,70.46483623105644,76.23424729694239,72.75211412934152,72.23280906948992,88.46241088508282,57.00558985968996,80.7605038389205,92.64362404170504,84.07499286460518,62.640627949183,53.587678106413705,82.71340423651407,86.3713227397194,77.35605413474593,76.90641590458108,100.65845519236416,77.26146804250618,71.59736731341548,58.137340194918465,81.6605940219415,94.9819018031443,81.25021917897413,69.22402311998235,78.005842767525,90.63018480799747,90.56372479838501,83.34765394957992,76.38766419306148,95.5386721148144,74.21973871682826,79.48153903347918,78.836686288117,74.49864559455568,84.18201614270333,72.17945907340015,68.68105289496691,64.85883858148895,60.49010077966466,59.57341784104756,77.15882711601898,69.32824047972815,82.87852678177626,70.63632693000307,85.07371371951058,73.41719365851316,70.322604570326,79.6766016498965,78.95541439189276,70.5748007876781,51.23744306920048,82.06996734618406,65.62682470686639,91.10873956251748,81.79714619766276,76.88684636901087,69.50525600133915,82.33120118410193,62.258674641385596,81.6719070756086,77.05990440442588,75.71557012340963,70.0230850440629,91.57859809567469,64.24583129854773,79.04264583831741,64.5988747192041,74.52385025752835,74.72334642889018,89.04006504641598,85.09485469035337,67.23152248161068,85.24946800334658,82.3949865346184,78.0455296466182,76.98259580724903,81.88314538108193,66.99188780948691,61.48029645010331,74.74267756804522,61.62118191515117,67.91117857399058,73.26026139753878,64.99307064389427,79.56717277177358,77.28936092059985,45.23269277854979,79.83578401764532,68.49755237505326,72.62232732006419,81.16844211080627,86.1219761398819],\"yaxis\":\"y\",\"type\":\"scatter\"},{\"line\":{\"dash\":\"dash\"},\"x\":[32,100],\"y\":[32,100],\"type\":\"scatter\"}],                        {\"template\":{\"data\":{\"histogram2dcontour\":[{\"type\":\"histogram2dcontour\",\"colorbar\":{\"outlinewidth\":0,\"ticks\":\"\"},\"colorscale\":[[0.0,\"#0d0887\"],[0.1111111111111111,\"#46039f\"],[0.2222222222222222,\"#7201a8\"],[0.3333333333333333,\"#9c179e\"],[0.4444444444444444,\"#bd3786\"],[0.5555555555555556,\"#d8576b\"],[0.6666666666666666,\"#ed7953\"],[0.7777777777777778,\"#fb9f3a\"],[0.8888888888888888,\"#fdca26\"],[1.0,\"#f0f921\"]]}],\"choropleth\":[{\"type\":\"choropleth\",\"colorbar\":{\"outlinewidth\":0,\"ticks\":\"\"}}],\"histogram2d\":[{\"type\":\"histogram2d\",\"colorbar\":{\"outlinewidth\":0,\"ticks\":\"\"},\"colorscale\":[[0.0,\"#0d0887\"],[0.1111111111111111,\"#46039f\"],[0.2222222222222222,\"#7201a8\"],[0.3333333333333333,\"#9c179e\"],[0.4444444444444444,\"#bd3786\"],[0.5555555555555556,\"#d8576b\"],[0.6666666666666666,\"#ed7953\"],[0.7777777777777778,\"#fb9f3a\"],[0.8888888888888888,\"#fdca26\"],[1.0,\"#f0f921\"]]}],\"heatmap\":[{\"type\":\"heatmap\",\"colorbar\":{\"outlinewidth\":0,\"ticks\":\"\"},\"colorscale\":[[0.0,\"#0d0887\"],[0.1111111111111111,\"#46039f\"],[0.2222222222222222,\"#7201a8\"],[0.3333333333333333,\"#9c179e\"],[0.4444444444444444,\"#bd3786\"],[0.5555555555555556,\"#d8576b\"],[0.6666666666666666,\"#ed7953\"],[0.7777777777777778,\"#fb9f3a\"],[0.8888888888888888,\"#fdca26\"],[1.0,\"#f0f921\"]]}],\"heatmapgl\":[{\"type\":\"heatmapgl\",\"colorbar\":{\"outlinewidth\":0,\"ticks\":\"\"},\"colorscale\":[[0.0,\"#0d0887\"],[0.1111111111111111,\"#46039f\"],[0.2222222222222222,\"#7201a8\"],[0.3333333333333333,\"#9c179e\"],[0.4444444444444444,\"#bd3786\"],[0.5555555555555556,\"#d8576b\"],[0.6666666666666666,\"#ed7953\"],[0.7777777777777778,\"#fb9f3a\"],[0.8888888888888888,\"#fdca26\"],[1.0,\"#f0f921\"]]}],\"contourcarpet\":[{\"type\":\"contourcarpet\",\"colorbar\":{\"outlinewidth\":0,\"ticks\":\"\"}}],\"contour\":[{\"type\":\"contour\",\"colorbar\":{\"outlinewidth\":0,\"ticks\":\"\"},\"colorscale\":[[0.0,\"#0d0887\"],[0.1111111111111111,\"#46039f\"],[0.2222222222222222,\"#7201a8\"],[0.3333333333333333,\"#9c179e\"],[0.4444444444444444,\"#bd3786\"],[0.5555555555555556,\"#d8576b\"],[0.6666666666666666,\"#ed7953\"],[0.7777777777777778,\"#fb9f3a\"],[0.8888888888888888,\"#fdca26\"],[1.0,\"#f0f921\"]]}],\"surface\":[{\"type\":\"surface\",\"colorbar\":{\"outlinewidth\":0,\"ticks\":\"\"},\"colorscale\":[[0.0,\"#0d0887\"],[0.1111111111111111,\"#46039f\"],[0.2222222222222222,\"#7201a8\"],[0.3333333333333333,\"#9c179e\"],[0.4444444444444444,\"#bd3786\"],[0.5555555555555556,\"#d8576b\"],[0.6666666666666666,\"#ed7953\"],[0.7777777777777778,\"#fb9f3a\"],[0.8888888888888888,\"#fdca26\"],[1.0,\"#f0f921\"]]}],\"mesh3d\":[{\"type\":\"mesh3d\",\"colorbar\":{\"outlinewidth\":0,\"ticks\":\"\"}}],\"scatter\":[{\"fillpattern\":{\"fillmode\":\"overlay\",\"size\":10,\"solidity\":0.2},\"type\":\"scatter\"}],\"parcoords\":[{\"type\":\"parcoords\",\"line\":{\"colorbar\":{\"outlinewidth\":0,\"ticks\":\"\"}}}],\"scatterpolargl\":[{\"type\":\"scatterpolargl\",\"marker\":{\"colorbar\":{\"outlinewidth\":0,\"ticks\":\"\"}}}],\"bar\":[{\"error_x\":{\"color\":\"#2a3f5f\"},\"error_y\":{\"color\":\"#2a3f5f\"},\"marker\":{\"line\":{\"color\":\"#E5ECF6\",\"width\":0.5},\"pattern\":{\"fillmode\":\"overlay\",\"size\":10,\"solidity\":0.2}},\"type\":\"bar\"}],\"scattergeo\":[{\"type\":\"scattergeo\",\"marker\":{\"colorbar\":{\"outlinewidth\":0,\"ticks\":\"\"}}}],\"scatterpolar\":[{\"type\":\"scatterpolar\",\"marker\":{\"colorbar\":{\"outlinewidth\":0,\"ticks\":\"\"}}}],\"histogram\":[{\"marker\":{\"pattern\":{\"fillmode\":\"overlay\",\"size\":10,\"solidity\":0.2}},\"type\":\"histogram\"}],\"scattergl\":[{\"type\":\"scattergl\",\"marker\":{\"colorbar\":{\"outlinewidth\":0,\"ticks\":\"\"}}}],\"scatter3d\":[{\"type\":\"scatter3d\",\"line\":{\"colorbar\":{\"outlinewidth\":0,\"ticks\":\"\"}},\"marker\":{\"colorbar\":{\"outlinewidth\":0,\"ticks\":\"\"}}}],\"scattermapbox\":[{\"type\":\"scattermapbox\",\"marker\":{\"colorbar\":{\"outlinewidth\":0,\"ticks\":\"\"}}}],\"scatterternary\":[{\"type\":\"scatterternary\",\"marker\":{\"colorbar\":{\"outlinewidth\":0,\"ticks\":\"\"}}}],\"scattercarpet\":[{\"type\":\"scattercarpet\",\"marker\":{\"colorbar\":{\"outlinewidth\":0,\"ticks\":\"\"}}}],\"carpet\":[{\"aaxis\":{\"endlinecolor\":\"#2a3f5f\",\"gridcolor\":\"white\",\"linecolor\":\"white\",\"minorgridcolor\":\"white\",\"startlinecolor\":\"#2a3f5f\"},\"baxis\":{\"endlinecolor\":\"#2a3f5f\",\"gridcolor\":\"white\",\"linecolor\":\"white\",\"minorgridcolor\":\"white\",\"startlinecolor\":\"#2a3f5f\"},\"type\":\"carpet\"}],\"table\":[{\"cells\":{\"fill\":{\"color\":\"#EBF0F8\"},\"line\":{\"color\":\"white\"}},\"header\":{\"fill\":{\"color\":\"#C8D4E3\"},\"line\":{\"color\":\"white\"}},\"type\":\"table\"}],\"barpolar\":[{\"marker\":{\"line\":{\"color\":\"#E5ECF6\",\"width\":0.5},\"pattern\":{\"fillmode\":\"overlay\",\"size\":10,\"solidity\":0.2}},\"type\":\"barpolar\"}],\"pie\":[{\"automargin\":true,\"type\":\"pie\"}]},\"layout\":{\"autotypenumbers\":\"strict\",\"colorway\":[\"#636efa\",\"#EF553B\",\"#00cc96\",\"#ab63fa\",\"#FFA15A\",\"#19d3f3\",\"#FF6692\",\"#B6E880\",\"#FF97FF\",\"#FECB52\"],\"font\":{\"color\":\"#2a3f5f\"},\"hovermode\":\"closest\",\"hoverlabel\":{\"align\":\"left\"},\"paper_bgcolor\":\"white\",\"plot_bgcolor\":\"#E5ECF6\",\"polar\":{\"bgcolor\":\"#E5ECF6\",\"angularaxis\":{\"gridcolor\":\"white\",\"linecolor\":\"white\",\"ticks\":\"\"},\"radialaxis\":{\"gridcolor\":\"white\",\"linecolor\":\"white\",\"ticks\":\"\"}},\"ternary\":{\"bgcolor\":\"#E5ECF6\",\"aaxis\":{\"gridcolor\":\"white\",\"linecolor\":\"white\",\"ticks\":\"\"},\"baxis\":{\"gridcolor\":\"white\",\"linecolor\":\"white\",\"ticks\":\"\"},\"caxis\":{\"gridcolor\":\"white\",\"linecolor\":\"white\",\"ticks\":\"\"}},\"coloraxis\":{\"colorbar\":{\"outlinewidth\":0,\"ticks\":\"\"}},\"colorscale\":{\"sequential\":[[0.0,\"#0d0887\"],[0.1111111111111111,\"#46039f\"],[0.2222222222222222,\"#7201a8\"],[0.3333333333333333,\"#9c179e\"],[0.4444444444444444,\"#bd3786\"],[0.5555555555555556,\"#d8576b\"],[0.6666666666666666,\"#ed7953\"],[0.7777777777777778,\"#fb9f3a\"],[0.8888888888888888,\"#fdca26\"],[1.0,\"#f0f921\"]],\"sequentialminus\":[[0.0,\"#0d0887\"],[0.1111111111111111,\"#46039f\"],[0.2222222222222222,\"#7201a8\"],[0.3333333333333333,\"#9c179e\"],[0.4444444444444444,\"#bd3786\"],[0.5555555555555556,\"#d8576b\"],[0.6666666666666666,\"#ed7953\"],[0.7777777777777778,\"#fb9f3a\"],[0.8888888888888888,\"#fdca26\"],[1.0,\"#f0f921\"]],\"diverging\":[[0,\"#8e0152\"],[0.1,\"#c51b7d\"],[0.2,\"#de77ae\"],[0.3,\"#f1b6da\"],[0.4,\"#fde0ef\"],[0.5,\"#f7f7f7\"],[0.6,\"#e6f5d0\"],[0.7,\"#b8e186\"],[0.8,\"#7fbc41\"],[0.9,\"#4d9221\"],[1,\"#276419\"]]},\"xaxis\":{\"gridcolor\":\"white\",\"linecolor\":\"white\",\"ticks\":\"\",\"title\":{\"standoff\":15},\"zerolinecolor\":\"white\",\"automargin\":true,\"zerolinewidth\":2},\"yaxis\":{\"gridcolor\":\"white\",\"linecolor\":\"white\",\"ticks\":\"\",\"title\":{\"standoff\":15},\"zerolinecolor\":\"white\",\"automargin\":true,\"zerolinewidth\":2},\"scene\":{\"xaxis\":{\"backgroundcolor\":\"#E5ECF6\",\"gridcolor\":\"white\",\"linecolor\":\"white\",\"showbackground\":true,\"ticks\":\"\",\"zerolinecolor\":\"white\",\"gridwidth\":2},\"yaxis\":{\"backgroundcolor\":\"#E5ECF6\",\"gridcolor\":\"white\",\"linecolor\":\"white\",\"showbackground\":true,\"ticks\":\"\",\"zerolinecolor\":\"white\",\"gridwidth\":2},\"zaxis\":{\"backgroundcolor\":\"#E5ECF6\",\"gridcolor\":\"white\",\"linecolor\":\"white\",\"showbackground\":true,\"ticks\":\"\",\"zerolinecolor\":\"white\",\"gridwidth\":2}},\"shapedefaults\":{\"line\":{\"color\":\"#2a3f5f\"}},\"annotationdefaults\":{\"arrowcolor\":\"#2a3f5f\",\"arrowhead\":0,\"arrowwidth\":1},\"geo\":{\"bgcolor\":\"white\",\"landcolor\":\"#E5ECF6\",\"subunitcolor\":\"white\",\"showland\":true,\"showlakes\":true,\"lakecolor\":\"white\"},\"title\":{\"x\":0.05},\"mapbox\":{\"style\":\"light\"}}},\"xaxis\":{\"anchor\":\"y\",\"domain\":[0.0,1.0],\"title\":{\"text\":\"Actual Rating\"}},\"yaxis\":{\"anchor\":\"x\",\"domain\":[0.0,1.0],\"title\":{\"text\":\"Predicted Rating\"}},\"legend\":{\"tracegroupgap\":0},\"margin\":{\"t\":60}},                        {\"responsive\": true}                    ).then(function(){\n",
       "                            \n",
       "var gd = document.getElementById('21abde48-77b9-4dde-a47f-d639ddb63843');\n",
       "var x = new MutationObserver(function (mutations, observer) {{\n",
       "        var display = window.getComputedStyle(gd).display;\n",
       "        if (!display || display === 'none') {{\n",
       "            console.log([gd, 'removed!']);\n",
       "            Plotly.purge(gd);\n",
       "            observer.disconnect();\n",
       "        }}\n",
       "}});\n",
       "\n",
       "// Listen for the removal of the full notebook cells\n",
       "var notebookContainer = gd.closest('#notebook-container');\n",
       "if (notebookContainer) {{\n",
       "    x.observe(notebookContainer, {childList: true});\n",
       "}}\n",
       "\n",
       "// Listen for the clearing of the current output cell\n",
       "var outputEl = gd.closest('.output');\n",
       "if (outputEl) {{\n",
       "    x.observe(outputEl, {childList: true});\n",
       "}}\n",
       "\n",
       "                        })                };                });            </script>        </div>"
      ]
     },
     "metadata": {},
     "output_type": "display_data"
    }
   ],
   "source": [
    "# scatter plot of predicted scores vs actual for test set\n",
    "fig = px.scatter(test_scores, x=\"Actual Rating\", y=\"Predicted Rating\", hover_name= 'Game')\n",
    "#calculate minimum point for dashed line\n",
    "min1 = min(test_scores[\"Actual Rating\"])\n",
    "min2 = min(test_scores[\"Predicted Rating\"])\n",
    "min3 = min(min1, min2)\n",
    "#plot dashed line\n",
    "fig.add_trace(go.Scatter(x=[min3,100], y=[min3, 100], line = dict(dash = 'dash')))"
   ]
  },
  {
   "cell_type": "code",
   "execution_count": 77,
   "metadata": {},
   "outputs": [],
   "source": [
    "#obtain plot of predicted rating vs review score\n",
    "all_labels = pd.merge(y, data['Game'], left_index= True, right_index = True) #join the game name back in to rating scores\n",
    "scores_labels = pd.merge(all_labels, data['Reviewscore'], left_index= True, right_index = True) #join the review avg back in to rating scores\n",
    "scores_comp = pd.DataFrame({'Game': scores_labels['Game'], \n",
    "                            'Predicted Rating': model.predict(X), \n",
    "                            'Actual Rating': scores_labels['Rating'], \n",
    "                            'Review avg': scores_labels['Reviewscore']}) #join the test set to the predictions"
   ]
  },
  {
   "cell_type": "code",
   "execution_count": 78,
   "metadata": {},
   "outputs": [
    {
     "data": {
      "application/vnd.plotly.v1+json": {
       "config": {
        "plotlyServerURL": "https://plot.ly"
       },
       "data": [
        {
         "hovertemplate": "<b>%{hovertext}</b><br><br>Review avg=%{x}<br>Predicted Rating=%{y}<extra></extra>",
         "hovertext": [
          "The Legend of Zelda: Tears of the Kingdom",
          "Hi-Fi Rush",
          "Marvel's Spider-Man 2",
          "Cocoon",
          "Final Fantasy XVI",
          "Baldur's Gate 3",
          "Lies of P",
          "Star Wars Jedi Survivor",
          "Aces and Adventures",
          "Super Mario Bros. Wonder",
          "Armored Core VI: Fires of Rubicon",
          "Cassette Beasts",
          "Pikmin 4",
          "Diablo 4",
          "The Crew Motorfest",
          "Starfield",
          "F-Zero 99",
          "Wild Hearts",
          "Cities Skylines 2",
          "Jusant",
          "Assassin's Creed Mirage",
          "Counter-Strike 2",
          "20 Minutes Till Dawn",
          "Wo Long Fallen Dynasty",
          "Tchia",
          "Forza Motorsport (2023)",
          "Minecraft Legends",
          "Exoprimal",
          "Elden Ring",
          "God of War Ragnarök",
          "Horizon Forbidden West",
          "Gran Turismo 7",
          "Vampire Survivors",
          "Rogue Legacy 2",
          "OlliOlli World",
          "Stray",
          "Neon White",
          "Splatoon 3",
          "Citizen Sleeper",
          "Pokemon Legends Arceus",
          "Kirby and the Forgotten Land",
          "PlateUp!",
          "Two Point Campus",
          "Teenage Mutant Ninja Turtles: Shredder's Revenge",
          "Rollerdrome",
          "Nobody Saves The World",
          "Chained Echoes",
          "Overwatch 2",
          "Freshly Frosted",
          "Pokemon Violet",
          "Ghostwire Tokyo",
          "Cult of the Lamb",
          "High on Life",
          "Grid Legends",
          "Warpips",
          "TemTem",
          "Trek to Yomi",
          "Windjammers 2",
          "Tunic",
          "Need for Speed Unbound",
          "A Plague Tale: Requiem",
          "You Suck At Parking",
          "Lego Star Wars The Skywalker Saga",
          "Arcadeggedon",
          "Spacelines from the Far Out",
          "Lost Ark",
          "Golfie",
          "Diablo Immortal",
          "CrossfireX",
          "Metroid Dread",
          "Forza Horizon 5",
          "Psychonauts 2",
          "Ratchet & Clank: Rift Apart",
          "Death's Door",
          "Guardians of the Galaxy",
          "Unsighted",
          "Kena: Bridge of Spirits",
          "Returnal",
          "Ys IX: Monstrum Nox",
          "Deathloop",
          "Monster Hunter Rise",
          "Halo Infinite",
          "Loop Hero",
          "Wildermyth",
          "Hot Wheels Unleashed",
          "Tribes of Midgard",
          "Buck Up and Drive!",
          "Age of Empires IV",
          "Mini Motorways",
          "The Riftbreaker",
          "Mario Golf: Super Rush",
          "Boyfriend Dungeon",
          "Curse of the Dead Gods",
          "The Ascent",
          "Scarlet Nexus",
          "Back 4 Blood",
          "Destruction Allstars",
          "Dandy Ace",
          "F.I.S.T. Forged In Shadow Torch",
          "Cruis'n Blast",
          "Sunlight",
          "Hades",
          "The Last of Us Part II",
          "Ghost of Tsushima",
          "Final Fantasy VII Remake",
          "Demon's Souls (Remake)",
          "Ori and The Will of the Wisps",
          "Marvel's Spider-Man Miles Morales",
          "Astro's Playroom",
          "F1 2020",
          "Animal Crossing New Horizons",
          "Monster Sanctuary",
          "Spiritfarer",
          "Dirt 5",
          "Streets of Rage 4",
          "Deep Rock Galactic",
          "Immortals Fenyx Rising",
          "Sackboy: A Big Adventure",
          "WRC 9",
          "Crash Bandicoot 4: Its About Time",
          "Call of Duty Black Ops Cold War",
          "Dreams",
          "Bugsnax",
          "Hyrule Warriors Age of Calamity",
          "Star Wars Squadrons",
          "Journey to the Savage Planet",
          "Cyberpunk 2077",
          "Golf With Your Friends",
          "Fall Guys",
          "Darksburg",
          "Minecraft Dungeons",
          "Doom Eternal",
          "Embr",
          "Marvel's Avengers",
          "Star Wars Jedi Fallen Order",
          "A Short Hike",
          "Astral Chain",
          "Devil May Cry 5",
          "Gears 5",
          "F1 2019",
          "Borderlands 3",
          "Luigi's Mansion 3",
          "Apex Legends",
          "Concrete Genie",
          "Kingdom Hearts 3",
          "Ring Fit Adventure",
          "Sekiro Shadows Die Twice",
          "A Plague Tale: Innocence",
          "Trials Rising",
          "Risk of Rain 2",
          "Dirt Rally 2.0",
          "The Legend of Zelda: Link's Awakening",
          "Darksiders Genesis",
          "Cat Quest II",
          "Wargroove",
          "GreedFall",
          "Grid (2019)",
          "The Jackbox Party Pack 6",
          "Dicey Dungeons",
          "Pokemon Sword",
          "The Outer Worlds",
          "Outer Wilds",
          "Unrailed!",
          "Need For Speed Heat",
          "Control",
          "God of War (2018)",
          "Red Dead Redemption 2",
          "Astro Bot Rescue Mission",
          "Celeste",
          "Marvel's Spider-Man",
          "Forza Horizon 4",
          "Super Smash Bros. Ultimate",
          "Tetris Effect",
          "Dead Cells",
          "Crosscode",
          "F1 2018",
          "Overcooked 2",
          "Gris",
          "Call of Duty Black Ops 4",
          "Warhammer Vermentide 2",
          "Monster Hunter World",
          "Moss PSVR",
          "Pokemon Let's Go Pikachu",
          "Northgard",
          "Wreckfest",
          "Parkitect",
          "Far Cry 5",
          "Fifa 19",
          "Detroit Become Human",
          "Golf Peaks",
          "Dragon Quest XI",
          "Assassin's Creed Odyssey",
          "Sea of Thieves",
          "Mario Tennis Aces",
          "Surviving Mars",
          "Shadow of the Colossus (Remake)",
          "For The King",
          "The Crew 2",
          "Octopath Traveller",
          "Farming Simulator 2019",
          "The Legend of Zelda: Breath of the Wild",
          "Super Mario Odyssey",
          "Horizon Zero Dawn",
          "Hollow Knight",
          "Uncharted The Lost Legacy",
          "Ys VIII Lacrimosa of Dana",
          "Divinity Original Sin 2",
          "Persona 5",
          "F1 2017",
          "Golf Story",
          "Assassin's Creed Origins",
          "Mario + Rabbids Kingdom Battle",
          "Gran Turismo Sport",
          "Call of Duty WW2",
          "Pyre",
          "WipeOut Omega Collection",
          "Cat Quest",
          "Nex Machina",
          "Nioh",
          "Nier Automata",
          "Prey",
          "Luna",
          "Middle Earth: Shadow of War",
          "Doom VFR",
          "Uncharted 4 A Thief's End",
          "Forza Horizon 3",
          "Titanfall 2",
          "Civilization VI",
          "Pokemon Sun",
          "F1 2016",
          "Forza Motorsport 7",
          "Inside",
          "Overwatch",
          "Overcooked",
          "Stardew Valley",
          "Gears of War 4",
          "Trackmania Turbo",
          "Ratchet & Clank",
          "Call of Duty Infinite Warfare",
          "Doom (2016)",
          "Hearts of Iron IV",
          "Stellaris",
          "Ultimate Chicken Horse",
          "Battlefield 1",
          "Hyper Light Drifter",
          "Abzu",
          "Motorsport Manager",
          "Watch Dogs 2",
          "Clustertruck",
          "Kingdom New Lands",
          "Far Cry Primal",
          "Final Fantasy XV",
          "Worms W.M.D",
          "Dragon Quest Builders",
          "The Last Guardian",
          "Human Fall Flat",
          "Shoppe Keep",
          "VR Worlds",
          "Youtubers Life",
          "Bloodborne",
          "Undertale",
          "Rocket League",
          "Cities Skylines",
          "Rise of the Tomb Raider ",
          "Batman Arkham Knight",
          "OlliOlli 2: Welcome to Olliwood",
          "Halo 5: Guardians",
          "Assassin's Creed Syndicate",
          "Ori and The Blind Forest",
          "The Order 1886",
          "Call of Duty Black Ops III",
          "Prison Architect",
          "Crypt of the Necrodancer",
          "The Witcher 3",
          "Star Wars Battlefront",
          "Apotheon",
          "Just Cause 3",
          "Project Cars",
          "F1 2015",
          "Big Pharma",
          "Clicker Heroes",
          "Mario Kart 8",
          "Driveclub",
          "Dragon Age Inquisition",
          "Bayonetta 2",
          "Transistor",
          "Tales From the Borderlands",
          "Watch Dogs",
          "inFAMOUS Second Son",
          "Assassin's Creed Unity",
          "Far Cry 4",
          "Middle Earth Shadow of Mordor",
          "Call of Duty Advanced Warfare",
          "Pokemon Omega Ruby",
          "Trials Fusion",
          "Destiny",
          "Borderlands The Pre-Sequel",
          "Dungeon of the Endless",
          "Football Manager 2015",
          "Infamous First Light",
          "The Crew",
          "Assassin's Creed Rogue",
          "Velocity 2X",
          "Endless Legend",
          "Sportsfriends",
          "Grid Autosport",
          "Civilization Beyond Earth",
          "Banished",
          "Dead Nation: Apocalypse Edition",
          "Little Big Planet 3",
          "Pure Pool",
          "Game of Thrones Telltale",
          "The Last of Us",
          "Grand Theft Auto V",
          "Bioshock Infinite",
          "Rayman Legends",
          "Assassin's Creed IV Black Flag",
          "Super Mario 3D World",
          "Tearaway",
          "Europa Universalis IV",
          "Tomb Raider",
          "Resogun",
          "Fifa 14",
          "Path of Exile",
          "Pokemon Y",
          "Football Manager 2014",
          "Battlefield 4",
          "Guacamelee!",
          "Warframe",
          "Don't Starve",
          "Killzone Shadow Fall",
          "Assassin's Creed Freedom Cry",
          "War Thunder",
          "Lyne",
          "Democracy 3",
          "Contrast",
          "Fifa 14 Legacy Edition",
          "Mass Effect 3",
          "Guild Wars 2",
          "Diablo 3",
          "Borderlands 2",
          "Journey",
          "Pokemon Black 2",
          "Halo 4",
          "Football Manager 2013",
          "Call of Duty Black Ops II",
          "F1 2012",
          "Fifa 13",
          "Xenoblade Chronicles",
          "Torchlight 2",
          "XCOM: Enemy Unknown",
          "Spec Ops The Line",
          "Game Dev Tycoon",
          "Factorio",
          "New Super Mario Bros. 2",
          "Awesomenauts",
          "Sonic & All Stars Racing Transformed",
          "Warlock - Master of the Arcane",
          "Portal 2",
          "Uncharted 3 Drake's Deception",
          "Forza 4",
          "Minecraft",
          "Dragon Age 2",
          "Mario Kart 7",
          "Call of Duty Modern Warfare 3",
          "The Legend of Zelda: Skyward Sword",
          "Assassin's Creed Revelations",
          "Terraria",
          "F1 2011",
          "Fifa 12",
          "Football Manager 2012",
          "Uncharted Golden Abyss",
          "Batman Arkham City",
          "Skyrim",
          "DC Universe Online",
          "Super Mario Galaxy 2",
          "Mass Effect 2",
          "God of War 3",
          "Assassin's Creed Brotherhood",
          "Halo Reach",
          "Civilization V",
          "Call of Duty Black Ops",
          "Pokemon White",
          "Fifa 11",
          "Bioshock 2",
          "Ys Seven",
          "F1 2010",
          "Dragon Quest IX",
          "Heavy Rain",
          "Need for Speed Hot Pursuit",
          "2010 FIFA World Cup South Africa",
          "Bayonetta",
          "Uncharted 2 Among Thieves",
          "Call of Duty Modern Warfare 2",
          "Pokemon SoulSilver",
          "Batman Arkham Asylum",
          "Dragon Age Origins",
          "Football Manager 2010",
          "Torchlight",
          "Halo 3 ODST",
          "New Super Mario Bros. Wii",
          "F1 2009",
          "Mario & Sonic at the Winter Olympic Games",
          "Super Smash Bros. Brawl",
          "Mario Kart Wii",
          "Football Manager 2009",
          "Wii Fit",
          "Grand Theft Auto IV",
          "Pokemon Mystery Dunegon Explorers of Time",
          "Animal Crossing City Folk",
          "Mario & Sonic at the Olympic Games",
          "Burnout Paradise",
          "Super Mario Galaxy",
          "Bioshock",
          "Mass Effect",
          "Call of Duty Modern Warfare",
          "Halo 3",
          "Football Manager 2008",
          "Uncharted Drake's Fortune",
          "Team Fortress 2",
          "God of War II",
          "Wii Sports",
          "Mario Strikers Charged Football",
          "Mario Party 8",
          "Football Manager 2007",
          "Pokemon Diamond",
          "Gears of War",
          "Lego Star Wars II: The Original Trilogy",
          "Grand Theft Auto Vice City Stories",
          "Fifa 07",
          "Brain Training",
          "Fifa Street 2",
          "Buzz! Junior Jungle Party",
          "God of War (2005)",
          "Mario Kart DS",
          "Psychonauts",
          "Lego Star Wars: The Video Game",
          "Nintendogs",
          "Fifa 06 Game Boy Advance",
          "Grand Theft Auto San Andreas",
          "Halo 2",
          "Mario & Luigi Superstar Saga",
          "Star Wars: Knights of the Old Republic",
          "The Simpsons Hit & Run",
          "Finding Nemo",
          "Metroid Prime",
          "Rollercoaster Tycoon 2",
          "Halo Combat Evolved",
          "Metroid Fusion",
          "Final Fantasy X",
          "Crash Bandicoot The Wrath of Cortex",
          "Diablo 2",
          "Gran Turismo 2",
          "Crash Team Racing",
          "Rollercoaster Tycoon",
          "The Legend of Zelda: Ocarina of Time",
          "Crash Bandicoot 3: Warped",
          "Banjo-Kazooie",
          "Crash Bandicoot 2: Cortex Strikes Back",
          "Castlevania Symphony of the Night",
          "Super Mario 64",
          "Crash Bandicoot",
          "Donkey Kong Country 2: Diddy Kong's Quest",
          "Super Metroid",
          "Donkey Kong Country",
          "The Legend of Zelda: A Link to the Past",
          "Super Mario World",
          "Tetris"
         ],
         "legendgroup": "",
         "marker": {
          "color": "#636efa",
          "symbol": "circle"
         },
         "mode": "markers",
         "name": "",
         "orientation": "v",
         "showlegend": false,
         "type": "scatter",
         "x": [
          96,
          89,
          90,
          88,
          88,
          96,
          82,
          84,
          84,
          92,
          85,
          86,
          88,
          88,
          76,
          86,
          80,
          79,
          75,
          82,
          77,
          80,
          78,
          82,
          78,
          84,
          71,
          68,
          96,
          94,
          88,
          87,
          87,
          89,
          86,
          84,
          89,
          83,
          84,
          84,
          84,
          80,
          84,
          87,
          80,
          80,
          90,
          77,
          89,
          72,
          77,
          84,
          69,
          75,
          79,
          76,
          72,
          77,
          86,
          75,
          84,
          70,
          82,
          74,
          82,
          82,
          70,
          65,
          42,
          87,
          92,
          89,
          88,
          88,
          82,
          85,
          82,
          86,
          80,
          88,
          88,
          87,
          84,
          85,
          74,
          75,
          70,
          83,
          80,
          80,
          71,
          73,
          81,
          73,
          79,
          76,
          62,
          79,
          80,
          73,
          78,
          94,
          93,
          85,
          88,
          92,
          90,
          85,
          84,
          88,
          90,
          80,
          87,
          82,
          84,
          85,
          79,
          81,
          80,
          85,
          75,
          90,
          75,
          80,
          79,
          76,
          76,
          69,
          80,
          68,
          72,
          89,
          67,
          68,
          85,
          87,
          87,
          88,
          85,
          86,
          80,
          86,
          86,
          77,
          85,
          83,
          90,
          82,
          80,
          86,
          83,
          87,
          79,
          76,
          83,
          75,
          73,
          74,
          82,
          80,
          85,
          86,
          75,
          72,
          84,
          94,
          97,
          90,
          91,
          87,
          92,
          93,
          89,
          89,
          86,
          84,
          81,
          84,
          85,
          83,
          89,
          85,
          81,
          79,
          80,
          83,
          82,
          81,
          78,
          75,
          86,
          85,
          67,
          78,
          77,
          92,
          75,
          64,
          83,
          64,
          97,
          97,
          89,
          90,
          84,
          85,
          93,
          94,
          86,
          78,
          81,
          85,
          75,
          79,
          84,
          85,
          72,
          84,
          88,
          89,
          81,
          62,
          79,
          70,
          93,
          91,
          87,
          88,
          87,
          82,
          85,
          91,
          91,
          80,
          89,
          84,
          81,
          85,
          77,
          85,
          83,
          81,
          79,
          87,
          84,
          80,
          81,
          82,
          76,
          73,
          76,
          81,
          78,
          70,
          81,
          68,
          57,
          56,
          63,
          92,
          92,
          85,
          85,
          86,
          87,
          85,
          84,
          76,
          89,
          63,
          81,
          80,
          87,
          92,
          73,
          76,
          73,
          75,
          65,
          64,
          57,
          88,
          71,
          89,
          91,
          83,
          86,
          77,
          80,
          70,
          85,
          84,
          83,
          83,
          79,
          76,
          75,
          79,
          80,
          73,
          61,
          72,
          85,
          82,
          80,
          78,
          81,
          74,
          71,
          79,
          73,
          69,
          95,
          97,
          94,
          90,
          83,
          93,
          87,
          87,
          85,
          84,
          85,
          93,
          86,
          85,
          85,
          83,
          71,
          79,
          73,
          70,
          75,
          86,
          70,
          59,
          38,
          93,
          90,
          88,
          89,
          92,
          80,
          87,
          86,
          83,
          81,
          90,
          92,
          88,
          89,
          76,
          68,
          70,
          78,
          78,
          75,
          71,
          95,
          92,
          91,
          93,
          79,
          85,
          89,
          93,
          80,
          83,
          84,
          90,
          84,
          80,
          94,
          94,
          72,
          97,
          96,
          92,
          90,
          91,
          90,
          88,
          87,
          88,
          88,
          79,
          84,
          87,
          87,
          88,
          82,
          90,
          96,
          94,
          87,
          92,
          91,
          87,
          83,
          83,
          87,
          69,
          72,
          93,
          82,
          83,
          80,
          98,
          60,
          73,
          67,
          88,
          97,
          96,
          91,
          94,
          94,
          86,
          88,
          92,
          93,
          76,
          79,
          62,
          87,
          85,
          94,
          84,
          86,
          82,
          77,
          59,
          70,
          94,
          91,
          87,
          78,
          83,
          49,
          95,
          95,
          90,
          94,
          78,
          63,
          97,
          74,
          97,
          92,
          92,
          66,
          88,
          93,
          88,
          78,
          99,
          91,
          92,
          89,
          93,
          96,
          80,
          90,
          96,
          93,
          95,
          94,
          90
         ],
         "xaxis": "x",
         "y": [
          89.146504484827,
          84.07499286460518,
          88.89242695128951,
          77.81798807884968,
          79.56717277177358,
          86.1219761398819,
          69.32824047972815,
          82.97716060884648,
          72.62232732006419,
          86.64115927356045,
          72.75211412934152,
          76.64569835525583,
          79.04777264293364,
          77.28580663587945,
          69.56257974354219,
          72.23280906948992,
          71.69248484986701,
          65.32116835347335,
          67.53590332966576,
          71.89130039146119,
          71.4422786813684,
          71.35658090601578,
          68.39921560227742,
          66.46068017162395,
          66.11160361502573,
          73.52546478915053,
          61.62118191515117,
          55.273516064020555,
          87.99420755838594,
          92.3660148051639,
          90.211917124857,
          86.15688651537312,
          77.88966808319867,
          85.89305438457734,
          81.46267952255153,
          76.92004034747288,
          83.40085692819059,
          78.005842767525,
          80.58380761516673,
          79.22121918691084,
          77.24238287413175,
          72.72517384479454,
          72.85529091092053,
          78.51342144660146,
          71.52227970739966,
          67.91117857399058,
          81.50921559346693,
          69.76655584983678,
          80.6226390799468,
          66.99188780948691,
          68.5069861177875,
          73.63143327280306,
          61.48029645010331,
          65.96333805302243,
          69.22402311998235,
          64.5988747192041,
          60.49010077966466,
          67.09397522577467,
          75.35272360434692,
          62.258674641385596,
          77.15882711601898,
          65.3618255098205,
          72.05139916003259,
          64.0162209631311,
          69.94723193028096,
          70.0230850440629,
          60.07258578550375,
          52.87565463140561,
          35.52030154881015,
          85.39017298968679,
          87.1537655470687,
          82.87852678177626,
          86.58564431630032,
          81.65225654175003,
          74.74267756804522,
          73.41719365851316,
          79.48153903347918,
          82.99009988233979,
          74.21973871682826,
          76.86127476900117,
          79.66622343492782,
          79.12253044344902,
          73.66613918452128,
          77.01149346054933,
          65.23121239527075,
          64.9182686607594,
          60.24973712267911,
          72.54046841451827,
          70.8938423728273,
          69.87662660897229,
          65.79032600073629,
          62.46918863440192,
          69.05558870639959,
          64.5875169439804,
          69.48171051413965,
          64.25696100467087,
          53.587678106413705,
          66.76006278204693,
          70.49420098642133,
          64.21210144715212,
          67.23152248161068,
          89.14577437016044,
          91.10873956251748,
          85.6740922527739,
          84.07675198130028,
          87.68804256230317,
          84.95134116813506,
          83.66368390366347,
          81.53412138066494,
          82.25130216348384,
          88.4313581692179,
          73.49468356350246,
          81.82764824634035,
          79.83578401764532,
          73.82364674867051,
          79.44575582788002,
          70.59653243532046,
          76.0139951355925,
          69.08342868877344,
          78.0506976274371,
          67.52000331919226,
          81.50095172023691,
          68.58589944580058,
          77.93176983061892,
          70.63632693000307,
          65.75900896314113,
          66.09346316556537,
          61.924383238235464,
          71.22805615567484,
          58.37766111471103,
          63.57108742780963,
          75.22823064694887,
          57.00558985968996,
          52.0008713195524,
          85.07371371951058,
          75.83905634709754,
          79.74849316753682,
          80.99746517056917,
          81.34405292568044,
          80.53153421509978,
          73.92752544102552,
          78.0455296466182,
          81.79714619766276,
          72.9201943661152,
          74.72334642889018,
          75.28934241552349,
          79.69304968696702,
          74.54210386092643,
          77.39127433149656,
          78.67178780374434,
          75.59764015162921,
          82.05964222944806,
          67.8829059061037,
          69.50525600133915,
          74.55291317803778,
          65.62682470686639,
          66.35042220410003,
          64.24583129854773,
          72.37917159344761,
          77.26146804250618,
          71.86816645271801,
          73.39543584102046,
          63.77642413194246,
          61.9453136598072,
          76.98259580724903,
          92.55128044598439,
          89.64369598250107,
          85.90741166273688,
          85.35809405453529,
          90.59063165674468,
          89.86718940577157,
          89.04006504641598,
          81.50587457695053,
          81.46221534183167,
          79.28634109230029,
          78.81176626671561,
          76.25213230132135,
          76.32265353169498,
          79.06409273644931,
          73.64232099918706,
          82.78500354264497,
          75.0714632157102,
          78.59903293847799,
          69.42157258578857,
          68.55975260721027,
          76.53719409627081,
          76.88684636901087,
          73.25172240140512,
          70.46483623105644,
          63.52925131745826,
          76.8254488369131,
          78.836686288117,
          60.22377523618104,
          72.94304119897993,
          66.09856894692416,
          80.74347697794826,
          63.198087495238155,
          59.30609139168962,
          75.51023417192528,
          50.66026447985905,
          96.32815708120268,
          94.85444020654347,
          92.66200819436051,
          84.88027037868062,
          87.59872947776137,
          80.7605038389205,
          85.24946800334658,
          85.59454144817005,
          81.16844211080627,
          72.67453494941958,
          74.26445044382922,
          78.4407062025806,
          73.91998699248461,
          73.26026139753878,
          77.44593077171862,
          76.9086995349918,
          66.06572010457103,
          73.21519350835513,
          73.33844252618542,
          78.73556294735215,
          64.3495989601771,
          51.23744306920048,
          69.42942173368226,
          54.50333077633468,
          100.65845519236416,
          88.46241088508282,
          79.33244859156059,
          83.22955939974281,
          83.89930555154137,
          77.41045226618496,
          74.21731470155021,
          83.34765394957992,
          84.73648350081623,
          75.86992924890922,
          79.32514052403405,
          79.74644061870652,
          73.39868952914969,
          84.03203106061801,
          71.87584377102485,
          70.38045170933378,
          76.38017154194074,
          77.05990440442588,
          69.83116313866628,
          78.91779711990318,
          71.79426221615131,
          68.72549026295235,
          72.92921307115603,
          77.7367765410304,
          67.84396658422804,
          63.15050985867208,
          70.22642439025628,
          72.90861624504828,
          68.68105289496691,
          58.137340194918465,
          72.34161284538504,
          59.27502912310365,
          48.83551195736652,
          47.02791351879239,
          54.15244962871736,
          92.91264828024396,
          88.56585858223286,
          82.32895723312015,
          84.52646235481564,
          82.39541919585156,
          81.96134278458283,
          81.31225789533971,
          77.00724004472852,
          76.45486417895643,
          83.47934902272937,
          61.73981640823786,
          77.28952155330637,
          76.48037403202795,
          76.55773736491358,
          82.27350582505767,
          66.91074481165276,
          69.2604042813872,
          59.57341784104756,
          65.1246860098505,
          60.4040200960211,
          55.77645480791193,
          48.49266974436989,
          90.45213770144835,
          68.49755237505326,
          89.10853028425527,
          85.09485469035337,
          78.47986509660291,
          82.40067346065405,
          76.11118563504476,
          77.70857742450869,
          74.52385025752835,
          83.64371922763814,
          76.40759885054638,
          79.51812982804233,
          80.45976965477325,
          73.66314553739869,
          67.0115101294848,
          70.42424043969845,
          68.65299611038665,
          74.49864559455568,
          70.5748007876781,
          56.499998870469994,
          67.70457176715195,
          77.28936092059985,
          72.62512172140066,
          71.10607470057323,
          72.25304048808482,
          76.38766419306148,
          66.4049561510734,
          61.704594026116524,
          76.23424729694239,
          62.640627949183,
          56.06899052631945,
          100.81959092992406,
          95.5386721148144,
          91.45497962126205,
          86.40504097910332,
          81.0058726308855,
          92.64362404170504,
          80.69005615409412,
          84.81732512212852,
          84.89359011162628,
          77.12778441041337,
          79.43172366728436,
          87.12344245563133,
          83.83555644698242,
          79.40136654886373,
          80.6493363530966,
          77.35605413474593,
          64.72404549983355,
          69.63733304847074,
          69.08582871078329,
          65.71227936878961,
          67.29873684730057,
          73.77530281533802,
          62.67435448541062,
          49.48757698721158,
          31.88194548438173,
          90.9867628725749,
          85.73871127662517,
          85.41231947551273,
          84.23094405620111,
          81.61839008009918,
          77.5280569719854,
          79.99735926436767,
          81.25021917897413,
          81.6605940219415,
          79.04264583831741,
          83.747974802866,
          84.26525320598375,
          82.9507250357143,
          81.9739146762256,
          72.75887889929163,
          60.95458653702656,
          64.71796708192176,
          74.42529845492993,
          72.17945907340015,
          65.76495151555912,
          62.37014888457861,
          89.20182760798514,
          95.40595985685366,
          83.25221679952199,
          90.27943019050826,
          76.32428266057161,
          82.3949865346184,
          86.19090113583343,
          88.8051497015166,
          80.56544910348362,
          81.6719070756086,
          79.6766016498965,
          83.55514101658093,
          79.53045123059007,
          82.5592448603818,
          83.43409695014464,
          81.88314538108193,
          64.99307064389427,
          94.53782769372287,
          93.34646475296984,
          92.22961874516966,
          90.56372479838501,
          85.36391555600471,
          89.89645974182201,
          89.4191764527759,
          85.54158105772774,
          82.59136383754651,
          81.2482451367888,
          73.27686908280702,
          79.9950555977498,
          80.54028020481712,
          79.47177679565482,
          78.85608310981866,
          77.40965444993083,
          80.74762392869468,
          98.58246632229327,
          90.90563338374534,
          86.3713227397194,
          85.62031450524739,
          87.78826908110432,
          82.71340423651407,
          77.27666893626576,
          75.02315700918587,
          83.79789614986714,
          65.95635639738646,
          66.00062265598149,
          91.57859809567469,
          80.04954058627004,
          78.95541439189276,
          72.9101123202372,
          87.74847946196223,
          57.24800072260007,
          67.5633368087548,
          60.73720736248413,
          76.360890846693,
          94.9819018031443,
          93.03434402610526,
          87.20446356643504,
          88.81658165813701,
          88.34918969575494,
          82.33120118410193,
          89.73194777338301,
          85.10216131012339,
          89.17275349969577,
          70.322604570326,
          75.42995522809872,
          52.83159751754829,
          83.66876608007385,
          84.77717495290347,
          84.18201614270333,
          79.00074028000938,
          80.59121542912601,
          80.07721128038145,
          71.59736731341548,
          56.126371739514184,
          64.85883858148895,
          88.82191317904505,
          90.15192772951673,
          80.5914787659126,
          73.2045285391506,
          76.90641590458108,
          45.23269277854979,
          89.55893825264116,
          88.78979928501826,
          82.91024631895414,
          83.18345731985266,
          69.85236089288082,
          55.638762822884814,
          91.57352717206845,
          70.8617494862749,
          90.2223548170781,
          89.6146662112568,
          81.05242348173272,
          62.96270805234644,
          74.79242012481745,
          92.00933716114821,
          75.71557012340963,
          73.84840418575584,
          86.5314265167973,
          82.06996734618406,
          84.89693269624865,
          80.18994654877179,
          77.6619616276954,
          90.63018480799747,
          70.16211595291782,
          85.45021702016254,
          92.8525612338741,
          88.31471607823346,
          79.44965503232163,
          86.56768418352715,
          76.5522751292159
         ],
         "yaxis": "y"
        }
       ],
       "layout": {
        "legend": {
         "tracegroupgap": 0
        },
        "margin": {
         "t": 60
        },
        "template": {
         "data": {
          "bar": [
           {
            "error_x": {
             "color": "#2a3f5f"
            },
            "error_y": {
             "color": "#2a3f5f"
            },
            "marker": {
             "line": {
              "color": "#E5ECF6",
              "width": 0.5
             },
             "pattern": {
              "fillmode": "overlay",
              "size": 10,
              "solidity": 0.2
             }
            },
            "type": "bar"
           }
          ],
          "barpolar": [
           {
            "marker": {
             "line": {
              "color": "#E5ECF6",
              "width": 0.5
             },
             "pattern": {
              "fillmode": "overlay",
              "size": 10,
              "solidity": 0.2
             }
            },
            "type": "barpolar"
           }
          ],
          "carpet": [
           {
            "aaxis": {
             "endlinecolor": "#2a3f5f",
             "gridcolor": "white",
             "linecolor": "white",
             "minorgridcolor": "white",
             "startlinecolor": "#2a3f5f"
            },
            "baxis": {
             "endlinecolor": "#2a3f5f",
             "gridcolor": "white",
             "linecolor": "white",
             "minorgridcolor": "white",
             "startlinecolor": "#2a3f5f"
            },
            "type": "carpet"
           }
          ],
          "choropleth": [
           {
            "colorbar": {
             "outlinewidth": 0,
             "ticks": ""
            },
            "type": "choropleth"
           }
          ],
          "contour": [
           {
            "colorbar": {
             "outlinewidth": 0,
             "ticks": ""
            },
            "colorscale": [
             [
              0,
              "#0d0887"
             ],
             [
              0.1111111111111111,
              "#46039f"
             ],
             [
              0.2222222222222222,
              "#7201a8"
             ],
             [
              0.3333333333333333,
              "#9c179e"
             ],
             [
              0.4444444444444444,
              "#bd3786"
             ],
             [
              0.5555555555555556,
              "#d8576b"
             ],
             [
              0.6666666666666666,
              "#ed7953"
             ],
             [
              0.7777777777777778,
              "#fb9f3a"
             ],
             [
              0.8888888888888888,
              "#fdca26"
             ],
             [
              1,
              "#f0f921"
             ]
            ],
            "type": "contour"
           }
          ],
          "contourcarpet": [
           {
            "colorbar": {
             "outlinewidth": 0,
             "ticks": ""
            },
            "type": "contourcarpet"
           }
          ],
          "heatmap": [
           {
            "colorbar": {
             "outlinewidth": 0,
             "ticks": ""
            },
            "colorscale": [
             [
              0,
              "#0d0887"
             ],
             [
              0.1111111111111111,
              "#46039f"
             ],
             [
              0.2222222222222222,
              "#7201a8"
             ],
             [
              0.3333333333333333,
              "#9c179e"
             ],
             [
              0.4444444444444444,
              "#bd3786"
             ],
             [
              0.5555555555555556,
              "#d8576b"
             ],
             [
              0.6666666666666666,
              "#ed7953"
             ],
             [
              0.7777777777777778,
              "#fb9f3a"
             ],
             [
              0.8888888888888888,
              "#fdca26"
             ],
             [
              1,
              "#f0f921"
             ]
            ],
            "type": "heatmap"
           }
          ],
          "heatmapgl": [
           {
            "colorbar": {
             "outlinewidth": 0,
             "ticks": ""
            },
            "colorscale": [
             [
              0,
              "#0d0887"
             ],
             [
              0.1111111111111111,
              "#46039f"
             ],
             [
              0.2222222222222222,
              "#7201a8"
             ],
             [
              0.3333333333333333,
              "#9c179e"
             ],
             [
              0.4444444444444444,
              "#bd3786"
             ],
             [
              0.5555555555555556,
              "#d8576b"
             ],
             [
              0.6666666666666666,
              "#ed7953"
             ],
             [
              0.7777777777777778,
              "#fb9f3a"
             ],
             [
              0.8888888888888888,
              "#fdca26"
             ],
             [
              1,
              "#f0f921"
             ]
            ],
            "type": "heatmapgl"
           }
          ],
          "histogram": [
           {
            "marker": {
             "pattern": {
              "fillmode": "overlay",
              "size": 10,
              "solidity": 0.2
             }
            },
            "type": "histogram"
           }
          ],
          "histogram2d": [
           {
            "colorbar": {
             "outlinewidth": 0,
             "ticks": ""
            },
            "colorscale": [
             [
              0,
              "#0d0887"
             ],
             [
              0.1111111111111111,
              "#46039f"
             ],
             [
              0.2222222222222222,
              "#7201a8"
             ],
             [
              0.3333333333333333,
              "#9c179e"
             ],
             [
              0.4444444444444444,
              "#bd3786"
             ],
             [
              0.5555555555555556,
              "#d8576b"
             ],
             [
              0.6666666666666666,
              "#ed7953"
             ],
             [
              0.7777777777777778,
              "#fb9f3a"
             ],
             [
              0.8888888888888888,
              "#fdca26"
             ],
             [
              1,
              "#f0f921"
             ]
            ],
            "type": "histogram2d"
           }
          ],
          "histogram2dcontour": [
           {
            "colorbar": {
             "outlinewidth": 0,
             "ticks": ""
            },
            "colorscale": [
             [
              0,
              "#0d0887"
             ],
             [
              0.1111111111111111,
              "#46039f"
             ],
             [
              0.2222222222222222,
              "#7201a8"
             ],
             [
              0.3333333333333333,
              "#9c179e"
             ],
             [
              0.4444444444444444,
              "#bd3786"
             ],
             [
              0.5555555555555556,
              "#d8576b"
             ],
             [
              0.6666666666666666,
              "#ed7953"
             ],
             [
              0.7777777777777778,
              "#fb9f3a"
             ],
             [
              0.8888888888888888,
              "#fdca26"
             ],
             [
              1,
              "#f0f921"
             ]
            ],
            "type": "histogram2dcontour"
           }
          ],
          "mesh3d": [
           {
            "colorbar": {
             "outlinewidth": 0,
             "ticks": ""
            },
            "type": "mesh3d"
           }
          ],
          "parcoords": [
           {
            "line": {
             "colorbar": {
              "outlinewidth": 0,
              "ticks": ""
             }
            },
            "type": "parcoords"
           }
          ],
          "pie": [
           {
            "automargin": true,
            "type": "pie"
           }
          ],
          "scatter": [
           {
            "fillpattern": {
             "fillmode": "overlay",
             "size": 10,
             "solidity": 0.2
            },
            "type": "scatter"
           }
          ],
          "scatter3d": [
           {
            "line": {
             "colorbar": {
              "outlinewidth": 0,
              "ticks": ""
             }
            },
            "marker": {
             "colorbar": {
              "outlinewidth": 0,
              "ticks": ""
             }
            },
            "type": "scatter3d"
           }
          ],
          "scattercarpet": [
           {
            "marker": {
             "colorbar": {
              "outlinewidth": 0,
              "ticks": ""
             }
            },
            "type": "scattercarpet"
           }
          ],
          "scattergeo": [
           {
            "marker": {
             "colorbar": {
              "outlinewidth": 0,
              "ticks": ""
             }
            },
            "type": "scattergeo"
           }
          ],
          "scattergl": [
           {
            "marker": {
             "colorbar": {
              "outlinewidth": 0,
              "ticks": ""
             }
            },
            "type": "scattergl"
           }
          ],
          "scattermapbox": [
           {
            "marker": {
             "colorbar": {
              "outlinewidth": 0,
              "ticks": ""
             }
            },
            "type": "scattermapbox"
           }
          ],
          "scatterpolar": [
           {
            "marker": {
             "colorbar": {
              "outlinewidth": 0,
              "ticks": ""
             }
            },
            "type": "scatterpolar"
           }
          ],
          "scatterpolargl": [
           {
            "marker": {
             "colorbar": {
              "outlinewidth": 0,
              "ticks": ""
             }
            },
            "type": "scatterpolargl"
           }
          ],
          "scatterternary": [
           {
            "marker": {
             "colorbar": {
              "outlinewidth": 0,
              "ticks": ""
             }
            },
            "type": "scatterternary"
           }
          ],
          "surface": [
           {
            "colorbar": {
             "outlinewidth": 0,
             "ticks": ""
            },
            "colorscale": [
             [
              0,
              "#0d0887"
             ],
             [
              0.1111111111111111,
              "#46039f"
             ],
             [
              0.2222222222222222,
              "#7201a8"
             ],
             [
              0.3333333333333333,
              "#9c179e"
             ],
             [
              0.4444444444444444,
              "#bd3786"
             ],
             [
              0.5555555555555556,
              "#d8576b"
             ],
             [
              0.6666666666666666,
              "#ed7953"
             ],
             [
              0.7777777777777778,
              "#fb9f3a"
             ],
             [
              0.8888888888888888,
              "#fdca26"
             ],
             [
              1,
              "#f0f921"
             ]
            ],
            "type": "surface"
           }
          ],
          "table": [
           {
            "cells": {
             "fill": {
              "color": "#EBF0F8"
             },
             "line": {
              "color": "white"
             }
            },
            "header": {
             "fill": {
              "color": "#C8D4E3"
             },
             "line": {
              "color": "white"
             }
            },
            "type": "table"
           }
          ]
         },
         "layout": {
          "annotationdefaults": {
           "arrowcolor": "#2a3f5f",
           "arrowhead": 0,
           "arrowwidth": 1
          },
          "autotypenumbers": "strict",
          "coloraxis": {
           "colorbar": {
            "outlinewidth": 0,
            "ticks": ""
           }
          },
          "colorscale": {
           "diverging": [
            [
             0,
             "#8e0152"
            ],
            [
             0.1,
             "#c51b7d"
            ],
            [
             0.2,
             "#de77ae"
            ],
            [
             0.3,
             "#f1b6da"
            ],
            [
             0.4,
             "#fde0ef"
            ],
            [
             0.5,
             "#f7f7f7"
            ],
            [
             0.6,
             "#e6f5d0"
            ],
            [
             0.7,
             "#b8e186"
            ],
            [
             0.8,
             "#7fbc41"
            ],
            [
             0.9,
             "#4d9221"
            ],
            [
             1,
             "#276419"
            ]
           ],
           "sequential": [
            [
             0,
             "#0d0887"
            ],
            [
             0.1111111111111111,
             "#46039f"
            ],
            [
             0.2222222222222222,
             "#7201a8"
            ],
            [
             0.3333333333333333,
             "#9c179e"
            ],
            [
             0.4444444444444444,
             "#bd3786"
            ],
            [
             0.5555555555555556,
             "#d8576b"
            ],
            [
             0.6666666666666666,
             "#ed7953"
            ],
            [
             0.7777777777777778,
             "#fb9f3a"
            ],
            [
             0.8888888888888888,
             "#fdca26"
            ],
            [
             1,
             "#f0f921"
            ]
           ],
           "sequentialminus": [
            [
             0,
             "#0d0887"
            ],
            [
             0.1111111111111111,
             "#46039f"
            ],
            [
             0.2222222222222222,
             "#7201a8"
            ],
            [
             0.3333333333333333,
             "#9c179e"
            ],
            [
             0.4444444444444444,
             "#bd3786"
            ],
            [
             0.5555555555555556,
             "#d8576b"
            ],
            [
             0.6666666666666666,
             "#ed7953"
            ],
            [
             0.7777777777777778,
             "#fb9f3a"
            ],
            [
             0.8888888888888888,
             "#fdca26"
            ],
            [
             1,
             "#f0f921"
            ]
           ]
          },
          "colorway": [
           "#636efa",
           "#EF553B",
           "#00cc96",
           "#ab63fa",
           "#FFA15A",
           "#19d3f3",
           "#FF6692",
           "#B6E880",
           "#FF97FF",
           "#FECB52"
          ],
          "font": {
           "color": "#2a3f5f"
          },
          "geo": {
           "bgcolor": "white",
           "lakecolor": "white",
           "landcolor": "#E5ECF6",
           "showlakes": true,
           "showland": true,
           "subunitcolor": "white"
          },
          "hoverlabel": {
           "align": "left"
          },
          "hovermode": "closest",
          "mapbox": {
           "style": "light"
          },
          "paper_bgcolor": "white",
          "plot_bgcolor": "#E5ECF6",
          "polar": {
           "angularaxis": {
            "gridcolor": "white",
            "linecolor": "white",
            "ticks": ""
           },
           "bgcolor": "#E5ECF6",
           "radialaxis": {
            "gridcolor": "white",
            "linecolor": "white",
            "ticks": ""
           }
          },
          "scene": {
           "xaxis": {
            "backgroundcolor": "#E5ECF6",
            "gridcolor": "white",
            "gridwidth": 2,
            "linecolor": "white",
            "showbackground": true,
            "ticks": "",
            "zerolinecolor": "white"
           },
           "yaxis": {
            "backgroundcolor": "#E5ECF6",
            "gridcolor": "white",
            "gridwidth": 2,
            "linecolor": "white",
            "showbackground": true,
            "ticks": "",
            "zerolinecolor": "white"
           },
           "zaxis": {
            "backgroundcolor": "#E5ECF6",
            "gridcolor": "white",
            "gridwidth": 2,
            "linecolor": "white",
            "showbackground": true,
            "ticks": "",
            "zerolinecolor": "white"
           }
          },
          "shapedefaults": {
           "line": {
            "color": "#2a3f5f"
           }
          },
          "ternary": {
           "aaxis": {
            "gridcolor": "white",
            "linecolor": "white",
            "ticks": ""
           },
           "baxis": {
            "gridcolor": "white",
            "linecolor": "white",
            "ticks": ""
           },
           "bgcolor": "#E5ECF6",
           "caxis": {
            "gridcolor": "white",
            "linecolor": "white",
            "ticks": ""
           }
          },
          "title": {
           "x": 0.05
          },
          "xaxis": {
           "automargin": true,
           "gridcolor": "white",
           "linecolor": "white",
           "ticks": "",
           "title": {
            "standoff": 15
           },
           "zerolinecolor": "white",
           "zerolinewidth": 2
          },
          "yaxis": {
           "automargin": true,
           "gridcolor": "white",
           "linecolor": "white",
           "ticks": "",
           "title": {
            "standoff": 15
           },
           "zerolinecolor": "white",
           "zerolinewidth": 2
          }
         }
        },
        "xaxis": {
         "anchor": "y",
         "domain": [
          0,
          1
         ],
         "title": {
          "text": "Review avg"
         }
        },
        "yaxis": {
         "anchor": "x",
         "domain": [
          0,
          1
         ],
         "title": {
          "text": "Predicted Rating"
         }
        }
       }
      },
      "text/html": [
       "<div>                            <div id=\"e212dbbe-c066-40f3-9d12-28f9982a0d91\" class=\"plotly-graph-div\" style=\"height:525px; width:100%;\"></div>            <script type=\"text/javascript\">                require([\"plotly\"], function(Plotly) {                    window.PLOTLYENV=window.PLOTLYENV || {};                                    if (document.getElementById(\"e212dbbe-c066-40f3-9d12-28f9982a0d91\")) {                    Plotly.newPlot(                        \"e212dbbe-c066-40f3-9d12-28f9982a0d91\",                        [{\"hovertemplate\":\"<b>%{hovertext}</b><br><br>Review avg=%{x}<br>Predicted Rating=%{y}<extra></extra>\",\"hovertext\":[\"The Legend of Zelda: Tears of the Kingdom\",\"Hi-Fi Rush\",\"Marvel's Spider-Man 2\",\"Cocoon\",\"Final Fantasy XVI\",\"Baldur's Gate 3\",\"Lies of P\",\"Star Wars Jedi Survivor\",\"Aces and Adventures\",\"Super Mario Bros. Wonder\",\"Armored Core VI: Fires of Rubicon\",\"Cassette Beasts\",\"Pikmin 4\",\"Diablo 4\",\"The Crew Motorfest\",\"Starfield\",\"F-Zero 99\",\"Wild Hearts\",\"Cities Skylines 2\",\"Jusant\",\"Assassin's Creed Mirage\",\"Counter-Strike 2\",\"20 Minutes Till Dawn\",\"Wo Long Fallen Dynasty\",\"Tchia\",\"Forza Motorsport (2023)\",\"Minecraft Legends\",\"Exoprimal\",\"Elden Ring\",\"God of War Ragnar\\u00f6k\",\"Horizon Forbidden West\",\"Gran Turismo 7\",\"Vampire Survivors\",\"Rogue Legacy 2\",\"OlliOlli World\",\"Stray\",\"Neon White\",\"Splatoon 3\",\"Citizen Sleeper\",\"Pokemon Legends Arceus\",\"Kirby and the Forgotten Land\",\"PlateUp!\",\"Two Point Campus\",\"Teenage Mutant Ninja Turtles: Shredder's Revenge\",\"Rollerdrome\",\"Nobody Saves The World\",\"Chained Echoes\",\"Overwatch 2\",\"Freshly Frosted\",\"Pokemon Violet\",\"Ghostwire Tokyo\",\"Cult of the Lamb\",\"High on Life\",\"Grid Legends\",\"Warpips\",\"TemTem\",\"Trek to Yomi\",\"Windjammers 2\",\"Tunic\",\"Need for Speed Unbound\",\"A Plague Tale: Requiem\",\"You Suck At Parking\",\"Lego Star Wars The Skywalker Saga\",\"Arcadeggedon\",\"Spacelines from the Far Out\",\"Lost Ark\",\"Golfie\",\"Diablo Immortal\",\"CrossfireX\",\"Metroid Dread\",\"Forza Horizon 5\",\"Psychonauts 2\",\"Ratchet & Clank: Rift Apart\",\"Death's Door\",\"Guardians of the Galaxy\",\"Unsighted\",\"Kena: Bridge of Spirits\",\"Returnal\",\"Ys IX: Monstrum Nox\",\"Deathloop\",\"Monster Hunter Rise\",\"Halo Infinite\",\"Loop Hero\",\"Wildermyth\",\"Hot Wheels Unleashed\",\"Tribes of Midgard\",\"Buck Up and Drive!\",\"Age of Empires IV\",\"Mini Motorways\",\"The Riftbreaker\",\"Mario Golf: Super Rush\",\"Boyfriend Dungeon\",\"Curse of the Dead Gods\",\"The Ascent\",\"Scarlet Nexus\",\"Back 4 Blood\",\"Destruction Allstars\",\"Dandy Ace\",\"F.I.S.T. Forged In Shadow Torch\",\"Cruis'n Blast\",\"Sunlight\",\"Hades\",\"The Last of Us Part II\",\"Ghost of Tsushima\",\"Final Fantasy VII Remake\",\"Demon's Souls (Remake)\",\"Ori and The Will of the Wisps\",\"Marvel's Spider-Man Miles Morales\",\"Astro's Playroom\",\"F1 2020\",\"Animal Crossing New Horizons\",\"Monster Sanctuary\",\"Spiritfarer\",\"Dirt 5\",\"Streets of Rage 4\",\"Deep Rock Galactic\",\"Immortals Fenyx Rising\",\"Sackboy: A Big Adventure\",\"WRC 9\",\"Crash Bandicoot 4: Its About Time\",\"Call of Duty Black Ops Cold War\",\"Dreams\",\"Bugsnax\",\"Hyrule Warriors Age of Calamity\",\"Star Wars Squadrons\",\"Journey to the Savage Planet\",\"Cyberpunk 2077\",\"Golf With Your Friends\",\"Fall Guys\",\"Darksburg\",\"Minecraft Dungeons\",\"Doom Eternal\",\"Embr\",\"Marvel's Avengers\",\"Star Wars Jedi Fallen Order\",\"A Short Hike\",\"Astral Chain\",\"Devil May Cry 5\",\"Gears 5\",\"F1 2019\",\"Borderlands 3\",\"Luigi's Mansion 3\",\"Apex Legends\",\"Concrete Genie\",\"Kingdom Hearts 3\",\"Ring Fit Adventure\",\"Sekiro Shadows Die Twice\",\"A Plague Tale: Innocence\",\"Trials Rising\",\"Risk of Rain 2\",\"Dirt Rally 2.0\",\"The Legend of Zelda: Link's Awakening\",\"Darksiders Genesis\",\"Cat Quest II\",\"Wargroove\",\"GreedFall\",\"Grid (2019)\",\"The Jackbox Party Pack 6\",\"Dicey Dungeons\",\"Pokemon Sword\",\"The Outer Worlds\",\"Outer Wilds\",\"Unrailed!\",\"Need For Speed Heat\",\"Control\",\"God of War (2018)\",\"Red Dead Redemption 2\",\"Astro Bot Rescue Mission\",\"Celeste\",\"Marvel's Spider-Man\",\"Forza Horizon 4\",\"Super Smash Bros. Ultimate\",\"Tetris Effect\",\"Dead Cells\",\"Crosscode\",\"F1 2018\",\"Overcooked 2\",\"Gris\",\"Call of Duty Black Ops 4\",\"Warhammer Vermentide 2\",\"Monster Hunter World\",\"Moss PSVR\",\"Pokemon Let's Go Pikachu\",\"Northgard\",\"Wreckfest\",\"Parkitect\",\"Far Cry 5\",\"Fifa 19\",\"Detroit Become Human\",\"Golf Peaks\",\"Dragon Quest XI\",\"Assassin's Creed Odyssey\",\"Sea of Thieves\",\"Mario Tennis Aces\",\"Surviving Mars\",\"Shadow of the Colossus (Remake)\",\"For The King\",\"The Crew 2\",\"Octopath Traveller\",\"Farming Simulator 2019\",\"The Legend of Zelda: Breath of the Wild\",\"Super Mario Odyssey\",\"Horizon Zero Dawn\",\"Hollow Knight\",\"Uncharted The Lost Legacy\",\"Ys VIII Lacrimosa of Dana\",\"Divinity Original Sin 2\",\"Persona 5\",\"F1 2017\",\"Golf Story\",\"Assassin's Creed Origins\",\"Mario + Rabbids Kingdom Battle\",\"Gran Turismo Sport\",\"Call of Duty WW2\",\"Pyre\",\"WipeOut Omega Collection\",\"Cat Quest\",\"Nex Machina\",\"Nioh\",\"Nier Automata\",\"Prey\",\"Luna\",\"Middle Earth: Shadow of War\",\"Doom VFR\",\"Uncharted 4 A Thief's End\",\"Forza Horizon 3\",\"Titanfall 2\",\"Civilization VI\",\"Pokemon Sun\",\"F1 2016\",\"Forza Motorsport 7\",\"Inside\",\"Overwatch\",\"Overcooked\",\"Stardew Valley\",\"Gears of War 4\",\"Trackmania Turbo\",\"Ratchet & Clank\",\"Call of Duty Infinite Warfare\",\"Doom (2016)\",\"Hearts of Iron IV\",\"Stellaris\",\"Ultimate Chicken Horse\",\"Battlefield 1\",\"Hyper Light Drifter\",\"Abzu\",\"Motorsport Manager\",\"Watch Dogs 2\",\"Clustertruck\",\"Kingdom New Lands\",\"Far Cry Primal\",\"Final Fantasy XV\",\"Worms W.M.D\",\"Dragon Quest Builders\",\"The Last Guardian\",\"Human Fall Flat\",\"Shoppe Keep\",\"VR Worlds\",\"Youtubers Life\",\"Bloodborne\",\"Undertale\",\"Rocket League\",\"Cities Skylines\",\"Rise of the Tomb Raider \",\"Batman Arkham Knight\",\"OlliOlli 2: Welcome to Olliwood\",\"Halo 5: Guardians\",\"Assassin's Creed Syndicate\",\"Ori and The Blind Forest\",\"The Order 1886\",\"Call of Duty Black Ops III\",\"Prison Architect\",\"Crypt of the Necrodancer\",\"The Witcher 3\",\"Star Wars Battlefront\",\"Apotheon\",\"Just Cause 3\",\"Project Cars\",\"F1 2015\",\"Big Pharma\",\"Clicker Heroes\",\"Mario Kart 8\",\"Driveclub\",\"Dragon Age Inquisition\",\"Bayonetta 2\",\"Transistor\",\"Tales From the Borderlands\",\"Watch Dogs\",\"inFAMOUS Second Son\",\"Assassin's Creed Unity\",\"Far Cry 4\",\"Middle Earth Shadow of Mordor\",\"Call of Duty Advanced Warfare\",\"Pokemon Omega Ruby\",\"Trials Fusion\",\"Destiny\",\"Borderlands The Pre-Sequel\",\"Dungeon of the Endless\",\"Football Manager 2015\",\"Infamous First Light\",\"The Crew\",\"Assassin's Creed Rogue\",\"Velocity 2X\",\"Endless Legend\",\"Sportsfriends\",\"Grid Autosport\",\"Civilization Beyond Earth\",\"Banished\",\"Dead Nation: Apocalypse Edition\",\"Little Big Planet 3\",\"Pure Pool\",\"Game of Thrones Telltale\",\"The Last of Us\",\"Grand Theft Auto V\",\"Bioshock Infinite\",\"Rayman Legends\",\"Assassin's Creed IV Black Flag\",\"Super Mario 3D World\",\"Tearaway\",\"Europa Universalis IV\",\"Tomb Raider\",\"Resogun\",\"Fifa 14\",\"Path of Exile\",\"Pokemon Y\",\"Football Manager 2014\",\"Battlefield 4\",\"Guacamelee!\",\"Warframe\",\"Don't Starve\",\"Killzone Shadow Fall\",\"Assassin's Creed Freedom Cry\",\"War Thunder\",\"Lyne\",\"Democracy 3\",\"Contrast\",\"Fifa 14 Legacy Edition\",\"Mass Effect 3\",\"Guild Wars 2\",\"Diablo 3\",\"Borderlands 2\",\"Journey\",\"Pokemon Black 2\",\"Halo 4\",\"Football Manager 2013\",\"Call of Duty Black Ops II\",\"F1 2012\",\"Fifa 13\",\"Xenoblade Chronicles\",\"Torchlight 2\",\"XCOM: Enemy Unknown\",\"Spec Ops The Line\",\"Game Dev Tycoon\",\"Factorio\",\"New Super Mario Bros. 2\",\"Awesomenauts\",\"Sonic & All Stars Racing Transformed\",\"Warlock - Master of the Arcane\",\"Portal 2\",\"Uncharted 3 Drake's Deception\",\"Forza 4\",\"Minecraft\",\"Dragon Age 2\",\"Mario Kart 7\",\"Call of Duty Modern Warfare 3\",\"The Legend of Zelda: Skyward Sword\",\"Assassin's Creed Revelations\",\"Terraria\",\"F1 2011\",\"Fifa 12\",\"Football Manager 2012\",\"Uncharted Golden Abyss\",\"Batman Arkham City\",\"Skyrim\",\"DC Universe Online\",\"Super Mario Galaxy 2\",\"Mass Effect 2\",\"God of War 3\",\"Assassin's Creed Brotherhood\",\"Halo Reach\",\"Civilization V\",\"Call of Duty Black Ops\",\"Pokemon White\",\"Fifa 11\",\"Bioshock 2\",\"Ys Seven\",\"F1 2010\",\"Dragon Quest IX\",\"Heavy Rain\",\"Need for Speed Hot Pursuit\",\"2010 FIFA World Cup South Africa\",\"Bayonetta\",\"Uncharted 2 Among Thieves\",\"Call of Duty Modern Warfare 2\",\"Pokemon SoulSilver\",\"Batman Arkham Asylum\",\"Dragon Age Origins\",\"Football Manager 2010\",\"Torchlight\",\"Halo 3 ODST\",\"New Super Mario Bros. Wii\",\"F1 2009\",\"Mario & Sonic at the Winter Olympic Games\",\"Super Smash Bros. Brawl\",\"Mario Kart Wii\",\"Football Manager 2009\",\"Wii Fit\",\"Grand Theft Auto IV\",\"Pokemon Mystery Dunegon Explorers of Time\",\"Animal Crossing City Folk\",\"Mario & Sonic at the Olympic Games\",\"Burnout Paradise\",\"Super Mario Galaxy\",\"Bioshock\",\"Mass Effect\",\"Call of Duty Modern Warfare\",\"Halo 3\",\"Football Manager 2008\",\"Uncharted Drake's Fortune\",\"Team Fortress 2\",\"God of War II\",\"Wii Sports\",\"Mario Strikers Charged Football\",\"Mario Party 8\",\"Football Manager 2007\",\"Pokemon Diamond\",\"Gears of War\",\"Lego Star Wars II: The Original Trilogy\",\"Grand Theft Auto Vice City Stories\",\"Fifa 07\",\"Brain Training\",\"Fifa Street 2\",\"Buzz! Junior Jungle Party\",\"God of War (2005)\",\"Mario Kart DS\",\"Psychonauts\",\"Lego Star Wars: The Video Game\",\"Nintendogs\",\"Fifa 06 Game Boy Advance\",\"Grand Theft Auto San Andreas\",\"Halo 2\",\"Mario & Luigi Superstar Saga\",\"Star Wars: Knights of the Old Republic\",\"The Simpsons Hit & Run\",\"Finding Nemo\",\"Metroid Prime\",\"Rollercoaster Tycoon 2\",\"Halo Combat Evolved\",\"Metroid Fusion\",\"Final Fantasy X\",\"Crash Bandicoot The Wrath of Cortex\",\"Diablo 2\",\"Gran Turismo 2\",\"Crash Team Racing\",\"Rollercoaster Tycoon\",\"The Legend of Zelda: Ocarina of Time\",\"Crash Bandicoot 3: Warped\",\"Banjo-Kazooie\",\"Crash Bandicoot 2: Cortex Strikes Back\",\"Castlevania Symphony of the Night\",\"Super Mario 64\",\"Crash Bandicoot\",\"Donkey Kong Country 2: Diddy Kong's Quest\",\"Super Metroid\",\"Donkey Kong Country\",\"The Legend of Zelda: A Link to the Past\",\"Super Mario World\",\"Tetris\"],\"legendgroup\":\"\",\"marker\":{\"color\":\"#636efa\",\"symbol\":\"circle\"},\"mode\":\"markers\",\"name\":\"\",\"orientation\":\"v\",\"showlegend\":false,\"x\":[96,89,90,88,88,96,82,84,84,92,85,86,88,88,76,86,80,79,75,82,77,80,78,82,78,84,71,68,96,94,88,87,87,89,86,84,89,83,84,84,84,80,84,87,80,80,90,77,89,72,77,84,69,75,79,76,72,77,86,75,84,70,82,74,82,82,70,65,42,87,92,89,88,88,82,85,82,86,80,88,88,87,84,85,74,75,70,83,80,80,71,73,81,73,79,76,62,79,80,73,78,94,93,85,88,92,90,85,84,88,90,80,87,82,84,85,79,81,80,85,75,90,75,80,79,76,76,69,80,68,72,89,67,68,85,87,87,88,85,86,80,86,86,77,85,83,90,82,80,86,83,87,79,76,83,75,73,74,82,80,85,86,75,72,84,94,97,90,91,87,92,93,89,89,86,84,81,84,85,83,89,85,81,79,80,83,82,81,78,75,86,85,67,78,77,92,75,64,83,64,97,97,89,90,84,85,93,94,86,78,81,85,75,79,84,85,72,84,88,89,81,62,79,70,93,91,87,88,87,82,85,91,91,80,89,84,81,85,77,85,83,81,79,87,84,80,81,82,76,73,76,81,78,70,81,68,57,56,63,92,92,85,85,86,87,85,84,76,89,63,81,80,87,92,73,76,73,75,65,64,57,88,71,89,91,83,86,77,80,70,85,84,83,83,79,76,75,79,80,73,61,72,85,82,80,78,81,74,71,79,73,69,95,97,94,90,83,93,87,87,85,84,85,93,86,85,85,83,71,79,73,70,75,86,70,59,38,93,90,88,89,92,80,87,86,83,81,90,92,88,89,76,68,70,78,78,75,71,95,92,91,93,79,85,89,93,80,83,84,90,84,80,94,94,72,97,96,92,90,91,90,88,87,88,88,79,84,87,87,88,82,90,96,94,87,92,91,87,83,83,87,69,72,93,82,83,80,98,60,73,67,88,97,96,91,94,94,86,88,92,93,76,79,62,87,85,94,84,86,82,77,59,70,94,91,87,78,83,49,95,95,90,94,78,63,97,74,97,92,92,66,88,93,88,78,99,91,92,89,93,96,80,90,96,93,95,94,90],\"xaxis\":\"x\",\"y\":[89.146504484827,84.07499286460518,88.89242695128951,77.81798807884968,79.56717277177358,86.1219761398819,69.32824047972815,82.97716060884648,72.62232732006419,86.64115927356045,72.75211412934152,76.64569835525583,79.04777264293364,77.28580663587945,69.56257974354219,72.23280906948992,71.69248484986701,65.32116835347335,67.53590332966576,71.89130039146119,71.4422786813684,71.35658090601578,68.39921560227742,66.46068017162395,66.11160361502573,73.52546478915053,61.62118191515117,55.273516064020555,87.99420755838594,92.3660148051639,90.211917124857,86.15688651537312,77.88966808319867,85.89305438457734,81.46267952255153,76.92004034747288,83.40085692819059,78.005842767525,80.58380761516673,79.22121918691084,77.24238287413175,72.72517384479454,72.85529091092053,78.51342144660146,71.52227970739966,67.91117857399058,81.50921559346693,69.76655584983678,80.6226390799468,66.99188780948691,68.5069861177875,73.63143327280306,61.48029645010331,65.96333805302243,69.22402311998235,64.5988747192041,60.49010077966466,67.09397522577467,75.35272360434692,62.258674641385596,77.15882711601898,65.3618255098205,72.05139916003259,64.0162209631311,69.94723193028096,70.0230850440629,60.07258578550375,52.87565463140561,35.52030154881015,85.39017298968679,87.1537655470687,82.87852678177626,86.58564431630032,81.65225654175003,74.74267756804522,73.41719365851316,79.48153903347918,82.99009988233979,74.21973871682826,76.86127476900117,79.66622343492782,79.12253044344902,73.66613918452128,77.01149346054933,65.23121239527075,64.9182686607594,60.24973712267911,72.54046841451827,70.8938423728273,69.87662660897229,65.79032600073629,62.46918863440192,69.05558870639959,64.5875169439804,69.48171051413965,64.25696100467087,53.587678106413705,66.76006278204693,70.49420098642133,64.21210144715212,67.23152248161068,89.14577437016044,91.10873956251748,85.6740922527739,84.07675198130028,87.68804256230317,84.95134116813506,83.66368390366347,81.53412138066494,82.25130216348384,88.4313581692179,73.49468356350246,81.82764824634035,79.83578401764532,73.82364674867051,79.44575582788002,70.59653243532046,76.0139951355925,69.08342868877344,78.0506976274371,67.52000331919226,81.50095172023691,68.58589944580058,77.93176983061892,70.63632693000307,65.75900896314113,66.09346316556537,61.924383238235464,71.22805615567484,58.37766111471103,63.57108742780963,75.22823064694887,57.00558985968996,52.0008713195524,85.07371371951058,75.83905634709754,79.74849316753682,80.99746517056917,81.34405292568044,80.53153421509978,73.92752544102552,78.0455296466182,81.79714619766276,72.9201943661152,74.72334642889018,75.28934241552349,79.69304968696702,74.54210386092643,77.39127433149656,78.67178780374434,75.59764015162921,82.05964222944806,67.8829059061037,69.50525600133915,74.55291317803778,65.62682470686639,66.35042220410003,64.24583129854773,72.37917159344761,77.26146804250618,71.86816645271801,73.39543584102046,63.77642413194246,61.9453136598072,76.98259580724903,92.55128044598439,89.64369598250107,85.90741166273688,85.35809405453529,90.59063165674468,89.86718940577157,89.04006504641598,81.50587457695053,81.46221534183167,79.28634109230029,78.81176626671561,76.25213230132135,76.32265353169498,79.06409273644931,73.64232099918706,82.78500354264497,75.0714632157102,78.59903293847799,69.42157258578857,68.55975260721027,76.53719409627081,76.88684636901087,73.25172240140512,70.46483623105644,63.52925131745826,76.8254488369131,78.836686288117,60.22377523618104,72.94304119897993,66.09856894692416,80.74347697794826,63.198087495238155,59.30609139168962,75.51023417192528,50.66026447985905,96.32815708120268,94.85444020654347,92.66200819436051,84.88027037868062,87.59872947776137,80.7605038389205,85.24946800334658,85.59454144817005,81.16844211080627,72.67453494941958,74.26445044382922,78.4407062025806,73.91998699248461,73.26026139753878,77.44593077171862,76.9086995349918,66.06572010457103,73.21519350835513,73.33844252618542,78.73556294735215,64.3495989601771,51.23744306920048,69.42942173368226,54.50333077633468,100.65845519236416,88.46241088508282,79.33244859156059,83.22955939974281,83.89930555154137,77.41045226618496,74.21731470155021,83.34765394957992,84.73648350081623,75.86992924890922,79.32514052403405,79.74644061870652,73.39868952914969,84.03203106061801,71.87584377102485,70.38045170933378,76.38017154194074,77.05990440442588,69.83116313866628,78.91779711990318,71.79426221615131,68.72549026295235,72.92921307115603,77.7367765410304,67.84396658422804,63.15050985867208,70.22642439025628,72.90861624504828,68.68105289496691,58.137340194918465,72.34161284538504,59.27502912310365,48.83551195736652,47.02791351879239,54.15244962871736,92.91264828024396,88.56585858223286,82.32895723312015,84.52646235481564,82.39541919585156,81.96134278458283,81.31225789533971,77.00724004472852,76.45486417895643,83.47934902272937,61.73981640823786,77.28952155330637,76.48037403202795,76.55773736491358,82.27350582505767,66.91074481165276,69.2604042813872,59.57341784104756,65.1246860098505,60.4040200960211,55.77645480791193,48.49266974436989,90.45213770144835,68.49755237505326,89.10853028425527,85.09485469035337,78.47986509660291,82.40067346065405,76.11118563504476,77.70857742450869,74.52385025752835,83.64371922763814,76.40759885054638,79.51812982804233,80.45976965477325,73.66314553739869,67.0115101294848,70.42424043969845,68.65299611038665,74.49864559455568,70.5748007876781,56.499998870469994,67.70457176715195,77.28936092059985,72.62512172140066,71.10607470057323,72.25304048808482,76.38766419306148,66.4049561510734,61.704594026116524,76.23424729694239,62.640627949183,56.06899052631945,100.81959092992406,95.5386721148144,91.45497962126205,86.40504097910332,81.0058726308855,92.64362404170504,80.69005615409412,84.81732512212852,84.89359011162628,77.12778441041337,79.43172366728436,87.12344245563133,83.83555644698242,79.40136654886373,80.6493363530966,77.35605413474593,64.72404549983355,69.63733304847074,69.08582871078329,65.71227936878961,67.29873684730057,73.77530281533802,62.67435448541062,49.48757698721158,31.88194548438173,90.9867628725749,85.73871127662517,85.41231947551273,84.23094405620111,81.61839008009918,77.5280569719854,79.99735926436767,81.25021917897413,81.6605940219415,79.04264583831741,83.747974802866,84.26525320598375,82.9507250357143,81.9739146762256,72.75887889929163,60.95458653702656,64.71796708192176,74.42529845492993,72.17945907340015,65.76495151555912,62.37014888457861,89.20182760798514,95.40595985685366,83.25221679952199,90.27943019050826,76.32428266057161,82.3949865346184,86.19090113583343,88.8051497015166,80.56544910348362,81.6719070756086,79.6766016498965,83.55514101658093,79.53045123059007,82.5592448603818,83.43409695014464,81.88314538108193,64.99307064389427,94.53782769372287,93.34646475296984,92.22961874516966,90.56372479838501,85.36391555600471,89.89645974182201,89.4191764527759,85.54158105772774,82.59136383754651,81.2482451367888,73.27686908280702,79.9950555977498,80.54028020481712,79.47177679565482,78.85608310981866,77.40965444993083,80.74762392869468,98.58246632229327,90.90563338374534,86.3713227397194,85.62031450524739,87.78826908110432,82.71340423651407,77.27666893626576,75.02315700918587,83.79789614986714,65.95635639738646,66.00062265598149,91.57859809567469,80.04954058627004,78.95541439189276,72.9101123202372,87.74847946196223,57.24800072260007,67.5633368087548,60.73720736248413,76.360890846693,94.9819018031443,93.03434402610526,87.20446356643504,88.81658165813701,88.34918969575494,82.33120118410193,89.73194777338301,85.10216131012339,89.17275349969577,70.322604570326,75.42995522809872,52.83159751754829,83.66876608007385,84.77717495290347,84.18201614270333,79.00074028000938,80.59121542912601,80.07721128038145,71.59736731341548,56.126371739514184,64.85883858148895,88.82191317904505,90.15192772951673,80.5914787659126,73.2045285391506,76.90641590458108,45.23269277854979,89.55893825264116,88.78979928501826,82.91024631895414,83.18345731985266,69.85236089288082,55.638762822884814,91.57352717206845,70.8617494862749,90.2223548170781,89.6146662112568,81.05242348173272,62.96270805234644,74.79242012481745,92.00933716114821,75.71557012340963,73.84840418575584,86.5314265167973,82.06996734618406,84.89693269624865,80.18994654877179,77.6619616276954,90.63018480799747,70.16211595291782,85.45021702016254,92.8525612338741,88.31471607823346,79.44965503232163,86.56768418352715,76.5522751292159],\"yaxis\":\"y\",\"type\":\"scatter\"}],                        {\"template\":{\"data\":{\"histogram2dcontour\":[{\"type\":\"histogram2dcontour\",\"colorbar\":{\"outlinewidth\":0,\"ticks\":\"\"},\"colorscale\":[[0.0,\"#0d0887\"],[0.1111111111111111,\"#46039f\"],[0.2222222222222222,\"#7201a8\"],[0.3333333333333333,\"#9c179e\"],[0.4444444444444444,\"#bd3786\"],[0.5555555555555556,\"#d8576b\"],[0.6666666666666666,\"#ed7953\"],[0.7777777777777778,\"#fb9f3a\"],[0.8888888888888888,\"#fdca26\"],[1.0,\"#f0f921\"]]}],\"choropleth\":[{\"type\":\"choropleth\",\"colorbar\":{\"outlinewidth\":0,\"ticks\":\"\"}}],\"histogram2d\":[{\"type\":\"histogram2d\",\"colorbar\":{\"outlinewidth\":0,\"ticks\":\"\"},\"colorscale\":[[0.0,\"#0d0887\"],[0.1111111111111111,\"#46039f\"],[0.2222222222222222,\"#7201a8\"],[0.3333333333333333,\"#9c179e\"],[0.4444444444444444,\"#bd3786\"],[0.5555555555555556,\"#d8576b\"],[0.6666666666666666,\"#ed7953\"],[0.7777777777777778,\"#fb9f3a\"],[0.8888888888888888,\"#fdca26\"],[1.0,\"#f0f921\"]]}],\"heatmap\":[{\"type\":\"heatmap\",\"colorbar\":{\"outlinewidth\":0,\"ticks\":\"\"},\"colorscale\":[[0.0,\"#0d0887\"],[0.1111111111111111,\"#46039f\"],[0.2222222222222222,\"#7201a8\"],[0.3333333333333333,\"#9c179e\"],[0.4444444444444444,\"#bd3786\"],[0.5555555555555556,\"#d8576b\"],[0.6666666666666666,\"#ed7953\"],[0.7777777777777778,\"#fb9f3a\"],[0.8888888888888888,\"#fdca26\"],[1.0,\"#f0f921\"]]}],\"heatmapgl\":[{\"type\":\"heatmapgl\",\"colorbar\":{\"outlinewidth\":0,\"ticks\":\"\"},\"colorscale\":[[0.0,\"#0d0887\"],[0.1111111111111111,\"#46039f\"],[0.2222222222222222,\"#7201a8\"],[0.3333333333333333,\"#9c179e\"],[0.4444444444444444,\"#bd3786\"],[0.5555555555555556,\"#d8576b\"],[0.6666666666666666,\"#ed7953\"],[0.7777777777777778,\"#fb9f3a\"],[0.8888888888888888,\"#fdca26\"],[1.0,\"#f0f921\"]]}],\"contourcarpet\":[{\"type\":\"contourcarpet\",\"colorbar\":{\"outlinewidth\":0,\"ticks\":\"\"}}],\"contour\":[{\"type\":\"contour\",\"colorbar\":{\"outlinewidth\":0,\"ticks\":\"\"},\"colorscale\":[[0.0,\"#0d0887\"],[0.1111111111111111,\"#46039f\"],[0.2222222222222222,\"#7201a8\"],[0.3333333333333333,\"#9c179e\"],[0.4444444444444444,\"#bd3786\"],[0.5555555555555556,\"#d8576b\"],[0.6666666666666666,\"#ed7953\"],[0.7777777777777778,\"#fb9f3a\"],[0.8888888888888888,\"#fdca26\"],[1.0,\"#f0f921\"]]}],\"surface\":[{\"type\":\"surface\",\"colorbar\":{\"outlinewidth\":0,\"ticks\":\"\"},\"colorscale\":[[0.0,\"#0d0887\"],[0.1111111111111111,\"#46039f\"],[0.2222222222222222,\"#7201a8\"],[0.3333333333333333,\"#9c179e\"],[0.4444444444444444,\"#bd3786\"],[0.5555555555555556,\"#d8576b\"],[0.6666666666666666,\"#ed7953\"],[0.7777777777777778,\"#fb9f3a\"],[0.8888888888888888,\"#fdca26\"],[1.0,\"#f0f921\"]]}],\"mesh3d\":[{\"type\":\"mesh3d\",\"colorbar\":{\"outlinewidth\":0,\"ticks\":\"\"}}],\"scatter\":[{\"fillpattern\":{\"fillmode\":\"overlay\",\"size\":10,\"solidity\":0.2},\"type\":\"scatter\"}],\"parcoords\":[{\"type\":\"parcoords\",\"line\":{\"colorbar\":{\"outlinewidth\":0,\"ticks\":\"\"}}}],\"scatterpolargl\":[{\"type\":\"scatterpolargl\",\"marker\":{\"colorbar\":{\"outlinewidth\":0,\"ticks\":\"\"}}}],\"bar\":[{\"error_x\":{\"color\":\"#2a3f5f\"},\"error_y\":{\"color\":\"#2a3f5f\"},\"marker\":{\"line\":{\"color\":\"#E5ECF6\",\"width\":0.5},\"pattern\":{\"fillmode\":\"overlay\",\"size\":10,\"solidity\":0.2}},\"type\":\"bar\"}],\"scattergeo\":[{\"type\":\"scattergeo\",\"marker\":{\"colorbar\":{\"outlinewidth\":0,\"ticks\":\"\"}}}],\"scatterpolar\":[{\"type\":\"scatterpolar\",\"marker\":{\"colorbar\":{\"outlinewidth\":0,\"ticks\":\"\"}}}],\"histogram\":[{\"marker\":{\"pattern\":{\"fillmode\":\"overlay\",\"size\":10,\"solidity\":0.2}},\"type\":\"histogram\"}],\"scattergl\":[{\"type\":\"scattergl\",\"marker\":{\"colorbar\":{\"outlinewidth\":0,\"ticks\":\"\"}}}],\"scatter3d\":[{\"type\":\"scatter3d\",\"line\":{\"colorbar\":{\"outlinewidth\":0,\"ticks\":\"\"}},\"marker\":{\"colorbar\":{\"outlinewidth\":0,\"ticks\":\"\"}}}],\"scattermapbox\":[{\"type\":\"scattermapbox\",\"marker\":{\"colorbar\":{\"outlinewidth\":0,\"ticks\":\"\"}}}],\"scatterternary\":[{\"type\":\"scatterternary\",\"marker\":{\"colorbar\":{\"outlinewidth\":0,\"ticks\":\"\"}}}],\"scattercarpet\":[{\"type\":\"scattercarpet\",\"marker\":{\"colorbar\":{\"outlinewidth\":0,\"ticks\":\"\"}}}],\"carpet\":[{\"aaxis\":{\"endlinecolor\":\"#2a3f5f\",\"gridcolor\":\"white\",\"linecolor\":\"white\",\"minorgridcolor\":\"white\",\"startlinecolor\":\"#2a3f5f\"},\"baxis\":{\"endlinecolor\":\"#2a3f5f\",\"gridcolor\":\"white\",\"linecolor\":\"white\",\"minorgridcolor\":\"white\",\"startlinecolor\":\"#2a3f5f\"},\"type\":\"carpet\"}],\"table\":[{\"cells\":{\"fill\":{\"color\":\"#EBF0F8\"},\"line\":{\"color\":\"white\"}},\"header\":{\"fill\":{\"color\":\"#C8D4E3\"},\"line\":{\"color\":\"white\"}},\"type\":\"table\"}],\"barpolar\":[{\"marker\":{\"line\":{\"color\":\"#E5ECF6\",\"width\":0.5},\"pattern\":{\"fillmode\":\"overlay\",\"size\":10,\"solidity\":0.2}},\"type\":\"barpolar\"}],\"pie\":[{\"automargin\":true,\"type\":\"pie\"}]},\"layout\":{\"autotypenumbers\":\"strict\",\"colorway\":[\"#636efa\",\"#EF553B\",\"#00cc96\",\"#ab63fa\",\"#FFA15A\",\"#19d3f3\",\"#FF6692\",\"#B6E880\",\"#FF97FF\",\"#FECB52\"],\"font\":{\"color\":\"#2a3f5f\"},\"hovermode\":\"closest\",\"hoverlabel\":{\"align\":\"left\"},\"paper_bgcolor\":\"white\",\"plot_bgcolor\":\"#E5ECF6\",\"polar\":{\"bgcolor\":\"#E5ECF6\",\"angularaxis\":{\"gridcolor\":\"white\",\"linecolor\":\"white\",\"ticks\":\"\"},\"radialaxis\":{\"gridcolor\":\"white\",\"linecolor\":\"white\",\"ticks\":\"\"}},\"ternary\":{\"bgcolor\":\"#E5ECF6\",\"aaxis\":{\"gridcolor\":\"white\",\"linecolor\":\"white\",\"ticks\":\"\"},\"baxis\":{\"gridcolor\":\"white\",\"linecolor\":\"white\",\"ticks\":\"\"},\"caxis\":{\"gridcolor\":\"white\",\"linecolor\":\"white\",\"ticks\":\"\"}},\"coloraxis\":{\"colorbar\":{\"outlinewidth\":0,\"ticks\":\"\"}},\"colorscale\":{\"sequential\":[[0.0,\"#0d0887\"],[0.1111111111111111,\"#46039f\"],[0.2222222222222222,\"#7201a8\"],[0.3333333333333333,\"#9c179e\"],[0.4444444444444444,\"#bd3786\"],[0.5555555555555556,\"#d8576b\"],[0.6666666666666666,\"#ed7953\"],[0.7777777777777778,\"#fb9f3a\"],[0.8888888888888888,\"#fdca26\"],[1.0,\"#f0f921\"]],\"sequentialminus\":[[0.0,\"#0d0887\"],[0.1111111111111111,\"#46039f\"],[0.2222222222222222,\"#7201a8\"],[0.3333333333333333,\"#9c179e\"],[0.4444444444444444,\"#bd3786\"],[0.5555555555555556,\"#d8576b\"],[0.6666666666666666,\"#ed7953\"],[0.7777777777777778,\"#fb9f3a\"],[0.8888888888888888,\"#fdca26\"],[1.0,\"#f0f921\"]],\"diverging\":[[0,\"#8e0152\"],[0.1,\"#c51b7d\"],[0.2,\"#de77ae\"],[0.3,\"#f1b6da\"],[0.4,\"#fde0ef\"],[0.5,\"#f7f7f7\"],[0.6,\"#e6f5d0\"],[0.7,\"#b8e186\"],[0.8,\"#7fbc41\"],[0.9,\"#4d9221\"],[1,\"#276419\"]]},\"xaxis\":{\"gridcolor\":\"white\",\"linecolor\":\"white\",\"ticks\":\"\",\"title\":{\"standoff\":15},\"zerolinecolor\":\"white\",\"automargin\":true,\"zerolinewidth\":2},\"yaxis\":{\"gridcolor\":\"white\",\"linecolor\":\"white\",\"ticks\":\"\",\"title\":{\"standoff\":15},\"zerolinecolor\":\"white\",\"automargin\":true,\"zerolinewidth\":2},\"scene\":{\"xaxis\":{\"backgroundcolor\":\"#E5ECF6\",\"gridcolor\":\"white\",\"linecolor\":\"white\",\"showbackground\":true,\"ticks\":\"\",\"zerolinecolor\":\"white\",\"gridwidth\":2},\"yaxis\":{\"backgroundcolor\":\"#E5ECF6\",\"gridcolor\":\"white\",\"linecolor\":\"white\",\"showbackground\":true,\"ticks\":\"\",\"zerolinecolor\":\"white\",\"gridwidth\":2},\"zaxis\":{\"backgroundcolor\":\"#E5ECF6\",\"gridcolor\":\"white\",\"linecolor\":\"white\",\"showbackground\":true,\"ticks\":\"\",\"zerolinecolor\":\"white\",\"gridwidth\":2}},\"shapedefaults\":{\"line\":{\"color\":\"#2a3f5f\"}},\"annotationdefaults\":{\"arrowcolor\":\"#2a3f5f\",\"arrowhead\":0,\"arrowwidth\":1},\"geo\":{\"bgcolor\":\"white\",\"landcolor\":\"#E5ECF6\",\"subunitcolor\":\"white\",\"showland\":true,\"showlakes\":true,\"lakecolor\":\"white\"},\"title\":{\"x\":0.05},\"mapbox\":{\"style\":\"light\"}}},\"xaxis\":{\"anchor\":\"y\",\"domain\":[0.0,1.0],\"title\":{\"text\":\"Review avg\"}},\"yaxis\":{\"anchor\":\"x\",\"domain\":[0.0,1.0],\"title\":{\"text\":\"Predicted Rating\"}},\"legend\":{\"tracegroupgap\":0},\"margin\":{\"t\":60}},                        {\"responsive\": true}                    ).then(function(){\n",
       "                            \n",
       "var gd = document.getElementById('e212dbbe-c066-40f3-9d12-28f9982a0d91');\n",
       "var x = new MutationObserver(function (mutations, observer) {{\n",
       "        var display = window.getComputedStyle(gd).display;\n",
       "        if (!display || display === 'none') {{\n",
       "            console.log([gd, 'removed!']);\n",
       "            Plotly.purge(gd);\n",
       "            observer.disconnect();\n",
       "        }}\n",
       "}});\n",
       "\n",
       "// Listen for the removal of the full notebook cells\n",
       "var notebookContainer = gd.closest('#notebook-container');\n",
       "if (notebookContainer) {{\n",
       "    x.observe(notebookContainer, {childList: true});\n",
       "}}\n",
       "\n",
       "// Listen for the clearing of the current output cell\n",
       "var outputEl = gd.closest('.output');\n",
       "if (outputEl) {{\n",
       "    x.observe(outputEl, {childList: true});\n",
       "}}\n",
       "\n",
       "                        })                };                });            </script>        </div>"
      ]
     },
     "metadata": {},
     "output_type": "display_data"
    }
   ],
   "source": [
    "# scatter plot of predictions vs review avg\n",
    "fig = px.scatter(scores_comp, x=\"Review avg\", y=\"Predicted Rating\", hover_name= 'Game')\n",
    "fig\n",
    "# switch to a different chart type that shows spread?"
   ]
  },
  {
   "cell_type": "code",
   "execution_count": 79,
   "metadata": {},
   "outputs": [
    {
     "data": {
      "application/vnd.plotly.v1+json": {
       "config": {
        "plotlyServerURL": "https://plot.ly"
       },
       "data": [
        {
         "hovertemplate": "<b>%{hovertext}</b><br><br>Actual Rating=%{x}<br>Prediction delta=%{y}<extra></extra>",
         "hovertext": [
          "The Legend of Zelda: Tears of the Kingdom",
          "Hi-Fi Rush",
          "Marvel's Spider-Man 2",
          "Cocoon",
          "Final Fantasy XVI",
          "Baldur's Gate 3",
          "Lies of P",
          "Star Wars Jedi Survivor",
          "Aces and Adventures",
          "Super Mario Bros. Wonder",
          "Armored Core VI: Fires of Rubicon",
          "Cassette Beasts",
          "Pikmin 4",
          "Diablo 4",
          "The Crew Motorfest",
          "Starfield",
          "F-Zero 99",
          "Wild Hearts",
          "Cities Skylines 2",
          "Jusant",
          "Assassin's Creed Mirage",
          "Counter-Strike 2",
          "20 Minutes Till Dawn",
          "Wo Long Fallen Dynasty",
          "Tchia",
          "Forza Motorsport (2023)",
          "Minecraft Legends",
          "Exoprimal",
          "Elden Ring",
          "God of War Ragnarök",
          "Horizon Forbidden West",
          "Gran Turismo 7",
          "Vampire Survivors",
          "Rogue Legacy 2",
          "OlliOlli World",
          "Stray",
          "Neon White",
          "Splatoon 3",
          "Citizen Sleeper",
          "Pokemon Legends Arceus",
          "Kirby and the Forgotten Land",
          "PlateUp!",
          "Two Point Campus",
          "Teenage Mutant Ninja Turtles: Shredder's Revenge",
          "Rollerdrome",
          "Nobody Saves The World",
          "Chained Echoes",
          "Overwatch 2",
          "Freshly Frosted",
          "Pokemon Violet",
          "Ghostwire Tokyo",
          "Cult of the Lamb",
          "High on Life",
          "Grid Legends",
          "Warpips",
          "TemTem",
          "Trek to Yomi",
          "Windjammers 2",
          "Tunic",
          "Need for Speed Unbound",
          "A Plague Tale: Requiem",
          "You Suck At Parking",
          "Lego Star Wars The Skywalker Saga",
          "Arcadeggedon",
          "Spacelines from the Far Out",
          "Lost Ark",
          "Golfie",
          "Diablo Immortal",
          "CrossfireX",
          "Metroid Dread",
          "Forza Horizon 5",
          "Psychonauts 2",
          "Ratchet & Clank: Rift Apart",
          "Death's Door",
          "Guardians of the Galaxy",
          "Unsighted",
          "Kena: Bridge of Spirits",
          "Returnal",
          "Ys IX: Monstrum Nox",
          "Deathloop",
          "Monster Hunter Rise",
          "Halo Infinite",
          "Loop Hero",
          "Wildermyth",
          "Hot Wheels Unleashed",
          "Tribes of Midgard",
          "Buck Up and Drive!",
          "Age of Empires IV",
          "Mini Motorways",
          "The Riftbreaker",
          "Mario Golf: Super Rush",
          "Boyfriend Dungeon",
          "Curse of the Dead Gods",
          "The Ascent",
          "Scarlet Nexus",
          "Back 4 Blood",
          "Destruction Allstars",
          "Dandy Ace",
          "F.I.S.T. Forged In Shadow Torch",
          "Cruis'n Blast",
          "Sunlight",
          "Hades",
          "The Last of Us Part II",
          "Ghost of Tsushima",
          "Final Fantasy VII Remake",
          "Demon's Souls (Remake)",
          "Ori and The Will of the Wisps",
          "Marvel's Spider-Man Miles Morales",
          "Astro's Playroom",
          "F1 2020",
          "Animal Crossing New Horizons",
          "Monster Sanctuary",
          "Spiritfarer",
          "Dirt 5",
          "Streets of Rage 4",
          "Deep Rock Galactic",
          "Immortals Fenyx Rising",
          "Sackboy: A Big Adventure",
          "WRC 9",
          "Crash Bandicoot 4: Its About Time",
          "Call of Duty Black Ops Cold War",
          "Dreams",
          "Bugsnax",
          "Hyrule Warriors Age of Calamity",
          "Star Wars Squadrons",
          "Journey to the Savage Planet",
          "Cyberpunk 2077",
          "Golf With Your Friends",
          "Fall Guys",
          "Darksburg",
          "Minecraft Dungeons",
          "Doom Eternal",
          "Embr",
          "Marvel's Avengers",
          "Star Wars Jedi Fallen Order",
          "A Short Hike",
          "Astral Chain",
          "Devil May Cry 5",
          "Gears 5",
          "F1 2019",
          "Borderlands 3",
          "Luigi's Mansion 3",
          "Apex Legends",
          "Concrete Genie",
          "Kingdom Hearts 3",
          "Ring Fit Adventure",
          "Sekiro Shadows Die Twice",
          "A Plague Tale: Innocence",
          "Trials Rising",
          "Risk of Rain 2",
          "Dirt Rally 2.0",
          "The Legend of Zelda: Link's Awakening",
          "Darksiders Genesis",
          "Cat Quest II",
          "Wargroove",
          "GreedFall",
          "Grid (2019)",
          "The Jackbox Party Pack 6",
          "Dicey Dungeons",
          "Pokemon Sword",
          "The Outer Worlds",
          "Outer Wilds",
          "Unrailed!",
          "Need For Speed Heat",
          "Control",
          "God of War (2018)",
          "Red Dead Redemption 2",
          "Astro Bot Rescue Mission",
          "Celeste",
          "Marvel's Spider-Man",
          "Forza Horizon 4",
          "Super Smash Bros. Ultimate",
          "Tetris Effect",
          "Dead Cells",
          "Crosscode",
          "F1 2018",
          "Overcooked 2",
          "Gris",
          "Call of Duty Black Ops 4",
          "Warhammer Vermentide 2",
          "Monster Hunter World",
          "Moss PSVR",
          "Pokemon Let's Go Pikachu",
          "Northgard",
          "Wreckfest",
          "Parkitect",
          "Far Cry 5",
          "Fifa 19",
          "Detroit Become Human",
          "Golf Peaks",
          "Dragon Quest XI",
          "Assassin's Creed Odyssey",
          "Sea of Thieves",
          "Mario Tennis Aces",
          "Surviving Mars",
          "Shadow of the Colossus (Remake)",
          "For The King",
          "The Crew 2",
          "Octopath Traveller",
          "Farming Simulator 2019",
          "The Legend of Zelda: Breath of the Wild",
          "Super Mario Odyssey",
          "Horizon Zero Dawn",
          "Hollow Knight",
          "Uncharted The Lost Legacy",
          "Ys VIII Lacrimosa of Dana",
          "Divinity Original Sin 2",
          "Persona 5",
          "F1 2017",
          "Golf Story",
          "Assassin's Creed Origins",
          "Mario + Rabbids Kingdom Battle",
          "Gran Turismo Sport",
          "Call of Duty WW2",
          "Pyre",
          "WipeOut Omega Collection",
          "Cat Quest",
          "Nex Machina",
          "Nioh",
          "Nier Automata",
          "Prey",
          "Luna",
          "Middle Earth: Shadow of War",
          "Doom VFR",
          "Uncharted 4 A Thief's End",
          "Forza Horizon 3",
          "Titanfall 2",
          "Civilization VI",
          "Pokemon Sun",
          "F1 2016",
          "Forza Motorsport 7",
          "Inside",
          "Overwatch",
          "Overcooked",
          "Stardew Valley",
          "Gears of War 4",
          "Trackmania Turbo",
          "Ratchet & Clank",
          "Call of Duty Infinite Warfare",
          "Doom (2016)",
          "Hearts of Iron IV",
          "Stellaris",
          "Ultimate Chicken Horse",
          "Battlefield 1",
          "Hyper Light Drifter",
          "Abzu",
          "Motorsport Manager",
          "Watch Dogs 2",
          "Clustertruck",
          "Kingdom New Lands",
          "Far Cry Primal",
          "Final Fantasy XV",
          "Worms W.M.D",
          "Dragon Quest Builders",
          "The Last Guardian",
          "Human Fall Flat",
          "Shoppe Keep",
          "VR Worlds",
          "Youtubers Life",
          "Bloodborne",
          "Undertale",
          "Rocket League",
          "Cities Skylines",
          "Rise of the Tomb Raider ",
          "Batman Arkham Knight",
          "OlliOlli 2: Welcome to Olliwood",
          "Halo 5: Guardians",
          "Assassin's Creed Syndicate",
          "Ori and The Blind Forest",
          "The Order 1886",
          "Call of Duty Black Ops III",
          "Prison Architect",
          "Crypt of the Necrodancer",
          "The Witcher 3",
          "Star Wars Battlefront",
          "Apotheon",
          "Just Cause 3",
          "Project Cars",
          "F1 2015",
          "Big Pharma",
          "Clicker Heroes",
          "Mario Kart 8",
          "Driveclub",
          "Dragon Age Inquisition",
          "Bayonetta 2",
          "Transistor",
          "Tales From the Borderlands",
          "Watch Dogs",
          "inFAMOUS Second Son",
          "Assassin's Creed Unity",
          "Far Cry 4",
          "Middle Earth Shadow of Mordor",
          "Call of Duty Advanced Warfare",
          "Pokemon Omega Ruby",
          "Trials Fusion",
          "Destiny",
          "Borderlands The Pre-Sequel",
          "Dungeon of the Endless",
          "Football Manager 2015",
          "Infamous First Light",
          "The Crew",
          "Assassin's Creed Rogue",
          "Velocity 2X",
          "Endless Legend",
          "Sportsfriends",
          "Grid Autosport",
          "Civilization Beyond Earth",
          "Banished",
          "Dead Nation: Apocalypse Edition",
          "Little Big Planet 3",
          "Pure Pool",
          "Game of Thrones Telltale",
          "The Last of Us",
          "Grand Theft Auto V",
          "Bioshock Infinite",
          "Rayman Legends",
          "Assassin's Creed IV Black Flag",
          "Super Mario 3D World",
          "Tearaway",
          "Europa Universalis IV",
          "Tomb Raider",
          "Resogun",
          "Fifa 14",
          "Path of Exile",
          "Pokemon Y",
          "Football Manager 2014",
          "Battlefield 4",
          "Guacamelee!",
          "Warframe",
          "Don't Starve",
          "Killzone Shadow Fall",
          "Assassin's Creed Freedom Cry",
          "War Thunder",
          "Lyne",
          "Democracy 3",
          "Contrast",
          "Fifa 14 Legacy Edition",
          "Mass Effect 3",
          "Guild Wars 2",
          "Diablo 3",
          "Borderlands 2",
          "Journey",
          "Pokemon Black 2",
          "Halo 4",
          "Football Manager 2013",
          "Call of Duty Black Ops II",
          "F1 2012",
          "Fifa 13",
          "Xenoblade Chronicles",
          "Torchlight 2",
          "XCOM: Enemy Unknown",
          "Spec Ops The Line",
          "Game Dev Tycoon",
          "Factorio",
          "New Super Mario Bros. 2",
          "Awesomenauts",
          "Sonic & All Stars Racing Transformed",
          "Warlock - Master of the Arcane",
          "Portal 2",
          "Uncharted 3 Drake's Deception",
          "Forza 4",
          "Minecraft",
          "Dragon Age 2",
          "Mario Kart 7",
          "Call of Duty Modern Warfare 3",
          "The Legend of Zelda: Skyward Sword",
          "Assassin's Creed Revelations",
          "Terraria",
          "F1 2011",
          "Fifa 12",
          "Football Manager 2012",
          "Uncharted Golden Abyss",
          "Batman Arkham City",
          "Skyrim",
          "DC Universe Online",
          "Super Mario Galaxy 2",
          "Mass Effect 2",
          "God of War 3",
          "Assassin's Creed Brotherhood",
          "Halo Reach",
          "Civilization V",
          "Call of Duty Black Ops",
          "Pokemon White",
          "Fifa 11",
          "Bioshock 2",
          "Ys Seven",
          "F1 2010",
          "Dragon Quest IX",
          "Heavy Rain",
          "Need for Speed Hot Pursuit",
          "2010 FIFA World Cup South Africa",
          "Bayonetta",
          "Uncharted 2 Among Thieves",
          "Call of Duty Modern Warfare 2",
          "Pokemon SoulSilver",
          "Batman Arkham Asylum",
          "Dragon Age Origins",
          "Football Manager 2010",
          "Torchlight",
          "Halo 3 ODST",
          "New Super Mario Bros. Wii",
          "F1 2009",
          "Mario & Sonic at the Winter Olympic Games",
          "Super Smash Bros. Brawl",
          "Mario Kart Wii",
          "Football Manager 2009",
          "Wii Fit",
          "Grand Theft Auto IV",
          "Pokemon Mystery Dunegon Explorers of Time",
          "Animal Crossing City Folk",
          "Mario & Sonic at the Olympic Games",
          "Burnout Paradise",
          "Super Mario Galaxy",
          "Bioshock",
          "Mass Effect",
          "Call of Duty Modern Warfare",
          "Halo 3",
          "Football Manager 2008",
          "Uncharted Drake's Fortune",
          "Team Fortress 2",
          "God of War II",
          "Wii Sports",
          "Mario Strikers Charged Football",
          "Mario Party 8",
          "Football Manager 2007",
          "Pokemon Diamond",
          "Gears of War",
          "Lego Star Wars II: The Original Trilogy",
          "Grand Theft Auto Vice City Stories",
          "Fifa 07",
          "Brain Training",
          "Fifa Street 2",
          "Buzz! Junior Jungle Party",
          "God of War (2005)",
          "Mario Kart DS",
          "Psychonauts",
          "Lego Star Wars: The Video Game",
          "Nintendogs",
          "Fifa 06 Game Boy Advance",
          "Grand Theft Auto San Andreas",
          "Halo 2",
          "Mario & Luigi Superstar Saga",
          "Star Wars: Knights of the Old Republic",
          "The Simpsons Hit & Run",
          "Finding Nemo",
          "Metroid Prime",
          "Rollercoaster Tycoon 2",
          "Halo Combat Evolved",
          "Metroid Fusion",
          "Final Fantasy X",
          "Crash Bandicoot The Wrath of Cortex",
          "Diablo 2",
          "Gran Turismo 2",
          "Crash Team Racing",
          "Rollercoaster Tycoon",
          "The Legend of Zelda: Ocarina of Time",
          "Crash Bandicoot 3: Warped",
          "Banjo-Kazooie",
          "Crash Bandicoot 2: Cortex Strikes Back",
          "Castlevania Symphony of the Night",
          "Super Mario 64",
          "Crash Bandicoot",
          "Donkey Kong Country 2: Diddy Kong's Quest",
          "Super Metroid",
          "Donkey Kong Country",
          "The Legend of Zelda: A Link to the Past",
          "Super Mario World",
          "Tetris"
         ],
         "legendgroup": "",
         "marker": {
          "color": "#636efa",
          "symbol": "circle"
         },
         "mode": "markers",
         "name": "",
         "orientation": "v",
         "showlegend": false,
         "type": "scatter",
         "x": [
          100,
          97,
          96,
          94,
          92,
          91,
          87,
          86,
          85,
          84,
          82,
          81,
          80,
          79,
          78,
          76,
          75,
          73,
          72,
          71,
          71,
          70,
          68,
          64,
          57,
          52,
          49,
          44,
          97,
          96,
          91,
          89,
          88,
          87,
          86,
          86,
          85,
          84,
          84,
          82,
          80,
          79,
          79,
          79,
          79,
          78,
          77,
          76,
          76,
          74,
          73,
          72,
          72,
          71,
          71,
          69,
          69,
          69,
          67,
          66,
          63,
          62,
          59,
          59,
          58,
          54,
          52,
          49,
          40,
          93,
          92,
          89,
          89,
          88,
          86,
          85,
          84,
          84,
          83,
          82,
          81,
          81,
          77,
          73,
          72,
          72,
          71,
          69,
          68,
          68,
          67,
          67,
          67,
          64,
          60,
          59,
          55,
          54,
          47,
          47,
          32,
          98,
          96,
          93,
          91,
          90,
          89,
          88,
          88,
          87,
          87,
          82,
          81,
          80,
          77,
          76,
          75,
          75,
          74,
          74,
          74,
          74,
          73,
          72,
          70,
          69,
          68,
          67,
          66,
          63,
          62,
          60,
          60,
          43,
          90,
          89,
          88,
          87,
          84,
          83,
          83,
          82,
          79,
          79,
          78,
          77,
          77,
          76,
          75,
          74,
          73,
          73,
          72,
          71,
          69,
          68,
          67,
          66,
          66,
          59,
          59,
          58,
          58,
          54,
          53,
          99,
          98,
          94,
          94,
          93,
          92,
          90,
          89,
          86,
          85,
          83,
          80,
          77,
          76,
          76,
          76,
          76,
          75,
          74,
          74,
          73,
          73,
          70,
          69,
          68,
          67,
          67,
          65,
          65,
          63,
          62,
          56,
          54,
          53,
          45,
          100,
          98,
          96,
          94,
          92,
          90,
          89,
          87,
          84,
          84,
          82,
          80,
          79,
          77,
          76,
          76,
          70,
          68,
          65,
          63,
          60,
          59,
          57,
          24,
          94,
          93,
          87,
          86,
          83,
          82,
          82,
          81,
          80,
          80,
          80,
          80,
          78,
          78,
          77,
          76,
          75,
          72,
          72,
          71,
          71,
          70,
          69,
          69,
          68,
          67,
          66,
          65,
          65,
          64,
          64,
          61,
          51,
          50,
          46,
          96,
          92,
          90,
          88,
          88,
          85,
          83,
          83,
          78,
          77,
          77,
          75,
          74,
          73,
          70,
          69,
          67,
          63,
          62,
          58,
          56,
          51,
          94,
          93,
          92,
          90,
          86,
          86,
          84,
          81,
          81,
          79,
          79,
          78,
          78,
          76,
          74,
          74,
          74,
          73,
          71,
          70,
          70,
          70,
          68,
          68,
          65,
          64,
          63,
          56,
          55,
          51,
          48,
          99,
          95,
          95,
          92,
          88,
          88,
          85,
          84,
          83,
          81,
          81,
          81,
          79,
          77,
          77,
          75,
          74,
          70,
          69,
          68,
          65,
          64,
          52,
          43,
          37,
          94,
          93,
          88,
          88,
          88,
          84,
          82,
          79,
          79,
          78,
          78,
          78,
          78,
          78,
          73,
          66,
          66,
          65,
          64,
          63,
          61,
          95,
          91,
          90,
          86,
          86,
          85,
          84,
          84,
          83,
          83,
          80,
          80,
          78,
          72,
          71,
          69,
          55,
          97,
          95,
          94,
          92,
          90,
          89,
          89,
          87,
          82,
          81,
          80,
          79,
          78,
          77,
          75,
          73,
          69,
          95,
          91,
          91,
          89,
          85,
          83,
          75,
          72,
          71,
          68,
          64,
          91,
          88,
          84,
          72,
          70,
          68,
          62,
          61,
          57,
          97,
          93,
          90,
          90,
          89,
          86,
          85,
          82,
          80,
          75,
          75,
          48,
          91,
          85,
          85,
          83,
          81,
          79,
          71,
          63,
          62,
          93,
          92,
          90,
          81,
          72,
          42,
          91,
          87,
          83,
          76,
          72,
          53,
          99,
          82,
          92,
          90,
          85,
          62,
          61,
          89,
          84,
          73,
          91,
          87,
          85,
          89,
          74,
          96,
          72,
          90,
          93,
          87,
          80,
          91,
          90
         ],
         "xaxis": "x",
         "y": [
          10.853495515172995,
          12.925007135394821,
          7.107573048710492,
          16.18201192115032,
          12.432827228226415,
          4.878023860118105,
          17.67175952027185,
          3.022839391153525,
          12.377672679935813,
          -2.641159273560447,
          9.247885870658479,
          4.354301644744169,
          0.9522273570663629,
          1.714193364120547,
          8.437420256457813,
          3.7671909305100826,
          3.3075151501329856,
          7.678831646526646,
          4.464096670334243,
          -0.8913003914611863,
          -0.442278681368407,
          -1.356580906015779,
          -0.3992156022774225,
          -2.460680171623949,
          -9.111603615025729,
          -21.525464789150533,
          -12.621181915151169,
          -11.273516064020555,
          9.005792441614062,
          3.6339851948361,
          0.7880828751430045,
          2.8431134846268833,
          10.110331916801329,
          1.10694561542266,
          4.537320477448475,
          9.079959652527123,
          1.599143071809408,
          5.994157232475004,
          3.4161923848332663,
          2.7787808130891563,
          2.7576171258682507,
          6.27482615520546,
          6.14470908907947,
          0.4865785533985445,
          7.477720292600338,
          10.088821426009417,
          -4.509215593466934,
          6.233444150163223,
          -4.622639079946794,
          7.0081121905130885,
          4.4930138822124945,
          -1.631433272803065,
          10.51970354989669,
          5.036661946977574,
          1.7759768800176516,
          4.401125280795895,
          8.509899220335342,
          1.9060247742253296,
          -8.35272360434692,
          3.7413253586144037,
          -14.158827116018983,
          -3.3618255098205054,
          -13.051399160032588,
          -5.016220963131104,
          -11.947231930280964,
          -16.023085044062896,
          -8.072585785503748,
          -3.8756546314056095,
          4.479698451189847,
          7.609827010313211,
          4.846234452931299,
          6.121473218223741,
          2.4143556836996822,
          6.347743458249965,
          11.257322431954776,
          11.582806341486844,
          4.51846096652082,
          1.0099001176602087,
          8.78026128317174,
          5.13872523099883,
          1.333776565072185,
          1.8774695565509774,
          3.3338608154787153,
          -4.011493460549332,
          6.768787604729255,
          7.081731339240605,
          10.750262877320893,
          -3.5404684145182728,
          -2.8938423728272937,
          -1.8766266089722876,
          1.209673999263714,
          4.530811365598083,
          -2.0555887063995897,
          -0.587516943980404,
          -9.48171051413965,
          -5.25696100467087,
          1.4123218935862951,
          -12.76006278204693,
          -23.494200986421333,
          -17.212101447152122,
          -35.23152248161068,
          8.854225629839561,
          4.891260437482515,
          7.325907747226097,
          6.923248018699724,
          2.311957437696833,
          4.048658831864941,
          4.336316096336532,
          6.465878619335058,
          4.748697836516158,
          -1.4313581692179014,
          8.505316436497537,
          -0.8276482463403454,
          0.16421598235467627,
          3.1763532513294876,
          -3.4457558278800207,
          4.403467564679545,
          -1.013995135592495,
          4.916571311226562,
          -4.050697627437103,
          6.479996680807744,
          -7.5009517202369125,
          4.414100554199422,
          -5.931769830618919,
          -0.6363269300030652,
          3.2409910368588726,
          1.9065368344346325,
          5.075616761764536,
          -5.228056155674835,
          4.622338885288968,
          -1.5710874278096298,
          -15.228230646948873,
          2.9944101403100376,
          -9.000871319552402,
          4.926286280489421,
          13.16094365290246,
          8.251506832463178,
          6.002534829430829,
          2.655947074319556,
          2.468465784900218,
          9.072474558974477,
          3.9544703533817938,
          -2.797146197662755,
          6.079805633884803,
          3.2766535711098186,
          1.7106575844765075,
          -2.693049686967015,
          1.4578961390735685,
          -2.391274331496561,
          -4.671787803744337,
          -2.597640151629207,
          -9.059642229448059,
          4.1170940938962985,
          1.4947439986608515,
          -5.552913178037784,
          2.373175293133613,
          0.6495777958999724,
          1.7541687014522722,
          -6.379171593447609,
          -18.26146804250618,
          -12.868166452718015,
          -15.395435841020458,
          -5.776424131942463,
          -7.945313659807198,
          -23.982595807249027,
          6.448719554015611,
          8.356304017498928,
          8.092588337263123,
          8.641905945464714,
          2.4093683432553235,
          2.132810594228431,
          0.9599349535840247,
          7.494125423049468,
          4.537784658168334,
          5.71365890769971,
          4.188233733284392,
          3.7478676986786468,
          0.6773464683050179,
          -3.064092736449311,
          2.3576790008129365,
          -6.785003542644972,
          0.928536784289804,
          -3.5990329384779898,
          4.578427414211433,
          5.440247392789729,
          -3.5371940962708095,
          -3.8868463690108683,
          -3.251722401405118,
          -1.464836231056438,
          4.470748682541739,
          -9.825448836913097,
          -11.836686288116994,
          4.776224763818959,
          -7.943041198979927,
          -3.0985689469241606,
          -18.743476977948262,
          -7.1980874952381555,
          -5.30609139168962,
          -22.510234171925276,
          -5.660264479859052,
          3.6718429187973243,
          3.1455597934565276,
          3.33799180563949,
          9.11972962131938,
          4.401270522238633,
          9.2394961610795,
          3.7505319966534216,
          1.4054585518299518,
          2.831557889193732,
          11.32546505058042,
          7.735549556170781,
          1.5592937974194,
          5.08001300751539,
          3.739738602461216,
          -1.445930771718622,
          -0.908699534991797,
          3.934279895428972,
          -5.215193508355128,
          -8.338442526185418,
          -15.73556294735215,
          -4.349598960177104,
          7.762556930799519,
          -12.429421733682261,
          -30.50333077633468,
          -6.658455192364158,
          4.537589114917182,
          7.667551408439408,
          2.7704406002571886,
          -0.8993055515413744,
          4.5895477338150386,
          7.782685298449792,
          -2.3476539495799216,
          -4.7364835008162345,
          4.130070751090784,
          0.6748594759659454,
          0.2535593812934849,
          4.601310470850308,
          -6.03203106061801,
          5.124156228975153,
          5.619548290666216,
          -1.38017154194074,
          -5.059904404425879,
          2.168836861333716,
          -7.9177971199031845,
          -0.79426221615131,
          1.2745097370476515,
          -3.9292130711560276,
          -8.736776541030395,
          0.15603341577195806,
          3.8494901413279194,
          -4.226424390256284,
          -7.908616245048279,
          -3.6810528949669106,
          5.862659805081535,
          -8.341612845385043,
          1.72497087689635,
          2.1644880426334794,
          2.9720864812076115,
          -8.152449628717363,
          3.087351719756043,
          3.4341414177671368,
          7.67104276687985,
          3.473537645184365,
          5.604580804148441,
          3.0386572154171745,
          1.6877421046602876,
          5.992759955271481,
          1.5451358210435728,
          -6.479349022729366,
          15.260183591762143,
          -2.289521553306372,
          -2.480374032027953,
          -3.557737364913578,
          -12.273505825057669,
          2.089255188347238,
          -2.2604042813871956,
          3.426582158952442,
          -3.1246860098505067,
          -2.4040200960210996,
          0.22354519208806778,
          2.5073302556301087,
          3.5478622985516495,
          24.50244762494674,
          2.8914697157447335,
          4.9051453096466275,
          7.520134903397093,
          3.5993265393459524,
          7.888814364955238,
          3.2914225754913105,
          6.476149742471648,
          -4.643719227638144,
          2.5924011494536217,
          -1.5181298280423334,
          -2.459769654773254,
          2.336854462601309,
          6.988489870515195,
          3.575759560301549,
          5.347003889613347,
          -1.4986455945556827,
          0.4251992123218997,
          13.500001129530006,
          2.295428232848053,
          -7.289360920599847,
          -4.62512172140066,
          -3.106074700573231,
          -7.253040488084821,
          -12.387664193061482,
          -3.4049561510734065,
          -5.704594026116524,
          -21.234247296942385,
          -11.640627949183,
          -8.068990526319453,
          -1.8195909299240611,
          -0.5386721148144034,
          3.545020378737945,
          5.594959020896681,
          6.994127369114494,
          -4.6436240417050385,
          4.309943845905877,
          -0.8173251221285227,
          -1.8935901116262812,
          3.872215589586631,
          1.5682763327156408,
          -6.123442455631334,
          -4.835556446982423,
          -2.4013665488637344,
          -3.6493363530966008,
          -2.356054134745932,
          9.27595450016645,
          0.3626669515292633,
          -0.08582871078328935,
          2.287720631210391,
          -2.2987368473005745,
          -9.775302815338023,
          -10.674354485410618,
          -6.4875769872115825,
          5.118054515618269,
          3.0132371274251,
          7.261288723374832,
          2.5876805244872685,
          3.7690559437988895,
          6.381609919900825,
          6.471943028014607,
          2.002640735632326,
          -2.2502191789741346,
          -2.660594021941506,
          -1.0426458383174122,
          -5.747974802865997,
          -6.265253205983754,
          -4.950725035714299,
          -3.973914676225604,
          0.24112110070836934,
          5.045413462973443,
          1.2820329180782437,
          -9.42529845492993,
          -8.179459073400153,
          -2.764951515559119,
          -1.3701488845786116,
          5.7981723920148625,
          -4.405959856853656,
          6.747783200478011,
          -4.279430190508265,
          9.675717339428388,
          2.605013465381603,
          -2.1909011358334283,
          -4.805149701516598,
          2.4345508965163845,
          1.3280929243913988,
          0.3233983501035027,
          -3.555141016580933,
          -1.5304512305900744,
          -10.559244860381796,
          -12.434096950144635,
          -12.883145381081931,
          -9.99307064389427,
          2.4621723062771252,
          1.6535352470301632,
          1.7703812548303404,
          1.4362752016149898,
          4.636084443995287,
          -0.8964597418220137,
          -0.41917645277590054,
          1.4584189422722602,
          -0.5913638375465098,
          -0.24824513678879612,
          6.723130917192975,
          -0.995055597749797,
          -2.5402802048171225,
          -2.4717767956548187,
          -3.8560831098186554,
          -4.409654449930827,
          -11.74762392869468,
          -3.5824663222932713,
          0.09436661625466058,
          4.628677260280597,
          3.379685494752607,
          -2.7882690811043176,
          0.2865957634859342,
          -2.2766689362657644,
          -3.0231570091858657,
          -12.797896149867142,
          2.0436436026135425,
          -2.0006226559814877,
          -0.5785980956746926,
          7.950459413729959,
          5.044585608107241,
          -0.9101123202372037,
          -17.748479461962233,
          10.751999277399932,
          -5.563336808754798,
          0.26279263751587223,
          -19.360890846692996,
          2.0180981968557035,
          -0.03434402610525922,
          2.795536433564962,
          1.183418341862989,
          0.6508103042450557,
          3.6687988158980716,
          -4.731947773383013,
          -3.1021613101233925,
          -9.172753499695773,
          4.677395429673993,
          -0.42995522809872,
          -4.831597517548289,
          7.331233919926149,
          0.22282504709653495,
          0.8179838572966673,
          3.9992597199906186,
          0.40878457087399056,
          -1.077211280381448,
          -0.5973673134154751,
          6.873628260485816,
          -2.8588385814889534,
          4.178086820954945,
          1.8480722704832715,
          9.408521234087402,
          7.795471460849399,
          -4.906415904581081,
          -3.23269277854979,
          1.4410617473588445,
          -1.7897992850182618,
          0.08975368104586323,
          -7.183457319852664,
          2.1476391071191756,
          -2.6387628228848143,
          7.426472827931548,
          11.138250513725097,
          1.7776451829219013,
          0.38533378874319624,
          3.947576518267283,
          -0.9627080523464429,
          -13.792420124817454,
          -3.00933716114821,
          8.284429876590366,
          -0.8484041857558395,
          4.468573483202704,
          4.9300326538159425,
          0.10306730375134521,
          8.810053451228214,
          -3.661961627695405,
          5.369815192002534,
          1.8378840470821842,
          4.54978297983746,
          0.14743876612590157,
          -1.3147160782334595,
          0.5503449676783703,
          4.432315816472851,
          13.4477248707841
         ],
         "yaxis": "y"
        },
        {
         "line": {
          "dash": "dash"
         },
         "type": "scatter",
         "x": [
          100,
          97,
          96,
          94,
          92,
          91,
          87,
          86,
          85,
          84,
          82,
          81,
          80,
          79,
          78,
          76,
          75,
          73,
          72,
          71,
          71,
          70,
          68,
          64,
          57,
          52,
          49,
          44,
          97,
          96,
          91,
          89,
          88,
          87,
          86,
          86,
          85,
          84,
          84,
          82,
          80,
          79,
          79,
          79,
          79,
          78,
          77,
          76,
          76,
          74,
          73,
          72,
          72,
          71,
          71,
          69,
          69,
          69,
          67,
          66,
          63,
          62,
          59,
          59,
          58,
          54,
          52,
          49,
          40,
          93,
          92,
          89,
          89,
          88,
          86,
          85,
          84,
          84,
          83,
          82,
          81,
          81,
          77,
          73,
          72,
          72,
          71,
          69,
          68,
          68,
          67,
          67,
          67,
          64,
          60,
          59,
          55,
          54,
          47,
          47,
          32,
          98,
          96,
          93,
          91,
          90,
          89,
          88,
          88,
          87,
          87,
          82,
          81,
          80,
          77,
          76,
          75,
          75,
          74,
          74,
          74,
          74,
          73,
          72,
          70,
          69,
          68,
          67,
          66,
          63,
          62,
          60,
          60,
          43,
          90,
          89,
          88,
          87,
          84,
          83,
          83,
          82,
          79,
          79,
          78,
          77,
          77,
          76,
          75,
          74,
          73,
          73,
          72,
          71,
          69,
          68,
          67,
          66,
          66,
          59,
          59,
          58,
          58,
          54,
          53,
          99,
          98,
          94,
          94,
          93,
          92,
          90,
          89,
          86,
          85,
          83,
          80,
          77,
          76,
          76,
          76,
          76,
          75,
          74,
          74,
          73,
          73,
          70,
          69,
          68,
          67,
          67,
          65,
          65,
          63,
          62,
          56,
          54,
          53,
          45,
          100,
          98,
          96,
          94,
          92,
          90,
          89,
          87,
          84,
          84,
          82,
          80,
          79,
          77,
          76,
          76,
          70,
          68,
          65,
          63,
          60,
          59,
          57,
          24,
          94,
          93,
          87,
          86,
          83,
          82,
          82,
          81,
          80,
          80,
          80,
          80,
          78,
          78,
          77,
          76,
          75,
          72,
          72,
          71,
          71,
          70,
          69,
          69,
          68,
          67,
          66,
          65,
          65,
          64,
          64,
          61,
          51,
          50,
          46,
          96,
          92,
          90,
          88,
          88,
          85,
          83,
          83,
          78,
          77,
          77,
          75,
          74,
          73,
          70,
          69,
          67,
          63,
          62,
          58,
          56,
          51,
          94,
          93,
          92,
          90,
          86,
          86,
          84,
          81,
          81,
          79,
          79,
          78,
          78,
          76,
          74,
          74,
          74,
          73,
          71,
          70,
          70,
          70,
          68,
          68,
          65,
          64,
          63,
          56,
          55,
          51,
          48,
          99,
          95,
          95,
          92,
          88,
          88,
          85,
          84,
          83,
          81,
          81,
          81,
          79,
          77,
          77,
          75,
          74,
          70,
          69,
          68,
          65,
          64,
          52,
          43,
          37,
          94,
          93,
          88,
          88,
          88,
          84,
          82,
          79,
          79,
          78,
          78,
          78,
          78,
          78,
          73,
          66,
          66,
          65,
          64,
          63,
          61,
          95,
          91,
          90,
          86,
          86,
          85,
          84,
          84,
          83,
          83,
          80,
          80,
          78,
          72,
          71,
          69,
          55,
          97,
          95,
          94,
          92,
          90,
          89,
          89,
          87,
          82,
          81,
          80,
          79,
          78,
          77,
          75,
          73,
          69,
          95,
          91,
          91,
          89,
          85,
          83,
          75,
          72,
          71,
          68,
          64,
          91,
          88,
          84,
          72,
          70,
          68,
          62,
          61,
          57,
          97,
          93,
          90,
          90,
          89,
          86,
          85,
          82,
          80,
          75,
          75,
          48,
          91,
          85,
          85,
          83,
          81,
          79,
          71,
          63,
          62,
          93,
          92,
          90,
          81,
          72,
          42,
          91,
          87,
          83,
          76,
          72,
          53,
          99,
          82,
          92,
          90,
          85,
          62,
          61,
          89,
          84,
          73,
          91,
          87,
          85,
          89,
          74,
          96,
          72,
          90,
          93,
          87,
          80,
          91,
          90
         ],
         "y": [
          7.976741931465611,
          6.988205661553923,
          6.658693571583363,
          5.9996693916422394,
          5.340645211701116,
          5.0111331217305555,
          3.693084761848308,
          3.3635726718777477,
          3.034060581907184,
          2.704548491936624,
          2.0455243119955,
          1.7160122220249363,
          1.3865001320543762,
          1.056988042083816,
          0.7274759521132523,
          0.0684517721721285,
          -0.26106031779843164,
          -0.9200844977395555,
          -1.2495965877101156,
          -1.5791086776806793,
          -1.5791086776806793,
          -1.9086207676512394,
          -2.5676449475923633,
          -3.885693307474611,
          -6.192277937268543,
          -7.83983838712135,
          -8.828374657033038,
          -10.475935106885846,
          6.988205661553923,
          6.658693571583363,
          5.0111331217305555,
          4.352108941789432,
          4.022596851818868,
          3.693084761848308,
          3.3635726718777477,
          3.3635726718777477,
          3.034060581907184,
          2.704548491936624,
          2.704548491936624,
          2.0455243119955,
          1.3865001320543762,
          1.056988042083816,
          1.056988042083816,
          1.056988042083816,
          1.056988042083816,
          0.7274759521132523,
          0.3979638621426922,
          0.0684517721721285,
          0.0684517721721285,
          -0.5905724077689953,
          -0.9200844977395555,
          -1.2495965877101156,
          -1.2495965877101156,
          -1.5791086776806793,
          -1.5791086776806793,
          -2.238132857621803,
          -2.238132857621803,
          -2.238132857621803,
          -2.897157037562927,
          -3.226669127533487,
          -4.215205397445171,
          -4.544717487415735,
          -5.533253757327419,
          -5.533253757327419,
          -5.8627658472979824,
          -7.180814207180227,
          -7.83983838712135,
          -8.828374657033038,
          -11.793983466768092,
          5.670157301671679,
          5.340645211701116,
          4.352108941789432,
          4.352108941789432,
          4.022596851818868,
          3.3635726718777477,
          3.034060581907184,
          2.704548491936624,
          2.704548491936624,
          2.37503640196606,
          2.0455243119955,
          1.7160122220249363,
          1.7160122220249363,
          0.3979638621426922,
          -0.9200844977395555,
          -1.2495965877101156,
          -1.2495965877101156,
          -1.5791086776806793,
          -2.238132857621803,
          -2.5676449475923633,
          -2.5676449475923633,
          -2.897157037562927,
          -2.897157037562927,
          -2.897157037562927,
          -3.885693307474611,
          -5.203741667356859,
          -5.533253757327419,
          -6.851302117209666,
          -7.180814207180227,
          -9.48739883697416,
          -9.48739883697416,
          -14.430080186532585,
          7.317717751524484,
          6.658693571583363,
          5.670157301671679,
          5.0111331217305555,
          4.681621031759992,
          4.352108941789432,
          4.022596851818868,
          4.022596851818868,
          3.693084761848308,
          3.693084761848308,
          2.0455243119955,
          1.7160122220249363,
          1.3865001320543762,
          0.3979638621426922,
          0.0684517721721285,
          -0.26106031779843164,
          -0.26106031779843164,
          -0.5905724077689953,
          -0.5905724077689953,
          -0.5905724077689953,
          -0.5905724077689953,
          -0.9200844977395555,
          -1.2495965877101156,
          -1.9086207676512394,
          -2.238132857621803,
          -2.5676449475923633,
          -2.897157037562927,
          -3.226669127533487,
          -4.215205397445171,
          -4.544717487415735,
          -5.203741667356859,
          -5.203741667356859,
          -10.805447196856406,
          4.681621031759992,
          4.352108941789432,
          4.022596851818868,
          3.693084761848308,
          2.704548491936624,
          2.37503640196606,
          2.37503640196606,
          2.0455243119955,
          1.056988042083816,
          1.056988042083816,
          0.7274759521132523,
          0.3979638621426922,
          0.3979638621426922,
          0.0684517721721285,
          -0.26106031779843164,
          -0.5905724077689953,
          -0.9200844977395555,
          -0.9200844977395555,
          -1.2495965877101156,
          -1.5791086776806793,
          -2.238132857621803,
          -2.5676449475923633,
          -2.897157037562927,
          -3.226669127533487,
          -3.226669127533487,
          -5.533253757327419,
          -5.533253757327419,
          -5.8627658472979824,
          -5.8627658472979824,
          -7.180814207180227,
          -7.51032629715079,
          7.647229841495047,
          7.317717751524484,
          5.9996693916422394,
          5.9996693916422394,
          5.670157301671679,
          5.340645211701116,
          4.681621031759992,
          4.352108941789432,
          3.3635726718777477,
          3.034060581907184,
          2.37503640196606,
          1.3865001320543762,
          0.3979638621426922,
          0.0684517721721285,
          0.0684517721721285,
          0.0684517721721285,
          0.0684517721721285,
          -0.26106031779843164,
          -0.5905724077689953,
          -0.5905724077689953,
          -0.9200844977395555,
          -0.9200844977395555,
          -1.9086207676512394,
          -2.238132857621803,
          -2.5676449475923633,
          -2.897157037562927,
          -2.897157037562927,
          -3.556181217504051,
          -3.556181217504051,
          -4.215205397445171,
          -4.544717487415735,
          -6.521790027239106,
          -7.180814207180227,
          -7.51032629715079,
          -10.146423016915284,
          7.976741931465611,
          7.317717751524484,
          6.658693571583363,
          5.9996693916422394,
          5.340645211701116,
          4.681621031759992,
          4.352108941789432,
          3.693084761848308,
          2.704548491936624,
          2.704548491936624,
          2.0455243119955,
          1.3865001320543762,
          1.056988042083816,
          0.3979638621426922,
          0.0684517721721285,
          0.0684517721721285,
          -1.9086207676512394,
          -2.5676449475923633,
          -3.556181217504051,
          -4.215205397445171,
          -5.203741667356859,
          -5.533253757327419,
          -6.192277937268543,
          -17.06617690629708,
          5.9996693916422394,
          5.670157301671679,
          3.693084761848308,
          3.3635726718777477,
          2.37503640196606,
          2.0455243119955,
          2.0455243119955,
          1.7160122220249363,
          1.3865001320543762,
          1.3865001320543762,
          1.3865001320543762,
          1.3865001320543762,
          0.7274759521132523,
          0.7274759521132523,
          0.3979638621426922,
          0.0684517721721285,
          -0.26106031779843164,
          -1.2495965877101156,
          -1.2495965877101156,
          -1.5791086776806793,
          -1.5791086776806793,
          -1.9086207676512394,
          -2.238132857621803,
          -2.238132857621803,
          -2.5676449475923633,
          -2.897157037562927,
          -3.226669127533487,
          -3.556181217504051,
          -3.556181217504051,
          -3.885693307474611,
          -3.885693307474611,
          -4.874229577386295,
          -8.169350477091914,
          -8.498862567062474,
          -9.816910926944722,
          6.658693571583363,
          5.340645211701116,
          4.681621031759992,
          4.022596851818868,
          4.022596851818868,
          3.034060581907184,
          2.37503640196606,
          2.37503640196606,
          0.7274759521132523,
          0.3979638621426922,
          0.3979638621426922,
          -0.26106031779843164,
          -0.5905724077689953,
          -0.9200844977395555,
          -1.9086207676512394,
          -2.238132857621803,
          -2.897157037562927,
          -4.215205397445171,
          -4.544717487415735,
          -5.8627658472979824,
          -6.521790027239106,
          -8.169350477091914,
          5.9996693916422394,
          5.670157301671679,
          5.340645211701116,
          4.681621031759992,
          3.3635726718777477,
          3.3635726718777477,
          2.704548491936624,
          1.7160122220249363,
          1.7160122220249363,
          1.056988042083816,
          1.056988042083816,
          0.7274759521132523,
          0.7274759521132523,
          0.0684517721721285,
          -0.5905724077689953,
          -0.5905724077689953,
          -0.5905724077689953,
          -0.9200844977395555,
          -1.5791086776806793,
          -1.9086207676512394,
          -1.9086207676512394,
          -1.9086207676512394,
          -2.5676449475923633,
          -2.5676449475923633,
          -3.556181217504051,
          -3.885693307474611,
          -4.215205397445171,
          -6.521790027239106,
          -6.851302117209666,
          -8.169350477091914,
          -9.157886747003598,
          7.647229841495047,
          6.329181481612803,
          6.329181481612803,
          5.340645211701116,
          4.022596851818868,
          4.022596851818868,
          3.034060581907184,
          2.704548491936624,
          2.37503640196606,
          1.7160122220249363,
          1.7160122220249363,
          1.7160122220249363,
          1.056988042083816,
          0.3979638621426922,
          0.3979638621426922,
          -0.26106031779843164,
          -0.5905724077689953,
          -1.9086207676512394,
          -2.238132857621803,
          -2.5676449475923633,
          -3.556181217504051,
          -3.885693307474611,
          -7.83983838712135,
          -10.805447196856406,
          -12.782519736679777,
          5.9996693916422394,
          5.670157301671679,
          4.022596851818868,
          4.022596851818868,
          4.022596851818868,
          2.704548491936624,
          2.0455243119955,
          1.056988042083816,
          1.056988042083816,
          0.7274759521132523,
          0.7274759521132523,
          0.7274759521132523,
          0.7274759521132523,
          0.7274759521132523,
          -0.9200844977395555,
          -3.226669127533487,
          -3.226669127533487,
          -3.556181217504051,
          -3.885693307474611,
          -4.215205397445171,
          -4.874229577386295,
          6.329181481612803,
          5.0111331217305555,
          4.681621031759992,
          3.3635726718777477,
          3.3635726718777477,
          3.034060581907184,
          2.704548491936624,
          2.704548491936624,
          2.37503640196606,
          2.37503640196606,
          1.3865001320543762,
          1.3865001320543762,
          0.7274759521132523,
          -1.2495965877101156,
          -1.5791086776806793,
          -2.238132857621803,
          -6.851302117209666,
          6.988205661553923,
          6.329181481612803,
          5.9996693916422394,
          5.340645211701116,
          4.681621031759992,
          4.352108941789432,
          4.352108941789432,
          3.693084761848308,
          2.0455243119955,
          1.7160122220249363,
          1.3865001320543762,
          1.056988042083816,
          0.7274759521132523,
          0.3979638621426922,
          -0.26106031779843164,
          -0.9200844977395555,
          -2.238132857621803,
          6.329181481612803,
          5.0111331217305555,
          5.0111331217305555,
          4.352108941789432,
          3.034060581907184,
          2.37503640196606,
          -0.26106031779843164,
          -1.2495965877101156,
          -1.5791086776806793,
          -2.5676449475923633,
          -3.885693307474611,
          5.0111331217305555,
          4.022596851818868,
          2.704548491936624,
          -1.2495965877101156,
          -1.9086207676512394,
          -2.5676449475923633,
          -4.544717487415735,
          -4.874229577386295,
          -6.192277937268543,
          6.988205661553923,
          5.670157301671679,
          4.681621031759992,
          4.681621031759992,
          4.352108941789432,
          3.3635726718777477,
          3.034060581907184,
          2.0455243119955,
          1.3865001320543762,
          -0.26106031779843164,
          -0.26106031779843164,
          -9.157886747003598,
          5.0111331217305555,
          3.034060581907184,
          3.034060581907184,
          2.37503640196606,
          1.7160122220249363,
          1.056988042083816,
          -1.5791086776806793,
          -4.215205397445171,
          -4.544717487415735,
          5.670157301671679,
          5.340645211701116,
          4.681621031759992,
          1.7160122220249363,
          -1.2495965877101156,
          -11.134959286826968,
          5.0111331217305555,
          3.693084761848308,
          2.37503640196606,
          0.0684517721721285,
          -1.2495965877101156,
          -7.51032629715079,
          7.647229841495047,
          2.0455243119955,
          5.340645211701116,
          4.681621031759992,
          3.034060581907184,
          -4.544717487415735,
          -4.874229577386295,
          4.352108941789432,
          2.704548491936624,
          -0.9200844977395555,
          5.0111331217305555,
          3.693084761848308,
          3.034060581907184,
          4.352108941789432,
          -0.5905724077689953,
          6.658693571583363,
          -1.2495965877101156,
          4.681621031759992,
          5.670157301671679,
          3.693084761848308,
          1.3865001320543762,
          5.0111331217305555,
          4.681621031759992
         ]
        }
       ],
       "layout": {
        "legend": {
         "tracegroupgap": 0
        },
        "margin": {
         "t": 60
        },
        "template": {
         "data": {
          "bar": [
           {
            "error_x": {
             "color": "#2a3f5f"
            },
            "error_y": {
             "color": "#2a3f5f"
            },
            "marker": {
             "line": {
              "color": "#E5ECF6",
              "width": 0.5
             },
             "pattern": {
              "fillmode": "overlay",
              "size": 10,
              "solidity": 0.2
             }
            },
            "type": "bar"
           }
          ],
          "barpolar": [
           {
            "marker": {
             "line": {
              "color": "#E5ECF6",
              "width": 0.5
             },
             "pattern": {
              "fillmode": "overlay",
              "size": 10,
              "solidity": 0.2
             }
            },
            "type": "barpolar"
           }
          ],
          "carpet": [
           {
            "aaxis": {
             "endlinecolor": "#2a3f5f",
             "gridcolor": "white",
             "linecolor": "white",
             "minorgridcolor": "white",
             "startlinecolor": "#2a3f5f"
            },
            "baxis": {
             "endlinecolor": "#2a3f5f",
             "gridcolor": "white",
             "linecolor": "white",
             "minorgridcolor": "white",
             "startlinecolor": "#2a3f5f"
            },
            "type": "carpet"
           }
          ],
          "choropleth": [
           {
            "colorbar": {
             "outlinewidth": 0,
             "ticks": ""
            },
            "type": "choropleth"
           }
          ],
          "contour": [
           {
            "colorbar": {
             "outlinewidth": 0,
             "ticks": ""
            },
            "colorscale": [
             [
              0,
              "#0d0887"
             ],
             [
              0.1111111111111111,
              "#46039f"
             ],
             [
              0.2222222222222222,
              "#7201a8"
             ],
             [
              0.3333333333333333,
              "#9c179e"
             ],
             [
              0.4444444444444444,
              "#bd3786"
             ],
             [
              0.5555555555555556,
              "#d8576b"
             ],
             [
              0.6666666666666666,
              "#ed7953"
             ],
             [
              0.7777777777777778,
              "#fb9f3a"
             ],
             [
              0.8888888888888888,
              "#fdca26"
             ],
             [
              1,
              "#f0f921"
             ]
            ],
            "type": "contour"
           }
          ],
          "contourcarpet": [
           {
            "colorbar": {
             "outlinewidth": 0,
             "ticks": ""
            },
            "type": "contourcarpet"
           }
          ],
          "heatmap": [
           {
            "colorbar": {
             "outlinewidth": 0,
             "ticks": ""
            },
            "colorscale": [
             [
              0,
              "#0d0887"
             ],
             [
              0.1111111111111111,
              "#46039f"
             ],
             [
              0.2222222222222222,
              "#7201a8"
             ],
             [
              0.3333333333333333,
              "#9c179e"
             ],
             [
              0.4444444444444444,
              "#bd3786"
             ],
             [
              0.5555555555555556,
              "#d8576b"
             ],
             [
              0.6666666666666666,
              "#ed7953"
             ],
             [
              0.7777777777777778,
              "#fb9f3a"
             ],
             [
              0.8888888888888888,
              "#fdca26"
             ],
             [
              1,
              "#f0f921"
             ]
            ],
            "type": "heatmap"
           }
          ],
          "heatmapgl": [
           {
            "colorbar": {
             "outlinewidth": 0,
             "ticks": ""
            },
            "colorscale": [
             [
              0,
              "#0d0887"
             ],
             [
              0.1111111111111111,
              "#46039f"
             ],
             [
              0.2222222222222222,
              "#7201a8"
             ],
             [
              0.3333333333333333,
              "#9c179e"
             ],
             [
              0.4444444444444444,
              "#bd3786"
             ],
             [
              0.5555555555555556,
              "#d8576b"
             ],
             [
              0.6666666666666666,
              "#ed7953"
             ],
             [
              0.7777777777777778,
              "#fb9f3a"
             ],
             [
              0.8888888888888888,
              "#fdca26"
             ],
             [
              1,
              "#f0f921"
             ]
            ],
            "type": "heatmapgl"
           }
          ],
          "histogram": [
           {
            "marker": {
             "pattern": {
              "fillmode": "overlay",
              "size": 10,
              "solidity": 0.2
             }
            },
            "type": "histogram"
           }
          ],
          "histogram2d": [
           {
            "colorbar": {
             "outlinewidth": 0,
             "ticks": ""
            },
            "colorscale": [
             [
              0,
              "#0d0887"
             ],
             [
              0.1111111111111111,
              "#46039f"
             ],
             [
              0.2222222222222222,
              "#7201a8"
             ],
             [
              0.3333333333333333,
              "#9c179e"
             ],
             [
              0.4444444444444444,
              "#bd3786"
             ],
             [
              0.5555555555555556,
              "#d8576b"
             ],
             [
              0.6666666666666666,
              "#ed7953"
             ],
             [
              0.7777777777777778,
              "#fb9f3a"
             ],
             [
              0.8888888888888888,
              "#fdca26"
             ],
             [
              1,
              "#f0f921"
             ]
            ],
            "type": "histogram2d"
           }
          ],
          "histogram2dcontour": [
           {
            "colorbar": {
             "outlinewidth": 0,
             "ticks": ""
            },
            "colorscale": [
             [
              0,
              "#0d0887"
             ],
             [
              0.1111111111111111,
              "#46039f"
             ],
             [
              0.2222222222222222,
              "#7201a8"
             ],
             [
              0.3333333333333333,
              "#9c179e"
             ],
             [
              0.4444444444444444,
              "#bd3786"
             ],
             [
              0.5555555555555556,
              "#d8576b"
             ],
             [
              0.6666666666666666,
              "#ed7953"
             ],
             [
              0.7777777777777778,
              "#fb9f3a"
             ],
             [
              0.8888888888888888,
              "#fdca26"
             ],
             [
              1,
              "#f0f921"
             ]
            ],
            "type": "histogram2dcontour"
           }
          ],
          "mesh3d": [
           {
            "colorbar": {
             "outlinewidth": 0,
             "ticks": ""
            },
            "type": "mesh3d"
           }
          ],
          "parcoords": [
           {
            "line": {
             "colorbar": {
              "outlinewidth": 0,
              "ticks": ""
             }
            },
            "type": "parcoords"
           }
          ],
          "pie": [
           {
            "automargin": true,
            "type": "pie"
           }
          ],
          "scatter": [
           {
            "fillpattern": {
             "fillmode": "overlay",
             "size": 10,
             "solidity": 0.2
            },
            "type": "scatter"
           }
          ],
          "scatter3d": [
           {
            "line": {
             "colorbar": {
              "outlinewidth": 0,
              "ticks": ""
             }
            },
            "marker": {
             "colorbar": {
              "outlinewidth": 0,
              "ticks": ""
             }
            },
            "type": "scatter3d"
           }
          ],
          "scattercarpet": [
           {
            "marker": {
             "colorbar": {
              "outlinewidth": 0,
              "ticks": ""
             }
            },
            "type": "scattercarpet"
           }
          ],
          "scattergeo": [
           {
            "marker": {
             "colorbar": {
              "outlinewidth": 0,
              "ticks": ""
             }
            },
            "type": "scattergeo"
           }
          ],
          "scattergl": [
           {
            "marker": {
             "colorbar": {
              "outlinewidth": 0,
              "ticks": ""
             }
            },
            "type": "scattergl"
           }
          ],
          "scattermapbox": [
           {
            "marker": {
             "colorbar": {
              "outlinewidth": 0,
              "ticks": ""
             }
            },
            "type": "scattermapbox"
           }
          ],
          "scatterpolar": [
           {
            "marker": {
             "colorbar": {
              "outlinewidth": 0,
              "ticks": ""
             }
            },
            "type": "scatterpolar"
           }
          ],
          "scatterpolargl": [
           {
            "marker": {
             "colorbar": {
              "outlinewidth": 0,
              "ticks": ""
             }
            },
            "type": "scatterpolargl"
           }
          ],
          "scatterternary": [
           {
            "marker": {
             "colorbar": {
              "outlinewidth": 0,
              "ticks": ""
             }
            },
            "type": "scatterternary"
           }
          ],
          "surface": [
           {
            "colorbar": {
             "outlinewidth": 0,
             "ticks": ""
            },
            "colorscale": [
             [
              0,
              "#0d0887"
             ],
             [
              0.1111111111111111,
              "#46039f"
             ],
             [
              0.2222222222222222,
              "#7201a8"
             ],
             [
              0.3333333333333333,
              "#9c179e"
             ],
             [
              0.4444444444444444,
              "#bd3786"
             ],
             [
              0.5555555555555556,
              "#d8576b"
             ],
             [
              0.6666666666666666,
              "#ed7953"
             ],
             [
              0.7777777777777778,
              "#fb9f3a"
             ],
             [
              0.8888888888888888,
              "#fdca26"
             ],
             [
              1,
              "#f0f921"
             ]
            ],
            "type": "surface"
           }
          ],
          "table": [
           {
            "cells": {
             "fill": {
              "color": "#EBF0F8"
             },
             "line": {
              "color": "white"
             }
            },
            "header": {
             "fill": {
              "color": "#C8D4E3"
             },
             "line": {
              "color": "white"
             }
            },
            "type": "table"
           }
          ]
         },
         "layout": {
          "annotationdefaults": {
           "arrowcolor": "#2a3f5f",
           "arrowhead": 0,
           "arrowwidth": 1
          },
          "autotypenumbers": "strict",
          "coloraxis": {
           "colorbar": {
            "outlinewidth": 0,
            "ticks": ""
           }
          },
          "colorscale": {
           "diverging": [
            [
             0,
             "#8e0152"
            ],
            [
             0.1,
             "#c51b7d"
            ],
            [
             0.2,
             "#de77ae"
            ],
            [
             0.3,
             "#f1b6da"
            ],
            [
             0.4,
             "#fde0ef"
            ],
            [
             0.5,
             "#f7f7f7"
            ],
            [
             0.6,
             "#e6f5d0"
            ],
            [
             0.7,
             "#b8e186"
            ],
            [
             0.8,
             "#7fbc41"
            ],
            [
             0.9,
             "#4d9221"
            ],
            [
             1,
             "#276419"
            ]
           ],
           "sequential": [
            [
             0,
             "#0d0887"
            ],
            [
             0.1111111111111111,
             "#46039f"
            ],
            [
             0.2222222222222222,
             "#7201a8"
            ],
            [
             0.3333333333333333,
             "#9c179e"
            ],
            [
             0.4444444444444444,
             "#bd3786"
            ],
            [
             0.5555555555555556,
             "#d8576b"
            ],
            [
             0.6666666666666666,
             "#ed7953"
            ],
            [
             0.7777777777777778,
             "#fb9f3a"
            ],
            [
             0.8888888888888888,
             "#fdca26"
            ],
            [
             1,
             "#f0f921"
            ]
           ],
           "sequentialminus": [
            [
             0,
             "#0d0887"
            ],
            [
             0.1111111111111111,
             "#46039f"
            ],
            [
             0.2222222222222222,
             "#7201a8"
            ],
            [
             0.3333333333333333,
             "#9c179e"
            ],
            [
             0.4444444444444444,
             "#bd3786"
            ],
            [
             0.5555555555555556,
             "#d8576b"
            ],
            [
             0.6666666666666666,
             "#ed7953"
            ],
            [
             0.7777777777777778,
             "#fb9f3a"
            ],
            [
             0.8888888888888888,
             "#fdca26"
            ],
            [
             1,
             "#f0f921"
            ]
           ]
          },
          "colorway": [
           "#636efa",
           "#EF553B",
           "#00cc96",
           "#ab63fa",
           "#FFA15A",
           "#19d3f3",
           "#FF6692",
           "#B6E880",
           "#FF97FF",
           "#FECB52"
          ],
          "font": {
           "color": "#2a3f5f"
          },
          "geo": {
           "bgcolor": "white",
           "lakecolor": "white",
           "landcolor": "#E5ECF6",
           "showlakes": true,
           "showland": true,
           "subunitcolor": "white"
          },
          "hoverlabel": {
           "align": "left"
          },
          "hovermode": "closest",
          "mapbox": {
           "style": "light"
          },
          "paper_bgcolor": "white",
          "plot_bgcolor": "#E5ECF6",
          "polar": {
           "angularaxis": {
            "gridcolor": "white",
            "linecolor": "white",
            "ticks": ""
           },
           "bgcolor": "#E5ECF6",
           "radialaxis": {
            "gridcolor": "white",
            "linecolor": "white",
            "ticks": ""
           }
          },
          "scene": {
           "xaxis": {
            "backgroundcolor": "#E5ECF6",
            "gridcolor": "white",
            "gridwidth": 2,
            "linecolor": "white",
            "showbackground": true,
            "ticks": "",
            "zerolinecolor": "white"
           },
           "yaxis": {
            "backgroundcolor": "#E5ECF6",
            "gridcolor": "white",
            "gridwidth": 2,
            "linecolor": "white",
            "showbackground": true,
            "ticks": "",
            "zerolinecolor": "white"
           },
           "zaxis": {
            "backgroundcolor": "#E5ECF6",
            "gridcolor": "white",
            "gridwidth": 2,
            "linecolor": "white",
            "showbackground": true,
            "ticks": "",
            "zerolinecolor": "white"
           }
          },
          "shapedefaults": {
           "line": {
            "color": "#2a3f5f"
           }
          },
          "ternary": {
           "aaxis": {
            "gridcolor": "white",
            "linecolor": "white",
            "ticks": ""
           },
           "baxis": {
            "gridcolor": "white",
            "linecolor": "white",
            "ticks": ""
           },
           "bgcolor": "#E5ECF6",
           "caxis": {
            "gridcolor": "white",
            "linecolor": "white",
            "ticks": ""
           }
          },
          "title": {
           "x": 0.05
          },
          "xaxis": {
           "automargin": true,
           "gridcolor": "white",
           "linecolor": "white",
           "ticks": "",
           "title": {
            "standoff": 15
           },
           "zerolinecolor": "white",
           "zerolinewidth": 2
          },
          "yaxis": {
           "automargin": true,
           "gridcolor": "white",
           "linecolor": "white",
           "ticks": "",
           "title": {
            "standoff": 15
           },
           "zerolinecolor": "white",
           "zerolinewidth": 2
          }
         }
        },
        "xaxis": {
         "anchor": "y",
         "domain": [
          0,
          1
         ],
         "title": {
          "text": "Actual Rating"
         }
        },
        "yaxis": {
         "anchor": "x",
         "domain": [
          0,
          1
         ],
         "title": {
          "text": "Prediction delta"
         }
        }
       }
      },
      "text/html": [
       "<div>                            <div id=\"b0e0cfab-9048-423f-a640-0e7bdd54b14b\" class=\"plotly-graph-div\" style=\"height:525px; width:100%;\"></div>            <script type=\"text/javascript\">                require([\"plotly\"], function(Plotly) {                    window.PLOTLYENV=window.PLOTLYENV || {};                                    if (document.getElementById(\"b0e0cfab-9048-423f-a640-0e7bdd54b14b\")) {                    Plotly.newPlot(                        \"b0e0cfab-9048-423f-a640-0e7bdd54b14b\",                        [{\"hovertemplate\":\"<b>%{hovertext}</b><br><br>Actual Rating=%{x}<br>Prediction delta=%{y}<extra></extra>\",\"hovertext\":[\"The Legend of Zelda: Tears of the Kingdom\",\"Hi-Fi Rush\",\"Marvel's Spider-Man 2\",\"Cocoon\",\"Final Fantasy XVI\",\"Baldur's Gate 3\",\"Lies of P\",\"Star Wars Jedi Survivor\",\"Aces and Adventures\",\"Super Mario Bros. Wonder\",\"Armored Core VI: Fires of Rubicon\",\"Cassette Beasts\",\"Pikmin 4\",\"Diablo 4\",\"The Crew Motorfest\",\"Starfield\",\"F-Zero 99\",\"Wild Hearts\",\"Cities Skylines 2\",\"Jusant\",\"Assassin's Creed Mirage\",\"Counter-Strike 2\",\"20 Minutes Till Dawn\",\"Wo Long Fallen Dynasty\",\"Tchia\",\"Forza Motorsport (2023)\",\"Minecraft Legends\",\"Exoprimal\",\"Elden Ring\",\"God of War Ragnar\\u00f6k\",\"Horizon Forbidden West\",\"Gran Turismo 7\",\"Vampire Survivors\",\"Rogue Legacy 2\",\"OlliOlli World\",\"Stray\",\"Neon White\",\"Splatoon 3\",\"Citizen Sleeper\",\"Pokemon Legends Arceus\",\"Kirby and the Forgotten Land\",\"PlateUp!\",\"Two Point Campus\",\"Teenage Mutant Ninja Turtles: Shredder's Revenge\",\"Rollerdrome\",\"Nobody Saves The World\",\"Chained Echoes\",\"Overwatch 2\",\"Freshly Frosted\",\"Pokemon Violet\",\"Ghostwire Tokyo\",\"Cult of the Lamb\",\"High on Life\",\"Grid Legends\",\"Warpips\",\"TemTem\",\"Trek to Yomi\",\"Windjammers 2\",\"Tunic\",\"Need for Speed Unbound\",\"A Plague Tale: Requiem\",\"You Suck At Parking\",\"Lego Star Wars The Skywalker Saga\",\"Arcadeggedon\",\"Spacelines from the Far Out\",\"Lost Ark\",\"Golfie\",\"Diablo Immortal\",\"CrossfireX\",\"Metroid Dread\",\"Forza Horizon 5\",\"Psychonauts 2\",\"Ratchet & Clank: Rift Apart\",\"Death's Door\",\"Guardians of the Galaxy\",\"Unsighted\",\"Kena: Bridge of Spirits\",\"Returnal\",\"Ys IX: Monstrum Nox\",\"Deathloop\",\"Monster Hunter Rise\",\"Halo Infinite\",\"Loop Hero\",\"Wildermyth\",\"Hot Wheels Unleashed\",\"Tribes of Midgard\",\"Buck Up and Drive!\",\"Age of Empires IV\",\"Mini Motorways\",\"The Riftbreaker\",\"Mario Golf: Super Rush\",\"Boyfriend Dungeon\",\"Curse of the Dead Gods\",\"The Ascent\",\"Scarlet Nexus\",\"Back 4 Blood\",\"Destruction Allstars\",\"Dandy Ace\",\"F.I.S.T. Forged In Shadow Torch\",\"Cruis'n Blast\",\"Sunlight\",\"Hades\",\"The Last of Us Part II\",\"Ghost of Tsushima\",\"Final Fantasy VII Remake\",\"Demon's Souls (Remake)\",\"Ori and The Will of the Wisps\",\"Marvel's Spider-Man Miles Morales\",\"Astro's Playroom\",\"F1 2020\",\"Animal Crossing New Horizons\",\"Monster Sanctuary\",\"Spiritfarer\",\"Dirt 5\",\"Streets of Rage 4\",\"Deep Rock Galactic\",\"Immortals Fenyx Rising\",\"Sackboy: A Big Adventure\",\"WRC 9\",\"Crash Bandicoot 4: Its About Time\",\"Call of Duty Black Ops Cold War\",\"Dreams\",\"Bugsnax\",\"Hyrule Warriors Age of Calamity\",\"Star Wars Squadrons\",\"Journey to the Savage Planet\",\"Cyberpunk 2077\",\"Golf With Your Friends\",\"Fall Guys\",\"Darksburg\",\"Minecraft Dungeons\",\"Doom Eternal\",\"Embr\",\"Marvel's Avengers\",\"Star Wars Jedi Fallen Order\",\"A Short Hike\",\"Astral Chain\",\"Devil May Cry 5\",\"Gears 5\",\"F1 2019\",\"Borderlands 3\",\"Luigi's Mansion 3\",\"Apex Legends\",\"Concrete Genie\",\"Kingdom Hearts 3\",\"Ring Fit Adventure\",\"Sekiro Shadows Die Twice\",\"A Plague Tale: Innocence\",\"Trials Rising\",\"Risk of Rain 2\",\"Dirt Rally 2.0\",\"The Legend of Zelda: Link's Awakening\",\"Darksiders Genesis\",\"Cat Quest II\",\"Wargroove\",\"GreedFall\",\"Grid (2019)\",\"The Jackbox Party Pack 6\",\"Dicey Dungeons\",\"Pokemon Sword\",\"The Outer Worlds\",\"Outer Wilds\",\"Unrailed!\",\"Need For Speed Heat\",\"Control\",\"God of War (2018)\",\"Red Dead Redemption 2\",\"Astro Bot Rescue Mission\",\"Celeste\",\"Marvel's Spider-Man\",\"Forza Horizon 4\",\"Super Smash Bros. Ultimate\",\"Tetris Effect\",\"Dead Cells\",\"Crosscode\",\"F1 2018\",\"Overcooked 2\",\"Gris\",\"Call of Duty Black Ops 4\",\"Warhammer Vermentide 2\",\"Monster Hunter World\",\"Moss PSVR\",\"Pokemon Let's Go Pikachu\",\"Northgard\",\"Wreckfest\",\"Parkitect\",\"Far Cry 5\",\"Fifa 19\",\"Detroit Become Human\",\"Golf Peaks\",\"Dragon Quest XI\",\"Assassin's Creed Odyssey\",\"Sea of Thieves\",\"Mario Tennis Aces\",\"Surviving Mars\",\"Shadow of the Colossus (Remake)\",\"For The King\",\"The Crew 2\",\"Octopath Traveller\",\"Farming Simulator 2019\",\"The Legend of Zelda: Breath of the Wild\",\"Super Mario Odyssey\",\"Horizon Zero Dawn\",\"Hollow Knight\",\"Uncharted The Lost Legacy\",\"Ys VIII Lacrimosa of Dana\",\"Divinity Original Sin 2\",\"Persona 5\",\"F1 2017\",\"Golf Story\",\"Assassin's Creed Origins\",\"Mario + Rabbids Kingdom Battle\",\"Gran Turismo Sport\",\"Call of Duty WW2\",\"Pyre\",\"WipeOut Omega Collection\",\"Cat Quest\",\"Nex Machina\",\"Nioh\",\"Nier Automata\",\"Prey\",\"Luna\",\"Middle Earth: Shadow of War\",\"Doom VFR\",\"Uncharted 4 A Thief's End\",\"Forza Horizon 3\",\"Titanfall 2\",\"Civilization VI\",\"Pokemon Sun\",\"F1 2016\",\"Forza Motorsport 7\",\"Inside\",\"Overwatch\",\"Overcooked\",\"Stardew Valley\",\"Gears of War 4\",\"Trackmania Turbo\",\"Ratchet & Clank\",\"Call of Duty Infinite Warfare\",\"Doom (2016)\",\"Hearts of Iron IV\",\"Stellaris\",\"Ultimate Chicken Horse\",\"Battlefield 1\",\"Hyper Light Drifter\",\"Abzu\",\"Motorsport Manager\",\"Watch Dogs 2\",\"Clustertruck\",\"Kingdom New Lands\",\"Far Cry Primal\",\"Final Fantasy XV\",\"Worms W.M.D\",\"Dragon Quest Builders\",\"The Last Guardian\",\"Human Fall Flat\",\"Shoppe Keep\",\"VR Worlds\",\"Youtubers Life\",\"Bloodborne\",\"Undertale\",\"Rocket League\",\"Cities Skylines\",\"Rise of the Tomb Raider \",\"Batman Arkham Knight\",\"OlliOlli 2: Welcome to Olliwood\",\"Halo 5: Guardians\",\"Assassin's Creed Syndicate\",\"Ori and The Blind Forest\",\"The Order 1886\",\"Call of Duty Black Ops III\",\"Prison Architect\",\"Crypt of the Necrodancer\",\"The Witcher 3\",\"Star Wars Battlefront\",\"Apotheon\",\"Just Cause 3\",\"Project Cars\",\"F1 2015\",\"Big Pharma\",\"Clicker Heroes\",\"Mario Kart 8\",\"Driveclub\",\"Dragon Age Inquisition\",\"Bayonetta 2\",\"Transistor\",\"Tales From the Borderlands\",\"Watch Dogs\",\"inFAMOUS Second Son\",\"Assassin's Creed Unity\",\"Far Cry 4\",\"Middle Earth Shadow of Mordor\",\"Call of Duty Advanced Warfare\",\"Pokemon Omega Ruby\",\"Trials Fusion\",\"Destiny\",\"Borderlands The Pre-Sequel\",\"Dungeon of the Endless\",\"Football Manager 2015\",\"Infamous First Light\",\"The Crew\",\"Assassin's Creed Rogue\",\"Velocity 2X\",\"Endless Legend\",\"Sportsfriends\",\"Grid Autosport\",\"Civilization Beyond Earth\",\"Banished\",\"Dead Nation: Apocalypse Edition\",\"Little Big Planet 3\",\"Pure Pool\",\"Game of Thrones Telltale\",\"The Last of Us\",\"Grand Theft Auto V\",\"Bioshock Infinite\",\"Rayman Legends\",\"Assassin's Creed IV Black Flag\",\"Super Mario 3D World\",\"Tearaway\",\"Europa Universalis IV\",\"Tomb Raider\",\"Resogun\",\"Fifa 14\",\"Path of Exile\",\"Pokemon Y\",\"Football Manager 2014\",\"Battlefield 4\",\"Guacamelee!\",\"Warframe\",\"Don't Starve\",\"Killzone Shadow Fall\",\"Assassin's Creed Freedom Cry\",\"War Thunder\",\"Lyne\",\"Democracy 3\",\"Contrast\",\"Fifa 14 Legacy Edition\",\"Mass Effect 3\",\"Guild Wars 2\",\"Diablo 3\",\"Borderlands 2\",\"Journey\",\"Pokemon Black 2\",\"Halo 4\",\"Football Manager 2013\",\"Call of Duty Black Ops II\",\"F1 2012\",\"Fifa 13\",\"Xenoblade Chronicles\",\"Torchlight 2\",\"XCOM: Enemy Unknown\",\"Spec Ops The Line\",\"Game Dev Tycoon\",\"Factorio\",\"New Super Mario Bros. 2\",\"Awesomenauts\",\"Sonic & All Stars Racing Transformed\",\"Warlock - Master of the Arcane\",\"Portal 2\",\"Uncharted 3 Drake's Deception\",\"Forza 4\",\"Minecraft\",\"Dragon Age 2\",\"Mario Kart 7\",\"Call of Duty Modern Warfare 3\",\"The Legend of Zelda: Skyward Sword\",\"Assassin's Creed Revelations\",\"Terraria\",\"F1 2011\",\"Fifa 12\",\"Football Manager 2012\",\"Uncharted Golden Abyss\",\"Batman Arkham City\",\"Skyrim\",\"DC Universe Online\",\"Super Mario Galaxy 2\",\"Mass Effect 2\",\"God of War 3\",\"Assassin's Creed Brotherhood\",\"Halo Reach\",\"Civilization V\",\"Call of Duty Black Ops\",\"Pokemon White\",\"Fifa 11\",\"Bioshock 2\",\"Ys Seven\",\"F1 2010\",\"Dragon Quest IX\",\"Heavy Rain\",\"Need for Speed Hot Pursuit\",\"2010 FIFA World Cup South Africa\",\"Bayonetta\",\"Uncharted 2 Among Thieves\",\"Call of Duty Modern Warfare 2\",\"Pokemon SoulSilver\",\"Batman Arkham Asylum\",\"Dragon Age Origins\",\"Football Manager 2010\",\"Torchlight\",\"Halo 3 ODST\",\"New Super Mario Bros. Wii\",\"F1 2009\",\"Mario & Sonic at the Winter Olympic Games\",\"Super Smash Bros. Brawl\",\"Mario Kart Wii\",\"Football Manager 2009\",\"Wii Fit\",\"Grand Theft Auto IV\",\"Pokemon Mystery Dunegon Explorers of Time\",\"Animal Crossing City Folk\",\"Mario & Sonic at the Olympic Games\",\"Burnout Paradise\",\"Super Mario Galaxy\",\"Bioshock\",\"Mass Effect\",\"Call of Duty Modern Warfare\",\"Halo 3\",\"Football Manager 2008\",\"Uncharted Drake's Fortune\",\"Team Fortress 2\",\"God of War II\",\"Wii Sports\",\"Mario Strikers Charged Football\",\"Mario Party 8\",\"Football Manager 2007\",\"Pokemon Diamond\",\"Gears of War\",\"Lego Star Wars II: The Original Trilogy\",\"Grand Theft Auto Vice City Stories\",\"Fifa 07\",\"Brain Training\",\"Fifa Street 2\",\"Buzz! Junior Jungle Party\",\"God of War (2005)\",\"Mario Kart DS\",\"Psychonauts\",\"Lego Star Wars: The Video Game\",\"Nintendogs\",\"Fifa 06 Game Boy Advance\",\"Grand Theft Auto San Andreas\",\"Halo 2\",\"Mario & Luigi Superstar Saga\",\"Star Wars: Knights of the Old Republic\",\"The Simpsons Hit & Run\",\"Finding Nemo\",\"Metroid Prime\",\"Rollercoaster Tycoon 2\",\"Halo Combat Evolved\",\"Metroid Fusion\",\"Final Fantasy X\",\"Crash Bandicoot The Wrath of Cortex\",\"Diablo 2\",\"Gran Turismo 2\",\"Crash Team Racing\",\"Rollercoaster Tycoon\",\"The Legend of Zelda: Ocarina of Time\",\"Crash Bandicoot 3: Warped\",\"Banjo-Kazooie\",\"Crash Bandicoot 2: Cortex Strikes Back\",\"Castlevania Symphony of the Night\",\"Super Mario 64\",\"Crash Bandicoot\",\"Donkey Kong Country 2: Diddy Kong's Quest\",\"Super Metroid\",\"Donkey Kong Country\",\"The Legend of Zelda: A Link to the Past\",\"Super Mario World\",\"Tetris\"],\"legendgroup\":\"\",\"marker\":{\"color\":\"#636efa\",\"symbol\":\"circle\"},\"mode\":\"markers\",\"name\":\"\",\"orientation\":\"v\",\"showlegend\":false,\"x\":[100,97,96,94,92,91,87,86,85,84,82,81,80,79,78,76,75,73,72,71,71,70,68,64,57,52,49,44,97,96,91,89,88,87,86,86,85,84,84,82,80,79,79,79,79,78,77,76,76,74,73,72,72,71,71,69,69,69,67,66,63,62,59,59,58,54,52,49,40,93,92,89,89,88,86,85,84,84,83,82,81,81,77,73,72,72,71,69,68,68,67,67,67,64,60,59,55,54,47,47,32,98,96,93,91,90,89,88,88,87,87,82,81,80,77,76,75,75,74,74,74,74,73,72,70,69,68,67,66,63,62,60,60,43,90,89,88,87,84,83,83,82,79,79,78,77,77,76,75,74,73,73,72,71,69,68,67,66,66,59,59,58,58,54,53,99,98,94,94,93,92,90,89,86,85,83,80,77,76,76,76,76,75,74,74,73,73,70,69,68,67,67,65,65,63,62,56,54,53,45,100,98,96,94,92,90,89,87,84,84,82,80,79,77,76,76,70,68,65,63,60,59,57,24,94,93,87,86,83,82,82,81,80,80,80,80,78,78,77,76,75,72,72,71,71,70,69,69,68,67,66,65,65,64,64,61,51,50,46,96,92,90,88,88,85,83,83,78,77,77,75,74,73,70,69,67,63,62,58,56,51,94,93,92,90,86,86,84,81,81,79,79,78,78,76,74,74,74,73,71,70,70,70,68,68,65,64,63,56,55,51,48,99,95,95,92,88,88,85,84,83,81,81,81,79,77,77,75,74,70,69,68,65,64,52,43,37,94,93,88,88,88,84,82,79,79,78,78,78,78,78,73,66,66,65,64,63,61,95,91,90,86,86,85,84,84,83,83,80,80,78,72,71,69,55,97,95,94,92,90,89,89,87,82,81,80,79,78,77,75,73,69,95,91,91,89,85,83,75,72,71,68,64,91,88,84,72,70,68,62,61,57,97,93,90,90,89,86,85,82,80,75,75,48,91,85,85,83,81,79,71,63,62,93,92,90,81,72,42,91,87,83,76,72,53,99,82,92,90,85,62,61,89,84,73,91,87,85,89,74,96,72,90,93,87,80,91,90],\"xaxis\":\"x\",\"y\":[10.853495515172995,12.925007135394821,7.107573048710492,16.18201192115032,12.432827228226415,4.878023860118105,17.67175952027185,3.022839391153525,12.377672679935813,-2.641159273560447,9.247885870658479,4.354301644744169,0.9522273570663629,1.714193364120547,8.437420256457813,3.7671909305100826,3.3075151501329856,7.678831646526646,4.464096670334243,-0.8913003914611863,-0.442278681368407,-1.356580906015779,-0.3992156022774225,-2.460680171623949,-9.111603615025729,-21.525464789150533,-12.621181915151169,-11.273516064020555,9.005792441614062,3.6339851948361,0.7880828751430045,2.8431134846268833,10.110331916801329,1.10694561542266,4.537320477448475,9.079959652527123,1.599143071809408,5.994157232475004,3.4161923848332663,2.7787808130891563,2.7576171258682507,6.27482615520546,6.14470908907947,0.4865785533985445,7.477720292600338,10.088821426009417,-4.509215593466934,6.233444150163223,-4.622639079946794,7.0081121905130885,4.4930138822124945,-1.631433272803065,10.51970354989669,5.036661946977574,1.7759768800176516,4.401125280795895,8.509899220335342,1.9060247742253296,-8.35272360434692,3.7413253586144037,-14.158827116018983,-3.3618255098205054,-13.051399160032588,-5.016220963131104,-11.947231930280964,-16.023085044062896,-8.072585785503748,-3.8756546314056095,4.479698451189847,7.609827010313211,4.846234452931299,6.121473218223741,2.4143556836996822,6.347743458249965,11.257322431954776,11.582806341486844,4.51846096652082,1.0099001176602087,8.78026128317174,5.13872523099883,1.333776565072185,1.8774695565509774,3.3338608154787153,-4.011493460549332,6.768787604729255,7.081731339240605,10.750262877320893,-3.5404684145182728,-2.8938423728272937,-1.8766266089722876,1.209673999263714,4.530811365598083,-2.0555887063995897,-0.587516943980404,-9.48171051413965,-5.25696100467087,1.4123218935862951,-12.76006278204693,-23.494200986421333,-17.212101447152122,-35.23152248161068,8.854225629839561,4.891260437482515,7.325907747226097,6.923248018699724,2.311957437696833,4.048658831864941,4.336316096336532,6.465878619335058,4.748697836516158,-1.4313581692179014,8.505316436497537,-0.8276482463403454,0.16421598235467627,3.1763532513294876,-3.4457558278800207,4.403467564679545,-1.013995135592495,4.916571311226562,-4.050697627437103,6.479996680807744,-7.5009517202369125,4.414100554199422,-5.931769830618919,-0.6363269300030652,3.2409910368588726,1.9065368344346325,5.075616761764536,-5.228056155674835,4.622338885288968,-1.5710874278096298,-15.228230646948873,2.9944101403100376,-9.000871319552402,4.926286280489421,13.16094365290246,8.251506832463178,6.002534829430829,2.655947074319556,2.468465784900218,9.072474558974477,3.9544703533817938,-2.797146197662755,6.079805633884803,3.2766535711098186,1.7106575844765075,-2.693049686967015,1.4578961390735685,-2.391274331496561,-4.671787803744337,-2.597640151629207,-9.059642229448059,4.1170940938962985,1.4947439986608515,-5.552913178037784,2.373175293133613,0.6495777958999724,1.7541687014522722,-6.379171593447609,-18.26146804250618,-12.868166452718015,-15.395435841020458,-5.776424131942463,-7.945313659807198,-23.982595807249027,6.448719554015611,8.356304017498928,8.092588337263123,8.641905945464714,2.4093683432553235,2.132810594228431,0.9599349535840247,7.494125423049468,4.537784658168334,5.71365890769971,4.188233733284392,3.7478676986786468,0.6773464683050179,-3.064092736449311,2.3576790008129365,-6.785003542644972,0.928536784289804,-3.5990329384779898,4.578427414211433,5.440247392789729,-3.5371940962708095,-3.8868463690108683,-3.251722401405118,-1.464836231056438,4.470748682541739,-9.825448836913097,-11.836686288116994,4.776224763818959,-7.943041198979927,-3.0985689469241606,-18.743476977948262,-7.1980874952381555,-5.30609139168962,-22.510234171925276,-5.660264479859052,3.6718429187973243,3.1455597934565276,3.33799180563949,9.11972962131938,4.401270522238633,9.2394961610795,3.7505319966534216,1.4054585518299518,2.831557889193732,11.32546505058042,7.735549556170781,1.5592937974194,5.08001300751539,3.739738602461216,-1.445930771718622,-0.908699534991797,3.934279895428972,-5.215193508355128,-8.338442526185418,-15.73556294735215,-4.349598960177104,7.762556930799519,-12.429421733682261,-30.50333077633468,-6.658455192364158,4.537589114917182,7.667551408439408,2.7704406002571886,-0.8993055515413744,4.5895477338150386,7.782685298449792,-2.3476539495799216,-4.7364835008162345,4.130070751090784,0.6748594759659454,0.2535593812934849,4.601310470850308,-6.03203106061801,5.124156228975153,5.619548290666216,-1.38017154194074,-5.059904404425879,2.168836861333716,-7.9177971199031845,-0.79426221615131,1.2745097370476515,-3.9292130711560276,-8.736776541030395,0.15603341577195806,3.8494901413279194,-4.226424390256284,-7.908616245048279,-3.6810528949669106,5.862659805081535,-8.341612845385043,1.72497087689635,2.1644880426334794,2.9720864812076115,-8.152449628717363,3.087351719756043,3.4341414177671368,7.67104276687985,3.473537645184365,5.604580804148441,3.0386572154171745,1.6877421046602876,5.992759955271481,1.5451358210435728,-6.479349022729366,15.260183591762143,-2.289521553306372,-2.480374032027953,-3.557737364913578,-12.273505825057669,2.089255188347238,-2.2604042813871956,3.426582158952442,-3.1246860098505067,-2.4040200960210996,0.22354519208806778,2.5073302556301087,3.5478622985516495,24.50244762494674,2.8914697157447335,4.9051453096466275,7.520134903397093,3.5993265393459524,7.888814364955238,3.2914225754913105,6.476149742471648,-4.643719227638144,2.5924011494536217,-1.5181298280423334,-2.459769654773254,2.336854462601309,6.988489870515195,3.575759560301549,5.347003889613347,-1.4986455945556827,0.4251992123218997,13.500001129530006,2.295428232848053,-7.289360920599847,-4.62512172140066,-3.106074700573231,-7.253040488084821,-12.387664193061482,-3.4049561510734065,-5.704594026116524,-21.234247296942385,-11.640627949183,-8.068990526319453,-1.8195909299240611,-0.5386721148144034,3.545020378737945,5.594959020896681,6.994127369114494,-4.6436240417050385,4.309943845905877,-0.8173251221285227,-1.8935901116262812,3.872215589586631,1.5682763327156408,-6.123442455631334,-4.835556446982423,-2.4013665488637344,-3.6493363530966008,-2.356054134745932,9.27595450016645,0.3626669515292633,-0.08582871078328935,2.287720631210391,-2.2987368473005745,-9.775302815338023,-10.674354485410618,-6.4875769872115825,5.118054515618269,3.0132371274251,7.261288723374832,2.5876805244872685,3.7690559437988895,6.381609919900825,6.471943028014607,2.002640735632326,-2.2502191789741346,-2.660594021941506,-1.0426458383174122,-5.747974802865997,-6.265253205983754,-4.950725035714299,-3.973914676225604,0.24112110070836934,5.045413462973443,1.2820329180782437,-9.42529845492993,-8.179459073400153,-2.764951515559119,-1.3701488845786116,5.7981723920148625,-4.405959856853656,6.747783200478011,-4.279430190508265,9.675717339428388,2.605013465381603,-2.1909011358334283,-4.805149701516598,2.4345508965163845,1.3280929243913988,0.3233983501035027,-3.555141016580933,-1.5304512305900744,-10.559244860381796,-12.434096950144635,-12.883145381081931,-9.99307064389427,2.4621723062771252,1.6535352470301632,1.7703812548303404,1.4362752016149898,4.636084443995287,-0.8964597418220137,-0.41917645277590054,1.4584189422722602,-0.5913638375465098,-0.24824513678879612,6.723130917192975,-0.995055597749797,-2.5402802048171225,-2.4717767956548187,-3.8560831098186554,-4.409654449930827,-11.74762392869468,-3.5824663222932713,0.09436661625466058,4.628677260280597,3.379685494752607,-2.7882690811043176,0.2865957634859342,-2.2766689362657644,-3.0231570091858657,-12.797896149867142,2.0436436026135425,-2.0006226559814877,-0.5785980956746926,7.950459413729959,5.044585608107241,-0.9101123202372037,-17.748479461962233,10.751999277399932,-5.563336808754798,0.26279263751587223,-19.360890846692996,2.0180981968557035,-0.03434402610525922,2.795536433564962,1.183418341862989,0.6508103042450557,3.6687988158980716,-4.731947773383013,-3.1021613101233925,-9.172753499695773,4.677395429673993,-0.42995522809872,-4.831597517548289,7.331233919926149,0.22282504709653495,0.8179838572966673,3.9992597199906186,0.40878457087399056,-1.077211280381448,-0.5973673134154751,6.873628260485816,-2.8588385814889534,4.178086820954945,1.8480722704832715,9.408521234087402,7.795471460849399,-4.906415904581081,-3.23269277854979,1.4410617473588445,-1.7897992850182618,0.08975368104586323,-7.183457319852664,2.1476391071191756,-2.6387628228848143,7.426472827931548,11.138250513725097,1.7776451829219013,0.38533378874319624,3.947576518267283,-0.9627080523464429,-13.792420124817454,-3.00933716114821,8.284429876590366,-0.8484041857558395,4.468573483202704,4.9300326538159425,0.10306730375134521,8.810053451228214,-3.661961627695405,5.369815192002534,1.8378840470821842,4.54978297983746,0.14743876612590157,-1.3147160782334595,0.5503449676783703,4.432315816472851,13.4477248707841],\"yaxis\":\"y\",\"type\":\"scatter\"},{\"line\":{\"dash\":\"dash\"},\"x\":[100,97,96,94,92,91,87,86,85,84,82,81,80,79,78,76,75,73,72,71,71,70,68,64,57,52,49,44,97,96,91,89,88,87,86,86,85,84,84,82,80,79,79,79,79,78,77,76,76,74,73,72,72,71,71,69,69,69,67,66,63,62,59,59,58,54,52,49,40,93,92,89,89,88,86,85,84,84,83,82,81,81,77,73,72,72,71,69,68,68,67,67,67,64,60,59,55,54,47,47,32,98,96,93,91,90,89,88,88,87,87,82,81,80,77,76,75,75,74,74,74,74,73,72,70,69,68,67,66,63,62,60,60,43,90,89,88,87,84,83,83,82,79,79,78,77,77,76,75,74,73,73,72,71,69,68,67,66,66,59,59,58,58,54,53,99,98,94,94,93,92,90,89,86,85,83,80,77,76,76,76,76,75,74,74,73,73,70,69,68,67,67,65,65,63,62,56,54,53,45,100,98,96,94,92,90,89,87,84,84,82,80,79,77,76,76,70,68,65,63,60,59,57,24,94,93,87,86,83,82,82,81,80,80,80,80,78,78,77,76,75,72,72,71,71,70,69,69,68,67,66,65,65,64,64,61,51,50,46,96,92,90,88,88,85,83,83,78,77,77,75,74,73,70,69,67,63,62,58,56,51,94,93,92,90,86,86,84,81,81,79,79,78,78,76,74,74,74,73,71,70,70,70,68,68,65,64,63,56,55,51,48,99,95,95,92,88,88,85,84,83,81,81,81,79,77,77,75,74,70,69,68,65,64,52,43,37,94,93,88,88,88,84,82,79,79,78,78,78,78,78,73,66,66,65,64,63,61,95,91,90,86,86,85,84,84,83,83,80,80,78,72,71,69,55,97,95,94,92,90,89,89,87,82,81,80,79,78,77,75,73,69,95,91,91,89,85,83,75,72,71,68,64,91,88,84,72,70,68,62,61,57,97,93,90,90,89,86,85,82,80,75,75,48,91,85,85,83,81,79,71,63,62,93,92,90,81,72,42,91,87,83,76,72,53,99,82,92,90,85,62,61,89,84,73,91,87,85,89,74,96,72,90,93,87,80,91,90],\"y\":[7.976741931465611,6.988205661553923,6.658693571583363,5.9996693916422394,5.340645211701116,5.0111331217305555,3.693084761848308,3.3635726718777477,3.034060581907184,2.704548491936624,2.0455243119955,1.7160122220249363,1.3865001320543762,1.056988042083816,0.7274759521132523,0.0684517721721285,-0.26106031779843164,-0.9200844977395555,-1.2495965877101156,-1.5791086776806793,-1.5791086776806793,-1.9086207676512394,-2.5676449475923633,-3.885693307474611,-6.192277937268543,-7.83983838712135,-8.828374657033038,-10.475935106885846,6.988205661553923,6.658693571583363,5.0111331217305555,4.352108941789432,4.022596851818868,3.693084761848308,3.3635726718777477,3.3635726718777477,3.034060581907184,2.704548491936624,2.704548491936624,2.0455243119955,1.3865001320543762,1.056988042083816,1.056988042083816,1.056988042083816,1.056988042083816,0.7274759521132523,0.3979638621426922,0.0684517721721285,0.0684517721721285,-0.5905724077689953,-0.9200844977395555,-1.2495965877101156,-1.2495965877101156,-1.5791086776806793,-1.5791086776806793,-2.238132857621803,-2.238132857621803,-2.238132857621803,-2.897157037562927,-3.226669127533487,-4.215205397445171,-4.544717487415735,-5.533253757327419,-5.533253757327419,-5.8627658472979824,-7.180814207180227,-7.83983838712135,-8.828374657033038,-11.793983466768092,5.670157301671679,5.340645211701116,4.352108941789432,4.352108941789432,4.022596851818868,3.3635726718777477,3.034060581907184,2.704548491936624,2.704548491936624,2.37503640196606,2.0455243119955,1.7160122220249363,1.7160122220249363,0.3979638621426922,-0.9200844977395555,-1.2495965877101156,-1.2495965877101156,-1.5791086776806793,-2.238132857621803,-2.5676449475923633,-2.5676449475923633,-2.897157037562927,-2.897157037562927,-2.897157037562927,-3.885693307474611,-5.203741667356859,-5.533253757327419,-6.851302117209666,-7.180814207180227,-9.48739883697416,-9.48739883697416,-14.430080186532585,7.317717751524484,6.658693571583363,5.670157301671679,5.0111331217305555,4.681621031759992,4.352108941789432,4.022596851818868,4.022596851818868,3.693084761848308,3.693084761848308,2.0455243119955,1.7160122220249363,1.3865001320543762,0.3979638621426922,0.0684517721721285,-0.26106031779843164,-0.26106031779843164,-0.5905724077689953,-0.5905724077689953,-0.5905724077689953,-0.5905724077689953,-0.9200844977395555,-1.2495965877101156,-1.9086207676512394,-2.238132857621803,-2.5676449475923633,-2.897157037562927,-3.226669127533487,-4.215205397445171,-4.544717487415735,-5.203741667356859,-5.203741667356859,-10.805447196856406,4.681621031759992,4.352108941789432,4.022596851818868,3.693084761848308,2.704548491936624,2.37503640196606,2.37503640196606,2.0455243119955,1.056988042083816,1.056988042083816,0.7274759521132523,0.3979638621426922,0.3979638621426922,0.0684517721721285,-0.26106031779843164,-0.5905724077689953,-0.9200844977395555,-0.9200844977395555,-1.2495965877101156,-1.5791086776806793,-2.238132857621803,-2.5676449475923633,-2.897157037562927,-3.226669127533487,-3.226669127533487,-5.533253757327419,-5.533253757327419,-5.8627658472979824,-5.8627658472979824,-7.180814207180227,-7.51032629715079,7.647229841495047,7.317717751524484,5.9996693916422394,5.9996693916422394,5.670157301671679,5.340645211701116,4.681621031759992,4.352108941789432,3.3635726718777477,3.034060581907184,2.37503640196606,1.3865001320543762,0.3979638621426922,0.0684517721721285,0.0684517721721285,0.0684517721721285,0.0684517721721285,-0.26106031779843164,-0.5905724077689953,-0.5905724077689953,-0.9200844977395555,-0.9200844977395555,-1.9086207676512394,-2.238132857621803,-2.5676449475923633,-2.897157037562927,-2.897157037562927,-3.556181217504051,-3.556181217504051,-4.215205397445171,-4.544717487415735,-6.521790027239106,-7.180814207180227,-7.51032629715079,-10.146423016915284,7.976741931465611,7.317717751524484,6.658693571583363,5.9996693916422394,5.340645211701116,4.681621031759992,4.352108941789432,3.693084761848308,2.704548491936624,2.704548491936624,2.0455243119955,1.3865001320543762,1.056988042083816,0.3979638621426922,0.0684517721721285,0.0684517721721285,-1.9086207676512394,-2.5676449475923633,-3.556181217504051,-4.215205397445171,-5.203741667356859,-5.533253757327419,-6.192277937268543,-17.06617690629708,5.9996693916422394,5.670157301671679,3.693084761848308,3.3635726718777477,2.37503640196606,2.0455243119955,2.0455243119955,1.7160122220249363,1.3865001320543762,1.3865001320543762,1.3865001320543762,1.3865001320543762,0.7274759521132523,0.7274759521132523,0.3979638621426922,0.0684517721721285,-0.26106031779843164,-1.2495965877101156,-1.2495965877101156,-1.5791086776806793,-1.5791086776806793,-1.9086207676512394,-2.238132857621803,-2.238132857621803,-2.5676449475923633,-2.897157037562927,-3.226669127533487,-3.556181217504051,-3.556181217504051,-3.885693307474611,-3.885693307474611,-4.874229577386295,-8.169350477091914,-8.498862567062474,-9.816910926944722,6.658693571583363,5.340645211701116,4.681621031759992,4.022596851818868,4.022596851818868,3.034060581907184,2.37503640196606,2.37503640196606,0.7274759521132523,0.3979638621426922,0.3979638621426922,-0.26106031779843164,-0.5905724077689953,-0.9200844977395555,-1.9086207676512394,-2.238132857621803,-2.897157037562927,-4.215205397445171,-4.544717487415735,-5.8627658472979824,-6.521790027239106,-8.169350477091914,5.9996693916422394,5.670157301671679,5.340645211701116,4.681621031759992,3.3635726718777477,3.3635726718777477,2.704548491936624,1.7160122220249363,1.7160122220249363,1.056988042083816,1.056988042083816,0.7274759521132523,0.7274759521132523,0.0684517721721285,-0.5905724077689953,-0.5905724077689953,-0.5905724077689953,-0.9200844977395555,-1.5791086776806793,-1.9086207676512394,-1.9086207676512394,-1.9086207676512394,-2.5676449475923633,-2.5676449475923633,-3.556181217504051,-3.885693307474611,-4.215205397445171,-6.521790027239106,-6.851302117209666,-8.169350477091914,-9.157886747003598,7.647229841495047,6.329181481612803,6.329181481612803,5.340645211701116,4.022596851818868,4.022596851818868,3.034060581907184,2.704548491936624,2.37503640196606,1.7160122220249363,1.7160122220249363,1.7160122220249363,1.056988042083816,0.3979638621426922,0.3979638621426922,-0.26106031779843164,-0.5905724077689953,-1.9086207676512394,-2.238132857621803,-2.5676449475923633,-3.556181217504051,-3.885693307474611,-7.83983838712135,-10.805447196856406,-12.782519736679777,5.9996693916422394,5.670157301671679,4.022596851818868,4.022596851818868,4.022596851818868,2.704548491936624,2.0455243119955,1.056988042083816,1.056988042083816,0.7274759521132523,0.7274759521132523,0.7274759521132523,0.7274759521132523,0.7274759521132523,-0.9200844977395555,-3.226669127533487,-3.226669127533487,-3.556181217504051,-3.885693307474611,-4.215205397445171,-4.874229577386295,6.329181481612803,5.0111331217305555,4.681621031759992,3.3635726718777477,3.3635726718777477,3.034060581907184,2.704548491936624,2.704548491936624,2.37503640196606,2.37503640196606,1.3865001320543762,1.3865001320543762,0.7274759521132523,-1.2495965877101156,-1.5791086776806793,-2.238132857621803,-6.851302117209666,6.988205661553923,6.329181481612803,5.9996693916422394,5.340645211701116,4.681621031759992,4.352108941789432,4.352108941789432,3.693084761848308,2.0455243119955,1.7160122220249363,1.3865001320543762,1.056988042083816,0.7274759521132523,0.3979638621426922,-0.26106031779843164,-0.9200844977395555,-2.238132857621803,6.329181481612803,5.0111331217305555,5.0111331217305555,4.352108941789432,3.034060581907184,2.37503640196606,-0.26106031779843164,-1.2495965877101156,-1.5791086776806793,-2.5676449475923633,-3.885693307474611,5.0111331217305555,4.022596851818868,2.704548491936624,-1.2495965877101156,-1.9086207676512394,-2.5676449475923633,-4.544717487415735,-4.874229577386295,-6.192277937268543,6.988205661553923,5.670157301671679,4.681621031759992,4.681621031759992,4.352108941789432,3.3635726718777477,3.034060581907184,2.0455243119955,1.3865001320543762,-0.26106031779843164,-0.26106031779843164,-9.157886747003598,5.0111331217305555,3.034060581907184,3.034060581907184,2.37503640196606,1.7160122220249363,1.056988042083816,-1.5791086776806793,-4.215205397445171,-4.544717487415735,5.670157301671679,5.340645211701116,4.681621031759992,1.7160122220249363,-1.2495965877101156,-11.134959286826968,5.0111331217305555,3.693084761848308,2.37503640196606,0.0684517721721285,-1.2495965877101156,-7.51032629715079,7.647229841495047,2.0455243119955,5.340645211701116,4.681621031759992,3.034060581907184,-4.544717487415735,-4.874229577386295,4.352108941789432,2.704548491936624,-0.9200844977395555,5.0111331217305555,3.693084761848308,3.034060581907184,4.352108941789432,-0.5905724077689953,6.658693571583363,-1.2495965877101156,4.681621031759992,5.670157301671679,3.693084761848308,1.3865001320543762,5.0111331217305555,4.681621031759992],\"type\":\"scatter\"}],                        {\"template\":{\"data\":{\"histogram2dcontour\":[{\"type\":\"histogram2dcontour\",\"colorbar\":{\"outlinewidth\":0,\"ticks\":\"\"},\"colorscale\":[[0.0,\"#0d0887\"],[0.1111111111111111,\"#46039f\"],[0.2222222222222222,\"#7201a8\"],[0.3333333333333333,\"#9c179e\"],[0.4444444444444444,\"#bd3786\"],[0.5555555555555556,\"#d8576b\"],[0.6666666666666666,\"#ed7953\"],[0.7777777777777778,\"#fb9f3a\"],[0.8888888888888888,\"#fdca26\"],[1.0,\"#f0f921\"]]}],\"choropleth\":[{\"type\":\"choropleth\",\"colorbar\":{\"outlinewidth\":0,\"ticks\":\"\"}}],\"histogram2d\":[{\"type\":\"histogram2d\",\"colorbar\":{\"outlinewidth\":0,\"ticks\":\"\"},\"colorscale\":[[0.0,\"#0d0887\"],[0.1111111111111111,\"#46039f\"],[0.2222222222222222,\"#7201a8\"],[0.3333333333333333,\"#9c179e\"],[0.4444444444444444,\"#bd3786\"],[0.5555555555555556,\"#d8576b\"],[0.6666666666666666,\"#ed7953\"],[0.7777777777777778,\"#fb9f3a\"],[0.8888888888888888,\"#fdca26\"],[1.0,\"#f0f921\"]]}],\"heatmap\":[{\"type\":\"heatmap\",\"colorbar\":{\"outlinewidth\":0,\"ticks\":\"\"},\"colorscale\":[[0.0,\"#0d0887\"],[0.1111111111111111,\"#46039f\"],[0.2222222222222222,\"#7201a8\"],[0.3333333333333333,\"#9c179e\"],[0.4444444444444444,\"#bd3786\"],[0.5555555555555556,\"#d8576b\"],[0.6666666666666666,\"#ed7953\"],[0.7777777777777778,\"#fb9f3a\"],[0.8888888888888888,\"#fdca26\"],[1.0,\"#f0f921\"]]}],\"heatmapgl\":[{\"type\":\"heatmapgl\",\"colorbar\":{\"outlinewidth\":0,\"ticks\":\"\"},\"colorscale\":[[0.0,\"#0d0887\"],[0.1111111111111111,\"#46039f\"],[0.2222222222222222,\"#7201a8\"],[0.3333333333333333,\"#9c179e\"],[0.4444444444444444,\"#bd3786\"],[0.5555555555555556,\"#d8576b\"],[0.6666666666666666,\"#ed7953\"],[0.7777777777777778,\"#fb9f3a\"],[0.8888888888888888,\"#fdca26\"],[1.0,\"#f0f921\"]]}],\"contourcarpet\":[{\"type\":\"contourcarpet\",\"colorbar\":{\"outlinewidth\":0,\"ticks\":\"\"}}],\"contour\":[{\"type\":\"contour\",\"colorbar\":{\"outlinewidth\":0,\"ticks\":\"\"},\"colorscale\":[[0.0,\"#0d0887\"],[0.1111111111111111,\"#46039f\"],[0.2222222222222222,\"#7201a8\"],[0.3333333333333333,\"#9c179e\"],[0.4444444444444444,\"#bd3786\"],[0.5555555555555556,\"#d8576b\"],[0.6666666666666666,\"#ed7953\"],[0.7777777777777778,\"#fb9f3a\"],[0.8888888888888888,\"#fdca26\"],[1.0,\"#f0f921\"]]}],\"surface\":[{\"type\":\"surface\",\"colorbar\":{\"outlinewidth\":0,\"ticks\":\"\"},\"colorscale\":[[0.0,\"#0d0887\"],[0.1111111111111111,\"#46039f\"],[0.2222222222222222,\"#7201a8\"],[0.3333333333333333,\"#9c179e\"],[0.4444444444444444,\"#bd3786\"],[0.5555555555555556,\"#d8576b\"],[0.6666666666666666,\"#ed7953\"],[0.7777777777777778,\"#fb9f3a\"],[0.8888888888888888,\"#fdca26\"],[1.0,\"#f0f921\"]]}],\"mesh3d\":[{\"type\":\"mesh3d\",\"colorbar\":{\"outlinewidth\":0,\"ticks\":\"\"}}],\"scatter\":[{\"fillpattern\":{\"fillmode\":\"overlay\",\"size\":10,\"solidity\":0.2},\"type\":\"scatter\"}],\"parcoords\":[{\"type\":\"parcoords\",\"line\":{\"colorbar\":{\"outlinewidth\":0,\"ticks\":\"\"}}}],\"scatterpolargl\":[{\"type\":\"scatterpolargl\",\"marker\":{\"colorbar\":{\"outlinewidth\":0,\"ticks\":\"\"}}}],\"bar\":[{\"error_x\":{\"color\":\"#2a3f5f\"},\"error_y\":{\"color\":\"#2a3f5f\"},\"marker\":{\"line\":{\"color\":\"#E5ECF6\",\"width\":0.5},\"pattern\":{\"fillmode\":\"overlay\",\"size\":10,\"solidity\":0.2}},\"type\":\"bar\"}],\"scattergeo\":[{\"type\":\"scattergeo\",\"marker\":{\"colorbar\":{\"outlinewidth\":0,\"ticks\":\"\"}}}],\"scatterpolar\":[{\"type\":\"scatterpolar\",\"marker\":{\"colorbar\":{\"outlinewidth\":0,\"ticks\":\"\"}}}],\"histogram\":[{\"marker\":{\"pattern\":{\"fillmode\":\"overlay\",\"size\":10,\"solidity\":0.2}},\"type\":\"histogram\"}],\"scattergl\":[{\"type\":\"scattergl\",\"marker\":{\"colorbar\":{\"outlinewidth\":0,\"ticks\":\"\"}}}],\"scatter3d\":[{\"type\":\"scatter3d\",\"line\":{\"colorbar\":{\"outlinewidth\":0,\"ticks\":\"\"}},\"marker\":{\"colorbar\":{\"outlinewidth\":0,\"ticks\":\"\"}}}],\"scattermapbox\":[{\"type\":\"scattermapbox\",\"marker\":{\"colorbar\":{\"outlinewidth\":0,\"ticks\":\"\"}}}],\"scatterternary\":[{\"type\":\"scatterternary\",\"marker\":{\"colorbar\":{\"outlinewidth\":0,\"ticks\":\"\"}}}],\"scattercarpet\":[{\"type\":\"scattercarpet\",\"marker\":{\"colorbar\":{\"outlinewidth\":0,\"ticks\":\"\"}}}],\"carpet\":[{\"aaxis\":{\"endlinecolor\":\"#2a3f5f\",\"gridcolor\":\"white\",\"linecolor\":\"white\",\"minorgridcolor\":\"white\",\"startlinecolor\":\"#2a3f5f\"},\"baxis\":{\"endlinecolor\":\"#2a3f5f\",\"gridcolor\":\"white\",\"linecolor\":\"white\",\"minorgridcolor\":\"white\",\"startlinecolor\":\"#2a3f5f\"},\"type\":\"carpet\"}],\"table\":[{\"cells\":{\"fill\":{\"color\":\"#EBF0F8\"},\"line\":{\"color\":\"white\"}},\"header\":{\"fill\":{\"color\":\"#C8D4E3\"},\"line\":{\"color\":\"white\"}},\"type\":\"table\"}],\"barpolar\":[{\"marker\":{\"line\":{\"color\":\"#E5ECF6\",\"width\":0.5},\"pattern\":{\"fillmode\":\"overlay\",\"size\":10,\"solidity\":0.2}},\"type\":\"barpolar\"}],\"pie\":[{\"automargin\":true,\"type\":\"pie\"}]},\"layout\":{\"autotypenumbers\":\"strict\",\"colorway\":[\"#636efa\",\"#EF553B\",\"#00cc96\",\"#ab63fa\",\"#FFA15A\",\"#19d3f3\",\"#FF6692\",\"#B6E880\",\"#FF97FF\",\"#FECB52\"],\"font\":{\"color\":\"#2a3f5f\"},\"hovermode\":\"closest\",\"hoverlabel\":{\"align\":\"left\"},\"paper_bgcolor\":\"white\",\"plot_bgcolor\":\"#E5ECF6\",\"polar\":{\"bgcolor\":\"#E5ECF6\",\"angularaxis\":{\"gridcolor\":\"white\",\"linecolor\":\"white\",\"ticks\":\"\"},\"radialaxis\":{\"gridcolor\":\"white\",\"linecolor\":\"white\",\"ticks\":\"\"}},\"ternary\":{\"bgcolor\":\"#E5ECF6\",\"aaxis\":{\"gridcolor\":\"white\",\"linecolor\":\"white\",\"ticks\":\"\"},\"baxis\":{\"gridcolor\":\"white\",\"linecolor\":\"white\",\"ticks\":\"\"},\"caxis\":{\"gridcolor\":\"white\",\"linecolor\":\"white\",\"ticks\":\"\"}},\"coloraxis\":{\"colorbar\":{\"outlinewidth\":0,\"ticks\":\"\"}},\"colorscale\":{\"sequential\":[[0.0,\"#0d0887\"],[0.1111111111111111,\"#46039f\"],[0.2222222222222222,\"#7201a8\"],[0.3333333333333333,\"#9c179e\"],[0.4444444444444444,\"#bd3786\"],[0.5555555555555556,\"#d8576b\"],[0.6666666666666666,\"#ed7953\"],[0.7777777777777778,\"#fb9f3a\"],[0.8888888888888888,\"#fdca26\"],[1.0,\"#f0f921\"]],\"sequentialminus\":[[0.0,\"#0d0887\"],[0.1111111111111111,\"#46039f\"],[0.2222222222222222,\"#7201a8\"],[0.3333333333333333,\"#9c179e\"],[0.4444444444444444,\"#bd3786\"],[0.5555555555555556,\"#d8576b\"],[0.6666666666666666,\"#ed7953\"],[0.7777777777777778,\"#fb9f3a\"],[0.8888888888888888,\"#fdca26\"],[1.0,\"#f0f921\"]],\"diverging\":[[0,\"#8e0152\"],[0.1,\"#c51b7d\"],[0.2,\"#de77ae\"],[0.3,\"#f1b6da\"],[0.4,\"#fde0ef\"],[0.5,\"#f7f7f7\"],[0.6,\"#e6f5d0\"],[0.7,\"#b8e186\"],[0.8,\"#7fbc41\"],[0.9,\"#4d9221\"],[1,\"#276419\"]]},\"xaxis\":{\"gridcolor\":\"white\",\"linecolor\":\"white\",\"ticks\":\"\",\"title\":{\"standoff\":15},\"zerolinecolor\":\"white\",\"automargin\":true,\"zerolinewidth\":2},\"yaxis\":{\"gridcolor\":\"white\",\"linecolor\":\"white\",\"ticks\":\"\",\"title\":{\"standoff\":15},\"zerolinecolor\":\"white\",\"automargin\":true,\"zerolinewidth\":2},\"scene\":{\"xaxis\":{\"backgroundcolor\":\"#E5ECF6\",\"gridcolor\":\"white\",\"linecolor\":\"white\",\"showbackground\":true,\"ticks\":\"\",\"zerolinecolor\":\"white\",\"gridwidth\":2},\"yaxis\":{\"backgroundcolor\":\"#E5ECF6\",\"gridcolor\":\"white\",\"linecolor\":\"white\",\"showbackground\":true,\"ticks\":\"\",\"zerolinecolor\":\"white\",\"gridwidth\":2},\"zaxis\":{\"backgroundcolor\":\"#E5ECF6\",\"gridcolor\":\"white\",\"linecolor\":\"white\",\"showbackground\":true,\"ticks\":\"\",\"zerolinecolor\":\"white\",\"gridwidth\":2}},\"shapedefaults\":{\"line\":{\"color\":\"#2a3f5f\"}},\"annotationdefaults\":{\"arrowcolor\":\"#2a3f5f\",\"arrowhead\":0,\"arrowwidth\":1},\"geo\":{\"bgcolor\":\"white\",\"landcolor\":\"#E5ECF6\",\"subunitcolor\":\"white\",\"showland\":true,\"showlakes\":true,\"lakecolor\":\"white\"},\"title\":{\"x\":0.05},\"mapbox\":{\"style\":\"light\"}}},\"xaxis\":{\"anchor\":\"y\",\"domain\":[0.0,1.0],\"title\":{\"text\":\"Actual Rating\"}},\"yaxis\":{\"anchor\":\"x\",\"domain\":[0.0,1.0],\"title\":{\"text\":\"Prediction delta\"}},\"legend\":{\"tracegroupgap\":0},\"margin\":{\"t\":60}},                        {\"responsive\": true}                    ).then(function(){\n",
       "                            \n",
       "var gd = document.getElementById('b0e0cfab-9048-423f-a640-0e7bdd54b14b');\n",
       "var x = new MutationObserver(function (mutations, observer) {{\n",
       "        var display = window.getComputedStyle(gd).display;\n",
       "        if (!display || display === 'none') {{\n",
       "            console.log([gd, 'removed!']);\n",
       "            Plotly.purge(gd);\n",
       "            observer.disconnect();\n",
       "        }}\n",
       "}});\n",
       "\n",
       "// Listen for the removal of the full notebook cells\n",
       "var notebookContainer = gd.closest('#notebook-container');\n",
       "if (notebookContainer) {{\n",
       "    x.observe(notebookContainer, {childList: true});\n",
       "}}\n",
       "\n",
       "// Listen for the clearing of the current output cell\n",
       "var outputEl = gd.closest('.output');\n",
       "if (outputEl) {{\n",
       "    x.observe(outputEl, {childList: true});\n",
       "}}\n",
       "\n",
       "                        })                };                });            </script>        </div>"
      ]
     },
     "metadata": {},
     "output_type": "display_data"
    }
   ],
   "source": [
    "# scatter plot of spread of predictions by rating\n",
    "scores_comp['Prediction delta'] = scores_comp['Actual Rating'] - scores_comp['Predicted Rating']\n",
    "fig = px.scatter(scores_comp, x=\"Actual Rating\", y=\"Prediction delta\", hover_name= 'Game')\n",
    "#find line of best fit\n",
    "lobf = np.polyfit(scores_comp[\"Actual Rating\"], scores_comp[\"Prediction delta\"], 1)\n",
    "best_fit_points = (np.poly1d(lobf)(scores_comp[\"Actual Rating\"]))\n",
    "#plot line of best fit\n",
    "fig.add_trace(go.Scatter(x=scores_comp[\"Actual Rating\"], y=best_fit_points, line = dict(dash = 'dash')))"
   ]
  },
  {
   "cell_type": "code",
   "execution_count": 80,
   "metadata": {},
   "outputs": [
    {
     "name": "stdout",
     "output_type": "stream",
     "text": [
      "gradient =  0.3295120899705617 , y-intercept =  -24.97446706559056\n"
     ]
    }
   ],
   "source": [
    "print(\"gradient = \", lobf[0], \", y-intercept = \", lobf[1])\n",
    "# the predictions are too high for low actual scores, too low for high actual scores. Expected for linear regression"
   ]
  },
  {
   "cell_type": "code",
   "execution_count": 81,
   "metadata": {},
   "outputs": [
    {
     "data": {
      "application/vnd.plotly.v1+json": {
       "config": {
        "plotlyServerURL": "https://plot.ly"
       },
       "data": [
        {
         "hovertemplate": "<b>%{hovertext}</b><br><br>Review avg=%{x}<br>Prediction delta rvw=%{y}<extra></extra>",
         "hovertext": [
          "The Legend of Zelda: Tears of the Kingdom",
          "Hi-Fi Rush",
          "Marvel's Spider-Man 2",
          "Cocoon",
          "Final Fantasy XVI",
          "Baldur's Gate 3",
          "Lies of P",
          "Star Wars Jedi Survivor",
          "Aces and Adventures",
          "Super Mario Bros. Wonder",
          "Armored Core VI: Fires of Rubicon",
          "Cassette Beasts",
          "Pikmin 4",
          "Diablo 4",
          "The Crew Motorfest",
          "Starfield",
          "F-Zero 99",
          "Wild Hearts",
          "Cities Skylines 2",
          "Jusant",
          "Assassin's Creed Mirage",
          "Counter-Strike 2",
          "20 Minutes Till Dawn",
          "Wo Long Fallen Dynasty",
          "Tchia",
          "Forza Motorsport (2023)",
          "Minecraft Legends",
          "Exoprimal",
          "Elden Ring",
          "God of War Ragnarök",
          "Horizon Forbidden West",
          "Gran Turismo 7",
          "Vampire Survivors",
          "Rogue Legacy 2",
          "OlliOlli World",
          "Stray",
          "Neon White",
          "Splatoon 3",
          "Citizen Sleeper",
          "Pokemon Legends Arceus",
          "Kirby and the Forgotten Land",
          "PlateUp!",
          "Two Point Campus",
          "Teenage Mutant Ninja Turtles: Shredder's Revenge",
          "Rollerdrome",
          "Nobody Saves The World",
          "Chained Echoes",
          "Overwatch 2",
          "Freshly Frosted",
          "Pokemon Violet",
          "Ghostwire Tokyo",
          "Cult of the Lamb",
          "High on Life",
          "Grid Legends",
          "Warpips",
          "TemTem",
          "Trek to Yomi",
          "Windjammers 2",
          "Tunic",
          "Need for Speed Unbound",
          "A Plague Tale: Requiem",
          "You Suck At Parking",
          "Lego Star Wars The Skywalker Saga",
          "Arcadeggedon",
          "Spacelines from the Far Out",
          "Lost Ark",
          "Golfie",
          "Diablo Immortal",
          "CrossfireX",
          "Metroid Dread",
          "Forza Horizon 5",
          "Psychonauts 2",
          "Ratchet & Clank: Rift Apart",
          "Death's Door",
          "Guardians of the Galaxy",
          "Unsighted",
          "Kena: Bridge of Spirits",
          "Returnal",
          "Ys IX: Monstrum Nox",
          "Deathloop",
          "Monster Hunter Rise",
          "Halo Infinite",
          "Loop Hero",
          "Wildermyth",
          "Hot Wheels Unleashed",
          "Tribes of Midgard",
          "Buck Up and Drive!",
          "Age of Empires IV",
          "Mini Motorways",
          "The Riftbreaker",
          "Mario Golf: Super Rush",
          "Boyfriend Dungeon",
          "Curse of the Dead Gods",
          "The Ascent",
          "Scarlet Nexus",
          "Back 4 Blood",
          "Destruction Allstars",
          "Dandy Ace",
          "F.I.S.T. Forged In Shadow Torch",
          "Cruis'n Blast",
          "Sunlight",
          "Hades",
          "The Last of Us Part II",
          "Ghost of Tsushima",
          "Final Fantasy VII Remake",
          "Demon's Souls (Remake)",
          "Ori and The Will of the Wisps",
          "Marvel's Spider-Man Miles Morales",
          "Astro's Playroom",
          "F1 2020",
          "Animal Crossing New Horizons",
          "Monster Sanctuary",
          "Spiritfarer",
          "Dirt 5",
          "Streets of Rage 4",
          "Deep Rock Galactic",
          "Immortals Fenyx Rising",
          "Sackboy: A Big Adventure",
          "WRC 9",
          "Crash Bandicoot 4: Its About Time",
          "Call of Duty Black Ops Cold War",
          "Dreams",
          "Bugsnax",
          "Hyrule Warriors Age of Calamity",
          "Star Wars Squadrons",
          "Journey to the Savage Planet",
          "Cyberpunk 2077",
          "Golf With Your Friends",
          "Fall Guys",
          "Darksburg",
          "Minecraft Dungeons",
          "Doom Eternal",
          "Embr",
          "Marvel's Avengers",
          "Star Wars Jedi Fallen Order",
          "A Short Hike",
          "Astral Chain",
          "Devil May Cry 5",
          "Gears 5",
          "F1 2019",
          "Borderlands 3",
          "Luigi's Mansion 3",
          "Apex Legends",
          "Concrete Genie",
          "Kingdom Hearts 3",
          "Ring Fit Adventure",
          "Sekiro Shadows Die Twice",
          "A Plague Tale: Innocence",
          "Trials Rising",
          "Risk of Rain 2",
          "Dirt Rally 2.0",
          "The Legend of Zelda: Link's Awakening",
          "Darksiders Genesis",
          "Cat Quest II",
          "Wargroove",
          "GreedFall",
          "Grid (2019)",
          "The Jackbox Party Pack 6",
          "Dicey Dungeons",
          "Pokemon Sword",
          "The Outer Worlds",
          "Outer Wilds",
          "Unrailed!",
          "Need For Speed Heat",
          "Control",
          "God of War (2018)",
          "Red Dead Redemption 2",
          "Astro Bot Rescue Mission",
          "Celeste",
          "Marvel's Spider-Man",
          "Forza Horizon 4",
          "Super Smash Bros. Ultimate",
          "Tetris Effect",
          "Dead Cells",
          "Crosscode",
          "F1 2018",
          "Overcooked 2",
          "Gris",
          "Call of Duty Black Ops 4",
          "Warhammer Vermentide 2",
          "Monster Hunter World",
          "Moss PSVR",
          "Pokemon Let's Go Pikachu",
          "Northgard",
          "Wreckfest",
          "Parkitect",
          "Far Cry 5",
          "Fifa 19",
          "Detroit Become Human",
          "Golf Peaks",
          "Dragon Quest XI",
          "Assassin's Creed Odyssey",
          "Sea of Thieves",
          "Mario Tennis Aces",
          "Surviving Mars",
          "Shadow of the Colossus (Remake)",
          "For The King",
          "The Crew 2",
          "Octopath Traveller",
          "Farming Simulator 2019",
          "The Legend of Zelda: Breath of the Wild",
          "Super Mario Odyssey",
          "Horizon Zero Dawn",
          "Hollow Knight",
          "Uncharted The Lost Legacy",
          "Ys VIII Lacrimosa of Dana",
          "Divinity Original Sin 2",
          "Persona 5",
          "F1 2017",
          "Golf Story",
          "Assassin's Creed Origins",
          "Mario + Rabbids Kingdom Battle",
          "Gran Turismo Sport",
          "Call of Duty WW2",
          "Pyre",
          "WipeOut Omega Collection",
          "Cat Quest",
          "Nex Machina",
          "Nioh",
          "Nier Automata",
          "Prey",
          "Luna",
          "Middle Earth: Shadow of War",
          "Doom VFR",
          "Uncharted 4 A Thief's End",
          "Forza Horizon 3",
          "Titanfall 2",
          "Civilization VI",
          "Pokemon Sun",
          "F1 2016",
          "Forza Motorsport 7",
          "Inside",
          "Overwatch",
          "Overcooked",
          "Stardew Valley",
          "Gears of War 4",
          "Trackmania Turbo",
          "Ratchet & Clank",
          "Call of Duty Infinite Warfare",
          "Doom (2016)",
          "Hearts of Iron IV",
          "Stellaris",
          "Ultimate Chicken Horse",
          "Battlefield 1",
          "Hyper Light Drifter",
          "Abzu",
          "Motorsport Manager",
          "Watch Dogs 2",
          "Clustertruck",
          "Kingdom New Lands",
          "Far Cry Primal",
          "Final Fantasy XV",
          "Worms W.M.D",
          "Dragon Quest Builders",
          "The Last Guardian",
          "Human Fall Flat",
          "Shoppe Keep",
          "VR Worlds",
          "Youtubers Life",
          "Bloodborne",
          "Undertale",
          "Rocket League",
          "Cities Skylines",
          "Rise of the Tomb Raider ",
          "Batman Arkham Knight",
          "OlliOlli 2: Welcome to Olliwood",
          "Halo 5: Guardians",
          "Assassin's Creed Syndicate",
          "Ori and The Blind Forest",
          "The Order 1886",
          "Call of Duty Black Ops III",
          "Prison Architect",
          "Crypt of the Necrodancer",
          "The Witcher 3",
          "Star Wars Battlefront",
          "Apotheon",
          "Just Cause 3",
          "Project Cars",
          "F1 2015",
          "Big Pharma",
          "Clicker Heroes",
          "Mario Kart 8",
          "Driveclub",
          "Dragon Age Inquisition",
          "Bayonetta 2",
          "Transistor",
          "Tales From the Borderlands",
          "Watch Dogs",
          "inFAMOUS Second Son",
          "Assassin's Creed Unity",
          "Far Cry 4",
          "Middle Earth Shadow of Mordor",
          "Call of Duty Advanced Warfare",
          "Pokemon Omega Ruby",
          "Trials Fusion",
          "Destiny",
          "Borderlands The Pre-Sequel",
          "Dungeon of the Endless",
          "Football Manager 2015",
          "Infamous First Light",
          "The Crew",
          "Assassin's Creed Rogue",
          "Velocity 2X",
          "Endless Legend",
          "Sportsfriends",
          "Grid Autosport",
          "Civilization Beyond Earth",
          "Banished",
          "Dead Nation: Apocalypse Edition",
          "Little Big Planet 3",
          "Pure Pool",
          "Game of Thrones Telltale",
          "The Last of Us",
          "Grand Theft Auto V",
          "Bioshock Infinite",
          "Rayman Legends",
          "Assassin's Creed IV Black Flag",
          "Super Mario 3D World",
          "Tearaway",
          "Europa Universalis IV",
          "Tomb Raider",
          "Resogun",
          "Fifa 14",
          "Path of Exile",
          "Pokemon Y",
          "Football Manager 2014",
          "Battlefield 4",
          "Guacamelee!",
          "Warframe",
          "Don't Starve",
          "Killzone Shadow Fall",
          "Assassin's Creed Freedom Cry",
          "War Thunder",
          "Lyne",
          "Democracy 3",
          "Contrast",
          "Fifa 14 Legacy Edition",
          "Mass Effect 3",
          "Guild Wars 2",
          "Diablo 3",
          "Borderlands 2",
          "Journey",
          "Pokemon Black 2",
          "Halo 4",
          "Football Manager 2013",
          "Call of Duty Black Ops II",
          "F1 2012",
          "Fifa 13",
          "Xenoblade Chronicles",
          "Torchlight 2",
          "XCOM: Enemy Unknown",
          "Spec Ops The Line",
          "Game Dev Tycoon",
          "Factorio",
          "New Super Mario Bros. 2",
          "Awesomenauts",
          "Sonic & All Stars Racing Transformed",
          "Warlock - Master of the Arcane",
          "Portal 2",
          "Uncharted 3 Drake's Deception",
          "Forza 4",
          "Minecraft",
          "Dragon Age 2",
          "Mario Kart 7",
          "Call of Duty Modern Warfare 3",
          "The Legend of Zelda: Skyward Sword",
          "Assassin's Creed Revelations",
          "Terraria",
          "F1 2011",
          "Fifa 12",
          "Football Manager 2012",
          "Uncharted Golden Abyss",
          "Batman Arkham City",
          "Skyrim",
          "DC Universe Online",
          "Super Mario Galaxy 2",
          "Mass Effect 2",
          "God of War 3",
          "Assassin's Creed Brotherhood",
          "Halo Reach",
          "Civilization V",
          "Call of Duty Black Ops",
          "Pokemon White",
          "Fifa 11",
          "Bioshock 2",
          "Ys Seven",
          "F1 2010",
          "Dragon Quest IX",
          "Heavy Rain",
          "Need for Speed Hot Pursuit",
          "2010 FIFA World Cup South Africa",
          "Bayonetta",
          "Uncharted 2 Among Thieves",
          "Call of Duty Modern Warfare 2",
          "Pokemon SoulSilver",
          "Batman Arkham Asylum",
          "Dragon Age Origins",
          "Football Manager 2010",
          "Torchlight",
          "Halo 3 ODST",
          "New Super Mario Bros. Wii",
          "F1 2009",
          "Mario & Sonic at the Winter Olympic Games",
          "Super Smash Bros. Brawl",
          "Mario Kart Wii",
          "Football Manager 2009",
          "Wii Fit",
          "Grand Theft Auto IV",
          "Pokemon Mystery Dunegon Explorers of Time",
          "Animal Crossing City Folk",
          "Mario & Sonic at the Olympic Games",
          "Burnout Paradise",
          "Super Mario Galaxy",
          "Bioshock",
          "Mass Effect",
          "Call of Duty Modern Warfare",
          "Halo 3",
          "Football Manager 2008",
          "Uncharted Drake's Fortune",
          "Team Fortress 2",
          "God of War II",
          "Wii Sports",
          "Mario Strikers Charged Football",
          "Mario Party 8",
          "Football Manager 2007",
          "Pokemon Diamond",
          "Gears of War",
          "Lego Star Wars II: The Original Trilogy",
          "Grand Theft Auto Vice City Stories",
          "Fifa 07",
          "Brain Training",
          "Fifa Street 2",
          "Buzz! Junior Jungle Party",
          "God of War (2005)",
          "Mario Kart DS",
          "Psychonauts",
          "Lego Star Wars: The Video Game",
          "Nintendogs",
          "Fifa 06 Game Boy Advance",
          "Grand Theft Auto San Andreas",
          "Halo 2",
          "Mario & Luigi Superstar Saga",
          "Star Wars: Knights of the Old Republic",
          "The Simpsons Hit & Run",
          "Finding Nemo",
          "Metroid Prime",
          "Rollercoaster Tycoon 2",
          "Halo Combat Evolved",
          "Metroid Fusion",
          "Final Fantasy X",
          "Crash Bandicoot The Wrath of Cortex",
          "Diablo 2",
          "Gran Turismo 2",
          "Crash Team Racing",
          "Rollercoaster Tycoon",
          "The Legend of Zelda: Ocarina of Time",
          "Crash Bandicoot 3: Warped",
          "Banjo-Kazooie",
          "Crash Bandicoot 2: Cortex Strikes Back",
          "Castlevania Symphony of the Night",
          "Super Mario 64",
          "Crash Bandicoot",
          "Donkey Kong Country 2: Diddy Kong's Quest",
          "Super Metroid",
          "Donkey Kong Country",
          "The Legend of Zelda: A Link to the Past",
          "Super Mario World",
          "Tetris"
         ],
         "legendgroup": "",
         "marker": {
          "color": "#636efa",
          "symbol": "circle"
         },
         "mode": "markers",
         "name": "",
         "orientation": "v",
         "showlegend": false,
         "type": "scatter",
         "x": [
          96,
          89,
          90,
          88,
          88,
          96,
          82,
          84,
          84,
          92,
          85,
          86,
          88,
          88,
          76,
          86,
          80,
          79,
          75,
          82,
          77,
          80,
          78,
          82,
          78,
          84,
          71,
          68,
          96,
          94,
          88,
          87,
          87,
          89,
          86,
          84,
          89,
          83,
          84,
          84,
          84,
          80,
          84,
          87,
          80,
          80,
          90,
          77,
          89,
          72,
          77,
          84,
          69,
          75,
          79,
          76,
          72,
          77,
          86,
          75,
          84,
          70,
          82,
          74,
          82,
          82,
          70,
          65,
          42,
          87,
          92,
          89,
          88,
          88,
          82,
          85,
          82,
          86,
          80,
          88,
          88,
          87,
          84,
          85,
          74,
          75,
          70,
          83,
          80,
          80,
          71,
          73,
          81,
          73,
          79,
          76,
          62,
          79,
          80,
          73,
          78,
          94,
          93,
          85,
          88,
          92,
          90,
          85,
          84,
          88,
          90,
          80,
          87,
          82,
          84,
          85,
          79,
          81,
          80,
          85,
          75,
          90,
          75,
          80,
          79,
          76,
          76,
          69,
          80,
          68,
          72,
          89,
          67,
          68,
          85,
          87,
          87,
          88,
          85,
          86,
          80,
          86,
          86,
          77,
          85,
          83,
          90,
          82,
          80,
          86,
          83,
          87,
          79,
          76,
          83,
          75,
          73,
          74,
          82,
          80,
          85,
          86,
          75,
          72,
          84,
          94,
          97,
          90,
          91,
          87,
          92,
          93,
          89,
          89,
          86,
          84,
          81,
          84,
          85,
          83,
          89,
          85,
          81,
          79,
          80,
          83,
          82,
          81,
          78,
          75,
          86,
          85,
          67,
          78,
          77,
          92,
          75,
          64,
          83,
          64,
          97,
          97,
          89,
          90,
          84,
          85,
          93,
          94,
          86,
          78,
          81,
          85,
          75,
          79,
          84,
          85,
          72,
          84,
          88,
          89,
          81,
          62,
          79,
          70,
          93,
          91,
          87,
          88,
          87,
          82,
          85,
          91,
          91,
          80,
          89,
          84,
          81,
          85,
          77,
          85,
          83,
          81,
          79,
          87,
          84,
          80,
          81,
          82,
          76,
          73,
          76,
          81,
          78,
          70,
          81,
          68,
          57,
          56,
          63,
          92,
          92,
          85,
          85,
          86,
          87,
          85,
          84,
          76,
          89,
          63,
          81,
          80,
          87,
          92,
          73,
          76,
          73,
          75,
          65,
          64,
          57,
          88,
          71,
          89,
          91,
          83,
          86,
          77,
          80,
          70,
          85,
          84,
          83,
          83,
          79,
          76,
          75,
          79,
          80,
          73,
          61,
          72,
          85,
          82,
          80,
          78,
          81,
          74,
          71,
          79,
          73,
          69,
          95,
          97,
          94,
          90,
          83,
          93,
          87,
          87,
          85,
          84,
          85,
          93,
          86,
          85,
          85,
          83,
          71,
          79,
          73,
          70,
          75,
          86,
          70,
          59,
          38,
          93,
          90,
          88,
          89,
          92,
          80,
          87,
          86,
          83,
          81,
          90,
          92,
          88,
          89,
          76,
          68,
          70,
          78,
          78,
          75,
          71,
          95,
          92,
          91,
          93,
          79,
          85,
          89,
          93,
          80,
          83,
          84,
          90,
          84,
          80,
          94,
          94,
          72,
          97,
          96,
          92,
          90,
          91,
          90,
          88,
          87,
          88,
          88,
          79,
          84,
          87,
          87,
          88,
          82,
          90,
          96,
          94,
          87,
          92,
          91,
          87,
          83,
          83,
          87,
          69,
          72,
          93,
          82,
          83,
          80,
          98,
          60,
          73,
          67,
          88,
          97,
          96,
          91,
          94,
          94,
          86,
          88,
          92,
          93,
          76,
          79,
          62,
          87,
          85,
          94,
          84,
          86,
          82,
          77,
          59,
          70,
          94,
          91,
          87,
          78,
          83,
          49,
          95,
          95,
          90,
          94,
          78,
          63,
          97,
          74,
          97,
          92,
          92,
          66,
          88,
          93,
          88,
          78,
          99,
          91,
          92,
          89,
          93,
          96,
          80,
          90,
          96,
          93,
          95,
          94,
          90
         ],
         "xaxis": "x",
         "y": [
          10.853495515172995,
          12.925007135394821,
          7.107573048710492,
          16.18201192115032,
          12.432827228226415,
          4.878023860118105,
          17.67175952027185,
          3.022839391153525,
          12.377672679935813,
          -2.641159273560447,
          9.247885870658479,
          4.354301644744169,
          0.9522273570663629,
          1.714193364120547,
          8.437420256457813,
          3.7671909305100826,
          3.3075151501329856,
          7.678831646526646,
          4.464096670334243,
          -0.8913003914611863,
          -0.442278681368407,
          -1.356580906015779,
          -0.3992156022774225,
          -2.460680171623949,
          -9.111603615025729,
          -21.525464789150533,
          -12.621181915151169,
          -11.273516064020555,
          9.005792441614062,
          3.6339851948361,
          0.7880828751430045,
          2.8431134846268833,
          10.110331916801329,
          1.10694561542266,
          4.537320477448475,
          9.079959652527123,
          1.599143071809408,
          5.994157232475004,
          3.4161923848332663,
          2.7787808130891563,
          2.7576171258682507,
          6.27482615520546,
          6.14470908907947,
          0.4865785533985445,
          7.477720292600338,
          10.088821426009417,
          -4.509215593466934,
          6.233444150163223,
          -4.622639079946794,
          7.0081121905130885,
          4.4930138822124945,
          -1.631433272803065,
          10.51970354989669,
          5.036661946977574,
          1.7759768800176516,
          4.401125280795895,
          8.509899220335342,
          1.9060247742253296,
          -8.35272360434692,
          3.7413253586144037,
          -14.158827116018983,
          -3.3618255098205054,
          -13.051399160032588,
          -5.016220963131104,
          -11.947231930280964,
          -16.023085044062896,
          -8.072585785503748,
          -3.8756546314056095,
          4.479698451189847,
          7.609827010313211,
          4.846234452931299,
          6.121473218223741,
          2.4143556836996822,
          6.347743458249965,
          11.257322431954776,
          11.582806341486844,
          4.51846096652082,
          1.0099001176602087,
          8.78026128317174,
          5.13872523099883,
          1.333776565072185,
          1.8774695565509774,
          3.3338608154787153,
          -4.011493460549332,
          6.768787604729255,
          7.081731339240605,
          10.750262877320893,
          -3.5404684145182728,
          -2.8938423728272937,
          -1.8766266089722876,
          1.209673999263714,
          4.530811365598083,
          -2.0555887063995897,
          -0.587516943980404,
          -9.48171051413965,
          -5.25696100467087,
          1.4123218935862951,
          -12.76006278204693,
          -23.494200986421333,
          -17.212101447152122,
          -35.23152248161068,
          8.854225629839561,
          4.891260437482515,
          7.325907747226097,
          6.923248018699724,
          2.311957437696833,
          4.048658831864941,
          4.336316096336532,
          6.465878619335058,
          4.748697836516158,
          -1.4313581692179014,
          8.505316436497537,
          -0.8276482463403454,
          0.16421598235467627,
          3.1763532513294876,
          -3.4457558278800207,
          4.403467564679545,
          -1.013995135592495,
          4.916571311226562,
          -4.050697627437103,
          6.479996680807744,
          -7.5009517202369125,
          4.414100554199422,
          -5.931769830618919,
          -0.6363269300030652,
          3.2409910368588726,
          1.9065368344346325,
          5.075616761764536,
          -5.228056155674835,
          4.622338885288968,
          -1.5710874278096298,
          -15.228230646948873,
          2.9944101403100376,
          -9.000871319552402,
          4.926286280489421,
          13.16094365290246,
          8.251506832463178,
          6.002534829430829,
          2.655947074319556,
          2.468465784900218,
          9.072474558974477,
          3.9544703533817938,
          -2.797146197662755,
          6.079805633884803,
          3.2766535711098186,
          1.7106575844765075,
          -2.693049686967015,
          1.4578961390735685,
          -2.391274331496561,
          -4.671787803744337,
          -2.597640151629207,
          -9.059642229448059,
          4.1170940938962985,
          1.4947439986608515,
          -5.552913178037784,
          2.373175293133613,
          0.6495777958999724,
          1.7541687014522722,
          -6.379171593447609,
          -18.26146804250618,
          -12.868166452718015,
          -15.395435841020458,
          -5.776424131942463,
          -7.945313659807198,
          -23.982595807249027,
          6.448719554015611,
          8.356304017498928,
          8.092588337263123,
          8.641905945464714,
          2.4093683432553235,
          2.132810594228431,
          0.9599349535840247,
          7.494125423049468,
          4.537784658168334,
          5.71365890769971,
          4.188233733284392,
          3.7478676986786468,
          0.6773464683050179,
          -3.064092736449311,
          2.3576790008129365,
          -6.785003542644972,
          0.928536784289804,
          -3.5990329384779898,
          4.578427414211433,
          5.440247392789729,
          -3.5371940962708095,
          -3.8868463690108683,
          -3.251722401405118,
          -1.464836231056438,
          4.470748682541739,
          -9.825448836913097,
          -11.836686288116994,
          4.776224763818959,
          -7.943041198979927,
          -3.0985689469241606,
          -18.743476977948262,
          -7.1980874952381555,
          -5.30609139168962,
          -22.510234171925276,
          -5.660264479859052,
          3.6718429187973243,
          3.1455597934565276,
          3.33799180563949,
          9.11972962131938,
          4.401270522238633,
          9.2394961610795,
          3.7505319966534216,
          1.4054585518299518,
          2.831557889193732,
          11.32546505058042,
          7.735549556170781,
          1.5592937974194,
          5.08001300751539,
          3.739738602461216,
          -1.445930771718622,
          -0.908699534991797,
          3.934279895428972,
          -5.215193508355128,
          -8.338442526185418,
          -15.73556294735215,
          -4.349598960177104,
          7.762556930799519,
          -12.429421733682261,
          -30.50333077633468,
          -6.658455192364158,
          4.537589114917182,
          7.667551408439408,
          2.7704406002571886,
          -0.8993055515413744,
          4.5895477338150386,
          7.782685298449792,
          -2.3476539495799216,
          -4.7364835008162345,
          4.130070751090784,
          0.6748594759659454,
          0.2535593812934849,
          4.601310470850308,
          -6.03203106061801,
          5.124156228975153,
          5.619548290666216,
          -1.38017154194074,
          -5.059904404425879,
          2.168836861333716,
          -7.9177971199031845,
          -0.79426221615131,
          1.2745097370476515,
          -3.9292130711560276,
          -8.736776541030395,
          0.15603341577195806,
          3.8494901413279194,
          -4.226424390256284,
          -7.908616245048279,
          -3.6810528949669106,
          5.862659805081535,
          -8.341612845385043,
          1.72497087689635,
          2.1644880426334794,
          2.9720864812076115,
          -8.152449628717363,
          3.087351719756043,
          3.4341414177671368,
          7.67104276687985,
          3.473537645184365,
          5.604580804148441,
          3.0386572154171745,
          1.6877421046602876,
          5.992759955271481,
          1.5451358210435728,
          -6.479349022729366,
          15.260183591762143,
          -2.289521553306372,
          -2.480374032027953,
          -3.557737364913578,
          -12.273505825057669,
          2.089255188347238,
          -2.2604042813871956,
          3.426582158952442,
          -3.1246860098505067,
          -2.4040200960210996,
          0.22354519208806778,
          2.5073302556301087,
          3.5478622985516495,
          24.50244762494674,
          2.8914697157447335,
          4.9051453096466275,
          7.520134903397093,
          3.5993265393459524,
          7.888814364955238,
          3.2914225754913105,
          6.476149742471648,
          -4.643719227638144,
          2.5924011494536217,
          -1.5181298280423334,
          -2.459769654773254,
          2.336854462601309,
          6.988489870515195,
          3.575759560301549,
          5.347003889613347,
          -1.4986455945556827,
          0.4251992123218997,
          13.500001129530006,
          2.295428232848053,
          -7.289360920599847,
          -4.62512172140066,
          -3.106074700573231,
          -7.253040488084821,
          -12.387664193061482,
          -3.4049561510734065,
          -5.704594026116524,
          -21.234247296942385,
          -11.640627949183,
          -8.068990526319453,
          -1.8195909299240611,
          -0.5386721148144034,
          3.545020378737945,
          5.594959020896681,
          6.994127369114494,
          -4.6436240417050385,
          4.309943845905877,
          -0.8173251221285227,
          -1.8935901116262812,
          3.872215589586631,
          1.5682763327156408,
          -6.123442455631334,
          -4.835556446982423,
          -2.4013665488637344,
          -3.6493363530966008,
          -2.356054134745932,
          9.27595450016645,
          0.3626669515292633,
          -0.08582871078328935,
          2.287720631210391,
          -2.2987368473005745,
          -9.775302815338023,
          -10.674354485410618,
          -6.4875769872115825,
          5.118054515618269,
          3.0132371274251,
          7.261288723374832,
          2.5876805244872685,
          3.7690559437988895,
          6.381609919900825,
          6.471943028014607,
          2.002640735632326,
          -2.2502191789741346,
          -2.660594021941506,
          -1.0426458383174122,
          -5.747974802865997,
          -6.265253205983754,
          -4.950725035714299,
          -3.973914676225604,
          0.24112110070836934,
          5.045413462973443,
          1.2820329180782437,
          -9.42529845492993,
          -8.179459073400153,
          -2.764951515559119,
          -1.3701488845786116,
          5.7981723920148625,
          -4.405959856853656,
          6.747783200478011,
          -4.279430190508265,
          9.675717339428388,
          2.605013465381603,
          -2.1909011358334283,
          -4.805149701516598,
          2.4345508965163845,
          1.3280929243913988,
          0.3233983501035027,
          -3.555141016580933,
          -1.5304512305900744,
          -10.559244860381796,
          -12.434096950144635,
          -12.883145381081931,
          -9.99307064389427,
          2.4621723062771252,
          1.6535352470301632,
          1.7703812548303404,
          1.4362752016149898,
          4.636084443995287,
          -0.8964597418220137,
          -0.41917645277590054,
          1.4584189422722602,
          -0.5913638375465098,
          -0.24824513678879612,
          6.723130917192975,
          -0.995055597749797,
          -2.5402802048171225,
          -2.4717767956548187,
          -3.8560831098186554,
          -4.409654449930827,
          -11.74762392869468,
          -3.5824663222932713,
          0.09436661625466058,
          4.628677260280597,
          3.379685494752607,
          -2.7882690811043176,
          0.2865957634859342,
          -2.2766689362657644,
          -3.0231570091858657,
          -12.797896149867142,
          2.0436436026135425,
          -2.0006226559814877,
          -0.5785980956746926,
          7.950459413729959,
          5.044585608107241,
          -0.9101123202372037,
          -17.748479461962233,
          10.751999277399932,
          -5.563336808754798,
          0.26279263751587223,
          -19.360890846692996,
          2.0180981968557035,
          -0.03434402610525922,
          2.795536433564962,
          1.183418341862989,
          0.6508103042450557,
          3.6687988158980716,
          -4.731947773383013,
          -3.1021613101233925,
          -9.172753499695773,
          4.677395429673993,
          -0.42995522809872,
          -4.831597517548289,
          7.331233919926149,
          0.22282504709653495,
          0.8179838572966673,
          3.9992597199906186,
          0.40878457087399056,
          -1.077211280381448,
          -0.5973673134154751,
          6.873628260485816,
          -2.8588385814889534,
          4.178086820954945,
          1.8480722704832715,
          9.408521234087402,
          7.795471460849399,
          -4.906415904581081,
          -3.23269277854979,
          1.4410617473588445,
          -1.7897992850182618,
          0.08975368104586323,
          -7.183457319852664,
          2.1476391071191756,
          -2.6387628228848143,
          7.426472827931548,
          11.138250513725097,
          1.7776451829219013,
          0.38533378874319624,
          3.947576518267283,
          -0.9627080523464429,
          -13.792420124817454,
          -3.00933716114821,
          8.284429876590366,
          -0.8484041857558395,
          4.468573483202704,
          4.9300326538159425,
          0.10306730375134521,
          8.810053451228214,
          -3.661961627695405,
          5.369815192002534,
          1.8378840470821842,
          4.54978297983746,
          0.14743876612590157,
          -1.3147160782334595,
          0.5503449676783703,
          4.432315816472851,
          13.4477248707841
         ],
         "yaxis": "y"
        },
        {
         "line": {
          "dash": "dash"
         },
         "type": "scatter",
         "x": [
          96,
          89,
          90,
          88,
          88,
          96,
          82,
          84,
          84,
          92,
          85,
          86,
          88,
          88,
          76,
          86,
          80,
          79,
          75,
          82,
          77,
          80,
          78,
          82,
          78,
          84,
          71,
          68,
          96,
          94,
          88,
          87,
          87,
          89,
          86,
          84,
          89,
          83,
          84,
          84,
          84,
          80,
          84,
          87,
          80,
          80,
          90,
          77,
          89,
          72,
          77,
          84,
          69,
          75,
          79,
          76,
          72,
          77,
          86,
          75,
          84,
          70,
          82,
          74,
          82,
          82,
          70,
          65,
          42,
          87,
          92,
          89,
          88,
          88,
          82,
          85,
          82,
          86,
          80,
          88,
          88,
          87,
          84,
          85,
          74,
          75,
          70,
          83,
          80,
          80,
          71,
          73,
          81,
          73,
          79,
          76,
          62,
          79,
          80,
          73,
          78,
          94,
          93,
          85,
          88,
          92,
          90,
          85,
          84,
          88,
          90,
          80,
          87,
          82,
          84,
          85,
          79,
          81,
          80,
          85,
          75,
          90,
          75,
          80,
          79,
          76,
          76,
          69,
          80,
          68,
          72,
          89,
          67,
          68,
          85,
          87,
          87,
          88,
          85,
          86,
          80,
          86,
          86,
          77,
          85,
          83,
          90,
          82,
          80,
          86,
          83,
          87,
          79,
          76,
          83,
          75,
          73,
          74,
          82,
          80,
          85,
          86,
          75,
          72,
          84,
          94,
          97,
          90,
          91,
          87,
          92,
          93,
          89,
          89,
          86,
          84,
          81,
          84,
          85,
          83,
          89,
          85,
          81,
          79,
          80,
          83,
          82,
          81,
          78,
          75,
          86,
          85,
          67,
          78,
          77,
          92,
          75,
          64,
          83,
          64,
          97,
          97,
          89,
          90,
          84,
          85,
          93,
          94,
          86,
          78,
          81,
          85,
          75,
          79,
          84,
          85,
          72,
          84,
          88,
          89,
          81,
          62,
          79,
          70,
          93,
          91,
          87,
          88,
          87,
          82,
          85,
          91,
          91,
          80,
          89,
          84,
          81,
          85,
          77,
          85,
          83,
          81,
          79,
          87,
          84,
          80,
          81,
          82,
          76,
          73,
          76,
          81,
          78,
          70,
          81,
          68,
          57,
          56,
          63,
          92,
          92,
          85,
          85,
          86,
          87,
          85,
          84,
          76,
          89,
          63,
          81,
          80,
          87,
          92,
          73,
          76,
          73,
          75,
          65,
          64,
          57,
          88,
          71,
          89,
          91,
          83,
          86,
          77,
          80,
          70,
          85,
          84,
          83,
          83,
          79,
          76,
          75,
          79,
          80,
          73,
          61,
          72,
          85,
          82,
          80,
          78,
          81,
          74,
          71,
          79,
          73,
          69,
          95,
          97,
          94,
          90,
          83,
          93,
          87,
          87,
          85,
          84,
          85,
          93,
          86,
          85,
          85,
          83,
          71,
          79,
          73,
          70,
          75,
          86,
          70,
          59,
          38,
          93,
          90,
          88,
          89,
          92,
          80,
          87,
          86,
          83,
          81,
          90,
          92,
          88,
          89,
          76,
          68,
          70,
          78,
          78,
          75,
          71,
          95,
          92,
          91,
          93,
          79,
          85,
          89,
          93,
          80,
          83,
          84,
          90,
          84,
          80,
          94,
          94,
          72,
          97,
          96,
          92,
          90,
          91,
          90,
          88,
          87,
          88,
          88,
          79,
          84,
          87,
          87,
          88,
          82,
          90,
          96,
          94,
          87,
          92,
          91,
          87,
          83,
          83,
          87,
          69,
          72,
          93,
          82,
          83,
          80,
          98,
          60,
          73,
          67,
          88,
          97,
          96,
          91,
          94,
          94,
          86,
          88,
          92,
          93,
          76,
          79,
          62,
          87,
          85,
          94,
          84,
          86,
          82,
          77,
          59,
          70,
          94,
          91,
          87,
          78,
          83,
          49,
          95,
          95,
          90,
          94,
          78,
          63,
          97,
          74,
          97,
          92,
          92,
          66,
          88,
          93,
          88,
          78,
          99,
          91,
          92,
          89,
          93,
          96,
          80,
          90,
          96,
          93,
          95,
          94,
          90
         ],
         "y": [
          0.18059851701908264,
          0.16587906753030285,
          0.16798184602869998,
          0.16377628903190578,
          0.16377628903190578,
          0.18059851701908264,
          0.1511596180415231,
          0.15536517503831732,
          0.15536517503831732,
          0.17218740302549418,
          0.15746795353671444,
          0.15957073203511157,
          0.16377628903190578,
          0.16377628903190578,
          0.13854294705114045,
          0.15957073203511157,
          0.1469540610447289,
          0.14485128254633178,
          0.13644016855274332,
          0.1511596180415231,
          0.14064572554953758,
          0.1469540610447289,
          0.14274850404793465,
          0.1511596180415231,
          0.14274850404793465,
          0.15536517503831732,
          0.12802905455915492,
          0.12172071906396358,
          0.18059851701908264,
          0.17639296002228844,
          0.16377628903190578,
          0.16167351053350865,
          0.16167351053350865,
          0.16587906753030285,
          0.15957073203511157,
          0.15536517503831732,
          0.16587906753030285,
          0.15326239653992024,
          0.15536517503831732,
          0.15536517503831732,
          0.15536517503831732,
          0.1469540610447289,
          0.15536517503831732,
          0.16167351053350865,
          0.1469540610447289,
          0.1469540610447289,
          0.16798184602869998,
          0.14064572554953758,
          0.16587906753030285,
          0.130131833057552,
          0.14064572554953758,
          0.15536517503831732,
          0.12382349756236068,
          0.13644016855274332,
          0.14485128254633178,
          0.13854294705114045,
          0.130131833057552,
          0.14064572554953758,
          0.15957073203511157,
          0.13644016855274332,
          0.15536517503831732,
          0.1259262760607578,
          0.1511596180415231,
          0.13433739005434625,
          0.1511596180415231,
          0.1511596180415231,
          0.1259262760607578,
          0.11541238356877224,
          0.06704847810563874,
          0.16167351053350865,
          0.17218740302549418,
          0.16587906753030285,
          0.16377628903190578,
          0.16377628903190578,
          0.1511596180415231,
          0.15746795353671444,
          0.1511596180415231,
          0.15957073203511157,
          0.1469540610447289,
          0.16377628903190578,
          0.16377628903190578,
          0.16167351053350865,
          0.15536517503831732,
          0.15746795353671444,
          0.13433739005434625,
          0.13644016855274332,
          0.1259262760607578,
          0.15326239653992024,
          0.1469540610447289,
          0.1469540610447289,
          0.12802905455915492,
          0.13223461155594912,
          0.14905683954312599,
          0.13223461155594912,
          0.14485128254633178,
          0.13854294705114045,
          0.10910404807358091,
          0.14485128254633178,
          0.1469540610447289,
          0.13223461155594912,
          0.14274850404793465,
          0.17639296002228844,
          0.1742901815238913,
          0.15746795353671444,
          0.16377628903190578,
          0.17218740302549418,
          0.16798184602869998,
          0.15746795353671444,
          0.15536517503831732,
          0.16377628903190578,
          0.16798184602869998,
          0.1469540610447289,
          0.16167351053350865,
          0.1511596180415231,
          0.15536517503831732,
          0.15746795353671444,
          0.14485128254633178,
          0.14905683954312599,
          0.1469540610447289,
          0.15746795353671444,
          0.13644016855274332,
          0.16798184602869998,
          0.13644016855274332,
          0.1469540610447289,
          0.14485128254633178,
          0.13854294705114045,
          0.13854294705114045,
          0.12382349756236068,
          0.1469540610447289,
          0.12172071906396358,
          0.130131833057552,
          0.16587906753030285,
          0.11961794056556647,
          0.12172071906396358,
          0.15746795353671444,
          0.16167351053350865,
          0.16167351053350865,
          0.16377628903190578,
          0.15746795353671444,
          0.15957073203511157,
          0.1469540610447289,
          0.15957073203511157,
          0.15957073203511157,
          0.14064572554953758,
          0.15746795353671444,
          0.15326239653992024,
          0.16798184602869998,
          0.1511596180415231,
          0.1469540610447289,
          0.15957073203511157,
          0.15326239653992024,
          0.16167351053350865,
          0.14485128254633178,
          0.13854294705114045,
          0.15326239653992024,
          0.13644016855274332,
          0.13223461155594912,
          0.13433739005434625,
          0.1511596180415231,
          0.1469540610447289,
          0.15746795353671444,
          0.15957073203511157,
          0.13644016855274332,
          0.130131833057552,
          0.15536517503831732,
          0.17639296002228844,
          0.18270129551747977,
          0.16798184602869998,
          0.1700846245270971,
          0.16167351053350865,
          0.17218740302549418,
          0.1742901815238913,
          0.16587906753030285,
          0.16587906753030285,
          0.15957073203511157,
          0.15536517503831732,
          0.14905683954312599,
          0.15536517503831732,
          0.15746795353671444,
          0.15326239653992024,
          0.16587906753030285,
          0.15746795353671444,
          0.14905683954312599,
          0.14485128254633178,
          0.1469540610447289,
          0.15326239653992024,
          0.1511596180415231,
          0.14905683954312599,
          0.14274850404793465,
          0.13644016855274332,
          0.15957073203511157,
          0.15746795353671444,
          0.11961794056556647,
          0.14274850404793465,
          0.14064572554953758,
          0.17218740302549418,
          0.13644016855274332,
          0.11330960507037514,
          0.15326239653992024,
          0.11330960507037514,
          0.18270129551747977,
          0.18270129551747977,
          0.16587906753030285,
          0.16798184602869998,
          0.15536517503831732,
          0.15746795353671444,
          0.1742901815238913,
          0.17639296002228844,
          0.15957073203511157,
          0.14274850404793465,
          0.14905683954312599,
          0.15746795353671444,
          0.13644016855274332,
          0.14485128254633178,
          0.15536517503831732,
          0.15746795353671444,
          0.130131833057552,
          0.15536517503831732,
          0.16377628903190578,
          0.16587906753030285,
          0.14905683954312599,
          0.10910404807358091,
          0.14485128254633178,
          0.1259262760607578,
          0.1742901815238913,
          0.1700846245270971,
          0.16167351053350865,
          0.16377628903190578,
          0.16167351053350865,
          0.1511596180415231,
          0.15746795353671444,
          0.1700846245270971,
          0.1700846245270971,
          0.1469540610447289,
          0.16587906753030285,
          0.15536517503831732,
          0.14905683954312599,
          0.15746795353671444,
          0.14064572554953758,
          0.15746795353671444,
          0.15326239653992024,
          0.14905683954312599,
          0.14485128254633178,
          0.16167351053350865,
          0.15536517503831732,
          0.1469540610447289,
          0.14905683954312599,
          0.1511596180415231,
          0.13854294705114045,
          0.13223461155594912,
          0.13854294705114045,
          0.14905683954312599,
          0.14274850404793465,
          0.1259262760607578,
          0.14905683954312599,
          0.12172071906396358,
          0.09859015558159538,
          0.09648737708319827,
          0.11120682657197804,
          0.17218740302549418,
          0.17218740302549418,
          0.15746795353671444,
          0.15746795353671444,
          0.15957073203511157,
          0.16167351053350865,
          0.15746795353671444,
          0.15536517503831732,
          0.13854294705114045,
          0.16587906753030285,
          0.11120682657197804,
          0.14905683954312599,
          0.1469540610447289,
          0.16167351053350865,
          0.17218740302549418,
          0.13223461155594912,
          0.13854294705114045,
          0.13223461155594912,
          0.13644016855274332,
          0.11541238356877224,
          0.11330960507037514,
          0.09859015558159538,
          0.16377628903190578,
          0.12802905455915492,
          0.16587906753030285,
          0.1700846245270971,
          0.15326239653992024,
          0.15957073203511157,
          0.14064572554953758,
          0.1469540610447289,
          0.1259262760607578,
          0.15746795353671444,
          0.15536517503831732,
          0.15326239653992024,
          0.15326239653992024,
          0.14485128254633178,
          0.13854294705114045,
          0.13644016855274332,
          0.14485128254633178,
          0.1469540610447289,
          0.13223461155594912,
          0.10700126957518381,
          0.130131833057552,
          0.15746795353671444,
          0.1511596180415231,
          0.1469540610447289,
          0.14274850404793465,
          0.14905683954312599,
          0.13433739005434625,
          0.12802905455915492,
          0.14485128254633178,
          0.13223461155594912,
          0.12382349756236068,
          0.1784957385206855,
          0.18270129551747977,
          0.17639296002228844,
          0.16798184602869998,
          0.15326239653992024,
          0.1742901815238913,
          0.16167351053350865,
          0.16167351053350865,
          0.15746795353671444,
          0.15536517503831732,
          0.15746795353671444,
          0.1742901815238913,
          0.15957073203511157,
          0.15746795353671444,
          0.15746795353671444,
          0.15326239653992024,
          0.12802905455915492,
          0.14485128254633178,
          0.13223461155594912,
          0.1259262760607578,
          0.13644016855274332,
          0.15957073203511157,
          0.1259262760607578,
          0.1027957125783896,
          0.05863736411205031,
          0.1742901815238913,
          0.16798184602869998,
          0.16377628903190578,
          0.16587906753030285,
          0.17218740302549418,
          0.1469540610447289,
          0.16167351053350865,
          0.15957073203511157,
          0.15326239653992024,
          0.14905683954312599,
          0.16798184602869998,
          0.17218740302549418,
          0.16377628903190578,
          0.16587906753030285,
          0.13854294705114045,
          0.12172071906396358,
          0.1259262760607578,
          0.14274850404793465,
          0.14274850404793465,
          0.13644016855274332,
          0.12802905455915492,
          0.1784957385206855,
          0.17218740302549418,
          0.1700846245270971,
          0.1742901815238913,
          0.14485128254633178,
          0.15746795353671444,
          0.16587906753030285,
          0.1742901815238913,
          0.1469540610447289,
          0.15326239653992024,
          0.15536517503831732,
          0.16798184602869998,
          0.15536517503831732,
          0.1469540610447289,
          0.17639296002228844,
          0.17639296002228844,
          0.130131833057552,
          0.18270129551747977,
          0.18059851701908264,
          0.17218740302549418,
          0.16798184602869998,
          0.1700846245270971,
          0.16798184602869998,
          0.16377628903190578,
          0.16167351053350865,
          0.16377628903190578,
          0.16377628903190578,
          0.14485128254633178,
          0.15536517503831732,
          0.16167351053350865,
          0.16167351053350865,
          0.16377628903190578,
          0.1511596180415231,
          0.16798184602869998,
          0.18059851701908264,
          0.17639296002228844,
          0.16167351053350865,
          0.17218740302549418,
          0.1700846245270971,
          0.16167351053350865,
          0.15326239653992024,
          0.15326239653992024,
          0.16167351053350865,
          0.12382349756236068,
          0.130131833057552,
          0.1742901815238913,
          0.1511596180415231,
          0.15326239653992024,
          0.1469540610447289,
          0.18480407401587684,
          0.10489849107678671,
          0.13223461155594912,
          0.11961794056556647,
          0.16377628903190578,
          0.18270129551747977,
          0.18059851701908264,
          0.1700846245270971,
          0.17639296002228844,
          0.17639296002228844,
          0.15957073203511157,
          0.16377628903190578,
          0.17218740302549418,
          0.1742901815238913,
          0.13854294705114045,
          0.14485128254633178,
          0.10910404807358091,
          0.16167351053350865,
          0.15746795353671444,
          0.17639296002228844,
          0.15536517503831732,
          0.15957073203511157,
          0.1511596180415231,
          0.14064572554953758,
          0.1027957125783896,
          0.1259262760607578,
          0.17639296002228844,
          0.1700846245270971,
          0.16167351053350865,
          0.14274850404793465,
          0.15326239653992024,
          0.0817679275944185,
          0.1784957385206855,
          0.1784957385206855,
          0.16798184602869998,
          0.17639296002228844,
          0.14274850404793465,
          0.11120682657197804,
          0.18270129551747977,
          0.13433739005434625,
          0.18270129551747977,
          0.17218740302549418,
          0.17218740302549418,
          0.11751516206716937,
          0.16377628903190578,
          0.1742901815238913,
          0.16377628903190578,
          0.14274850404793465,
          0.18690685251427397,
          0.1700846245270971,
          0.17218740302549418,
          0.16587906753030285,
          0.1742901815238913,
          0.18059851701908264,
          0.1469540610447289,
          0.16798184602869998,
          0.18059851701908264,
          0.1742901815238913,
          0.1784957385206855,
          0.17639296002228844,
          0.16798184602869998
         ]
        }
       ],
       "layout": {
        "legend": {
         "tracegroupgap": 0
        },
        "margin": {
         "t": 60
        },
        "template": {
         "data": {
          "bar": [
           {
            "error_x": {
             "color": "#2a3f5f"
            },
            "error_y": {
             "color": "#2a3f5f"
            },
            "marker": {
             "line": {
              "color": "#E5ECF6",
              "width": 0.5
             },
             "pattern": {
              "fillmode": "overlay",
              "size": 10,
              "solidity": 0.2
             }
            },
            "type": "bar"
           }
          ],
          "barpolar": [
           {
            "marker": {
             "line": {
              "color": "#E5ECF6",
              "width": 0.5
             },
             "pattern": {
              "fillmode": "overlay",
              "size": 10,
              "solidity": 0.2
             }
            },
            "type": "barpolar"
           }
          ],
          "carpet": [
           {
            "aaxis": {
             "endlinecolor": "#2a3f5f",
             "gridcolor": "white",
             "linecolor": "white",
             "minorgridcolor": "white",
             "startlinecolor": "#2a3f5f"
            },
            "baxis": {
             "endlinecolor": "#2a3f5f",
             "gridcolor": "white",
             "linecolor": "white",
             "minorgridcolor": "white",
             "startlinecolor": "#2a3f5f"
            },
            "type": "carpet"
           }
          ],
          "choropleth": [
           {
            "colorbar": {
             "outlinewidth": 0,
             "ticks": ""
            },
            "type": "choropleth"
           }
          ],
          "contour": [
           {
            "colorbar": {
             "outlinewidth": 0,
             "ticks": ""
            },
            "colorscale": [
             [
              0,
              "#0d0887"
             ],
             [
              0.1111111111111111,
              "#46039f"
             ],
             [
              0.2222222222222222,
              "#7201a8"
             ],
             [
              0.3333333333333333,
              "#9c179e"
             ],
             [
              0.4444444444444444,
              "#bd3786"
             ],
             [
              0.5555555555555556,
              "#d8576b"
             ],
             [
              0.6666666666666666,
              "#ed7953"
             ],
             [
              0.7777777777777778,
              "#fb9f3a"
             ],
             [
              0.8888888888888888,
              "#fdca26"
             ],
             [
              1,
              "#f0f921"
             ]
            ],
            "type": "contour"
           }
          ],
          "contourcarpet": [
           {
            "colorbar": {
             "outlinewidth": 0,
             "ticks": ""
            },
            "type": "contourcarpet"
           }
          ],
          "heatmap": [
           {
            "colorbar": {
             "outlinewidth": 0,
             "ticks": ""
            },
            "colorscale": [
             [
              0,
              "#0d0887"
             ],
             [
              0.1111111111111111,
              "#46039f"
             ],
             [
              0.2222222222222222,
              "#7201a8"
             ],
             [
              0.3333333333333333,
              "#9c179e"
             ],
             [
              0.4444444444444444,
              "#bd3786"
             ],
             [
              0.5555555555555556,
              "#d8576b"
             ],
             [
              0.6666666666666666,
              "#ed7953"
             ],
             [
              0.7777777777777778,
              "#fb9f3a"
             ],
             [
              0.8888888888888888,
              "#fdca26"
             ],
             [
              1,
              "#f0f921"
             ]
            ],
            "type": "heatmap"
           }
          ],
          "heatmapgl": [
           {
            "colorbar": {
             "outlinewidth": 0,
             "ticks": ""
            },
            "colorscale": [
             [
              0,
              "#0d0887"
             ],
             [
              0.1111111111111111,
              "#46039f"
             ],
             [
              0.2222222222222222,
              "#7201a8"
             ],
             [
              0.3333333333333333,
              "#9c179e"
             ],
             [
              0.4444444444444444,
              "#bd3786"
             ],
             [
              0.5555555555555556,
              "#d8576b"
             ],
             [
              0.6666666666666666,
              "#ed7953"
             ],
             [
              0.7777777777777778,
              "#fb9f3a"
             ],
             [
              0.8888888888888888,
              "#fdca26"
             ],
             [
              1,
              "#f0f921"
             ]
            ],
            "type": "heatmapgl"
           }
          ],
          "histogram": [
           {
            "marker": {
             "pattern": {
              "fillmode": "overlay",
              "size": 10,
              "solidity": 0.2
             }
            },
            "type": "histogram"
           }
          ],
          "histogram2d": [
           {
            "colorbar": {
             "outlinewidth": 0,
             "ticks": ""
            },
            "colorscale": [
             [
              0,
              "#0d0887"
             ],
             [
              0.1111111111111111,
              "#46039f"
             ],
             [
              0.2222222222222222,
              "#7201a8"
             ],
             [
              0.3333333333333333,
              "#9c179e"
             ],
             [
              0.4444444444444444,
              "#bd3786"
             ],
             [
              0.5555555555555556,
              "#d8576b"
             ],
             [
              0.6666666666666666,
              "#ed7953"
             ],
             [
              0.7777777777777778,
              "#fb9f3a"
             ],
             [
              0.8888888888888888,
              "#fdca26"
             ],
             [
              1,
              "#f0f921"
             ]
            ],
            "type": "histogram2d"
           }
          ],
          "histogram2dcontour": [
           {
            "colorbar": {
             "outlinewidth": 0,
             "ticks": ""
            },
            "colorscale": [
             [
              0,
              "#0d0887"
             ],
             [
              0.1111111111111111,
              "#46039f"
             ],
             [
              0.2222222222222222,
              "#7201a8"
             ],
             [
              0.3333333333333333,
              "#9c179e"
             ],
             [
              0.4444444444444444,
              "#bd3786"
             ],
             [
              0.5555555555555556,
              "#d8576b"
             ],
             [
              0.6666666666666666,
              "#ed7953"
             ],
             [
              0.7777777777777778,
              "#fb9f3a"
             ],
             [
              0.8888888888888888,
              "#fdca26"
             ],
             [
              1,
              "#f0f921"
             ]
            ],
            "type": "histogram2dcontour"
           }
          ],
          "mesh3d": [
           {
            "colorbar": {
             "outlinewidth": 0,
             "ticks": ""
            },
            "type": "mesh3d"
           }
          ],
          "parcoords": [
           {
            "line": {
             "colorbar": {
              "outlinewidth": 0,
              "ticks": ""
             }
            },
            "type": "parcoords"
           }
          ],
          "pie": [
           {
            "automargin": true,
            "type": "pie"
           }
          ],
          "scatter": [
           {
            "fillpattern": {
             "fillmode": "overlay",
             "size": 10,
             "solidity": 0.2
            },
            "type": "scatter"
           }
          ],
          "scatter3d": [
           {
            "line": {
             "colorbar": {
              "outlinewidth": 0,
              "ticks": ""
             }
            },
            "marker": {
             "colorbar": {
              "outlinewidth": 0,
              "ticks": ""
             }
            },
            "type": "scatter3d"
           }
          ],
          "scattercarpet": [
           {
            "marker": {
             "colorbar": {
              "outlinewidth": 0,
              "ticks": ""
             }
            },
            "type": "scattercarpet"
           }
          ],
          "scattergeo": [
           {
            "marker": {
             "colorbar": {
              "outlinewidth": 0,
              "ticks": ""
             }
            },
            "type": "scattergeo"
           }
          ],
          "scattergl": [
           {
            "marker": {
             "colorbar": {
              "outlinewidth": 0,
              "ticks": ""
             }
            },
            "type": "scattergl"
           }
          ],
          "scattermapbox": [
           {
            "marker": {
             "colorbar": {
              "outlinewidth": 0,
              "ticks": ""
             }
            },
            "type": "scattermapbox"
           }
          ],
          "scatterpolar": [
           {
            "marker": {
             "colorbar": {
              "outlinewidth": 0,
              "ticks": ""
             }
            },
            "type": "scatterpolar"
           }
          ],
          "scatterpolargl": [
           {
            "marker": {
             "colorbar": {
              "outlinewidth": 0,
              "ticks": ""
             }
            },
            "type": "scatterpolargl"
           }
          ],
          "scatterternary": [
           {
            "marker": {
             "colorbar": {
              "outlinewidth": 0,
              "ticks": ""
             }
            },
            "type": "scatterternary"
           }
          ],
          "surface": [
           {
            "colorbar": {
             "outlinewidth": 0,
             "ticks": ""
            },
            "colorscale": [
             [
              0,
              "#0d0887"
             ],
             [
              0.1111111111111111,
              "#46039f"
             ],
             [
              0.2222222222222222,
              "#7201a8"
             ],
             [
              0.3333333333333333,
              "#9c179e"
             ],
             [
              0.4444444444444444,
              "#bd3786"
             ],
             [
              0.5555555555555556,
              "#d8576b"
             ],
             [
              0.6666666666666666,
              "#ed7953"
             ],
             [
              0.7777777777777778,
              "#fb9f3a"
             ],
             [
              0.8888888888888888,
              "#fdca26"
             ],
             [
              1,
              "#f0f921"
             ]
            ],
            "type": "surface"
           }
          ],
          "table": [
           {
            "cells": {
             "fill": {
              "color": "#EBF0F8"
             },
             "line": {
              "color": "white"
             }
            },
            "header": {
             "fill": {
              "color": "#C8D4E3"
             },
             "line": {
              "color": "white"
             }
            },
            "type": "table"
           }
          ]
         },
         "layout": {
          "annotationdefaults": {
           "arrowcolor": "#2a3f5f",
           "arrowhead": 0,
           "arrowwidth": 1
          },
          "autotypenumbers": "strict",
          "coloraxis": {
           "colorbar": {
            "outlinewidth": 0,
            "ticks": ""
           }
          },
          "colorscale": {
           "diverging": [
            [
             0,
             "#8e0152"
            ],
            [
             0.1,
             "#c51b7d"
            ],
            [
             0.2,
             "#de77ae"
            ],
            [
             0.3,
             "#f1b6da"
            ],
            [
             0.4,
             "#fde0ef"
            ],
            [
             0.5,
             "#f7f7f7"
            ],
            [
             0.6,
             "#e6f5d0"
            ],
            [
             0.7,
             "#b8e186"
            ],
            [
             0.8,
             "#7fbc41"
            ],
            [
             0.9,
             "#4d9221"
            ],
            [
             1,
             "#276419"
            ]
           ],
           "sequential": [
            [
             0,
             "#0d0887"
            ],
            [
             0.1111111111111111,
             "#46039f"
            ],
            [
             0.2222222222222222,
             "#7201a8"
            ],
            [
             0.3333333333333333,
             "#9c179e"
            ],
            [
             0.4444444444444444,
             "#bd3786"
            ],
            [
             0.5555555555555556,
             "#d8576b"
            ],
            [
             0.6666666666666666,
             "#ed7953"
            ],
            [
             0.7777777777777778,
             "#fb9f3a"
            ],
            [
             0.8888888888888888,
             "#fdca26"
            ],
            [
             1,
             "#f0f921"
            ]
           ],
           "sequentialminus": [
            [
             0,
             "#0d0887"
            ],
            [
             0.1111111111111111,
             "#46039f"
            ],
            [
             0.2222222222222222,
             "#7201a8"
            ],
            [
             0.3333333333333333,
             "#9c179e"
            ],
            [
             0.4444444444444444,
             "#bd3786"
            ],
            [
             0.5555555555555556,
             "#d8576b"
            ],
            [
             0.6666666666666666,
             "#ed7953"
            ],
            [
             0.7777777777777778,
             "#fb9f3a"
            ],
            [
             0.8888888888888888,
             "#fdca26"
            ],
            [
             1,
             "#f0f921"
            ]
           ]
          },
          "colorway": [
           "#636efa",
           "#EF553B",
           "#00cc96",
           "#ab63fa",
           "#FFA15A",
           "#19d3f3",
           "#FF6692",
           "#B6E880",
           "#FF97FF",
           "#FECB52"
          ],
          "font": {
           "color": "#2a3f5f"
          },
          "geo": {
           "bgcolor": "white",
           "lakecolor": "white",
           "landcolor": "#E5ECF6",
           "showlakes": true,
           "showland": true,
           "subunitcolor": "white"
          },
          "hoverlabel": {
           "align": "left"
          },
          "hovermode": "closest",
          "mapbox": {
           "style": "light"
          },
          "paper_bgcolor": "white",
          "plot_bgcolor": "#E5ECF6",
          "polar": {
           "angularaxis": {
            "gridcolor": "white",
            "linecolor": "white",
            "ticks": ""
           },
           "bgcolor": "#E5ECF6",
           "radialaxis": {
            "gridcolor": "white",
            "linecolor": "white",
            "ticks": ""
           }
          },
          "scene": {
           "xaxis": {
            "backgroundcolor": "#E5ECF6",
            "gridcolor": "white",
            "gridwidth": 2,
            "linecolor": "white",
            "showbackground": true,
            "ticks": "",
            "zerolinecolor": "white"
           },
           "yaxis": {
            "backgroundcolor": "#E5ECF6",
            "gridcolor": "white",
            "gridwidth": 2,
            "linecolor": "white",
            "showbackground": true,
            "ticks": "",
            "zerolinecolor": "white"
           },
           "zaxis": {
            "backgroundcolor": "#E5ECF6",
            "gridcolor": "white",
            "gridwidth": 2,
            "linecolor": "white",
            "showbackground": true,
            "ticks": "",
            "zerolinecolor": "white"
           }
          },
          "shapedefaults": {
           "line": {
            "color": "#2a3f5f"
           }
          },
          "ternary": {
           "aaxis": {
            "gridcolor": "white",
            "linecolor": "white",
            "ticks": ""
           },
           "baxis": {
            "gridcolor": "white",
            "linecolor": "white",
            "ticks": ""
           },
           "bgcolor": "#E5ECF6",
           "caxis": {
            "gridcolor": "white",
            "linecolor": "white",
            "ticks": ""
           }
          },
          "title": {
           "x": 0.05
          },
          "xaxis": {
           "automargin": true,
           "gridcolor": "white",
           "linecolor": "white",
           "ticks": "",
           "title": {
            "standoff": 15
           },
           "zerolinecolor": "white",
           "zerolinewidth": 2
          },
          "yaxis": {
           "automargin": true,
           "gridcolor": "white",
           "linecolor": "white",
           "ticks": "",
           "title": {
            "standoff": 15
           },
           "zerolinecolor": "white",
           "zerolinewidth": 2
          }
         }
        },
        "xaxis": {
         "anchor": "y",
         "domain": [
          0,
          1
         ],
         "title": {
          "text": "Review avg"
         }
        },
        "yaxis": {
         "anchor": "x",
         "domain": [
          0,
          1
         ],
         "title": {
          "text": "Prediction delta rvw"
         }
        }
       }
      },
      "text/html": [
       "<div>                            <div id=\"1028b830-a513-4baf-a99f-fddce3ad5010\" class=\"plotly-graph-div\" style=\"height:525px; width:100%;\"></div>            <script type=\"text/javascript\">                require([\"plotly\"], function(Plotly) {                    window.PLOTLYENV=window.PLOTLYENV || {};                                    if (document.getElementById(\"1028b830-a513-4baf-a99f-fddce3ad5010\")) {                    Plotly.newPlot(                        \"1028b830-a513-4baf-a99f-fddce3ad5010\",                        [{\"hovertemplate\":\"<b>%{hovertext}</b><br><br>Review avg=%{x}<br>Prediction delta rvw=%{y}<extra></extra>\",\"hovertext\":[\"The Legend of Zelda: Tears of the Kingdom\",\"Hi-Fi Rush\",\"Marvel's Spider-Man 2\",\"Cocoon\",\"Final Fantasy XVI\",\"Baldur's Gate 3\",\"Lies of P\",\"Star Wars Jedi Survivor\",\"Aces and Adventures\",\"Super Mario Bros. Wonder\",\"Armored Core VI: Fires of Rubicon\",\"Cassette Beasts\",\"Pikmin 4\",\"Diablo 4\",\"The Crew Motorfest\",\"Starfield\",\"F-Zero 99\",\"Wild Hearts\",\"Cities Skylines 2\",\"Jusant\",\"Assassin's Creed Mirage\",\"Counter-Strike 2\",\"20 Minutes Till Dawn\",\"Wo Long Fallen Dynasty\",\"Tchia\",\"Forza Motorsport (2023)\",\"Minecraft Legends\",\"Exoprimal\",\"Elden Ring\",\"God of War Ragnar\\u00f6k\",\"Horizon Forbidden West\",\"Gran Turismo 7\",\"Vampire Survivors\",\"Rogue Legacy 2\",\"OlliOlli World\",\"Stray\",\"Neon White\",\"Splatoon 3\",\"Citizen Sleeper\",\"Pokemon Legends Arceus\",\"Kirby and the Forgotten Land\",\"PlateUp!\",\"Two Point Campus\",\"Teenage Mutant Ninja Turtles: Shredder's Revenge\",\"Rollerdrome\",\"Nobody Saves The World\",\"Chained Echoes\",\"Overwatch 2\",\"Freshly Frosted\",\"Pokemon Violet\",\"Ghostwire Tokyo\",\"Cult of the Lamb\",\"High on Life\",\"Grid Legends\",\"Warpips\",\"TemTem\",\"Trek to Yomi\",\"Windjammers 2\",\"Tunic\",\"Need for Speed Unbound\",\"A Plague Tale: Requiem\",\"You Suck At Parking\",\"Lego Star Wars The Skywalker Saga\",\"Arcadeggedon\",\"Spacelines from the Far Out\",\"Lost Ark\",\"Golfie\",\"Diablo Immortal\",\"CrossfireX\",\"Metroid Dread\",\"Forza Horizon 5\",\"Psychonauts 2\",\"Ratchet & Clank: Rift Apart\",\"Death's Door\",\"Guardians of the Galaxy\",\"Unsighted\",\"Kena: Bridge of Spirits\",\"Returnal\",\"Ys IX: Monstrum Nox\",\"Deathloop\",\"Monster Hunter Rise\",\"Halo Infinite\",\"Loop Hero\",\"Wildermyth\",\"Hot Wheels Unleashed\",\"Tribes of Midgard\",\"Buck Up and Drive!\",\"Age of Empires IV\",\"Mini Motorways\",\"The Riftbreaker\",\"Mario Golf: Super Rush\",\"Boyfriend Dungeon\",\"Curse of the Dead Gods\",\"The Ascent\",\"Scarlet Nexus\",\"Back 4 Blood\",\"Destruction Allstars\",\"Dandy Ace\",\"F.I.S.T. Forged In Shadow Torch\",\"Cruis'n Blast\",\"Sunlight\",\"Hades\",\"The Last of Us Part II\",\"Ghost of Tsushima\",\"Final Fantasy VII Remake\",\"Demon's Souls (Remake)\",\"Ori and The Will of the Wisps\",\"Marvel's Spider-Man Miles Morales\",\"Astro's Playroom\",\"F1 2020\",\"Animal Crossing New Horizons\",\"Monster Sanctuary\",\"Spiritfarer\",\"Dirt 5\",\"Streets of Rage 4\",\"Deep Rock Galactic\",\"Immortals Fenyx Rising\",\"Sackboy: A Big Adventure\",\"WRC 9\",\"Crash Bandicoot 4: Its About Time\",\"Call of Duty Black Ops Cold War\",\"Dreams\",\"Bugsnax\",\"Hyrule Warriors Age of Calamity\",\"Star Wars Squadrons\",\"Journey to the Savage Planet\",\"Cyberpunk 2077\",\"Golf With Your Friends\",\"Fall Guys\",\"Darksburg\",\"Minecraft Dungeons\",\"Doom Eternal\",\"Embr\",\"Marvel's Avengers\",\"Star Wars Jedi Fallen Order\",\"A Short Hike\",\"Astral Chain\",\"Devil May Cry 5\",\"Gears 5\",\"F1 2019\",\"Borderlands 3\",\"Luigi's Mansion 3\",\"Apex Legends\",\"Concrete Genie\",\"Kingdom Hearts 3\",\"Ring Fit Adventure\",\"Sekiro Shadows Die Twice\",\"A Plague Tale: Innocence\",\"Trials Rising\",\"Risk of Rain 2\",\"Dirt Rally 2.0\",\"The Legend of Zelda: Link's Awakening\",\"Darksiders Genesis\",\"Cat Quest II\",\"Wargroove\",\"GreedFall\",\"Grid (2019)\",\"The Jackbox Party Pack 6\",\"Dicey Dungeons\",\"Pokemon Sword\",\"The Outer Worlds\",\"Outer Wilds\",\"Unrailed!\",\"Need For Speed Heat\",\"Control\",\"God of War (2018)\",\"Red Dead Redemption 2\",\"Astro Bot Rescue Mission\",\"Celeste\",\"Marvel's Spider-Man\",\"Forza Horizon 4\",\"Super Smash Bros. Ultimate\",\"Tetris Effect\",\"Dead Cells\",\"Crosscode\",\"F1 2018\",\"Overcooked 2\",\"Gris\",\"Call of Duty Black Ops 4\",\"Warhammer Vermentide 2\",\"Monster Hunter World\",\"Moss PSVR\",\"Pokemon Let's Go Pikachu\",\"Northgard\",\"Wreckfest\",\"Parkitect\",\"Far Cry 5\",\"Fifa 19\",\"Detroit Become Human\",\"Golf Peaks\",\"Dragon Quest XI\",\"Assassin's Creed Odyssey\",\"Sea of Thieves\",\"Mario Tennis Aces\",\"Surviving Mars\",\"Shadow of the Colossus (Remake)\",\"For The King\",\"The Crew 2\",\"Octopath Traveller\",\"Farming Simulator 2019\",\"The Legend of Zelda: Breath of the Wild\",\"Super Mario Odyssey\",\"Horizon Zero Dawn\",\"Hollow Knight\",\"Uncharted The Lost Legacy\",\"Ys VIII Lacrimosa of Dana\",\"Divinity Original Sin 2\",\"Persona 5\",\"F1 2017\",\"Golf Story\",\"Assassin's Creed Origins\",\"Mario + Rabbids Kingdom Battle\",\"Gran Turismo Sport\",\"Call of Duty WW2\",\"Pyre\",\"WipeOut Omega Collection\",\"Cat Quest\",\"Nex Machina\",\"Nioh\",\"Nier Automata\",\"Prey\",\"Luna\",\"Middle Earth: Shadow of War\",\"Doom VFR\",\"Uncharted 4 A Thief's End\",\"Forza Horizon 3\",\"Titanfall 2\",\"Civilization VI\",\"Pokemon Sun\",\"F1 2016\",\"Forza Motorsport 7\",\"Inside\",\"Overwatch\",\"Overcooked\",\"Stardew Valley\",\"Gears of War 4\",\"Trackmania Turbo\",\"Ratchet & Clank\",\"Call of Duty Infinite Warfare\",\"Doom (2016)\",\"Hearts of Iron IV\",\"Stellaris\",\"Ultimate Chicken Horse\",\"Battlefield 1\",\"Hyper Light Drifter\",\"Abzu\",\"Motorsport Manager\",\"Watch Dogs 2\",\"Clustertruck\",\"Kingdom New Lands\",\"Far Cry Primal\",\"Final Fantasy XV\",\"Worms W.M.D\",\"Dragon Quest Builders\",\"The Last Guardian\",\"Human Fall Flat\",\"Shoppe Keep\",\"VR Worlds\",\"Youtubers Life\",\"Bloodborne\",\"Undertale\",\"Rocket League\",\"Cities Skylines\",\"Rise of the Tomb Raider \",\"Batman Arkham Knight\",\"OlliOlli 2: Welcome to Olliwood\",\"Halo 5: Guardians\",\"Assassin's Creed Syndicate\",\"Ori and The Blind Forest\",\"The Order 1886\",\"Call of Duty Black Ops III\",\"Prison Architect\",\"Crypt of the Necrodancer\",\"The Witcher 3\",\"Star Wars Battlefront\",\"Apotheon\",\"Just Cause 3\",\"Project Cars\",\"F1 2015\",\"Big Pharma\",\"Clicker Heroes\",\"Mario Kart 8\",\"Driveclub\",\"Dragon Age Inquisition\",\"Bayonetta 2\",\"Transistor\",\"Tales From the Borderlands\",\"Watch Dogs\",\"inFAMOUS Second Son\",\"Assassin's Creed Unity\",\"Far Cry 4\",\"Middle Earth Shadow of Mordor\",\"Call of Duty Advanced Warfare\",\"Pokemon Omega Ruby\",\"Trials Fusion\",\"Destiny\",\"Borderlands The Pre-Sequel\",\"Dungeon of the Endless\",\"Football Manager 2015\",\"Infamous First Light\",\"The Crew\",\"Assassin's Creed Rogue\",\"Velocity 2X\",\"Endless Legend\",\"Sportsfriends\",\"Grid Autosport\",\"Civilization Beyond Earth\",\"Banished\",\"Dead Nation: Apocalypse Edition\",\"Little Big Planet 3\",\"Pure Pool\",\"Game of Thrones Telltale\",\"The Last of Us\",\"Grand Theft Auto V\",\"Bioshock Infinite\",\"Rayman Legends\",\"Assassin's Creed IV Black Flag\",\"Super Mario 3D World\",\"Tearaway\",\"Europa Universalis IV\",\"Tomb Raider\",\"Resogun\",\"Fifa 14\",\"Path of Exile\",\"Pokemon Y\",\"Football Manager 2014\",\"Battlefield 4\",\"Guacamelee!\",\"Warframe\",\"Don't Starve\",\"Killzone Shadow Fall\",\"Assassin's Creed Freedom Cry\",\"War Thunder\",\"Lyne\",\"Democracy 3\",\"Contrast\",\"Fifa 14 Legacy Edition\",\"Mass Effect 3\",\"Guild Wars 2\",\"Diablo 3\",\"Borderlands 2\",\"Journey\",\"Pokemon Black 2\",\"Halo 4\",\"Football Manager 2013\",\"Call of Duty Black Ops II\",\"F1 2012\",\"Fifa 13\",\"Xenoblade Chronicles\",\"Torchlight 2\",\"XCOM: Enemy Unknown\",\"Spec Ops The Line\",\"Game Dev Tycoon\",\"Factorio\",\"New Super Mario Bros. 2\",\"Awesomenauts\",\"Sonic & All Stars Racing Transformed\",\"Warlock - Master of the Arcane\",\"Portal 2\",\"Uncharted 3 Drake's Deception\",\"Forza 4\",\"Minecraft\",\"Dragon Age 2\",\"Mario Kart 7\",\"Call of Duty Modern Warfare 3\",\"The Legend of Zelda: Skyward Sword\",\"Assassin's Creed Revelations\",\"Terraria\",\"F1 2011\",\"Fifa 12\",\"Football Manager 2012\",\"Uncharted Golden Abyss\",\"Batman Arkham City\",\"Skyrim\",\"DC Universe Online\",\"Super Mario Galaxy 2\",\"Mass Effect 2\",\"God of War 3\",\"Assassin's Creed Brotherhood\",\"Halo Reach\",\"Civilization V\",\"Call of Duty Black Ops\",\"Pokemon White\",\"Fifa 11\",\"Bioshock 2\",\"Ys Seven\",\"F1 2010\",\"Dragon Quest IX\",\"Heavy Rain\",\"Need for Speed Hot Pursuit\",\"2010 FIFA World Cup South Africa\",\"Bayonetta\",\"Uncharted 2 Among Thieves\",\"Call of Duty Modern Warfare 2\",\"Pokemon SoulSilver\",\"Batman Arkham Asylum\",\"Dragon Age Origins\",\"Football Manager 2010\",\"Torchlight\",\"Halo 3 ODST\",\"New Super Mario Bros. Wii\",\"F1 2009\",\"Mario & Sonic at the Winter Olympic Games\",\"Super Smash Bros. Brawl\",\"Mario Kart Wii\",\"Football Manager 2009\",\"Wii Fit\",\"Grand Theft Auto IV\",\"Pokemon Mystery Dunegon Explorers of Time\",\"Animal Crossing City Folk\",\"Mario & Sonic at the Olympic Games\",\"Burnout Paradise\",\"Super Mario Galaxy\",\"Bioshock\",\"Mass Effect\",\"Call of Duty Modern Warfare\",\"Halo 3\",\"Football Manager 2008\",\"Uncharted Drake's Fortune\",\"Team Fortress 2\",\"God of War II\",\"Wii Sports\",\"Mario Strikers Charged Football\",\"Mario Party 8\",\"Football Manager 2007\",\"Pokemon Diamond\",\"Gears of War\",\"Lego Star Wars II: The Original Trilogy\",\"Grand Theft Auto Vice City Stories\",\"Fifa 07\",\"Brain Training\",\"Fifa Street 2\",\"Buzz! Junior Jungle Party\",\"God of War (2005)\",\"Mario Kart DS\",\"Psychonauts\",\"Lego Star Wars: The Video Game\",\"Nintendogs\",\"Fifa 06 Game Boy Advance\",\"Grand Theft Auto San Andreas\",\"Halo 2\",\"Mario & Luigi Superstar Saga\",\"Star Wars: Knights of the Old Republic\",\"The Simpsons Hit & Run\",\"Finding Nemo\",\"Metroid Prime\",\"Rollercoaster Tycoon 2\",\"Halo Combat Evolved\",\"Metroid Fusion\",\"Final Fantasy X\",\"Crash Bandicoot The Wrath of Cortex\",\"Diablo 2\",\"Gran Turismo 2\",\"Crash Team Racing\",\"Rollercoaster Tycoon\",\"The Legend of Zelda: Ocarina of Time\",\"Crash Bandicoot 3: Warped\",\"Banjo-Kazooie\",\"Crash Bandicoot 2: Cortex Strikes Back\",\"Castlevania Symphony of the Night\",\"Super Mario 64\",\"Crash Bandicoot\",\"Donkey Kong Country 2: Diddy Kong's Quest\",\"Super Metroid\",\"Donkey Kong Country\",\"The Legend of Zelda: A Link to the Past\",\"Super Mario World\",\"Tetris\"],\"legendgroup\":\"\",\"marker\":{\"color\":\"#636efa\",\"symbol\":\"circle\"},\"mode\":\"markers\",\"name\":\"\",\"orientation\":\"v\",\"showlegend\":false,\"x\":[96,89,90,88,88,96,82,84,84,92,85,86,88,88,76,86,80,79,75,82,77,80,78,82,78,84,71,68,96,94,88,87,87,89,86,84,89,83,84,84,84,80,84,87,80,80,90,77,89,72,77,84,69,75,79,76,72,77,86,75,84,70,82,74,82,82,70,65,42,87,92,89,88,88,82,85,82,86,80,88,88,87,84,85,74,75,70,83,80,80,71,73,81,73,79,76,62,79,80,73,78,94,93,85,88,92,90,85,84,88,90,80,87,82,84,85,79,81,80,85,75,90,75,80,79,76,76,69,80,68,72,89,67,68,85,87,87,88,85,86,80,86,86,77,85,83,90,82,80,86,83,87,79,76,83,75,73,74,82,80,85,86,75,72,84,94,97,90,91,87,92,93,89,89,86,84,81,84,85,83,89,85,81,79,80,83,82,81,78,75,86,85,67,78,77,92,75,64,83,64,97,97,89,90,84,85,93,94,86,78,81,85,75,79,84,85,72,84,88,89,81,62,79,70,93,91,87,88,87,82,85,91,91,80,89,84,81,85,77,85,83,81,79,87,84,80,81,82,76,73,76,81,78,70,81,68,57,56,63,92,92,85,85,86,87,85,84,76,89,63,81,80,87,92,73,76,73,75,65,64,57,88,71,89,91,83,86,77,80,70,85,84,83,83,79,76,75,79,80,73,61,72,85,82,80,78,81,74,71,79,73,69,95,97,94,90,83,93,87,87,85,84,85,93,86,85,85,83,71,79,73,70,75,86,70,59,38,93,90,88,89,92,80,87,86,83,81,90,92,88,89,76,68,70,78,78,75,71,95,92,91,93,79,85,89,93,80,83,84,90,84,80,94,94,72,97,96,92,90,91,90,88,87,88,88,79,84,87,87,88,82,90,96,94,87,92,91,87,83,83,87,69,72,93,82,83,80,98,60,73,67,88,97,96,91,94,94,86,88,92,93,76,79,62,87,85,94,84,86,82,77,59,70,94,91,87,78,83,49,95,95,90,94,78,63,97,74,97,92,92,66,88,93,88,78,99,91,92,89,93,96,80,90,96,93,95,94,90],\"xaxis\":\"x\",\"y\":[10.853495515172995,12.925007135394821,7.107573048710492,16.18201192115032,12.432827228226415,4.878023860118105,17.67175952027185,3.022839391153525,12.377672679935813,-2.641159273560447,9.247885870658479,4.354301644744169,0.9522273570663629,1.714193364120547,8.437420256457813,3.7671909305100826,3.3075151501329856,7.678831646526646,4.464096670334243,-0.8913003914611863,-0.442278681368407,-1.356580906015779,-0.3992156022774225,-2.460680171623949,-9.111603615025729,-21.525464789150533,-12.621181915151169,-11.273516064020555,9.005792441614062,3.6339851948361,0.7880828751430045,2.8431134846268833,10.110331916801329,1.10694561542266,4.537320477448475,9.079959652527123,1.599143071809408,5.994157232475004,3.4161923848332663,2.7787808130891563,2.7576171258682507,6.27482615520546,6.14470908907947,0.4865785533985445,7.477720292600338,10.088821426009417,-4.509215593466934,6.233444150163223,-4.622639079946794,7.0081121905130885,4.4930138822124945,-1.631433272803065,10.51970354989669,5.036661946977574,1.7759768800176516,4.401125280795895,8.509899220335342,1.9060247742253296,-8.35272360434692,3.7413253586144037,-14.158827116018983,-3.3618255098205054,-13.051399160032588,-5.016220963131104,-11.947231930280964,-16.023085044062896,-8.072585785503748,-3.8756546314056095,4.479698451189847,7.609827010313211,4.846234452931299,6.121473218223741,2.4143556836996822,6.347743458249965,11.257322431954776,11.582806341486844,4.51846096652082,1.0099001176602087,8.78026128317174,5.13872523099883,1.333776565072185,1.8774695565509774,3.3338608154787153,-4.011493460549332,6.768787604729255,7.081731339240605,10.750262877320893,-3.5404684145182728,-2.8938423728272937,-1.8766266089722876,1.209673999263714,4.530811365598083,-2.0555887063995897,-0.587516943980404,-9.48171051413965,-5.25696100467087,1.4123218935862951,-12.76006278204693,-23.494200986421333,-17.212101447152122,-35.23152248161068,8.854225629839561,4.891260437482515,7.325907747226097,6.923248018699724,2.311957437696833,4.048658831864941,4.336316096336532,6.465878619335058,4.748697836516158,-1.4313581692179014,8.505316436497537,-0.8276482463403454,0.16421598235467627,3.1763532513294876,-3.4457558278800207,4.403467564679545,-1.013995135592495,4.916571311226562,-4.050697627437103,6.479996680807744,-7.5009517202369125,4.414100554199422,-5.931769830618919,-0.6363269300030652,3.2409910368588726,1.9065368344346325,5.075616761764536,-5.228056155674835,4.622338885288968,-1.5710874278096298,-15.228230646948873,2.9944101403100376,-9.000871319552402,4.926286280489421,13.16094365290246,8.251506832463178,6.002534829430829,2.655947074319556,2.468465784900218,9.072474558974477,3.9544703533817938,-2.797146197662755,6.079805633884803,3.2766535711098186,1.7106575844765075,-2.693049686967015,1.4578961390735685,-2.391274331496561,-4.671787803744337,-2.597640151629207,-9.059642229448059,4.1170940938962985,1.4947439986608515,-5.552913178037784,2.373175293133613,0.6495777958999724,1.7541687014522722,-6.379171593447609,-18.26146804250618,-12.868166452718015,-15.395435841020458,-5.776424131942463,-7.945313659807198,-23.982595807249027,6.448719554015611,8.356304017498928,8.092588337263123,8.641905945464714,2.4093683432553235,2.132810594228431,0.9599349535840247,7.494125423049468,4.537784658168334,5.71365890769971,4.188233733284392,3.7478676986786468,0.6773464683050179,-3.064092736449311,2.3576790008129365,-6.785003542644972,0.928536784289804,-3.5990329384779898,4.578427414211433,5.440247392789729,-3.5371940962708095,-3.8868463690108683,-3.251722401405118,-1.464836231056438,4.470748682541739,-9.825448836913097,-11.836686288116994,4.776224763818959,-7.943041198979927,-3.0985689469241606,-18.743476977948262,-7.1980874952381555,-5.30609139168962,-22.510234171925276,-5.660264479859052,3.6718429187973243,3.1455597934565276,3.33799180563949,9.11972962131938,4.401270522238633,9.2394961610795,3.7505319966534216,1.4054585518299518,2.831557889193732,11.32546505058042,7.735549556170781,1.5592937974194,5.08001300751539,3.739738602461216,-1.445930771718622,-0.908699534991797,3.934279895428972,-5.215193508355128,-8.338442526185418,-15.73556294735215,-4.349598960177104,7.762556930799519,-12.429421733682261,-30.50333077633468,-6.658455192364158,4.537589114917182,7.667551408439408,2.7704406002571886,-0.8993055515413744,4.5895477338150386,7.782685298449792,-2.3476539495799216,-4.7364835008162345,4.130070751090784,0.6748594759659454,0.2535593812934849,4.601310470850308,-6.03203106061801,5.124156228975153,5.619548290666216,-1.38017154194074,-5.059904404425879,2.168836861333716,-7.9177971199031845,-0.79426221615131,1.2745097370476515,-3.9292130711560276,-8.736776541030395,0.15603341577195806,3.8494901413279194,-4.226424390256284,-7.908616245048279,-3.6810528949669106,5.862659805081535,-8.341612845385043,1.72497087689635,2.1644880426334794,2.9720864812076115,-8.152449628717363,3.087351719756043,3.4341414177671368,7.67104276687985,3.473537645184365,5.604580804148441,3.0386572154171745,1.6877421046602876,5.992759955271481,1.5451358210435728,-6.479349022729366,15.260183591762143,-2.289521553306372,-2.480374032027953,-3.557737364913578,-12.273505825057669,2.089255188347238,-2.2604042813871956,3.426582158952442,-3.1246860098505067,-2.4040200960210996,0.22354519208806778,2.5073302556301087,3.5478622985516495,24.50244762494674,2.8914697157447335,4.9051453096466275,7.520134903397093,3.5993265393459524,7.888814364955238,3.2914225754913105,6.476149742471648,-4.643719227638144,2.5924011494536217,-1.5181298280423334,-2.459769654773254,2.336854462601309,6.988489870515195,3.575759560301549,5.347003889613347,-1.4986455945556827,0.4251992123218997,13.500001129530006,2.295428232848053,-7.289360920599847,-4.62512172140066,-3.106074700573231,-7.253040488084821,-12.387664193061482,-3.4049561510734065,-5.704594026116524,-21.234247296942385,-11.640627949183,-8.068990526319453,-1.8195909299240611,-0.5386721148144034,3.545020378737945,5.594959020896681,6.994127369114494,-4.6436240417050385,4.309943845905877,-0.8173251221285227,-1.8935901116262812,3.872215589586631,1.5682763327156408,-6.123442455631334,-4.835556446982423,-2.4013665488637344,-3.6493363530966008,-2.356054134745932,9.27595450016645,0.3626669515292633,-0.08582871078328935,2.287720631210391,-2.2987368473005745,-9.775302815338023,-10.674354485410618,-6.4875769872115825,5.118054515618269,3.0132371274251,7.261288723374832,2.5876805244872685,3.7690559437988895,6.381609919900825,6.471943028014607,2.002640735632326,-2.2502191789741346,-2.660594021941506,-1.0426458383174122,-5.747974802865997,-6.265253205983754,-4.950725035714299,-3.973914676225604,0.24112110070836934,5.045413462973443,1.2820329180782437,-9.42529845492993,-8.179459073400153,-2.764951515559119,-1.3701488845786116,5.7981723920148625,-4.405959856853656,6.747783200478011,-4.279430190508265,9.675717339428388,2.605013465381603,-2.1909011358334283,-4.805149701516598,2.4345508965163845,1.3280929243913988,0.3233983501035027,-3.555141016580933,-1.5304512305900744,-10.559244860381796,-12.434096950144635,-12.883145381081931,-9.99307064389427,2.4621723062771252,1.6535352470301632,1.7703812548303404,1.4362752016149898,4.636084443995287,-0.8964597418220137,-0.41917645277590054,1.4584189422722602,-0.5913638375465098,-0.24824513678879612,6.723130917192975,-0.995055597749797,-2.5402802048171225,-2.4717767956548187,-3.8560831098186554,-4.409654449930827,-11.74762392869468,-3.5824663222932713,0.09436661625466058,4.628677260280597,3.379685494752607,-2.7882690811043176,0.2865957634859342,-2.2766689362657644,-3.0231570091858657,-12.797896149867142,2.0436436026135425,-2.0006226559814877,-0.5785980956746926,7.950459413729959,5.044585608107241,-0.9101123202372037,-17.748479461962233,10.751999277399932,-5.563336808754798,0.26279263751587223,-19.360890846692996,2.0180981968557035,-0.03434402610525922,2.795536433564962,1.183418341862989,0.6508103042450557,3.6687988158980716,-4.731947773383013,-3.1021613101233925,-9.172753499695773,4.677395429673993,-0.42995522809872,-4.831597517548289,7.331233919926149,0.22282504709653495,0.8179838572966673,3.9992597199906186,0.40878457087399056,-1.077211280381448,-0.5973673134154751,6.873628260485816,-2.8588385814889534,4.178086820954945,1.8480722704832715,9.408521234087402,7.795471460849399,-4.906415904581081,-3.23269277854979,1.4410617473588445,-1.7897992850182618,0.08975368104586323,-7.183457319852664,2.1476391071191756,-2.6387628228848143,7.426472827931548,11.138250513725097,1.7776451829219013,0.38533378874319624,3.947576518267283,-0.9627080523464429,-13.792420124817454,-3.00933716114821,8.284429876590366,-0.8484041857558395,4.468573483202704,4.9300326538159425,0.10306730375134521,8.810053451228214,-3.661961627695405,5.369815192002534,1.8378840470821842,4.54978297983746,0.14743876612590157,-1.3147160782334595,0.5503449676783703,4.432315816472851,13.4477248707841],\"yaxis\":\"y\",\"type\":\"scatter\"},{\"line\":{\"dash\":\"dash\"},\"x\":[96,89,90,88,88,96,82,84,84,92,85,86,88,88,76,86,80,79,75,82,77,80,78,82,78,84,71,68,96,94,88,87,87,89,86,84,89,83,84,84,84,80,84,87,80,80,90,77,89,72,77,84,69,75,79,76,72,77,86,75,84,70,82,74,82,82,70,65,42,87,92,89,88,88,82,85,82,86,80,88,88,87,84,85,74,75,70,83,80,80,71,73,81,73,79,76,62,79,80,73,78,94,93,85,88,92,90,85,84,88,90,80,87,82,84,85,79,81,80,85,75,90,75,80,79,76,76,69,80,68,72,89,67,68,85,87,87,88,85,86,80,86,86,77,85,83,90,82,80,86,83,87,79,76,83,75,73,74,82,80,85,86,75,72,84,94,97,90,91,87,92,93,89,89,86,84,81,84,85,83,89,85,81,79,80,83,82,81,78,75,86,85,67,78,77,92,75,64,83,64,97,97,89,90,84,85,93,94,86,78,81,85,75,79,84,85,72,84,88,89,81,62,79,70,93,91,87,88,87,82,85,91,91,80,89,84,81,85,77,85,83,81,79,87,84,80,81,82,76,73,76,81,78,70,81,68,57,56,63,92,92,85,85,86,87,85,84,76,89,63,81,80,87,92,73,76,73,75,65,64,57,88,71,89,91,83,86,77,80,70,85,84,83,83,79,76,75,79,80,73,61,72,85,82,80,78,81,74,71,79,73,69,95,97,94,90,83,93,87,87,85,84,85,93,86,85,85,83,71,79,73,70,75,86,70,59,38,93,90,88,89,92,80,87,86,83,81,90,92,88,89,76,68,70,78,78,75,71,95,92,91,93,79,85,89,93,80,83,84,90,84,80,94,94,72,97,96,92,90,91,90,88,87,88,88,79,84,87,87,88,82,90,96,94,87,92,91,87,83,83,87,69,72,93,82,83,80,98,60,73,67,88,97,96,91,94,94,86,88,92,93,76,79,62,87,85,94,84,86,82,77,59,70,94,91,87,78,83,49,95,95,90,94,78,63,97,74,97,92,92,66,88,93,88,78,99,91,92,89,93,96,80,90,96,93,95,94,90],\"y\":[0.18059851701908264,0.16587906753030285,0.16798184602869998,0.16377628903190578,0.16377628903190578,0.18059851701908264,0.1511596180415231,0.15536517503831732,0.15536517503831732,0.17218740302549418,0.15746795353671444,0.15957073203511157,0.16377628903190578,0.16377628903190578,0.13854294705114045,0.15957073203511157,0.1469540610447289,0.14485128254633178,0.13644016855274332,0.1511596180415231,0.14064572554953758,0.1469540610447289,0.14274850404793465,0.1511596180415231,0.14274850404793465,0.15536517503831732,0.12802905455915492,0.12172071906396358,0.18059851701908264,0.17639296002228844,0.16377628903190578,0.16167351053350865,0.16167351053350865,0.16587906753030285,0.15957073203511157,0.15536517503831732,0.16587906753030285,0.15326239653992024,0.15536517503831732,0.15536517503831732,0.15536517503831732,0.1469540610447289,0.15536517503831732,0.16167351053350865,0.1469540610447289,0.1469540610447289,0.16798184602869998,0.14064572554953758,0.16587906753030285,0.130131833057552,0.14064572554953758,0.15536517503831732,0.12382349756236068,0.13644016855274332,0.14485128254633178,0.13854294705114045,0.130131833057552,0.14064572554953758,0.15957073203511157,0.13644016855274332,0.15536517503831732,0.1259262760607578,0.1511596180415231,0.13433739005434625,0.1511596180415231,0.1511596180415231,0.1259262760607578,0.11541238356877224,0.06704847810563874,0.16167351053350865,0.17218740302549418,0.16587906753030285,0.16377628903190578,0.16377628903190578,0.1511596180415231,0.15746795353671444,0.1511596180415231,0.15957073203511157,0.1469540610447289,0.16377628903190578,0.16377628903190578,0.16167351053350865,0.15536517503831732,0.15746795353671444,0.13433739005434625,0.13644016855274332,0.1259262760607578,0.15326239653992024,0.1469540610447289,0.1469540610447289,0.12802905455915492,0.13223461155594912,0.14905683954312599,0.13223461155594912,0.14485128254633178,0.13854294705114045,0.10910404807358091,0.14485128254633178,0.1469540610447289,0.13223461155594912,0.14274850404793465,0.17639296002228844,0.1742901815238913,0.15746795353671444,0.16377628903190578,0.17218740302549418,0.16798184602869998,0.15746795353671444,0.15536517503831732,0.16377628903190578,0.16798184602869998,0.1469540610447289,0.16167351053350865,0.1511596180415231,0.15536517503831732,0.15746795353671444,0.14485128254633178,0.14905683954312599,0.1469540610447289,0.15746795353671444,0.13644016855274332,0.16798184602869998,0.13644016855274332,0.1469540610447289,0.14485128254633178,0.13854294705114045,0.13854294705114045,0.12382349756236068,0.1469540610447289,0.12172071906396358,0.130131833057552,0.16587906753030285,0.11961794056556647,0.12172071906396358,0.15746795353671444,0.16167351053350865,0.16167351053350865,0.16377628903190578,0.15746795353671444,0.15957073203511157,0.1469540610447289,0.15957073203511157,0.15957073203511157,0.14064572554953758,0.15746795353671444,0.15326239653992024,0.16798184602869998,0.1511596180415231,0.1469540610447289,0.15957073203511157,0.15326239653992024,0.16167351053350865,0.14485128254633178,0.13854294705114045,0.15326239653992024,0.13644016855274332,0.13223461155594912,0.13433739005434625,0.1511596180415231,0.1469540610447289,0.15746795353671444,0.15957073203511157,0.13644016855274332,0.130131833057552,0.15536517503831732,0.17639296002228844,0.18270129551747977,0.16798184602869998,0.1700846245270971,0.16167351053350865,0.17218740302549418,0.1742901815238913,0.16587906753030285,0.16587906753030285,0.15957073203511157,0.15536517503831732,0.14905683954312599,0.15536517503831732,0.15746795353671444,0.15326239653992024,0.16587906753030285,0.15746795353671444,0.14905683954312599,0.14485128254633178,0.1469540610447289,0.15326239653992024,0.1511596180415231,0.14905683954312599,0.14274850404793465,0.13644016855274332,0.15957073203511157,0.15746795353671444,0.11961794056556647,0.14274850404793465,0.14064572554953758,0.17218740302549418,0.13644016855274332,0.11330960507037514,0.15326239653992024,0.11330960507037514,0.18270129551747977,0.18270129551747977,0.16587906753030285,0.16798184602869998,0.15536517503831732,0.15746795353671444,0.1742901815238913,0.17639296002228844,0.15957073203511157,0.14274850404793465,0.14905683954312599,0.15746795353671444,0.13644016855274332,0.14485128254633178,0.15536517503831732,0.15746795353671444,0.130131833057552,0.15536517503831732,0.16377628903190578,0.16587906753030285,0.14905683954312599,0.10910404807358091,0.14485128254633178,0.1259262760607578,0.1742901815238913,0.1700846245270971,0.16167351053350865,0.16377628903190578,0.16167351053350865,0.1511596180415231,0.15746795353671444,0.1700846245270971,0.1700846245270971,0.1469540610447289,0.16587906753030285,0.15536517503831732,0.14905683954312599,0.15746795353671444,0.14064572554953758,0.15746795353671444,0.15326239653992024,0.14905683954312599,0.14485128254633178,0.16167351053350865,0.15536517503831732,0.1469540610447289,0.14905683954312599,0.1511596180415231,0.13854294705114045,0.13223461155594912,0.13854294705114045,0.14905683954312599,0.14274850404793465,0.1259262760607578,0.14905683954312599,0.12172071906396358,0.09859015558159538,0.09648737708319827,0.11120682657197804,0.17218740302549418,0.17218740302549418,0.15746795353671444,0.15746795353671444,0.15957073203511157,0.16167351053350865,0.15746795353671444,0.15536517503831732,0.13854294705114045,0.16587906753030285,0.11120682657197804,0.14905683954312599,0.1469540610447289,0.16167351053350865,0.17218740302549418,0.13223461155594912,0.13854294705114045,0.13223461155594912,0.13644016855274332,0.11541238356877224,0.11330960507037514,0.09859015558159538,0.16377628903190578,0.12802905455915492,0.16587906753030285,0.1700846245270971,0.15326239653992024,0.15957073203511157,0.14064572554953758,0.1469540610447289,0.1259262760607578,0.15746795353671444,0.15536517503831732,0.15326239653992024,0.15326239653992024,0.14485128254633178,0.13854294705114045,0.13644016855274332,0.14485128254633178,0.1469540610447289,0.13223461155594912,0.10700126957518381,0.130131833057552,0.15746795353671444,0.1511596180415231,0.1469540610447289,0.14274850404793465,0.14905683954312599,0.13433739005434625,0.12802905455915492,0.14485128254633178,0.13223461155594912,0.12382349756236068,0.1784957385206855,0.18270129551747977,0.17639296002228844,0.16798184602869998,0.15326239653992024,0.1742901815238913,0.16167351053350865,0.16167351053350865,0.15746795353671444,0.15536517503831732,0.15746795353671444,0.1742901815238913,0.15957073203511157,0.15746795353671444,0.15746795353671444,0.15326239653992024,0.12802905455915492,0.14485128254633178,0.13223461155594912,0.1259262760607578,0.13644016855274332,0.15957073203511157,0.1259262760607578,0.1027957125783896,0.05863736411205031,0.1742901815238913,0.16798184602869998,0.16377628903190578,0.16587906753030285,0.17218740302549418,0.1469540610447289,0.16167351053350865,0.15957073203511157,0.15326239653992024,0.14905683954312599,0.16798184602869998,0.17218740302549418,0.16377628903190578,0.16587906753030285,0.13854294705114045,0.12172071906396358,0.1259262760607578,0.14274850404793465,0.14274850404793465,0.13644016855274332,0.12802905455915492,0.1784957385206855,0.17218740302549418,0.1700846245270971,0.1742901815238913,0.14485128254633178,0.15746795353671444,0.16587906753030285,0.1742901815238913,0.1469540610447289,0.15326239653992024,0.15536517503831732,0.16798184602869998,0.15536517503831732,0.1469540610447289,0.17639296002228844,0.17639296002228844,0.130131833057552,0.18270129551747977,0.18059851701908264,0.17218740302549418,0.16798184602869998,0.1700846245270971,0.16798184602869998,0.16377628903190578,0.16167351053350865,0.16377628903190578,0.16377628903190578,0.14485128254633178,0.15536517503831732,0.16167351053350865,0.16167351053350865,0.16377628903190578,0.1511596180415231,0.16798184602869998,0.18059851701908264,0.17639296002228844,0.16167351053350865,0.17218740302549418,0.1700846245270971,0.16167351053350865,0.15326239653992024,0.15326239653992024,0.16167351053350865,0.12382349756236068,0.130131833057552,0.1742901815238913,0.1511596180415231,0.15326239653992024,0.1469540610447289,0.18480407401587684,0.10489849107678671,0.13223461155594912,0.11961794056556647,0.16377628903190578,0.18270129551747977,0.18059851701908264,0.1700846245270971,0.17639296002228844,0.17639296002228844,0.15957073203511157,0.16377628903190578,0.17218740302549418,0.1742901815238913,0.13854294705114045,0.14485128254633178,0.10910404807358091,0.16167351053350865,0.15746795353671444,0.17639296002228844,0.15536517503831732,0.15957073203511157,0.1511596180415231,0.14064572554953758,0.1027957125783896,0.1259262760607578,0.17639296002228844,0.1700846245270971,0.16167351053350865,0.14274850404793465,0.15326239653992024,0.0817679275944185,0.1784957385206855,0.1784957385206855,0.16798184602869998,0.17639296002228844,0.14274850404793465,0.11120682657197804,0.18270129551747977,0.13433739005434625,0.18270129551747977,0.17218740302549418,0.17218740302549418,0.11751516206716937,0.16377628903190578,0.1742901815238913,0.16377628903190578,0.14274850404793465,0.18690685251427397,0.1700846245270971,0.17218740302549418,0.16587906753030285,0.1742901815238913,0.18059851701908264,0.1469540610447289,0.16798184602869998,0.18059851701908264,0.1742901815238913,0.1784957385206855,0.17639296002228844,0.16798184602869998],\"type\":\"scatter\"}],                        {\"template\":{\"data\":{\"histogram2dcontour\":[{\"type\":\"histogram2dcontour\",\"colorbar\":{\"outlinewidth\":0,\"ticks\":\"\"},\"colorscale\":[[0.0,\"#0d0887\"],[0.1111111111111111,\"#46039f\"],[0.2222222222222222,\"#7201a8\"],[0.3333333333333333,\"#9c179e\"],[0.4444444444444444,\"#bd3786\"],[0.5555555555555556,\"#d8576b\"],[0.6666666666666666,\"#ed7953\"],[0.7777777777777778,\"#fb9f3a\"],[0.8888888888888888,\"#fdca26\"],[1.0,\"#f0f921\"]]}],\"choropleth\":[{\"type\":\"choropleth\",\"colorbar\":{\"outlinewidth\":0,\"ticks\":\"\"}}],\"histogram2d\":[{\"type\":\"histogram2d\",\"colorbar\":{\"outlinewidth\":0,\"ticks\":\"\"},\"colorscale\":[[0.0,\"#0d0887\"],[0.1111111111111111,\"#46039f\"],[0.2222222222222222,\"#7201a8\"],[0.3333333333333333,\"#9c179e\"],[0.4444444444444444,\"#bd3786\"],[0.5555555555555556,\"#d8576b\"],[0.6666666666666666,\"#ed7953\"],[0.7777777777777778,\"#fb9f3a\"],[0.8888888888888888,\"#fdca26\"],[1.0,\"#f0f921\"]]}],\"heatmap\":[{\"type\":\"heatmap\",\"colorbar\":{\"outlinewidth\":0,\"ticks\":\"\"},\"colorscale\":[[0.0,\"#0d0887\"],[0.1111111111111111,\"#46039f\"],[0.2222222222222222,\"#7201a8\"],[0.3333333333333333,\"#9c179e\"],[0.4444444444444444,\"#bd3786\"],[0.5555555555555556,\"#d8576b\"],[0.6666666666666666,\"#ed7953\"],[0.7777777777777778,\"#fb9f3a\"],[0.8888888888888888,\"#fdca26\"],[1.0,\"#f0f921\"]]}],\"heatmapgl\":[{\"type\":\"heatmapgl\",\"colorbar\":{\"outlinewidth\":0,\"ticks\":\"\"},\"colorscale\":[[0.0,\"#0d0887\"],[0.1111111111111111,\"#46039f\"],[0.2222222222222222,\"#7201a8\"],[0.3333333333333333,\"#9c179e\"],[0.4444444444444444,\"#bd3786\"],[0.5555555555555556,\"#d8576b\"],[0.6666666666666666,\"#ed7953\"],[0.7777777777777778,\"#fb9f3a\"],[0.8888888888888888,\"#fdca26\"],[1.0,\"#f0f921\"]]}],\"contourcarpet\":[{\"type\":\"contourcarpet\",\"colorbar\":{\"outlinewidth\":0,\"ticks\":\"\"}}],\"contour\":[{\"type\":\"contour\",\"colorbar\":{\"outlinewidth\":0,\"ticks\":\"\"},\"colorscale\":[[0.0,\"#0d0887\"],[0.1111111111111111,\"#46039f\"],[0.2222222222222222,\"#7201a8\"],[0.3333333333333333,\"#9c179e\"],[0.4444444444444444,\"#bd3786\"],[0.5555555555555556,\"#d8576b\"],[0.6666666666666666,\"#ed7953\"],[0.7777777777777778,\"#fb9f3a\"],[0.8888888888888888,\"#fdca26\"],[1.0,\"#f0f921\"]]}],\"surface\":[{\"type\":\"surface\",\"colorbar\":{\"outlinewidth\":0,\"ticks\":\"\"},\"colorscale\":[[0.0,\"#0d0887\"],[0.1111111111111111,\"#46039f\"],[0.2222222222222222,\"#7201a8\"],[0.3333333333333333,\"#9c179e\"],[0.4444444444444444,\"#bd3786\"],[0.5555555555555556,\"#d8576b\"],[0.6666666666666666,\"#ed7953\"],[0.7777777777777778,\"#fb9f3a\"],[0.8888888888888888,\"#fdca26\"],[1.0,\"#f0f921\"]]}],\"mesh3d\":[{\"type\":\"mesh3d\",\"colorbar\":{\"outlinewidth\":0,\"ticks\":\"\"}}],\"scatter\":[{\"fillpattern\":{\"fillmode\":\"overlay\",\"size\":10,\"solidity\":0.2},\"type\":\"scatter\"}],\"parcoords\":[{\"type\":\"parcoords\",\"line\":{\"colorbar\":{\"outlinewidth\":0,\"ticks\":\"\"}}}],\"scatterpolargl\":[{\"type\":\"scatterpolargl\",\"marker\":{\"colorbar\":{\"outlinewidth\":0,\"ticks\":\"\"}}}],\"bar\":[{\"error_x\":{\"color\":\"#2a3f5f\"},\"error_y\":{\"color\":\"#2a3f5f\"},\"marker\":{\"line\":{\"color\":\"#E5ECF6\",\"width\":0.5},\"pattern\":{\"fillmode\":\"overlay\",\"size\":10,\"solidity\":0.2}},\"type\":\"bar\"}],\"scattergeo\":[{\"type\":\"scattergeo\",\"marker\":{\"colorbar\":{\"outlinewidth\":0,\"ticks\":\"\"}}}],\"scatterpolar\":[{\"type\":\"scatterpolar\",\"marker\":{\"colorbar\":{\"outlinewidth\":0,\"ticks\":\"\"}}}],\"histogram\":[{\"marker\":{\"pattern\":{\"fillmode\":\"overlay\",\"size\":10,\"solidity\":0.2}},\"type\":\"histogram\"}],\"scattergl\":[{\"type\":\"scattergl\",\"marker\":{\"colorbar\":{\"outlinewidth\":0,\"ticks\":\"\"}}}],\"scatter3d\":[{\"type\":\"scatter3d\",\"line\":{\"colorbar\":{\"outlinewidth\":0,\"ticks\":\"\"}},\"marker\":{\"colorbar\":{\"outlinewidth\":0,\"ticks\":\"\"}}}],\"scattermapbox\":[{\"type\":\"scattermapbox\",\"marker\":{\"colorbar\":{\"outlinewidth\":0,\"ticks\":\"\"}}}],\"scatterternary\":[{\"type\":\"scatterternary\",\"marker\":{\"colorbar\":{\"outlinewidth\":0,\"ticks\":\"\"}}}],\"scattercarpet\":[{\"type\":\"scattercarpet\",\"marker\":{\"colorbar\":{\"outlinewidth\":0,\"ticks\":\"\"}}}],\"carpet\":[{\"aaxis\":{\"endlinecolor\":\"#2a3f5f\",\"gridcolor\":\"white\",\"linecolor\":\"white\",\"minorgridcolor\":\"white\",\"startlinecolor\":\"#2a3f5f\"},\"baxis\":{\"endlinecolor\":\"#2a3f5f\",\"gridcolor\":\"white\",\"linecolor\":\"white\",\"minorgridcolor\":\"white\",\"startlinecolor\":\"#2a3f5f\"},\"type\":\"carpet\"}],\"table\":[{\"cells\":{\"fill\":{\"color\":\"#EBF0F8\"},\"line\":{\"color\":\"white\"}},\"header\":{\"fill\":{\"color\":\"#C8D4E3\"},\"line\":{\"color\":\"white\"}},\"type\":\"table\"}],\"barpolar\":[{\"marker\":{\"line\":{\"color\":\"#E5ECF6\",\"width\":0.5},\"pattern\":{\"fillmode\":\"overlay\",\"size\":10,\"solidity\":0.2}},\"type\":\"barpolar\"}],\"pie\":[{\"automargin\":true,\"type\":\"pie\"}]},\"layout\":{\"autotypenumbers\":\"strict\",\"colorway\":[\"#636efa\",\"#EF553B\",\"#00cc96\",\"#ab63fa\",\"#FFA15A\",\"#19d3f3\",\"#FF6692\",\"#B6E880\",\"#FF97FF\",\"#FECB52\"],\"font\":{\"color\":\"#2a3f5f\"},\"hovermode\":\"closest\",\"hoverlabel\":{\"align\":\"left\"},\"paper_bgcolor\":\"white\",\"plot_bgcolor\":\"#E5ECF6\",\"polar\":{\"bgcolor\":\"#E5ECF6\",\"angularaxis\":{\"gridcolor\":\"white\",\"linecolor\":\"white\",\"ticks\":\"\"},\"radialaxis\":{\"gridcolor\":\"white\",\"linecolor\":\"white\",\"ticks\":\"\"}},\"ternary\":{\"bgcolor\":\"#E5ECF6\",\"aaxis\":{\"gridcolor\":\"white\",\"linecolor\":\"white\",\"ticks\":\"\"},\"baxis\":{\"gridcolor\":\"white\",\"linecolor\":\"white\",\"ticks\":\"\"},\"caxis\":{\"gridcolor\":\"white\",\"linecolor\":\"white\",\"ticks\":\"\"}},\"coloraxis\":{\"colorbar\":{\"outlinewidth\":0,\"ticks\":\"\"}},\"colorscale\":{\"sequential\":[[0.0,\"#0d0887\"],[0.1111111111111111,\"#46039f\"],[0.2222222222222222,\"#7201a8\"],[0.3333333333333333,\"#9c179e\"],[0.4444444444444444,\"#bd3786\"],[0.5555555555555556,\"#d8576b\"],[0.6666666666666666,\"#ed7953\"],[0.7777777777777778,\"#fb9f3a\"],[0.8888888888888888,\"#fdca26\"],[1.0,\"#f0f921\"]],\"sequentialminus\":[[0.0,\"#0d0887\"],[0.1111111111111111,\"#46039f\"],[0.2222222222222222,\"#7201a8\"],[0.3333333333333333,\"#9c179e\"],[0.4444444444444444,\"#bd3786\"],[0.5555555555555556,\"#d8576b\"],[0.6666666666666666,\"#ed7953\"],[0.7777777777777778,\"#fb9f3a\"],[0.8888888888888888,\"#fdca26\"],[1.0,\"#f0f921\"]],\"diverging\":[[0,\"#8e0152\"],[0.1,\"#c51b7d\"],[0.2,\"#de77ae\"],[0.3,\"#f1b6da\"],[0.4,\"#fde0ef\"],[0.5,\"#f7f7f7\"],[0.6,\"#e6f5d0\"],[0.7,\"#b8e186\"],[0.8,\"#7fbc41\"],[0.9,\"#4d9221\"],[1,\"#276419\"]]},\"xaxis\":{\"gridcolor\":\"white\",\"linecolor\":\"white\",\"ticks\":\"\",\"title\":{\"standoff\":15},\"zerolinecolor\":\"white\",\"automargin\":true,\"zerolinewidth\":2},\"yaxis\":{\"gridcolor\":\"white\",\"linecolor\":\"white\",\"ticks\":\"\",\"title\":{\"standoff\":15},\"zerolinecolor\":\"white\",\"automargin\":true,\"zerolinewidth\":2},\"scene\":{\"xaxis\":{\"backgroundcolor\":\"#E5ECF6\",\"gridcolor\":\"white\",\"linecolor\":\"white\",\"showbackground\":true,\"ticks\":\"\",\"zerolinecolor\":\"white\",\"gridwidth\":2},\"yaxis\":{\"backgroundcolor\":\"#E5ECF6\",\"gridcolor\":\"white\",\"linecolor\":\"white\",\"showbackground\":true,\"ticks\":\"\",\"zerolinecolor\":\"white\",\"gridwidth\":2},\"zaxis\":{\"backgroundcolor\":\"#E5ECF6\",\"gridcolor\":\"white\",\"linecolor\":\"white\",\"showbackground\":true,\"ticks\":\"\",\"zerolinecolor\":\"white\",\"gridwidth\":2}},\"shapedefaults\":{\"line\":{\"color\":\"#2a3f5f\"}},\"annotationdefaults\":{\"arrowcolor\":\"#2a3f5f\",\"arrowhead\":0,\"arrowwidth\":1},\"geo\":{\"bgcolor\":\"white\",\"landcolor\":\"#E5ECF6\",\"subunitcolor\":\"white\",\"showland\":true,\"showlakes\":true,\"lakecolor\":\"white\"},\"title\":{\"x\":0.05},\"mapbox\":{\"style\":\"light\"}}},\"xaxis\":{\"anchor\":\"y\",\"domain\":[0.0,1.0],\"title\":{\"text\":\"Review avg\"}},\"yaxis\":{\"anchor\":\"x\",\"domain\":[0.0,1.0],\"title\":{\"text\":\"Prediction delta rvw\"}},\"legend\":{\"tracegroupgap\":0},\"margin\":{\"t\":60}},                        {\"responsive\": true}                    ).then(function(){\n",
       "                            \n",
       "var gd = document.getElementById('1028b830-a513-4baf-a99f-fddce3ad5010');\n",
       "var x = new MutationObserver(function (mutations, observer) {{\n",
       "        var display = window.getComputedStyle(gd).display;\n",
       "        if (!display || display === 'none') {{\n",
       "            console.log([gd, 'removed!']);\n",
       "            Plotly.purge(gd);\n",
       "            observer.disconnect();\n",
       "        }}\n",
       "}});\n",
       "\n",
       "// Listen for the removal of the full notebook cells\n",
       "var notebookContainer = gd.closest('#notebook-container');\n",
       "if (notebookContainer) {{\n",
       "    x.observe(notebookContainer, {childList: true});\n",
       "}}\n",
       "\n",
       "// Listen for the clearing of the current output cell\n",
       "var outputEl = gd.closest('.output');\n",
       "if (outputEl) {{\n",
       "    x.observe(outputEl, {childList: true});\n",
       "}}\n",
       "\n",
       "                        })                };                });            </script>        </div>"
      ]
     },
     "metadata": {},
     "output_type": "display_data"
    }
   ],
   "source": [
    "# scatter plot of spread of predictions by review rating\n",
    "scores_comp['Prediction delta rvw'] = scores_comp['Actual Rating'] - scores_comp['Predicted Rating']\n",
    "fig = px.scatter(scores_comp, x=\"Review avg\", y=\"Prediction delta rvw\", hover_name= 'Game')\n",
    "#find line of best fit\n",
    "lobf1 = np.polyfit(scores_comp[\"Review avg\"], scores_comp[\"Prediction delta rvw\"], 1)\n",
    "best_fit_points1 = (np.poly1d(lobf1)(scores_comp[\"Review avg\"]))\n",
    "#plot line of best fit\n",
    "fig.add_trace(go.Scatter(x=scores_comp[\"Review avg\"], y=best_fit_points1, line = dict(dash = 'dash')))"
   ]
  },
  {
   "cell_type": "code",
   "execution_count": 82,
   "metadata": {
    "scrolled": true
   },
   "outputs": [
    {
     "name": "stdout",
     "output_type": "stream",
     "text": [
      "gradient =  0.002102778498397109 , y-intercept =  -0.021268218827039845\n"
     ]
    }
   ],
   "source": [
    "print(\"gradient = \", lobf1[0], \", y-intercept = \", lobf1[1])\n",
    "# No bias of prediction error with review score"
   ]
  },
  {
   "cell_type": "code",
   "execution_count": 83,
   "metadata": {},
   "outputs": [
    {
     "name": "stdout",
     "output_type": "stream",
     "text": [
      "(('Reviewscore', 1.019110948118653), ('Launch Year', 0.07069003074139465), ('Play Year', -0.20743542049769237), ('DLC/ Major update played', 4.2518179611373945), ('Remaster Reviewscore', 0.02147749171610644), ('INTERACTIVE-STORY', -0.0342594420829347), ('LINEAR', 1.3465107657719506), ('COMPILATION', 0.17104290387143292), ('RACING (ARCADE)', -0.3224781953562501), ('STRATEGY (RTS)', -0.10799943632545606), ('SPORTS (FOOTBALL)', -0.212180656191922), ('OPEN-WORLD', -0.6654073742748533), ('RPG', -0.42142306230635207), ('TOP-DOWN', 0.39541326836364676), ('MONSTER COLLECTING', 0.9129206625453055), ('COLLECTATHON', 0.3397264947478086), ('SOULSLIKE', 1.258263751079561), ('EDUCATIONAL', -3.163954136304256e-14), ('STRATEGY (REAL-TIME)', 0.3351822828457781), ('SUPERHERO', -0.12708495449369495), ('RACING (SIMCADE)', 0.3267481136693211), ('BRAWLER', 0.21080089577640926), ('SPORTS (GOLF)', 0.4793030600958485), ('VR', -1.2897331517539832), ('ADVENTURE', -0.8663245876728121), ('STORY-DRIVEN', 2.8330559389011745), ('THIRD-PERSON', -0.1005101618716997), ('RACING (KART)', 0.6089596174886518), ('SPORTS', 0.6082766466793014), ('SHOOTER', 0.7753324697062685), (\"SHOOT 'EM UP\", -4.94301740056207e-15), ('PLATFORMER', 1.5600572237717087), ('MULTIPLAYER (ARENA)', -0.11979915920872947), ('SOUSLIKE', -8.738687440571652e-15), ('MULTIPLAYER (MOBA)', 1.3355886771236416e-14), ('ACTION', 0.004845079888846582), ('RHYTHM', 0.4312852208170579), ('MULTIPLAYER', 0.32184066496185637), ('ROGUELIKE', -0.011076197466271975), ('MULTIPLAYER (CO-OP)', -0.3499754077589611), ('SIMULATION (FARMING)', -0.28690892887293873), ('THIRD PERSON', -3.403669554927188e-16), ('BULLET-HELL', 0.10340646195201059), ('COVER-SHOOTER', 0.9531495203412506), ('ISOMETRIC', 0.27410102070110487), ('FIRST-PERSON', 0.4507303247629783), ('PUZZLES', 0.004883665089460476), ('ACTION-RPG', -0.5058374704047712), ('MMO', 0.4178855214839406), ('FITNESS', 0.04607119864843062), ('PUZZLE', 0.667436639718844), ('STRATEGY (TURN-BASED)', -0.34502646555731575), ('STRATEGY (TOWER-DEFENSE)', 0.3077188628507506), ('HORROR', 0.5000910456357968), ('MULTPLAYER', 0.3729223413822522), ('PARTY', -0.9843250174813045), ('SURVIVAL', -1.6058295462941738), ('SANDOX', 6.245224129233677e-15), ('BASE-BUILDING', -0.10799943632550724), ('LOOTER', -0.807287804417067), ('MULTIPLAYER (ONLINE)', -0.13229178494119642), ('IMMERSIVE-SIM', 0.03112758676410643), ('FPS', 1.568056625394663e-14), ('SANDBOX', -0.17655271352588028), ('FIGHTING', -1.0048414718391562e-14), ('INTERACTIVE STORY', -0.3994783449336222), ('SIMULATION (LIFE)', -0.46917162975516885), ('SPORTS (TENNIS)', -0.45712022205084457), ('JRPG', 0.3909495554221796), ('2D', 0.5307967028854006), ('STEALTH', 0.07336653255637987), ('DECKBUILDING', -1.2655132871793204e-14), ('RYTHM', -5.779624148516543e-15), ('MECHA', -1.613228671211726e-14), ('MUSOU', -0.3413720103170651), ('TURN-BASED', 0.2385229588881771), ('HACK AND SLASH', 0.8909651184593299), ('CARD', -0.272712548792251), ('SPORTS (OTHER)', 9.014638152651094e-15), ('SPORT (SKATEBORDING)', 0.3582509417399399), ('METROIDVANIA', 0.8921765217248907), ('PLATFORMING', 2.5069690465836403), ('TOWER-DEFENSE', 0.5292561486465641), ('STRATEGY', -0.24075418796301473), ('SIMULATION (MANAGEMENT)', -0.03640525345235135), ('COMEDY', -2.880351139818767e-16), ('SIMULATION (SOCIAL)', -0.10295793386978619), ('3D PLATFORMER', 0.5070165808055811), ('EXPLORATION', 0.5265630317603041), ('USER CREATION', -0.4316780726741955), ('SIMULATION (CITY-BUILDING)', 0.08253266066938014), ('IDLE', 0.33615922322163005), ('SIMULATION', -0.17683823590553305), ('RACING (SIM)', -0.04653111147601985), ('PSP', -0.23024915541744484), ('PS3', -1.1632054565136518), ('XBS', -0.6256253526689525), ('PS5', 0.778399211732488), ('WII', -0.6798832445926438), ('GBA', -0.15186020282653467), ('3DS', -0.2428395532052452), ('PS', 0.0650988724961391), ('X360', -0.8315218850904869), ('PC', 1.1324366624741797), ('PS2', 1.1634918836202124), ('PS4', -0.31015093886006717), ('MOBILE', -0.5283189352340483), ('SWITCH', 1.526180408452929), ('DS', 0.3177189903030739), ('GB', -0.15186020282653773), ('VITA', -0.2242253133136431), ('2K Games', 1.234706169713948), ('505 Games', 0.25986604686170756), ('Activision-Blizzard', -0.34722542852557103), ('Annapurna', 1.0271074240097515), ('Bandai Namco', -0.20721394947120403), ('Bethesda', -2.004451301659461), ('Capcom_x', -0.6170606542300827), ('Codemasters_x', 0.31297927263800346), ('Curve Digital', -0.3487880888913746), ('Devolver Digital', 0.2985223819136146), ('EA', -0.12716533578667472), ('Focus Home Interactive', -0.7335025970541412), ('Indie', 0.8225739461121426), ('Microsoft', -0.25587849967979204), ('Nintendo_x', 1.406035563961487), ('Other_x', -1.3515941566062968), ('Paradox Interactive', 0.12020679835469901), ('Private Division', -0.049097189820620835), ('Rockstar_x', -0.434059333017895), ('SEGA', -0.3979573713597654), ('Sony', 1.7872573399317695), ('Square Enix_x', -1.751180005265331), ('Team17_x', 1.2349532033106003), ('Ubisoft', 2.035237178711153), ('Valve_x', 0.15515482716670254), ('Warner Bros', -1.9659655817525974), ('Yogscast Games', -0.10346065956470696), ('343 industries', 0.4601334989525886), ('Amplitude Studios', 0.0415441552878226), ('Arkane Studios', 0.04541403816340617), ('Asobi Team', 0.8378364761314019), ('Asobo Studio', 0.08390159261742199), ('Bethesda Softworks', -2.2046532416442124e-15), ('BioWare', 0.4124189273774994), ('Blizzard', -0.6830720864002343), ('Bungie', 0.37300647565330447), ('CD Projekt Red', -0.5966167174855593), ('Camelot Software Planning', -0.45712022205084213), ('Capcom_y', -0.6170606542300989), ('Chris Sawyer', 0.5921783257166344), ('Codemasters_y', 0.6028380269767296), ('Colossal Order', 0.4568090571321931), ('Criterion Games', -1.3361315929863256), ('Crystal Dynamics', -0.30443143202640405), ('DICE', -0.5454497487193743), ('Dotemu', 0.32049218985414907), ('Double Fine', 0.5414582661674294), ('DrinkBox', 5.697777399254995e-15), ('EA sports', -0.25570448569745685), ('Firaxis', -0.12085071561810333), ('From Software', 0.5409733080560727), ('Game Freak', 0.09196873308550835), ('Gearbox', 0.9448113249204089), ('Guerrilla Games', 0.23251524053319494), ('Housemarque', -0.34746664623692053), ('Infinity Ward', 0.36843026539709656), ('Insomniac', 0.33950142309244347), ('Irrational Games', 0.18972866851615372), ('Ivory Tower', 0.9571292744863045), ('Japan Studio', -1.5587407850659067), ('Larian studios', -8.502665511387808e-15), ('Media Molecule', -0.18364178046410198), ('Mojang', -0.3366959639012447), ('Monolith Productions', -0.5661183067209294), ('Moon Studios', -0.13988566997832352), ('Naughty Dog', 0.02930682726317746), ('Next Level Games', -0.024743826000273583), ('Nihon Falcom', 0.38691466162086346), ('Nintendo_y', -0.1717231462558505), ('Other_y', 0.07190513992633804), ('Paradox', -0.15828031764999637), ('Platinum Games', -0.43070573441294957), ('Playground games', 0.40164246184068136), ('Polyphony Digital', 0.2827874631171954), ('Quantic Dream', -0.14225019477865106), ('Rare', 0.4610480209371558), ('RedLynx', -0.003131851129817148), ('Respawn', 0.6152295693426857), ('Rockstar_y', -0.43405933301788246), ('Rocksteady', -0.34620529405459743), ('Runic Games', -0.4159348862177379), ('Santa Monica Studio', 0.3947004788464512), ('Shiro Games', 0.5295020167345296), ('Sledgehammer Games', -0.08736802777581767), ('Sonic Team', -0.10001172397667013), ('Sora ltd.', 9.076891014012829e-15), ('Sports Interactive', -0.2262752227243474), ('Square Enix_y', -0.39497793896862754), ('Sucker Punch', 0.6110249554453686), ('Sumo Digital', -0.21747752391296976), ('Supergiant', 0.8591277517648628), ('Tango Gameworks', 0.2585719313375996), ('Team Ninja', -0.6214870654593645), ('Team17_y', 0.45337357357832253), ('Telltale', -0.2572281501549569), ('The Coalition', 0.16744143757164281), ('The Gentlebros', 0.22641691694102548), (\"Traveller's Tales\", -0.1277245879678633), ('Treyarch', 0.040699541578788884), ('Turn 10 studios', -0.8504522285592173), ('Ubisoft Montreal', -0.04427936410605701), ('Ubisoft Quebec', 0.34234077760082016), ('Valve_y', 0.1551548271666972), ('id Software', -2.308437271160458), ('roll7', 0.6914628751339618), ('A Plague Tale', 0.08390159261742912), ('Animal Crossing', -0.4025431118145765), (\"Assassin's Creed\", 0.4673362104549418), ('Astro Bot', 0.8378364761313984), ('Batman', -0.34620529405460276), ('Battlefield', -0.6656859116314628), ('Bayonetta', 8.033629986455135e-15), ('Bioshock', 0.18972866851615178), ('Borderlands', 1.1519517520795397), ('Call of Duty', 0.321761779200088), ('Cat Quest', 0.22641691694101768), ('Cities Skylines', 0.45680905713217945), ('Civilization', 0.10784717398128377), ('Crash Bandicoot', 0.32426603003983545), ('Diablo', -0.7692218327365299), ('Dirt', -0.14949360240930243), ('Donkey Kong', 0.18617736750508332), ('Doom', -2.3084372711604573), ('Dragon Age', 0.39637108738816007), ('Dragon Quest', -0.7116449057449178), ('F1', 0.8425006574216062), ('Far Cry', -0.2672449898349056), ('Fifa', 0.03883839253257894), ('Final Fantasy', 0.17047441631507043), ('Football Manager', -0.22627522272435235), ('Forza', -0.44880976671854356), ('Gears', 0.16744143757163116), ('God of War', 0.3947004788464543), ('Gran Turismo', 0.2827874631171786), ('Grand Theft Auto', -0.9149627366781776), ('Grid', -0.09016902803559106), ('Halo', 0.4309539653201588), ('Horizon', 0.23745466340018084), ('LittleBigPlanet', -0.0583551904023991), ('Mario Kart', 0.7680819509991862), ('Mario Sports', -0.5818757720277667), (\"Marvel's Spider-Man\", 0.5476978216981611), ('Mass Effect', 0.4294541818279527), ('Metroid', 0.8959965901195455), ('Middle Earth', -0.5661183067209248), ('Minecraft', -0.3366959639012591), ('Monster Hunter', -0.3137168779582207), ('Need for Speed', -0.6791677112960319), ('OlliOlli', 0.35825094173994954), ('Ori', -0.13988566997831794), ('Other', -2.6922498414920852), ('Overcooked', 0.45337357357832264), ('Overwatch', 0.0861497463362975), ('Paradox 4X', -0.07942855965559154), ('Pokemon', 0.7107438563728489), ('Psychonauts', 0.5414582661674284), ('Ratchet & Clank', -0.208196398605723), ('Rollercoaster Tycoon', 0.5921783257166274), ('Souls', 0.8290103345398617), ('Star Wars', -0.19152741417307562), ('Super Mario (2D)', -1.1758591629864805), ('Super Mario (3D)', 0.32272371229308544), ('Super Smash Bros.', -4.397264325111035e-24), ('Tetris', 0.4312852208170532), ('The Crew', 0.9571292744863013), ('The Last of Us', -0.10471704591373882), ('The Legend of Zelda', -0.04619231676067925), ('Tomb Raider', 0.21356667388457234), ('Torchlight', -0.4159348862177237), ('Trials', -0.0031318511298183693), ('Uncharted', -1.0864446685349953), ('Watch Dogs', -0.04880003118553014), ('Ys', 0.3869146616208676), ('inFAMOUS', 0.18942062377376545), ('Play - launch', -0.278125451239127), ('Remaster played', -0.23334744897750048), ('Latest launch year', -0.18170855809695605), ('Play - latest launch', -0.025726862401522832), ('Any multiplayer', 0.3218406649618696), ('Any racing', 0.5666984243257045), ('Any sports', 0.6082766466792753), ('Any simulation', -0.17683823590552666), ('Any strategy', -0.24075418796303016))\n"
     ]
    }
   ],
   "source": [
    "# feature analysis\n",
    "\n",
    "print(tuple(zip(X.columns,model.coef_)))"
   ]
  },
  {
   "cell_type": "code",
   "execution_count": 84,
   "metadata": {},
   "outputs": [
    {
     "name": "stdout",
     "output_type": "stream",
     "text": [
      "[8.24814815e+01 2.01506838e+03 2.01782621e+03 1.42450142e-01\n",
      " 5.52706553e+00 5.69800570e-03 8.54700855e-02 2.84900285e-03\n",
      " 4.55840456e-02 2.84900285e-03 3.13390313e-02 1.53846154e-01\n",
      " 2.10826211e-01 7.40740741e-02 2.84900285e-02 5.69800570e-03\n",
      " 2.27920228e-02 0.00000000e+00 2.27920228e-02 1.99430199e-02\n",
      " 3.98860399e-02 5.69800570e-03 8.54700855e-03 5.69800570e-03\n",
      " 6.83760684e-02 1.90883191e-01 3.24786325e-01 1.13960114e-02\n",
      " 5.98290598e-02 1.79487179e-01 0.00000000e+00 1.19658120e-01\n",
      " 8.54700855e-03 0.00000000e+00 0.00000000e+00 2.19373219e-01\n",
      " 2.84900285e-03 1.19658120e-01 5.98290598e-02 3.70370370e-02\n",
      " 5.69800570e-03 0.00000000e+00 1.99430199e-02 5.12820513e-02\n",
      " 7.97720798e-02 1.50997151e-01 8.83190883e-02 1.16809117e-01\n",
      " 2.84900285e-03 5.69800570e-03 1.22507123e-01 5.69800570e-03\n",
      " 2.84900285e-03 1.70940171e-02 2.84900285e-03 3.13390313e-02\n",
      " 2.56410256e-02 0.00000000e+00 2.84900285e-03 4.84330484e-02\n",
      " 2.84900285e-03 8.54700855e-03 0.00000000e+00 4.27350427e-02\n",
      " 0.00000000e+00 8.54700855e-03 2.84900285e-03 2.84900285e-03\n",
      " 5.12820513e-02 8.83190883e-02 4.84330484e-02 0.00000000e+00\n",
      " 0.00000000e+00 0.00000000e+00 2.84900285e-03 7.12250712e-02\n",
      " 7.97720798e-02 5.69800570e-03 0.00000000e+00 5.69800570e-03\n",
      " 3.70370370e-02 8.26210826e-02 5.69800570e-03 7.12250712e-02\n",
      " 4.27350427e-02 0.00000000e+00 1.13960114e-02 2.84900285e-03\n",
      " 4.27350427e-02 2.84900285e-03 1.13960114e-02 5.69800570e-03\n",
      " 7.97720798e-02 1.42450142e-02 5.69800570e-03 2.84900285e-02\n",
      " 9.40170940e-02 1.11111111e-01 2.56410256e-02 2.84900285e-03\n",
      " 1.42450142e-02 4.41595442e-01 1.42450142e-02 2.64957265e-01\n",
      " 1.99430199e-02 2.73504274e-01 8.54700855e-03 1.05413105e-01\n",
      " 3.13390313e-02 2.84900285e-03 1.13960114e-02 2.84900285e-02\n",
      " 5.69800570e-03 4.84330484e-02 1.42450142e-02 8.54700855e-03\n",
      " 1.70940171e-02 1.13960114e-02 2.84900285e-02 8.54700855e-03\n",
      " 1.70940171e-02 6.55270655e-02 1.13960114e-02 2.02279202e-01\n",
      " 5.41310541e-02 1.16809117e-01 7.12250712e-02 1.42450142e-02\n",
      " 8.54700855e-03 1.13960114e-02 1.99430199e-02 1.19658120e-01\n",
      " 2.56410256e-02 1.13960114e-02 4.84330484e-02 5.69800570e-03\n",
      " 1.99430199e-02 5.69800570e-03 5.69800570e-03 5.69800570e-03\n",
      " 5.69800570e-03 5.69800570e-03 2.84900285e-03 0.00000000e+00\n",
      " 1.70940171e-02 1.70940171e-02 1.70940171e-02 5.69800570e-03\n",
      " 2.84900285e-03 1.13960114e-02 5.69800570e-03 3.13390313e-02\n",
      " 5.69800570e-03 5.69800570e-03 8.54700855e-03 8.54700855e-03\n",
      " 8.54700855e-03 2.84900285e-03 0.00000000e+00 1.99430199e-02\n",
      " 8.54700855e-03 8.54700855e-03 1.99430199e-02 8.54700855e-03\n",
      " 8.54700855e-03 1.13960114e-02 8.54700855e-03 1.13960114e-02\n",
      " 5.69800570e-03 8.54700855e-03 5.69800570e-03 0.00000000e+00\n",
      " 5.69800570e-03 5.69800570e-03 5.69800570e-03 5.69800570e-03\n",
      " 1.99430199e-02 2.84900285e-03 2.84900285e-03 6.55270655e-02\n",
      " 3.50427350e-01 5.69800570e-03 5.69800570e-03 5.69800570e-03\n",
      " 8.54700855e-03 2.84900285e-03 8.54700855e-03 5.69800570e-03\n",
      " 5.69800570e-03 1.13960114e-02 8.54700855e-03 5.69800570e-03\n",
      " 1.42450142e-02 5.69800570e-03 2.84900285e-03 5.69800570e-03\n",
      " 0.00000000e+00 5.69800570e-03 1.13960114e-02 5.69800570e-03\n",
      " 5.69800570e-03 8.54700855e-03 2.84900285e-03 5.69800570e-03\n",
      " 5.69800570e-03 5.69800570e-03 5.69800570e-03 2.84900285e-03\n",
      " 1.13960114e-02 1.13960114e-02 5.69800570e-03 1.42450142e-02\n",
      " 5.69800570e-03 5.69800570e-03 8.54700855e-03 5.69800570e-03\n",
      " 2.84900285e-03 5.69800570e-03 1.42450142e-02 5.69800570e-03\n",
      " 8.54700855e-03 5.69800570e-03 0.00000000e+00 5.69800570e-03\n",
      " 1.13960114e-02 2.27920228e-02 2.84900285e-03 5.69800570e-03\n",
      " 5.69800570e-03 1.13960114e-02 1.13960114e-02 2.84900285e-03\n",
      " 5.69800570e-03 8.54700855e-03 5.69800570e-03 5.69800570e-03\n",
      " 1.99430199e-02 2.84900285e-03 2.27920228e-02 8.54700855e-03\n",
      " 5.69800570e-03 1.13960114e-02 5.69800570e-03 1.42450142e-02\n",
      " 8.54700855e-03 8.54700855e-03 8.54700855e-03 1.99430199e-02\n",
      " 5.69800570e-03 2.84900285e-03 8.54700855e-03 1.13960114e-02\n",
      " 5.69800570e-03 8.54700855e-03 1.13960114e-02 5.69800570e-03\n",
      " 5.69800570e-03 5.69800570e-03 5.69800570e-03 5.69800570e-03\n",
      " 5.69800570e-03 4.58689459e-01 5.69800570e-03 5.69800570e-03\n",
      " 2.84900285e-03 2.27920228e-02 2.84900285e-03 5.69800570e-03\n",
      " 5.69800570e-03 8.54700855e-03 1.70940171e-02 1.13960114e-02\n",
      " 5.69800570e-03 0.00000000e+00 2.84900285e-03 8.54700855e-03\n",
      " 2.84900285e-03 1.70940171e-02 5.69800570e-03 5.69800570e-03\n",
      " 5.69800570e-03 1.42450142e-02 5.69800570e-03 2.84900285e-03\n",
      " 2.84900285e-03 2.75783476e+00 6.55270655e-02 2.01572650e+03\n",
      " 2.09971510e+00 1.19658120e-01 1.11111111e-01 5.98290598e-02\n",
      " 7.97720798e-02 7.12250712e-02]\n"
     ]
    }
   ],
   "source": []
  },
  {
   "cell_type": "code",
   "execution_count": null,
   "metadata": {},
   "outputs": [],
   "source": []
  }
 ],
 "metadata": {
  "kernelspec": {
   "display_name": "Python 3 (ipykernel)",
   "language": "python",
   "name": "python3"
  },
  "language_info": {
   "codemirror_mode": {
    "name": "ipython",
    "version": 3
   },
   "file_extension": ".py",
   "mimetype": "text/x-python",
   "name": "python",
   "nbconvert_exporter": "python",
   "pygments_lexer": "ipython3",
   "version": "3.10.9"
  }
 },
 "nbformat": 4,
 "nbformat_minor": 2
}
