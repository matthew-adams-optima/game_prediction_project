{
 "cells": [
  {
   "cell_type": "code",
   "execution_count": 96,
   "id": "ad620c6f",
   "metadata": {},
   "outputs": [],
   "source": [
    "# initialisation\n",
    "import pandas as pd\n",
    "import numpy as np\n",
    "import plotly.express as px\n",
    "import itertools\n",
    "import joblib\n",
    "from scipy.stats import *\n",
    "from scipy.optimize import *\n",
    "from pandasgui import show\n",
    "from sklearn.ensemble import *\n",
    "from sklearn.tree import *\n",
    "from sklearn.linear_model import *\n",
    "from sklearn.model_selection import train_test_split\n",
    "from sklearn.metrics import *"
   ]
  },
  {
   "cell_type": "code",
   "execution_count": 97,
   "id": "0bbc7bb8",
   "metadata": {},
   "outputs": [
    {
     "data": {
      "text/html": [
       "<div>\n",
       "<style scoped>\n",
       "    .dataframe tbody tr th:only-of-type {\n",
       "        vertical-align: middle;\n",
       "    }\n",
       "\n",
       "    .dataframe tbody tr th {\n",
       "        vertical-align: top;\n",
       "    }\n",
       "\n",
       "    .dataframe thead th {\n",
       "        text-align: right;\n",
       "    }\n",
       "</style>\n",
       "<table border=\"1\" class=\"dataframe\">\n",
       "  <thead>\n",
       "    <tr style=\"text-align: right;\">\n",
       "      <th></th>\n",
       "      <th>Game</th>\n",
       "      <th>Rating</th>\n",
       "      <th>Reviewscore</th>\n",
       "      <th>Played on</th>\n",
       "      <th>Launch Year</th>\n",
       "      <th>Play Year</th>\n",
       "      <th>DLC/ Major update played</th>\n",
       "      <th>Publisher</th>\n",
       "      <th>Developer</th>\n",
       "      <th>Franchise</th>\n",
       "      <th>Key words</th>\n",
       "      <th>Remaster Reviewscore</th>\n",
       "      <th>Remaster Release Year</th>\n",
       "      <th>Developer2</th>\n",
       "    </tr>\n",
       "  </thead>\n",
       "  <tbody>\n",
       "    <tr>\n",
       "      <th>0</th>\n",
       "      <td>The Legend of Zelda: Tears of the Kingdom</td>\n",
       "      <td>100</td>\n",
       "      <td>96</td>\n",
       "      <td>Switch</td>\n",
       "      <td>2023</td>\n",
       "      <td>2023</td>\n",
       "      <td>No</td>\n",
       "      <td>Nintendo</td>\n",
       "      <td>Nintendo</td>\n",
       "      <td>The Legend of Zelda</td>\n",
       "      <td>Adventure, open-world, sandbox, exploration, p...</td>\n",
       "      <td>NaN</td>\n",
       "      <td>NaN</td>\n",
       "      <td>NaN</td>\n",
       "    </tr>\n",
       "    <tr>\n",
       "      <th>1</th>\n",
       "      <td>Hi-Fi Rush</td>\n",
       "      <td>97</td>\n",
       "      <td>89</td>\n",
       "      <td>XBS</td>\n",
       "      <td>2023</td>\n",
       "      <td>2023</td>\n",
       "      <td>No</td>\n",
       "      <td>Microsoft</td>\n",
       "      <td>Tango Gameworks</td>\n",
       "      <td>Hi-Fi Rush</td>\n",
       "      <td>Action, hack and slash, rythm, linear, platfor...</td>\n",
       "      <td>NaN</td>\n",
       "      <td>NaN</td>\n",
       "      <td>NaN</td>\n",
       "    </tr>\n",
       "    <tr>\n",
       "      <th>2</th>\n",
       "      <td>Marvel's Spider-Man 2</td>\n",
       "      <td>96</td>\n",
       "      <td>90</td>\n",
       "      <td>PS5</td>\n",
       "      <td>2023</td>\n",
       "      <td>2023</td>\n",
       "      <td>No</td>\n",
       "      <td>Sony</td>\n",
       "      <td>Insomniac</td>\n",
       "      <td>Marvel's Spider-Man</td>\n",
       "      <td>Story-driven, open-world, superhero, platformi...</td>\n",
       "      <td>NaN</td>\n",
       "      <td>NaN</td>\n",
       "      <td>NaN</td>\n",
       "    </tr>\n",
       "    <tr>\n",
       "      <th>3</th>\n",
       "      <td>Cocoon</td>\n",
       "      <td>94</td>\n",
       "      <td>88</td>\n",
       "      <td>XBS</td>\n",
       "      <td>2023</td>\n",
       "      <td>2023</td>\n",
       "      <td>No</td>\n",
       "      <td>Annapurna</td>\n",
       "      <td>Geometric Interactive</td>\n",
       "      <td>Cocoon</td>\n",
       "      <td>Puzzle, adventure, linear</td>\n",
       "      <td>NaN</td>\n",
       "      <td>NaN</td>\n",
       "      <td>NaN</td>\n",
       "    </tr>\n",
       "    <tr>\n",
       "      <th>4</th>\n",
       "      <td>Final Fantasy XVI</td>\n",
       "      <td>92</td>\n",
       "      <td>88</td>\n",
       "      <td>PS5</td>\n",
       "      <td>2023</td>\n",
       "      <td>2023</td>\n",
       "      <td>No</td>\n",
       "      <td>Square Enix</td>\n",
       "      <td>Square Enix</td>\n",
       "      <td>Final Fantasy</td>\n",
       "      <td>Action-RPG, story-driven, action, third-person</td>\n",
       "      <td>NaN</td>\n",
       "      <td>NaN</td>\n",
       "      <td>NaN</td>\n",
       "    </tr>\n",
       "    <tr>\n",
       "      <th>...</th>\n",
       "      <td>...</td>\n",
       "      <td>...</td>\n",
       "      <td>...</td>\n",
       "      <td>...</td>\n",
       "      <td>...</td>\n",
       "      <td>...</td>\n",
       "      <td>...</td>\n",
       "      <td>...</td>\n",
       "      <td>...</td>\n",
       "      <td>...</td>\n",
       "      <td>...</td>\n",
       "      <td>...</td>\n",
       "      <td>...</td>\n",
       "      <td>...</td>\n",
       "    </tr>\n",
       "    <tr>\n",
       "      <th>463</th>\n",
       "      <td>Super Metroid</td>\n",
       "      <td>93</td>\n",
       "      <td>96</td>\n",
       "      <td>Switch</td>\n",
       "      <td>1994</td>\n",
       "      <td>2022</td>\n",
       "      <td>Yes</td>\n",
       "      <td>Nintendo</td>\n",
       "      <td>Nintendo</td>\n",
       "      <td>Metroid</td>\n",
       "      <td>Platformer, metroidvania, 2D</td>\n",
       "      <td>NaN</td>\n",
       "      <td>NaN</td>\n",
       "      <td>NaN</td>\n",
       "    </tr>\n",
       "    <tr>\n",
       "      <th>464</th>\n",
       "      <td>Donkey Kong Country</td>\n",
       "      <td>87</td>\n",
       "      <td>93</td>\n",
       "      <td>Switch</td>\n",
       "      <td>1994</td>\n",
       "      <td>2023</td>\n",
       "      <td>Yes</td>\n",
       "      <td>Nintendo</td>\n",
       "      <td>Rare</td>\n",
       "      <td>Donkey Kong</td>\n",
       "      <td>2D, platformer</td>\n",
       "      <td>NaN</td>\n",
       "      <td>NaN</td>\n",
       "      <td>NaN</td>\n",
       "    </tr>\n",
       "    <tr>\n",
       "      <th>465</th>\n",
       "      <td>The Legend of Zelda: A Link to the Past</td>\n",
       "      <td>80</td>\n",
       "      <td>95</td>\n",
       "      <td>Switch</td>\n",
       "      <td>1991</td>\n",
       "      <td>2023</td>\n",
       "      <td>No</td>\n",
       "      <td>Nintendo</td>\n",
       "      <td>Nintendo</td>\n",
       "      <td>The Legend of Zelda</td>\n",
       "      <td>Adventure, top-down</td>\n",
       "      <td>NaN</td>\n",
       "      <td>NaN</td>\n",
       "      <td>NaN</td>\n",
       "    </tr>\n",
       "    <tr>\n",
       "      <th>466</th>\n",
       "      <td>Super Mario World</td>\n",
       "      <td>91</td>\n",
       "      <td>94</td>\n",
       "      <td>Switch</td>\n",
       "      <td>1990</td>\n",
       "      <td>2023</td>\n",
       "      <td>Yes</td>\n",
       "      <td>Nintendo</td>\n",
       "      <td>Nintendo</td>\n",
       "      <td>Super Mario (2D)</td>\n",
       "      <td>2D, platformer</td>\n",
       "      <td>NaN</td>\n",
       "      <td>NaN</td>\n",
       "      <td>NaN</td>\n",
       "    </tr>\n",
       "    <tr>\n",
       "      <th>467</th>\n",
       "      <td>Tetris</td>\n",
       "      <td>90</td>\n",
       "      <td>90</td>\n",
       "      <td>GB</td>\n",
       "      <td>1989</td>\n",
       "      <td>2023</td>\n",
       "      <td>No</td>\n",
       "      <td>Nintendo</td>\n",
       "      <td>Nintendo</td>\n",
       "      <td>Tetris</td>\n",
       "      <td>Puzzle</td>\n",
       "      <td>NaN</td>\n",
       "      <td>NaN</td>\n",
       "      <td>NaN</td>\n",
       "    </tr>\n",
       "  </tbody>\n",
       "</table>\n",
       "<p>468 rows × 14 columns</p>\n",
       "</div>"
      ],
      "text/plain": [
       "                                          Game  Rating  Reviewscore Played on  \\\n",
       "0    The Legend of Zelda: Tears of the Kingdom     100           96    Switch   \n",
       "1                                   Hi-Fi Rush      97           89       XBS   \n",
       "2                        Marvel's Spider-Man 2      96           90       PS5   \n",
       "3                                       Cocoon      94           88       XBS   \n",
       "4                            Final Fantasy XVI      92           88       PS5   \n",
       "..                                         ...     ...          ...       ...   \n",
       "463                              Super Metroid      93           96    Switch   \n",
       "464                        Donkey Kong Country      87           93    Switch   \n",
       "465    The Legend of Zelda: A Link to the Past      80           95    Switch   \n",
       "466                          Super Mario World      91           94    Switch   \n",
       "467                                     Tetris      90           90        GB   \n",
       "\n",
       "     Launch Year  Play Year DLC/ Major update played    Publisher  \\\n",
       "0           2023       2023                       No     Nintendo   \n",
       "1           2023       2023                       No    Microsoft   \n",
       "2           2023       2023                       No         Sony   \n",
       "3           2023       2023                       No    Annapurna   \n",
       "4           2023       2023                       No  Square Enix   \n",
       "..           ...        ...                      ...          ...   \n",
       "463         1994       2022                      Yes     Nintendo   \n",
       "464         1994       2023                      Yes     Nintendo   \n",
       "465         1991       2023                       No     Nintendo   \n",
       "466         1990       2023                      Yes     Nintendo   \n",
       "467         1989       2023                       No     Nintendo   \n",
       "\n",
       "                 Developer             Franchise  \\\n",
       "0                 Nintendo   The Legend of Zelda   \n",
       "1          Tango Gameworks            Hi-Fi Rush   \n",
       "2                Insomniac   Marvel's Spider-Man   \n",
       "3    Geometric Interactive                Cocoon   \n",
       "4              Square Enix         Final Fantasy   \n",
       "..                     ...                   ...   \n",
       "463               Nintendo               Metroid   \n",
       "464                   Rare           Donkey Kong   \n",
       "465               Nintendo  The Legend of Zelda    \n",
       "466               Nintendo      Super Mario (2D)   \n",
       "467               Nintendo                Tetris   \n",
       "\n",
       "                                             Key words  Remaster Reviewscore  \\\n",
       "0    Adventure, open-world, sandbox, exploration, p...                   NaN   \n",
       "1    Action, hack and slash, rythm, linear, platfor...                   NaN   \n",
       "2    Story-driven, open-world, superhero, platformi...                   NaN   \n",
       "3                            Puzzle, adventure, linear                   NaN   \n",
       "4       Action-RPG, story-driven, action, third-person                   NaN   \n",
       "..                                                 ...                   ...   \n",
       "463                       Platformer, metroidvania, 2D                   NaN   \n",
       "464                                     2D, platformer                   NaN   \n",
       "465                                Adventure, top-down                   NaN   \n",
       "466                                     2D, platformer                   NaN   \n",
       "467                                             Puzzle                   NaN   \n",
       "\n",
       "     Remaster Release Year Developer2  \n",
       "0                      NaN        NaN  \n",
       "1                      NaN        NaN  \n",
       "2                      NaN        NaN  \n",
       "3                      NaN        NaN  \n",
       "4                      NaN        NaN  \n",
       "..                     ...        ...  \n",
       "463                    NaN        NaN  \n",
       "464                    NaN        NaN  \n",
       "465                    NaN        NaN  \n",
       "466                    NaN        NaN  \n",
       "467                    NaN        NaN  \n",
       "\n",
       "[468 rows x 14 columns]"
      ]
     },
     "execution_count": 97,
     "metadata": {},
     "output_type": "execute_result"
    }
   ],
   "source": [
    "# load the data\n",
    "raw_data = pd.read_csv('../data/Games Database - Main Page.csv')\n",
    "#show(raw_data)\n",
    "#drop fields we won't be needing\n",
    "raw_data.drop(['Me - Review', 'Percentile', 'Launch Platform(s)', 'Hours Played', 'Completion', 'Year(s) revisited/ continued/ earlier dabbled', 'First Rating', 'Playthroughs'], axis = 1, inplace = True)\n",
    "raw_data"
   ]
  },
  {
   "cell_type": "code",
   "execution_count": 98,
   "id": "0726698e",
   "metadata": {
    "scrolled": false
   },
   "outputs": [
    {
     "data": {
      "application/vnd.plotly.v1+json": {
       "config": {
        "plotlyServerURL": "https://plot.ly"
       },
       "data": [
        {
         "hovertemplate": "<b>%{hovertext}</b><br><br>Played on=Switch<br>Reviewscore=%{x}<br>Rating=%{y}<extra></extra>",
         "hovertext": [
          "The Legend of Zelda: Tears of the Kingdom",
          "Super Mario Bros. Wonder",
          "Pikmin 4",
          "F-Zero 99",
          "Splatoon 3",
          "Pokemon Legends Arceus",
          "Kirby and the Forgotten Land",
          "Freshly Frosted",
          "Pokemon Violet",
          "Metroid Dread",
          "Monster Hunter Rise",
          "Hot Wheels Unleashed",
          "Mario Golf: Super Rush",
          "Cruis'n Blast",
          "Animal Crossing New Horizons",
          "Hyrule Warriors Age of Calamity",
          "Minecraft Dungeons",
          "Astral Chain",
          "Luigi's Mansion 3",
          "Ring Fit Adventure",
          "The Legend of Zelda: Link's Awakening",
          "Cat Quest II",
          "Wargroove",
          "Pokemon Sword",
          "Celeste",
          "Super Smash Bros. Ultimate",
          "Gris",
          "Pokemon Let's Go Pikachu",
          "Mario Tennis Aces",
          "Octopath Traveller",
          "The Legend of Zelda: Breath of the Wild",
          "Super Mario Odyssey",
          "Ys VIII Lacrimosa of Dana",
          "Golf Story",
          "Mario + Rabbids Kingdom Battle",
          "Cat Quest",
          "Mario Kart 8",
          "Bayonetta 2",
          "Grid Autosport",
          "Super Mario 3D World",
          "Xenoblade Chronicles",
          "The Legend of Zelda: Skyward Sword",
          "Bayonetta",
          "Mario & Luigi Superstar Saga",
          "Metroid Prime",
          "Metroid Fusion",
          "Banjo-Kazooie",
          "Super Mario 64",
          "Donkey Kong Country 2: Diddy Kong's Quest",
          "Super Metroid",
          "Donkey Kong Country",
          "The Legend of Zelda: A Link to the Past",
          "Super Mario World"
         ],
         "legendgroup": "Switch",
         "marker": {
          "color": "#636efa",
          "symbol": "circle"
         },
         "mode": "markers",
         "name": "Switch",
         "orientation": "v",
         "showlegend": true,
         "type": "scatter",
         "x": [
          96,
          92,
          88,
          80,
          83,
          84,
          84,
          89,
          72,
          87,
          88,
          74,
          71,
          73,
          90,
          80,
          72,
          87,
          86,
          83,
          87,
          76,
          83,
          80,
          91,
          93,
          84,
          81,
          78,
          83,
          97,
          97,
          85,
          78,
          85,
          72,
          88,
          91,
          78,
          93,
          92,
          93,
          90,
          90,
          97,
          92,
          92,
          96,
          90,
          96,
          93,
          95,
          94
         ],
         "xaxis": "x",
         "y": [
          100,
          84,
          80,
          75,
          84,
          82,
          80,
          76,
          74,
          93,
          81,
          72,
          67,
          47,
          87,
          72,
          62,
          88,
          82,
          77,
          73,
          71,
          69,
          59,
          94,
          90,
          77,
          75,
          65,
          53,
          100,
          98,
          90,
          84,
          80,
          70,
          94,
          90,
          65,
          88,
          78,
          84,
          69,
          83,
          99,
          90,
          85,
          96,
          90,
          93,
          87,
          80,
          91
         ],
         "yaxis": "y"
        },
        {
         "hovertemplate": "<b>%{hovertext}</b><br><br>Played on=XBS<br>Reviewscore=%{x}<br>Rating=%{y}<extra></extra>",
         "hovertext": [
          "Hi-Fi Rush",
          "Cocoon",
          "Lies of P",
          "Armored Core VI: Fires of Rubicon",
          "The Crew Motorfest",
          "Starfield",
          "Wild Hearts",
          "Jusant",
          "Assassin's Creed Mirage",
          "Wo Long Fallen Dynasty",
          "Forza Motorsport (2023)",
          "Exoprimal",
          "Elden Ring",
          "Nobody Saves The World",
          "Chained Echoes",
          "High on Life",
          "Grid Legends",
          "Trek to Yomi",
          "Windjammers 2",
          "Tunic",
          "Need for Speed Unbound",
          "A Plague Tale: Requiem",
          "CrossfireX",
          "Forza Horizon 5",
          "Psychonauts 2",
          "Unsighted",
          "Halo Infinite",
          "Curse of the Dead Gods",
          "Scarlet Nexus",
          "Dandy Ace",
          "Monster Sanctuary",
          "Streets of Rage 4",
          "Gears 5",
          "A Plague Tale: Innocence",
          "The Outer Worlds",
          "Outer Wilds",
          "Dead Cells",
          "Far Cry 5",
          "Prey",
          "Forza Motorsport 7",
          "Gears of War 4",
          "Halo 5: Guardians",
          "Mass Effect 3",
          "Halo 4",
          "Mass Effect 2",
          "Mass Effect",
          "Gears of War"
         ],
         "legendgroup": "XBS",
         "marker": {
          "color": "#EF553B",
          "symbol": "circle"
         },
         "mode": "markers",
         "name": "XBS",
         "orientation": "v",
         "showlegend": true,
         "type": "scatter",
         "x": [
          89,
          88,
          82,
          85,
          76,
          86,
          79,
          82,
          77,
          82,
          84,
          68,
          96,
          80,
          90,
          69,
          75,
          72,
          77,
          86,
          75,
          84,
          42,
          92,
          89,
          85,
          87,
          81,
          79,
          79,
          80,
          84,
          85,
          82,
          85,
          86,
          89,
          82,
          81,
          85,
          84,
          84,
          93,
          87,
          96,
          91,
          94
         ],
         "xaxis": "x",
         "y": [
          97,
          94,
          87,
          82,
          78,
          76,
          73,
          71,
          71,
          64,
          52,
          44,
          97,
          78,
          77,
          72,
          71,
          69,
          69,
          67,
          66,
          63,
          40,
          92,
          89,
          85,
          81,
          67,
          60,
          54,
          82,
          77,
          84,
          76,
          59,
          58,
          86,
          73,
          60,
          82,
          80,
          83,
          94,
          82,
          95,
          90,
          85
         ],
         "yaxis": "y"
        },
        {
         "hovertemplate": "<b>%{hovertext}</b><br><br>Played on=PS5<br>Reviewscore=%{x}<br>Rating=%{y}<extra></extra>",
         "hovertext": [
          "Marvel's Spider-Man 2",
          "Final Fantasy XVI",
          "Star Wars Jedi Survivor",
          "Tchia",
          "God of War Ragnarök",
          "Horizon Forbidden West",
          "Gran Turismo 7",
          "OlliOlli World",
          "Stray",
          "Overwatch 2",
          "Ghostwire Tokyo",
          "Cult of the Lamb",
          "Lego Star Wars The Skywalker Saga",
          "Arcadeggedon",
          "Ratchet & Clank: Rift Apart",
          "Guardians of the Galaxy",
          "Kena: Bridge of Spirits",
          "Returnal",
          "Ys IX: Monstrum Nox",
          "Deathloop",
          "Tribes of Midgard",
          "Destruction Allstars",
          "Demon's Souls (Remake)",
          "Astro's Playroom",
          "Dirt 5",
          "Immortals Fenyx Rising",
          "Sackboy: A Big Adventure",
          "WRC 9",
          "Call of Duty Black Ops Cold War",
          "Bugsnax",
          "Cyberpunk 2077",
          "Trials Rising",
          "Risk of Rain 2",
          "Monster Hunter World",
          "Wreckfest",
          "Persona 5",
          "Nioh",
          "Inside",
          "Battlefield 1",
          "The Last Guardian",
          "Trials Fusion",
          "Pure Pool",
          "Bioshock Infinite",
          "Batman Arkham City",
          "Bioshock 2",
          "Batman Arkham Asylum",
          "Bioshock",
          "God of War II",
          "God of War (2005)"
         ],
         "legendgroup": "PS5",
         "marker": {
          "color": "#00cc96",
          "symbol": "circle"
         },
         "mode": "markers",
         "name": "PS5",
         "orientation": "v",
         "showlegend": true,
         "type": "scatter",
         "x": [
          90,
          88,
          84,
          78,
          94,
          88,
          87,
          86,
          84,
          77,
          77,
          84,
          82,
          74,
          88,
          82,
          82,
          86,
          80,
          88,
          75,
          62,
          92,
          84,
          82,
          79,
          81,
          80,
          75,
          75,
          76,
          80,
          86,
          89,
          80,
          94,
          88,
          91,
          87,
          81,
          79,
          73,
          94,
          94,
          88,
          92,
          96,
          93,
          94
         ],
         "xaxis": "x",
         "y": [
          96,
          92,
          86,
          57,
          96,
          91,
          89,
          86,
          86,
          76,
          73,
          72,
          59,
          59,
          89,
          86,
          84,
          84,
          83,
          82,
          72,
          55,
          90,
          88,
          80,
          75,
          75,
          74,
          74,
          73,
          68,
          75,
          74,
          76,
          74,
          87,
          65,
          81,
          71,
          64,
          76,
          51,
          95,
          71,
          81,
          89,
          93,
          80,
          93
         ],
         "yaxis": "y"
        },
        {
         "hovertemplate": "<b>%{hovertext}</b><br><br>Played on=PC<br>Reviewscore=%{x}<br>Rating=%{y}<extra></extra>",
         "hovertext": [
          "Baldur's Gate 3",
          "Aces and Adventures",
          "Cassette Beasts",
          "Diablo 4",
          "Cities Skylines 2",
          "Counter-Strike 2",
          "20 Minutes Till Dawn",
          "Minecraft Legends",
          "Vampire Survivors",
          "Rogue Legacy 2",
          "Neon White",
          "Citizen Sleeper",
          "PlateUp!",
          "Two Point Campus",
          "Teenage Mutant Ninja Turtles: Shredder's Revenge",
          "Rollerdrome",
          "Warpips",
          "TemTem",
          "You Suck At Parking",
          "Spacelines from the Far Out",
          "Lost Ark",
          "Golfie",
          "Death's Door",
          "Loop Hero",
          "Wildermyth",
          "Buck Up and Drive!",
          "Age of Empires IV",
          "Mini Motorways",
          "The Riftbreaker",
          "Boyfriend Dungeon",
          "The Ascent",
          "Back 4 Blood",
          "F.I.S.T. Forged In Shadow Torch",
          "Sunlight",
          "Hades",
          "Ori and The Will of the Wisps",
          "Spiritfarer",
          "Deep Rock Galactic",
          "Golf With Your Friends",
          "Darksburg",
          "Embr",
          "A Short Hike",
          "Devil May Cry 5",
          "Darksiders Genesis",
          "The Jackbox Party Pack 6",
          "Dicey Dungeons",
          "Forza Horizon 4",
          "Crosscode",
          "Warhammer Vermentide 2",
          "Northgard",
          "Parkitect",
          "Dragon Quest XI",
          "Sea of Thieves",
          "Surviving Mars",
          "For The King",
          "Hollow Knight",
          "Divinity Original Sin 2",
          "Pyre",
          "Luna",
          "Forza Horizon 3",
          "Civilization VI",
          "Hearts of Iron IV",
          "Stellaris",
          "Ultimate Chicken Horse",
          "Hyper Light Drifter",
          "Abzu",
          "Motorsport Manager",
          "Clustertruck",
          "Kingdom New Lands",
          "Worms W.M.D",
          "Human Fall Flat",
          "Shoppe Keep",
          "Youtubers Life",
          "Undertale",
          "Cities Skylines",
          "Ori and The Blind Forest",
          "Prison Architect",
          "Crypt of the Necrodancer",
          "Big Pharma",
          "Clicker Heroes",
          "Dungeon of the Endless",
          "Football Manager 2015",
          "Endless Legend",
          "Civilization Beyond Earth",
          "Banished",
          "Europa Universalis IV",
          "Path of Exile",
          "Football Manager 2014",
          "Warframe",
          "Democracy 3",
          "Guild Wars 2",
          "Diablo 3",
          "Football Manager 2013",
          "Call of Duty Black Ops II",
          "F1 2012",
          "Torchlight 2",
          "XCOM: Enemy Unknown",
          "Spec Ops The Line",
          "Game Dev Tycoon",
          "Factorio",
          "Awesomenauts",
          "Warlock - Master of the Arcane",
          "Portal 2",
          "Minecraft",
          "Terraria",
          "Football Manager 2012",
          "Halo Reach",
          "Civilization V",
          "Ys Seven",
          "Football Manager 2010",
          "Torchlight",
          "Halo 3 ODST",
          "Football Manager 2009",
          "Halo 3",
          "Football Manager 2008",
          "Team Fortress 2",
          "Football Manager 2007",
          "Psychonauts",
          "Halo 2",
          "Star Wars: Knights of the Old Republic",
          "Rollercoaster Tycoon 2",
          "Halo Combat Evolved",
          "Final Fantasy X",
          "Diablo 2",
          "Rollercoaster Tycoon"
         ],
         "legendgroup": "PC",
         "marker": {
          "color": "#ab63fa",
          "symbol": "circle"
         },
         "mode": "markers",
         "name": "PC",
         "orientation": "v",
         "showlegend": true,
         "type": "scatter",
         "x": [
          96,
          84,
          86,
          88,
          75,
          80,
          78,
          71,
          87,
          89,
          89,
          84,
          80,
          84,
          87,
          80,
          79,
          76,
          70,
          82,
          82,
          70,
          88,
          84,
          85,
          70,
          83,
          80,
          80,
          73,
          73,
          76,
          80,
          78,
          94,
          90,
          87,
          85,
          69,
          68,
          67,
          87,
          88,
          79,
          74,
          82,
          92,
          86,
          83,
          79,
          83,
          86,
          67,
          77,
          75,
          90,
          93,
          84,
          62,
          91,
          88,
          83,
          81,
          79,
          84,
          80,
          81,
          76,
          73,
          78,
          68,
          57,
          63,
          92,
          85,
          89,
          80,
          87,
          64,
          57,
          79,
          80,
          82,
          81,
          74,
          87,
          93,
          85,
          71,
          70,
          90,
          88,
          86,
          83,
          81,
          88,
          89,
          76,
          68,
          70,
          78,
          71,
          95,
          93,
          83,
          84,
          91,
          90,
          79,
          87,
          83,
          83,
          83,
          94,
          86,
          92,
          87,
          87,
          95,
          94,
          74,
          97,
          92,
          88,
          78
         ],
         "xaxis": "x",
         "y": [
          91,
          85,
          81,
          79,
          72,
          70,
          68,
          49,
          88,
          87,
          85,
          84,
          79,
          79,
          79,
          79,
          71,
          69,
          62,
          58,
          54,
          52,
          88,
          77,
          73,
          71,
          69,
          68,
          68,
          67,
          64,
          59,
          47,
          32,
          98,
          89,
          81,
          76,
          67,
          63,
          60,
          89,
          87,
          72,
          66,
          66,
          92,
          85,
          76,
          74,
          73,
          67,
          65,
          63,
          56,
          94,
          89,
          76,
          59,
          93,
          86,
          75,
          72,
          72,
          71,
          70,
          69,
          68,
          67,
          65,
          61,
          51,
          46,
          92,
          88,
          77,
          74,
          73,
          56,
          51,
          74,
          73,
          68,
          64,
          63,
          84,
          81,
          77,
          74,
          52,
          93,
          88,
          79,
          79,
          78,
          78,
          78,
          73,
          66,
          66,
          64,
          61,
          95,
          86,
          83,
          78,
          90,
          89,
          80,
          83,
          75,
          72,
          84,
          89,
          86,
          82,
          91,
          90,
          87,
          76,
          82,
          92,
          85,
          61,
          73
         ],
         "yaxis": "y"
        },
        {
         "hovertemplate": "<b>%{hovertext}</b><br><br>Played on=Mobile<br>Reviewscore=%{x}<br>Rating=%{y}<extra></extra>",
         "hovertext": [
          "Diablo Immortal",
          "Golf Peaks",
          "Lyne"
         ],
         "legendgroup": "Mobile",
         "marker": {
          "color": "#FFA15A",
          "symbol": "circle"
         },
         "mode": "markers",
         "name": "Mobile",
         "orientation": "v",
         "showlegend": true,
         "type": "scatter",
         "x": [
          65,
          75,
          86
         ],
         "xaxis": "x",
         "y": [
          49,
          68,
          64
         ],
         "yaxis": "y"
        },
        {
         "hovertemplate": "<b>%{hovertext}</b><br><br>Played on=PS4<br>Reviewscore=%{x}<br>Rating=%{y}<extra></extra>",
         "hovertext": [
          "The Last of Us Part II",
          "Ghost of Tsushima",
          "Final Fantasy VII Remake",
          "Marvel's Spider-Man Miles Morales",
          "F1 2020",
          "Crash Bandicoot 4: Its About Time",
          "Dreams",
          "Star Wars Squadrons",
          "Journey to the Savage Planet",
          "Fall Guys",
          "Doom Eternal",
          "Marvel's Avengers",
          "Star Wars Jedi Fallen Order",
          "F1 2019",
          "Borderlands 3",
          "Apex Legends",
          "Concrete Genie",
          "Kingdom Hearts 3",
          "Sekiro Shadows Die Twice",
          "Dirt Rally 2.0",
          "GreedFall",
          "Grid (2019)",
          "Unrailed!",
          "Need For Speed Heat",
          "Control",
          "God of War (2018)",
          "Red Dead Redemption 2",
          "Astro Bot Rescue Mission",
          "Marvel's Spider-Man",
          "Tetris Effect",
          "F1 2018",
          "Overcooked 2",
          "Call of Duty Black Ops 4",
          "Moss PSVR",
          "Fifa 19",
          "Detroit Become Human",
          "Assassin's Creed Odyssey",
          "Shadow of the Colossus (Remake)",
          "The Crew 2",
          "Farming Simulator 2019",
          "Horizon Zero Dawn",
          "Uncharted The Lost Legacy",
          "F1 2017",
          "Assassin's Creed Origins",
          "Gran Turismo Sport",
          "Call of Duty WW2",
          "WipeOut Omega Collection",
          "Nex Machina",
          "Nier Automata",
          "Middle Earth: Shadow of War",
          "Doom VFR",
          "Uncharted 4 A Thief's End",
          "Titanfall 2",
          "F1 2016",
          "Overwatch",
          "Overcooked",
          "Stardew Valley",
          "Trackmania Turbo",
          "Ratchet & Clank",
          "Call of Duty Infinite Warfare",
          "Doom (2016)",
          "Watch Dogs 2",
          "Far Cry Primal",
          "Final Fantasy XV",
          "Dragon Quest Builders",
          "VR Worlds",
          "Bloodborne",
          "Rocket League",
          "Rise of the Tomb Raider ",
          "Batman Arkham Knight",
          "OlliOlli 2: Welcome to Olliwood",
          "Assassin's Creed Syndicate",
          "The Order 1886",
          "Call of Duty Black Ops III",
          "The Witcher 3",
          "Star Wars Battlefront",
          "Apotheon",
          "Just Cause 3",
          "Project Cars",
          "F1 2015",
          "Driveclub",
          "Dragon Age Inquisition",
          "Transistor",
          "Tales From the Borderlands",
          "Watch Dogs",
          "inFAMOUS Second Son",
          "Assassin's Creed Unity",
          "Far Cry 4",
          "Middle Earth Shadow of Mordor",
          "Call of Duty Advanced Warfare",
          "Destiny",
          "Borderlands The Pre-Sequel",
          "Infamous First Light",
          "The Crew",
          "Assassin's Creed Rogue",
          "Velocity 2X",
          "Sportsfriends",
          "Dead Nation: Apocalypse Edition",
          "Little Big Planet 3",
          "Game of Thrones Telltale",
          "The Last of Us",
          "Grand Theft Auto V",
          "Rayman Legends",
          "Assassin's Creed IV Black Flag",
          "Tomb Raider",
          "Resogun",
          "Fifa 14",
          "Battlefield 4",
          "Don't Starve",
          "Killzone Shadow Fall",
          "Assassin's Creed Freedom Cry",
          "War Thunder",
          "Contrast",
          "Journey",
          "DC Universe Online",
          "God of War 3",
          "Heavy Rain",
          "Uncharted 2 Among Thieves",
          "Call of Duty Modern Warfare",
          "Uncharted Drake's Fortune",
          "Crash Team Racing",
          "Crash Bandicoot 3: Warped",
          "Crash Bandicoot 2: Cortex Strikes Back",
          "Crash Bandicoot"
         ],
         "legendgroup": "PS4",
         "marker": {
          "color": "#19d3f3",
          "symbol": "circle"
         },
         "mode": "markers",
         "name": "PS4",
         "orientation": "v",
         "showlegend": true,
         "type": "scatter",
         "x": [
          93,
          85,
          88,
          85,
          88,
          85,
          90,
          79,
          76,
          80,
          89,
          68,
          85,
          86,
          80,
          86,
          77,
          85,
          90,
          83,
          75,
          73,
          75,
          72,
          84,
          94,
          97,
          90,
          87,
          89,
          84,
          81,
          85,
          85,
          81,
          78,
          85,
          92,
          64,
          64,
          89,
          84,
          86,
          81,
          75,
          79,
          85,
          84,
          89,
          79,
          70,
          93,
          87,
          82,
          91,
          80,
          89,
          81,
          85,
          77,
          85,
          82,
          76,
          81,
          70,
          56,
          92,
          85,
          86,
          87,
          85,
          76,
          63,
          81,
          92,
          73,
          76,
          73,
          75,
          65,
          71,
          89,
          83,
          86,
          77,
          80,
          70,
          85,
          84,
          83,
          76,
          75,
          73,
          61,
          72,
          85,
          80,
          71,
          79,
          69,
          95,
          97,
          90,
          83,
          85,
          84,
          85,
          85,
          79,
          73,
          70,
          75,
          59,
          92,
          72,
          92,
          87,
          96,
          94,
          88,
          88,
          91,
          89,
          80
         ],
         "xaxis": "x",
         "y": [
          96,
          93,
          91,
          88,
          87,
          74,
          74,
          70,
          69,
          66,
          60,
          43,
          90,
          83,
          83,
          79,
          79,
          78,
          77,
          73,
          68,
          67,
          58,
          54,
          53,
          99,
          98,
          94,
          93,
          89,
          83,
          80,
          76,
          76,
          70,
          69,
          67,
          62,
          54,
          45,
          96,
          92,
          84,
          82,
          79,
          77,
          76,
          68,
          63,
          57,
          24,
          94,
          87,
          82,
          80,
          80,
          80,
          78,
          78,
          77,
          76,
          69,
          66,
          65,
          64,
          50,
          96,
          90,
          88,
          85,
          83,
          78,
          77,
          75,
          70,
          69,
          67,
          63,
          62,
          58,
          93,
          92,
          86,
          86,
          84,
          81,
          81,
          79,
          79,
          78,
          74,
          74,
          71,
          70,
          70,
          70,
          68,
          56,
          55,
          48,
          99,
          95,
          92,
          88,
          83,
          81,
          81,
          77,
          70,
          69,
          68,
          65,
          43,
          88,
          55,
          94,
          77,
          95,
          90,
          85,
          84,
          87,
          89,
          72
         ],
         "yaxis": "y"
        },
        {
         "hovertemplate": "<b>%{hovertext}</b><br><br>Played on=3DS<br>Reviewscore=%{x}<br>Rating=%{y}<extra></extra>",
         "hovertext": [
          "Pokemon Sun",
          "Pokemon Omega Ruby",
          "Pokemon Y",
          "Pokemon Black 2",
          "New Super Mario Bros. 2",
          "Mario Kart 7",
          "The Legend of Zelda: Ocarina of Time"
         ],
         "legendgroup": "3DS",
         "marker": {
          "color": "#FF6692",
          "symbol": "circle"
         },
         "mode": "markers",
         "name": "3DS",
         "orientation": "v",
         "showlegend": true,
         "type": "scatter",
         "x": [
          87,
          83,
          86,
          80,
          78,
          85,
          99
         ],
         "xaxis": "x",
         "y": [
          83,
          78,
          79,
          84,
          65,
          85,
          91
         ],
         "yaxis": "y"
        },
        {
         "hovertemplate": "<b>%{hovertext}</b><br><br>Played on=Vita<br>Reviewscore=%{x}<br>Rating=%{y}<extra></extra>",
         "hovertext": [
          "Tearaway",
          "Guacamelee!",
          "Fifa 14 Legacy Edition",
          "Sonic & All Stars Racing Transformed",
          "Uncharted Golden Abyss"
         ],
         "legendgroup": "Vita",
         "marker": {
          "color": "#B6E880",
          "symbol": "circle"
         },
         "mode": "markers",
         "name": "Vita",
         "orientation": "v",
         "showlegend": true,
         "type": "scatter",
         "x": [
          87,
          83,
          38,
          75,
          80
         ],
         "xaxis": "x",
         "y": [
          85,
          75,
          37,
          63,
          72
         ],
         "yaxis": "y"
        },
        {
         "hovertemplate": "<b>%{hovertext}</b><br><br>Played on=X360<br>Reviewscore=%{x}<br>Rating=%{y}<extra></extra>",
         "hovertext": [
          "Borderlands 2",
          "Fifa 13",
          "Forza 4",
          "Fifa 12",
          "Grand Theft Auto IV",
          "Castlevania Symphony of the Night"
         ],
         "legendgroup": "X360",
         "marker": {
          "color": "#FF97FF",
          "symbol": "circle"
         },
         "mode": "markers",
         "name": "X360",
         "orientation": "v",
         "showlegend": true,
         "type": "scatter",
         "x": [
          89,
          90,
          91,
          90,
          98,
          93
         ],
         "xaxis": "x",
         "y": [
          88,
          78,
          90,
          80,
          70,
          74
         ],
         "yaxis": "y"
        },
        {
         "hovertemplate": "<b>%{hovertext}</b><br><br>Played on=PS3<br>Reviewscore=%{x}<br>Rating=%{y}<extra></extra>",
         "hovertext": [
          "Uncharted 3 Drake's Deception",
          "Dragon Age 2",
          "Call of Duty Modern Warfare 3",
          "Assassin's Creed Revelations",
          "F1 2011",
          "Skyrim",
          "Assassin's Creed Brotherhood",
          "Call of Duty Black Ops",
          "Fifa 11",
          "F1 2010",
          "Need for Speed Hot Pursuit",
          "Call of Duty Modern Warfare 2",
          "Dragon Age Origins",
          "Burnout Paradise"
         ],
         "legendgroup": "PS3",
         "marker": {
          "color": "#FECB52",
          "symbol": "circle"
         },
         "mode": "markers",
         "name": "PS3",
         "orientation": "v",
         "showlegend": true,
         "type": "scatter",
         "x": [
          92,
          79,
          89,
          80,
          84,
          94,
          90,
          88,
          88,
          84,
          88,
          94,
          91,
          88
         ],
         "xaxis": "x",
         "y": [
          91,
          86,
          84,
          83,
          80,
          69,
          92,
          89,
          82,
          79,
          75,
          91,
          85,
          57
         ],
         "yaxis": "y"
        },
        {
         "hovertemplate": "<b>%{hovertext}</b><br><br>Played on=Wii<br>Reviewscore=%{x}<br>Rating=%{y}<extra></extra>",
         "hovertext": [
          "Super Mario Galaxy 2",
          "New Super Mario Bros. Wii",
          "F1 2009",
          "Super Smash Bros. Brawl",
          "Mario Kart Wii",
          "Wii Fit",
          "Animal Crossing City Folk",
          "Mario & Sonic at the Olympic Games",
          "Super Mario Galaxy",
          "Wii Sports",
          "Mario Strikers Charged Football",
          "Mario Party 8"
         ],
         "legendgroup": "Wii",
         "marker": {
          "color": "#636efa",
          "symbol": "circle"
         },
         "mode": "markers",
         "name": "Wii",
         "orientation": "v",
         "showlegend": true,
         "type": "scatter",
         "x": [
          97,
          87,
          69,
          93,
          82,
          80,
          73,
          67,
          97,
          76,
          79,
          62
         ],
         "xaxis": "x",
         "y": [
          97,
          71,
          68,
          91,
          88,
          72,
          62,
          61,
          97,
          75,
          75,
          48
         ],
         "yaxis": "y"
        },
        {
         "hovertemplate": "<b>%{hovertext}</b><br><br>Played on=DS<br>Reviewscore=%{x}<br>Rating=%{y}<extra></extra>",
         "hovertext": [
          "Pokemon White",
          "Dragon Quest IX",
          "Pokemon SoulSilver",
          "Mario & Sonic at the Winter Olympic Games",
          "Pokemon Mystery Dunegon Explorers of Time",
          "Pokemon Diamond",
          "Brain Training",
          "Mario Kart DS",
          "Nintendogs"
         ],
         "legendgroup": "DS",
         "marker": {
          "color": "#EF553B",
          "symbol": "circle"
         },
         "mode": "markers",
         "name": "DS",
         "orientation": "v",
         "showlegend": true,
         "type": "scatter",
         "x": [
          87,
          87,
          87,
          72,
          60,
          85,
          77,
          91,
          83
         ],
         "xaxis": "x",
         "y": [
          87,
          78,
          91,
          64,
          68,
          85,
          71,
          92,
          72
         ],
         "yaxis": "y"
        },
        {
         "hovertemplate": "<b>%{hovertext}</b><br><br>Played on=PSP<br>Reviewscore=%{x}<br>Rating=%{y}<extra></extra>",
         "hovertext": [
          "2010 FIFA World Cup South Africa",
          "Grand Theft Auto Vice City Stories"
         ],
         "legendgroup": "PSP",
         "marker": {
          "color": "#00cc96",
          "symbol": "circle"
         },
         "mode": "markers",
         "name": "PSP",
         "orientation": "v",
         "showlegend": true,
         "type": "scatter",
         "x": [
          82,
          86
         ],
         "xaxis": "x",
         "y": [
          73,
          81
         ],
         "yaxis": "y"
        },
        {
         "hovertemplate": "<b>%{hovertext}</b><br><br>Played on=PS2<br>Reviewscore=%{x}<br>Rating=%{y}<extra></extra>",
         "hovertext": [
          "Lego Star Wars II: The Original Trilogy",
          "Fifa 07",
          "Fifa Street 2",
          "Buzz! Junior Jungle Party",
          "Lego Star Wars: The Video Game",
          "Grand Theft Auto San Andreas",
          "The Simpsons Hit & Run",
          "Crash Bandicoot The Wrath of Cortex"
         ],
         "legendgroup": "PS2",
         "marker": {
          "color": "#ab63fa",
          "symbol": "circle"
         },
         "mode": "markers",
         "name": "PS2",
         "orientation": "v",
         "showlegend": true,
         "type": "scatter",
         "x": [
          84,
          82,
          59,
          70,
          78,
          95,
          78,
          66
         ],
         "xaxis": "x",
         "y": [
          83,
          79,
          63,
          62,
          81,
          91,
          72,
          62
         ],
         "yaxis": "y"
        },
        {
         "hovertemplate": "<b>%{hovertext}</b><br><br>Played on=GBA<br>Reviewscore=%{x}<br>Rating=%{y}<extra></extra>",
         "hovertext": [
          "Fifa 06 Game Boy Advance",
          "Finding Nemo"
         ],
         "legendgroup": "GBA",
         "marker": {
          "color": "#FFA15A",
          "symbol": "circle"
         },
         "mode": "markers",
         "name": "GBA",
         "orientation": "v",
         "showlegend": true,
         "type": "scatter",
         "x": [
          49,
          63
         ],
         "xaxis": "x",
         "y": [
          42,
          53
         ],
         "yaxis": "y"
        },
        {
         "hovertemplate": "<b>%{hovertext}</b><br><br>Played on=PS<br>Reviewscore=%{x}<br>Rating=%{y}<extra></extra>",
         "hovertext": [
          "Gran Turismo 2"
         ],
         "legendgroup": "PS",
         "marker": {
          "color": "#19d3f3",
          "symbol": "circle"
         },
         "mode": "markers",
         "name": "PS",
         "orientation": "v",
         "showlegend": true,
         "type": "scatter",
         "x": [
          93
         ],
         "xaxis": "x",
         "y": [
          89
         ],
         "yaxis": "y"
        },
        {
         "hovertemplate": "<b>%{hovertext}</b><br><br>Played on=GB<br>Reviewscore=%{x}<br>Rating=%{y}<extra></extra>",
         "hovertext": [
          "Tetris"
         ],
         "legendgroup": "GB",
         "marker": {
          "color": "#FF6692",
          "symbol": "circle"
         },
         "mode": "markers",
         "name": "GB",
         "orientation": "v",
         "showlegend": true,
         "type": "scatter",
         "x": [
          90
         ],
         "xaxis": "x",
         "y": [
          90
         ],
         "yaxis": "y"
        }
       ],
       "layout": {
        "legend": {
         "title": {
          "text": "Played on"
         },
         "tracegroupgap": 0
        },
        "margin": {
         "t": 60
        },
        "template": {
         "data": {
          "bar": [
           {
            "error_x": {
             "color": "#2a3f5f"
            },
            "error_y": {
             "color": "#2a3f5f"
            },
            "marker": {
             "line": {
              "color": "#E5ECF6",
              "width": 0.5
             },
             "pattern": {
              "fillmode": "overlay",
              "size": 10,
              "solidity": 0.2
             }
            },
            "type": "bar"
           }
          ],
          "barpolar": [
           {
            "marker": {
             "line": {
              "color": "#E5ECF6",
              "width": 0.5
             },
             "pattern": {
              "fillmode": "overlay",
              "size": 10,
              "solidity": 0.2
             }
            },
            "type": "barpolar"
           }
          ],
          "carpet": [
           {
            "aaxis": {
             "endlinecolor": "#2a3f5f",
             "gridcolor": "white",
             "linecolor": "white",
             "minorgridcolor": "white",
             "startlinecolor": "#2a3f5f"
            },
            "baxis": {
             "endlinecolor": "#2a3f5f",
             "gridcolor": "white",
             "linecolor": "white",
             "minorgridcolor": "white",
             "startlinecolor": "#2a3f5f"
            },
            "type": "carpet"
           }
          ],
          "choropleth": [
           {
            "colorbar": {
             "outlinewidth": 0,
             "ticks": ""
            },
            "type": "choropleth"
           }
          ],
          "contour": [
           {
            "colorbar": {
             "outlinewidth": 0,
             "ticks": ""
            },
            "colorscale": [
             [
              0,
              "#0d0887"
             ],
             [
              0.1111111111111111,
              "#46039f"
             ],
             [
              0.2222222222222222,
              "#7201a8"
             ],
             [
              0.3333333333333333,
              "#9c179e"
             ],
             [
              0.4444444444444444,
              "#bd3786"
             ],
             [
              0.5555555555555556,
              "#d8576b"
             ],
             [
              0.6666666666666666,
              "#ed7953"
             ],
             [
              0.7777777777777778,
              "#fb9f3a"
             ],
             [
              0.8888888888888888,
              "#fdca26"
             ],
             [
              1,
              "#f0f921"
             ]
            ],
            "type": "contour"
           }
          ],
          "contourcarpet": [
           {
            "colorbar": {
             "outlinewidth": 0,
             "ticks": ""
            },
            "type": "contourcarpet"
           }
          ],
          "heatmap": [
           {
            "colorbar": {
             "outlinewidth": 0,
             "ticks": ""
            },
            "colorscale": [
             [
              0,
              "#0d0887"
             ],
             [
              0.1111111111111111,
              "#46039f"
             ],
             [
              0.2222222222222222,
              "#7201a8"
             ],
             [
              0.3333333333333333,
              "#9c179e"
             ],
             [
              0.4444444444444444,
              "#bd3786"
             ],
             [
              0.5555555555555556,
              "#d8576b"
             ],
             [
              0.6666666666666666,
              "#ed7953"
             ],
             [
              0.7777777777777778,
              "#fb9f3a"
             ],
             [
              0.8888888888888888,
              "#fdca26"
             ],
             [
              1,
              "#f0f921"
             ]
            ],
            "type": "heatmap"
           }
          ],
          "heatmapgl": [
           {
            "colorbar": {
             "outlinewidth": 0,
             "ticks": ""
            },
            "colorscale": [
             [
              0,
              "#0d0887"
             ],
             [
              0.1111111111111111,
              "#46039f"
             ],
             [
              0.2222222222222222,
              "#7201a8"
             ],
             [
              0.3333333333333333,
              "#9c179e"
             ],
             [
              0.4444444444444444,
              "#bd3786"
             ],
             [
              0.5555555555555556,
              "#d8576b"
             ],
             [
              0.6666666666666666,
              "#ed7953"
             ],
             [
              0.7777777777777778,
              "#fb9f3a"
             ],
             [
              0.8888888888888888,
              "#fdca26"
             ],
             [
              1,
              "#f0f921"
             ]
            ],
            "type": "heatmapgl"
           }
          ],
          "histogram": [
           {
            "marker": {
             "pattern": {
              "fillmode": "overlay",
              "size": 10,
              "solidity": 0.2
             }
            },
            "type": "histogram"
           }
          ],
          "histogram2d": [
           {
            "colorbar": {
             "outlinewidth": 0,
             "ticks": ""
            },
            "colorscale": [
             [
              0,
              "#0d0887"
             ],
             [
              0.1111111111111111,
              "#46039f"
             ],
             [
              0.2222222222222222,
              "#7201a8"
             ],
             [
              0.3333333333333333,
              "#9c179e"
             ],
             [
              0.4444444444444444,
              "#bd3786"
             ],
             [
              0.5555555555555556,
              "#d8576b"
             ],
             [
              0.6666666666666666,
              "#ed7953"
             ],
             [
              0.7777777777777778,
              "#fb9f3a"
             ],
             [
              0.8888888888888888,
              "#fdca26"
             ],
             [
              1,
              "#f0f921"
             ]
            ],
            "type": "histogram2d"
           }
          ],
          "histogram2dcontour": [
           {
            "colorbar": {
             "outlinewidth": 0,
             "ticks": ""
            },
            "colorscale": [
             [
              0,
              "#0d0887"
             ],
             [
              0.1111111111111111,
              "#46039f"
             ],
             [
              0.2222222222222222,
              "#7201a8"
             ],
             [
              0.3333333333333333,
              "#9c179e"
             ],
             [
              0.4444444444444444,
              "#bd3786"
             ],
             [
              0.5555555555555556,
              "#d8576b"
             ],
             [
              0.6666666666666666,
              "#ed7953"
             ],
             [
              0.7777777777777778,
              "#fb9f3a"
             ],
             [
              0.8888888888888888,
              "#fdca26"
             ],
             [
              1,
              "#f0f921"
             ]
            ],
            "type": "histogram2dcontour"
           }
          ],
          "mesh3d": [
           {
            "colorbar": {
             "outlinewidth": 0,
             "ticks": ""
            },
            "type": "mesh3d"
           }
          ],
          "parcoords": [
           {
            "line": {
             "colorbar": {
              "outlinewidth": 0,
              "ticks": ""
             }
            },
            "type": "parcoords"
           }
          ],
          "pie": [
           {
            "automargin": true,
            "type": "pie"
           }
          ],
          "scatter": [
           {
            "fillpattern": {
             "fillmode": "overlay",
             "size": 10,
             "solidity": 0.2
            },
            "type": "scatter"
           }
          ],
          "scatter3d": [
           {
            "line": {
             "colorbar": {
              "outlinewidth": 0,
              "ticks": ""
             }
            },
            "marker": {
             "colorbar": {
              "outlinewidth": 0,
              "ticks": ""
             }
            },
            "type": "scatter3d"
           }
          ],
          "scattercarpet": [
           {
            "marker": {
             "colorbar": {
              "outlinewidth": 0,
              "ticks": ""
             }
            },
            "type": "scattercarpet"
           }
          ],
          "scattergeo": [
           {
            "marker": {
             "colorbar": {
              "outlinewidth": 0,
              "ticks": ""
             }
            },
            "type": "scattergeo"
           }
          ],
          "scattergl": [
           {
            "marker": {
             "colorbar": {
              "outlinewidth": 0,
              "ticks": ""
             }
            },
            "type": "scattergl"
           }
          ],
          "scattermapbox": [
           {
            "marker": {
             "colorbar": {
              "outlinewidth": 0,
              "ticks": ""
             }
            },
            "type": "scattermapbox"
           }
          ],
          "scatterpolar": [
           {
            "marker": {
             "colorbar": {
              "outlinewidth": 0,
              "ticks": ""
             }
            },
            "type": "scatterpolar"
           }
          ],
          "scatterpolargl": [
           {
            "marker": {
             "colorbar": {
              "outlinewidth": 0,
              "ticks": ""
             }
            },
            "type": "scatterpolargl"
           }
          ],
          "scatterternary": [
           {
            "marker": {
             "colorbar": {
              "outlinewidth": 0,
              "ticks": ""
             }
            },
            "type": "scatterternary"
           }
          ],
          "surface": [
           {
            "colorbar": {
             "outlinewidth": 0,
             "ticks": ""
            },
            "colorscale": [
             [
              0,
              "#0d0887"
             ],
             [
              0.1111111111111111,
              "#46039f"
             ],
             [
              0.2222222222222222,
              "#7201a8"
             ],
             [
              0.3333333333333333,
              "#9c179e"
             ],
             [
              0.4444444444444444,
              "#bd3786"
             ],
             [
              0.5555555555555556,
              "#d8576b"
             ],
             [
              0.6666666666666666,
              "#ed7953"
             ],
             [
              0.7777777777777778,
              "#fb9f3a"
             ],
             [
              0.8888888888888888,
              "#fdca26"
             ],
             [
              1,
              "#f0f921"
             ]
            ],
            "type": "surface"
           }
          ],
          "table": [
           {
            "cells": {
             "fill": {
              "color": "#EBF0F8"
             },
             "line": {
              "color": "white"
             }
            },
            "header": {
             "fill": {
              "color": "#C8D4E3"
             },
             "line": {
              "color": "white"
             }
            },
            "type": "table"
           }
          ]
         },
         "layout": {
          "annotationdefaults": {
           "arrowcolor": "#2a3f5f",
           "arrowhead": 0,
           "arrowwidth": 1
          },
          "autotypenumbers": "strict",
          "coloraxis": {
           "colorbar": {
            "outlinewidth": 0,
            "ticks": ""
           }
          },
          "colorscale": {
           "diverging": [
            [
             0,
             "#8e0152"
            ],
            [
             0.1,
             "#c51b7d"
            ],
            [
             0.2,
             "#de77ae"
            ],
            [
             0.3,
             "#f1b6da"
            ],
            [
             0.4,
             "#fde0ef"
            ],
            [
             0.5,
             "#f7f7f7"
            ],
            [
             0.6,
             "#e6f5d0"
            ],
            [
             0.7,
             "#b8e186"
            ],
            [
             0.8,
             "#7fbc41"
            ],
            [
             0.9,
             "#4d9221"
            ],
            [
             1,
             "#276419"
            ]
           ],
           "sequential": [
            [
             0,
             "#0d0887"
            ],
            [
             0.1111111111111111,
             "#46039f"
            ],
            [
             0.2222222222222222,
             "#7201a8"
            ],
            [
             0.3333333333333333,
             "#9c179e"
            ],
            [
             0.4444444444444444,
             "#bd3786"
            ],
            [
             0.5555555555555556,
             "#d8576b"
            ],
            [
             0.6666666666666666,
             "#ed7953"
            ],
            [
             0.7777777777777778,
             "#fb9f3a"
            ],
            [
             0.8888888888888888,
             "#fdca26"
            ],
            [
             1,
             "#f0f921"
            ]
           ],
           "sequentialminus": [
            [
             0,
             "#0d0887"
            ],
            [
             0.1111111111111111,
             "#46039f"
            ],
            [
             0.2222222222222222,
             "#7201a8"
            ],
            [
             0.3333333333333333,
             "#9c179e"
            ],
            [
             0.4444444444444444,
             "#bd3786"
            ],
            [
             0.5555555555555556,
             "#d8576b"
            ],
            [
             0.6666666666666666,
             "#ed7953"
            ],
            [
             0.7777777777777778,
             "#fb9f3a"
            ],
            [
             0.8888888888888888,
             "#fdca26"
            ],
            [
             1,
             "#f0f921"
            ]
           ]
          },
          "colorway": [
           "#636efa",
           "#EF553B",
           "#00cc96",
           "#ab63fa",
           "#FFA15A",
           "#19d3f3",
           "#FF6692",
           "#B6E880",
           "#FF97FF",
           "#FECB52"
          ],
          "font": {
           "color": "#2a3f5f"
          },
          "geo": {
           "bgcolor": "white",
           "lakecolor": "white",
           "landcolor": "#E5ECF6",
           "showlakes": true,
           "showland": true,
           "subunitcolor": "white"
          },
          "hoverlabel": {
           "align": "left"
          },
          "hovermode": "closest",
          "mapbox": {
           "style": "light"
          },
          "paper_bgcolor": "white",
          "plot_bgcolor": "#E5ECF6",
          "polar": {
           "angularaxis": {
            "gridcolor": "white",
            "linecolor": "white",
            "ticks": ""
           },
           "bgcolor": "#E5ECF6",
           "radialaxis": {
            "gridcolor": "white",
            "linecolor": "white",
            "ticks": ""
           }
          },
          "scene": {
           "xaxis": {
            "backgroundcolor": "#E5ECF6",
            "gridcolor": "white",
            "gridwidth": 2,
            "linecolor": "white",
            "showbackground": true,
            "ticks": "",
            "zerolinecolor": "white"
           },
           "yaxis": {
            "backgroundcolor": "#E5ECF6",
            "gridcolor": "white",
            "gridwidth": 2,
            "linecolor": "white",
            "showbackground": true,
            "ticks": "",
            "zerolinecolor": "white"
           },
           "zaxis": {
            "backgroundcolor": "#E5ECF6",
            "gridcolor": "white",
            "gridwidth": 2,
            "linecolor": "white",
            "showbackground": true,
            "ticks": "",
            "zerolinecolor": "white"
           }
          },
          "shapedefaults": {
           "line": {
            "color": "#2a3f5f"
           }
          },
          "ternary": {
           "aaxis": {
            "gridcolor": "white",
            "linecolor": "white",
            "ticks": ""
           },
           "baxis": {
            "gridcolor": "white",
            "linecolor": "white",
            "ticks": ""
           },
           "bgcolor": "#E5ECF6",
           "caxis": {
            "gridcolor": "white",
            "linecolor": "white",
            "ticks": ""
           }
          },
          "title": {
           "x": 0.05
          },
          "xaxis": {
           "automargin": true,
           "gridcolor": "white",
           "linecolor": "white",
           "ticks": "",
           "title": {
            "standoff": 15
           },
           "zerolinecolor": "white",
           "zerolinewidth": 2
          },
          "yaxis": {
           "automargin": true,
           "gridcolor": "white",
           "linecolor": "white",
           "ticks": "",
           "title": {
            "standoff": 15
           },
           "zerolinecolor": "white",
           "zerolinewidth": 2
          }
         }
        },
        "xaxis": {
         "anchor": "y",
         "domain": [
          0,
          1
         ],
         "title": {
          "text": "Reviewscore"
         }
        },
        "yaxis": {
         "anchor": "x",
         "domain": [
          0,
          1
         ],
         "title": {
          "text": "Rating"
         }
        }
       }
      },
      "text/html": [
       "<div>                            <div id=\"1b158007-e016-4f63-a68c-c32d744318e6\" class=\"plotly-graph-div\" style=\"height:525px; width:100%;\"></div>            <script type=\"text/javascript\">                require([\"plotly\"], function(Plotly) {                    window.PLOTLYENV=window.PLOTLYENV || {};                                    if (document.getElementById(\"1b158007-e016-4f63-a68c-c32d744318e6\")) {                    Plotly.newPlot(                        \"1b158007-e016-4f63-a68c-c32d744318e6\",                        [{\"hovertemplate\":\"<b>%{hovertext}</b><br><br>Played on=Switch<br>Reviewscore=%{x}<br>Rating=%{y}<extra></extra>\",\"hovertext\":[\"The Legend of Zelda: Tears of the Kingdom\",\"Super Mario Bros. Wonder\",\"Pikmin 4\",\"F-Zero 99\",\"Splatoon 3\",\"Pokemon Legends Arceus\",\"Kirby and the Forgotten Land\",\"Freshly Frosted\",\"Pokemon Violet\",\"Metroid Dread\",\"Monster Hunter Rise\",\"Hot Wheels Unleashed\",\"Mario Golf: Super Rush\",\"Cruis'n Blast\",\"Animal Crossing New Horizons\",\"Hyrule Warriors Age of Calamity\",\"Minecraft Dungeons\",\"Astral Chain\",\"Luigi's Mansion 3\",\"Ring Fit Adventure\",\"The Legend of Zelda: Link's Awakening\",\"Cat Quest II\",\"Wargroove\",\"Pokemon Sword\",\"Celeste\",\"Super Smash Bros. Ultimate\",\"Gris\",\"Pokemon Let's Go Pikachu\",\"Mario Tennis Aces\",\"Octopath Traveller\",\"The Legend of Zelda: Breath of the Wild\",\"Super Mario Odyssey\",\"Ys VIII Lacrimosa of Dana\",\"Golf Story\",\"Mario + Rabbids Kingdom Battle\",\"Cat Quest\",\"Mario Kart 8\",\"Bayonetta 2\",\"Grid Autosport\",\"Super Mario 3D World\",\"Xenoblade Chronicles\",\"The Legend of Zelda: Skyward Sword\",\"Bayonetta\",\"Mario & Luigi Superstar Saga\",\"Metroid Prime\",\"Metroid Fusion\",\"Banjo-Kazooie\",\"Super Mario 64\",\"Donkey Kong Country 2: Diddy Kong's Quest\",\"Super Metroid\",\"Donkey Kong Country\",\"The Legend of Zelda: A Link to the Past\",\"Super Mario World\"],\"legendgroup\":\"Switch\",\"marker\":{\"color\":\"#636efa\",\"symbol\":\"circle\"},\"mode\":\"markers\",\"name\":\"Switch\",\"orientation\":\"v\",\"showlegend\":true,\"x\":[96,92,88,80,83,84,84,89,72,87,88,74,71,73,90,80,72,87,86,83,87,76,83,80,91,93,84,81,78,83,97,97,85,78,85,72,88,91,78,93,92,93,90,90,97,92,92,96,90,96,93,95,94],\"xaxis\":\"x\",\"y\":[100,84,80,75,84,82,80,76,74,93,81,72,67,47,87,72,62,88,82,77,73,71,69,59,94,90,77,75,65,53,100,98,90,84,80,70,94,90,65,88,78,84,69,83,99,90,85,96,90,93,87,80,91],\"yaxis\":\"y\",\"type\":\"scatter\"},{\"hovertemplate\":\"<b>%{hovertext}</b><br><br>Played on=XBS<br>Reviewscore=%{x}<br>Rating=%{y}<extra></extra>\",\"hovertext\":[\"Hi-Fi Rush\",\"Cocoon\",\"Lies of P\",\"Armored Core VI: Fires of Rubicon\",\"The Crew Motorfest\",\"Starfield\",\"Wild Hearts\",\"Jusant\",\"Assassin's Creed Mirage\",\"Wo Long Fallen Dynasty\",\"Forza Motorsport (2023)\",\"Exoprimal\",\"Elden Ring\",\"Nobody Saves The World\",\"Chained Echoes\",\"High on Life\",\"Grid Legends\",\"Trek to Yomi\",\"Windjammers 2\",\"Tunic\",\"Need for Speed Unbound\",\"A Plague Tale: Requiem\",\"CrossfireX\",\"Forza Horizon 5\",\"Psychonauts 2\",\"Unsighted\",\"Halo Infinite\",\"Curse of the Dead Gods\",\"Scarlet Nexus\",\"Dandy Ace\",\"Monster Sanctuary\",\"Streets of Rage 4\",\"Gears 5\",\"A Plague Tale: Innocence\",\"The Outer Worlds\",\"Outer Wilds\",\"Dead Cells\",\"Far Cry 5\",\"Prey\",\"Forza Motorsport 7\",\"Gears of War 4\",\"Halo 5: Guardians\",\"Mass Effect 3\",\"Halo 4\",\"Mass Effect 2\",\"Mass Effect\",\"Gears of War\"],\"legendgroup\":\"XBS\",\"marker\":{\"color\":\"#EF553B\",\"symbol\":\"circle\"},\"mode\":\"markers\",\"name\":\"XBS\",\"orientation\":\"v\",\"showlegend\":true,\"x\":[89,88,82,85,76,86,79,82,77,82,84,68,96,80,90,69,75,72,77,86,75,84,42,92,89,85,87,81,79,79,80,84,85,82,85,86,89,82,81,85,84,84,93,87,96,91,94],\"xaxis\":\"x\",\"y\":[97,94,87,82,78,76,73,71,71,64,52,44,97,78,77,72,71,69,69,67,66,63,40,92,89,85,81,67,60,54,82,77,84,76,59,58,86,73,60,82,80,83,94,82,95,90,85],\"yaxis\":\"y\",\"type\":\"scatter\"},{\"hovertemplate\":\"<b>%{hovertext}</b><br><br>Played on=PS5<br>Reviewscore=%{x}<br>Rating=%{y}<extra></extra>\",\"hovertext\":[\"Marvel's Spider-Man 2\",\"Final Fantasy XVI\",\"Star Wars Jedi Survivor\",\"Tchia\",\"God of War Ragnar\\u00f6k\",\"Horizon Forbidden West\",\"Gran Turismo 7\",\"OlliOlli World\",\"Stray\",\"Overwatch 2\",\"Ghostwire Tokyo\",\"Cult of the Lamb\",\"Lego Star Wars The Skywalker Saga\",\"Arcadeggedon\",\"Ratchet & Clank: Rift Apart\",\"Guardians of the Galaxy\",\"Kena: Bridge of Spirits\",\"Returnal\",\"Ys IX: Monstrum Nox\",\"Deathloop\",\"Tribes of Midgard\",\"Destruction Allstars\",\"Demon's Souls (Remake)\",\"Astro's Playroom\",\"Dirt 5\",\"Immortals Fenyx Rising\",\"Sackboy: A Big Adventure\",\"WRC 9\",\"Call of Duty Black Ops Cold War\",\"Bugsnax\",\"Cyberpunk 2077\",\"Trials Rising\",\"Risk of Rain 2\",\"Monster Hunter World\",\"Wreckfest\",\"Persona 5\",\"Nioh\",\"Inside\",\"Battlefield 1\",\"The Last Guardian\",\"Trials Fusion\",\"Pure Pool\",\"Bioshock Infinite\",\"Batman Arkham City\",\"Bioshock 2\",\"Batman Arkham Asylum\",\"Bioshock\",\"God of War II\",\"God of War (2005)\"],\"legendgroup\":\"PS5\",\"marker\":{\"color\":\"#00cc96\",\"symbol\":\"circle\"},\"mode\":\"markers\",\"name\":\"PS5\",\"orientation\":\"v\",\"showlegend\":true,\"x\":[90,88,84,78,94,88,87,86,84,77,77,84,82,74,88,82,82,86,80,88,75,62,92,84,82,79,81,80,75,75,76,80,86,89,80,94,88,91,87,81,79,73,94,94,88,92,96,93,94],\"xaxis\":\"x\",\"y\":[96,92,86,57,96,91,89,86,86,76,73,72,59,59,89,86,84,84,83,82,72,55,90,88,80,75,75,74,74,73,68,75,74,76,74,87,65,81,71,64,76,51,95,71,81,89,93,80,93],\"yaxis\":\"y\",\"type\":\"scatter\"},{\"hovertemplate\":\"<b>%{hovertext}</b><br><br>Played on=PC<br>Reviewscore=%{x}<br>Rating=%{y}<extra></extra>\",\"hovertext\":[\"Baldur's Gate 3\",\"Aces and Adventures\",\"Cassette Beasts\",\"Diablo 4\",\"Cities Skylines 2\",\"Counter-Strike 2\",\"20 Minutes Till Dawn\",\"Minecraft Legends\",\"Vampire Survivors\",\"Rogue Legacy 2\",\"Neon White\",\"Citizen Sleeper\",\"PlateUp!\",\"Two Point Campus\",\"Teenage Mutant Ninja Turtles: Shredder's Revenge\",\"Rollerdrome\",\"Warpips\",\"TemTem\",\"You Suck At Parking\",\"Spacelines from the Far Out\",\"Lost Ark\",\"Golfie\",\"Death's Door\",\"Loop Hero\",\"Wildermyth\",\"Buck Up and Drive!\",\"Age of Empires IV\",\"Mini Motorways\",\"The Riftbreaker\",\"Boyfriend Dungeon\",\"The Ascent\",\"Back 4 Blood\",\"F.I.S.T. Forged In Shadow Torch\",\"Sunlight\",\"Hades\",\"Ori and The Will of the Wisps\",\"Spiritfarer\",\"Deep Rock Galactic\",\"Golf With Your Friends\",\"Darksburg\",\"Embr\",\"A Short Hike\",\"Devil May Cry 5\",\"Darksiders Genesis\",\"The Jackbox Party Pack 6\",\"Dicey Dungeons\",\"Forza Horizon 4\",\"Crosscode\",\"Warhammer Vermentide 2\",\"Northgard\",\"Parkitect\",\"Dragon Quest XI\",\"Sea of Thieves\",\"Surviving Mars\",\"For The King\",\"Hollow Knight\",\"Divinity Original Sin 2\",\"Pyre\",\"Luna\",\"Forza Horizon 3\",\"Civilization VI\",\"Hearts of Iron IV\",\"Stellaris\",\"Ultimate Chicken Horse\",\"Hyper Light Drifter\",\"Abzu\",\"Motorsport Manager\",\"Clustertruck\",\"Kingdom New Lands\",\"Worms W.M.D\",\"Human Fall Flat\",\"Shoppe Keep\",\"Youtubers Life\",\"Undertale\",\"Cities Skylines\",\"Ori and The Blind Forest\",\"Prison Architect\",\"Crypt of the Necrodancer\",\"Big Pharma\",\"Clicker Heroes\",\"Dungeon of the Endless\",\"Football Manager 2015\",\"Endless Legend\",\"Civilization Beyond Earth\",\"Banished\",\"Europa Universalis IV\",\"Path of Exile\",\"Football Manager 2014\",\"Warframe\",\"Democracy 3\",\"Guild Wars 2\",\"Diablo 3\",\"Football Manager 2013\",\"Call of Duty Black Ops II\",\"F1 2012\",\"Torchlight 2\",\"XCOM: Enemy Unknown\",\"Spec Ops The Line\",\"Game Dev Tycoon\",\"Factorio\",\"Awesomenauts\",\"Warlock - Master of the Arcane\",\"Portal 2\",\"Minecraft\",\"Terraria\",\"Football Manager 2012\",\"Halo Reach\",\"Civilization V\",\"Ys Seven\",\"Football Manager 2010\",\"Torchlight\",\"Halo 3 ODST\",\"Football Manager 2009\",\"Halo 3\",\"Football Manager 2008\",\"Team Fortress 2\",\"Football Manager 2007\",\"Psychonauts\",\"Halo 2\",\"Star Wars: Knights of the Old Republic\",\"Rollercoaster Tycoon 2\",\"Halo Combat Evolved\",\"Final Fantasy X\",\"Diablo 2\",\"Rollercoaster Tycoon\"],\"legendgroup\":\"PC\",\"marker\":{\"color\":\"#ab63fa\",\"symbol\":\"circle\"},\"mode\":\"markers\",\"name\":\"PC\",\"orientation\":\"v\",\"showlegend\":true,\"x\":[96,84,86,88,75,80,78,71,87,89,89,84,80,84,87,80,79,76,70,82,82,70,88,84,85,70,83,80,80,73,73,76,80,78,94,90,87,85,69,68,67,87,88,79,74,82,92,86,83,79,83,86,67,77,75,90,93,84,62,91,88,83,81,79,84,80,81,76,73,78,68,57,63,92,85,89,80,87,64,57,79,80,82,81,74,87,93,85,71,70,90,88,86,83,81,88,89,76,68,70,78,71,95,93,83,84,91,90,79,87,83,83,83,94,86,92,87,87,95,94,74,97,92,88,78],\"xaxis\":\"x\",\"y\":[91,85,81,79,72,70,68,49,88,87,85,84,79,79,79,79,71,69,62,58,54,52,88,77,73,71,69,68,68,67,64,59,47,32,98,89,81,76,67,63,60,89,87,72,66,66,92,85,76,74,73,67,65,63,56,94,89,76,59,93,86,75,72,72,71,70,69,68,67,65,61,51,46,92,88,77,74,73,56,51,74,73,68,64,63,84,81,77,74,52,93,88,79,79,78,78,78,73,66,66,64,61,95,86,83,78,90,89,80,83,75,72,84,89,86,82,91,90,87,76,82,92,85,61,73],\"yaxis\":\"y\",\"type\":\"scatter\"},{\"hovertemplate\":\"<b>%{hovertext}</b><br><br>Played on=Mobile<br>Reviewscore=%{x}<br>Rating=%{y}<extra></extra>\",\"hovertext\":[\"Diablo Immortal\",\"Golf Peaks\",\"Lyne\"],\"legendgroup\":\"Mobile\",\"marker\":{\"color\":\"#FFA15A\",\"symbol\":\"circle\"},\"mode\":\"markers\",\"name\":\"Mobile\",\"orientation\":\"v\",\"showlegend\":true,\"x\":[65,75,86],\"xaxis\":\"x\",\"y\":[49,68,64],\"yaxis\":\"y\",\"type\":\"scatter\"},{\"hovertemplate\":\"<b>%{hovertext}</b><br><br>Played on=PS4<br>Reviewscore=%{x}<br>Rating=%{y}<extra></extra>\",\"hovertext\":[\"The Last of Us Part II\",\"Ghost of Tsushima\",\"Final Fantasy VII Remake\",\"Marvel's Spider-Man Miles Morales\",\"F1 2020\",\"Crash Bandicoot 4: Its About Time\",\"Dreams\",\"Star Wars Squadrons\",\"Journey to the Savage Planet\",\"Fall Guys\",\"Doom Eternal\",\"Marvel's Avengers\",\"Star Wars Jedi Fallen Order\",\"F1 2019\",\"Borderlands 3\",\"Apex Legends\",\"Concrete Genie\",\"Kingdom Hearts 3\",\"Sekiro Shadows Die Twice\",\"Dirt Rally 2.0\",\"GreedFall\",\"Grid (2019)\",\"Unrailed!\",\"Need For Speed Heat\",\"Control\",\"God of War (2018)\",\"Red Dead Redemption 2\",\"Astro Bot Rescue Mission\",\"Marvel's Spider-Man\",\"Tetris Effect\",\"F1 2018\",\"Overcooked 2\",\"Call of Duty Black Ops 4\",\"Moss PSVR\",\"Fifa 19\",\"Detroit Become Human\",\"Assassin's Creed Odyssey\",\"Shadow of the Colossus (Remake)\",\"The Crew 2\",\"Farming Simulator 2019\",\"Horizon Zero Dawn\",\"Uncharted The Lost Legacy\",\"F1 2017\",\"Assassin's Creed Origins\",\"Gran Turismo Sport\",\"Call of Duty WW2\",\"WipeOut Omega Collection\",\"Nex Machina\",\"Nier Automata\",\"Middle Earth: Shadow of War\",\"Doom VFR\",\"Uncharted 4 A Thief's End\",\"Titanfall 2\",\"F1 2016\",\"Overwatch\",\"Overcooked\",\"Stardew Valley\",\"Trackmania Turbo\",\"Ratchet & Clank\",\"Call of Duty Infinite Warfare\",\"Doom (2016)\",\"Watch Dogs 2\",\"Far Cry Primal\",\"Final Fantasy XV\",\"Dragon Quest Builders\",\"VR Worlds\",\"Bloodborne\",\"Rocket League\",\"Rise of the Tomb Raider \",\"Batman Arkham Knight\",\"OlliOlli 2: Welcome to Olliwood\",\"Assassin's Creed Syndicate\",\"The Order 1886\",\"Call of Duty Black Ops III\",\"The Witcher 3\",\"Star Wars Battlefront\",\"Apotheon\",\"Just Cause 3\",\"Project Cars\",\"F1 2015\",\"Driveclub\",\"Dragon Age Inquisition\",\"Transistor\",\"Tales From the Borderlands\",\"Watch Dogs\",\"inFAMOUS Second Son\",\"Assassin's Creed Unity\",\"Far Cry 4\",\"Middle Earth Shadow of Mordor\",\"Call of Duty Advanced Warfare\",\"Destiny\",\"Borderlands The Pre-Sequel\",\"Infamous First Light\",\"The Crew\",\"Assassin's Creed Rogue\",\"Velocity 2X\",\"Sportsfriends\",\"Dead Nation: Apocalypse Edition\",\"Little Big Planet 3\",\"Game of Thrones Telltale\",\"The Last of Us\",\"Grand Theft Auto V\",\"Rayman Legends\",\"Assassin's Creed IV Black Flag\",\"Tomb Raider\",\"Resogun\",\"Fifa 14\",\"Battlefield 4\",\"Don't Starve\",\"Killzone Shadow Fall\",\"Assassin's Creed Freedom Cry\",\"War Thunder\",\"Contrast\",\"Journey\",\"DC Universe Online\",\"God of War 3\",\"Heavy Rain\",\"Uncharted 2 Among Thieves\",\"Call of Duty Modern Warfare\",\"Uncharted Drake's Fortune\",\"Crash Team Racing\",\"Crash Bandicoot 3: Warped\",\"Crash Bandicoot 2: Cortex Strikes Back\",\"Crash Bandicoot\"],\"legendgroup\":\"PS4\",\"marker\":{\"color\":\"#19d3f3\",\"symbol\":\"circle\"},\"mode\":\"markers\",\"name\":\"PS4\",\"orientation\":\"v\",\"showlegend\":true,\"x\":[93,85,88,85,88,85,90,79,76,80,89,68,85,86,80,86,77,85,90,83,75,73,75,72,84,94,97,90,87,89,84,81,85,85,81,78,85,92,64,64,89,84,86,81,75,79,85,84,89,79,70,93,87,82,91,80,89,81,85,77,85,82,76,81,70,56,92,85,86,87,85,76,63,81,92,73,76,73,75,65,71,89,83,86,77,80,70,85,84,83,76,75,73,61,72,85,80,71,79,69,95,97,90,83,85,84,85,85,79,73,70,75,59,92,72,92,87,96,94,88,88,91,89,80],\"xaxis\":\"x\",\"y\":[96,93,91,88,87,74,74,70,69,66,60,43,90,83,83,79,79,78,77,73,68,67,58,54,53,99,98,94,93,89,83,80,76,76,70,69,67,62,54,45,96,92,84,82,79,77,76,68,63,57,24,94,87,82,80,80,80,78,78,77,76,69,66,65,64,50,96,90,88,85,83,78,77,75,70,69,67,63,62,58,93,92,86,86,84,81,81,79,79,78,74,74,71,70,70,70,68,56,55,48,99,95,92,88,83,81,81,77,70,69,68,65,43,88,55,94,77,95,90,85,84,87,89,72],\"yaxis\":\"y\",\"type\":\"scatter\"},{\"hovertemplate\":\"<b>%{hovertext}</b><br><br>Played on=3DS<br>Reviewscore=%{x}<br>Rating=%{y}<extra></extra>\",\"hovertext\":[\"Pokemon Sun\",\"Pokemon Omega Ruby\",\"Pokemon Y\",\"Pokemon Black 2\",\"New Super Mario Bros. 2\",\"Mario Kart 7\",\"The Legend of Zelda: Ocarina of Time\"],\"legendgroup\":\"3DS\",\"marker\":{\"color\":\"#FF6692\",\"symbol\":\"circle\"},\"mode\":\"markers\",\"name\":\"3DS\",\"orientation\":\"v\",\"showlegend\":true,\"x\":[87,83,86,80,78,85,99],\"xaxis\":\"x\",\"y\":[83,78,79,84,65,85,91],\"yaxis\":\"y\",\"type\":\"scatter\"},{\"hovertemplate\":\"<b>%{hovertext}</b><br><br>Played on=Vita<br>Reviewscore=%{x}<br>Rating=%{y}<extra></extra>\",\"hovertext\":[\"Tearaway\",\"Guacamelee!\",\"Fifa 14 Legacy Edition\",\"Sonic & All Stars Racing Transformed\",\"Uncharted Golden Abyss\"],\"legendgroup\":\"Vita\",\"marker\":{\"color\":\"#B6E880\",\"symbol\":\"circle\"},\"mode\":\"markers\",\"name\":\"Vita\",\"orientation\":\"v\",\"showlegend\":true,\"x\":[87,83,38,75,80],\"xaxis\":\"x\",\"y\":[85,75,37,63,72],\"yaxis\":\"y\",\"type\":\"scatter\"},{\"hovertemplate\":\"<b>%{hovertext}</b><br><br>Played on=X360<br>Reviewscore=%{x}<br>Rating=%{y}<extra></extra>\",\"hovertext\":[\"Borderlands 2\",\"Fifa 13\",\"Forza 4\",\"Fifa 12\",\"Grand Theft Auto IV\",\"Castlevania Symphony of the Night\"],\"legendgroup\":\"X360\",\"marker\":{\"color\":\"#FF97FF\",\"symbol\":\"circle\"},\"mode\":\"markers\",\"name\":\"X360\",\"orientation\":\"v\",\"showlegend\":true,\"x\":[89,90,91,90,98,93],\"xaxis\":\"x\",\"y\":[88,78,90,80,70,74],\"yaxis\":\"y\",\"type\":\"scatter\"},{\"hovertemplate\":\"<b>%{hovertext}</b><br><br>Played on=PS3<br>Reviewscore=%{x}<br>Rating=%{y}<extra></extra>\",\"hovertext\":[\"Uncharted 3 Drake's Deception\",\"Dragon Age 2\",\"Call of Duty Modern Warfare 3\",\"Assassin's Creed Revelations\",\"F1 2011\",\"Skyrim\",\"Assassin's Creed Brotherhood\",\"Call of Duty Black Ops\",\"Fifa 11\",\"F1 2010\",\"Need for Speed Hot Pursuit\",\"Call of Duty Modern Warfare 2\",\"Dragon Age Origins\",\"Burnout Paradise\"],\"legendgroup\":\"PS3\",\"marker\":{\"color\":\"#FECB52\",\"symbol\":\"circle\"},\"mode\":\"markers\",\"name\":\"PS3\",\"orientation\":\"v\",\"showlegend\":true,\"x\":[92,79,89,80,84,94,90,88,88,84,88,94,91,88],\"xaxis\":\"x\",\"y\":[91,86,84,83,80,69,92,89,82,79,75,91,85,57],\"yaxis\":\"y\",\"type\":\"scatter\"},{\"hovertemplate\":\"<b>%{hovertext}</b><br><br>Played on=Wii<br>Reviewscore=%{x}<br>Rating=%{y}<extra></extra>\",\"hovertext\":[\"Super Mario Galaxy 2\",\"New Super Mario Bros. Wii\",\"F1 2009\",\"Super Smash Bros. Brawl\",\"Mario Kart Wii\",\"Wii Fit\",\"Animal Crossing City Folk\",\"Mario & Sonic at the Olympic Games\",\"Super Mario Galaxy\",\"Wii Sports\",\"Mario Strikers Charged Football\",\"Mario Party 8\"],\"legendgroup\":\"Wii\",\"marker\":{\"color\":\"#636efa\",\"symbol\":\"circle\"},\"mode\":\"markers\",\"name\":\"Wii\",\"orientation\":\"v\",\"showlegend\":true,\"x\":[97,87,69,93,82,80,73,67,97,76,79,62],\"xaxis\":\"x\",\"y\":[97,71,68,91,88,72,62,61,97,75,75,48],\"yaxis\":\"y\",\"type\":\"scatter\"},{\"hovertemplate\":\"<b>%{hovertext}</b><br><br>Played on=DS<br>Reviewscore=%{x}<br>Rating=%{y}<extra></extra>\",\"hovertext\":[\"Pokemon White\",\"Dragon Quest IX\",\"Pokemon SoulSilver\",\"Mario & Sonic at the Winter Olympic Games\",\"Pokemon Mystery Dunegon Explorers of Time\",\"Pokemon Diamond\",\"Brain Training\",\"Mario Kart DS\",\"Nintendogs\"],\"legendgroup\":\"DS\",\"marker\":{\"color\":\"#EF553B\",\"symbol\":\"circle\"},\"mode\":\"markers\",\"name\":\"DS\",\"orientation\":\"v\",\"showlegend\":true,\"x\":[87,87,87,72,60,85,77,91,83],\"xaxis\":\"x\",\"y\":[87,78,91,64,68,85,71,92,72],\"yaxis\":\"y\",\"type\":\"scatter\"},{\"hovertemplate\":\"<b>%{hovertext}</b><br><br>Played on=PSP<br>Reviewscore=%{x}<br>Rating=%{y}<extra></extra>\",\"hovertext\":[\"2010 FIFA World Cup South Africa\",\"Grand Theft Auto Vice City Stories\"],\"legendgroup\":\"PSP\",\"marker\":{\"color\":\"#00cc96\",\"symbol\":\"circle\"},\"mode\":\"markers\",\"name\":\"PSP\",\"orientation\":\"v\",\"showlegend\":true,\"x\":[82,86],\"xaxis\":\"x\",\"y\":[73,81],\"yaxis\":\"y\",\"type\":\"scatter\"},{\"hovertemplate\":\"<b>%{hovertext}</b><br><br>Played on=PS2<br>Reviewscore=%{x}<br>Rating=%{y}<extra></extra>\",\"hovertext\":[\"Lego Star Wars II: The Original Trilogy\",\"Fifa 07\",\"Fifa Street 2\",\"Buzz! Junior Jungle Party\",\"Lego Star Wars: The Video Game\",\"Grand Theft Auto San Andreas\",\"The Simpsons Hit & Run\",\"Crash Bandicoot The Wrath of Cortex\"],\"legendgroup\":\"PS2\",\"marker\":{\"color\":\"#ab63fa\",\"symbol\":\"circle\"},\"mode\":\"markers\",\"name\":\"PS2\",\"orientation\":\"v\",\"showlegend\":true,\"x\":[84,82,59,70,78,95,78,66],\"xaxis\":\"x\",\"y\":[83,79,63,62,81,91,72,62],\"yaxis\":\"y\",\"type\":\"scatter\"},{\"hovertemplate\":\"<b>%{hovertext}</b><br><br>Played on=GBA<br>Reviewscore=%{x}<br>Rating=%{y}<extra></extra>\",\"hovertext\":[\"Fifa 06 Game Boy Advance\",\"Finding Nemo\"],\"legendgroup\":\"GBA\",\"marker\":{\"color\":\"#FFA15A\",\"symbol\":\"circle\"},\"mode\":\"markers\",\"name\":\"GBA\",\"orientation\":\"v\",\"showlegend\":true,\"x\":[49,63],\"xaxis\":\"x\",\"y\":[42,53],\"yaxis\":\"y\",\"type\":\"scatter\"},{\"hovertemplate\":\"<b>%{hovertext}</b><br><br>Played on=PS<br>Reviewscore=%{x}<br>Rating=%{y}<extra></extra>\",\"hovertext\":[\"Gran Turismo 2\"],\"legendgroup\":\"PS\",\"marker\":{\"color\":\"#19d3f3\",\"symbol\":\"circle\"},\"mode\":\"markers\",\"name\":\"PS\",\"orientation\":\"v\",\"showlegend\":true,\"x\":[93],\"xaxis\":\"x\",\"y\":[89],\"yaxis\":\"y\",\"type\":\"scatter\"},{\"hovertemplate\":\"<b>%{hovertext}</b><br><br>Played on=GB<br>Reviewscore=%{x}<br>Rating=%{y}<extra></extra>\",\"hovertext\":[\"Tetris\"],\"legendgroup\":\"GB\",\"marker\":{\"color\":\"#FF6692\",\"symbol\":\"circle\"},\"mode\":\"markers\",\"name\":\"GB\",\"orientation\":\"v\",\"showlegend\":true,\"x\":[90],\"xaxis\":\"x\",\"y\":[90],\"yaxis\":\"y\",\"type\":\"scatter\"}],                        {\"template\":{\"data\":{\"histogram2dcontour\":[{\"type\":\"histogram2dcontour\",\"colorbar\":{\"outlinewidth\":0,\"ticks\":\"\"},\"colorscale\":[[0.0,\"#0d0887\"],[0.1111111111111111,\"#46039f\"],[0.2222222222222222,\"#7201a8\"],[0.3333333333333333,\"#9c179e\"],[0.4444444444444444,\"#bd3786\"],[0.5555555555555556,\"#d8576b\"],[0.6666666666666666,\"#ed7953\"],[0.7777777777777778,\"#fb9f3a\"],[0.8888888888888888,\"#fdca26\"],[1.0,\"#f0f921\"]]}],\"choropleth\":[{\"type\":\"choropleth\",\"colorbar\":{\"outlinewidth\":0,\"ticks\":\"\"}}],\"histogram2d\":[{\"type\":\"histogram2d\",\"colorbar\":{\"outlinewidth\":0,\"ticks\":\"\"},\"colorscale\":[[0.0,\"#0d0887\"],[0.1111111111111111,\"#46039f\"],[0.2222222222222222,\"#7201a8\"],[0.3333333333333333,\"#9c179e\"],[0.4444444444444444,\"#bd3786\"],[0.5555555555555556,\"#d8576b\"],[0.6666666666666666,\"#ed7953\"],[0.7777777777777778,\"#fb9f3a\"],[0.8888888888888888,\"#fdca26\"],[1.0,\"#f0f921\"]]}],\"heatmap\":[{\"type\":\"heatmap\",\"colorbar\":{\"outlinewidth\":0,\"ticks\":\"\"},\"colorscale\":[[0.0,\"#0d0887\"],[0.1111111111111111,\"#46039f\"],[0.2222222222222222,\"#7201a8\"],[0.3333333333333333,\"#9c179e\"],[0.4444444444444444,\"#bd3786\"],[0.5555555555555556,\"#d8576b\"],[0.6666666666666666,\"#ed7953\"],[0.7777777777777778,\"#fb9f3a\"],[0.8888888888888888,\"#fdca26\"],[1.0,\"#f0f921\"]]}],\"heatmapgl\":[{\"type\":\"heatmapgl\",\"colorbar\":{\"outlinewidth\":0,\"ticks\":\"\"},\"colorscale\":[[0.0,\"#0d0887\"],[0.1111111111111111,\"#46039f\"],[0.2222222222222222,\"#7201a8\"],[0.3333333333333333,\"#9c179e\"],[0.4444444444444444,\"#bd3786\"],[0.5555555555555556,\"#d8576b\"],[0.6666666666666666,\"#ed7953\"],[0.7777777777777778,\"#fb9f3a\"],[0.8888888888888888,\"#fdca26\"],[1.0,\"#f0f921\"]]}],\"contourcarpet\":[{\"type\":\"contourcarpet\",\"colorbar\":{\"outlinewidth\":0,\"ticks\":\"\"}}],\"contour\":[{\"type\":\"contour\",\"colorbar\":{\"outlinewidth\":0,\"ticks\":\"\"},\"colorscale\":[[0.0,\"#0d0887\"],[0.1111111111111111,\"#46039f\"],[0.2222222222222222,\"#7201a8\"],[0.3333333333333333,\"#9c179e\"],[0.4444444444444444,\"#bd3786\"],[0.5555555555555556,\"#d8576b\"],[0.6666666666666666,\"#ed7953\"],[0.7777777777777778,\"#fb9f3a\"],[0.8888888888888888,\"#fdca26\"],[1.0,\"#f0f921\"]]}],\"surface\":[{\"type\":\"surface\",\"colorbar\":{\"outlinewidth\":0,\"ticks\":\"\"},\"colorscale\":[[0.0,\"#0d0887\"],[0.1111111111111111,\"#46039f\"],[0.2222222222222222,\"#7201a8\"],[0.3333333333333333,\"#9c179e\"],[0.4444444444444444,\"#bd3786\"],[0.5555555555555556,\"#d8576b\"],[0.6666666666666666,\"#ed7953\"],[0.7777777777777778,\"#fb9f3a\"],[0.8888888888888888,\"#fdca26\"],[1.0,\"#f0f921\"]]}],\"mesh3d\":[{\"type\":\"mesh3d\",\"colorbar\":{\"outlinewidth\":0,\"ticks\":\"\"}}],\"scatter\":[{\"fillpattern\":{\"fillmode\":\"overlay\",\"size\":10,\"solidity\":0.2},\"type\":\"scatter\"}],\"parcoords\":[{\"type\":\"parcoords\",\"line\":{\"colorbar\":{\"outlinewidth\":0,\"ticks\":\"\"}}}],\"scatterpolargl\":[{\"type\":\"scatterpolargl\",\"marker\":{\"colorbar\":{\"outlinewidth\":0,\"ticks\":\"\"}}}],\"bar\":[{\"error_x\":{\"color\":\"#2a3f5f\"},\"error_y\":{\"color\":\"#2a3f5f\"},\"marker\":{\"line\":{\"color\":\"#E5ECF6\",\"width\":0.5},\"pattern\":{\"fillmode\":\"overlay\",\"size\":10,\"solidity\":0.2}},\"type\":\"bar\"}],\"scattergeo\":[{\"type\":\"scattergeo\",\"marker\":{\"colorbar\":{\"outlinewidth\":0,\"ticks\":\"\"}}}],\"scatterpolar\":[{\"type\":\"scatterpolar\",\"marker\":{\"colorbar\":{\"outlinewidth\":0,\"ticks\":\"\"}}}],\"histogram\":[{\"marker\":{\"pattern\":{\"fillmode\":\"overlay\",\"size\":10,\"solidity\":0.2}},\"type\":\"histogram\"}],\"scattergl\":[{\"type\":\"scattergl\",\"marker\":{\"colorbar\":{\"outlinewidth\":0,\"ticks\":\"\"}}}],\"scatter3d\":[{\"type\":\"scatter3d\",\"line\":{\"colorbar\":{\"outlinewidth\":0,\"ticks\":\"\"}},\"marker\":{\"colorbar\":{\"outlinewidth\":0,\"ticks\":\"\"}}}],\"scattermapbox\":[{\"type\":\"scattermapbox\",\"marker\":{\"colorbar\":{\"outlinewidth\":0,\"ticks\":\"\"}}}],\"scatterternary\":[{\"type\":\"scatterternary\",\"marker\":{\"colorbar\":{\"outlinewidth\":0,\"ticks\":\"\"}}}],\"scattercarpet\":[{\"type\":\"scattercarpet\",\"marker\":{\"colorbar\":{\"outlinewidth\":0,\"ticks\":\"\"}}}],\"carpet\":[{\"aaxis\":{\"endlinecolor\":\"#2a3f5f\",\"gridcolor\":\"white\",\"linecolor\":\"white\",\"minorgridcolor\":\"white\",\"startlinecolor\":\"#2a3f5f\"},\"baxis\":{\"endlinecolor\":\"#2a3f5f\",\"gridcolor\":\"white\",\"linecolor\":\"white\",\"minorgridcolor\":\"white\",\"startlinecolor\":\"#2a3f5f\"},\"type\":\"carpet\"}],\"table\":[{\"cells\":{\"fill\":{\"color\":\"#EBF0F8\"},\"line\":{\"color\":\"white\"}},\"header\":{\"fill\":{\"color\":\"#C8D4E3\"},\"line\":{\"color\":\"white\"}},\"type\":\"table\"}],\"barpolar\":[{\"marker\":{\"line\":{\"color\":\"#E5ECF6\",\"width\":0.5},\"pattern\":{\"fillmode\":\"overlay\",\"size\":10,\"solidity\":0.2}},\"type\":\"barpolar\"}],\"pie\":[{\"automargin\":true,\"type\":\"pie\"}]},\"layout\":{\"autotypenumbers\":\"strict\",\"colorway\":[\"#636efa\",\"#EF553B\",\"#00cc96\",\"#ab63fa\",\"#FFA15A\",\"#19d3f3\",\"#FF6692\",\"#B6E880\",\"#FF97FF\",\"#FECB52\"],\"font\":{\"color\":\"#2a3f5f\"},\"hovermode\":\"closest\",\"hoverlabel\":{\"align\":\"left\"},\"paper_bgcolor\":\"white\",\"plot_bgcolor\":\"#E5ECF6\",\"polar\":{\"bgcolor\":\"#E5ECF6\",\"angularaxis\":{\"gridcolor\":\"white\",\"linecolor\":\"white\",\"ticks\":\"\"},\"radialaxis\":{\"gridcolor\":\"white\",\"linecolor\":\"white\",\"ticks\":\"\"}},\"ternary\":{\"bgcolor\":\"#E5ECF6\",\"aaxis\":{\"gridcolor\":\"white\",\"linecolor\":\"white\",\"ticks\":\"\"},\"baxis\":{\"gridcolor\":\"white\",\"linecolor\":\"white\",\"ticks\":\"\"},\"caxis\":{\"gridcolor\":\"white\",\"linecolor\":\"white\",\"ticks\":\"\"}},\"coloraxis\":{\"colorbar\":{\"outlinewidth\":0,\"ticks\":\"\"}},\"colorscale\":{\"sequential\":[[0.0,\"#0d0887\"],[0.1111111111111111,\"#46039f\"],[0.2222222222222222,\"#7201a8\"],[0.3333333333333333,\"#9c179e\"],[0.4444444444444444,\"#bd3786\"],[0.5555555555555556,\"#d8576b\"],[0.6666666666666666,\"#ed7953\"],[0.7777777777777778,\"#fb9f3a\"],[0.8888888888888888,\"#fdca26\"],[1.0,\"#f0f921\"]],\"sequentialminus\":[[0.0,\"#0d0887\"],[0.1111111111111111,\"#46039f\"],[0.2222222222222222,\"#7201a8\"],[0.3333333333333333,\"#9c179e\"],[0.4444444444444444,\"#bd3786\"],[0.5555555555555556,\"#d8576b\"],[0.6666666666666666,\"#ed7953\"],[0.7777777777777778,\"#fb9f3a\"],[0.8888888888888888,\"#fdca26\"],[1.0,\"#f0f921\"]],\"diverging\":[[0,\"#8e0152\"],[0.1,\"#c51b7d\"],[0.2,\"#de77ae\"],[0.3,\"#f1b6da\"],[0.4,\"#fde0ef\"],[0.5,\"#f7f7f7\"],[0.6,\"#e6f5d0\"],[0.7,\"#b8e186\"],[0.8,\"#7fbc41\"],[0.9,\"#4d9221\"],[1,\"#276419\"]]},\"xaxis\":{\"gridcolor\":\"white\",\"linecolor\":\"white\",\"ticks\":\"\",\"title\":{\"standoff\":15},\"zerolinecolor\":\"white\",\"automargin\":true,\"zerolinewidth\":2},\"yaxis\":{\"gridcolor\":\"white\",\"linecolor\":\"white\",\"ticks\":\"\",\"title\":{\"standoff\":15},\"zerolinecolor\":\"white\",\"automargin\":true,\"zerolinewidth\":2},\"scene\":{\"xaxis\":{\"backgroundcolor\":\"#E5ECF6\",\"gridcolor\":\"white\",\"linecolor\":\"white\",\"showbackground\":true,\"ticks\":\"\",\"zerolinecolor\":\"white\",\"gridwidth\":2},\"yaxis\":{\"backgroundcolor\":\"#E5ECF6\",\"gridcolor\":\"white\",\"linecolor\":\"white\",\"showbackground\":true,\"ticks\":\"\",\"zerolinecolor\":\"white\",\"gridwidth\":2},\"zaxis\":{\"backgroundcolor\":\"#E5ECF6\",\"gridcolor\":\"white\",\"linecolor\":\"white\",\"showbackground\":true,\"ticks\":\"\",\"zerolinecolor\":\"white\",\"gridwidth\":2}},\"shapedefaults\":{\"line\":{\"color\":\"#2a3f5f\"}},\"annotationdefaults\":{\"arrowcolor\":\"#2a3f5f\",\"arrowhead\":0,\"arrowwidth\":1},\"geo\":{\"bgcolor\":\"white\",\"landcolor\":\"#E5ECF6\",\"subunitcolor\":\"white\",\"showland\":true,\"showlakes\":true,\"lakecolor\":\"white\"},\"title\":{\"x\":0.05},\"mapbox\":{\"style\":\"light\"}}},\"xaxis\":{\"anchor\":\"y\",\"domain\":[0.0,1.0],\"title\":{\"text\":\"Reviewscore\"}},\"yaxis\":{\"anchor\":\"x\",\"domain\":[0.0,1.0],\"title\":{\"text\":\"Rating\"}},\"legend\":{\"title\":{\"text\":\"Played on\"},\"tracegroupgap\":0},\"margin\":{\"t\":60}},                        {\"responsive\": true}                    ).then(function(){\n",
       "                            \n",
       "var gd = document.getElementById('1b158007-e016-4f63-a68c-c32d744318e6');\n",
       "var x = new MutationObserver(function (mutations, observer) {{\n",
       "        var display = window.getComputedStyle(gd).display;\n",
       "        if (!display || display === 'none') {{\n",
       "            console.log([gd, 'removed!']);\n",
       "            Plotly.purge(gd);\n",
       "            observer.disconnect();\n",
       "        }}\n",
       "}});\n",
       "\n",
       "// Listen for the removal of the full notebook cells\n",
       "var notebookContainer = gd.closest('#notebook-container');\n",
       "if (notebookContainer) {{\n",
       "    x.observe(notebookContainer, {childList: true});\n",
       "}}\n",
       "\n",
       "// Listen for the clearing of the current output cell\n",
       "var outputEl = gd.closest('.output');\n",
       "if (outputEl) {{\n",
       "    x.observe(outputEl, {childList: true});\n",
       "}}\n",
       "\n",
       "                        })                };                });            </script>        </div>"
      ]
     },
     "metadata": {},
     "output_type": "display_data"
    }
   ],
   "source": [
    "# a bit of basic plotting\n",
    "fig = px.scatter(raw_data, x=\"Reviewscore\", y=\"Rating\", color=\"Played on\", hover_name=\"Game\")\n",
    "fig"
   ]
  },
  {
   "cell_type": "code",
   "execution_count": 99,
   "id": "afa417ec",
   "metadata": {},
   "outputs": [
    {
     "name": "stdout",
     "output_type": "stream",
     "text": [
      "Pearson R -  PearsonRResult(statistic=0.7458807032658183, pvalue=2.865976748298686e-84)\n"
     ]
    }
   ],
   "source": [
    "# target to beat - pearson r relationship between review score and rating\n",
    "print('Pearson R - ', pearsonr(raw_data['Reviewscore'],raw_data['Rating']))\n",
    "# this is on all the data"
   ]
  },
  {
   "cell_type": "code",
   "execution_count": 100,
   "id": "adde7c9d",
   "metadata": {},
   "outputs": [],
   "source": [
    "#create set of unique key words from the data frame\n",
    "str_data = raw_data.copy()\n",
    "str_data['Key words'] = str_data['Key words'].apply(lambda x: x.split(',')) #convert each entry in key words separated by comma to a list\n",
    "lst = str_data['Key words'].to_list() #append all lists together\n",
    "combine = sum(lst, []) #roll the lists into one\n",
    "remove_space = [s.strip(' ') for s in combine] #remove leading and trailing spaces in list items\n",
    "capitalize = [s.upper() for s in remove_space] #convert all characters to upper case\n",
    "kwords = set(capitalize) #remove duplicate list items\n",
    "kwords = list(kwords)\n",
    "\n",
    "# add new columns which track the keywords\n",
    "kw_data = raw_data.copy()\n",
    "kw_data['Key words'] = kw_data['Key words'].str.upper()\n",
    "for i in kwords:\n",
    "    kw_data[i] = kw_data['Key words'].apply(lambda x: 1 if str(i) in x else 0)"
   ]
  },
  {
   "cell_type": "code",
   "execution_count": 101,
   "id": "863fe0e5",
   "metadata": {
    "scrolled": true
   },
   "outputs": [],
   "source": [
    "#create set of unique platforms from the data frame\n",
    "str_data = raw_data.copy()\n",
    "str_data['Played on'] = str_data['Played on'].apply(lambda x: x.split(',')) #convert each entry in key words to a list\n",
    "lst = str_data['Played on'].to_list() #append all lists together\n",
    "combine = sum(lst, []) #roll the lists into one\n",
    "remove_space = [s.strip(' ') for s in combine] #remove leading and trailing spaces in list items\n",
    "capitalize_plats = [s.upper() for s in remove_space] #convert all characters to upper case\n",
    "plats = set(capitalize_plats) #remove duplicate list items\n",
    "plats = list(plats)\n",
    "\n",
    "# add new columns which track the platforms\n",
    "data = kw_data.copy()\n",
    "data['Played on'] = data['Played on'].str.upper()\n",
    "for i in plats:\n",
    "    data[i] = data['Played on'].apply(lambda x: 1 if str(i) in x else 0)"
   ]
  },
  {
   "cell_type": "code",
   "execution_count": 102,
   "id": "efdbcffe",
   "metadata": {},
   "outputs": [],
   "source": [
    "# update publisher to group to other if count less than n\n",
    "counts_p = data['Publisher'].value_counts() < 3 #creates a series with publisher names as index and values as false, for those not meeting condition\n",
    "data.loc[data['Publisher'].isin(counts_p.index[counts_p]) == True, 'Publisher'] = 'Other' #sets publisher = other if not in counts\n",
    "#notes - isin(counts.index[counts]) returns false for all publishers not meeting condition, true for those meeting the condition\n",
    "\n",
    "#update developer to group to other if count less than n\n",
    "counts_d = data['Developer'].value_counts() < 2 #creates a series with publisher names as index and values as false, for those not meeting condition\n",
    "data.loc[data['Developer'].isin(counts_d.index[counts_d]) == True, 'Developer'] = 'Other' #sets publisher = other if not in counts\n",
    "\n",
    "#update franchise to group to other if count less than n\n",
    "counts_f = data['Franchise'].value_counts() < 2 #creates a series with publisher names as index and values as false, for those not meeting condition\n",
    "data.loc[data['Franchise'].isin(counts_f.index[counts_f]) == True, 'Franchise'] = 'Other' #sets publisher = other if not in counts\n"
   ]
  },
  {
   "cell_type": "code",
   "execution_count": 103,
   "id": "93840834",
   "metadata": {},
   "outputs": [
    {
     "data": {
      "text/plain": [
       "\"\\n#replace publisher string with its average review score\\npublisher_avg = (data[['Publisher','Reviewscore']]).groupby(['Publisher']).mean()['Reviewscore']\\ndata = pd.merge(data, publisher_avg, on = 'Publisher')\\ndata.rename(columns= {'Reviewscore_y' : 'Publisher avg', 'Reviewscore_x' : 'Reviewscore'}, inplace = True)\\n\\n#replace developer string with its average review score\\ndeveloper_avg = (data[['Developer','Reviewscore']]).groupby(['Developer']).mean()['Reviewscore']\\ndata = pd.merge(data, developer_avg, on = 'Developer')\\ndata.rename(columns= {'Reviewscore_y' : 'Developer avg', 'Reviewscore_x' : 'Reviewscore'}, inplace = True)\\n\\n#replace franchise string with its average review score\\nfranchise_avg = (data[['Franchise','Reviewscore']]).groupby(['Franchise']).mean()['Reviewscore']\\ndata = pd.merge(data, franchise_avg, on = 'Franchise')\\ndata.rename(columns= {'Reviewscore_y' : 'Franchise avg', 'Reviewscore_x' : 'Reviewscore'}, inplace = True)\\n\""
      ]
     },
     "execution_count": 103,
     "metadata": {},
     "output_type": "execute_result"
    }
   ],
   "source": [
    "#only use one of this or the next one\n",
    "'''\n",
    "#replace publisher string with its average review score\n",
    "publisher_avg = (data[['Publisher','Reviewscore']]).groupby(['Publisher']).mean()['Reviewscore']\n",
    "data = pd.merge(data, publisher_avg, on = 'Publisher')\n",
    "data.rename(columns= {'Reviewscore_y' : 'Publisher avg', 'Reviewscore_x' : 'Reviewscore'}, inplace = True)\n",
    "\n",
    "#replace developer string with its average review score\n",
    "developer_avg = (data[['Developer','Reviewscore']]).groupby(['Developer']).mean()['Reviewscore']\n",
    "data = pd.merge(data, developer_avg, on = 'Developer')\n",
    "data.rename(columns= {'Reviewscore_y' : 'Developer avg', 'Reviewscore_x' : 'Reviewscore'}, inplace = True)\n",
    "\n",
    "#replace franchise string with its average review score\n",
    "franchise_avg = (data[['Franchise','Reviewscore']]).groupby(['Franchise']).mean()['Reviewscore']\n",
    "data = pd.merge(data, franchise_avg, on = 'Franchise')\n",
    "data.rename(columns= {'Reviewscore_y' : 'Franchise avg', 'Reviewscore_x' : 'Reviewscore'}, inplace = True)\n",
    "'''\n"
   ]
  },
  {
   "cell_type": "code",
   "execution_count": 104,
   "id": "61ff45e8",
   "metadata": {},
   "outputs": [],
   "source": [
    "# one hot encoding of publisher\n",
    "one_hot = pd.get_dummies(data['Publisher'])\n",
    "data = data.merge(one_hot, left_index=True, right_index=True)\n",
    "\n",
    "# one hot encoding of developer\n",
    "one_hot = pd.get_dummies(data['Developer'])\n",
    "data = data.merge(one_hot, left_index=True, right_index=True)\n",
    "\n",
    "# one hot encoding of franchise\n",
    "one_hot = pd.get_dummies(data['Franchise'])\n",
    "data = data.merge(one_hot, left_index=True, right_index=True)"
   ]
  },
  {
   "cell_type": "code",
   "execution_count": 105,
   "id": "67d90c4a",
   "metadata": {},
   "outputs": [],
   "source": [
    "# calculate play - launch field\n",
    "data['Play - launch'] = data['Play Year'] - data['Launch Year']\n",
    "data['Play - launch'].fillna(0, inplace=True)\n",
    "# calculate upgraded played field\n",
    "data.loc[np.isnan(data['Remaster Reviewscore']) == False, 'Remaster played'] = 1\n",
    "data['Remaster played'].fillna(0, inplace=True)\n",
    "\n",
    "\n",
    "# calculate latest launch field \n",
    "data['Latest launch year'] = data['Remaster Release Year']\n",
    "data['Latest launch year'].fillna(data['Launch Year'], inplace = True)\n",
    "# calculate play - latest launch field (remaster)\n",
    "data['Play - latest launch'] = data['Play Year'] - data['Latest launch year']\n",
    "data['Play - latest launch'].fillna(0, inplace=True)\n",
    "\n",
    "# calculate any multiplayer field\n",
    "data['Key words'] = data['Key words'].str.upper()\n",
    "data.loc[data['Key words'].str.contains('MULTIPLAYER') == True, 'Any multiplayer'] = 1\n",
    "data['Any multiplayer'].fillna(0, inplace=True)\n",
    "# calculate any racing field\n",
    "data.loc[data['Key words'].str.contains('RACING') == True, 'Any racing'] = 1\n",
    "data['Any racing'].fillna(0, inplace=True)\n",
    "# calculate any sports field\n",
    "data.loc[data['Key words'].str.contains('SPORTS') == True, 'Any sports'] = 1\n",
    "data['Any sports'].fillna(0, inplace=True)\n",
    "# calculate any simulation field\n",
    "data.loc[data['Key words'].str.contains('SIMULATION') == True, 'Any simulation'] = 1\n",
    "data['Any simulation'].fillna(0, inplace=True)\n",
    "# calculate any strategy field\n",
    "data.loc[data['Key words'].str.contains('STRATEGY') == True, 'Any strategy'] = 1\n",
    "data['Any strategy'].fillna(0, inplace=True)\n"
   ]
  },
  {
   "cell_type": "code",
   "execution_count": 106,
   "id": "cb8b8600",
   "metadata": {},
   "outputs": [
    {
     "data": {
      "text/plain": [
       "\"\\n# reduce launch year by the minimum value (minus 1)\\nmin_ly = min(data['Launch Year'])\\ndata['Launch Year'] = data['Launch Year'] - min_ly + 1\\n# reduce play year by the minimum value (minus 1)\\nmin_py = min(data['Play Year'])\\ndata['Play Year'] = data['Play Year'] - min_py + 1\\n# reduce latest launch year by the minimum value (minus 1)\\nmin_lly = min(data['Latest launch year'])\\ndata['Latest launch year'] = data['Latest launch year'] - min_lly + 1\\n\""
      ]
     },
     "execution_count": 106,
     "metadata": {},
     "output_type": "execute_result"
    }
   ],
   "source": [
    "#Not needed when allowing models to fit y-intercept (offset)\n",
    "'''\n",
    "# reduce launch year by the minimum value (minus 1)\n",
    "min_ly = min(data['Launch Year'])\n",
    "data['Launch Year'] = data['Launch Year'] - min_ly + 1\n",
    "# reduce play year by the minimum value (minus 1)\n",
    "min_py = min(data['Play Year'])\n",
    "data['Play Year'] = data['Play Year'] - min_py + 1\n",
    "# reduce latest launch year by the minimum value (minus 1)\n",
    "min_lly = min(data['Latest launch year'])\n",
    "data['Latest launch year'] = data['Latest launch year'] - min_lly + 1\n",
    "'''"
   ]
  },
  {
   "cell_type": "code",
   "execution_count": 107,
   "id": "3afa91a6",
   "metadata": {},
   "outputs": [],
   "source": [
    "# convert the yes no fields to 1 or 0\n",
    "data['DLC/ Major update played'] = data['DLC/ Major update played'].replace({'Yes': 1, 'No': 0})"
   ]
  },
  {
   "cell_type": "code",
   "execution_count": 108,
   "id": "c0ffadd2",
   "metadata": {},
   "outputs": [],
   "source": [
    "# tidy missing values\n",
    "data['Remaster Reviewscore'].fillna(0, inplace=True)"
   ]
  },
  {
   "cell_type": "code",
   "execution_count": 109,
   "id": "b0c52212",
   "metadata": {},
   "outputs": [
    {
     "data": {
      "text/html": [
       "<div>\n",
       "<style scoped>\n",
       "    .dataframe tbody tr th:only-of-type {\n",
       "        vertical-align: middle;\n",
       "    }\n",
       "\n",
       "    .dataframe tbody tr th {\n",
       "        vertical-align: top;\n",
       "    }\n",
       "\n",
       "    .dataframe thead th {\n",
       "        text-align: right;\n",
       "    }\n",
       "</style>\n",
       "<table border=\"1\" class=\"dataframe\">\n",
       "  <thead>\n",
       "    <tr style=\"text-align: right;\">\n",
       "      <th></th>\n",
       "      <th>Game</th>\n",
       "      <th>Rating</th>\n",
       "      <th>Reviewscore</th>\n",
       "      <th>Played on</th>\n",
       "      <th>Launch Year</th>\n",
       "      <th>Play Year</th>\n",
       "      <th>DLC/ Major update played</th>\n",
       "      <th>Publisher</th>\n",
       "      <th>Developer</th>\n",
       "      <th>Franchise</th>\n",
       "      <th>...</th>\n",
       "      <th>inFAMOUS</th>\n",
       "      <th>Play - launch</th>\n",
       "      <th>Remaster played</th>\n",
       "      <th>Latest launch year</th>\n",
       "      <th>Play - latest launch</th>\n",
       "      <th>Any multiplayer</th>\n",
       "      <th>Any racing</th>\n",
       "      <th>Any sports</th>\n",
       "      <th>Any simulation</th>\n",
       "      <th>Any strategy</th>\n",
       "    </tr>\n",
       "  </thead>\n",
       "  <tbody>\n",
       "    <tr>\n",
       "      <th>0</th>\n",
       "      <td>The Legend of Zelda: Tears of the Kingdom</td>\n",
       "      <td>100</td>\n",
       "      <td>96</td>\n",
       "      <td>SWITCH</td>\n",
       "      <td>2023</td>\n",
       "      <td>2023</td>\n",
       "      <td>0</td>\n",
       "      <td>Nintendo</td>\n",
       "      <td>Nintendo</td>\n",
       "      <td>The Legend of Zelda</td>\n",
       "      <td>...</td>\n",
       "      <td>0</td>\n",
       "      <td>0</td>\n",
       "      <td>0.0</td>\n",
       "      <td>2023.0</td>\n",
       "      <td>0.0</td>\n",
       "      <td>0.0</td>\n",
       "      <td>0.0</td>\n",
       "      <td>0.0</td>\n",
       "      <td>0.0</td>\n",
       "      <td>0.0</td>\n",
       "    </tr>\n",
       "    <tr>\n",
       "      <th>1</th>\n",
       "      <td>Hi-Fi Rush</td>\n",
       "      <td>97</td>\n",
       "      <td>89</td>\n",
       "      <td>XBS</td>\n",
       "      <td>2023</td>\n",
       "      <td>2023</td>\n",
       "      <td>0</td>\n",
       "      <td>Microsoft</td>\n",
       "      <td>Tango Gameworks</td>\n",
       "      <td>Other</td>\n",
       "      <td>...</td>\n",
       "      <td>0</td>\n",
       "      <td>0</td>\n",
       "      <td>0.0</td>\n",
       "      <td>2023.0</td>\n",
       "      <td>0.0</td>\n",
       "      <td>0.0</td>\n",
       "      <td>0.0</td>\n",
       "      <td>0.0</td>\n",
       "      <td>0.0</td>\n",
       "      <td>0.0</td>\n",
       "    </tr>\n",
       "    <tr>\n",
       "      <th>2</th>\n",
       "      <td>Marvel's Spider-Man 2</td>\n",
       "      <td>96</td>\n",
       "      <td>90</td>\n",
       "      <td>PS5</td>\n",
       "      <td>2023</td>\n",
       "      <td>2023</td>\n",
       "      <td>0</td>\n",
       "      <td>Sony</td>\n",
       "      <td>Insomniac</td>\n",
       "      <td>Marvel's Spider-Man</td>\n",
       "      <td>...</td>\n",
       "      <td>0</td>\n",
       "      <td>0</td>\n",
       "      <td>0.0</td>\n",
       "      <td>2023.0</td>\n",
       "      <td>0.0</td>\n",
       "      <td>0.0</td>\n",
       "      <td>0.0</td>\n",
       "      <td>0.0</td>\n",
       "      <td>0.0</td>\n",
       "      <td>0.0</td>\n",
       "    </tr>\n",
       "    <tr>\n",
       "      <th>3</th>\n",
       "      <td>Cocoon</td>\n",
       "      <td>94</td>\n",
       "      <td>88</td>\n",
       "      <td>XBS</td>\n",
       "      <td>2023</td>\n",
       "      <td>2023</td>\n",
       "      <td>0</td>\n",
       "      <td>Annapurna</td>\n",
       "      <td>Other</td>\n",
       "      <td>Other</td>\n",
       "      <td>...</td>\n",
       "      <td>0</td>\n",
       "      <td>0</td>\n",
       "      <td>0.0</td>\n",
       "      <td>2023.0</td>\n",
       "      <td>0.0</td>\n",
       "      <td>0.0</td>\n",
       "      <td>0.0</td>\n",
       "      <td>0.0</td>\n",
       "      <td>0.0</td>\n",
       "      <td>0.0</td>\n",
       "    </tr>\n",
       "    <tr>\n",
       "      <th>4</th>\n",
       "      <td>Final Fantasy XVI</td>\n",
       "      <td>92</td>\n",
       "      <td>88</td>\n",
       "      <td>PS5</td>\n",
       "      <td>2023</td>\n",
       "      <td>2023</td>\n",
       "      <td>0</td>\n",
       "      <td>Square Enix</td>\n",
       "      <td>Square Enix</td>\n",
       "      <td>Final Fantasy</td>\n",
       "      <td>...</td>\n",
       "      <td>0</td>\n",
       "      <td>0</td>\n",
       "      <td>0.0</td>\n",
       "      <td>2023.0</td>\n",
       "      <td>0.0</td>\n",
       "      <td>0.0</td>\n",
       "      <td>0.0</td>\n",
       "      <td>0.0</td>\n",
       "      <td>0.0</td>\n",
       "      <td>0.0</td>\n",
       "    </tr>\n",
       "    <tr>\n",
       "      <th>...</th>\n",
       "      <td>...</td>\n",
       "      <td>...</td>\n",
       "      <td>...</td>\n",
       "      <td>...</td>\n",
       "      <td>...</td>\n",
       "      <td>...</td>\n",
       "      <td>...</td>\n",
       "      <td>...</td>\n",
       "      <td>...</td>\n",
       "      <td>...</td>\n",
       "      <td>...</td>\n",
       "      <td>...</td>\n",
       "      <td>...</td>\n",
       "      <td>...</td>\n",
       "      <td>...</td>\n",
       "      <td>...</td>\n",
       "      <td>...</td>\n",
       "      <td>...</td>\n",
       "      <td>...</td>\n",
       "      <td>...</td>\n",
       "      <td>...</td>\n",
       "    </tr>\n",
       "    <tr>\n",
       "      <th>463</th>\n",
       "      <td>Super Metroid</td>\n",
       "      <td>93</td>\n",
       "      <td>96</td>\n",
       "      <td>SWITCH</td>\n",
       "      <td>1994</td>\n",
       "      <td>2022</td>\n",
       "      <td>1</td>\n",
       "      <td>Nintendo</td>\n",
       "      <td>Nintendo</td>\n",
       "      <td>Metroid</td>\n",
       "      <td>...</td>\n",
       "      <td>0</td>\n",
       "      <td>28</td>\n",
       "      <td>0.0</td>\n",
       "      <td>1994.0</td>\n",
       "      <td>28.0</td>\n",
       "      <td>0.0</td>\n",
       "      <td>0.0</td>\n",
       "      <td>0.0</td>\n",
       "      <td>0.0</td>\n",
       "      <td>0.0</td>\n",
       "    </tr>\n",
       "    <tr>\n",
       "      <th>464</th>\n",
       "      <td>Donkey Kong Country</td>\n",
       "      <td>87</td>\n",
       "      <td>93</td>\n",
       "      <td>SWITCH</td>\n",
       "      <td>1994</td>\n",
       "      <td>2023</td>\n",
       "      <td>1</td>\n",
       "      <td>Nintendo</td>\n",
       "      <td>Rare</td>\n",
       "      <td>Donkey Kong</td>\n",
       "      <td>...</td>\n",
       "      <td>0</td>\n",
       "      <td>29</td>\n",
       "      <td>0.0</td>\n",
       "      <td>1994.0</td>\n",
       "      <td>29.0</td>\n",
       "      <td>0.0</td>\n",
       "      <td>0.0</td>\n",
       "      <td>0.0</td>\n",
       "      <td>0.0</td>\n",
       "      <td>0.0</td>\n",
       "    </tr>\n",
       "    <tr>\n",
       "      <th>465</th>\n",
       "      <td>The Legend of Zelda: A Link to the Past</td>\n",
       "      <td>80</td>\n",
       "      <td>95</td>\n",
       "      <td>SWITCH</td>\n",
       "      <td>1991</td>\n",
       "      <td>2023</td>\n",
       "      <td>0</td>\n",
       "      <td>Nintendo</td>\n",
       "      <td>Nintendo</td>\n",
       "      <td>Other</td>\n",
       "      <td>...</td>\n",
       "      <td>0</td>\n",
       "      <td>32</td>\n",
       "      <td>0.0</td>\n",
       "      <td>1991.0</td>\n",
       "      <td>32.0</td>\n",
       "      <td>0.0</td>\n",
       "      <td>0.0</td>\n",
       "      <td>0.0</td>\n",
       "      <td>0.0</td>\n",
       "      <td>0.0</td>\n",
       "    </tr>\n",
       "    <tr>\n",
       "      <th>466</th>\n",
       "      <td>Super Mario World</td>\n",
       "      <td>91</td>\n",
       "      <td>94</td>\n",
       "      <td>SWITCH</td>\n",
       "      <td>1990</td>\n",
       "      <td>2023</td>\n",
       "      <td>1</td>\n",
       "      <td>Nintendo</td>\n",
       "      <td>Nintendo</td>\n",
       "      <td>Super Mario (2D)</td>\n",
       "      <td>...</td>\n",
       "      <td>0</td>\n",
       "      <td>33</td>\n",
       "      <td>0.0</td>\n",
       "      <td>1990.0</td>\n",
       "      <td>33.0</td>\n",
       "      <td>0.0</td>\n",
       "      <td>0.0</td>\n",
       "      <td>0.0</td>\n",
       "      <td>0.0</td>\n",
       "      <td>0.0</td>\n",
       "    </tr>\n",
       "    <tr>\n",
       "      <th>467</th>\n",
       "      <td>Tetris</td>\n",
       "      <td>90</td>\n",
       "      <td>90</td>\n",
       "      <td>GB</td>\n",
       "      <td>1989</td>\n",
       "      <td>2023</td>\n",
       "      <td>0</td>\n",
       "      <td>Nintendo</td>\n",
       "      <td>Nintendo</td>\n",
       "      <td>Tetris</td>\n",
       "      <td>...</td>\n",
       "      <td>0</td>\n",
       "      <td>34</td>\n",
       "      <td>0.0</td>\n",
       "      <td>1989.0</td>\n",
       "      <td>34.0</td>\n",
       "      <td>0.0</td>\n",
       "      <td>0.0</td>\n",
       "      <td>0.0</td>\n",
       "      <td>0.0</td>\n",
       "      <td>0.0</td>\n",
       "    </tr>\n",
       "  </tbody>\n",
       "</table>\n",
       "<p>468 rows × 303 columns</p>\n",
       "</div>"
      ],
      "text/plain": [
       "                                          Game  Rating  Reviewscore Played on  \\\n",
       "0    The Legend of Zelda: Tears of the Kingdom     100           96    SWITCH   \n",
       "1                                   Hi-Fi Rush      97           89       XBS   \n",
       "2                        Marvel's Spider-Man 2      96           90       PS5   \n",
       "3                                       Cocoon      94           88       XBS   \n",
       "4                            Final Fantasy XVI      92           88       PS5   \n",
       "..                                         ...     ...          ...       ...   \n",
       "463                              Super Metroid      93           96    SWITCH   \n",
       "464                        Donkey Kong Country      87           93    SWITCH   \n",
       "465    The Legend of Zelda: A Link to the Past      80           95    SWITCH   \n",
       "466                          Super Mario World      91           94    SWITCH   \n",
       "467                                     Tetris      90           90        GB   \n",
       "\n",
       "     Launch Year  Play Year  DLC/ Major update played    Publisher  \\\n",
       "0           2023       2023                         0     Nintendo   \n",
       "1           2023       2023                         0    Microsoft   \n",
       "2           2023       2023                         0         Sony   \n",
       "3           2023       2023                         0    Annapurna   \n",
       "4           2023       2023                         0  Square Enix   \n",
       "..           ...        ...                       ...          ...   \n",
       "463         1994       2022                         1     Nintendo   \n",
       "464         1994       2023                         1     Nintendo   \n",
       "465         1991       2023                         0     Nintendo   \n",
       "466         1990       2023                         1     Nintendo   \n",
       "467         1989       2023                         0     Nintendo   \n",
       "\n",
       "           Developer            Franchise  ... inFAMOUS  Play - launch  \\\n",
       "0           Nintendo  The Legend of Zelda  ...        0              0   \n",
       "1    Tango Gameworks                Other  ...        0              0   \n",
       "2          Insomniac  Marvel's Spider-Man  ...        0              0   \n",
       "3              Other                Other  ...        0              0   \n",
       "4        Square Enix        Final Fantasy  ...        0              0   \n",
       "..               ...                  ...  ...      ...            ...   \n",
       "463         Nintendo              Metroid  ...        0             28   \n",
       "464             Rare          Donkey Kong  ...        0             29   \n",
       "465         Nintendo                Other  ...        0             32   \n",
       "466         Nintendo     Super Mario (2D)  ...        0             33   \n",
       "467         Nintendo               Tetris  ...        0             34   \n",
       "\n",
       "     Remaster played Latest launch year  Play - latest launch  \\\n",
       "0                0.0             2023.0                   0.0   \n",
       "1                0.0             2023.0                   0.0   \n",
       "2                0.0             2023.0                   0.0   \n",
       "3                0.0             2023.0                   0.0   \n",
       "4                0.0             2023.0                   0.0   \n",
       "..               ...                ...                   ...   \n",
       "463              0.0             1994.0                  28.0   \n",
       "464              0.0             1994.0                  29.0   \n",
       "465              0.0             1991.0                  32.0   \n",
       "466              0.0             1990.0                  33.0   \n",
       "467              0.0             1989.0                  34.0   \n",
       "\n",
       "     Any multiplayer  Any racing  Any sports  Any simulation  Any strategy  \n",
       "0                0.0         0.0         0.0             0.0           0.0  \n",
       "1                0.0         0.0         0.0             0.0           0.0  \n",
       "2                0.0         0.0         0.0             0.0           0.0  \n",
       "3                0.0         0.0         0.0             0.0           0.0  \n",
       "4                0.0         0.0         0.0             0.0           0.0  \n",
       "..               ...         ...         ...             ...           ...  \n",
       "463              0.0         0.0         0.0             0.0           0.0  \n",
       "464              0.0         0.0         0.0             0.0           0.0  \n",
       "465              0.0         0.0         0.0             0.0           0.0  \n",
       "466              0.0         0.0         0.0             0.0           0.0  \n",
       "467              0.0         0.0         0.0             0.0           0.0  \n",
       "\n",
       "[468 rows x 303 columns]"
      ]
     },
     "execution_count": 109,
     "metadata": {},
     "output_type": "execute_result"
    }
   ],
   "source": [
    "#have another look at the data\n",
    "data"
   ]
  },
  {
   "cell_type": "code",
   "execution_count": 110,
   "id": "d9c5d858",
   "metadata": {},
   "outputs": [],
   "source": [
    "# prep for model\n",
    "X = data.copy()\n",
    "X.drop(['Rating', 'Game', 'Played on', 'Publisher', 'Developer', 'Franchise', 'Key words', 'Remaster Release Year', 'Developer2'], axis = 1, inplace = True)\n",
    "y = data['Rating']\n",
    "X_train, X_test, y_train, y_test = train_test_split(X, y, random_state=0)"
   ]
  },
  {
   "cell_type": "code",
   "execution_count": 111,
   "id": "167f9fe1",
   "metadata": {},
   "outputs": [
    {
     "data": {
      "text/html": [
       "<style>#sk-container-id-5 {color: black;background-color: white;}#sk-container-id-5 pre{padding: 0;}#sk-container-id-5 div.sk-toggleable {background-color: white;}#sk-container-id-5 label.sk-toggleable__label {cursor: pointer;display: block;width: 100%;margin-bottom: 0;padding: 0.3em;box-sizing: border-box;text-align: center;}#sk-container-id-5 label.sk-toggleable__label-arrow:before {content: \"▸\";float: left;margin-right: 0.25em;color: #696969;}#sk-container-id-5 label.sk-toggleable__label-arrow:hover:before {color: black;}#sk-container-id-5 div.sk-estimator:hover label.sk-toggleable__label-arrow:before {color: black;}#sk-container-id-5 div.sk-toggleable__content {max-height: 0;max-width: 0;overflow: hidden;text-align: left;background-color: #f0f8ff;}#sk-container-id-5 div.sk-toggleable__content pre {margin: 0.2em;color: black;border-radius: 0.25em;background-color: #f0f8ff;}#sk-container-id-5 input.sk-toggleable__control:checked~div.sk-toggleable__content {max-height: 200px;max-width: 100%;overflow: auto;}#sk-container-id-5 input.sk-toggleable__control:checked~label.sk-toggleable__label-arrow:before {content: \"▾\";}#sk-container-id-5 div.sk-estimator input.sk-toggleable__control:checked~label.sk-toggleable__label {background-color: #d4ebff;}#sk-container-id-5 div.sk-label input.sk-toggleable__control:checked~label.sk-toggleable__label {background-color: #d4ebff;}#sk-container-id-5 input.sk-hidden--visually {border: 0;clip: rect(1px 1px 1px 1px);clip: rect(1px, 1px, 1px, 1px);height: 1px;margin: -1px;overflow: hidden;padding: 0;position: absolute;width: 1px;}#sk-container-id-5 div.sk-estimator {font-family: monospace;background-color: #f0f8ff;border: 1px dotted black;border-radius: 0.25em;box-sizing: border-box;margin-bottom: 0.5em;}#sk-container-id-5 div.sk-estimator:hover {background-color: #d4ebff;}#sk-container-id-5 div.sk-parallel-item::after {content: \"\";width: 100%;border-bottom: 1px solid gray;flex-grow: 1;}#sk-container-id-5 div.sk-label:hover label.sk-toggleable__label {background-color: #d4ebff;}#sk-container-id-5 div.sk-serial::before {content: \"\";position: absolute;border-left: 1px solid gray;box-sizing: border-box;top: 0;bottom: 0;left: 50%;z-index: 0;}#sk-container-id-5 div.sk-serial {display: flex;flex-direction: column;align-items: center;background-color: white;padding-right: 0.2em;padding-left: 0.2em;position: relative;}#sk-container-id-5 div.sk-item {position: relative;z-index: 1;}#sk-container-id-5 div.sk-parallel {display: flex;align-items: stretch;justify-content: center;background-color: white;position: relative;}#sk-container-id-5 div.sk-item::before, #sk-container-id-5 div.sk-parallel-item::before {content: \"\";position: absolute;border-left: 1px solid gray;box-sizing: border-box;top: 0;bottom: 0;left: 50%;z-index: -1;}#sk-container-id-5 div.sk-parallel-item {display: flex;flex-direction: column;z-index: 1;position: relative;background-color: white;}#sk-container-id-5 div.sk-parallel-item:first-child::after {align-self: flex-end;width: 50%;}#sk-container-id-5 div.sk-parallel-item:last-child::after {align-self: flex-start;width: 50%;}#sk-container-id-5 div.sk-parallel-item:only-child::after {width: 0;}#sk-container-id-5 div.sk-dashed-wrapped {border: 1px dashed gray;margin: 0 0.4em 0.5em 0.4em;box-sizing: border-box;padding-bottom: 0.4em;background-color: white;}#sk-container-id-5 div.sk-label label {font-family: monospace;font-weight: bold;display: inline-block;line-height: 1.2em;}#sk-container-id-5 div.sk-label-container {text-align: center;}#sk-container-id-5 div.sk-container {/* jupyter's `normalize.less` sets `[hidden] { display: none; }` but bootstrap.min.css set `[hidden] { display: none !important; }` so we also need the `!important` here to be able to override the default hidden behavior on the sphinx rendered scikit-learn.org. See: https://github.com/scikit-learn/scikit-learn/issues/21755 */display: inline-block !important;position: relative;}#sk-container-id-5 div.sk-text-repr-fallback {display: none;}</style><div id=\"sk-container-id-5\" class=\"sk-top-container\"><div class=\"sk-text-repr-fallback\"><pre>VotingRegressor(estimators=[(&#x27;Lasso&#x27;, LassoCV(random_state=0)),\n",
       "                            (&#x27;ElasticNet&#x27;, ElasticNetCV(random_state=0)),\n",
       "                            (&#x27;Ridge&#x27;, RidgeCV()),\n",
       "                            (&#x27;BayesianRidge&#x27;, BayesianRidge())])</pre><b>In a Jupyter environment, please rerun this cell to show the HTML representation or trust the notebook. <br />On GitHub, the HTML representation is unable to render, please try loading this page with nbviewer.org.</b></div><div class=\"sk-container\" hidden><div class=\"sk-item sk-dashed-wrapped\"><div class=\"sk-label-container\"><div class=\"sk-label sk-toggleable\"><input class=\"sk-toggleable__control sk-hidden--visually\" id=\"sk-estimator-id-21\" type=\"checkbox\" ><label for=\"sk-estimator-id-21\" class=\"sk-toggleable__label sk-toggleable__label-arrow\">VotingRegressor</label><div class=\"sk-toggleable__content\"><pre>VotingRegressor(estimators=[(&#x27;Lasso&#x27;, LassoCV(random_state=0)),\n",
       "                            (&#x27;ElasticNet&#x27;, ElasticNetCV(random_state=0)),\n",
       "                            (&#x27;Ridge&#x27;, RidgeCV()),\n",
       "                            (&#x27;BayesianRidge&#x27;, BayesianRidge())])</pre></div></div></div><div class=\"sk-parallel\"><div class=\"sk-parallel-item\"><div class=\"sk-item\"><div class=\"sk-label-container\"><div class=\"sk-label sk-toggleable\"><label>Lasso</label></div></div><div class=\"sk-serial\"><div class=\"sk-item\"><div class=\"sk-estimator sk-toggleable\"><input class=\"sk-toggleable__control sk-hidden--visually\" id=\"sk-estimator-id-22\" type=\"checkbox\" ><label for=\"sk-estimator-id-22\" class=\"sk-toggleable__label sk-toggleable__label-arrow\">LassoCV</label><div class=\"sk-toggleable__content\"><pre>LassoCV(random_state=0)</pre></div></div></div></div></div></div><div class=\"sk-parallel-item\"><div class=\"sk-item\"><div class=\"sk-label-container\"><div class=\"sk-label sk-toggleable\"><label>ElasticNet</label></div></div><div class=\"sk-serial\"><div class=\"sk-item\"><div class=\"sk-estimator sk-toggleable\"><input class=\"sk-toggleable__control sk-hidden--visually\" id=\"sk-estimator-id-23\" type=\"checkbox\" ><label for=\"sk-estimator-id-23\" class=\"sk-toggleable__label sk-toggleable__label-arrow\">ElasticNetCV</label><div class=\"sk-toggleable__content\"><pre>ElasticNetCV(random_state=0)</pre></div></div></div></div></div></div><div class=\"sk-parallel-item\"><div class=\"sk-item\"><div class=\"sk-label-container\"><div class=\"sk-label sk-toggleable\"><label>Ridge</label></div></div><div class=\"sk-serial\"><div class=\"sk-item\"><div class=\"sk-estimator sk-toggleable\"><input class=\"sk-toggleable__control sk-hidden--visually\" id=\"sk-estimator-id-24\" type=\"checkbox\" ><label for=\"sk-estimator-id-24\" class=\"sk-toggleable__label sk-toggleable__label-arrow\">RidgeCV</label><div class=\"sk-toggleable__content\"><pre>RidgeCV()</pre></div></div></div></div></div></div><div class=\"sk-parallel-item\"><div class=\"sk-item\"><div class=\"sk-label-container\"><div class=\"sk-label sk-toggleable\"><label>BayesianRidge</label></div></div><div class=\"sk-serial\"><div class=\"sk-item\"><div class=\"sk-estimator sk-toggleable\"><input class=\"sk-toggleable__control sk-hidden--visually\" id=\"sk-estimator-id-25\" type=\"checkbox\" ><label for=\"sk-estimator-id-25\" class=\"sk-toggleable__label sk-toggleable__label-arrow\">BayesianRidge</label><div class=\"sk-toggleable__content\"><pre>BayesianRidge()</pre></div></div></div></div></div></div></div></div></div></div>"
      ],
      "text/plain": [
       "VotingRegressor(estimators=[('Lasso', LassoCV(random_state=0)),\n",
       "                            ('ElasticNet', ElasticNetCV(random_state=0)),\n",
       "                            ('Ridge', RidgeCV()),\n",
       "                            ('BayesianRidge', BayesianRidge())])"
      ]
     },
     "execution_count": 111,
     "metadata": {},
     "output_type": "execute_result"
    }
   ],
   "source": [
    "#initialize and fit models\n",
    "model1 = GradientBoostingRegressor(random_state=0)\n",
    "model1.fit(X_train, y_train)\n",
    "'''\n",
    "model2 = LinearRegression()\n",
    "model2.fit(X_train, y_train)\n",
    "'''\n",
    "model3 = RandomForestRegressor(random_state=0)\n",
    "model3.fit(X_train, y_train)\n",
    "\n",
    "model4 = AdaBoostRegressor(random_state=0)\n",
    "model4.fit(X_train, y_train)\n",
    "\n",
    "model5 = DecisionTreeRegressor(random_state=0)\n",
    "model5.fit(X_train, y_train)\n",
    "\n",
    "model6 = BayesianRidge()\n",
    "model6.fit(X_train, y_train)\n",
    "\n",
    "model7 = Ridge(random_state=0)\n",
    "model7.fit(X_train, y_train)\n",
    "\n",
    "model8 = RidgeCV()\n",
    "model8.fit(X_train, y_train)\n",
    "\n",
    "model9 = ElasticNet(random_state=0)\n",
    "model9.fit(X_train, y_train)\n",
    "\n",
    "model10 = ElasticNetCV(random_state=0)\n",
    "model10.fit(X_train, y_train)\n",
    "\n",
    "model11 = Lasso(random_state=0)\n",
    "model11.fit(X_train, y_train)\n",
    "\n",
    "model12 = LassoCV(random_state=0)\n",
    "model12.fit(X_train, y_train)\n",
    "\n",
    "model13 = VotingRegressor(estimators=[('Lasso', model12), ('ElasticNet', model10), ('Ridge', model8), ('BayesianRidge', model6)])\n",
    "model13.fit(X_train, y_train)"
   ]
  },
  {
   "cell_type": "code",
   "execution_count": 112,
   "id": "1f3beba8",
   "metadata": {},
   "outputs": [
    {
     "name": "stdout",
     "output_type": "stream",
     "text": [
      "Model 1 - Gradient Boosting Regressor\n",
      "Coefficient of determination -  0.49373762248492614\n",
      "Pearson R -  PearsonRResult(statistic=0.7091524034275316, pvalue=3.6473029956741404e-19)\n",
      "Mean absolute error -  6.691142997309614\n",
      "Root mean square error -  82.45053652795136\n",
      "Std of predictions -  9.033362566657457\n",
      "\n",
      "Model 3 - Random Forest Regressor\n",
      "Coefficient of determination -  0.4529287353862552\n",
      "Pearson R -  PearsonRResult(statistic=0.6854919722428168, pvalue=1.5176135249719476e-17)\n",
      "Mean absolute error -  6.873076923076923\n",
      "Root mean square error -  89.09672393162391\n",
      "Std of predictions -  9.397875604502968\n",
      "\n",
      "Model 4 - AdaBoost Forest Regressor\n",
      "Coefficient of determination -  0.42728512982162414\n",
      "Pearson R -  PearsonRResult(statistic=0.687944426384408, pvalue=1.0482977304861878e-17)\n",
      "Mean absolute error -  7.683183999108679\n",
      "Root mean square error -  93.27307424170012\n",
      "Std of predictions -  9.26503098903321\n",
      "\n",
      "Model 5 - Decision Tree Regressor\n",
      "Coefficient of determination -  0.09544955432114732\n",
      "Pearson R -  PearsonRResult(statistic=0.5698143674228522, pvalue=2.0137040227463687e-11)\n",
      "Mean absolute error -  8.76923076923077\n",
      "Root mean square error -  147.31623931623932\n",
      "Std of predictions -  11.919286840551639\n",
      "\n",
      "Model 6 - Bayesian Ridge Linear Regressor\n",
      "Coefficient of determination -  0.5475111225991989\n",
      "Pearson R -  PearsonRResult(statistic=0.7416652661082496, pvalue=1.1309257620295805e-21)\n",
      "Mean absolute error -  6.255681789260068\n",
      "Root mean square error -  73.69291571249657\n",
      "Std of predictions -  8.562832086399885\n",
      "\n",
      "Model 7 - Ridge Linear Regressor\n",
      "Coefficient of determination -  0.4997655022620118\n",
      "Pearson R -  PearsonRResult(statistic=0.7203813272454671, pvalue=5.441070063090257e-20)\n",
      "Mean absolute error -  6.636010925933308\n",
      "Root mean square error -  81.46882833903521\n",
      "Std of predictions -  9.010801013246788\n",
      "\n",
      "Model 8 - RidgeCV Linear Regressor\n",
      "Coefficient of determination -  0.5461910449338417\n",
      "Pearson R -  PearsonRResult(statistic=0.7413466511706159, pvalue=1.201783760243064e-21)\n",
      "Mean absolute error -  6.286861374278364\n",
      "Root mean square error -  73.90790524480488\n",
      "Std of predictions -  8.574992180584855\n",
      "\n",
      "Model 9 - ElasticNet Linear Regressor\n",
      "Coefficient of determination -  0.4961594519156618\n",
      "Pearson R -  PearsonRResult(statistic=0.7059877725456488, pvalue=6.135008448731859e-19)\n",
      "Mean absolute error -  6.474638960954257\n",
      "Root mean square error -  82.05611429787481\n",
      "Std of predictions -  9.038468019146297\n",
      "\n",
      "Model 10 - ElasticNetCV Linear Regressor\n",
      "Coefficient of determination -  0.5389028437855294\n",
      "Pearson R -  PearsonRResult(statistic=0.7355925397722265, pvalue=3.5473232127161734e-21)\n",
      "Mean absolute error -  6.246253233081829\n",
      "Root mean square error -  75.09487097974947\n",
      "Std of predictions -  8.64511976006586\n",
      "\n",
      "Model 11 - Lasso Linear Regressor\n",
      "Coefficient of determination -  0.4903450155409086\n",
      "Pearson R -  PearsonRResult(statistic=0.7019199406201542, pvalue=1.1851122145372183e-18)\n",
      "Mean absolute error -  6.4909839034411085\n",
      "Root mean square error -  83.00306082204501\n",
      "Std of predictions -  9.090020978652186\n",
      "\n",
      "Model 12 - LassoCV Linear Regressor\n",
      "Coefficient of determination -  0.5472937709181042\n",
      "Pearson R -  PearsonRResult(statistic=0.741442986714642, pvalue=1.1799144731271923e-21)\n",
      "Mean absolute error -  6.223785075113353\n",
      "Root mean square error -  73.72831388450665\n",
      "Std of predictions -  8.56645727793725\n",
      "\n",
      "Model 13 - Voting Regressor\n",
      "Coefficient of determination -  0.5497167661573522\n",
      "Pearson R -  PearsonRResult(statistic=0.7430019553537475, pvalue=8.755623191825286e-22)\n",
      "Mean absolute error -  6.219979537675467\n",
      "Root mean square error -  73.33370178936883\n",
      "Std of predictions -  8.54233765657937\n",
      "\n"
     ]
    }
   ],
   "source": [
    "#output some actual model performance scores\n",
    "print('Model 1 - Gradient Boosting Regressor')\n",
    "print('Coefficient of determination - ', model1.score(X_test, y_test))\n",
    "print('Pearson R - ', pearsonr(y_test,model1.predict(X_test)))\n",
    "print('Mean absolute error - ', mean_absolute_error(y_test,model1.predict(X_test)))\n",
    "print('Root mean square error - ', mean_squared_error(y_test, model1.predict(X_test)))\n",
    "print('Std of predictions - ', np.std(model1.predict(X_test)-y_test))\n",
    "print('')\n",
    "'''\n",
    "print('Model 2 - Linear Regressor')\n",
    "print('Coefficient of determination - ', model2.score(X_test, y_test))\n",
    "print('Pearson R - ', pearsonr(y_test,model2.predict(X_test)))\n",
    "'''\n",
    "print('Model 3 - Random Forest Regressor')\n",
    "print('Coefficient of determination - ', model3.score(X_test, y_test))\n",
    "print('Pearson R - ', pearsonr(y_test,model3.predict(X_test)))\n",
    "print('Mean absolute error - ', mean_absolute_error(y_test,model3.predict(X_test)))\n",
    "print('Root mean square error - ', mean_squared_error(y_test, model3.predict(X_test)))\n",
    "print('Std of predictions - ', np.std(model3.predict(X_test)-y_test))\n",
    "print('')\n",
    "\n",
    "print('Model 4 - AdaBoost Forest Regressor')\n",
    "print('Coefficient of determination - ', model4.score(X_test, y_test))\n",
    "print('Pearson R - ', pearsonr(y_test,model4.predict(X_test)))\n",
    "print('Mean absolute error - ', mean_absolute_error(y_test,model4.predict(X_test)))\n",
    "print('Root mean square error - ', mean_squared_error(y_test, model4.predict(X_test)))\n",
    "print('Std of predictions - ', np.std(model4.predict(X_test)-y_test))\n",
    "print('')\n",
    "\n",
    "print('Model 5 - Decision Tree Regressor')\n",
    "print('Coefficient of determination - ', model5.score(X_test, y_test))\n",
    "print('Pearson R - ', pearsonr(y_test,model5.predict(X_test)))\n",
    "print('Mean absolute error - ', mean_absolute_error(y_test,model5.predict(X_test)))\n",
    "print('Root mean square error - ', mean_squared_error(y_test, model5.predict(X_test)))\n",
    "print('Std of predictions - ', np.std(model5.predict(X_test)-y_test))\n",
    "print('')\n",
    "\n",
    "print('Model 6 - Bayesian Ridge Linear Regressor')\n",
    "print('Coefficient of determination - ', model6.score(X_test, y_test))\n",
    "print('Pearson R - ', pearsonr(y_test,model6.predict(X_test)))\n",
    "print('Mean absolute error - ', mean_absolute_error(y_test,model6.predict(X_test)))\n",
    "print('Root mean square error - ', mean_squared_error(y_test, model6.predict(X_test)))\n",
    "print('Std of predictions - ', np.std(model6.predict(X_test)-y_test))\n",
    "print('')\n",
    "\n",
    "print('Model 7 - Ridge Linear Regressor')\n",
    "print('Coefficient of determination - ', model7.score(X_test, y_test))\n",
    "print('Pearson R - ', pearsonr(y_test,model7.predict(X_test)))\n",
    "print('Mean absolute error - ', mean_absolute_error(y_test,model7.predict(X_test)))\n",
    "print('Root mean square error - ', mean_squared_error(y_test, model7.predict(X_test)))\n",
    "print('Std of predictions - ', np.std(model7.predict(X_test)-y_test))\n",
    "print('')\n",
    "\n",
    "print('Model 8 - RidgeCV Linear Regressor')\n",
    "print('Coefficient of determination - ', model8.score(X_test, y_test))\n",
    "print('Pearson R - ', pearsonr(y_test,model8.predict(X_test)))\n",
    "print('Mean absolute error - ', mean_absolute_error(y_test,model8.predict(X_test)))\n",
    "print('Root mean square error - ', mean_squared_error(y_test, model8.predict(X_test)))\n",
    "print('Std of predictions - ', np.std(model8.predict(X_test)-y_test))\n",
    "print('')\n",
    "\n",
    "print('Model 9 - ElasticNet Linear Regressor')\n",
    "print('Coefficient of determination - ', model9.score(X_test, y_test))\n",
    "print('Pearson R - ', pearsonr(y_test,model9.predict(X_test)))\n",
    "print('Mean absolute error - ', mean_absolute_error(y_test,model9.predict(X_test)))\n",
    "print('Root mean square error - ', mean_squared_error(y_test, model9.predict(X_test)))\n",
    "print('Std of predictions - ', np.std(model9.predict(X_test)-y_test))\n",
    "print('')\n",
    "\n",
    "print('Model 10 - ElasticNetCV Linear Regressor')\n",
    "print('Coefficient of determination - ', model10.score(X_test, y_test))\n",
    "print('Pearson R - ', pearsonr(y_test,model10.predict(X_test)))\n",
    "print('Mean absolute error - ', mean_absolute_error(y_test,model10.predict(X_test)))\n",
    "print('Root mean square error - ', mean_squared_error(y_test, model10.predict(X_test)))\n",
    "print('Std of predictions - ', np.std(model10.predict(X_test)-y_test))\n",
    "print('')\n",
    "\n",
    "print('Model 11 - Lasso Linear Regressor')\n",
    "print('Coefficient of determination - ', model11.score(X_test, y_test))\n",
    "print('Pearson R - ', pearsonr(y_test,model11.predict(X_test)))\n",
    "print('Mean absolute error - ', mean_absolute_error(y_test,model11.predict(X_test)))\n",
    "print('Root mean square error - ', mean_squared_error(y_test, model11.predict(X_test)))\n",
    "print('Std of predictions - ', np.std(model11.predict(X_test)-y_test))\n",
    "print('')\n",
    "\n",
    "print('Model 12 - LassoCV Linear Regressor')\n",
    "print('Coefficient of determination - ', model12.score(X_test, y_test))\n",
    "print('Pearson R - ', pearsonr(y_test,model12.predict(X_test)))\n",
    "print('Mean absolute error - ', mean_absolute_error(y_test,model12.predict(X_test)))\n",
    "print('Root mean square error - ', mean_squared_error(y_test, model12.predict(X_test)))\n",
    "print('Std of predictions - ', np.std(model12.predict(X_test)-y_test))\n",
    "print('')\n",
    "\n",
    "print('Model 13 - Voting Regressor')\n",
    "print('Coefficient of determination - ', model13.score(X_test, y_test))\n",
    "print('Pearson R - ', pearsonr(y_test,model13.predict(X_test)))\n",
    "print('Mean absolute error - ', mean_absolute_error(y_test,model13.predict(X_test)))\n",
    "print('Root mean square error - ', mean_squared_error(y_test, model13.predict(X_test)))\n",
    "print('Std of predictions - ', np.std(model13.predict(X_test)-y_test))\n",
    "print('')"
   ]
  },
  {
   "cell_type": "code",
   "execution_count": 113,
   "id": "05e7a082",
   "metadata": {},
   "outputs": [
    {
     "name": "stdout",
     "output_type": "stream",
     "text": [
      "Pearson R -  PearsonRResult(statistic=0.6992519917346369, pvalue=1.8142480190078242e-18)\n"
     ]
    }
   ],
   "source": [
    "#compare to the pearson r for review avg in test set\n",
    "print('Pearson R - ', pearsonr(X_test['Reviewscore'],y_test))\n",
    "\n",
    "#models that have a better pearson R than benchmark:\n",
    "# 4, 6, 7, 8, 9, 10, 11, 12, 13\n",
    "#best model = 13, Voting Regressor (6, 8, 10, 12). Best individual = 6 - Bayesian Ridge Linear Regressor\n",
    "\n",
    "#investigate models\n",
    "#print(pd.DataFrame(zip(X.columns, model2.coef_)).to_string()) # check coefficients of linearregressor\n",
    "# linear regressor seems to require scaling to size of output e.g. 0-100"
   ]
  },
  {
   "cell_type": "code",
   "execution_count": 114,
   "id": "fac50049",
   "metadata": {},
   "outputs": [],
   "source": [
    "# save the best model\n",
    "joblib.dump(model6, 'gbrmodel.joblib')\n",
    "#save the data\n",
    "data.to_pickle('../data/processed_data.pkl')\n",
    "X.to_pickle('../data/X.pkl')\n",
    "y.to_pickle('../data/y.pkl')\n",
    "X_test.to_pickle('../data/X_test.pkl')\n",
    "y_test.to_pickle('../data/y_test.pkl')"
   ]
  }
 ],
 "metadata": {
  "kernelspec": {
   "display_name": "Python 3 (ipykernel)",
   "language": "python",
   "name": "python3"
  },
  "language_info": {
   "codemirror_mode": {
    "name": "ipython",
    "version": 3
   },
   "file_extension": ".py",
   "mimetype": "text/x-python",
   "name": "python",
   "nbconvert_exporter": "python",
   "pygments_lexer": "ipython3",
   "version": "3.10.9"
  }
 },
 "nbformat": 4,
 "nbformat_minor": 5
}
