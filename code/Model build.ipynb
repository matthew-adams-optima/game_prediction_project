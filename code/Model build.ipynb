{
 "cells": [
  {
   "cell_type": "code",
   "execution_count": 201,
   "id": "ad620c6f",
   "metadata": {},
   "outputs": [],
   "source": [
    "# initialisation\n",
    "import pandas as pd\n",
    "import numpy as np\n",
    "import plotly.express as px\n",
    "import itertools\n",
    "from scipy.stats import *\n",
    "from pandasgui import show\n",
    "from sklearn.ensemble import GradientBoostingRegressor\n",
    "from sklearn.linear_model import LinearRegression\n",
    "from sklearn.model_selection import train_test_split"
   ]
  },
  {
   "cell_type": "code",
   "execution_count": 202,
   "id": "0bbc7bb8",
   "metadata": {},
   "outputs": [
    {
     "data": {
      "text/html": [
       "<div>\n",
       "<style scoped>\n",
       "    .dataframe tbody tr th:only-of-type {\n",
       "        vertical-align: middle;\n",
       "    }\n",
       "\n",
       "    .dataframe tbody tr th {\n",
       "        vertical-align: top;\n",
       "    }\n",
       "\n",
       "    .dataframe thead th {\n",
       "        text-align: right;\n",
       "    }\n",
       "</style>\n",
       "<table border=\"1\" class=\"dataframe\">\n",
       "  <thead>\n",
       "    <tr style=\"text-align: right;\">\n",
       "      <th></th>\n",
       "      <th>Game</th>\n",
       "      <th>Rating</th>\n",
       "      <th>Reviewscore</th>\n",
       "      <th>Played on</th>\n",
       "      <th>Launch Year</th>\n",
       "      <th>Play Year</th>\n",
       "      <th>DLC/ Major update played</th>\n",
       "      <th>Publisher</th>\n",
       "      <th>Developer</th>\n",
       "      <th>Franchise</th>\n",
       "      <th>Key words</th>\n",
       "      <th>Remaster Reviewscore</th>\n",
       "      <th>Remaster Release Year</th>\n",
       "      <th>Developer2</th>\n",
       "    </tr>\n",
       "  </thead>\n",
       "  <tbody>\n",
       "    <tr>\n",
       "      <th>0</th>\n",
       "      <td>The Legend of Zelda: Tears of the Kingdom</td>\n",
       "      <td>100</td>\n",
       "      <td>96</td>\n",
       "      <td>Switch</td>\n",
       "      <td>2023</td>\n",
       "      <td>2023</td>\n",
       "      <td>No</td>\n",
       "      <td>Nintendo</td>\n",
       "      <td>Nintendo</td>\n",
       "      <td>The Legend of Zelda</td>\n",
       "      <td>Adventure, open-world, sandbox, exploration, p...</td>\n",
       "      <td>NaN</td>\n",
       "      <td>NaN</td>\n",
       "      <td>NaN</td>\n",
       "    </tr>\n",
       "    <tr>\n",
       "      <th>1</th>\n",
       "      <td>The Legend of Zelda: Breath of the Wild</td>\n",
       "      <td>100</td>\n",
       "      <td>97</td>\n",
       "      <td>Switch</td>\n",
       "      <td>2017</td>\n",
       "      <td>2017</td>\n",
       "      <td>Yes</td>\n",
       "      <td>Nintendo</td>\n",
       "      <td>Nintendo</td>\n",
       "      <td>The Legend of Zelda</td>\n",
       "      <td>Adventure, open-world, sandbox, exploration, p...</td>\n",
       "      <td>NaN</td>\n",
       "      <td>NaN</td>\n",
       "      <td>NaN</td>\n",
       "    </tr>\n",
       "    <tr>\n",
       "      <th>2</th>\n",
       "      <td>God of War (2018)</td>\n",
       "      <td>99</td>\n",
       "      <td>94</td>\n",
       "      <td>PS4</td>\n",
       "      <td>2018</td>\n",
       "      <td>2018</td>\n",
       "      <td>No</td>\n",
       "      <td>Sony</td>\n",
       "      <td>Santa Monica Studio</td>\n",
       "      <td>God of War</td>\n",
       "      <td>Hack and slash, third-person combat, story-driven</td>\n",
       "      <td>NaN</td>\n",
       "      <td>NaN</td>\n",
       "      <td>NaN</td>\n",
       "    </tr>\n",
       "    <tr>\n",
       "      <th>3</th>\n",
       "      <td>The Last of Us</td>\n",
       "      <td>99</td>\n",
       "      <td>95</td>\n",
       "      <td>PS4</td>\n",
       "      <td>2013</td>\n",
       "      <td>2014</td>\n",
       "      <td>Yes</td>\n",
       "      <td>Sony</td>\n",
       "      <td>Naughty Dog</td>\n",
       "      <td>The Last of Us</td>\n",
       "      <td>Horror, TPS, stealth, survival, story-driven, ...</td>\n",
       "      <td>94.0</td>\n",
       "      <td>2014.0</td>\n",
       "      <td>NaN</td>\n",
       "    </tr>\n",
       "    <tr>\n",
       "      <th>4</th>\n",
       "      <td>Metroid Prime</td>\n",
       "      <td>99</td>\n",
       "      <td>97</td>\n",
       "      <td>Switch</td>\n",
       "      <td>2002</td>\n",
       "      <td>2023</td>\n",
       "      <td>No</td>\n",
       "      <td>Nintendo</td>\n",
       "      <td>Retro Studios</td>\n",
       "      <td>Metroid</td>\n",
       "      <td>Metroidvania, FPS, platforming, exploration</td>\n",
       "      <td>94.0</td>\n",
       "      <td>2023.0</td>\n",
       "      <td>NaN</td>\n",
       "    </tr>\n",
       "    <tr>\n",
       "      <th>...</th>\n",
       "      <td>...</td>\n",
       "      <td>...</td>\n",
       "      <td>...</td>\n",
       "      <td>...</td>\n",
       "      <td>...</td>\n",
       "      <td>...</td>\n",
       "      <td>...</td>\n",
       "      <td>...</td>\n",
       "      <td>...</td>\n",
       "      <td>...</td>\n",
       "      <td>...</td>\n",
       "      <td>...</td>\n",
       "      <td>...</td>\n",
       "      <td>...</td>\n",
       "    </tr>\n",
       "    <tr>\n",
       "      <th>433</th>\n",
       "      <td>Fifa 06 Game Boy Advance</td>\n",
       "      <td>44</td>\n",
       "      <td>49</td>\n",
       "      <td>GBA</td>\n",
       "      <td>2005</td>\n",
       "      <td>2005</td>\n",
       "      <td>No</td>\n",
       "      <td>EA</td>\n",
       "      <td>EA sports</td>\n",
       "      <td>Fifa</td>\n",
       "      <td>Sports (football)</td>\n",
       "      <td>NaN</td>\n",
       "      <td>NaN</td>\n",
       "      <td>NaN</td>\n",
       "    </tr>\n",
       "    <tr>\n",
       "      <th>434</th>\n",
       "      <td>Cruis'n Blast</td>\n",
       "      <td>42</td>\n",
       "      <td>73</td>\n",
       "      <td>Switch</td>\n",
       "      <td>2021</td>\n",
       "      <td>2021</td>\n",
       "      <td>No</td>\n",
       "      <td>Indie</td>\n",
       "      <td>Raw Thrills</td>\n",
       "      <td>Cruise'n Blast</td>\n",
       "      <td>Racing (arcade)</td>\n",
       "      <td>NaN</td>\n",
       "      <td>NaN</td>\n",
       "      <td>NaN</td>\n",
       "    </tr>\n",
       "    <tr>\n",
       "      <th>435</th>\n",
       "      <td>Fifa 14 Legacy Edition</td>\n",
       "      <td>38</td>\n",
       "      <td>38</td>\n",
       "      <td>Vita</td>\n",
       "      <td>2013</td>\n",
       "      <td>2013</td>\n",
       "      <td>No</td>\n",
       "      <td>EA</td>\n",
       "      <td>EA Sports</td>\n",
       "      <td>Fifa</td>\n",
       "      <td>Sports (football)</td>\n",
       "      <td>NaN</td>\n",
       "      <td>NaN</td>\n",
       "      <td>NaN</td>\n",
       "    </tr>\n",
       "    <tr>\n",
       "      <th>436</th>\n",
       "      <td>Sunlight</td>\n",
       "      <td>34</td>\n",
       "      <td>78</td>\n",
       "      <td>PC</td>\n",
       "      <td>2021</td>\n",
       "      <td>2023</td>\n",
       "      <td>No</td>\n",
       "      <td>Indie</td>\n",
       "      <td>Krillbite Studio</td>\n",
       "      <td>Sunlight</td>\n",
       "      <td>Adventure</td>\n",
       "      <td>NaN</td>\n",
       "      <td>NaN</td>\n",
       "      <td>NaN</td>\n",
       "    </tr>\n",
       "    <tr>\n",
       "      <th>437</th>\n",
       "      <td>Doom VFR</td>\n",
       "      <td>25</td>\n",
       "      <td>70</td>\n",
       "      <td>PS4</td>\n",
       "      <td>2017</td>\n",
       "      <td>2019</td>\n",
       "      <td>No</td>\n",
       "      <td>Bethesda</td>\n",
       "      <td>id Software</td>\n",
       "      <td>Doom</td>\n",
       "      <td>FPS</td>\n",
       "      <td>NaN</td>\n",
       "      <td>NaN</td>\n",
       "      <td>NaN</td>\n",
       "    </tr>\n",
       "  </tbody>\n",
       "</table>\n",
       "<p>438 rows × 14 columns</p>\n",
       "</div>"
      ],
      "text/plain": [
       "                                          Game  Rating  Reviewscore Played on  \\\n",
       "0    The Legend of Zelda: Tears of the Kingdom     100           96    Switch   \n",
       "1      The Legend of Zelda: Breath of the Wild     100           97    Switch   \n",
       "2                            God of War (2018)      99           94       PS4   \n",
       "3                               The Last of Us      99           95       PS4   \n",
       "4                                Metroid Prime      99           97    Switch   \n",
       "..                                         ...     ...          ...       ...   \n",
       "433                   Fifa 06 Game Boy Advance      44           49       GBA   \n",
       "434                              Cruis'n Blast      42           73    Switch   \n",
       "435                     Fifa 14 Legacy Edition      38           38      Vita   \n",
       "436                                   Sunlight      34           78        PC   \n",
       "437                                   Doom VFR      25           70       PS4   \n",
       "\n",
       "     Launch Year  Play Year DLC/ Major update played Publisher  \\\n",
       "0           2023       2023                       No  Nintendo   \n",
       "1           2017       2017                      Yes  Nintendo   \n",
       "2           2018       2018                       No      Sony   \n",
       "3           2013       2014                      Yes      Sony   \n",
       "4           2002       2023                       No  Nintendo   \n",
       "..           ...        ...                      ...       ...   \n",
       "433         2005       2005                       No        EA   \n",
       "434         2021       2021                       No     Indie   \n",
       "435         2013       2013                       No        EA   \n",
       "436         2021       2023                       No     Indie   \n",
       "437         2017       2019                       No  Bethesda   \n",
       "\n",
       "               Developer            Franchise  \\\n",
       "0               Nintendo  The Legend of Zelda   \n",
       "1               Nintendo  The Legend of Zelda   \n",
       "2    Santa Monica Studio           God of War   \n",
       "3            Naughty Dog       The Last of Us   \n",
       "4          Retro Studios              Metroid   \n",
       "..                   ...                  ...   \n",
       "433            EA sports                 Fifa   \n",
       "434          Raw Thrills       Cruise'n Blast   \n",
       "435            EA Sports                 Fifa   \n",
       "436     Krillbite Studio             Sunlight   \n",
       "437          id Software                 Doom   \n",
       "\n",
       "                                             Key words  Remaster Reviewscore  \\\n",
       "0    Adventure, open-world, sandbox, exploration, p...                   NaN   \n",
       "1    Adventure, open-world, sandbox, exploration, p...                   NaN   \n",
       "2    Hack and slash, third-person combat, story-driven                   NaN   \n",
       "3    Horror, TPS, stealth, survival, story-driven, ...                  94.0   \n",
       "4          Metroidvania, FPS, platforming, exploration                  94.0   \n",
       "..                                                 ...                   ...   \n",
       "433                                  Sports (football)                   NaN   \n",
       "434                                    Racing (arcade)                   NaN   \n",
       "435                                  Sports (football)                   NaN   \n",
       "436                                          Adventure                   NaN   \n",
       "437                                                FPS                   NaN   \n",
       "\n",
       "     Remaster Release Year Developer2  \n",
       "0                      NaN        NaN  \n",
       "1                      NaN        NaN  \n",
       "2                      NaN        NaN  \n",
       "3                   2014.0        NaN  \n",
       "4                   2023.0        NaN  \n",
       "..                     ...        ...  \n",
       "433                    NaN        NaN  \n",
       "434                    NaN        NaN  \n",
       "435                    NaN        NaN  \n",
       "436                    NaN        NaN  \n",
       "437                    NaN        NaN  \n",
       "\n",
       "[438 rows x 14 columns]"
      ]
     },
     "execution_count": 202,
     "metadata": {},
     "output_type": "execute_result"
    }
   ],
   "source": [
    "# load the data\n",
    "raw_data = pd.read_csv('../data/Games Database - Main Page.csv')\n",
    "#show(raw_data)\n",
    "#drop fields we won't be needing\n",
    "raw_data.drop(['Me - Review', 'Percentile', 'Launch Platform(s)', 'Hours Played', 'Completion', 'Year(s) revisited/ continued/ earlier dabbled'], axis = 1, inplace = True)\n",
    "raw_data"
   ]
  },
  {
   "cell_type": "code",
   "execution_count": 203,
   "id": "0726698e",
   "metadata": {
    "scrolled": false
   },
   "outputs": [
    {
     "data": {
      "application/vnd.plotly.v1+json": {
       "config": {
        "plotlyServerURL": "https://plot.ly"
       },
       "data": [
        {
         "hovertemplate": "<b>%{hovertext}</b><br><br>Played on=Switch<br>Reviewscore=%{x}<br>Rating=%{y}<extra></extra>",
         "hovertext": [
          "The Legend of Zelda: Tears of the Kingdom",
          "The Legend of Zelda: Breath of the Wild",
          "Metroid Prime",
          "Super Mario Odyssey",
          "Celeste",
          "Mario Kart 8",
          "Metroid Dread",
          "Super Metroid",
          "Super Smash Bros. Ultimate",
          "Ys VIII Lacrimosa of Dana",
          "Bayonetta 2",
          "Metroid Fusion",
          "Super Mario 3D World + Bowser's Fury",
          "Astral Chain",
          "Animal Crossing New Horizons",
          "Golf Story",
          "Splatoon 3",
          "The Legend of Zelda: Skyward Sword",
          "Mario & Luigi Superstar Saga",
          "Pokemon Legends Arceus",
          "Luigi's Mansion 3",
          "Monster Hunter Rise",
          "Mario + Rabbids Kingdom Battle",
          "Kirby and the Forgotten Land",
          "The Legend of Zelda: A Link to the Past",
          "Xenoblade Chronicles Definitive Edition",
          "Freshly Frosted",
          "Ring Fit Adventure",
          "Gris",
          "Pokemon Let's Go Pikachu",
          "Hot Wheels Unleashed",
          "Pokemon Violet",
          "Wargroove",
          "The Legend of Zelda: Link's Awakening",
          "Hyrule Warriors Age of Calamity",
          "Cat Quest II",
          "Cat Quest",
          "Bayonetta",
          "Mario Golf: Super Rush",
          "Mario Tennis Aces",
          "Grid Autosport",
          "Minecraft Dungeons",
          "Pokemon Sword",
          "Octopath Traveller",
          "Cruis'n Blast"
         ],
         "legendgroup": "Switch",
         "marker": {
          "color": "#636efa",
          "symbol": "circle"
         },
         "mode": "markers",
         "name": "Switch",
         "orientation": "v",
         "showlegend": true,
         "type": "scatter",
         "x": [
          96,
          97,
          97,
          97,
          91,
          88,
          87,
          96,
          93,
          85,
          91,
          92,
          89,
          87,
          90,
          78,
          83,
          93,
          90,
          84,
          86,
          88,
          85,
          84,
          95,
          89,
          91,
          83,
          84,
          81,
          74,
          72,
          83,
          87,
          80,
          76,
          72,
          90,
          71,
          78,
          78,
          72,
          80,
          83,
          73
         ],
         "xaxis": "x",
         "y": [
          100,
          100,
          99,
          97,
          94,
          94,
          93,
          93,
          90,
          90,
          90,
          90,
          89,
          88,
          87,
          85,
          84,
          84,
          84,
          82,
          82,
          81,
          81,
          80,
          80,
          79,
          78,
          78,
          77,
          76,
          75,
          74,
          74,
          73,
          72,
          72,
          71,
          69,
          67,
          66,
          65,
          64,
          63,
          61,
          42
         ],
         "yaxis": "y"
        },
        {
         "hovertemplate": "<b>%{hovertext}</b><br><br>Played on=PS4<br>Reviewscore=%{x}<br>Rating=%{y}<extra></extra>",
         "hovertext": [
          "God of War (2018)",
          "The Last of Us",
          "Red Dead Redemption 2",
          "Horizon Zero Dawn",
          "The Last of Us Part II",
          "Bloodborne",
          "Uncharted 2 Among Thieves",
          "Grand Theft Auto V",
          "Astro Bot Rescue Mission",
          "Uncharted 4 A Thief's End",
          "Driveclub",
          "Ghost of Tsushima",
          "Marvel's Spider-Man",
          "Uncharted The Lost Legacy",
          "Dragon Age Inquisition",
          "Final Fantasy VII Remake",
          "Rayman Legends",
          "God of War 3",
          "Star Wars Jedi Fallen Order",
          "Rocket League",
          "Batman Arkham Asylum",
          "Call of Duty Modern Warfare",
          "Marvel's Spider-Man Miles Morales",
          "Tetris Effect",
          "Crash Bandicoot 2: Cortex Strikes Back",
          "Persona 5",
          "Titanfall 2",
          "Rise of the Tomb Raider ",
          "Assassin's Creed IV Black Flag",
          "Journey",
          "F1 2020",
          "Tales From the Borderlands",
          "Crash Bandicoot 3: Warped",
          "Crash Team Racing Nitro Fueled",
          "Transistor",
          "Uncharted Drake's Fortune",
          "F1 2018",
          "Watch Dogs",
          "Assassin's Creed Unity",
          "Borderlands 3",
          "F1 2017",
          "Batman Arkham Knight",
          "OlliOlli 2: Welcome to Olliwood",
          "Tomb Raider",
          "F1 2019",
          "Assassin's Creed Syndicate",
          "Assassin's Creed Origins",
          "F1 2016",
          "Call of Duty Infinite Warfare",
          "Fifa 14",
          "Call of Duty Black Ops 4",
          "Overwatch",
          "Far Cry 4",
          "inFAMOUS Second Son",
          "Resogun",
          "Apex Legends",
          "Concrete Genie",
          "Overcooked 2",
          "Overcooked",
          "Stardew Valley",
          "Call of Duty Advanced Warfare",
          "Dreams",
          "Gran Turismo Sport",
          "Call of Duty WW2",
          "Trackmania Turbo",
          "Kingdom Hearts 3",
          "Ratchet & Clank",
          "Call of Duty Black Ops III",
          "The Order 1886",
          "Middle Earth Shadow of Mordor",
          "Heavy Rain",
          "Sekiro Shadows Die Twice",
          "Moss PSVR",
          "WipeOut Omega Collection",
          "Battlefield 4",
          "Monster Hunter World",
          "Doom (2016)",
          "Borderlands The Pre-Sequel",
          "Crash Bandicoot 4: Its About Time",
          "Destiny",
          "Infamous First Light",
          "Dirt Rally 2.0",
          "Star Wars Squadrons",
          "Journey to the Savage Planet",
          "Detroit Become Human",
          "Watch Dogs 2",
          "The Crew",
          "Velocity 2X",
          "Crash Bandicoot",
          "Battlefield 1",
          "Apotheon",
          "Assassin's Creed Rogue",
          "Don't Starve: Console Edition",
          "Sportsfriends",
          "Fifa 19",
          "The Witcher 3",
          "Star Wars Battlefront",
          "Assassin's Creed Freedom Cry",
          "Killzone Shadow Fall",
          "Grid (2019)",
          "GreedFall",
          "Cyberpunk 2077",
          "Assassin's Creed Odyssey",
          "Nex Machina",
          "Far Cry Primal",
          "Fall Guys",
          "Final Fantasy XV",
          "The Last Guardian",
          "Dragon Quest Builders",
          "War Thunder",
          "Just Cause 3",
          "Shadow of the Colossus (Remake)",
          "Nier Automata",
          "Project Cars",
          "Doom Eternal",
          "Unrailed!",
          "Middle Earth: Shadow of War",
          "The Crew 2",
          "Need For Speed Heat",
          "F1 2015",
          "DC Universe Online",
          "Dead Nation: Apocalypse Edition",
          "Little Big Planet 3",
          "VR Worlds",
          "Control",
          "Game of Thrones Telltale",
          "Marvel's Avengers",
          "Farming Simulator 2019",
          "Contrast",
          "Doom VFR"
         ],
         "legendgroup": "PS4",
         "marker": {
          "color": "#EF553B",
          "symbol": "circle"
         },
         "mode": "markers",
         "name": "PS4",
         "orientation": "v",
         "showlegend": true,
         "type": "scatter",
         "x": [
          94,
          95,
          97,
          89,
          93,
          92,
          96,
          97,
          90,
          93,
          71,
          85,
          87,
          84,
          89,
          88,
          90,
          92,
          85,
          85,
          92,
          92,
          85,
          89,
          89,
          94,
          87,
          86,
          83,
          92,
          88,
          86,
          91,
          83,
          83,
          88,
          84,
          77,
          70,
          80,
          86,
          87,
          85,
          85,
          86,
          76,
          81,
          82,
          77,
          85,
          85,
          91,
          85,
          80,
          84,
          86,
          77,
          81,
          80,
          89,
          83,
          90,
          75,
          79,
          81,
          85,
          85,
          81,
          63,
          84,
          87,
          90,
          85,
          85,
          85,
          89,
          85,
          75,
          85,
          76,
          73,
          83,
          79,
          76,
          78,
          82,
          61,
          85,
          80,
          87,
          76,
          72,
          76,
          80,
          81,
          92,
          73,
          70,
          73,
          73,
          75,
          76,
          85,
          84,
          76,
          80,
          81,
          81,
          70,
          75,
          73,
          92,
          89,
          75,
          89,
          75,
          79,
          64,
          72,
          65,
          72,
          71,
          79,
          56,
          84,
          69,
          68,
          64,
          59,
          70
         ],
         "xaxis": "x",
         "y": [
          99,
          99,
          98,
          97,
          96,
          96,
          96,
          95,
          94,
          94,
          94,
          93,
          93,
          92,
          92,
          91,
          91,
          91,
          90,
          90,
          90,
          90,
          89,
          89,
          89,
          88,
          88,
          88,
          88,
          88,
          87,
          87,
          87,
          86,
          86,
          86,
          85,
          85,
          85,
          84,
          84,
          84,
          84,
          84,
          83,
          83,
          82,
          82,
          82,
          82,
          81,
          81,
          81,
          81,
          81,
          80,
          80,
          80,
          80,
          80,
          80,
          79,
          79,
          79,
          79,
          78,
          78,
          78,
          78,
          78,
          78,
          77,
          77,
          77,
          77,
          76,
          76,
          76,
          74,
          74,
          74,
          73,
          72,
          72,
          72,
          72,
          72,
          72,
          72,
          71,
          71,
          71,
          71,
          71,
          70,
          70,
          70,
          70,
          70,
          69,
          69,
          68,
          68,
          68,
          67,
          66,
          66,
          65,
          65,
          65,
          64,
          63,
          63,
          63,
          61,
          61,
          60,
          59,
          58,
          58,
          58,
          57,
          56,
          55,
          53,
          50,
          47,
          46,
          45,
          25
         ],
         "yaxis": "y"
        },
        {
         "hovertemplate": "<b>%{hovertext}</b><br><br>Played on=PC<br>Reviewscore=%{x}<br>Rating=%{y}<extra></extra>",
         "hovertext": [
          "Hades",
          "Portal 2",
          "Hollow Knight",
          "Forza Horizon 3",
          "Guild Wars 2",
          "Forza Horizon 5",
          "Forza Horizon 4",
          "Undertale",
          "Halo Combat Evolved",
          "Football Manager 2007",
          "Halo Reach",
          "Psychonauts",
          "Ori and The Will of the Wisps",
          "A Short Hike",
          "Divinity Original Sin 2",
          "Civilization V",
          "Halo 3",
          "Diablo 3",
          "Vampire Survivors",
          "Rogue Legacy 2",
          "Death's Door",
          "Cities Skylines",
          "Devil May Cry 5",
          "Civilization VI",
          "Football Manager 2008",
          "Halo 2",
          "Aces and Adventures",
          "Minecraft",
          "Neon White",
          "Crosscode",
          "Europa Universalis IV",
          "Terraria",
          "Football Manager 2009",
          "Citizen Sleeper",
          "Team Fortress 2",
          "Rollercoaster Tycoon 2",
          "Spiritfarer",
          "Call of Duty Black Ops II",
          "Football Manager 2010",
          "Path of Exile",
          "Football Manager 2013",
          "Ys Seven",
          "Two Point Campus",
          "Final Fantasy X",
          "PlateUp!",
          "Teenage Mutant Ninja Turtles: Shredder's Revenge",
          "F1 2012",
          "Loop Hero",
          "Crypt of the Necrodancer",
          "XCOM: Enemy Unknown",
          "Torchlight 2",
          "Football Manager 2012",
          "Deep Rock Galactic",
          "Warhammer Vermentide 2",
          "Hearts of Iron IV",
          "Ori and The Blind Forest",
          "Football Manager 2014",
          "Diablo 4",
          "Parkitect",
          "Northgard",
          "Pyre",
          "Warframe",
          "Star Wars: Knights of the Old Republic",
          "Ultimate Chicken Horse",
          "Prison Architect",
          "Spec Ops The Line",
          "Torchlight",
          "Dungeon of the Endless",
          "Endless Legend",
          "Rollercoaster Tycoon",
          "Wildermyth",
          "The Riftbreaker",
          "Buck Up and Drive!",
          "Darksiders Genesis",
          "Football Manager 2015",
          "Hyper Light Drifter",
          "Stellaris",
          "Halo 3 ODST",
          "20 Minutes Till Dawn",
          "Warpips",
          "Abzu",
          "TemTem",
          "Age of Empires IV",
          "Golf With Your Friends",
          "Motorsport Manager",
          "Boyfriend Dungeon",
          "Clustertruck",
          "Banished",
          "Mini Motorways",
          "Dicey Dungeons",
          "Surviving Mars",
          "Dragon Quest XI",
          "Factorio",
          "Game Dev Tycoon",
          "Awesomenauts",
          "The Jackbox Party Pack 6",
          "Sea of Thieves",
          "Worms W.M.D",
          "Kingdom New Lands",
          "Darksburg",
          "The Ascent",
          "Back 4 Blood",
          "Big Pharma",
          "You Suck At Parking",
          "Embr",
          "For The King",
          "Human Fall Flat",
          "Civilization Beyond Earth",
          "Warlock - Master of the Arcane",
          "Spacelines from the Far Out",
          "Luna",
          "Democracy 3",
          "Clicker Heroes",
          "Lost Ark",
          "Golfie",
          "Minecraft Legends",
          "Shoppe Keep",
          "Diablo 2 Resurrected",
          "Youtubers Life",
          "F.I.S.T. Forged In Shadow Torch",
          "Sunlight"
         ],
         "legendgroup": "PC",
         "marker": {
          "color": "#00cc96",
          "symbol": "circle"
         },
         "mode": "markers",
         "name": "PC",
         "orientation": "v",
         "showlegend": true,
         "type": "scatter",
         "x": [
          94,
          95,
          90,
          91,
          90,
          92,
          92,
          92,
          97,
          87,
          91,
          87,
          90,
          87,
          93,
          90,
          94,
          88,
          87,
          89,
          88,
          85,
          88,
          88,
          86,
          95,
          84,
          93,
          89,
          86,
          87,
          83,
          83,
          84,
          92,
          74,
          87,
          83,
          87,
          93,
          86,
          79,
          84,
          92,
          80,
          87,
          81,
          84,
          87,
          89,
          88,
          84,
          85,
          83,
          83,
          89,
          85,
          88,
          83,
          79,
          84,
          71,
          94,
          79,
          80,
          76,
          83,
          79,
          82,
          78,
          85,
          80,
          70,
          79,
          80,
          84,
          81,
          83,
          76,
          79,
          80,
          76,
          83,
          69,
          81,
          73,
          76,
          74,
          80,
          82,
          77,
          86,
          70,
          68,
          78,
          74,
          67,
          78,
          73,
          68,
          73,
          76,
          64,
          70,
          67,
          75,
          68,
          81,
          71,
          82,
          62,
          70,
          57,
          82,
          70,
          71,
          57,
          80,
          63,
          80,
          78
         ],
         "xaxis": "x",
         "y": [
          98,
          95,
          94,
          93,
          93,
          92,
          92,
          92,
          92,
          91,
          90,
          90,
          89,
          89,
          89,
          89,
          89,
          88,
          88,
          88,
          88,
          88,
          87,
          87,
          87,
          87,
          86,
          86,
          85,
          85,
          85,
          85,
          85,
          84,
          84,
          84,
          83,
          83,
          83,
          81,
          81,
          81,
          80,
          80,
          79,
          79,
          79,
          78,
          78,
          78,
          78,
          78,
          77,
          77,
          77,
          77,
          77,
          76,
          76,
          76,
          76,
          76,
          76,
          75,
          75,
          75,
          75,
          74,
          74,
          74,
          73,
          73,
          73,
          73,
          73,
          72,
          72,
          72,
          71,
          71,
          71,
          70,
          70,
          70,
          70,
          69,
          69,
          69,
          68,
          68,
          68,
          68,
          68,
          68,
          68,
          67,
          67,
          67,
          67,
          66,
          64,
          63,
          63,
          62,
          62,
          62,
          62,
          62,
          62,
          60,
          60,
          56,
          55,
          54,
          53,
          52,
          52,
          51,
          50,
          49,
          34
         ],
         "yaxis": "y"
        },
        {
         "hovertemplate": "<b>%{hovertext}</b><br><br>Played on=Wii<br>Reviewscore=%{x}<br>Rating=%{y}<extra></extra>",
         "hovertext": [
          "Super Mario Galaxy",
          "Super Mario Galaxy 2",
          "Super Smash Bros. Brawl",
          "Mario Kart Wii",
          "Wii Sports",
          "Mario Strikers Charged Football",
          "Wii Fit",
          "New Super Mario Bros. Wii",
          "F1 2009",
          "Animal Crossing City Folk",
          "Mario & Sonic at the Olympic Games",
          "Mario Party 8"
         ],
         "legendgroup": "Wii",
         "marker": {
          "color": "#ab63fa",
          "symbol": "circle"
         },
         "mode": "markers",
         "name": "Wii",
         "orientation": "v",
         "showlegend": true,
         "type": "scatter",
         "x": [
          97,
          97,
          93,
          82,
          76,
          79,
          80,
          87,
          69,
          73,
          67,
          62
         ],
         "xaxis": "x",
         "y": [
          98,
          97,
          91,
          88,
          75,
          75,
          74,
          73,
          69,
          67,
          63,
          51
         ],
         "yaxis": "y"
        },
        {
         "hovertemplate": "<b>%{hovertext}</b><br><br>Played on=XBS<br>Reviewscore=%{x}<br>Rating=%{y}<extra></extra>",
         "hovertext": [
          "Hi-Fi Rush",
          "Elden Ring",
          "Mass Effect 2",
          "Mass Effect 3",
          "Mass Effect",
          "Psychonauts 2",
          "Gears 5",
          "Dead Cells",
          "Unsighted",
          "Halo 5: Guardians",
          "Monster Sanctuary",
          "Forza Motorsport 7",
          "Gears of War 4",
          "Halo 4",
          "Halo Infinite",
          "Nobody Saves The World",
          "Wild Hearts",
          "Chained Echoes",
          "Streets of Rage 4",
          "A Plague Tale: Innocence",
          "Far Cry 5",
          "Grid Legends",
          "High on Life",
          "Windjammers 2",
          "Trek to Yomi",
          "Curse of the Dead Gods",
          "Tunic",
          "Need for Speed Unbound",
          "Wo Long Fallen Dynasty",
          "A Plague Tale: Requiem",
          "Scarlet Nexus",
          "Dandy Ace",
          "The Outer Worlds",
          "Outer Wilds",
          "CrossfireX"
         ],
         "legendgroup": "XBS",
         "marker": {
          "color": "#FFA15A",
          "symbol": "circle"
         },
         "mode": "markers",
         "name": "XBS",
         "orientation": "v",
         "showlegend": true,
         "type": "scatter",
         "x": [
          89,
          96,
          96,
          93,
          91,
          89,
          85,
          89,
          85,
          84,
          80,
          85,
          84,
          87,
          87,
          80,
          79,
          89,
          84,
          82,
          82,
          75,
          69,
          77,
          72,
          81,
          86,
          75,
          82,
          84,
          79,
          79,
          85,
          86,
          42
         ],
         "xaxis": "x",
         "y": [
          97,
          97,
          95,
          94,
          90,
          89,
          87,
          87,
          86,
          85,
          83,
          82,
          82,
          82,
          81,
          78,
          77,
          77,
          77,
          77,
          76,
          72,
          72,
          71,
          70,
          70,
          69,
          67,
          64,
          64,
          61,
          59,
          59,
          58,
          48
         ],
         "yaxis": "y"
        },
        {
         "hovertemplate": "<b>%{hovertext}</b><br><br>Played on=PS5<br>Reviewscore=%{x}<br>Rating=%{y}<extra></extra>",
         "hovertext": [
          "God of War Ragnarök",
          "Bioshock Infinite",
          "Bioshock",
          "Final Fantasy XVI",
          "Horizon Forbidden West",
          "Demon's Souls (Remake)",
          "Ratchet & Clank: Rift Apart",
          "Astro's Playroom",
          "Star Wars Jedi Survivor",
          "Gran Turismo 7",
          "OlliOlli World",
          "Stray",
          "Guardians of the Galaxy",
          "Returnal",
          "Kena: Bridge of Spirits",
          "Ys IX: Monstrum Nox",
          "Deathloop",
          "Bioshock 2",
          "Dirt 5",
          "Overwatch 2",
          "Risk of Rain 2",
          "Trials Fusion",
          "Immortals Fenyx Rising",
          "Trials Rising",
          "Sackboy: A Big Adventure",
          "Bugsnax",
          "WRC 9",
          "Wreckfest",
          "Cult of the Lamb",
          "Ghostwire Tokyo",
          "Tribes of Midgard",
          "Nioh",
          "Arcadeggedon",
          "Pure Pool",
          "Lego Star Wars The Skywalker Saga",
          "Destruction Allstars",
          "Tchia"
         ],
         "legendgroup": "PS5",
         "marker": {
          "color": "#19d3f3",
          "symbol": "circle"
         },
         "mode": "markers",
         "name": "PS5",
         "orientation": "v",
         "showlegend": true,
         "type": "scatter",
         "x": [
          94,
          94,
          96,
          88,
          88,
          92,
          88,
          84,
          85,
          87,
          86,
          84,
          82,
          86,
          82,
          80,
          88,
          88,
          82,
          77,
          86,
          79,
          79,
          80,
          81,
          75,
          80,
          80,
          84,
          77,
          75,
          88,
          74,
          73,
          82,
          62,
          78
         ],
         "xaxis": "x",
         "y": [
          96,
          95,
          93,
          92,
          91,
          90,
          89,
          88,
          87,
          87,
          87,
          86,
          86,
          84,
          84,
          83,
          82,
          80,
          79,
          77,
          77,
          77,
          76,
          76,
          75,
          75,
          74,
          74,
          73,
          73,
          73,
          65,
          64,
          64,
          63,
          58,
          57
         ],
         "yaxis": "y"
        },
        {
         "hovertemplate": "<b>%{hovertext}</b><br><br>Played on=DS<br>Reviewscore=%{x}<br>Rating=%{y}<extra></extra>",
         "hovertext": [
          "Mario Kart DS",
          "Pokemon SoulSilver",
          "Pokemon White",
          "Pokemon Diamond",
          "Dragon Quest IX",
          "Nintendogs",
          "Brain Training",
          "Pokemon Mystery Dunegon Explorers of Time",
          "Mario & Sonic at the Winter Olympic Games"
         ],
         "legendgroup": "DS",
         "marker": {
          "color": "#FF6692",
          "symbol": "circle"
         },
         "mode": "markers",
         "name": "DS",
         "orientation": "v",
         "showlegend": true,
         "type": "scatter",
         "x": [
          91,
          87,
          87,
          85,
          87,
          83,
          77,
          60,
          72
         ],
         "xaxis": "x",
         "y": [
          93,
          91,
          88,
          85,
          79,
          75,
          73,
          69,
          68
         ],
         "yaxis": "y"
        },
        {
         "hovertemplate": "<b>%{hovertext}</b><br><br>Played on=PS3<br>Reviewscore=%{x}<br>Rating=%{y}<extra></extra>",
         "hovertext": [
          "Assassin's Creed Brotherhood",
          "Call of Duty Modern Warfare 2",
          "Uncharted 3 Drake's Deception",
          "Call of Duty Black Ops",
          "Dragon Age 2",
          "Call of Duty Modern Warfare 3",
          "Dragon Age Origins",
          "Assassin's Creed Revelations",
          "Fifa 11",
          "F1 2011",
          "F1 2010",
          "Need for Speed Hot Pursuit",
          "Skyrim",
          "Burnout Paradise"
         ],
         "legendgroup": "PS3",
         "marker": {
          "color": "#B6E880",
          "symbol": "circle"
         },
         "mode": "markers",
         "name": "PS3",
         "orientation": "v",
         "showlegend": true,
         "type": "scatter",
         "x": [
          90,
          94,
          92,
          88,
          79,
          89,
          91,
          80,
          88,
          84,
          84,
          88,
          94,
          88
         ],
         "xaxis": "x",
         "y": [
          92,
          92,
          91,
          91,
          86,
          85,
          85,
          84,
          83,
          82,
          80,
          75,
          69,
          57
         ],
         "yaxis": "y"
        },
        {
         "hovertemplate": "<b>%{hovertext}</b><br><br>Played on=PS2<br>Reviewscore=%{x}<br>Rating=%{y}<extra></extra>",
         "hovertext": [
          "Grand Theft Auto San Andreas",
          "Lego Star Wars II: The Original Trilogy",
          "Lego Star Wars: The Video Game",
          "Fifa 07",
          "The Simpsons Hit & Run",
          "Fifa Street 2",
          "Crash Bandicoot The Wrath of Cortex"
         ],
         "legendgroup": "PS2",
         "marker": {
          "color": "#FF97FF",
          "symbol": "circle"
         },
         "mode": "markers",
         "name": "PS2",
         "orientation": "v",
         "showlegend": true,
         "type": "scatter",
         "x": [
          95,
          84,
          78,
          82,
          78,
          59,
          66
         ],
         "xaxis": "x",
         "y": [
          91,
          84,
          82,
          81,
          74,
          66,
          66
         ],
         "yaxis": "y"
        },
        {
         "hovertemplate": "<b>%{hovertext}</b><br><br>Played on=3DS<br>Reviewscore=%{x}<br>Rating=%{y}<extra></extra>",
         "hovertext": [
          "The Legend of Zelda: Ocarina of Time",
          "Pokemon Black 2",
          "Mario Kart 7",
          "Pokemon Sun",
          "Pokemon Y",
          "Pokemon Omega Ruby",
          "New Super Mario Bros. 2"
         ],
         "legendgroup": "3DS",
         "marker": {
          "color": "#FECB52",
          "symbol": "circle"
         },
         "mode": "markers",
         "name": "3DS",
         "orientation": "v",
         "showlegend": true,
         "type": "scatter",
         "x": [
          99,
          80,
          85,
          87,
          86,
          83,
          78
         ],
         "xaxis": "x",
         "y": [
          91,
          86,
          86,
          83,
          80,
          78,
          66
         ],
         "yaxis": "y"
        },
        {
         "hovertemplate": "<b>%{hovertext}</b><br><br>Played on=GB<br>Reviewscore=%{x}<br>Rating=%{y}<extra></extra>",
         "hovertext": [
          "Tetris"
         ],
         "legendgroup": "GB",
         "marker": {
          "color": "#636efa",
          "symbol": "circle"
         },
         "mode": "markers",
         "name": "GB",
         "orientation": "v",
         "showlegend": true,
         "type": "scatter",
         "x": [
          90
         ],
         "xaxis": "x",
         "y": [
          90
         ],
         "yaxis": "y"
        },
        {
         "hovertemplate": "<b>%{hovertext}</b><br><br>Played on=PS<br>Reviewscore=%{x}<br>Rating=%{y}<extra></extra>",
         "hovertext": [
          "Gran Turismo 2"
         ],
         "legendgroup": "PS",
         "marker": {
          "color": "#EF553B",
          "symbol": "circle"
         },
         "mode": "markers",
         "name": "PS",
         "orientation": "v",
         "showlegend": true,
         "type": "scatter",
         "x": [
          93
         ],
         "xaxis": "x",
         "y": [
          89
         ],
         "yaxis": "y"
        },
        {
         "hovertemplate": "<b>%{hovertext}</b><br><br>Played on=X360<br>Reviewscore=%{x}<br>Rating=%{y}<extra></extra>",
         "hovertext": [
          "Borderlands 2",
          "Forza 4",
          "Fifa 12",
          "Fifa 13",
          "Castlevania Symphony of the Night",
          "Grand Theft Auto IV"
         ],
         "legendgroup": "X360",
         "marker": {
          "color": "#00cc96",
          "symbol": "circle"
         },
         "mode": "markers",
         "name": "X360",
         "orientation": "v",
         "showlegend": true,
         "type": "scatter",
         "x": [
          89,
          91,
          90,
          90,
          93,
          98
         ],
         "xaxis": "x",
         "y": [
          88,
          88,
          81,
          80,
          74,
          71
         ],
         "yaxis": "y"
        },
        {
         "hovertemplate": "<b>%{hovertext}</b><br><br>Played on=Vita<br>Reviewscore=%{x}<br>Rating=%{y}<extra></extra>",
         "hovertext": [
          "Tearaway",
          "Guacamelee!",
          "Uncharted Golden Abyss",
          "Sonic & All Stars Racing Transformed",
          "Fifa 14 Legacy Edition"
         ],
         "legendgroup": "Vita",
         "marker": {
          "color": "#ab63fa",
          "symbol": "circle"
         },
         "mode": "markers",
         "name": "Vita",
         "orientation": "v",
         "showlegend": true,
         "type": "scatter",
         "x": [
          87,
          83,
          80,
          75,
          38
         ],
         "xaxis": "x",
         "y": [
          85,
          75,
          73,
          67,
          38
         ],
         "yaxis": "y"
        },
        {
         "hovertemplate": "<b>%{hovertext}</b><br><br>Played on=PSP<br>Reviewscore=%{x}<br>Rating=%{y}<extra></extra>",
         "hovertext": [
          "Grand Theft Auto Vice City Stories",
          "2010 FIFA World Cup South Africa"
         ],
         "legendgroup": "PSP",
         "marker": {
          "color": "#FFA15A",
          "symbol": "circle"
         },
         "mode": "markers",
         "name": "PSP",
         "orientation": "v",
         "showlegend": true,
         "type": "scatter",
         "x": [
          86,
          82
         ],
         "xaxis": "x",
         "y": [
          83,
          77
         ],
         "yaxis": "y"
        },
        {
         "hovertemplate": "<b>%{hovertext}</b><br><br>Played on=PC, XB1, XBS, NSW<br>Reviewscore=%{x}<br>Rating=%{y}<extra></extra>",
         "hovertext": [
          "Cassette Beasts"
         ],
         "legendgroup": "PC, XB1, XBS, NSW",
         "marker": {
          "color": "#19d3f3",
          "symbol": "circle"
         },
         "mode": "markers",
         "name": "PC, XB1, XBS, NSW",
         "orientation": "v",
         "showlegend": true,
         "type": "scatter",
         "x": [
          86
         ],
         "xaxis": "x",
         "y": [
          81
         ],
         "yaxis": "y"
        },
        {
         "hovertemplate": "<b>%{hovertext}</b><br><br>Played on=Mobile<br>Reviewscore=%{x}<br>Rating=%{y}<extra></extra>",
         "hovertext": [
          "Golf Peaks",
          "Lyne",
          "Diablo Immortal"
         ],
         "legendgroup": "Mobile",
         "marker": {
          "color": "#FF6692",
          "symbol": "circle"
         },
         "mode": "markers",
         "name": "Mobile",
         "orientation": "v",
         "showlegend": true,
         "type": "scatter",
         "x": [
          75,
          86,
          65
         ],
         "xaxis": "x",
         "y": [
          69,
          69,
          44
         ],
         "yaxis": "y"
        },
        {
         "hovertemplate": "<b>%{hovertext}</b><br><br>Played on=GBA<br>Reviewscore=%{x}<br>Rating=%{y}<extra></extra>",
         "hovertext": [
          "Finding Nemo",
          "Fifa 06 Game Boy Advance"
         ],
         "legendgroup": "GBA",
         "marker": {
          "color": "#B6E880",
          "symbol": "circle"
         },
         "mode": "markers",
         "name": "GBA",
         "orientation": "v",
         "showlegend": true,
         "type": "scatter",
         "x": [
          63,
          49
         ],
         "xaxis": "x",
         "y": [
          56,
          44
         ],
         "yaxis": "y"
        }
       ],
       "layout": {
        "legend": {
         "title": {
          "text": "Played on"
         },
         "tracegroupgap": 0
        },
        "margin": {
         "t": 60
        },
        "template": {
         "data": {
          "bar": [
           {
            "error_x": {
             "color": "#2a3f5f"
            },
            "error_y": {
             "color": "#2a3f5f"
            },
            "marker": {
             "line": {
              "color": "#E5ECF6",
              "width": 0.5
             },
             "pattern": {
              "fillmode": "overlay",
              "size": 10,
              "solidity": 0.2
             }
            },
            "type": "bar"
           }
          ],
          "barpolar": [
           {
            "marker": {
             "line": {
              "color": "#E5ECF6",
              "width": 0.5
             },
             "pattern": {
              "fillmode": "overlay",
              "size": 10,
              "solidity": 0.2
             }
            },
            "type": "barpolar"
           }
          ],
          "carpet": [
           {
            "aaxis": {
             "endlinecolor": "#2a3f5f",
             "gridcolor": "white",
             "linecolor": "white",
             "minorgridcolor": "white",
             "startlinecolor": "#2a3f5f"
            },
            "baxis": {
             "endlinecolor": "#2a3f5f",
             "gridcolor": "white",
             "linecolor": "white",
             "minorgridcolor": "white",
             "startlinecolor": "#2a3f5f"
            },
            "type": "carpet"
           }
          ],
          "choropleth": [
           {
            "colorbar": {
             "outlinewidth": 0,
             "ticks": ""
            },
            "type": "choropleth"
           }
          ],
          "contour": [
           {
            "colorbar": {
             "outlinewidth": 0,
             "ticks": ""
            },
            "colorscale": [
             [
              0,
              "#0d0887"
             ],
             [
              0.1111111111111111,
              "#46039f"
             ],
             [
              0.2222222222222222,
              "#7201a8"
             ],
             [
              0.3333333333333333,
              "#9c179e"
             ],
             [
              0.4444444444444444,
              "#bd3786"
             ],
             [
              0.5555555555555556,
              "#d8576b"
             ],
             [
              0.6666666666666666,
              "#ed7953"
             ],
             [
              0.7777777777777778,
              "#fb9f3a"
             ],
             [
              0.8888888888888888,
              "#fdca26"
             ],
             [
              1,
              "#f0f921"
             ]
            ],
            "type": "contour"
           }
          ],
          "contourcarpet": [
           {
            "colorbar": {
             "outlinewidth": 0,
             "ticks": ""
            },
            "type": "contourcarpet"
           }
          ],
          "heatmap": [
           {
            "colorbar": {
             "outlinewidth": 0,
             "ticks": ""
            },
            "colorscale": [
             [
              0,
              "#0d0887"
             ],
             [
              0.1111111111111111,
              "#46039f"
             ],
             [
              0.2222222222222222,
              "#7201a8"
             ],
             [
              0.3333333333333333,
              "#9c179e"
             ],
             [
              0.4444444444444444,
              "#bd3786"
             ],
             [
              0.5555555555555556,
              "#d8576b"
             ],
             [
              0.6666666666666666,
              "#ed7953"
             ],
             [
              0.7777777777777778,
              "#fb9f3a"
             ],
             [
              0.8888888888888888,
              "#fdca26"
             ],
             [
              1,
              "#f0f921"
             ]
            ],
            "type": "heatmap"
           }
          ],
          "heatmapgl": [
           {
            "colorbar": {
             "outlinewidth": 0,
             "ticks": ""
            },
            "colorscale": [
             [
              0,
              "#0d0887"
             ],
             [
              0.1111111111111111,
              "#46039f"
             ],
             [
              0.2222222222222222,
              "#7201a8"
             ],
             [
              0.3333333333333333,
              "#9c179e"
             ],
             [
              0.4444444444444444,
              "#bd3786"
             ],
             [
              0.5555555555555556,
              "#d8576b"
             ],
             [
              0.6666666666666666,
              "#ed7953"
             ],
             [
              0.7777777777777778,
              "#fb9f3a"
             ],
             [
              0.8888888888888888,
              "#fdca26"
             ],
             [
              1,
              "#f0f921"
             ]
            ],
            "type": "heatmapgl"
           }
          ],
          "histogram": [
           {
            "marker": {
             "pattern": {
              "fillmode": "overlay",
              "size": 10,
              "solidity": 0.2
             }
            },
            "type": "histogram"
           }
          ],
          "histogram2d": [
           {
            "colorbar": {
             "outlinewidth": 0,
             "ticks": ""
            },
            "colorscale": [
             [
              0,
              "#0d0887"
             ],
             [
              0.1111111111111111,
              "#46039f"
             ],
             [
              0.2222222222222222,
              "#7201a8"
             ],
             [
              0.3333333333333333,
              "#9c179e"
             ],
             [
              0.4444444444444444,
              "#bd3786"
             ],
             [
              0.5555555555555556,
              "#d8576b"
             ],
             [
              0.6666666666666666,
              "#ed7953"
             ],
             [
              0.7777777777777778,
              "#fb9f3a"
             ],
             [
              0.8888888888888888,
              "#fdca26"
             ],
             [
              1,
              "#f0f921"
             ]
            ],
            "type": "histogram2d"
           }
          ],
          "histogram2dcontour": [
           {
            "colorbar": {
             "outlinewidth": 0,
             "ticks": ""
            },
            "colorscale": [
             [
              0,
              "#0d0887"
             ],
             [
              0.1111111111111111,
              "#46039f"
             ],
             [
              0.2222222222222222,
              "#7201a8"
             ],
             [
              0.3333333333333333,
              "#9c179e"
             ],
             [
              0.4444444444444444,
              "#bd3786"
             ],
             [
              0.5555555555555556,
              "#d8576b"
             ],
             [
              0.6666666666666666,
              "#ed7953"
             ],
             [
              0.7777777777777778,
              "#fb9f3a"
             ],
             [
              0.8888888888888888,
              "#fdca26"
             ],
             [
              1,
              "#f0f921"
             ]
            ],
            "type": "histogram2dcontour"
           }
          ],
          "mesh3d": [
           {
            "colorbar": {
             "outlinewidth": 0,
             "ticks": ""
            },
            "type": "mesh3d"
           }
          ],
          "parcoords": [
           {
            "line": {
             "colorbar": {
              "outlinewidth": 0,
              "ticks": ""
             }
            },
            "type": "parcoords"
           }
          ],
          "pie": [
           {
            "automargin": true,
            "type": "pie"
           }
          ],
          "scatter": [
           {
            "fillpattern": {
             "fillmode": "overlay",
             "size": 10,
             "solidity": 0.2
            },
            "type": "scatter"
           }
          ],
          "scatter3d": [
           {
            "line": {
             "colorbar": {
              "outlinewidth": 0,
              "ticks": ""
             }
            },
            "marker": {
             "colorbar": {
              "outlinewidth": 0,
              "ticks": ""
             }
            },
            "type": "scatter3d"
           }
          ],
          "scattercarpet": [
           {
            "marker": {
             "colorbar": {
              "outlinewidth": 0,
              "ticks": ""
             }
            },
            "type": "scattercarpet"
           }
          ],
          "scattergeo": [
           {
            "marker": {
             "colorbar": {
              "outlinewidth": 0,
              "ticks": ""
             }
            },
            "type": "scattergeo"
           }
          ],
          "scattergl": [
           {
            "marker": {
             "colorbar": {
              "outlinewidth": 0,
              "ticks": ""
             }
            },
            "type": "scattergl"
           }
          ],
          "scattermapbox": [
           {
            "marker": {
             "colorbar": {
              "outlinewidth": 0,
              "ticks": ""
             }
            },
            "type": "scattermapbox"
           }
          ],
          "scatterpolar": [
           {
            "marker": {
             "colorbar": {
              "outlinewidth": 0,
              "ticks": ""
             }
            },
            "type": "scatterpolar"
           }
          ],
          "scatterpolargl": [
           {
            "marker": {
             "colorbar": {
              "outlinewidth": 0,
              "ticks": ""
             }
            },
            "type": "scatterpolargl"
           }
          ],
          "scatterternary": [
           {
            "marker": {
             "colorbar": {
              "outlinewidth": 0,
              "ticks": ""
             }
            },
            "type": "scatterternary"
           }
          ],
          "surface": [
           {
            "colorbar": {
             "outlinewidth": 0,
             "ticks": ""
            },
            "colorscale": [
             [
              0,
              "#0d0887"
             ],
             [
              0.1111111111111111,
              "#46039f"
             ],
             [
              0.2222222222222222,
              "#7201a8"
             ],
             [
              0.3333333333333333,
              "#9c179e"
             ],
             [
              0.4444444444444444,
              "#bd3786"
             ],
             [
              0.5555555555555556,
              "#d8576b"
             ],
             [
              0.6666666666666666,
              "#ed7953"
             ],
             [
              0.7777777777777778,
              "#fb9f3a"
             ],
             [
              0.8888888888888888,
              "#fdca26"
             ],
             [
              1,
              "#f0f921"
             ]
            ],
            "type": "surface"
           }
          ],
          "table": [
           {
            "cells": {
             "fill": {
              "color": "#EBF0F8"
             },
             "line": {
              "color": "white"
             }
            },
            "header": {
             "fill": {
              "color": "#C8D4E3"
             },
             "line": {
              "color": "white"
             }
            },
            "type": "table"
           }
          ]
         },
         "layout": {
          "annotationdefaults": {
           "arrowcolor": "#2a3f5f",
           "arrowhead": 0,
           "arrowwidth": 1
          },
          "autotypenumbers": "strict",
          "coloraxis": {
           "colorbar": {
            "outlinewidth": 0,
            "ticks": ""
           }
          },
          "colorscale": {
           "diverging": [
            [
             0,
             "#8e0152"
            ],
            [
             0.1,
             "#c51b7d"
            ],
            [
             0.2,
             "#de77ae"
            ],
            [
             0.3,
             "#f1b6da"
            ],
            [
             0.4,
             "#fde0ef"
            ],
            [
             0.5,
             "#f7f7f7"
            ],
            [
             0.6,
             "#e6f5d0"
            ],
            [
             0.7,
             "#b8e186"
            ],
            [
             0.8,
             "#7fbc41"
            ],
            [
             0.9,
             "#4d9221"
            ],
            [
             1,
             "#276419"
            ]
           ],
           "sequential": [
            [
             0,
             "#0d0887"
            ],
            [
             0.1111111111111111,
             "#46039f"
            ],
            [
             0.2222222222222222,
             "#7201a8"
            ],
            [
             0.3333333333333333,
             "#9c179e"
            ],
            [
             0.4444444444444444,
             "#bd3786"
            ],
            [
             0.5555555555555556,
             "#d8576b"
            ],
            [
             0.6666666666666666,
             "#ed7953"
            ],
            [
             0.7777777777777778,
             "#fb9f3a"
            ],
            [
             0.8888888888888888,
             "#fdca26"
            ],
            [
             1,
             "#f0f921"
            ]
           ],
           "sequentialminus": [
            [
             0,
             "#0d0887"
            ],
            [
             0.1111111111111111,
             "#46039f"
            ],
            [
             0.2222222222222222,
             "#7201a8"
            ],
            [
             0.3333333333333333,
             "#9c179e"
            ],
            [
             0.4444444444444444,
             "#bd3786"
            ],
            [
             0.5555555555555556,
             "#d8576b"
            ],
            [
             0.6666666666666666,
             "#ed7953"
            ],
            [
             0.7777777777777778,
             "#fb9f3a"
            ],
            [
             0.8888888888888888,
             "#fdca26"
            ],
            [
             1,
             "#f0f921"
            ]
           ]
          },
          "colorway": [
           "#636efa",
           "#EF553B",
           "#00cc96",
           "#ab63fa",
           "#FFA15A",
           "#19d3f3",
           "#FF6692",
           "#B6E880",
           "#FF97FF",
           "#FECB52"
          ],
          "font": {
           "color": "#2a3f5f"
          },
          "geo": {
           "bgcolor": "white",
           "lakecolor": "white",
           "landcolor": "#E5ECF6",
           "showlakes": true,
           "showland": true,
           "subunitcolor": "white"
          },
          "hoverlabel": {
           "align": "left"
          },
          "hovermode": "closest",
          "mapbox": {
           "style": "light"
          },
          "paper_bgcolor": "white",
          "plot_bgcolor": "#E5ECF6",
          "polar": {
           "angularaxis": {
            "gridcolor": "white",
            "linecolor": "white",
            "ticks": ""
           },
           "bgcolor": "#E5ECF6",
           "radialaxis": {
            "gridcolor": "white",
            "linecolor": "white",
            "ticks": ""
           }
          },
          "scene": {
           "xaxis": {
            "backgroundcolor": "#E5ECF6",
            "gridcolor": "white",
            "gridwidth": 2,
            "linecolor": "white",
            "showbackground": true,
            "ticks": "",
            "zerolinecolor": "white"
           },
           "yaxis": {
            "backgroundcolor": "#E5ECF6",
            "gridcolor": "white",
            "gridwidth": 2,
            "linecolor": "white",
            "showbackground": true,
            "ticks": "",
            "zerolinecolor": "white"
           },
           "zaxis": {
            "backgroundcolor": "#E5ECF6",
            "gridcolor": "white",
            "gridwidth": 2,
            "linecolor": "white",
            "showbackground": true,
            "ticks": "",
            "zerolinecolor": "white"
           }
          },
          "shapedefaults": {
           "line": {
            "color": "#2a3f5f"
           }
          },
          "ternary": {
           "aaxis": {
            "gridcolor": "white",
            "linecolor": "white",
            "ticks": ""
           },
           "baxis": {
            "gridcolor": "white",
            "linecolor": "white",
            "ticks": ""
           },
           "bgcolor": "#E5ECF6",
           "caxis": {
            "gridcolor": "white",
            "linecolor": "white",
            "ticks": ""
           }
          },
          "title": {
           "x": 0.05
          },
          "xaxis": {
           "automargin": true,
           "gridcolor": "white",
           "linecolor": "white",
           "ticks": "",
           "title": {
            "standoff": 15
           },
           "zerolinecolor": "white",
           "zerolinewidth": 2
          },
          "yaxis": {
           "automargin": true,
           "gridcolor": "white",
           "linecolor": "white",
           "ticks": "",
           "title": {
            "standoff": 15
           },
           "zerolinecolor": "white",
           "zerolinewidth": 2
          }
         }
        },
        "xaxis": {
         "anchor": "y",
         "domain": [
          0,
          1
         ],
         "title": {
          "text": "Reviewscore"
         }
        },
        "yaxis": {
         "anchor": "x",
         "domain": [
          0,
          1
         ],
         "title": {
          "text": "Rating"
         }
        }
       }
      }
     },
     "metadata": {},
     "output_type": "display_data"
    }
   ],
   "source": [
    "# a bit of basic plotting\n",
    "fig = px.scatter(raw_data, x=\"Reviewscore\", y=\"Rating\", color=\"Played on\", hover_name=\"Game\")\n",
    "fig"
   ]
  },
  {
   "cell_type": "code",
   "execution_count": 204,
   "id": "adde7c9d",
   "metadata": {},
   "outputs": [],
   "source": [
    "#create set of unique key words from the data frame\n",
    "str_data = raw_data.copy()\n",
    "str_data['Key words'] = str_data['Key words'].apply(lambda x: x.split(',')) #convert each entry in key words to a list\n",
    "lst = str_data['Key words'].to_list() #append all lists together\n",
    "combine = sum(lst, []) #roll the lists into one\n",
    "remove_space = [s.strip(' ') for s in combine] #remove leading and trailing spaces in list items\n",
    "capitalize = [s.upper() for s in remove_space] #convert all characters to upper case\n",
    "kwords = set(capitalize) #remove duplicate list items\n",
    "kwords = list(kwords)\n",
    "\n",
    "# add new columns which track the keywords\n",
    "kw_data = raw_data.copy()\n",
    "kw_data['Key words'] = kw_data['Key words'].str.upper()\n",
    "for i in kwords:\n",
    "    kw_data[i] = kw_data['Key words'].apply(lambda x: 1 if str(i) in x else 0)"
   ]
  },
  {
   "cell_type": "code",
   "execution_count": 205,
   "id": "863fe0e5",
   "metadata": {
    "scrolled": true
   },
   "outputs": [],
   "source": [
    "#create set of unique platforms from the data frame\n",
    "str_data = raw_data.copy()\n",
    "str_data['Played on'] = str_data['Played on'].apply(lambda x: x.split(',')) #convert each entry in key words to a list\n",
    "lst = str_data['Played on'].to_list() #append all lists together\n",
    "combine = sum(lst, []) #roll the lists into one\n",
    "remove_space = [s.strip(' ') for s in combine] #remove leading and trailing spaces in list items\n",
    "capitalize_plats = [s.upper() for s in remove_space] #convert all characters to upper case\n",
    "plats = set(capitalize_plats) #remove duplicate list items\n",
    "plats = list(plats)\n",
    "\n",
    "# add new columns which track the keywords\n",
    "data = kw_data.copy()\n",
    "data['Played on'] = data['Played on'].str.upper()\n",
    "for i in plats:\n",
    "    data[i] = data['Played on'].apply(lambda x: 1 if str(i) in x else 0)"
   ]
  },
  {
   "cell_type": "code",
   "execution_count": 206,
   "id": "67d90c4a",
   "metadata": {},
   "outputs": [],
   "source": [
    "# calculate play - launch field\n",
    "data['Play - launch'] = data['Play Year'] - data['Launch Year']\n",
    "data['Play - launch'].fillna(0, inplace=True)\n",
    "# calculate upgraded played field\n",
    "data.loc[np.isnan(data['Remaster Reviewscore']) == False, 'Remaster played'] = 1\n",
    "data['Remaster played'].fillna(0, inplace=True)\n",
    "# calculate any multiplayer field\n",
    "data['Key words'] = data['Key words'].str.upper()\n",
    "data.loc[data['Key words'].str.contains('MULTIPLAYER') == True, 'Any multiplayer'] = 1\n",
    "data['Any multiplayer'].fillna(0, inplace=True)\n",
    "# calculate any racing field\n",
    "data.loc[data['Key words'].str.contains('RACING') == True, 'Any racing'] = 1\n",
    "data['Any racing'].fillna(0, inplace=True)\n",
    "# calculate any sports field\n",
    "data.loc[data['Key words'].str.contains('SPORTS') == True, 'Any sports'] = 1\n",
    "data['Any sports'].fillna(0, inplace=True)\n",
    "# calculate any simulation field\n",
    "data.loc[data['Key words'].str.contains('SIMULATION') == True, 'Any simulation'] = 1\n",
    "data['Any simulation'].fillna(0, inplace=True)\n",
    "# calculate any strategy field\n",
    "data.loc[data['Key words'].str.contains('STRATEGY') == True, 'Any strategy'] = 1\n",
    "data['Any strategy'].fillna(0, inplace=True)\n"
   ]
  },
  {
   "cell_type": "code",
   "execution_count": 207,
   "id": "3afa91a6",
   "metadata": {},
   "outputs": [],
   "source": [
    "# convert the yes no fields to 1 or 0\n",
    "data['DLC/ Major update played'] = data['DLC/ Major update played'].replace({'Yes': 1, 'No': 0})"
   ]
  },
  {
   "cell_type": "code",
   "execution_count": 208,
   "id": "93840834",
   "metadata": {},
   "outputs": [],
   "source": [
    "#replace publisher string with its average review score\n",
    "publisher_avg = (data[['Publisher','Reviewscore']]).groupby(['Publisher']).mean()['Reviewscore']\n",
    "data = pd.merge(data, publisher_avg, on = 'Publisher')\n",
    "data.rename(columns= {'Reviewscore_y' : 'Publisher avg', 'Reviewscore_x' : 'Reviewscore'}, inplace = True)\n",
    "\n",
    "#replace developer string with its average review score\n",
    "developer_avg = (data[['Developer','Reviewscore']]).groupby(['Developer']).mean()['Reviewscore']\n",
    "data = pd.merge(data, developer_avg, on = 'Developer')\n",
    "data.rename(columns= {'Reviewscore_y' : 'Developer avg', 'Reviewscore_x' : 'Reviewscore'}, inplace = True)\n",
    "\n",
    "#replace franchise string with its average review score\n",
    "franchise_avg = (data[['Franchise','Reviewscore']]).groupby(['Franchise']).mean()['Reviewscore']\n",
    "data = pd.merge(data, franchise_avg, on = 'Franchise')\n",
    "data.rename(columns= {'Reviewscore_y' : 'Franchise avg', 'Reviewscore_x' : 'Reviewscore'}, inplace = True)\n"
   ]
  },
  {
   "cell_type": "code",
   "execution_count": 209,
   "id": "c0ffadd2",
   "metadata": {},
   "outputs": [],
   "source": [
    "# tidy missing values\n",
    "data['Remaster Reviewscore'].fillna(0, inplace=True)"
   ]
  },
  {
   "cell_type": "code",
   "execution_count": 210,
   "id": "b0c52212",
   "metadata": {},
   "outputs": [
    {
     "data": {
      "text/html": [
       "<div>\n",
       "<style scoped>\n",
       "    .dataframe tbody tr th:only-of-type {\n",
       "        vertical-align: middle;\n",
       "    }\n",
       "\n",
       "    .dataframe tbody tr th {\n",
       "        vertical-align: top;\n",
       "    }\n",
       "\n",
       "    .dataframe thead th {\n",
       "        text-align: right;\n",
       "    }\n",
       "</style>\n",
       "<table border=\"1\" class=\"dataframe\">\n",
       "  <thead>\n",
       "    <tr style=\"text-align: right;\">\n",
       "      <th></th>\n",
       "      <th>Game</th>\n",
       "      <th>Rating</th>\n",
       "      <th>Reviewscore</th>\n",
       "      <th>Played on</th>\n",
       "      <th>Launch Year</th>\n",
       "      <th>Play Year</th>\n",
       "      <th>DLC/ Major update played</th>\n",
       "      <th>Publisher</th>\n",
       "      <th>Developer</th>\n",
       "      <th>Franchise</th>\n",
       "      <th>...</th>\n",
       "      <th>Play - launch</th>\n",
       "      <th>Remaster played</th>\n",
       "      <th>Any multiplayer</th>\n",
       "      <th>Any racing</th>\n",
       "      <th>Any sports</th>\n",
       "      <th>Any simulation</th>\n",
       "      <th>Any strategy</th>\n",
       "      <th>Publisher avg</th>\n",
       "      <th>Developer avg</th>\n",
       "      <th>Franchise avg</th>\n",
       "    </tr>\n",
       "  </thead>\n",
       "  <tbody>\n",
       "    <tr>\n",
       "      <th>0</th>\n",
       "      <td>The Legend of Zelda: Tears of the Kingdom</td>\n",
       "      <td>100</td>\n",
       "      <td>96</td>\n",
       "      <td>SWITCH</td>\n",
       "      <td>2023</td>\n",
       "      <td>2023</td>\n",
       "      <td>0</td>\n",
       "      <td>Nintendo</td>\n",
       "      <td>Nintendo</td>\n",
       "      <td>The Legend of Zelda</td>\n",
       "      <td>...</td>\n",
       "      <td>0</td>\n",
       "      <td>0.0</td>\n",
       "      <td>0.0</td>\n",
       "      <td>0.0</td>\n",
       "      <td>0.0</td>\n",
       "      <td>0.0</td>\n",
       "      <td>0.0</td>\n",
       "      <td>85.555556</td>\n",
       "      <td>87.25</td>\n",
       "      <td>92.0</td>\n",
       "    </tr>\n",
       "    <tr>\n",
       "      <th>1</th>\n",
       "      <td>The Legend of Zelda: Breath of the Wild</td>\n",
       "      <td>100</td>\n",
       "      <td>97</td>\n",
       "      <td>SWITCH</td>\n",
       "      <td>2017</td>\n",
       "      <td>2017</td>\n",
       "      <td>1</td>\n",
       "      <td>Nintendo</td>\n",
       "      <td>Nintendo</td>\n",
       "      <td>The Legend of Zelda</td>\n",
       "      <td>...</td>\n",
       "      <td>0</td>\n",
       "      <td>0.0</td>\n",
       "      <td>0.0</td>\n",
       "      <td>0.0</td>\n",
       "      <td>0.0</td>\n",
       "      <td>0.0</td>\n",
       "      <td>0.0</td>\n",
       "      <td>85.555556</td>\n",
       "      <td>87.25</td>\n",
       "      <td>92.0</td>\n",
       "    </tr>\n",
       "    <tr>\n",
       "      <th>2</th>\n",
       "      <td>The Legend of Zelda: Ocarina of Time</td>\n",
       "      <td>91</td>\n",
       "      <td>99</td>\n",
       "      <td>3DS</td>\n",
       "      <td>1998</td>\n",
       "      <td>2023</td>\n",
       "      <td>0</td>\n",
       "      <td>Nintendo</td>\n",
       "      <td>Nintendo</td>\n",
       "      <td>The Legend of Zelda</td>\n",
       "      <td>...</td>\n",
       "      <td>25</td>\n",
       "      <td>1.0</td>\n",
       "      <td>0.0</td>\n",
       "      <td>0.0</td>\n",
       "      <td>0.0</td>\n",
       "      <td>0.0</td>\n",
       "      <td>0.0</td>\n",
       "      <td>85.555556</td>\n",
       "      <td>87.25</td>\n",
       "      <td>92.0</td>\n",
       "    </tr>\n",
       "    <tr>\n",
       "      <th>3</th>\n",
       "      <td>The Legend of Zelda: Skyward Sword</td>\n",
       "      <td>84</td>\n",
       "      <td>93</td>\n",
       "      <td>SWITCH</td>\n",
       "      <td>2011</td>\n",
       "      <td>2021</td>\n",
       "      <td>0</td>\n",
       "      <td>Nintendo</td>\n",
       "      <td>Nintendo</td>\n",
       "      <td>The Legend of Zelda</td>\n",
       "      <td>...</td>\n",
       "      <td>10</td>\n",
       "      <td>1.0</td>\n",
       "      <td>0.0</td>\n",
       "      <td>0.0</td>\n",
       "      <td>0.0</td>\n",
       "      <td>0.0</td>\n",
       "      <td>0.0</td>\n",
       "      <td>85.555556</td>\n",
       "      <td>87.25</td>\n",
       "      <td>92.0</td>\n",
       "    </tr>\n",
       "    <tr>\n",
       "      <th>4</th>\n",
       "      <td>The Legend of Zelda: Link's Awakening</td>\n",
       "      <td>73</td>\n",
       "      <td>87</td>\n",
       "      <td>SWITCH</td>\n",
       "      <td>2019</td>\n",
       "      <td>2019</td>\n",
       "      <td>0</td>\n",
       "      <td>Nintendo</td>\n",
       "      <td>Nintendo</td>\n",
       "      <td>The Legend of Zelda</td>\n",
       "      <td>...</td>\n",
       "      <td>0</td>\n",
       "      <td>0.0</td>\n",
       "      <td>0.0</td>\n",
       "      <td>0.0</td>\n",
       "      <td>0.0</td>\n",
       "      <td>0.0</td>\n",
       "      <td>0.0</td>\n",
       "      <td>85.555556</td>\n",
       "      <td>87.25</td>\n",
       "      <td>92.0</td>\n",
       "    </tr>\n",
       "    <tr>\n",
       "      <th>...</th>\n",
       "      <td>...</td>\n",
       "      <td>...</td>\n",
       "      <td>...</td>\n",
       "      <td>...</td>\n",
       "      <td>...</td>\n",
       "      <td>...</td>\n",
       "      <td>...</td>\n",
       "      <td>...</td>\n",
       "      <td>...</td>\n",
       "      <td>...</td>\n",
       "      <td>...</td>\n",
       "      <td>...</td>\n",
       "      <td>...</td>\n",
       "      <td>...</td>\n",
       "      <td>...</td>\n",
       "      <td>...</td>\n",
       "      <td>...</td>\n",
       "      <td>...</td>\n",
       "      <td>...</td>\n",
       "      <td>...</td>\n",
       "      <td>...</td>\n",
       "    </tr>\n",
       "    <tr>\n",
       "      <th>433</th>\n",
       "      <td>Human Fall Flat</td>\n",
       "      <td>62</td>\n",
       "      <td>68</td>\n",
       "      <td>PC</td>\n",
       "      <td>2016</td>\n",
       "      <td>2020</td>\n",
       "      <td>0</td>\n",
       "      <td>Curve Digital</td>\n",
       "      <td>Tomas Sakalauskas</td>\n",
       "      <td>Human Fall Flat</td>\n",
       "      <td>...</td>\n",
       "      <td>4</td>\n",
       "      <td>0.0</td>\n",
       "      <td>1.0</td>\n",
       "      <td>0.0</td>\n",
       "      <td>0.0</td>\n",
       "      <td>0.0</td>\n",
       "      <td>0.0</td>\n",
       "      <td>70.750000</td>\n",
       "      <td>68.00</td>\n",
       "      <td>68.0</td>\n",
       "    </tr>\n",
       "    <tr>\n",
       "      <th>434</th>\n",
       "      <td>Spacelines from the Far Out</td>\n",
       "      <td>60</td>\n",
       "      <td>82</td>\n",
       "      <td>PC</td>\n",
       "      <td>2022</td>\n",
       "      <td>2022</td>\n",
       "      <td>0</td>\n",
       "      <td>Skystone Games</td>\n",
       "      <td>Coffeenauts</td>\n",
       "      <td>Spacelines from the Far Out</td>\n",
       "      <td>...</td>\n",
       "      <td>0</td>\n",
       "      <td>0.0</td>\n",
       "      <td>1.0</td>\n",
       "      <td>0.0</td>\n",
       "      <td>0.0</td>\n",
       "      <td>0.0</td>\n",
       "      <td>0.0</td>\n",
       "      <td>82.000000</td>\n",
       "      <td>82.00</td>\n",
       "      <td>82.0</td>\n",
       "    </tr>\n",
       "    <tr>\n",
       "      <th>435</th>\n",
       "      <td>Finding Nemo</td>\n",
       "      <td>56</td>\n",
       "      <td>63</td>\n",
       "      <td>GBA</td>\n",
       "      <td>2003</td>\n",
       "      <td>2004</td>\n",
       "      <td>0</td>\n",
       "      <td>THQ</td>\n",
       "      <td>Vicarious Visions</td>\n",
       "      <td>Finding Nemo</td>\n",
       "      <td>...</td>\n",
       "      <td>1</td>\n",
       "      <td>0.0</td>\n",
       "      <td>0.0</td>\n",
       "      <td>0.0</td>\n",
       "      <td>0.0</td>\n",
       "      <td>0.0</td>\n",
       "      <td>0.0</td>\n",
       "      <td>63.000000</td>\n",
       "      <td>63.00</td>\n",
       "      <td>63.0</td>\n",
       "    </tr>\n",
       "    <tr>\n",
       "      <th>436</th>\n",
       "      <td>Lost Ark</td>\n",
       "      <td>54</td>\n",
       "      <td>82</td>\n",
       "      <td>PC</td>\n",
       "      <td>2022</td>\n",
       "      <td>2022</td>\n",
       "      <td>0</td>\n",
       "      <td>Amazon Games</td>\n",
       "      <td>Tripod Studio</td>\n",
       "      <td>Lost Ark</td>\n",
       "      <td>...</td>\n",
       "      <td>0</td>\n",
       "      <td>0.0</td>\n",
       "      <td>0.0</td>\n",
       "      <td>0.0</td>\n",
       "      <td>0.0</td>\n",
       "      <td>0.0</td>\n",
       "      <td>0.0</td>\n",
       "      <td>82.000000</td>\n",
       "      <td>82.00</td>\n",
       "      <td>82.0</td>\n",
       "    </tr>\n",
       "    <tr>\n",
       "      <th>437</th>\n",
       "      <td>F.I.S.T. Forged In Shadow Torch</td>\n",
       "      <td>49</td>\n",
       "      <td>80</td>\n",
       "      <td>PC</td>\n",
       "      <td>2021</td>\n",
       "      <td>2023</td>\n",
       "      <td>0</td>\n",
       "      <td>Billibilli</td>\n",
       "      <td>TiGames</td>\n",
       "      <td>F.I.S.T.</td>\n",
       "      <td>...</td>\n",
       "      <td>2</td>\n",
       "      <td>0.0</td>\n",
       "      <td>0.0</td>\n",
       "      <td>0.0</td>\n",
       "      <td>0.0</td>\n",
       "      <td>0.0</td>\n",
       "      <td>0.0</td>\n",
       "      <td>80.000000</td>\n",
       "      <td>80.00</td>\n",
       "      <td>80.0</td>\n",
       "    </tr>\n",
       "  </tbody>\n",
       "</table>\n",
       "<p>438 rows × 123 columns</p>\n",
       "</div>"
      ],
      "text/plain": [
       "                                          Game  Rating  Reviewscore Played on  \\\n",
       "0    The Legend of Zelda: Tears of the Kingdom     100           96    SWITCH   \n",
       "1      The Legend of Zelda: Breath of the Wild     100           97    SWITCH   \n",
       "2         The Legend of Zelda: Ocarina of Time      91           99       3DS   \n",
       "3           The Legend of Zelda: Skyward Sword      84           93    SWITCH   \n",
       "4        The Legend of Zelda: Link's Awakening      73           87    SWITCH   \n",
       "..                                         ...     ...          ...       ...   \n",
       "433                            Human Fall Flat      62           68        PC   \n",
       "434                Spacelines from the Far Out      60           82        PC   \n",
       "435                               Finding Nemo      56           63       GBA   \n",
       "436                                   Lost Ark      54           82        PC   \n",
       "437            F.I.S.T. Forged In Shadow Torch      49           80        PC   \n",
       "\n",
       "     Launch Year  Play Year  DLC/ Major update played       Publisher  \\\n",
       "0           2023       2023                         0        Nintendo   \n",
       "1           2017       2017                         1        Nintendo   \n",
       "2           1998       2023                         0        Nintendo   \n",
       "3           2011       2021                         0        Nintendo   \n",
       "4           2019       2019                         0        Nintendo   \n",
       "..           ...        ...                       ...             ...   \n",
       "433         2016       2020                         0   Curve Digital   \n",
       "434         2022       2022                         0  Skystone Games   \n",
       "435         2003       2004                         0             THQ   \n",
       "436         2022       2022                         0    Amazon Games   \n",
       "437         2021       2023                         0      Billibilli   \n",
       "\n",
       "             Developer                    Franchise  ... Play - launch  \\\n",
       "0             Nintendo          The Legend of Zelda  ...             0   \n",
       "1             Nintendo          The Legend of Zelda  ...             0   \n",
       "2             Nintendo          The Legend of Zelda  ...            25   \n",
       "3             Nintendo          The Legend of Zelda  ...            10   \n",
       "4             Nintendo          The Legend of Zelda  ...             0   \n",
       "..                 ...                          ...  ...           ...   \n",
       "433  Tomas Sakalauskas              Human Fall Flat  ...             4   \n",
       "434        Coffeenauts  Spacelines from the Far Out  ...             0   \n",
       "435  Vicarious Visions                 Finding Nemo  ...             1   \n",
       "436      Tripod Studio                     Lost Ark  ...             0   \n",
       "437            TiGames                     F.I.S.T.  ...             2   \n",
       "\n",
       "     Remaster played  Any multiplayer Any racing  Any sports  Any simulation  \\\n",
       "0                0.0              0.0        0.0         0.0             0.0   \n",
       "1                0.0              0.0        0.0         0.0             0.0   \n",
       "2                1.0              0.0        0.0         0.0             0.0   \n",
       "3                1.0              0.0        0.0         0.0             0.0   \n",
       "4                0.0              0.0        0.0         0.0             0.0   \n",
       "..               ...              ...        ...         ...             ...   \n",
       "433              0.0              1.0        0.0         0.0             0.0   \n",
       "434              0.0              1.0        0.0         0.0             0.0   \n",
       "435              0.0              0.0        0.0         0.0             0.0   \n",
       "436              0.0              0.0        0.0         0.0             0.0   \n",
       "437              0.0              0.0        0.0         0.0             0.0   \n",
       "\n",
       "     Any strategy  Publisher avg  Developer avg  Franchise avg  \n",
       "0             0.0      85.555556          87.25           92.0  \n",
       "1             0.0      85.555556          87.25           92.0  \n",
       "2             0.0      85.555556          87.25           92.0  \n",
       "3             0.0      85.555556          87.25           92.0  \n",
       "4             0.0      85.555556          87.25           92.0  \n",
       "..            ...            ...            ...            ...  \n",
       "433           0.0      70.750000          68.00           68.0  \n",
       "434           0.0      82.000000          82.00           82.0  \n",
       "435           0.0      63.000000          63.00           63.0  \n",
       "436           0.0      82.000000          82.00           82.0  \n",
       "437           0.0      80.000000          80.00           80.0  \n",
       "\n",
       "[438 rows x 123 columns]"
      ]
     },
     "execution_count": 210,
     "metadata": {},
     "output_type": "execute_result"
    }
   ],
   "source": [
    "#have another look at the data\n",
    "data"
   ]
  },
  {
   "cell_type": "code",
   "execution_count": 211,
   "id": "d9c5d858",
   "metadata": {},
   "outputs": [],
   "source": [
    "# prep for model\n",
    "X = data.copy()\n",
    "X.drop(['Rating', 'Game', 'Played on', 'Publisher', 'Developer', 'Franchise', 'Key words', 'Remaster Release Year', 'Developer2'], axis = 1, inplace = True)\n",
    "y = data['Rating']\n",
    "X_train, X_test, y_train, y_test = train_test_split(X, y, random_state=0)"
   ]
  },
  {
   "cell_type": "code",
   "execution_count": 212,
   "id": "167f9fe1",
   "metadata": {},
   "outputs": [
    {
     "data": {
      "text/html": [
       "<style>#sk-container-id-7 {color: black;background-color: white;}#sk-container-id-7 pre{padding: 0;}#sk-container-id-7 div.sk-toggleable {background-color: white;}#sk-container-id-7 label.sk-toggleable__label {cursor: pointer;display: block;width: 100%;margin-bottom: 0;padding: 0.3em;box-sizing: border-box;text-align: center;}#sk-container-id-7 label.sk-toggleable__label-arrow:before {content: \"▸\";float: left;margin-right: 0.25em;color: #696969;}#sk-container-id-7 label.sk-toggleable__label-arrow:hover:before {color: black;}#sk-container-id-7 div.sk-estimator:hover label.sk-toggleable__label-arrow:before {color: black;}#sk-container-id-7 div.sk-toggleable__content {max-height: 0;max-width: 0;overflow: hidden;text-align: left;background-color: #f0f8ff;}#sk-container-id-7 div.sk-toggleable__content pre {margin: 0.2em;color: black;border-radius: 0.25em;background-color: #f0f8ff;}#sk-container-id-7 input.sk-toggleable__control:checked~div.sk-toggleable__content {max-height: 200px;max-width: 100%;overflow: auto;}#sk-container-id-7 input.sk-toggleable__control:checked~label.sk-toggleable__label-arrow:before {content: \"▾\";}#sk-container-id-7 div.sk-estimator input.sk-toggleable__control:checked~label.sk-toggleable__label {background-color: #d4ebff;}#sk-container-id-7 div.sk-label input.sk-toggleable__control:checked~label.sk-toggleable__label {background-color: #d4ebff;}#sk-container-id-7 input.sk-hidden--visually {border: 0;clip: rect(1px 1px 1px 1px);clip: rect(1px, 1px, 1px, 1px);height: 1px;margin: -1px;overflow: hidden;padding: 0;position: absolute;width: 1px;}#sk-container-id-7 div.sk-estimator {font-family: monospace;background-color: #f0f8ff;border: 1px dotted black;border-radius: 0.25em;box-sizing: border-box;margin-bottom: 0.5em;}#sk-container-id-7 div.sk-estimator:hover {background-color: #d4ebff;}#sk-container-id-7 div.sk-parallel-item::after {content: \"\";width: 100%;border-bottom: 1px solid gray;flex-grow: 1;}#sk-container-id-7 div.sk-label:hover label.sk-toggleable__label {background-color: #d4ebff;}#sk-container-id-7 div.sk-serial::before {content: \"\";position: absolute;border-left: 1px solid gray;box-sizing: border-box;top: 0;bottom: 0;left: 50%;z-index: 0;}#sk-container-id-7 div.sk-serial {display: flex;flex-direction: column;align-items: center;background-color: white;padding-right: 0.2em;padding-left: 0.2em;position: relative;}#sk-container-id-7 div.sk-item {position: relative;z-index: 1;}#sk-container-id-7 div.sk-parallel {display: flex;align-items: stretch;justify-content: center;background-color: white;position: relative;}#sk-container-id-7 div.sk-item::before, #sk-container-id-7 div.sk-parallel-item::before {content: \"\";position: absolute;border-left: 1px solid gray;box-sizing: border-box;top: 0;bottom: 0;left: 50%;z-index: -1;}#sk-container-id-7 div.sk-parallel-item {display: flex;flex-direction: column;z-index: 1;position: relative;background-color: white;}#sk-container-id-7 div.sk-parallel-item:first-child::after {align-self: flex-end;width: 50%;}#sk-container-id-7 div.sk-parallel-item:last-child::after {align-self: flex-start;width: 50%;}#sk-container-id-7 div.sk-parallel-item:only-child::after {width: 0;}#sk-container-id-7 div.sk-dashed-wrapped {border: 1px dashed gray;margin: 0 0.4em 0.5em 0.4em;box-sizing: border-box;padding-bottom: 0.4em;background-color: white;}#sk-container-id-7 div.sk-label label {font-family: monospace;font-weight: bold;display: inline-block;line-height: 1.2em;}#sk-container-id-7 div.sk-label-container {text-align: center;}#sk-container-id-7 div.sk-container {/* jupyter's `normalize.less` sets `[hidden] { display: none; }` but bootstrap.min.css set `[hidden] { display: none !important; }` so we also need the `!important` here to be able to override the default hidden behavior on the sphinx rendered scikit-learn.org. See: https://github.com/scikit-learn/scikit-learn/issues/21755 */display: inline-block !important;position: relative;}#sk-container-id-7 div.sk-text-repr-fallback {display: none;}</style><div id=\"sk-container-id-7\" class=\"sk-top-container\"><div class=\"sk-text-repr-fallback\"><pre>GradientBoostingRegressor(random_state=0)</pre><b>In a Jupyter environment, please rerun this cell to show the HTML representation or trust the notebook. <br />On GitHub, the HTML representation is unable to render, please try loading this page with nbviewer.org.</b></div><div class=\"sk-container\" hidden><div class=\"sk-item\"><div class=\"sk-estimator sk-toggleable\"><input class=\"sk-toggleable__control sk-hidden--visually\" id=\"sk-estimator-id-7\" type=\"checkbox\" checked><label for=\"sk-estimator-id-7\" class=\"sk-toggleable__label sk-toggleable__label-arrow\">GradientBoostingRegressor</label><div class=\"sk-toggleable__content\"><pre>GradientBoostingRegressor(random_state=0)</pre></div></div></div></div></div>"
      ],
      "text/plain": [
       "GradientBoostingRegressor(random_state=0)"
      ]
     },
     "execution_count": 212,
     "metadata": {},
     "output_type": "execute_result"
    }
   ],
   "source": [
    "#initialize and fit model\n",
    "model = GradientBoostingRegressor(random_state=0)\n",
    "model.fit(X_train, y_train)"
   ]
  },
  {
   "cell_type": "code",
   "execution_count": 213,
   "id": "d94c0142",
   "metadata": {},
   "outputs": [
    {
     "data": {
      "text/html": [
       "<div>\n",
       "<style scoped>\n",
       "    .dataframe tbody tr th:only-of-type {\n",
       "        vertical-align: middle;\n",
       "    }\n",
       "\n",
       "    .dataframe tbody tr th {\n",
       "        vertical-align: top;\n",
       "    }\n",
       "\n",
       "    .dataframe thead th {\n",
       "        text-align: right;\n",
       "    }\n",
       "</style>\n",
       "<table border=\"1\" class=\"dataframe\">\n",
       "  <thead>\n",
       "    <tr style=\"text-align: right;\">\n",
       "      <th></th>\n",
       "      <th>0</th>\n",
       "    </tr>\n",
       "  </thead>\n",
       "  <tbody>\n",
       "    <tr>\n",
       "      <th>Reviewscore</th>\n",
       "      <td>0.525510</td>\n",
       "    </tr>\n",
       "    <tr>\n",
       "      <th>Launch Year</th>\n",
       "      <td>0.023524</td>\n",
       "    </tr>\n",
       "    <tr>\n",
       "      <th>Play Year</th>\n",
       "      <td>0.053388</td>\n",
       "    </tr>\n",
       "    <tr>\n",
       "      <th>DLC/ Major update played</th>\n",
       "      <td>0.032375</td>\n",
       "    </tr>\n",
       "    <tr>\n",
       "      <th>Remaster Reviewscore</th>\n",
       "      <td>0.004781</td>\n",
       "    </tr>\n",
       "    <tr>\n",
       "      <th>...</th>\n",
       "      <td>...</td>\n",
       "    </tr>\n",
       "    <tr>\n",
       "      <th>Any simulation</th>\n",
       "      <td>0.000000</td>\n",
       "    </tr>\n",
       "    <tr>\n",
       "      <th>Any strategy</th>\n",
       "      <td>0.000188</td>\n",
       "    </tr>\n",
       "    <tr>\n",
       "      <th>Publisher avg</th>\n",
       "      <td>0.020853</td>\n",
       "    </tr>\n",
       "    <tr>\n",
       "      <th>Developer avg</th>\n",
       "      <td>0.094577</td>\n",
       "    </tr>\n",
       "    <tr>\n",
       "      <th>Franchise avg</th>\n",
       "      <td>0.045025</td>\n",
       "    </tr>\n",
       "  </tbody>\n",
       "</table>\n",
       "<p>114 rows × 1 columns</p>\n",
       "</div>"
      ],
      "text/plain": [
       "                                 0\n",
       "Reviewscore               0.525510\n",
       "Launch Year               0.023524\n",
       "Play Year                 0.053388\n",
       "DLC/ Major update played  0.032375\n",
       "Remaster Reviewscore      0.004781\n",
       "...                            ...\n",
       "Any simulation            0.000000\n",
       "Any strategy              0.000188\n",
       "Publisher avg             0.020853\n",
       "Developer avg             0.094577\n",
       "Franchise avg             0.045025\n",
       "\n",
       "[114 rows x 1 columns]"
      ]
     },
     "execution_count": 213,
     "metadata": {},
     "output_type": "execute_result"
    }
   ],
   "source": [
    "# obtain feature importances\n",
    "importance = model.feature_importances_\n",
    "importances_df = pd.DataFrame([importance], columns = X.columns)\n",
    "importances_df = importances_df.transpose()\n",
    "importances_df.to_csv('../data/feature_importances.csv') # send importances to csv\n",
    "importances_df"
   ]
  },
  {
   "cell_type": "code",
   "execution_count": 214,
   "id": "ec0f7e0b",
   "metadata": {},
   "outputs": [],
   "source": [
    "# analyse performance using test set\n",
    "test_labels = pd.merge(y_test, data['Game'], left_index= True, right_index = True) #join the game name back in to rating scores\n",
    "test_scores = pd.DataFrame({'Game': test_labels['Game'], 'Predicted Rating':model.predict(X_test), 'Actual Rating': test_labels['Rating']}) #join the test set to the predictions\n",
    "test_scores.to_csv('../data/test_scores_output.csv')"
   ]
  },
  {
   "cell_type": "code",
   "execution_count": 215,
   "id": "d023e74d",
   "metadata": {},
   "outputs": [
    {
     "data": {
      "application/vnd.plotly.v1+json": {
       "config": {
        "plotlyServerURL": "https://plot.ly"
       },
       "data": [
        {
         "hovertemplate": "<b>%{hovertext}</b><br><br>Actual Rating=%{x}<br>Predicted Rating=%{y}<extra></extra>",
         "hovertext": [
          "Hi-Fi Rush",
          "Diablo Immortal",
          "Team Fortress 2",
          "Assassin's Creed Freedom Cry",
          "Mario Tennis Aces",
          "Mario Kart Wii",
          "Endless Legend",
          "Grid (2019)",
          "Fifa 06 Game Boy Advance",
          "Assassin's Creed Origins",
          "Mario Kart 8",
          "Grand Theft Auto San Andreas",
          "Stray",
          "Grid Legends",
          "Lego Star Wars The Skywalker Saga",
          "F.I.S.T. Forged In Shadow Torch",
          "Pokemon Legends Arceus",
          "Tearaway",
          "Monster Sanctuary",
          "Freshly Frosted",
          "DC Universe Online",
          "Don't Starve: Console Edition",
          "Shoppe Keep",
          "Grand Theft Auto Vice City Stories",
          "Animal Crossing City Folk",
          "Golfie",
          "Tales From the Borderlands",
          "Trials Fusion",
          "Football Manager 2012",
          "Star Wars Battlefront",
          "Embr",
          "The Legend of Zelda: Breath of the Wild",
          "Horizon Zero Dawn",
          "Monster Hunter Rise",
          "Far Cry Primal",
          "Mario & Sonic at the Olympic Games",
          "Call of Duty Black Ops III",
          "Marvel's Spider-Man Miles Morales",
          "Cassette Beasts",
          "Immortals Fenyx Rising",
          "Hot Wheels Unleashed",
          "Spacelines from the Far Out",
          "Wargroove",
          "Sackboy: A Big Adventure",
          "Divinity Original Sin 2",
          "Cat Quest II",
          "Dead Nation: Apocalypse Edition",
          "Minecraft Dungeons",
          "Back 4 Blood",
          "VR Worlds",
          "Metroid Fusion",
          "Bioshock Infinite",
          "Forza 4",
          "Wildermyth",
          "God of War Ragnarök",
          "F1 2018",
          "Football Manager 2007",
          "Europa Universalis IV",
          "Super Mario Galaxy",
          "Neon White",
          "Far Cry 5",
          "Dungeon of the Endless",
          "The Ascent",
          "Ultimate Chicken Horse",
          "Diablo 4",
          "Dirt Rally 2.0",
          "Apotheon",
          "Unsighted",
          "God of War (2018)",
          "Diablo 3",
          "Killzone Shadow Fall",
          "Journey to the Savage Planet",
          "Uncharted 4 A Thief's End",
          "You Suck At Parking",
          "Sea of Thieves",
          "Dragon Age Origins",
          "Rollercoaster Tycoon 2",
          "Middle Earth: Shadow of War",
          "Doom VFR",
          "Golf Peaks",
          "Concrete Genie",
          "Kingdom New Lands",
          "Final Fantasy X",
          "Kena: Bridge of Spirits",
          "Nier Automata",
          "Mario Strikers Charged Football",
          "Crash Bandicoot 4: Its About Time",
          "Nintendogs",
          "Super Smash Bros. Ultimate",
          "Titanfall 2",
          "The Legend of Zelda: Link's Awakening",
          "Bioshock",
          "Human Fall Flat",
          "Path of Exile",
          "Lego Star Wars: The Video Game",
          "Super Mario Galaxy 2",
          "Rayman Legends",
          "Hyrule Warriors Age of Calamity",
          "Psychonauts 2",
          "Civilization Beyond Earth",
          "Cities Skylines",
          "Super Mario Odyssey",
          "Age of Empires IV",
          "Batman Arkham Asylum",
          "Splatoon 3",
          "Uncharted Drake's Fortune",
          "OlliOlli World",
          "Animal Crossing New Horizons",
          "Guacamelee!",
          "F1 2015"
         ],
         "legendgroup": "",
         "marker": {
          "color": "#636efa",
          "symbol": "circle"
         },
         "mode": "markers",
         "name": "",
         "orientation": "v",
         "showlegend": false,
         "type": "scatter",
         "x": [
          97,
          44,
          84,
          70,
          66,
          88,
          74,
          69,
          44,
          82,
          94,
          91,
          86,
          72,
          63,
          49,
          82,
          85,
          83,
          78,
          58,
          71,
          52,
          83,
          67,
          53,
          87,
          77,
          78,
          70,
          62,
          100,
          97,
          81,
          67,
          63,
          78,
          89,
          81,
          76,
          75,
          60,
          74,
          75,
          89,
          72,
          57,
          64,
          63,
          55,
          90,
          95,
          88,
          73,
          96,
          85,
          91,
          85,
          98,
          85,
          76,
          74,
          64,
          75,
          76,
          73,
          71,
          86,
          99,
          88,
          70,
          72,
          94,
          62,
          67,
          85,
          84,
          60,
          25,
          69,
          80,
          67,
          80,
          84,
          63,
          75,
          74,
          75,
          90,
          88,
          73,
          93,
          62,
          81,
          82,
          97,
          91,
          72,
          89,
          62,
          88,
          97,
          70,
          90,
          84,
          86,
          87,
          87,
          75,
          58
         ],
         "xaxis": "x",
         "y": [
          86.95595518009668,
          60.15755063576866,
          84.42868481614116,
          70.82309630249588,
          70.84896596840117,
          80.52103262291685,
          74.18907967790881,
          72.18063863314244,
          62.97404466989084,
          75.25581937441741,
          91.7095023253981,
          88.6264640465547,
          74.04886139778151,
          67.66422477048961,
          74.5463713818842,
          61.98473193726579,
          78.63975733142965,
          84.10505125917456,
          71.73317988908974,
          89.44734197583801,
          72.11633008211616,
          72.12466418782543,
          52.58907673411099,
          87.17907510221184,
          68.0925892834728,
          64.51953880233098,
          78.76049743313447,
          70.07211184695224,
          81.49325886212874,
          70.3976750860053,
          54.825006686740196,
          94.7647662591231,
          91.7293797084117,
          83.970627791735,
          74.9906036612639,
          64.06419695310913,
          79.07206337198379,
          83.43261981959454,
          80.47715008788441,
          71.37828581858957,
          64.90152760720038,
          74.84830960324366,
          77.85385727499796,
          69.92554958923527,
          90.12964880929309,
          69.1831238322681,
          67.53277708781876,
          66.19910561124347,
          70.13177618830302,
          52.49691631261435,
          87.05720627913313,
          87.72061322541929,
          83.39713055982827,
          75.94661414272485,
          91.13187224151466,
          81.63895345164052,
          85.22767088344115,
          85.04980582065232,
          92.67531150025977,
          86.19485661096161,
          74.46499002767563,
          69.64792460519793,
          67.82808691842212,
          66.83269004765044,
          82.6885351178429,
          72.93249793793258,
          70.16742987388406,
          77.54445464333715,
          89.84302020573904,
          71.16987731914048,
          69.19589900542015,
          68.16279502669975,
          99.43835291347335,
          70.05292823346181,
          60.47000944022485,
          87.34949685065364,
          71.00788455067641,
          76.23339789421263,
          68.09919111556364,
          63.70696098410262,
          73.50098313196294,
          63.82431557316661,
          79.73863662320467,
          79.66905628096593,
          84.05392061576183,
          73.43013138449935,
          76.70987817501593,
          84.26910657044137,
          89.02824691708958,
          82.1540697005113,
          82.94390044127799,
          91.60519849784683,
          58.24924672225131,
          77.95714047870193,
          76.20324708399572,
          91.92884481056173,
          86.33984349493058,
          72.80006328165736,
          86.0631257786012,
          76.75438237068067,
          85.10089973837727,
          94.7110007970992,
          77.34555045936382,
          85.79297004738318,
          84.15971201922208,
          87.85725248163136,
          77.90979110491008,
          89.65121162841704,
          78.76314194878026,
          70.54925063617189
         ],
         "yaxis": "y"
        }
       ],
       "layout": {
        "legend": {
         "tracegroupgap": 0
        },
        "margin": {
         "t": 60
        },
        "template": {
         "data": {
          "bar": [
           {
            "error_x": {
             "color": "#2a3f5f"
            },
            "error_y": {
             "color": "#2a3f5f"
            },
            "marker": {
             "line": {
              "color": "#E5ECF6",
              "width": 0.5
             },
             "pattern": {
              "fillmode": "overlay",
              "size": 10,
              "solidity": 0.2
             }
            },
            "type": "bar"
           }
          ],
          "barpolar": [
           {
            "marker": {
             "line": {
              "color": "#E5ECF6",
              "width": 0.5
             },
             "pattern": {
              "fillmode": "overlay",
              "size": 10,
              "solidity": 0.2
             }
            },
            "type": "barpolar"
           }
          ],
          "carpet": [
           {
            "aaxis": {
             "endlinecolor": "#2a3f5f",
             "gridcolor": "white",
             "linecolor": "white",
             "minorgridcolor": "white",
             "startlinecolor": "#2a3f5f"
            },
            "baxis": {
             "endlinecolor": "#2a3f5f",
             "gridcolor": "white",
             "linecolor": "white",
             "minorgridcolor": "white",
             "startlinecolor": "#2a3f5f"
            },
            "type": "carpet"
           }
          ],
          "choropleth": [
           {
            "colorbar": {
             "outlinewidth": 0,
             "ticks": ""
            },
            "type": "choropleth"
           }
          ],
          "contour": [
           {
            "colorbar": {
             "outlinewidth": 0,
             "ticks": ""
            },
            "colorscale": [
             [
              0,
              "#0d0887"
             ],
             [
              0.1111111111111111,
              "#46039f"
             ],
             [
              0.2222222222222222,
              "#7201a8"
             ],
             [
              0.3333333333333333,
              "#9c179e"
             ],
             [
              0.4444444444444444,
              "#bd3786"
             ],
             [
              0.5555555555555556,
              "#d8576b"
             ],
             [
              0.6666666666666666,
              "#ed7953"
             ],
             [
              0.7777777777777778,
              "#fb9f3a"
             ],
             [
              0.8888888888888888,
              "#fdca26"
             ],
             [
              1,
              "#f0f921"
             ]
            ],
            "type": "contour"
           }
          ],
          "contourcarpet": [
           {
            "colorbar": {
             "outlinewidth": 0,
             "ticks": ""
            },
            "type": "contourcarpet"
           }
          ],
          "heatmap": [
           {
            "colorbar": {
             "outlinewidth": 0,
             "ticks": ""
            },
            "colorscale": [
             [
              0,
              "#0d0887"
             ],
             [
              0.1111111111111111,
              "#46039f"
             ],
             [
              0.2222222222222222,
              "#7201a8"
             ],
             [
              0.3333333333333333,
              "#9c179e"
             ],
             [
              0.4444444444444444,
              "#bd3786"
             ],
             [
              0.5555555555555556,
              "#d8576b"
             ],
             [
              0.6666666666666666,
              "#ed7953"
             ],
             [
              0.7777777777777778,
              "#fb9f3a"
             ],
             [
              0.8888888888888888,
              "#fdca26"
             ],
             [
              1,
              "#f0f921"
             ]
            ],
            "type": "heatmap"
           }
          ],
          "heatmapgl": [
           {
            "colorbar": {
             "outlinewidth": 0,
             "ticks": ""
            },
            "colorscale": [
             [
              0,
              "#0d0887"
             ],
             [
              0.1111111111111111,
              "#46039f"
             ],
             [
              0.2222222222222222,
              "#7201a8"
             ],
             [
              0.3333333333333333,
              "#9c179e"
             ],
             [
              0.4444444444444444,
              "#bd3786"
             ],
             [
              0.5555555555555556,
              "#d8576b"
             ],
             [
              0.6666666666666666,
              "#ed7953"
             ],
             [
              0.7777777777777778,
              "#fb9f3a"
             ],
             [
              0.8888888888888888,
              "#fdca26"
             ],
             [
              1,
              "#f0f921"
             ]
            ],
            "type": "heatmapgl"
           }
          ],
          "histogram": [
           {
            "marker": {
             "pattern": {
              "fillmode": "overlay",
              "size": 10,
              "solidity": 0.2
             }
            },
            "type": "histogram"
           }
          ],
          "histogram2d": [
           {
            "colorbar": {
             "outlinewidth": 0,
             "ticks": ""
            },
            "colorscale": [
             [
              0,
              "#0d0887"
             ],
             [
              0.1111111111111111,
              "#46039f"
             ],
             [
              0.2222222222222222,
              "#7201a8"
             ],
             [
              0.3333333333333333,
              "#9c179e"
             ],
             [
              0.4444444444444444,
              "#bd3786"
             ],
             [
              0.5555555555555556,
              "#d8576b"
             ],
             [
              0.6666666666666666,
              "#ed7953"
             ],
             [
              0.7777777777777778,
              "#fb9f3a"
             ],
             [
              0.8888888888888888,
              "#fdca26"
             ],
             [
              1,
              "#f0f921"
             ]
            ],
            "type": "histogram2d"
           }
          ],
          "histogram2dcontour": [
           {
            "colorbar": {
             "outlinewidth": 0,
             "ticks": ""
            },
            "colorscale": [
             [
              0,
              "#0d0887"
             ],
             [
              0.1111111111111111,
              "#46039f"
             ],
             [
              0.2222222222222222,
              "#7201a8"
             ],
             [
              0.3333333333333333,
              "#9c179e"
             ],
             [
              0.4444444444444444,
              "#bd3786"
             ],
             [
              0.5555555555555556,
              "#d8576b"
             ],
             [
              0.6666666666666666,
              "#ed7953"
             ],
             [
              0.7777777777777778,
              "#fb9f3a"
             ],
             [
              0.8888888888888888,
              "#fdca26"
             ],
             [
              1,
              "#f0f921"
             ]
            ],
            "type": "histogram2dcontour"
           }
          ],
          "mesh3d": [
           {
            "colorbar": {
             "outlinewidth": 0,
             "ticks": ""
            },
            "type": "mesh3d"
           }
          ],
          "parcoords": [
           {
            "line": {
             "colorbar": {
              "outlinewidth": 0,
              "ticks": ""
             }
            },
            "type": "parcoords"
           }
          ],
          "pie": [
           {
            "automargin": true,
            "type": "pie"
           }
          ],
          "scatter": [
           {
            "fillpattern": {
             "fillmode": "overlay",
             "size": 10,
             "solidity": 0.2
            },
            "type": "scatter"
           }
          ],
          "scatter3d": [
           {
            "line": {
             "colorbar": {
              "outlinewidth": 0,
              "ticks": ""
             }
            },
            "marker": {
             "colorbar": {
              "outlinewidth": 0,
              "ticks": ""
             }
            },
            "type": "scatter3d"
           }
          ],
          "scattercarpet": [
           {
            "marker": {
             "colorbar": {
              "outlinewidth": 0,
              "ticks": ""
             }
            },
            "type": "scattercarpet"
           }
          ],
          "scattergeo": [
           {
            "marker": {
             "colorbar": {
              "outlinewidth": 0,
              "ticks": ""
             }
            },
            "type": "scattergeo"
           }
          ],
          "scattergl": [
           {
            "marker": {
             "colorbar": {
              "outlinewidth": 0,
              "ticks": ""
             }
            },
            "type": "scattergl"
           }
          ],
          "scattermapbox": [
           {
            "marker": {
             "colorbar": {
              "outlinewidth": 0,
              "ticks": ""
             }
            },
            "type": "scattermapbox"
           }
          ],
          "scatterpolar": [
           {
            "marker": {
             "colorbar": {
              "outlinewidth": 0,
              "ticks": ""
             }
            },
            "type": "scatterpolar"
           }
          ],
          "scatterpolargl": [
           {
            "marker": {
             "colorbar": {
              "outlinewidth": 0,
              "ticks": ""
             }
            },
            "type": "scatterpolargl"
           }
          ],
          "scatterternary": [
           {
            "marker": {
             "colorbar": {
              "outlinewidth": 0,
              "ticks": ""
             }
            },
            "type": "scatterternary"
           }
          ],
          "surface": [
           {
            "colorbar": {
             "outlinewidth": 0,
             "ticks": ""
            },
            "colorscale": [
             [
              0,
              "#0d0887"
             ],
             [
              0.1111111111111111,
              "#46039f"
             ],
             [
              0.2222222222222222,
              "#7201a8"
             ],
             [
              0.3333333333333333,
              "#9c179e"
             ],
             [
              0.4444444444444444,
              "#bd3786"
             ],
             [
              0.5555555555555556,
              "#d8576b"
             ],
             [
              0.6666666666666666,
              "#ed7953"
             ],
             [
              0.7777777777777778,
              "#fb9f3a"
             ],
             [
              0.8888888888888888,
              "#fdca26"
             ],
             [
              1,
              "#f0f921"
             ]
            ],
            "type": "surface"
           }
          ],
          "table": [
           {
            "cells": {
             "fill": {
              "color": "#EBF0F8"
             },
             "line": {
              "color": "white"
             }
            },
            "header": {
             "fill": {
              "color": "#C8D4E3"
             },
             "line": {
              "color": "white"
             }
            },
            "type": "table"
           }
          ]
         },
         "layout": {
          "annotationdefaults": {
           "arrowcolor": "#2a3f5f",
           "arrowhead": 0,
           "arrowwidth": 1
          },
          "autotypenumbers": "strict",
          "coloraxis": {
           "colorbar": {
            "outlinewidth": 0,
            "ticks": ""
           }
          },
          "colorscale": {
           "diverging": [
            [
             0,
             "#8e0152"
            ],
            [
             0.1,
             "#c51b7d"
            ],
            [
             0.2,
             "#de77ae"
            ],
            [
             0.3,
             "#f1b6da"
            ],
            [
             0.4,
             "#fde0ef"
            ],
            [
             0.5,
             "#f7f7f7"
            ],
            [
             0.6,
             "#e6f5d0"
            ],
            [
             0.7,
             "#b8e186"
            ],
            [
             0.8,
             "#7fbc41"
            ],
            [
             0.9,
             "#4d9221"
            ],
            [
             1,
             "#276419"
            ]
           ],
           "sequential": [
            [
             0,
             "#0d0887"
            ],
            [
             0.1111111111111111,
             "#46039f"
            ],
            [
             0.2222222222222222,
             "#7201a8"
            ],
            [
             0.3333333333333333,
             "#9c179e"
            ],
            [
             0.4444444444444444,
             "#bd3786"
            ],
            [
             0.5555555555555556,
             "#d8576b"
            ],
            [
             0.6666666666666666,
             "#ed7953"
            ],
            [
             0.7777777777777778,
             "#fb9f3a"
            ],
            [
             0.8888888888888888,
             "#fdca26"
            ],
            [
             1,
             "#f0f921"
            ]
           ],
           "sequentialminus": [
            [
             0,
             "#0d0887"
            ],
            [
             0.1111111111111111,
             "#46039f"
            ],
            [
             0.2222222222222222,
             "#7201a8"
            ],
            [
             0.3333333333333333,
             "#9c179e"
            ],
            [
             0.4444444444444444,
             "#bd3786"
            ],
            [
             0.5555555555555556,
             "#d8576b"
            ],
            [
             0.6666666666666666,
             "#ed7953"
            ],
            [
             0.7777777777777778,
             "#fb9f3a"
            ],
            [
             0.8888888888888888,
             "#fdca26"
            ],
            [
             1,
             "#f0f921"
            ]
           ]
          },
          "colorway": [
           "#636efa",
           "#EF553B",
           "#00cc96",
           "#ab63fa",
           "#FFA15A",
           "#19d3f3",
           "#FF6692",
           "#B6E880",
           "#FF97FF",
           "#FECB52"
          ],
          "font": {
           "color": "#2a3f5f"
          },
          "geo": {
           "bgcolor": "white",
           "lakecolor": "white",
           "landcolor": "#E5ECF6",
           "showlakes": true,
           "showland": true,
           "subunitcolor": "white"
          },
          "hoverlabel": {
           "align": "left"
          },
          "hovermode": "closest",
          "mapbox": {
           "style": "light"
          },
          "paper_bgcolor": "white",
          "plot_bgcolor": "#E5ECF6",
          "polar": {
           "angularaxis": {
            "gridcolor": "white",
            "linecolor": "white",
            "ticks": ""
           },
           "bgcolor": "#E5ECF6",
           "radialaxis": {
            "gridcolor": "white",
            "linecolor": "white",
            "ticks": ""
           }
          },
          "scene": {
           "xaxis": {
            "backgroundcolor": "#E5ECF6",
            "gridcolor": "white",
            "gridwidth": 2,
            "linecolor": "white",
            "showbackground": true,
            "ticks": "",
            "zerolinecolor": "white"
           },
           "yaxis": {
            "backgroundcolor": "#E5ECF6",
            "gridcolor": "white",
            "gridwidth": 2,
            "linecolor": "white",
            "showbackground": true,
            "ticks": "",
            "zerolinecolor": "white"
           },
           "zaxis": {
            "backgroundcolor": "#E5ECF6",
            "gridcolor": "white",
            "gridwidth": 2,
            "linecolor": "white",
            "showbackground": true,
            "ticks": "",
            "zerolinecolor": "white"
           }
          },
          "shapedefaults": {
           "line": {
            "color": "#2a3f5f"
           }
          },
          "ternary": {
           "aaxis": {
            "gridcolor": "white",
            "linecolor": "white",
            "ticks": ""
           },
           "baxis": {
            "gridcolor": "white",
            "linecolor": "white",
            "ticks": ""
           },
           "bgcolor": "#E5ECF6",
           "caxis": {
            "gridcolor": "white",
            "linecolor": "white",
            "ticks": ""
           }
          },
          "title": {
           "x": 0.05
          },
          "xaxis": {
           "automargin": true,
           "gridcolor": "white",
           "linecolor": "white",
           "ticks": "",
           "title": {
            "standoff": 15
           },
           "zerolinecolor": "white",
           "zerolinewidth": 2
          },
          "yaxis": {
           "automargin": true,
           "gridcolor": "white",
           "linecolor": "white",
           "ticks": "",
           "title": {
            "standoff": 15
           },
           "zerolinecolor": "white",
           "zerolinewidth": 2
          }
         }
        },
        "xaxis": {
         "anchor": "y",
         "domain": [
          0,
          1
         ],
         "title": {
          "text": "Actual Rating"
         }
        },
        "yaxis": {
         "anchor": "x",
         "domain": [
          0,
          1
         ],
         "title": {
          "text": "Predicted Rating"
         }
        }
       }
      }
     },
     "metadata": {},
     "output_type": "display_data"
    }
   ],
   "source": [
    "# scatter plot of scores vs actual\n",
    "fig = px.scatter(test_scores, x=\"Actual Rating\", y=\"Predicted Rating\", hover_name= 'Game')\n",
    "fig"
   ]
  },
  {
   "cell_type": "code",
   "execution_count": 216,
   "id": "1f3beba8",
   "metadata": {},
   "outputs": [
    {
     "name": "stdout",
     "output_type": "stream",
     "text": [
      "Coefficient of determination -  0.6260285759990798\n",
      "Pearson R -  PearsonRResult(statistic=0.7948663506780815, pvalue=3.5431071391519047e-25)\n"
     ]
    }
   ],
   "source": [
    "#output some actual model performance scores\n",
    "print('Coefficient of determination - ', model.score(X_test, y_test))\n",
    "print('Pearson R - ', pearsonr(y_test,model.predict(X_test)))"
   ]
  },
  {
   "cell_type": "code",
   "execution_count": 217,
   "id": "397ae145",
   "metadata": {},
   "outputs": [
    {
     "data": {
      "application/vnd.plotly.v1+json": {
       "config": {
        "plotlyServerURL": "https://plot.ly"
       },
       "data": [
        {
         "hovertemplate": "<b>%{hovertext}</b><br><br>Review avg=%{x}<br>Predicted Rating=%{y}<extra></extra>",
         "hovertext": [
          "The Legend of Zelda: Tears of the Kingdom",
          "The Legend of Zelda: Breath of the Wild",
          "The Legend of Zelda: Ocarina of Time",
          "The Legend of Zelda: Skyward Sword",
          "The Legend of Zelda: Link's Awakening",
          "Hyrule Warriors Age of Calamity",
          "Super Mario Galaxy",
          "Super Mario Odyssey",
          "Super Mario Galaxy 2",
          "Super Mario 3D World + Bowser's Fury",
          "Mario Kart 8",
          "Mario Kart DS",
          "Mario Kart Wii",
          "Mario Kart 7",
          "Super Metroid",
          "Metroid Fusion",
          "Metroid Prime",
          "Metroid Dread",
          "Tetris",
          "Tetris Effect",
          "Animal Crossing New Horizons",
          "Animal Crossing City Folk",
          "Splatoon 3",
          "The Legend of Zelda: A Link to the Past",
          "Ring Fit Adventure",
          "Wii Sports",
          "Nintendogs",
          "Wii Fit",
          "New Super Mario Bros. Wii",
          "New Super Mario Bros. 2",
          "Brain Training",
          "Mario Party 8",
          "Pokemon SoulSilver",
          "Pokemon White",
          "Pokemon Black 2",
          "Pokemon Diamond",
          "Pokemon Sun",
          "Pokemon Legends Arceus",
          "Pokemon Y",
          "Pokemon Omega Ruby",
          "Pokemon Let's Go Pikachu",
          "Pokemon Violet",
          "Pokemon Sword",
          "Pokemon Mystery Dunegon Explorers of Time",
          "Super Smash Bros. Brawl",
          "Super Smash Bros. Ultimate",
          "Bayonetta 2",
          "Bayonetta",
          "Astral Chain",
          "Nier Automata",
          "Mario & Luigi Superstar Saga",
          "Luigi's Mansion 3",
          "Mario Strikers Charged Football",
          "Mario Golf: Super Rush",
          "Mario Tennis Aces",
          "Mario & Sonic at the Winter Olympic Games",
          "Mario & Sonic at the Olympic Games",
          "Kirby and the Forgotten Land",
          "Xenoblade Chronicles Definitive Edition",
          "God of War (2018)",
          "God of War Ragnarök",
          "God of War 3",
          "The Last of Us",
          "The Last of Us Part II",
          "Uncharted 2 Among Thieves",
          "Uncharted 4 A Thief's End",
          "Uncharted The Lost Legacy",
          "Uncharted 3 Drake's Deception",
          "Uncharted Drake's Fortune",
          "Uncharted Golden Abyss",
          "Crash Bandicoot 2: Cortex Strikes Back",
          "Crash Bandicoot 3: Warped",
          "Crash Bandicoot",
          "Crash Team Racing Nitro Fueled",
          "Crash Bandicoot 4: Its About Time",
          "Crash Bandicoot The Wrath of Cortex",
          "Horizon Zero Dawn",
          "Horizon Forbidden West",
          "Killzone Shadow Fall",
          "Bloodborne",
          "Elden Ring",
          "Demon's Souls (Remake)",
          "Sekiro Shadows Die Twice",
          "Astro Bot Rescue Mission",
          "Astro's Playroom",
          "Driveclub",
          "Ghost of Tsushima",
          "inFAMOUS Second Son",
          "Infamous First Light",
          "Marvel's Spider-Man",
          "Marvel's Spider-Man Miles Morales",
          "Ratchet & Clank: Rift Apart",
          "Ratchet & Clank",
          "Gran Turismo 2",
          "Gran Turismo 7",
          "Gran Turismo Sport",
          "Tearaway",
          "Dreams",
          "Returnal",
          "Resogun",
          "Dead Nation: Apocalypse Edition",
          "Nex Machina",
          "Concrete Genie",
          "The Order 1886",
          "Heavy Rain",
          "Detroit Become Human",
          "WipeOut Omega Collection",
          "Sackboy: A Big Adventure",
          "Little Big Planet 3",
          "Sonic & All Stars Racing Transformed",
          "The Last Guardian",
          "Shadow of the Colossus (Remake)",
          "Destruction Allstars",
          "VR Worlds",
          "Hades",
          "Transistor",
          "Pyre",
          "Celeste",
          "Hollow Knight",
          "Undertale",
          "Rocket League",
          "Psychonauts",
          "Psychonauts 2",
          "A Short Hike",
          "Divinity Original Sin 2",
          "Vampire Survivors",
          "Rogue Legacy 2",
          "Dead Cells",
          "Crosscode",
          "Golf Story",
          "Terraria",
          "Citizen Sleeper",
          "Kena: Bridge of Spirits",
          "Spiritfarer",
          "Cassette Beasts",
          "Path of Exile",
          "Stardew Valley",
          "Teenage Mutant Ninja Turtles: Shredder's Revenge",
          "Streets of Rage 4",
          "Windjammers 2",
          "Nobody Saves The World",
          "Guacamelee!",
          "Freshly Frosted",
          "Crypt of the Necrodancer",
          "Torchlight 2",
          "Torchlight",
          "Chained Echoes",
          "Warhammer Vermentide 2",
          "Moss PSVR",
          "Parkitect",
          "Northgard",
          "Darksburg",
          "Warframe",
          "Hot Wheels Unleashed",
          "Bugsnax",
          "Ultimate Chicken Horse",
          "Prison Architect",
          "Wargroove",
          "Dungeon of the Endless",
          "Endless Legend",
          "Wildermyth",
          "The Riftbreaker",
          "Buck Up and Drive!",
          "High on Life",
          "Cat Quest II",
          "Cat Quest",
          "Hyper Light Drifter",
          "Velocity 2X",
          "20 Minutes Till Dawn",
          "Warpips",
          "Apotheon",
          "Don't Starve: Console Edition",
          "Sportsfriends",
          "Motorsport Manager",
          "Tunic",
          "Boyfriend Dungeon",
          "Golf Peaks",
          "Clustertruck",
          "Banished",
          "Lyne",
          "Mini Motorways",
          "Dicey Dungeons",
          "Factorio",
          "Game Dev Tycoon",
          "Awesomenauts",
          "The Jackbox Party Pack 6",
          "Kingdom New Lands",
          "War Thunder",
          "Arcadeggedon",
          "Pure Pool",
          "Big Pharma",
          "You Suck At Parking",
          "Unrailed!",
          "Luna",
          "Dandy Ace",
          "Tchia",
          "Democracy 3",
          "Clicker Heroes",
          "Shoppe Keep",
          "Youtubers Life",
          "CrossfireX",
          "Cruis'n Blast",
          "Sunlight",
          "Red Dead Redemption 2",
          "Grand Theft Auto V",
          "Grand Theft Auto San Andreas",
          "Grand Theft Auto Vice City Stories",
          "Grand Theft Auto IV",
          "Hi-Fi Rush",
          "Ghostwire Tokyo",
          "Forza Horizon 3",
          "Forza Horizon 5",
          "Forza Horizon 4",
          "Forza 4",
          "Forza Motorsport 7",
          "Halo Combat Evolved",
          "Halo Reach",
          "Halo 3",
          "Halo 2",
          "Halo Infinite",
          "Halo 3 ODST",
          "Halo 5: Guardians",
          "Halo 4",
          "Destiny",
          "Ori and The Will of the Wisps",
          "Ori and The Blind Forest",
          "Gears 5",
          "Gears of War 4",
          "Minecraft",
          "Minecraft Dungeons",
          "Minecraft Legends",
          "Age of Empires IV",
          "Sea of Thieves",
          "Project Cars",
          "Scarlet Nexus",
          "Bioshock Infinite",
          "Bioshock",
          "Bioshock 2",
          "Civilization V",
          "Civilization VI",
          "Civilization Beyond Earth",
          "XCOM: Enemy Unknown",
          "Borderlands 2",
          "Borderlands 3",
          "Borderlands The Pre-Sequel",
          "Tales From the Borderlands",
          "Game of Thrones Telltale",
          "Spec Ops The Line",
          "Portal 2",
          "Team Fortress 2",
          "Mass Effect 2",
          "Mass Effect 3",
          "Mass Effect",
          "Dragon Age Inquisition",
          "Dragon Age 2",
          "Dragon Age Origins",
          "Star Wars: Knights of the Old Republic",
          "Star Wars Jedi Fallen Order",
          "Star Wars Jedi Survivor",
          "Star Wars Battlefront",
          "Star Wars Squadrons",
          "Lego Star Wars The Skywalker Saga",
          "Lego Star Wars II: The Original Trilogy",
          "Lego Star Wars: The Video Game",
          "Titanfall 2",
          "Apex Legends",
          "Fifa 11",
          "Fifa 14",
          "Fifa 12",
          "Fifa 07",
          "Fifa 13",
          "2010 FIFA World Cup South Africa",
          "Fifa 19",
          "Fifa Street 2",
          "Fifa 06 Game Boy Advance",
          "Fifa 14 Legacy Edition",
          "Wild Hearts",
          "Battlefield 4",
          "Battlefield 1",
          "Need for Speed Hot Pursuit",
          "Need for Speed Unbound",
          "Need For Speed Heat",
          "Burnout Paradise",
          "Grid Legends",
          "Grid (2019)",
          "Grid Autosport",
          "F1 2020",
          "F1 2018",
          "F1 2017",
          "F1 2019",
          "F1 2016",
          "F1 2011",
          "F1 2010",
          "F1 2012",
          "F1 2009",
          "F1 2015",
          "Dirt 5",
          "Dirt Rally 2.0",
          "Guild Wars 2",
          "Final Fantasy XVI",
          "Final Fantasy VII Remake",
          "Final Fantasy X",
          "Final Fantasy XV",
          "Kingdom Hearts 3",
          "Dragon Quest XI",
          "Dragon Quest Builders",
          "Dragon Quest IX",
          "Octopath Traveller",
          "Rise of the Tomb Raider ",
          "Tomb Raider",
          "Marvel's Avengers",
          "Guardians of the Galaxy",
          "Just Cause 3",
          "Assassin's Creed Brotherhood",
          "Assassin's Creed IV Black Flag",
          "Assassin's Creed Unity",
          "Assassin's Creed Revelations",
          "Assassin's Creed Origins",
          "Assassin's Creed Freedom Cry",
          "Assassin's Creed Syndicate",
          "Assassin's Creed Odyssey",
          "Assassin's Creed Rogue",
          "Watch Dogs",
          "Watch Dogs 2",
          "Far Cry 4",
          "Far Cry 5",
          "Far Cry Primal",
          "Rayman Legends",
          "Immortals Fenyx Rising",
          "Mario + Rabbids Kingdom Battle",
          "Trackmania Turbo",
          "Trials Fusion",
          "Trials Rising",
          "The Crew",
          "The Crew 2",
          "Call of Duty Modern Warfare 2",
          "Call of Duty Modern Warfare",
          "Call of Duty Modern Warfare 3",
          "Call of Duty Infinite Warfare",
          "Call of Duty Black Ops",
          "Call of Duty Black Ops II",
          "Call of Duty Black Ops 4",
          "Call of Duty Black Ops III",
          "Call of Duty Advanced Warfare",
          "Call of Duty WW2",
          "Diablo 3",
          "Diablo 4",
          "Diablo 2 Resurrected",
          "Diablo Immortal",
          "Overwatch",
          "Overwatch 2",
          "Football Manager 2007",
          "Football Manager 2008",
          "Football Manager 2009",
          "Football Manager 2010",
          "Football Manager 2013",
          "Football Manager 2012",
          "Football Manager 2014",
          "Football Manager 2015",
          "Two Point Campus",
          "Ys VIII Lacrimosa of Dana",
          "Ys IX: Monstrum Nox",
          "Ys Seven",
          "Batman Arkham Asylum",
          "Batman Arkham Knight",
          "Middle Earth Shadow of Mordor",
          "Middle Earth: Shadow of War",
          "Back 4 Blood",
          "DC Universe Online",
          "Death's Door",
          "OlliOlli 2: Welcome to Olliwood",
          "OlliOlli World",
          "Loop Hero",
          "Gris",
          "Cult of the Lamb",
          "Trek to Yomi",
          "Fall Guys",
          "Persona 5",
          "Cities Skylines",
          "Europa Universalis IV",
          "Hearts of Iron IV",
          "Stellaris",
          "Warlock - Master of the Arcane",
          "Surviving Mars",
          "Journey",
          "Stray",
          "Neon White",
          "Outer Wilds",
          "The Outer Worlds",
          "Devil May Cry 5",
          "Monster Hunter Rise",
          "Monster Hunter World",
          "Aces and Adventures",
          "PlateUp!",
          "Golfie",
          "Unsighted",
          "TemTem",
          "Rollercoaster Tycoon 2",
          "Rollercoaster Tycoon",
          "Monster Sanctuary",
          "Overcooked 2",
          "Overcooked",
          "Worms W.M.D",
          "Golf With Your Friends",
          "Deathloop",
          "Doom (2016)",
          "Doom Eternal",
          "Doom VFR",
          "Skyrim",
          "Deep Rock Galactic",
          "A Plague Tale: Innocence",
          "A Plague Tale: Requiem",
          "Curse of the Dead Gods",
          "GreedFall",
          "Farming Simulator 2019",
          "Contrast",
          "Risk of Rain 2",
          "Tribes of Midgard",
          "WRC 9",
          "Wreckfest",
          "Darksiders Genesis",
          "The Simpsons Hit & Run",
          "Castlevania Symphony of the Night",
          "Journey to the Savage Planet",
          "Abzu",
          "Control",
          "The Witcher 3",
          "Cyberpunk 2077",
          "Nioh",
          "Wo Long Fallen Dynasty",
          "The Ascent",
          "Embr",
          "For The King",
          "Human Fall Flat",
          "Spacelines from the Far Out",
          "Finding Nemo",
          "Lost Ark",
          "F.I.S.T. Forged In Shadow Torch"
         ],
         "legendgroup": "",
         "marker": {
          "color": "#636efa",
          "symbol": "circle"
         },
         "mode": "markers",
         "name": "",
         "orientation": "v",
         "showlegend": false,
         "type": "scatter",
         "x": [
          96,
          97,
          99,
          93,
          87,
          80,
          97,
          97,
          97,
          89,
          88,
          91,
          82,
          85,
          96,
          92,
          97,
          87,
          90,
          89,
          90,
          73,
          83,
          95,
          83,
          76,
          83,
          80,
          87,
          78,
          77,
          62,
          87,
          87,
          80,
          85,
          87,
          84,
          86,
          83,
          81,
          72,
          80,
          60,
          93,
          93,
          91,
          90,
          87,
          89,
          90,
          86,
          79,
          71,
          78,
          72,
          67,
          84,
          89,
          94,
          94,
          92,
          95,
          93,
          96,
          93,
          84,
          92,
          88,
          80,
          89,
          91,
          80,
          83,
          85,
          66,
          89,
          88,
          73,
          92,
          96,
          92,
          90,
          90,
          84,
          71,
          85,
          80,
          73,
          87,
          85,
          88,
          85,
          93,
          87,
          75,
          87,
          90,
          86,
          84,
          71,
          84,
          77,
          63,
          87,
          78,
          85,
          81,
          79,
          75,
          81,
          92,
          62,
          56,
          94,
          83,
          84,
          91,
          90,
          92,
          85,
          87,
          89,
          87,
          93,
          87,
          89,
          89,
          86,
          78,
          83,
          84,
          82,
          87,
          86,
          93,
          89,
          87,
          84,
          77,
          80,
          83,
          91,
          87,
          88,
          83,
          89,
          83,
          85,
          83,
          79,
          68,
          71,
          74,
          75,
          79,
          80,
          83,
          79,
          82,
          85,
          80,
          70,
          69,
          76,
          72,
          84,
          85,
          76,
          79,
          76,
          76,
          80,
          81,
          86,
          73,
          75,
          76,
          74,
          86,
          80,
          82,
          70,
          68,
          78,
          74,
          73,
          75,
          74,
          73,
          64,
          70,
          75,
          62,
          79,
          78,
          70,
          57,
          57,
          63,
          42,
          73,
          78,
          97,
          97,
          95,
          86,
          98,
          89,
          77,
          91,
          92,
          92,
          91,
          85,
          97,
          91,
          94,
          95,
          87,
          83,
          84,
          87,
          76,
          90,
          89,
          85,
          84,
          93,
          72,
          71,
          83,
          67,
          75,
          79,
          94,
          96,
          88,
          90,
          88,
          81,
          89,
          89,
          80,
          75,
          86,
          69,
          76,
          95,
          92,
          96,
          93,
          91,
          89,
          79,
          91,
          94,
          85,
          85,
          73,
          79,
          82,
          84,
          78,
          87,
          86,
          88,
          85,
          90,
          82,
          90,
          82,
          81,
          59,
          49,
          38,
          79,
          85,
          87,
          88,
          75,
          72,
          88,
          75,
          73,
          78,
          88,
          84,
          86,
          86,
          82,
          84,
          84,
          81,
          69,
          65,
          82,
          83,
          90,
          88,
          88,
          92,
          81,
          85,
          86,
          70,
          87,
          83,
          86,
          85,
          68,
          82,
          73,
          90,
          83,
          70,
          80,
          81,
          70,
          76,
          85,
          72,
          77,
          82,
          85,
          82,
          76,
          90,
          79,
          85,
          81,
          79,
          80,
          61,
          64,
          94,
          92,
          89,
          77,
          88,
          83,
          85,
          81,
          83,
          79,
          88,
          88,
          80,
          65,
          91,
          77,
          87,
          86,
          83,
          87,
          86,
          84,
          85,
          80,
          84,
          85,
          80,
          79,
          92,
          87,
          84,
          79,
          76,
          72,
          88,
          85,
          86,
          84,
          84,
          84,
          72,
          80,
          94,
          85,
          87,
          83,
          81,
          71,
          77,
          92,
          84,
          89,
          86,
          85,
          88,
          88,
          89,
          84,
          80,
          70,
          85,
          76,
          74,
          78,
          80,
          81,
          80,
          78,
          69,
          88,
          85,
          89,
          70,
          94,
          85,
          82,
          84,
          81,
          75,
          64,
          59,
          86,
          75,
          80,
          80,
          79,
          78,
          93,
          76,
          80,
          84,
          92,
          76,
          88,
          82,
          73,
          67,
          75,
          68,
          82,
          63,
          82,
          80
         ],
         "xaxis": "x",
         "y": [
          95.05658562079635,
          94.7647662591231,
          88.84197649946768,
          84.16811553031702,
          82.94390044127799,
          72.80006328165736,
          92.67531150025977,
          94.7110007970992,
          91.92884481056173,
          87.63040780044976,
          91.7095023253981,
          91.47342206998961,
          80.52103262291685,
          83.56942701231243,
          92.2013144141161,
          87.05720627913313,
          95.94952957672443,
          88.48786383990893,
          84.89595535207107,
          84.44310786637857,
          89.65121162841704,
          68.0925892834728,
          84.15971201922208,
          82.11002545748042,
          80.72124131772503,
          74.16470300245636,
          84.26910657044137,
          72.85340305216583,
          81.6451800704204,
          74.68644473024014,
          74.56651407277312,
          57.368480894932134,
          84.55094822991484,
          83.36789268417817,
          79.11152317809929,
          83.5708309838386,
          80.50077411143792,
          78.63975733142965,
          79.71454640189339,
          79.30069379066188,
          75.08144863695595,
          70.1350864815197,
          74.69797887446995,
          65.82066788202513,
          90.15319595968352,
          89.02824691708958,
          86.2715584202003,
          80.23714713082799,
          84.17068682528279,
          84.05392061576183,
          82.72662005095918,
          76.48187524001092,
          73.43013138449935,
          66.95708649824881,
          70.84896596840117,
          67.93105762836866,
          64.06419695310913,
          79.40933830135906,
          83.42642149494748,
          89.84302020573904,
          91.13187224151466,
          87.77808368168974,
          98.29843482124582,
          93.57713752178287,
          95.884049919415,
          99.43835291347335,
          90.19241313533301,
          92.17491432508312,
          87.85725248163136,
          75.89477971052979,
          83.36349081206232,
          86.87595443776154,
          73.39757447237903,
          79.9210208044543,
          76.70987817501593,
          65.66609310869087,
          91.7293797084117,
          92.21809787878381,
          69.19589900542015,
          94.23680563661635,
          92.96606270611903,
          88.68060139393761,
          83.83583322116385,
          89.13439546750618,
          83.49669410603553,
          88.676059957284,
          89.56965311171463,
          75.54279778771367,
          75.86825789945301,
          92.03357332093755,
          83.43261981959454,
          83.31832289129237,
          80.23081152322463,
          83.98032226933667,
          86.25747203488945,
          76.24158769269255,
          84.10505125917456,
          83.66615465320059,
          84.49712048188121,
          79.51286591464458,
          67.53277708781876,
          73.01728964447045,
          73.50098313196294,
          75.50611612694425,
          78.74118510773006,
          70.54298975914955,
          77.89899243104753,
          69.92554958923527,
          70.46725502869116,
          67.45591252277136,
          67.11014078785725,
          77.52607851516049,
          60.4556037630685,
          52.49691631261435,
          90.89790810358805,
          81.98747455434696,
          78.51492468770951,
          87.83289030647556,
          88.40718539063573,
          88.43688487042486,
          86.26670573784679,
          83.77953417716247,
          86.0631257786012,
          80.41801965955716,
          90.12964880929309,
          84.71046832606284,
          89.38693015302492,
          84.51647874685509,
          82.35970457141957,
          79.68056273231929,
          82.81075372281224,
          78.85894476164725,
          79.66905628096593,
          83.50221927424795,
          80.47715008788441,
          77.95714047870193,
          82.85317997176084,
          80.69370442353085,
          74.68448844696827,
          72.45452550671848,
          72.36341672623091,
          78.76314194878026,
          89.44734197583801,
          81.81428874489906,
          80.02021695712101,
          76.81468514744438,
          81.48092369503077,
          74.67753030569422,
          74.33482931510457,
          77.7606870291657,
          70.11738620376275,
          59.10339103550439,
          71.59909136204082,
          64.90152760720038,
          69.70296390940321,
          66.83269004765044,
          77.84824812992376,
          77.85385727499796,
          69.64792460519793,
          74.18907967790881,
          75.94661414272485,
          70.83432417829336,
          63.416048129931994,
          70.34418574251386,
          69.1831238322681,
          66.26790133951681,
          72.31945796544116,
          76.9079459550261,
          67.56270907765003,
          70.90534527172709,
          70.16742987388406,
          72.12466418782543,
          74.18461420501627,
          75.46522406677362,
          74.95798547233326,
          64.88886091750439,
          63.70696098410262,
          68.38848918077576,
          67.15841982056483,
          73.73427732874943,
          71.93293412243176,
          72.2914462262006,
          69.79762793157396,
          61.478460926350536,
          71.77148326360084,
          66.66046979624731,
          63.82431557316661,
          67.9991445774594,
          67.24635750342557,
          65.81990448010328,
          61.478460926350536,
          70.05292823346181,
          63.60599691750389,
          57.74948673386333,
          67.76680553671105,
          59.19554612866936,
          66.00181407944315,
          54.627547991501594,
          52.58907673411099,
          55.01867969065944,
          50.165439514998965,
          64.13826168075515,
          49.83921004298643,
          95.17952179439567,
          94.46584074669371,
          88.6264640465547,
          87.17907510221184,
          76.04422492606862,
          86.95595518009668,
          69.07569767724765,
          91.94171129946949,
          93.26937032304055,
          93.4695979962675,
          83.39713055982827,
          80.91453681130605,
          90.71666823864908,
          87.7577851306792,
          87.28600782837562,
          89.06132666976903,
          81.82770029720011,
          78.04810176562054,
          79.22786265261284,
          80.23883197973345,
          73.27602939630057,
          86.13550217356523,
          80.15134416801673,
          80.53244919643434,
          79.61305768072876,
          84.68527641792751,
          66.19910561124347,
          57.61352081319466,
          77.34555045936382,
          60.47000944022485,
          66.11543143953932,
          68.66981929261384,
          87.72061322541929,
          91.60519849784683,
          83.11388869558479,
          88.20507683003285,
          84.26243667309471,
          76.75438237068067,
          81.84930919970743,
          79.67004340912716,
          75.16657855630488,
          72.24719679680307,
          78.76049743313447,
          53.065561491705125,
          76.91380060131179,
          88.76806075097824,
          84.42868481614116,
          93.91560577627568,
          91.5340476253813,
          91.06227032307773,
          91.33225754851624,
          79.32885124276936,
          87.34949685065364,
          83.76383714360871,
          87.95191372473082,
          86.77978656444746,
          70.3976750860053,
          70.22298819390132,
          74.5463713818842,
          82.92791244313797,
          76.20324708399572,
          82.1540697005113,
          78.30215640145582,
          80.80903028473952,
          79.1535785091317,
          78.00360870652693,
          77.69066587196914,
          78.02503972437205,
          75.0244702183818,
          69.75638810265151,
          65.68035588271736,
          62.97404466989084,
          42.68231484011394,
          68.47559466904865,
          81.05969938120109,
          76.59357276821252,
          73.12873372575041,
          62.122834175936084,
          62.60151873257462,
          68.03634853886231,
          67.66422477048961,
          72.18063863314244,
          67.67674939406157,
          82.34300276451496,
          81.63895345164052,
          82.5426389424139,
          81.99439314733863,
          79.34788147694385,
          79.1569155811523,
          80.02613964721559,
          77.5835218019861,
          69.02867593671921,
          70.54925063617189,
          78.07036733161337,
          72.93249793793258,
          91.42707620598314,
          85.64610914538886,
          85.90200963886778,
          79.73863662320467,
          75.32509351873206,
          78.89613152324573,
          77.88029134978157,
          67.86517448662579,
          83.95108057479315,
          77.0559076391419,
          82.72749750096015,
          86.4187556622269,
          57.277842552337155,
          80.22582707417804,
          64.4900097383544,
          90.84037566338534,
          86.67984252687663,
          85.03560888563698,
          82.38064759464928,
          75.25581937441741,
          70.82309630249588,
          81.80470144093306,
          77.59369210183428,
          69.59905477283606,
          79.09436190640929,
          76.31915709078466,
          81.34763533092874,
          74.46499002767563,
          74.9906036612639,
          86.33984349493058,
          71.37828581858957,
          79.57773156460613,
          75.65265025676439,
          70.07211184695224,
          74.35661940275234,
          61.83061604880302,
          61.02851968435476,
          88.56080782292382,
          87.49617388164673,
          86.26767822872746,
          75.13376610975956,
          88.90274879487568,
          80.95493330930604,
          78.22859842732429,
          79.07206337198379,
          80.57228879583805,
          78.37169181951785,
          71.16987731914048,
          82.6885351178429,
          51.32226327393626,
          60.15755063576866,
          81.32002296183596,
          73.87921296062947,
          85.22767088344115,
          84.44144317389662,
          83.27314574267854,
          80.38468604420552,
          80.52704780164879,
          81.49325886212874,
          78.21839466294954,
          76.72388949700289,
          77.90461263880695,
          78.86792901720207,
          74.25476826588446,
          76.84959300763894,
          85.79297004738318,
          84.67371214760452,
          80.28627131701694,
          76.23339789421263,
          70.13177618830302,
          72.11633008211616,
          86.2650506840326,
          79.37345034266022,
          77.90979110491008,
          74.68448844696827,
          73.5871806351074,
          74.42478276764604,
          65.72690471067115,
          69.71264907351322,
          85.7926125398275,
          85.10089973837727,
          85.04980582065232,
          77.03861784593983,
          74.08262442935374,
          66.34421833304289,
          67.97161046061669,
          83.8185618306487,
          74.04886139778151,
          86.19485661096161,
          72.24930556117985,
          70.28920689745661,
          84.06324509336984,
          83.970627791735,
          82.62410455930039,
          81.52736644062291,
          76.47197888488135,
          64.51953880233098,
          77.54445464333715,
          70.20392623630259,
          71.00788455067641,
          74.19856002866437,
          71.73317988908974,
          75.80143297708398,
          76.34560951501068,
          70.47299920026323,
          67.4930948944593,
          84.83283000873423,
          74.08636270505521,
          78.48434861374088,
          68.09919111556364,
          79.85336062780215,
          79.04292207992101,
          75.06762214093686,
          69.44065647975323,
          68.70093250396096,
          68.99851670989409,
          50.17690838614924,
          47.40615822337519,
          79.05568876484021,
          72.38139728165011,
          72.70141079754882,
          72.91373228687551,
          67.76680553671105,
          73.99862893792967,
          77.87447914583011,
          68.16279502669975,
          67.97052040338104,
          73.29626194820338,
          78.50355978184321,
          70.41514281092664,
          73.59301464374991,
          69.85794973968987,
          67.82808691842212,
          54.825006686740196,
          63.412518931589325,
          58.24924672225131,
          74.84830960324366,
          57.59570900074536,
          60.27635089150638,
          61.98473193726579
         ],
         "yaxis": "y"
        }
       ],
       "layout": {
        "legend": {
         "tracegroupgap": 0
        },
        "margin": {
         "t": 60
        },
        "template": {
         "data": {
          "bar": [
           {
            "error_x": {
             "color": "#2a3f5f"
            },
            "error_y": {
             "color": "#2a3f5f"
            },
            "marker": {
             "line": {
              "color": "#E5ECF6",
              "width": 0.5
             },
             "pattern": {
              "fillmode": "overlay",
              "size": 10,
              "solidity": 0.2
             }
            },
            "type": "bar"
           }
          ],
          "barpolar": [
           {
            "marker": {
             "line": {
              "color": "#E5ECF6",
              "width": 0.5
             },
             "pattern": {
              "fillmode": "overlay",
              "size": 10,
              "solidity": 0.2
             }
            },
            "type": "barpolar"
           }
          ],
          "carpet": [
           {
            "aaxis": {
             "endlinecolor": "#2a3f5f",
             "gridcolor": "white",
             "linecolor": "white",
             "minorgridcolor": "white",
             "startlinecolor": "#2a3f5f"
            },
            "baxis": {
             "endlinecolor": "#2a3f5f",
             "gridcolor": "white",
             "linecolor": "white",
             "minorgridcolor": "white",
             "startlinecolor": "#2a3f5f"
            },
            "type": "carpet"
           }
          ],
          "choropleth": [
           {
            "colorbar": {
             "outlinewidth": 0,
             "ticks": ""
            },
            "type": "choropleth"
           }
          ],
          "contour": [
           {
            "colorbar": {
             "outlinewidth": 0,
             "ticks": ""
            },
            "colorscale": [
             [
              0,
              "#0d0887"
             ],
             [
              0.1111111111111111,
              "#46039f"
             ],
             [
              0.2222222222222222,
              "#7201a8"
             ],
             [
              0.3333333333333333,
              "#9c179e"
             ],
             [
              0.4444444444444444,
              "#bd3786"
             ],
             [
              0.5555555555555556,
              "#d8576b"
             ],
             [
              0.6666666666666666,
              "#ed7953"
             ],
             [
              0.7777777777777778,
              "#fb9f3a"
             ],
             [
              0.8888888888888888,
              "#fdca26"
             ],
             [
              1,
              "#f0f921"
             ]
            ],
            "type": "contour"
           }
          ],
          "contourcarpet": [
           {
            "colorbar": {
             "outlinewidth": 0,
             "ticks": ""
            },
            "type": "contourcarpet"
           }
          ],
          "heatmap": [
           {
            "colorbar": {
             "outlinewidth": 0,
             "ticks": ""
            },
            "colorscale": [
             [
              0,
              "#0d0887"
             ],
             [
              0.1111111111111111,
              "#46039f"
             ],
             [
              0.2222222222222222,
              "#7201a8"
             ],
             [
              0.3333333333333333,
              "#9c179e"
             ],
             [
              0.4444444444444444,
              "#bd3786"
             ],
             [
              0.5555555555555556,
              "#d8576b"
             ],
             [
              0.6666666666666666,
              "#ed7953"
             ],
             [
              0.7777777777777778,
              "#fb9f3a"
             ],
             [
              0.8888888888888888,
              "#fdca26"
             ],
             [
              1,
              "#f0f921"
             ]
            ],
            "type": "heatmap"
           }
          ],
          "heatmapgl": [
           {
            "colorbar": {
             "outlinewidth": 0,
             "ticks": ""
            },
            "colorscale": [
             [
              0,
              "#0d0887"
             ],
             [
              0.1111111111111111,
              "#46039f"
             ],
             [
              0.2222222222222222,
              "#7201a8"
             ],
             [
              0.3333333333333333,
              "#9c179e"
             ],
             [
              0.4444444444444444,
              "#bd3786"
             ],
             [
              0.5555555555555556,
              "#d8576b"
             ],
             [
              0.6666666666666666,
              "#ed7953"
             ],
             [
              0.7777777777777778,
              "#fb9f3a"
             ],
             [
              0.8888888888888888,
              "#fdca26"
             ],
             [
              1,
              "#f0f921"
             ]
            ],
            "type": "heatmapgl"
           }
          ],
          "histogram": [
           {
            "marker": {
             "pattern": {
              "fillmode": "overlay",
              "size": 10,
              "solidity": 0.2
             }
            },
            "type": "histogram"
           }
          ],
          "histogram2d": [
           {
            "colorbar": {
             "outlinewidth": 0,
             "ticks": ""
            },
            "colorscale": [
             [
              0,
              "#0d0887"
             ],
             [
              0.1111111111111111,
              "#46039f"
             ],
             [
              0.2222222222222222,
              "#7201a8"
             ],
             [
              0.3333333333333333,
              "#9c179e"
             ],
             [
              0.4444444444444444,
              "#bd3786"
             ],
             [
              0.5555555555555556,
              "#d8576b"
             ],
             [
              0.6666666666666666,
              "#ed7953"
             ],
             [
              0.7777777777777778,
              "#fb9f3a"
             ],
             [
              0.8888888888888888,
              "#fdca26"
             ],
             [
              1,
              "#f0f921"
             ]
            ],
            "type": "histogram2d"
           }
          ],
          "histogram2dcontour": [
           {
            "colorbar": {
             "outlinewidth": 0,
             "ticks": ""
            },
            "colorscale": [
             [
              0,
              "#0d0887"
             ],
             [
              0.1111111111111111,
              "#46039f"
             ],
             [
              0.2222222222222222,
              "#7201a8"
             ],
             [
              0.3333333333333333,
              "#9c179e"
             ],
             [
              0.4444444444444444,
              "#bd3786"
             ],
             [
              0.5555555555555556,
              "#d8576b"
             ],
             [
              0.6666666666666666,
              "#ed7953"
             ],
             [
              0.7777777777777778,
              "#fb9f3a"
             ],
             [
              0.8888888888888888,
              "#fdca26"
             ],
             [
              1,
              "#f0f921"
             ]
            ],
            "type": "histogram2dcontour"
           }
          ],
          "mesh3d": [
           {
            "colorbar": {
             "outlinewidth": 0,
             "ticks": ""
            },
            "type": "mesh3d"
           }
          ],
          "parcoords": [
           {
            "line": {
             "colorbar": {
              "outlinewidth": 0,
              "ticks": ""
             }
            },
            "type": "parcoords"
           }
          ],
          "pie": [
           {
            "automargin": true,
            "type": "pie"
           }
          ],
          "scatter": [
           {
            "fillpattern": {
             "fillmode": "overlay",
             "size": 10,
             "solidity": 0.2
            },
            "type": "scatter"
           }
          ],
          "scatter3d": [
           {
            "line": {
             "colorbar": {
              "outlinewidth": 0,
              "ticks": ""
             }
            },
            "marker": {
             "colorbar": {
              "outlinewidth": 0,
              "ticks": ""
             }
            },
            "type": "scatter3d"
           }
          ],
          "scattercarpet": [
           {
            "marker": {
             "colorbar": {
              "outlinewidth": 0,
              "ticks": ""
             }
            },
            "type": "scattercarpet"
           }
          ],
          "scattergeo": [
           {
            "marker": {
             "colorbar": {
              "outlinewidth": 0,
              "ticks": ""
             }
            },
            "type": "scattergeo"
           }
          ],
          "scattergl": [
           {
            "marker": {
             "colorbar": {
              "outlinewidth": 0,
              "ticks": ""
             }
            },
            "type": "scattergl"
           }
          ],
          "scattermapbox": [
           {
            "marker": {
             "colorbar": {
              "outlinewidth": 0,
              "ticks": ""
             }
            },
            "type": "scattermapbox"
           }
          ],
          "scatterpolar": [
           {
            "marker": {
             "colorbar": {
              "outlinewidth": 0,
              "ticks": ""
             }
            },
            "type": "scatterpolar"
           }
          ],
          "scatterpolargl": [
           {
            "marker": {
             "colorbar": {
              "outlinewidth": 0,
              "ticks": ""
             }
            },
            "type": "scatterpolargl"
           }
          ],
          "scatterternary": [
           {
            "marker": {
             "colorbar": {
              "outlinewidth": 0,
              "ticks": ""
             }
            },
            "type": "scatterternary"
           }
          ],
          "surface": [
           {
            "colorbar": {
             "outlinewidth": 0,
             "ticks": ""
            },
            "colorscale": [
             [
              0,
              "#0d0887"
             ],
             [
              0.1111111111111111,
              "#46039f"
             ],
             [
              0.2222222222222222,
              "#7201a8"
             ],
             [
              0.3333333333333333,
              "#9c179e"
             ],
             [
              0.4444444444444444,
              "#bd3786"
             ],
             [
              0.5555555555555556,
              "#d8576b"
             ],
             [
              0.6666666666666666,
              "#ed7953"
             ],
             [
              0.7777777777777778,
              "#fb9f3a"
             ],
             [
              0.8888888888888888,
              "#fdca26"
             ],
             [
              1,
              "#f0f921"
             ]
            ],
            "type": "surface"
           }
          ],
          "table": [
           {
            "cells": {
             "fill": {
              "color": "#EBF0F8"
             },
             "line": {
              "color": "white"
             }
            },
            "header": {
             "fill": {
              "color": "#C8D4E3"
             },
             "line": {
              "color": "white"
             }
            },
            "type": "table"
           }
          ]
         },
         "layout": {
          "annotationdefaults": {
           "arrowcolor": "#2a3f5f",
           "arrowhead": 0,
           "arrowwidth": 1
          },
          "autotypenumbers": "strict",
          "coloraxis": {
           "colorbar": {
            "outlinewidth": 0,
            "ticks": ""
           }
          },
          "colorscale": {
           "diverging": [
            [
             0,
             "#8e0152"
            ],
            [
             0.1,
             "#c51b7d"
            ],
            [
             0.2,
             "#de77ae"
            ],
            [
             0.3,
             "#f1b6da"
            ],
            [
             0.4,
             "#fde0ef"
            ],
            [
             0.5,
             "#f7f7f7"
            ],
            [
             0.6,
             "#e6f5d0"
            ],
            [
             0.7,
             "#b8e186"
            ],
            [
             0.8,
             "#7fbc41"
            ],
            [
             0.9,
             "#4d9221"
            ],
            [
             1,
             "#276419"
            ]
           ],
           "sequential": [
            [
             0,
             "#0d0887"
            ],
            [
             0.1111111111111111,
             "#46039f"
            ],
            [
             0.2222222222222222,
             "#7201a8"
            ],
            [
             0.3333333333333333,
             "#9c179e"
            ],
            [
             0.4444444444444444,
             "#bd3786"
            ],
            [
             0.5555555555555556,
             "#d8576b"
            ],
            [
             0.6666666666666666,
             "#ed7953"
            ],
            [
             0.7777777777777778,
             "#fb9f3a"
            ],
            [
             0.8888888888888888,
             "#fdca26"
            ],
            [
             1,
             "#f0f921"
            ]
           ],
           "sequentialminus": [
            [
             0,
             "#0d0887"
            ],
            [
             0.1111111111111111,
             "#46039f"
            ],
            [
             0.2222222222222222,
             "#7201a8"
            ],
            [
             0.3333333333333333,
             "#9c179e"
            ],
            [
             0.4444444444444444,
             "#bd3786"
            ],
            [
             0.5555555555555556,
             "#d8576b"
            ],
            [
             0.6666666666666666,
             "#ed7953"
            ],
            [
             0.7777777777777778,
             "#fb9f3a"
            ],
            [
             0.8888888888888888,
             "#fdca26"
            ],
            [
             1,
             "#f0f921"
            ]
           ]
          },
          "colorway": [
           "#636efa",
           "#EF553B",
           "#00cc96",
           "#ab63fa",
           "#FFA15A",
           "#19d3f3",
           "#FF6692",
           "#B6E880",
           "#FF97FF",
           "#FECB52"
          ],
          "font": {
           "color": "#2a3f5f"
          },
          "geo": {
           "bgcolor": "white",
           "lakecolor": "white",
           "landcolor": "#E5ECF6",
           "showlakes": true,
           "showland": true,
           "subunitcolor": "white"
          },
          "hoverlabel": {
           "align": "left"
          },
          "hovermode": "closest",
          "mapbox": {
           "style": "light"
          },
          "paper_bgcolor": "white",
          "plot_bgcolor": "#E5ECF6",
          "polar": {
           "angularaxis": {
            "gridcolor": "white",
            "linecolor": "white",
            "ticks": ""
           },
           "bgcolor": "#E5ECF6",
           "radialaxis": {
            "gridcolor": "white",
            "linecolor": "white",
            "ticks": ""
           }
          },
          "scene": {
           "xaxis": {
            "backgroundcolor": "#E5ECF6",
            "gridcolor": "white",
            "gridwidth": 2,
            "linecolor": "white",
            "showbackground": true,
            "ticks": "",
            "zerolinecolor": "white"
           },
           "yaxis": {
            "backgroundcolor": "#E5ECF6",
            "gridcolor": "white",
            "gridwidth": 2,
            "linecolor": "white",
            "showbackground": true,
            "ticks": "",
            "zerolinecolor": "white"
           },
           "zaxis": {
            "backgroundcolor": "#E5ECF6",
            "gridcolor": "white",
            "gridwidth": 2,
            "linecolor": "white",
            "showbackground": true,
            "ticks": "",
            "zerolinecolor": "white"
           }
          },
          "shapedefaults": {
           "line": {
            "color": "#2a3f5f"
           }
          },
          "ternary": {
           "aaxis": {
            "gridcolor": "white",
            "linecolor": "white",
            "ticks": ""
           },
           "baxis": {
            "gridcolor": "white",
            "linecolor": "white",
            "ticks": ""
           },
           "bgcolor": "#E5ECF6",
           "caxis": {
            "gridcolor": "white",
            "linecolor": "white",
            "ticks": ""
           }
          },
          "title": {
           "x": 0.05
          },
          "xaxis": {
           "automargin": true,
           "gridcolor": "white",
           "linecolor": "white",
           "ticks": "",
           "title": {
            "standoff": 15
           },
           "zerolinecolor": "white",
           "zerolinewidth": 2
          },
          "yaxis": {
           "automargin": true,
           "gridcolor": "white",
           "linecolor": "white",
           "ticks": "",
           "title": {
            "standoff": 15
           },
           "zerolinecolor": "white",
           "zerolinewidth": 2
          }
         }
        },
        "xaxis": {
         "anchor": "y",
         "domain": [
          0,
          1
         ],
         "title": {
          "text": "Review avg"
         }
        },
        "yaxis": {
         "anchor": "x",
         "domain": [
          0,
          1
         ],
         "title": {
          "text": "Predicted Rating"
         }
        }
       }
      }
     },
     "metadata": {},
     "output_type": "display_data"
    }
   ],
   "source": [
    "#obtain plot of predicted rating vs review score\n",
    "all_labels = pd.merge(y, data['Game'], left_index= True, right_index = True) #join the game name back in to rating scores\n",
    "scores_labels = pd.merge(all_labels, data['Reviewscore'], left_index= True, right_index = True) #join the review avg back in to rating scores\n",
    "scores_comp = pd.DataFrame({'Game': scores_labels['Game'], \n",
    "                            'Predicted Rating': model.predict(X), \n",
    "                            'Actual Rating': scores_labels['Rating'], \n",
    "                            'Review avg': scores_labels['Reviewscore']}) #join the test set to the predictions\n",
    "# scatter plot\n",
    "fig = px.scatter(scores_comp, x=\"Review avg\", y=\"Predicted Rating\", hover_name= 'Game')\n",
    "fig\n"
   ]
  }
 ],
 "metadata": {
  "kernelspec": {
   "display_name": "Python 3 (ipykernel)",
   "language": "python",
   "name": "python3"
  },
  "language_info": {
   "codemirror_mode": {
    "name": "ipython",
    "version": 3
   },
   "file_extension": ".py",
   "mimetype": "text/x-python",
   "name": "python",
   "nbconvert_exporter": "python",
   "pygments_lexer": "ipython3",
   "version": "3.10.9"
  }
 },
 "nbformat": 4,
 "nbformat_minor": 5
}
