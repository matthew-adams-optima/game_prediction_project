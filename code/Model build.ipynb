{
 "cells": [
  {
   "cell_type": "code",
   "execution_count": 211,
   "id": "ad620c6f",
   "metadata": {},
   "outputs": [],
   "source": [
    "# initialisation\n",
    "import pandas as pd\n",
    "import numpy as np\n",
    "import plotly.express as px\n",
    "import itertools\n",
    "import joblib\n",
    "from scipy.stats import *\n",
    "from scipy.optimize import *\n",
    "from pandasgui import show\n",
    "from sklearn.ensemble import *\n",
    "from sklearn.tree import *\n",
    "from sklearn.linear_model import *\n",
    "from sklearn.model_selection import train_test_split\n",
    "from sklearn.metrics import *"
   ]
  },
  {
   "cell_type": "code",
   "execution_count": 212,
   "id": "0bbc7bb8",
   "metadata": {},
   "outputs": [
    {
     "data": {
      "text/html": [
       "<div>\n",
       "<style scoped>\n",
       "    .dataframe tbody tr th:only-of-type {\n",
       "        vertical-align: middle;\n",
       "    }\n",
       "\n",
       "    .dataframe tbody tr th {\n",
       "        vertical-align: top;\n",
       "    }\n",
       "\n",
       "    .dataframe thead th {\n",
       "        text-align: right;\n",
       "    }\n",
       "</style>\n",
       "<table border=\"1\" class=\"dataframe\">\n",
       "  <thead>\n",
       "    <tr style=\"text-align: right;\">\n",
       "      <th></th>\n",
       "      <th>Game</th>\n",
       "      <th>Rating</th>\n",
       "      <th>Reviewscore</th>\n",
       "      <th>Played on</th>\n",
       "      <th>Launch Year</th>\n",
       "      <th>Play Year</th>\n",
       "      <th>DLC/ Major update played</th>\n",
       "      <th>Publisher</th>\n",
       "      <th>Developer</th>\n",
       "      <th>Franchise</th>\n",
       "      <th>Key words</th>\n",
       "      <th>Remaster Reviewscore</th>\n",
       "      <th>Remaster Release Year</th>\n",
       "      <th>Developer2</th>\n",
       "    </tr>\n",
       "  </thead>\n",
       "  <tbody>\n",
       "    <tr>\n",
       "      <th>0</th>\n",
       "      <td>The Legend of Zelda: Breath of the Wild</td>\n",
       "      <td>100</td>\n",
       "      <td>97</td>\n",
       "      <td>Switch</td>\n",
       "      <td>2017</td>\n",
       "      <td>2017</td>\n",
       "      <td>Yes</td>\n",
       "      <td>Nintendo</td>\n",
       "      <td>Nintendo</td>\n",
       "      <td>The Legend of Zelda</td>\n",
       "      <td>Adventure, open-world, sandbox, exploration, p...</td>\n",
       "      <td>NaN</td>\n",
       "      <td>NaN</td>\n",
       "      <td>NaN</td>\n",
       "    </tr>\n",
       "    <tr>\n",
       "      <th>1</th>\n",
       "      <td>The Legend of Zelda: Tears of the Kingdom</td>\n",
       "      <td>100</td>\n",
       "      <td>96</td>\n",
       "      <td>Switch</td>\n",
       "      <td>2023</td>\n",
       "      <td>2023</td>\n",
       "      <td>No</td>\n",
       "      <td>Nintendo</td>\n",
       "      <td>Nintendo</td>\n",
       "      <td>The Legend of Zelda</td>\n",
       "      <td>Adventure, open-world, sandbox, exploration, p...</td>\n",
       "      <td>NaN</td>\n",
       "      <td>NaN</td>\n",
       "      <td>NaN</td>\n",
       "    </tr>\n",
       "    <tr>\n",
       "      <th>2</th>\n",
       "      <td>God of War (2018)</td>\n",
       "      <td>99</td>\n",
       "      <td>94</td>\n",
       "      <td>PS4</td>\n",
       "      <td>2018</td>\n",
       "      <td>2018</td>\n",
       "      <td>No</td>\n",
       "      <td>Sony</td>\n",
       "      <td>Santa Monica Studio</td>\n",
       "      <td>God of War</td>\n",
       "      <td>Hack and slash, third-person, story-driven</td>\n",
       "      <td>NaN</td>\n",
       "      <td>NaN</td>\n",
       "      <td>NaN</td>\n",
       "    </tr>\n",
       "    <tr>\n",
       "      <th>3</th>\n",
       "      <td>Metroid Prime</td>\n",
       "      <td>99</td>\n",
       "      <td>97</td>\n",
       "      <td>Switch</td>\n",
       "      <td>2002</td>\n",
       "      <td>2023</td>\n",
       "      <td>No</td>\n",
       "      <td>Nintendo</td>\n",
       "      <td>Retro Studios</td>\n",
       "      <td>Metroid</td>\n",
       "      <td>Metroidvania, first-person, shooter, platformi...</td>\n",
       "      <td>94.0</td>\n",
       "      <td>2023.0</td>\n",
       "      <td>NaN</td>\n",
       "    </tr>\n",
       "    <tr>\n",
       "      <th>4</th>\n",
       "      <td>The Last of Us</td>\n",
       "      <td>99</td>\n",
       "      <td>95</td>\n",
       "      <td>PS4</td>\n",
       "      <td>2013</td>\n",
       "      <td>2014</td>\n",
       "      <td>Yes</td>\n",
       "      <td>Sony</td>\n",
       "      <td>Naughty Dog</td>\n",
       "      <td>The Last of Us</td>\n",
       "      <td>Horror, third-person, stealth, survival, story...</td>\n",
       "      <td>94.0</td>\n",
       "      <td>2014.0</td>\n",
       "      <td>NaN</td>\n",
       "    </tr>\n",
       "    <tr>\n",
       "      <th>...</th>\n",
       "      <td>...</td>\n",
       "      <td>...</td>\n",
       "      <td>...</td>\n",
       "      <td>...</td>\n",
       "      <td>...</td>\n",
       "      <td>...</td>\n",
       "      <td>...</td>\n",
       "      <td>...</td>\n",
       "      <td>...</td>\n",
       "      <td>...</td>\n",
       "      <td>...</td>\n",
       "      <td>...</td>\n",
       "      <td>...</td>\n",
       "      <td>...</td>\n",
       "    </tr>\n",
       "    <tr>\n",
       "      <th>438</th>\n",
       "      <td>CrossfireX</td>\n",
       "      <td>40</td>\n",
       "      <td>42</td>\n",
       "      <td>XBS</td>\n",
       "      <td>2022</td>\n",
       "      <td>2023</td>\n",
       "      <td>Yes</td>\n",
       "      <td>Indie</td>\n",
       "      <td>Smilegate</td>\n",
       "      <td>Crossfire</td>\n",
       "      <td>First-person, shooter, multiplayer, action</td>\n",
       "      <td>NaN</td>\n",
       "      <td>NaN</td>\n",
       "      <td>Remedy</td>\n",
       "    </tr>\n",
       "    <tr>\n",
       "      <th>439</th>\n",
       "      <td>Diablo Immortal</td>\n",
       "      <td>39</td>\n",
       "      <td>65</td>\n",
       "      <td>Mobile</td>\n",
       "      <td>2022</td>\n",
       "      <td>2022</td>\n",
       "      <td>No</td>\n",
       "      <td>Activision-Blizzard</td>\n",
       "      <td>Blizzard</td>\n",
       "      <td>Diablo</td>\n",
       "      <td>Isometric, hack and slash, action-RPG, looter</td>\n",
       "      <td>NaN</td>\n",
       "      <td>NaN</td>\n",
       "      <td>NaN</td>\n",
       "    </tr>\n",
       "    <tr>\n",
       "      <th>440</th>\n",
       "      <td>Fifa 14 Legacy Edition</td>\n",
       "      <td>37</td>\n",
       "      <td>38</td>\n",
       "      <td>Vita</td>\n",
       "      <td>2013</td>\n",
       "      <td>2013</td>\n",
       "      <td>No</td>\n",
       "      <td>EA</td>\n",
       "      <td>EA Sports</td>\n",
       "      <td>Fifa</td>\n",
       "      <td>Sports (football)</td>\n",
       "      <td>NaN</td>\n",
       "      <td>NaN</td>\n",
       "      <td>NaN</td>\n",
       "    </tr>\n",
       "    <tr>\n",
       "      <th>441</th>\n",
       "      <td>Sunlight</td>\n",
       "      <td>32</td>\n",
       "      <td>78</td>\n",
       "      <td>PC</td>\n",
       "      <td>2021</td>\n",
       "      <td>2023</td>\n",
       "      <td>No</td>\n",
       "      <td>Indie</td>\n",
       "      <td>Krillbite Studio</td>\n",
       "      <td>Sunlight</td>\n",
       "      <td>Adventure, first-person</td>\n",
       "      <td>NaN</td>\n",
       "      <td>NaN</td>\n",
       "      <td>NaN</td>\n",
       "    </tr>\n",
       "    <tr>\n",
       "      <th>442</th>\n",
       "      <td>Doom VFR</td>\n",
       "      <td>24</td>\n",
       "      <td>70</td>\n",
       "      <td>PS4</td>\n",
       "      <td>2017</td>\n",
       "      <td>2019</td>\n",
       "      <td>No</td>\n",
       "      <td>Bethesda</td>\n",
       "      <td>id Software</td>\n",
       "      <td>Doom</td>\n",
       "      <td>First-person, shooter, VR</td>\n",
       "      <td>NaN</td>\n",
       "      <td>NaN</td>\n",
       "      <td>NaN</td>\n",
       "    </tr>\n",
       "  </tbody>\n",
       "</table>\n",
       "<p>443 rows × 14 columns</p>\n",
       "</div>"
      ],
      "text/plain": [
       "                                          Game  Rating  Reviewscore Played on  \\\n",
       "0      The Legend of Zelda: Breath of the Wild     100           97    Switch   \n",
       "1    The Legend of Zelda: Tears of the Kingdom     100           96    Switch   \n",
       "2                            God of War (2018)      99           94       PS4   \n",
       "3                                Metroid Prime      99           97    Switch   \n",
       "4                               The Last of Us      99           95       PS4   \n",
       "..                                         ...     ...          ...       ...   \n",
       "438                                 CrossfireX      40           42       XBS   \n",
       "439                            Diablo Immortal      39           65    Mobile   \n",
       "440                     Fifa 14 Legacy Edition      37           38      Vita   \n",
       "441                                   Sunlight      32           78        PC   \n",
       "442                                   Doom VFR      24           70       PS4   \n",
       "\n",
       "     Launch Year  Play Year DLC/ Major update played            Publisher  \\\n",
       "0           2017       2017                      Yes             Nintendo   \n",
       "1           2023       2023                       No             Nintendo   \n",
       "2           2018       2018                       No                 Sony   \n",
       "3           2002       2023                       No             Nintendo   \n",
       "4           2013       2014                      Yes                 Sony   \n",
       "..           ...        ...                      ...                  ...   \n",
       "438         2022       2023                      Yes                Indie   \n",
       "439         2022       2022                       No  Activision-Blizzard   \n",
       "440         2013       2013                       No                   EA   \n",
       "441         2021       2023                       No                Indie   \n",
       "442         2017       2019                       No             Bethesda   \n",
       "\n",
       "               Developer            Franchise  \\\n",
       "0               Nintendo  The Legend of Zelda   \n",
       "1               Nintendo  The Legend of Zelda   \n",
       "2    Santa Monica Studio           God of War   \n",
       "3          Retro Studios              Metroid   \n",
       "4            Naughty Dog       The Last of Us   \n",
       "..                   ...                  ...   \n",
       "438            Smilegate            Crossfire   \n",
       "439             Blizzard               Diablo   \n",
       "440            EA Sports                 Fifa   \n",
       "441     Krillbite Studio             Sunlight   \n",
       "442          id Software                 Doom   \n",
       "\n",
       "                                             Key words  Remaster Reviewscore  \\\n",
       "0    Adventure, open-world, sandbox, exploration, p...                   NaN   \n",
       "1    Adventure, open-world, sandbox, exploration, p...                   NaN   \n",
       "2           Hack and slash, third-person, story-driven                   NaN   \n",
       "3    Metroidvania, first-person, shooter, platformi...                  94.0   \n",
       "4    Horror, third-person, stealth, survival, story...                  94.0   \n",
       "..                                                 ...                   ...   \n",
       "438         First-person, shooter, multiplayer, action                   NaN   \n",
       "439      Isometric, hack and slash, action-RPG, looter                   NaN   \n",
       "440                                  Sports (football)                   NaN   \n",
       "441                            Adventure, first-person                   NaN   \n",
       "442                          First-person, shooter, VR                   NaN   \n",
       "\n",
       "     Remaster Release Year Developer2  \n",
       "0                      NaN        NaN  \n",
       "1                      NaN        NaN  \n",
       "2                      NaN        NaN  \n",
       "3                   2023.0        NaN  \n",
       "4                   2014.0        NaN  \n",
       "..                     ...        ...  \n",
       "438                    NaN     Remedy  \n",
       "439                    NaN        NaN  \n",
       "440                    NaN        NaN  \n",
       "441                    NaN        NaN  \n",
       "442                    NaN        NaN  \n",
       "\n",
       "[443 rows x 14 columns]"
      ]
     },
     "execution_count": 212,
     "metadata": {},
     "output_type": "execute_result"
    }
   ],
   "source": [
    "# load the data\n",
    "raw_data = pd.read_csv('../data/Games Database - Main Page.csv')\n",
    "#show(raw_data)\n",
    "#drop fields we won't be needing\n",
    "raw_data.drop(['Me - Review', 'Percentile', 'Launch Platform(s)', 'Hours Played', 'Completion', 'Year(s) revisited/ continued/ earlier dabbled'], axis = 1, inplace = True)\n",
    "raw_data"
   ]
  },
  {
   "cell_type": "code",
   "execution_count": 213,
   "id": "0726698e",
   "metadata": {
    "scrolled": false
   },
   "outputs": [
    {
     "data": {
      "application/vnd.plotly.v1+json": {
       "config": {
        "plotlyServerURL": "https://plot.ly"
       },
       "data": [
        {
         "hovertemplate": "<b>%{hovertext}</b><br><br>Played on=Switch<br>Reviewscore=%{x}<br>Rating=%{y}<extra></extra>",
         "hovertext": [
          "The Legend of Zelda: Breath of the Wild",
          "The Legend of Zelda: Tears of the Kingdom",
          "Metroid Prime",
          "Super Mario Odyssey",
          "Celeste",
          "Mario Kart 8",
          "Metroid Dread",
          "Super Metroid",
          "Bayonetta 2",
          "Metroid Fusion",
          "Super Smash Bros. Ultimate",
          "Ys VIII Lacrimosa of Dana",
          "Astral Chain",
          "Super Mario 3D World + Bowser's Fury",
          "Animal Crossing New Horizons",
          "Golf Story",
          "Splatoon 3",
          "The Legend of Zelda: Skyward Sword",
          "Mario & Luigi Superstar Saga",
          "Luigi's Mansion 3",
          "Pokemon Legends Arceus",
          "Monster Hunter Rise",
          "Kirby and the Forgotten Land",
          "The Legend of Zelda: A Link to the Past",
          "Mario + Rabbids Kingdom Battle",
          "Xenoblade Chronicles",
          "Freshly Frosted",
          "Gris",
          "Ring Fit Adventure",
          "Pokemon Let's Go Pikachu",
          "Pokemon Violet",
          "Hot Wheels Unleashed",
          "The Legend of Zelda: Link's Awakening",
          "Hyrule Warriors Age of Calamity",
          "Cat Quest II",
          "Cat Quest",
          "Bayonetta",
          "Wargroove",
          "Mario Golf: Super Rush",
          "Grid Autosport",
          "Mario Tennis Aces",
          "Minecraft Dungeons",
          "Pokemon Sword",
          "Octopath Traveller",
          "Cruis'n Blast"
         ],
         "legendgroup": "Switch",
         "marker": {
          "color": "#636efa",
          "symbol": "circle"
         },
         "mode": "markers",
         "name": "Switch",
         "orientation": "v",
         "showlegend": true,
         "type": "scatter",
         "x": [
          97,
          96,
          97,
          97,
          91,
          88,
          87,
          96,
          91,
          92,
          93,
          85,
          87,
          89,
          90,
          78,
          83,
          93,
          90,
          86,
          84,
          88,
          84,
          95,
          85,
          92,
          91,
          84,
          83,
          81,
          72,
          74,
          87,
          80,
          76,
          72,
          90,
          83,
          71,
          78,
          78,
          72,
          80,
          83,
          73
         ],
         "xaxis": "x",
         "y": [
          100,
          100,
          99,
          97,
          94,
          94,
          93,
          93,
          90,
          90,
          90,
          90,
          88,
          88,
          87,
          84,
          84,
          84,
          83,
          82,
          82,
          81,
          80,
          80,
          79,
          79,
          77,
          77,
          77,
          75,
          74,
          73,
          73,
          72,
          71,
          70,
          69,
          69,
          67,
          65,
          65,
          63,
          59,
          53,
          47
         ],
         "yaxis": "y"
        },
        {
         "hovertemplate": "<b>%{hovertext}</b><br><br>Played on=PS4<br>Reviewscore=%{x}<br>Rating=%{y}<extra></extra>",
         "hovertext": [
          "God of War (2018)",
          "The Last of Us",
          "Red Dead Redemption 2",
          "Horizon Zero Dawn",
          "Bloodborne",
          "The Last of Us Part II",
          "Uncharted 2 Among Thieves",
          "Grand Theft Auto V",
          "Astro Bot Rescue Mission",
          "Driveclub",
          "Uncharted 4 A Thief's End",
          "Ghost of Tsushima",
          "Marvel's Spider-Man",
          "Dragon Age Inquisition",
          "Uncharted The Lost Legacy",
          "Final Fantasy VII Remake",
          "God of War 3",
          "Rayman Legends",
          "Rocket League",
          "Star Wars Jedi Fallen Order",
          "Batman Arkham Asylum",
          "Call of Duty Modern Warfare",
          "Crash Bandicoot 2: Cortex Strikes Back",
          "Marvel's Spider-Man Miles Morales",
          "Tetris Effect",
          "Assassin's Creed IV Black Flag",
          "Journey",
          "Rise of the Tomb Raider ",
          "Crash Bandicoot 3: Warped",
          "F1 2020",
          "Persona 5",
          "Titanfall 2",
          "Tales From the Borderlands",
          "Transistor",
          "Assassin's Creed Unity",
          "Uncharted Drake's Fortune",
          "Batman Arkham Knight",
          "Crash Team Racing",
          "F1 2017",
          "F1 2018",
          "Watch Dogs",
          "Borderlands 3",
          "F1 2019",
          "OlliOlli 2: Welcome to Olliwood",
          "Tomb Raider",
          "Assassin's Creed Syndicate",
          "F1 2016",
          "Fifa 14",
          "inFAMOUS Second Son",
          "Resogun",
          "Overcooked",
          "Overcooked 2",
          "Overwatch",
          "Stardew Valley",
          "Apex Legends",
          "Concrete Genie",
          "Far Cry 4",
          "Gran Turismo Sport",
          "Middle Earth Shadow of Mordor",
          "Assassin's Creed Origins",
          "Call of Duty Advanced Warfare",
          "Heavy Rain",
          "Kingdom Hearts 3",
          "Ratchet & Clank",
          "Trackmania Turbo",
          "Battlefield 4",
          "Call of Duty Infinite Warfare",
          "Call of Duty WW2",
          "Sekiro Shadows Die Twice",
          "The Order 1886",
          "Call of Duty Black Ops 4",
          "Doom (2016)",
          "Monster Hunter World",
          "Moss PSVR",
          "WipeOut Omega Collection",
          "Call of Duty Black Ops III",
          "Batman Arkham City",
          "Borderlands The Pre-Sequel",
          "Crash Bandicoot 4: Its About Time",
          "Destiny",
          "Dreams",
          "Dirt Rally 2.0",
          "Crash Bandicoot",
          "Infamous First Light",
          "Battlefield 1",
          "Star Wars Squadrons",
          "The Crew",
          "Velocity 2X",
          "Assassin's Creed Rogue",
          "Don't Starve",
          "Fifa 19",
          "The Witcher 3",
          "Assassin's Creed Freedom Cry",
          "Detroit Become Human",
          "Journey to the Savage Planet",
          "Killzone Shadow Fall",
          "Sportsfriends",
          "Star Wars Battlefront",
          "Watch Dogs 2",
          "Cyberpunk 2077",
          "GreedFall",
          "Grid (2019)",
          "Nex Machina",
          "Apotheon",
          "Assassin's Creed Odyssey",
          "Fall Guys",
          "Far Cry Primal",
          "Final Fantasy XV",
          "War Thunder",
          "Dragon Quest Builders",
          "The Last Guardian",
          "Just Cause 3",
          "Nier Automata",
          "Project Cars",
          "Shadow of the Colossus (Remake)",
          "Doom Eternal",
          "Unrailed!",
          "F1 2015",
          "Middle Earth: Shadow of War",
          "Dead Nation: Apocalypse Edition",
          "DC Universe Online",
          "Little Big Planet 3",
          "Need For Speed Heat",
          "The Crew 2",
          "Control",
          "VR Worlds",
          "Game of Thrones Telltale",
          "Farming Simulator 2019",
          "Contrast",
          "Marvel's Avengers",
          "Doom VFR"
         ],
         "legendgroup": "PS4",
         "marker": {
          "color": "#EF553B",
          "symbol": "circle"
         },
         "mode": "markers",
         "name": "PS4",
         "orientation": "v",
         "showlegend": true,
         "type": "scatter",
         "x": [
          94,
          95,
          97,
          89,
          92,
          93,
          96,
          97,
          90,
          71,
          93,
          85,
          87,
          89,
          84,
          88,
          92,
          90,
          85,
          85,
          92,
          92,
          89,
          85,
          89,
          83,
          92,
          86,
          91,
          88,
          94,
          87,
          86,
          83,
          70,
          88,
          87,
          88,
          86,
          84,
          77,
          80,
          86,
          85,
          85,
          76,
          82,
          85,
          80,
          84,
          80,
          81,
          91,
          89,
          86,
          77,
          85,
          75,
          84,
          81,
          83,
          87,
          85,
          85,
          81,
          85,
          77,
          79,
          90,
          63,
          85,
          85,
          89,
          85,
          85,
          81,
          94,
          75,
          85,
          76,
          90,
          83,
          80,
          73,
          87,
          79,
          61,
          85,
          72,
          79,
          81,
          92,
          70,
          78,
          76,
          73,
          80,
          73,
          82,
          76,
          75,
          73,
          84,
          76,
          85,
          80,
          76,
          81,
          75,
          70,
          81,
          73,
          89,
          75,
          92,
          89,
          75,
          65,
          79,
          71,
          72,
          79,
          72,
          64,
          84,
          56,
          69,
          64,
          59,
          68,
          70
         ],
         "xaxis": "x",
         "y": [
          99,
          99,
          98,
          97,
          96,
          96,
          96,
          95,
          94,
          94,
          94,
          93,
          93,
          92,
          92,
          91,
          91,
          91,
          90,
          90,
          89,
          89,
          89,
          89,
          89,
          88,
          88,
          88,
          87,
          87,
          87,
          87,
          86,
          86,
          85,
          85,
          84,
          84,
          84,
          84,
          84,
          83,
          83,
          83,
          83,
          82,
          82,
          82,
          81,
          81,
          80,
          80,
          80,
          80,
          79,
          79,
          79,
          79,
          79,
          78,
          78,
          78,
          78,
          78,
          78,
          77,
          77,
          77,
          77,
          77,
          76,
          76,
          76,
          76,
          76,
          75,
          74,
          74,
          74,
          74,
          74,
          73,
          72,
          72,
          71,
          71,
          71,
          71,
          70,
          70,
          70,
          70,
          69,
          69,
          69,
          69,
          69,
          69,
          69,
          68,
          68,
          68,
          68,
          67,
          67,
          66,
          66,
          65,
          65,
          64,
          64,
          63,
          63,
          62,
          62,
          60,
          59,
          58,
          58,
          56,
          55,
          55,
          54,
          54,
          53,
          50,
          48,
          45,
          43,
          43,
          24
         ],
         "yaxis": "y"
        },
        {
         "hovertemplate": "<b>%{hovertext}</b><br><br>Played on=PC<br>Reviewscore=%{x}<br>Rating=%{y}<extra></extra>",
         "hovertext": [
          "Hades",
          "Portal 2",
          "Hollow Knight",
          "Forza Horizon 3",
          "Guild Wars 2",
          "Forza Horizon 4",
          "Forza Horizon 5",
          "Halo Combat Evolved",
          "Undertale",
          "Football Manager 2007",
          "Halo Reach",
          "Psychonauts",
          "A Short Hike",
          "Civilization V",
          "Divinity Original Sin 2",
          "Halo 3",
          "Ori and The Will of the Wisps",
          "Cities Skylines",
          "Death's Door",
          "Diablo 3",
          "Vampire Survivors",
          "Devil May Cry 5",
          "Halo 2",
          "Rogue Legacy 2",
          "Civilization VI",
          "Football Manager 2008",
          "Minecraft",
          "Aces and Adventures",
          "Crosscode",
          "Neon White",
          "Citizen Sleeper",
          "Europa Universalis IV",
          "Football Manager 2009",
          "Terraria",
          "Football Manager 2010",
          "Rollercoaster Tycoon 2",
          "Spiritfarer",
          "Team Fortress 2",
          "Path of Exile",
          "Final Fantasy X",
          "Ys Seven",
          "Call of Duty Black Ops II",
          "Football Manager 2013",
          "PlateUp!",
          "Rollerdrome",
          "Teenage Mutant Ninja Turtles: Shredder's Revenge",
          "Two Point Campus",
          "F1 2012",
          "Football Manager 2012",
          "Torchlight 2",
          "XCOM: Enemy Unknown",
          "Deep Rock Galactic",
          "Football Manager 2014",
          "Loop Hero",
          "Ori and The Blind Forest",
          "Hearts of Iron IV",
          "Pyre",
          "Star Wars: Knights of the Old Republic",
          "Warhammer Vermentide 2",
          "Torchlight",
          "Dungeon of the Endless",
          "Northgard",
          "Parkitect",
          "Prison Architect",
          "Warframe",
          "Crypt of the Necrodancer",
          "Diablo 4",
          "Football Manager 2015",
          "Rollercoaster Tycoon",
          "Spec Ops The Line",
          "Ultimate Chicken Horse",
          "Wildermyth",
          "Buck Up and Drive!",
          "Darksiders Genesis",
          "Halo 3 ODST",
          "Hyper Light Drifter",
          "Stellaris",
          "Abzu",
          "Warpips",
          "Age of Empires IV",
          "Motorsport Manager",
          "TemTem",
          "20 Minutes Till Dawn",
          "Clustertruck",
          "Endless Legend",
          "Golf With Your Friends",
          "Mini Motorways",
          "The Riftbreaker",
          "Boyfriend Dungeon",
          "Dicey Dungeons",
          "Dragon Quest XI",
          "Game Dev Tycoon",
          "Kingdom New Lands",
          "Factorio",
          "Sea of Thieves",
          "The Jackbox Party Pack 6",
          "Worms W.M.D",
          "Civilization Beyond Earth",
          "Awesomenauts",
          "Banished",
          "The Ascent",
          "Darksburg",
          "Surviving Mars",
          "Human Fall Flat",
          "You Suck At Parking",
          "Embr",
          "Warlock - Master of the Arcane",
          "Back 4 Blood",
          "Luna",
          "Spacelines from the Far Out",
          "For The King",
          "Big Pharma",
          "Lost Ark",
          "Democracy 3",
          "Golfie",
          "Clicker Heroes",
          "Shoppe Keep",
          "Diablo 2",
          "Minecraft Legends",
          "F.I.S.T. Forged In Shadow Torch",
          "Youtubers Life",
          "Sunlight"
         ],
         "legendgroup": "PC",
         "marker": {
          "color": "#00cc96",
          "symbol": "circle"
         },
         "mode": "markers",
         "name": "PC",
         "orientation": "v",
         "showlegend": true,
         "type": "scatter",
         "x": [
          94,
          95,
          90,
          91,
          90,
          92,
          92,
          97,
          92,
          87,
          91,
          87,
          87,
          90,
          93,
          94,
          90,
          85,
          88,
          88,
          87,
          88,
          95,
          89,
          88,
          86,
          93,
          84,
          86,
          89,
          84,
          87,
          83,
          83,
          87,
          74,
          87,
          92,
          93,
          92,
          79,
          83,
          86,
          80,
          80,
          87,
          84,
          81,
          84,
          88,
          89,
          85,
          85,
          84,
          89,
          83,
          84,
          94,
          83,
          83,
          79,
          79,
          83,
          80,
          71,
          87,
          88,
          80,
          78,
          76,
          79,
          85,
          70,
          79,
          83,
          84,
          81,
          80,
          79,
          83,
          81,
          76,
          76,
          76,
          82,
          69,
          80,
          80,
          73,
          82,
          86,
          68,
          73,
          70,
          67,
          74,
          78,
          81,
          78,
          74,
          73,
          68,
          77,
          68,
          70,
          67,
          71,
          76,
          62,
          82,
          75,
          64,
          82,
          70,
          70,
          57,
          57,
          88,
          71,
          80,
          63,
          78
         ],
         "xaxis": "x",
         "y": [
          98,
          95,
          94,
          93,
          93,
          92,
          92,
          92,
          92,
          91,
          90,
          90,
          89,
          89,
          89,
          89,
          89,
          88,
          88,
          88,
          88,
          87,
          87,
          87,
          86,
          86,
          86,
          85,
          85,
          85,
          84,
          84,
          84,
          84,
          83,
          83,
          82,
          82,
          81,
          80,
          80,
          79,
          79,
          79,
          79,
          79,
          79,
          78,
          78,
          78,
          78,
          77,
          77,
          77,
          77,
          76,
          76,
          76,
          76,
          75,
          74,
          74,
          74,
          74,
          74,
          73,
          73,
          73,
          73,
          73,
          73,
          73,
          72,
          72,
          72,
          72,
          72,
          71,
          71,
          69,
          69,
          69,
          68,
          68,
          68,
          68,
          68,
          68,
          67,
          67,
          67,
          67,
          67,
          66,
          66,
          66,
          65,
          64,
          64,
          64,
          64,
          63,
          63,
          62,
          62,
          61,
          61,
          59,
          59,
          58,
          57,
          56,
          54,
          52,
          52,
          51,
          51,
          50,
          49,
          47,
          46,
          32
         ],
         "yaxis": "y"
        },
        {
         "hovertemplate": "<b>%{hovertext}</b><br><br>Played on=Wii<br>Reviewscore=%{x}<br>Rating=%{y}<extra></extra>",
         "hovertext": [
          "Super Mario Galaxy",
          "Super Mario Galaxy 2",
          "Super Smash Bros. Brawl",
          "Mario Kart Wii",
          "Mario Strikers Charged Football",
          "Wii Sports",
          "Wii Fit",
          "New Super Mario Bros. Wii",
          "F1 2009",
          "Animal Crossing City Folk",
          "Mario & Sonic at the Olympic Games",
          "Mario Party 8"
         ],
         "legendgroup": "Wii",
         "marker": {
          "color": "#ab63fa",
          "symbol": "circle"
         },
         "mode": "markers",
         "name": "Wii",
         "orientation": "v",
         "showlegend": true,
         "type": "scatter",
         "x": [
          97,
          97,
          93,
          82,
          79,
          76,
          80,
          87,
          69,
          73,
          67,
          62
         ],
         "xaxis": "x",
         "y": [
          98,
          97,
          91,
          88,
          75,
          75,
          73,
          72,
          68,
          63,
          61,
          48
         ],
         "yaxis": "y"
        },
        {
         "hovertemplate": "<b>%{hovertext}</b><br><br>Played on=XBS<br>Reviewscore=%{x}<br>Rating=%{y}<extra></extra>",
         "hovertext": [
          "Elden Ring",
          "Hi-Fi Rush",
          "Mass Effect 2",
          "Mass Effect 3",
          "Mass Effect",
          "Psychonauts 2",
          "Dead Cells",
          "Unsighted",
          "Gears 5",
          "Halo 5: Guardians",
          "Forza Motorsport 7",
          "Halo 4",
          "Monster Sanctuary",
          "Halo Infinite",
          "Gears of War 4",
          "Nobody Saves The World",
          "Chained Echoes",
          "Streets of Rage 4",
          "A Plague Tale: Innocence",
          "Wild Hearts",
          "Far Cry 5",
          "High on Life",
          "Grid Legends",
          "Trek to Yomi",
          "Windjammers 2",
          "Curse of the Dead Gods",
          "Tunic",
          "Need for Speed Unbound",
          "Wo Long Fallen Dynasty",
          "A Plague Tale: Requiem",
          "Prey",
          "Scarlet Nexus",
          "The Outer Worlds",
          "Outer Wilds",
          "Dandy Ace",
          "Exoprimal",
          "CrossfireX"
         ],
         "legendgroup": "XBS",
         "marker": {
          "color": "#FFA15A",
          "symbol": "circle"
         },
         "mode": "markers",
         "name": "XBS",
         "orientation": "v",
         "showlegend": true,
         "type": "scatter",
         "x": [
          96,
          89,
          96,
          93,
          91,
          89,
          89,
          85,
          85,
          84,
          85,
          87,
          80,
          87,
          84,
          80,
          89,
          84,
          82,
          79,
          82,
          69,
          75,
          72,
          77,
          81,
          86,
          75,
          82,
          84,
          81,
          79,
          85,
          86,
          79,
          60,
          42
         ],
         "xaxis": "x",
         "y": [
          97,
          97,
          95,
          94,
          90,
          89,
          86,
          85,
          84,
          84,
          82,
          82,
          82,
          81,
          79,
          78,
          77,
          77,
          76,
          74,
          73,
          72,
          71,
          69,
          69,
          68,
          68,
          67,
          64,
          63,
          60,
          60,
          59,
          58,
          54,
          44,
          40
         ],
         "yaxis": "y"
        },
        {
         "hovertemplate": "<b>%{hovertext}</b><br><br>Played on=PS5<br>Reviewscore=%{x}<br>Rating=%{y}<extra></extra>",
         "hovertext": [
          "God of War Ragnarök",
          "Bioshock Infinite",
          "Bioshock",
          "Final Fantasy XVI",
          "Horizon Forbidden West",
          "Demon's Souls (Remake)",
          "Ratchet & Clank: Rift Apart",
          "Astro's Playroom",
          "Gran Turismo 7",
          "Star Wars Jedi Survivor",
          "Guardians of the Galaxy",
          "OlliOlli World",
          "Stray",
          "Kena: Bridge of Spirits",
          "Returnal",
          "Ys IX: Monstrum Nox",
          "Deathloop",
          "Bioshock 2",
          "Dirt 5",
          "Overwatch 2",
          "Trials Fusion",
          "Sackboy: A Big Adventure",
          "Trials Rising",
          "Call of Duty Black Ops Cold War",
          "Immortals Fenyx Rising",
          "Risk of Rain 2",
          "WRC 9",
          "Wreckfest",
          "Bugsnax",
          "Ghostwire Tokyo",
          "Tribes of Midgard",
          "Cult of the Lamb",
          "Nioh",
          "Arcadeggedon",
          "Lego Star Wars The Skywalker Saga",
          "Tchia",
          "Destruction Allstars",
          "Pure Pool"
         ],
         "legendgroup": "PS5",
         "marker": {
          "color": "#19d3f3",
          "symbol": "circle"
         },
         "mode": "markers",
         "name": "PS5",
         "orientation": "v",
         "showlegend": true,
         "type": "scatter",
         "x": [
          94,
          94,
          96,
          88,
          88,
          92,
          88,
          84,
          87,
          84,
          82,
          86,
          84,
          82,
          86,
          80,
          88,
          88,
          82,
          77,
          79,
          81,
          80,
          75,
          79,
          86,
          80,
          80,
          75,
          77,
          75,
          84,
          88,
          74,
          82,
          78,
          62,
          73
         ],
         "xaxis": "x",
         "y": [
          96,
          95,
          93,
          92,
          91,
          90,
          89,
          88,
          87,
          87,
          86,
          86,
          86,
          84,
          84,
          83,
          82,
          81,
          79,
          76,
          76,
          75,
          75,
          74,
          74,
          74,
          74,
          74,
          73,
          73,
          73,
          72,
          65,
          59,
          59,
          57,
          54,
          51
         ],
         "yaxis": "y"
        },
        {
         "hovertemplate": "<b>%{hovertext}</b><br><br>Played on=DS<br>Reviewscore=%{x}<br>Rating=%{y}<extra></extra>",
         "hovertext": [
          "Mario Kart DS",
          "Pokemon SoulSilver",
          "Pokemon White",
          "Pokemon Diamond",
          "Dragon Quest IX",
          "Nintendogs",
          "Brain Training",
          "Pokemon Mystery Dunegon Explorers of Time",
          "Mario & Sonic at the Winter Olympic Games"
         ],
         "legendgroup": "DS",
         "marker": {
          "color": "#FF6692",
          "symbol": "circle"
         },
         "mode": "markers",
         "name": "DS",
         "orientation": "v",
         "showlegend": true,
         "type": "scatter",
         "x": [
          91,
          87,
          87,
          85,
          87,
          83,
          77,
          60,
          72
         ],
         "xaxis": "x",
         "y": [
          93,
          91,
          87,
          85,
          78,
          73,
          72,
          68,
          64
         ],
         "yaxis": "y"
        },
        {
         "hovertemplate": "<b>%{hovertext}</b><br><br>Played on=PS3<br>Reviewscore=%{x}<br>Rating=%{y}<extra></extra>",
         "hovertext": [
          "Assassin's Creed Brotherhood",
          "Call of Duty Modern Warfare 2",
          "Uncharted 3 Drake's Deception",
          "Call of Duty Black Ops",
          "Dragon Age 2",
          "Dragon Age Origins",
          "Call of Duty Modern Warfare 3",
          "Assassin's Creed Revelations",
          "Fifa 11",
          "F1 2011",
          "F1 2010",
          "Need for Speed Hot Pursuit",
          "Skyrim",
          "Burnout Paradise"
         ],
         "legendgroup": "PS3",
         "marker": {
          "color": "#B6E880",
          "symbol": "circle"
         },
         "mode": "markers",
         "name": "PS3",
         "orientation": "v",
         "showlegend": true,
         "type": "scatter",
         "x": [
          90,
          94,
          92,
          88,
          79,
          91,
          89,
          80,
          88,
          84,
          84,
          88,
          94,
          88
         ],
         "xaxis": "x",
         "y": [
          92,
          92,
          91,
          90,
          86,
          85,
          84,
          83,
          83,
          80,
          79,
          75,
          69,
          57
         ],
         "yaxis": "y"
        },
        {
         "hovertemplate": "<b>%{hovertext}</b><br><br>Played on=PS2<br>Reviewscore=%{x}<br>Rating=%{y}<extra></extra>",
         "hovertext": [
          "Grand Theft Auto San Andreas",
          "Lego Star Wars II: The Original Trilogy",
          "Lego Star Wars: The Video Game",
          "Fifa 07",
          "The Simpsons Hit & Run",
          "Fifa Street 2",
          "Crash Bandicoot The Wrath of Cortex"
         ],
         "legendgroup": "PS2",
         "marker": {
          "color": "#FF97FF",
          "symbol": "circle"
         },
         "mode": "markers",
         "name": "PS2",
         "orientation": "v",
         "showlegend": true,
         "type": "scatter",
         "x": [
          95,
          84,
          78,
          82,
          78,
          59,
          66
         ],
         "xaxis": "x",
         "y": [
          91,
          83,
          80,
          79,
          73,
          64,
          63
         ],
         "yaxis": "y"
        },
        {
         "hovertemplate": "<b>%{hovertext}</b><br><br>Played on=3DS<br>Reviewscore=%{x}<br>Rating=%{y}<extra></extra>",
         "hovertext": [
          "The Legend of Zelda: Ocarina of Time",
          "Mario Kart 7",
          "Pokemon Black 2",
          "Pokemon Sun",
          "Pokemon Y",
          "Pokemon Omega Ruby",
          "New Super Mario Bros. 2"
         ],
         "legendgroup": "3DS",
         "marker": {
          "color": "#FECB52",
          "symbol": "circle"
         },
         "mode": "markers",
         "name": "3DS",
         "orientation": "v",
         "showlegend": true,
         "type": "scatter",
         "x": [
          99,
          85,
          80,
          87,
          86,
          83,
          78
         ],
         "xaxis": "x",
         "y": [
          91,
          85,
          84,
          83,
          79,
          78,
          65
         ],
         "yaxis": "y"
        },
        {
         "hovertemplate": "<b>%{hovertext}</b><br><br>Played on=PS<br>Reviewscore=%{x}<br>Rating=%{y}<extra></extra>",
         "hovertext": [
          "Gran Turismo 2"
         ],
         "legendgroup": "PS",
         "marker": {
          "color": "#636efa",
          "symbol": "circle"
         },
         "mode": "markers",
         "name": "PS",
         "orientation": "v",
         "showlegend": true,
         "type": "scatter",
         "x": [
          93
         ],
         "xaxis": "x",
         "y": [
          89
         ],
         "yaxis": "y"
        },
        {
         "hovertemplate": "<b>%{hovertext}</b><br><br>Played on=X360<br>Reviewscore=%{x}<br>Rating=%{y}<extra></extra>",
         "hovertext": [
          "Borderlands 2",
          "Forza 4",
          "Fifa 12",
          "Fifa 13",
          "Castlevania Symphony of the Night",
          "Grand Theft Auto IV"
         ],
         "legendgroup": "X360",
         "marker": {
          "color": "#EF553B",
          "symbol": "circle"
         },
         "mode": "markers",
         "name": "X360",
         "orientation": "v",
         "showlegend": true,
         "type": "scatter",
         "x": [
          89,
          91,
          90,
          90,
          93,
          98
         ],
         "xaxis": "x",
         "y": [
          88,
          88,
          80,
          78,
          74,
          70
         ],
         "yaxis": "y"
        },
        {
         "hovertemplate": "<b>%{hovertext}</b><br><br>Played on=GB<br>Reviewscore=%{x}<br>Rating=%{y}<extra></extra>",
         "hovertext": [
          "Tetris"
         ],
         "legendgroup": "GB",
         "marker": {
          "color": "#00cc96",
          "symbol": "circle"
         },
         "mode": "markers",
         "name": "GB",
         "orientation": "v",
         "showlegend": true,
         "type": "scatter",
         "x": [
          90
         ],
         "xaxis": "x",
         "y": [
          88
         ],
         "yaxis": "y"
        },
        {
         "hovertemplate": "<b>%{hovertext}</b><br><br>Played on=Vita<br>Reviewscore=%{x}<br>Rating=%{y}<extra></extra>",
         "hovertext": [
          "Tearaway",
          "Guacamelee!",
          "Uncharted Golden Abyss",
          "Sonic & All Stars Racing Transformed",
          "Fifa 14 Legacy Edition"
         ],
         "legendgroup": "Vita",
         "marker": {
          "color": "#ab63fa",
          "symbol": "circle"
         },
         "mode": "markers",
         "name": "Vita",
         "orientation": "v",
         "showlegend": true,
         "type": "scatter",
         "x": [
          87,
          83,
          80,
          75,
          38
         ],
         "xaxis": "x",
         "y": [
          85,
          75,
          72,
          64,
          37
         ],
         "yaxis": "y"
        },
        {
         "hovertemplate": "<b>%{hovertext}</b><br><br>Played on=PSP<br>Reviewscore=%{x}<br>Rating=%{y}<extra></extra>",
         "hovertext": [
          "Grand Theft Auto Vice City Stories",
          "2010 FIFA World Cup South Africa"
         ],
         "legendgroup": "PSP",
         "marker": {
          "color": "#FFA15A",
          "symbol": "circle"
         },
         "mode": "markers",
         "name": "PSP",
         "orientation": "v",
         "showlegend": true,
         "type": "scatter",
         "x": [
          86,
          82
         ],
         "xaxis": "x",
         "y": [
          82,
          74
         ],
         "yaxis": "y"
        },
        {
         "hovertemplate": "<b>%{hovertext}</b><br><br>Played on=PC, XB1, XBS, NSW<br>Reviewscore=%{x}<br>Rating=%{y}<extra></extra>",
         "hovertext": [
          "Cassette Beasts"
         ],
         "legendgroup": "PC, XB1, XBS, NSW",
         "marker": {
          "color": "#19d3f3",
          "symbol": "circle"
         },
         "mode": "markers",
         "name": "PC, XB1, XBS, NSW",
         "orientation": "v",
         "showlegend": true,
         "type": "scatter",
         "x": [
          86
         ],
         "xaxis": "x",
         "y": [
          81
         ],
         "yaxis": "y"
        },
        {
         "hovertemplate": "<b>%{hovertext}</b><br><br>Played on=Mobile<br>Reviewscore=%{x}<br>Rating=%{y}<extra></extra>",
         "hovertext": [
          "Golf Peaks",
          "Lyne",
          "Diablo Immortal"
         ],
         "legendgroup": "Mobile",
         "marker": {
          "color": "#FF6692",
          "symbol": "circle"
         },
         "mode": "markers",
         "name": "Mobile",
         "orientation": "v",
         "showlegend": true,
         "type": "scatter",
         "x": [
          75,
          86,
          65
         ],
         "xaxis": "x",
         "y": [
          68,
          64,
          39
         ],
         "yaxis": "y"
        },
        {
         "hovertemplate": "<b>%{hovertext}</b><br><br>Played on=GBA<br>Reviewscore=%{x}<br>Rating=%{y}<extra></extra>",
         "hovertext": [
          "Finding Nemo",
          "Fifa 06 Game Boy Advance"
         ],
         "legendgroup": "GBA",
         "marker": {
          "color": "#B6E880",
          "symbol": "circle"
         },
         "mode": "markers",
         "name": "GBA",
         "orientation": "v",
         "showlegend": true,
         "type": "scatter",
         "x": [
          63,
          49
         ],
         "xaxis": "x",
         "y": [
          53,
          42
         ],
         "yaxis": "y"
        }
       ],
       "layout": {
        "legend": {
         "title": {
          "text": "Played on"
         },
         "tracegroupgap": 0
        },
        "margin": {
         "t": 60
        },
        "template": {
         "data": {
          "bar": [
           {
            "error_x": {
             "color": "#2a3f5f"
            },
            "error_y": {
             "color": "#2a3f5f"
            },
            "marker": {
             "line": {
              "color": "#E5ECF6",
              "width": 0.5
             },
             "pattern": {
              "fillmode": "overlay",
              "size": 10,
              "solidity": 0.2
             }
            },
            "type": "bar"
           }
          ],
          "barpolar": [
           {
            "marker": {
             "line": {
              "color": "#E5ECF6",
              "width": 0.5
             },
             "pattern": {
              "fillmode": "overlay",
              "size": 10,
              "solidity": 0.2
             }
            },
            "type": "barpolar"
           }
          ],
          "carpet": [
           {
            "aaxis": {
             "endlinecolor": "#2a3f5f",
             "gridcolor": "white",
             "linecolor": "white",
             "minorgridcolor": "white",
             "startlinecolor": "#2a3f5f"
            },
            "baxis": {
             "endlinecolor": "#2a3f5f",
             "gridcolor": "white",
             "linecolor": "white",
             "minorgridcolor": "white",
             "startlinecolor": "#2a3f5f"
            },
            "type": "carpet"
           }
          ],
          "choropleth": [
           {
            "colorbar": {
             "outlinewidth": 0,
             "ticks": ""
            },
            "type": "choropleth"
           }
          ],
          "contour": [
           {
            "colorbar": {
             "outlinewidth": 0,
             "ticks": ""
            },
            "colorscale": [
             [
              0,
              "#0d0887"
             ],
             [
              0.1111111111111111,
              "#46039f"
             ],
             [
              0.2222222222222222,
              "#7201a8"
             ],
             [
              0.3333333333333333,
              "#9c179e"
             ],
             [
              0.4444444444444444,
              "#bd3786"
             ],
             [
              0.5555555555555556,
              "#d8576b"
             ],
             [
              0.6666666666666666,
              "#ed7953"
             ],
             [
              0.7777777777777778,
              "#fb9f3a"
             ],
             [
              0.8888888888888888,
              "#fdca26"
             ],
             [
              1,
              "#f0f921"
             ]
            ],
            "type": "contour"
           }
          ],
          "contourcarpet": [
           {
            "colorbar": {
             "outlinewidth": 0,
             "ticks": ""
            },
            "type": "contourcarpet"
           }
          ],
          "heatmap": [
           {
            "colorbar": {
             "outlinewidth": 0,
             "ticks": ""
            },
            "colorscale": [
             [
              0,
              "#0d0887"
             ],
             [
              0.1111111111111111,
              "#46039f"
             ],
             [
              0.2222222222222222,
              "#7201a8"
             ],
             [
              0.3333333333333333,
              "#9c179e"
             ],
             [
              0.4444444444444444,
              "#bd3786"
             ],
             [
              0.5555555555555556,
              "#d8576b"
             ],
             [
              0.6666666666666666,
              "#ed7953"
             ],
             [
              0.7777777777777778,
              "#fb9f3a"
             ],
             [
              0.8888888888888888,
              "#fdca26"
             ],
             [
              1,
              "#f0f921"
             ]
            ],
            "type": "heatmap"
           }
          ],
          "heatmapgl": [
           {
            "colorbar": {
             "outlinewidth": 0,
             "ticks": ""
            },
            "colorscale": [
             [
              0,
              "#0d0887"
             ],
             [
              0.1111111111111111,
              "#46039f"
             ],
             [
              0.2222222222222222,
              "#7201a8"
             ],
             [
              0.3333333333333333,
              "#9c179e"
             ],
             [
              0.4444444444444444,
              "#bd3786"
             ],
             [
              0.5555555555555556,
              "#d8576b"
             ],
             [
              0.6666666666666666,
              "#ed7953"
             ],
             [
              0.7777777777777778,
              "#fb9f3a"
             ],
             [
              0.8888888888888888,
              "#fdca26"
             ],
             [
              1,
              "#f0f921"
             ]
            ],
            "type": "heatmapgl"
           }
          ],
          "histogram": [
           {
            "marker": {
             "pattern": {
              "fillmode": "overlay",
              "size": 10,
              "solidity": 0.2
             }
            },
            "type": "histogram"
           }
          ],
          "histogram2d": [
           {
            "colorbar": {
             "outlinewidth": 0,
             "ticks": ""
            },
            "colorscale": [
             [
              0,
              "#0d0887"
             ],
             [
              0.1111111111111111,
              "#46039f"
             ],
             [
              0.2222222222222222,
              "#7201a8"
             ],
             [
              0.3333333333333333,
              "#9c179e"
             ],
             [
              0.4444444444444444,
              "#bd3786"
             ],
             [
              0.5555555555555556,
              "#d8576b"
             ],
             [
              0.6666666666666666,
              "#ed7953"
             ],
             [
              0.7777777777777778,
              "#fb9f3a"
             ],
             [
              0.8888888888888888,
              "#fdca26"
             ],
             [
              1,
              "#f0f921"
             ]
            ],
            "type": "histogram2d"
           }
          ],
          "histogram2dcontour": [
           {
            "colorbar": {
             "outlinewidth": 0,
             "ticks": ""
            },
            "colorscale": [
             [
              0,
              "#0d0887"
             ],
             [
              0.1111111111111111,
              "#46039f"
             ],
             [
              0.2222222222222222,
              "#7201a8"
             ],
             [
              0.3333333333333333,
              "#9c179e"
             ],
             [
              0.4444444444444444,
              "#bd3786"
             ],
             [
              0.5555555555555556,
              "#d8576b"
             ],
             [
              0.6666666666666666,
              "#ed7953"
             ],
             [
              0.7777777777777778,
              "#fb9f3a"
             ],
             [
              0.8888888888888888,
              "#fdca26"
             ],
             [
              1,
              "#f0f921"
             ]
            ],
            "type": "histogram2dcontour"
           }
          ],
          "mesh3d": [
           {
            "colorbar": {
             "outlinewidth": 0,
             "ticks": ""
            },
            "type": "mesh3d"
           }
          ],
          "parcoords": [
           {
            "line": {
             "colorbar": {
              "outlinewidth": 0,
              "ticks": ""
             }
            },
            "type": "parcoords"
           }
          ],
          "pie": [
           {
            "automargin": true,
            "type": "pie"
           }
          ],
          "scatter": [
           {
            "fillpattern": {
             "fillmode": "overlay",
             "size": 10,
             "solidity": 0.2
            },
            "type": "scatter"
           }
          ],
          "scatter3d": [
           {
            "line": {
             "colorbar": {
              "outlinewidth": 0,
              "ticks": ""
             }
            },
            "marker": {
             "colorbar": {
              "outlinewidth": 0,
              "ticks": ""
             }
            },
            "type": "scatter3d"
           }
          ],
          "scattercarpet": [
           {
            "marker": {
             "colorbar": {
              "outlinewidth": 0,
              "ticks": ""
             }
            },
            "type": "scattercarpet"
           }
          ],
          "scattergeo": [
           {
            "marker": {
             "colorbar": {
              "outlinewidth": 0,
              "ticks": ""
             }
            },
            "type": "scattergeo"
           }
          ],
          "scattergl": [
           {
            "marker": {
             "colorbar": {
              "outlinewidth": 0,
              "ticks": ""
             }
            },
            "type": "scattergl"
           }
          ],
          "scattermapbox": [
           {
            "marker": {
             "colorbar": {
              "outlinewidth": 0,
              "ticks": ""
             }
            },
            "type": "scattermapbox"
           }
          ],
          "scatterpolar": [
           {
            "marker": {
             "colorbar": {
              "outlinewidth": 0,
              "ticks": ""
             }
            },
            "type": "scatterpolar"
           }
          ],
          "scatterpolargl": [
           {
            "marker": {
             "colorbar": {
              "outlinewidth": 0,
              "ticks": ""
             }
            },
            "type": "scatterpolargl"
           }
          ],
          "scatterternary": [
           {
            "marker": {
             "colorbar": {
              "outlinewidth": 0,
              "ticks": ""
             }
            },
            "type": "scatterternary"
           }
          ],
          "surface": [
           {
            "colorbar": {
             "outlinewidth": 0,
             "ticks": ""
            },
            "colorscale": [
             [
              0,
              "#0d0887"
             ],
             [
              0.1111111111111111,
              "#46039f"
             ],
             [
              0.2222222222222222,
              "#7201a8"
             ],
             [
              0.3333333333333333,
              "#9c179e"
             ],
             [
              0.4444444444444444,
              "#bd3786"
             ],
             [
              0.5555555555555556,
              "#d8576b"
             ],
             [
              0.6666666666666666,
              "#ed7953"
             ],
             [
              0.7777777777777778,
              "#fb9f3a"
             ],
             [
              0.8888888888888888,
              "#fdca26"
             ],
             [
              1,
              "#f0f921"
             ]
            ],
            "type": "surface"
           }
          ],
          "table": [
           {
            "cells": {
             "fill": {
              "color": "#EBF0F8"
             },
             "line": {
              "color": "white"
             }
            },
            "header": {
             "fill": {
              "color": "#C8D4E3"
             },
             "line": {
              "color": "white"
             }
            },
            "type": "table"
           }
          ]
         },
         "layout": {
          "annotationdefaults": {
           "arrowcolor": "#2a3f5f",
           "arrowhead": 0,
           "arrowwidth": 1
          },
          "autotypenumbers": "strict",
          "coloraxis": {
           "colorbar": {
            "outlinewidth": 0,
            "ticks": ""
           }
          },
          "colorscale": {
           "diverging": [
            [
             0,
             "#8e0152"
            ],
            [
             0.1,
             "#c51b7d"
            ],
            [
             0.2,
             "#de77ae"
            ],
            [
             0.3,
             "#f1b6da"
            ],
            [
             0.4,
             "#fde0ef"
            ],
            [
             0.5,
             "#f7f7f7"
            ],
            [
             0.6,
             "#e6f5d0"
            ],
            [
             0.7,
             "#b8e186"
            ],
            [
             0.8,
             "#7fbc41"
            ],
            [
             0.9,
             "#4d9221"
            ],
            [
             1,
             "#276419"
            ]
           ],
           "sequential": [
            [
             0,
             "#0d0887"
            ],
            [
             0.1111111111111111,
             "#46039f"
            ],
            [
             0.2222222222222222,
             "#7201a8"
            ],
            [
             0.3333333333333333,
             "#9c179e"
            ],
            [
             0.4444444444444444,
             "#bd3786"
            ],
            [
             0.5555555555555556,
             "#d8576b"
            ],
            [
             0.6666666666666666,
             "#ed7953"
            ],
            [
             0.7777777777777778,
             "#fb9f3a"
            ],
            [
             0.8888888888888888,
             "#fdca26"
            ],
            [
             1,
             "#f0f921"
            ]
           ],
           "sequentialminus": [
            [
             0,
             "#0d0887"
            ],
            [
             0.1111111111111111,
             "#46039f"
            ],
            [
             0.2222222222222222,
             "#7201a8"
            ],
            [
             0.3333333333333333,
             "#9c179e"
            ],
            [
             0.4444444444444444,
             "#bd3786"
            ],
            [
             0.5555555555555556,
             "#d8576b"
            ],
            [
             0.6666666666666666,
             "#ed7953"
            ],
            [
             0.7777777777777778,
             "#fb9f3a"
            ],
            [
             0.8888888888888888,
             "#fdca26"
            ],
            [
             1,
             "#f0f921"
            ]
           ]
          },
          "colorway": [
           "#636efa",
           "#EF553B",
           "#00cc96",
           "#ab63fa",
           "#FFA15A",
           "#19d3f3",
           "#FF6692",
           "#B6E880",
           "#FF97FF",
           "#FECB52"
          ],
          "font": {
           "color": "#2a3f5f"
          },
          "geo": {
           "bgcolor": "white",
           "lakecolor": "white",
           "landcolor": "#E5ECF6",
           "showlakes": true,
           "showland": true,
           "subunitcolor": "white"
          },
          "hoverlabel": {
           "align": "left"
          },
          "hovermode": "closest",
          "mapbox": {
           "style": "light"
          },
          "paper_bgcolor": "white",
          "plot_bgcolor": "#E5ECF6",
          "polar": {
           "angularaxis": {
            "gridcolor": "white",
            "linecolor": "white",
            "ticks": ""
           },
           "bgcolor": "#E5ECF6",
           "radialaxis": {
            "gridcolor": "white",
            "linecolor": "white",
            "ticks": ""
           }
          },
          "scene": {
           "xaxis": {
            "backgroundcolor": "#E5ECF6",
            "gridcolor": "white",
            "gridwidth": 2,
            "linecolor": "white",
            "showbackground": true,
            "ticks": "",
            "zerolinecolor": "white"
           },
           "yaxis": {
            "backgroundcolor": "#E5ECF6",
            "gridcolor": "white",
            "gridwidth": 2,
            "linecolor": "white",
            "showbackground": true,
            "ticks": "",
            "zerolinecolor": "white"
           },
           "zaxis": {
            "backgroundcolor": "#E5ECF6",
            "gridcolor": "white",
            "gridwidth": 2,
            "linecolor": "white",
            "showbackground": true,
            "ticks": "",
            "zerolinecolor": "white"
           }
          },
          "shapedefaults": {
           "line": {
            "color": "#2a3f5f"
           }
          },
          "ternary": {
           "aaxis": {
            "gridcolor": "white",
            "linecolor": "white",
            "ticks": ""
           },
           "baxis": {
            "gridcolor": "white",
            "linecolor": "white",
            "ticks": ""
           },
           "bgcolor": "#E5ECF6",
           "caxis": {
            "gridcolor": "white",
            "linecolor": "white",
            "ticks": ""
           }
          },
          "title": {
           "x": 0.05
          },
          "xaxis": {
           "automargin": true,
           "gridcolor": "white",
           "linecolor": "white",
           "ticks": "",
           "title": {
            "standoff": 15
           },
           "zerolinecolor": "white",
           "zerolinewidth": 2
          },
          "yaxis": {
           "automargin": true,
           "gridcolor": "white",
           "linecolor": "white",
           "ticks": "",
           "title": {
            "standoff": 15
           },
           "zerolinecolor": "white",
           "zerolinewidth": 2
          }
         }
        },
        "xaxis": {
         "anchor": "y",
         "domain": [
          0,
          1
         ],
         "title": {
          "text": "Reviewscore"
         }
        },
        "yaxis": {
         "anchor": "x",
         "domain": [
          0,
          1
         ],
         "title": {
          "text": "Rating"
         }
        }
       }
      }
     },
     "metadata": {},
     "output_type": "display_data"
    }
   ],
   "source": [
    "# a bit of basic plotting\n",
    "fig = px.scatter(raw_data, x=\"Reviewscore\", y=\"Rating\", color=\"Played on\", hover_name=\"Game\")\n",
    "fig"
   ]
  },
  {
   "cell_type": "code",
   "execution_count": 214,
   "id": "afa417ec",
   "metadata": {},
   "outputs": [
    {
     "name": "stdout",
     "output_type": "stream",
     "text": [
      "Pearson R -  PearsonRResult(statistic=0.7387332054549182, pvalue=1.4080224400319495e-77)\n"
     ]
    }
   ],
   "source": [
    "# target to beat - relationship between review score and rating\n",
    "print('Pearson R - ', pearsonr(raw_data['Reviewscore'],raw_data['Rating']))"
   ]
  },
  {
   "cell_type": "code",
   "execution_count": 215,
   "id": "adde7c9d",
   "metadata": {},
   "outputs": [],
   "source": [
    "#create set of unique key words from the data frame\n",
    "str_data = raw_data.copy()\n",
    "str_data['Key words'] = str_data['Key words'].apply(lambda x: x.split(',')) #convert each entry in key words to a list\n",
    "lst = str_data['Key words'].to_list() #append all lists together\n",
    "combine = sum(lst, []) #roll the lists into one\n",
    "remove_space = [s.strip(' ') for s in combine] #remove leading and trailing spaces in list items\n",
    "capitalize = [s.upper() for s in remove_space] #convert all characters to upper case\n",
    "kwords = set(capitalize) #remove duplicate list items\n",
    "kwords = list(kwords)\n",
    "\n",
    "# add new columns which track the keywords\n",
    "kw_data = raw_data.copy()\n",
    "kw_data['Key words'] = kw_data['Key words'].str.upper()\n",
    "for i in kwords:\n",
    "    kw_data[i] = kw_data['Key words'].apply(lambda x: 1 if str(i) in x else 0)"
   ]
  },
  {
   "cell_type": "code",
   "execution_count": 216,
   "id": "863fe0e5",
   "metadata": {
    "scrolled": true
   },
   "outputs": [],
   "source": [
    "#create set of unique platforms from the data frame\n",
    "str_data = raw_data.copy()\n",
    "str_data['Played on'] = str_data['Played on'].apply(lambda x: x.split(',')) #convert each entry in key words to a list\n",
    "lst = str_data['Played on'].to_list() #append all lists together\n",
    "combine = sum(lst, []) #roll the lists into one\n",
    "remove_space = [s.strip(' ') for s in combine] #remove leading and trailing spaces in list items\n",
    "capitalize_plats = [s.upper() for s in remove_space] #convert all characters to upper case\n",
    "plats = set(capitalize_plats) #remove duplicate list items\n",
    "plats = list(plats)\n",
    "\n",
    "# add new columns which track the platforms\n",
    "data = kw_data.copy()\n",
    "data['Played on'] = data['Played on'].str.upper()\n",
    "for i in plats:\n",
    "    data[i] = data['Played on'].apply(lambda x: 1 if str(i) in x else 0)"
   ]
  },
  {
   "cell_type": "code",
   "execution_count": 217,
   "id": "efdbcffe",
   "metadata": {},
   "outputs": [],
   "source": [
    "# update publisher to group to other if count less than n\n",
    "counts_p = data['Publisher'].value_counts() < 3 #creates a series with publisher names as index and values as false, for those not meeting condition\n",
    "data.loc[data['Publisher'].isin(counts_p.index[counts_p]) == True, 'Publisher'] = 'Other' #sets publisher = other if not in counts\n",
    "#notes - isin(counts.index[counts]) returns false for all publishers not meeting condition, true for those meeting the condition\n",
    "\n",
    "#update developer to group to other if count less than n\n",
    "counts_d = data['Developer'].value_counts() < 2 #creates a series with publisher names as index and values as false, for those not meeting condition\n",
    "data.loc[data['Developer'].isin(counts_d.index[counts_d]) == True, 'Developer'] = 'Other' #sets publisher = other if not in counts\n",
    "\n",
    "#update franchise to group to other if count less than n\n",
    "counts_f = data['Franchise'].value_counts() < 2 #creates a series with publisher names as index and values as false, for those not meeting condition\n",
    "data.loc[data['Franchise'].isin(counts_f.index[counts_f]) == True, 'Franchise'] = 'Other' #sets publisher = other if not in counts\n"
   ]
  },
  {
   "cell_type": "code",
   "execution_count": 218,
   "id": "93840834",
   "metadata": {},
   "outputs": [
    {
     "data": {
      "text/plain": [
       "\"\\n#replace publisher string with its average review score\\npublisher_avg = (data[['Publisher','Reviewscore']]).groupby(['Publisher']).mean()['Reviewscore']\\ndata = pd.merge(data, publisher_avg, on = 'Publisher')\\ndata.rename(columns= {'Reviewscore_y' : 'Publisher avg', 'Reviewscore_x' : 'Reviewscore'}, inplace = True)\\n\\n#replace developer string with its average review score\\ndeveloper_avg = (data[['Developer','Reviewscore']]).groupby(['Developer']).mean()['Reviewscore']\\ndata = pd.merge(data, developer_avg, on = 'Developer')\\ndata.rename(columns= {'Reviewscore_y' : 'Developer avg', 'Reviewscore_x' : 'Reviewscore'}, inplace = True)\\n\\n#replace franchise string with its average review score\\nfranchise_avg = (data[['Franchise','Reviewscore']]).groupby(['Franchise']).mean()['Reviewscore']\\ndata = pd.merge(data, franchise_avg, on = 'Franchise')\\ndata.rename(columns= {'Reviewscore_y' : 'Franchise avg', 'Reviewscore_x' : 'Reviewscore'}, inplace = True)\\n\""
      ]
     },
     "execution_count": 218,
     "metadata": {},
     "output_type": "execute_result"
    }
   ],
   "source": [
    "#only use one of this or the next one\n",
    "'''\n",
    "#replace publisher string with its average review score\n",
    "publisher_avg = (data[['Publisher','Reviewscore']]).groupby(['Publisher']).mean()['Reviewscore']\n",
    "data = pd.merge(data, publisher_avg, on = 'Publisher')\n",
    "data.rename(columns= {'Reviewscore_y' : 'Publisher avg', 'Reviewscore_x' : 'Reviewscore'}, inplace = True)\n",
    "\n",
    "#replace developer string with its average review score\n",
    "developer_avg = (data[['Developer','Reviewscore']]).groupby(['Developer']).mean()['Reviewscore']\n",
    "data = pd.merge(data, developer_avg, on = 'Developer')\n",
    "data.rename(columns= {'Reviewscore_y' : 'Developer avg', 'Reviewscore_x' : 'Reviewscore'}, inplace = True)\n",
    "\n",
    "#replace franchise string with its average review score\n",
    "franchise_avg = (data[['Franchise','Reviewscore']]).groupby(['Franchise']).mean()['Reviewscore']\n",
    "data = pd.merge(data, franchise_avg, on = 'Franchise')\n",
    "data.rename(columns= {'Reviewscore_y' : 'Franchise avg', 'Reviewscore_x' : 'Reviewscore'}, inplace = True)\n",
    "'''\n"
   ]
  },
  {
   "cell_type": "code",
   "execution_count": 219,
   "id": "61ff45e8",
   "metadata": {},
   "outputs": [],
   "source": [
    "# one hot encoding of publisher\n",
    "one_hot = pd.get_dummies(data['Publisher'])\n",
    "data = data.merge(one_hot, left_index=True, right_index=True)\n",
    "\n",
    "# one hot encoding of developer\n",
    "one_hot = pd.get_dummies(data['Developer'])\n",
    "data = data.merge(one_hot, left_index=True, right_index=True)\n",
    "\n",
    "# one hot encoding of franchise\n",
    "one_hot = pd.get_dummies(data['Franchise'])\n",
    "data = data.merge(one_hot, left_index=True, right_index=True)"
   ]
  },
  {
   "cell_type": "code",
   "execution_count": 220,
   "id": "67d90c4a",
   "metadata": {},
   "outputs": [],
   "source": [
    "# calculate play - launch field\n",
    "data['Play - launch'] = data['Play Year'] - data['Launch Year']\n",
    "data['Play - launch'].fillna(0, inplace=True)\n",
    "# calculate upgraded played field\n",
    "data.loc[np.isnan(data['Remaster Reviewscore']) == False, 'Remaster played'] = 1\n",
    "data['Remaster played'].fillna(0, inplace=True)\n",
    "\n",
    "\n",
    "# calculate latest launch field \n",
    "data['Latest launch year'] = data['Remaster Release Year']\n",
    "data['Latest launch year'].fillna(data['Launch Year'], inplace = True)\n",
    "# calculate play - latest launch field (remaster)\n",
    "data['Play - latest launch'] = data['Play Year'] - data['Latest launch year']\n",
    "data['Play - latest launch'].fillna(0, inplace=True)\n",
    "\n",
    "# calculate any multiplayer field\n",
    "data['Key words'] = data['Key words'].str.upper()\n",
    "data.loc[data['Key words'].str.contains('MULTIPLAYER') == True, 'Any multiplayer'] = 1\n",
    "data['Any multiplayer'].fillna(0, inplace=True)\n",
    "# calculate any racing field\n",
    "data.loc[data['Key words'].str.contains('RACING') == True, 'Any racing'] = 1\n",
    "data['Any racing'].fillna(0, inplace=True)\n",
    "# calculate any sports field\n",
    "data.loc[data['Key words'].str.contains('SPORTS') == True, 'Any sports'] = 1\n",
    "data['Any sports'].fillna(0, inplace=True)\n",
    "# calculate any simulation field\n",
    "data.loc[data['Key words'].str.contains('SIMULATION') == True, 'Any simulation'] = 1\n",
    "data['Any simulation'].fillna(0, inplace=True)\n",
    "# calculate any strategy field\n",
    "data.loc[data['Key words'].str.contains('STRATEGY') == True, 'Any strategy'] = 1\n",
    "data['Any strategy'].fillna(0, inplace=True)\n"
   ]
  },
  {
   "cell_type": "code",
   "execution_count": 221,
   "id": "3afa91a6",
   "metadata": {},
   "outputs": [],
   "source": [
    "# convert the yes no fields to 1 or 0\n",
    "data['DLC/ Major update played'] = data['DLC/ Major update played'].replace({'Yes': 1, 'No': 0})"
   ]
  },
  {
   "cell_type": "code",
   "execution_count": 222,
   "id": "c0ffadd2",
   "metadata": {},
   "outputs": [],
   "source": [
    "# tidy missing values\n",
    "data['Remaster Reviewscore'].fillna(0, inplace=True)"
   ]
  },
  {
   "cell_type": "code",
   "execution_count": 223,
   "id": "b0c52212",
   "metadata": {},
   "outputs": [
    {
     "data": {
      "text/html": [
       "<div>\n",
       "<style scoped>\n",
       "    .dataframe tbody tr th:only-of-type {\n",
       "        vertical-align: middle;\n",
       "    }\n",
       "\n",
       "    .dataframe tbody tr th {\n",
       "        vertical-align: top;\n",
       "    }\n",
       "\n",
       "    .dataframe thead th {\n",
       "        text-align: right;\n",
       "    }\n",
       "</style>\n",
       "<table border=\"1\" class=\"dataframe\">\n",
       "  <thead>\n",
       "    <tr style=\"text-align: right;\">\n",
       "      <th></th>\n",
       "      <th>Game</th>\n",
       "      <th>Rating</th>\n",
       "      <th>Reviewscore</th>\n",
       "      <th>Played on</th>\n",
       "      <th>Launch Year</th>\n",
       "      <th>Play Year</th>\n",
       "      <th>DLC/ Major update played</th>\n",
       "      <th>Publisher</th>\n",
       "      <th>Developer</th>\n",
       "      <th>Franchise</th>\n",
       "      <th>...</th>\n",
       "      <th>inFAMOUS</th>\n",
       "      <th>Play - launch</th>\n",
       "      <th>Remaster played</th>\n",
       "      <th>Latest launch year</th>\n",
       "      <th>Play - latest launch</th>\n",
       "      <th>Any multiplayer</th>\n",
       "      <th>Any racing</th>\n",
       "      <th>Any sports</th>\n",
       "      <th>Any simulation</th>\n",
       "      <th>Any strategy</th>\n",
       "    </tr>\n",
       "  </thead>\n",
       "  <tbody>\n",
       "    <tr>\n",
       "      <th>0</th>\n",
       "      <td>The Legend of Zelda: Breath of the Wild</td>\n",
       "      <td>100</td>\n",
       "      <td>97</td>\n",
       "      <td>SWITCH</td>\n",
       "      <td>2017</td>\n",
       "      <td>2017</td>\n",
       "      <td>1</td>\n",
       "      <td>Nintendo</td>\n",
       "      <td>Nintendo</td>\n",
       "      <td>The Legend of Zelda</td>\n",
       "      <td>...</td>\n",
       "      <td>0</td>\n",
       "      <td>0</td>\n",
       "      <td>0.0</td>\n",
       "      <td>2017.0</td>\n",
       "      <td>0.0</td>\n",
       "      <td>0.0</td>\n",
       "      <td>0.0</td>\n",
       "      <td>0.0</td>\n",
       "      <td>0.0</td>\n",
       "      <td>0.0</td>\n",
       "    </tr>\n",
       "    <tr>\n",
       "      <th>1</th>\n",
       "      <td>The Legend of Zelda: Tears of the Kingdom</td>\n",
       "      <td>100</td>\n",
       "      <td>96</td>\n",
       "      <td>SWITCH</td>\n",
       "      <td>2023</td>\n",
       "      <td>2023</td>\n",
       "      <td>0</td>\n",
       "      <td>Nintendo</td>\n",
       "      <td>Nintendo</td>\n",
       "      <td>The Legend of Zelda</td>\n",
       "      <td>...</td>\n",
       "      <td>0</td>\n",
       "      <td>0</td>\n",
       "      <td>0.0</td>\n",
       "      <td>2023.0</td>\n",
       "      <td>0.0</td>\n",
       "      <td>0.0</td>\n",
       "      <td>0.0</td>\n",
       "      <td>0.0</td>\n",
       "      <td>0.0</td>\n",
       "      <td>0.0</td>\n",
       "    </tr>\n",
       "    <tr>\n",
       "      <th>2</th>\n",
       "      <td>God of War (2018)</td>\n",
       "      <td>99</td>\n",
       "      <td>94</td>\n",
       "      <td>PS4</td>\n",
       "      <td>2018</td>\n",
       "      <td>2018</td>\n",
       "      <td>0</td>\n",
       "      <td>Sony</td>\n",
       "      <td>Santa Monica Studio</td>\n",
       "      <td>God of War</td>\n",
       "      <td>...</td>\n",
       "      <td>0</td>\n",
       "      <td>0</td>\n",
       "      <td>0.0</td>\n",
       "      <td>2018.0</td>\n",
       "      <td>0.0</td>\n",
       "      <td>0.0</td>\n",
       "      <td>0.0</td>\n",
       "      <td>0.0</td>\n",
       "      <td>0.0</td>\n",
       "      <td>0.0</td>\n",
       "    </tr>\n",
       "    <tr>\n",
       "      <th>3</th>\n",
       "      <td>Metroid Prime</td>\n",
       "      <td>99</td>\n",
       "      <td>97</td>\n",
       "      <td>SWITCH</td>\n",
       "      <td>2002</td>\n",
       "      <td>2023</td>\n",
       "      <td>0</td>\n",
       "      <td>Nintendo</td>\n",
       "      <td>Other</td>\n",
       "      <td>Metroid</td>\n",
       "      <td>...</td>\n",
       "      <td>0</td>\n",
       "      <td>21</td>\n",
       "      <td>1.0</td>\n",
       "      <td>2023.0</td>\n",
       "      <td>0.0</td>\n",
       "      <td>0.0</td>\n",
       "      <td>0.0</td>\n",
       "      <td>0.0</td>\n",
       "      <td>0.0</td>\n",
       "      <td>0.0</td>\n",
       "    </tr>\n",
       "    <tr>\n",
       "      <th>4</th>\n",
       "      <td>The Last of Us</td>\n",
       "      <td>99</td>\n",
       "      <td>95</td>\n",
       "      <td>PS4</td>\n",
       "      <td>2013</td>\n",
       "      <td>2014</td>\n",
       "      <td>1</td>\n",
       "      <td>Sony</td>\n",
       "      <td>Naughty Dog</td>\n",
       "      <td>The Last of Us</td>\n",
       "      <td>...</td>\n",
       "      <td>0</td>\n",
       "      <td>1</td>\n",
       "      <td>1.0</td>\n",
       "      <td>2014.0</td>\n",
       "      <td>0.0</td>\n",
       "      <td>0.0</td>\n",
       "      <td>0.0</td>\n",
       "      <td>0.0</td>\n",
       "      <td>0.0</td>\n",
       "      <td>0.0</td>\n",
       "    </tr>\n",
       "    <tr>\n",
       "      <th>...</th>\n",
       "      <td>...</td>\n",
       "      <td>...</td>\n",
       "      <td>...</td>\n",
       "      <td>...</td>\n",
       "      <td>...</td>\n",
       "      <td>...</td>\n",
       "      <td>...</td>\n",
       "      <td>...</td>\n",
       "      <td>...</td>\n",
       "      <td>...</td>\n",
       "      <td>...</td>\n",
       "      <td>...</td>\n",
       "      <td>...</td>\n",
       "      <td>...</td>\n",
       "      <td>...</td>\n",
       "      <td>...</td>\n",
       "      <td>...</td>\n",
       "      <td>...</td>\n",
       "      <td>...</td>\n",
       "      <td>...</td>\n",
       "      <td>...</td>\n",
       "    </tr>\n",
       "    <tr>\n",
       "      <th>438</th>\n",
       "      <td>CrossfireX</td>\n",
       "      <td>40</td>\n",
       "      <td>42</td>\n",
       "      <td>XBS</td>\n",
       "      <td>2022</td>\n",
       "      <td>2023</td>\n",
       "      <td>1</td>\n",
       "      <td>Indie</td>\n",
       "      <td>Other</td>\n",
       "      <td>Other</td>\n",
       "      <td>...</td>\n",
       "      <td>0</td>\n",
       "      <td>1</td>\n",
       "      <td>0.0</td>\n",
       "      <td>2022.0</td>\n",
       "      <td>1.0</td>\n",
       "      <td>1.0</td>\n",
       "      <td>0.0</td>\n",
       "      <td>0.0</td>\n",
       "      <td>0.0</td>\n",
       "      <td>0.0</td>\n",
       "    </tr>\n",
       "    <tr>\n",
       "      <th>439</th>\n",
       "      <td>Diablo Immortal</td>\n",
       "      <td>39</td>\n",
       "      <td>65</td>\n",
       "      <td>MOBILE</td>\n",
       "      <td>2022</td>\n",
       "      <td>2022</td>\n",
       "      <td>0</td>\n",
       "      <td>Activision-Blizzard</td>\n",
       "      <td>Blizzard</td>\n",
       "      <td>Diablo</td>\n",
       "      <td>...</td>\n",
       "      <td>0</td>\n",
       "      <td>0</td>\n",
       "      <td>0.0</td>\n",
       "      <td>2022.0</td>\n",
       "      <td>0.0</td>\n",
       "      <td>0.0</td>\n",
       "      <td>0.0</td>\n",
       "      <td>0.0</td>\n",
       "      <td>0.0</td>\n",
       "      <td>0.0</td>\n",
       "    </tr>\n",
       "    <tr>\n",
       "      <th>440</th>\n",
       "      <td>Fifa 14 Legacy Edition</td>\n",
       "      <td>37</td>\n",
       "      <td>38</td>\n",
       "      <td>VITA</td>\n",
       "      <td>2013</td>\n",
       "      <td>2013</td>\n",
       "      <td>0</td>\n",
       "      <td>EA</td>\n",
       "      <td>Other</td>\n",
       "      <td>Fifa</td>\n",
       "      <td>...</td>\n",
       "      <td>0</td>\n",
       "      <td>0</td>\n",
       "      <td>0.0</td>\n",
       "      <td>2013.0</td>\n",
       "      <td>0.0</td>\n",
       "      <td>0.0</td>\n",
       "      <td>0.0</td>\n",
       "      <td>1.0</td>\n",
       "      <td>0.0</td>\n",
       "      <td>0.0</td>\n",
       "    </tr>\n",
       "    <tr>\n",
       "      <th>441</th>\n",
       "      <td>Sunlight</td>\n",
       "      <td>32</td>\n",
       "      <td>78</td>\n",
       "      <td>PC</td>\n",
       "      <td>2021</td>\n",
       "      <td>2023</td>\n",
       "      <td>0</td>\n",
       "      <td>Indie</td>\n",
       "      <td>Other</td>\n",
       "      <td>Other</td>\n",
       "      <td>...</td>\n",
       "      <td>0</td>\n",
       "      <td>2</td>\n",
       "      <td>0.0</td>\n",
       "      <td>2021.0</td>\n",
       "      <td>2.0</td>\n",
       "      <td>0.0</td>\n",
       "      <td>0.0</td>\n",
       "      <td>0.0</td>\n",
       "      <td>0.0</td>\n",
       "      <td>0.0</td>\n",
       "    </tr>\n",
       "    <tr>\n",
       "      <th>442</th>\n",
       "      <td>Doom VFR</td>\n",
       "      <td>24</td>\n",
       "      <td>70</td>\n",
       "      <td>PS4</td>\n",
       "      <td>2017</td>\n",
       "      <td>2019</td>\n",
       "      <td>0</td>\n",
       "      <td>Bethesda</td>\n",
       "      <td>id Software</td>\n",
       "      <td>Doom</td>\n",
       "      <td>...</td>\n",
       "      <td>0</td>\n",
       "      <td>2</td>\n",
       "      <td>0.0</td>\n",
       "      <td>2017.0</td>\n",
       "      <td>2.0</td>\n",
       "      <td>0.0</td>\n",
       "      <td>0.0</td>\n",
       "      <td>0.0</td>\n",
       "      <td>0.0</td>\n",
       "      <td>0.0</td>\n",
       "    </tr>\n",
       "  </tbody>\n",
       "</table>\n",
       "<p>443 rows × 296 columns</p>\n",
       "</div>"
      ],
      "text/plain": [
       "                                          Game  Rating  Reviewscore Played on  \\\n",
       "0      The Legend of Zelda: Breath of the Wild     100           97    SWITCH   \n",
       "1    The Legend of Zelda: Tears of the Kingdom     100           96    SWITCH   \n",
       "2                            God of War (2018)      99           94       PS4   \n",
       "3                                Metroid Prime      99           97    SWITCH   \n",
       "4                               The Last of Us      99           95       PS4   \n",
       "..                                         ...     ...          ...       ...   \n",
       "438                                 CrossfireX      40           42       XBS   \n",
       "439                            Diablo Immortal      39           65    MOBILE   \n",
       "440                     Fifa 14 Legacy Edition      37           38      VITA   \n",
       "441                                   Sunlight      32           78        PC   \n",
       "442                                   Doom VFR      24           70       PS4   \n",
       "\n",
       "     Launch Year  Play Year  DLC/ Major update played            Publisher  \\\n",
       "0           2017       2017                         1             Nintendo   \n",
       "1           2023       2023                         0             Nintendo   \n",
       "2           2018       2018                         0                 Sony   \n",
       "3           2002       2023                         0             Nintendo   \n",
       "4           2013       2014                         1                 Sony   \n",
       "..           ...        ...                       ...                  ...   \n",
       "438         2022       2023                         1                Indie   \n",
       "439         2022       2022                         0  Activision-Blizzard   \n",
       "440         2013       2013                         0                   EA   \n",
       "441         2021       2023                         0                Indie   \n",
       "442         2017       2019                         0             Bethesda   \n",
       "\n",
       "               Developer            Franchise  ... inFAMOUS  Play - launch  \\\n",
       "0               Nintendo  The Legend of Zelda  ...        0              0   \n",
       "1               Nintendo  The Legend of Zelda  ...        0              0   \n",
       "2    Santa Monica Studio           God of War  ...        0              0   \n",
       "3                  Other              Metroid  ...        0             21   \n",
       "4            Naughty Dog       The Last of Us  ...        0              1   \n",
       "..                   ...                  ...  ...      ...            ...   \n",
       "438                Other                Other  ...        0              1   \n",
       "439             Blizzard               Diablo  ...        0              0   \n",
       "440                Other                 Fifa  ...        0              0   \n",
       "441                Other                Other  ...        0              2   \n",
       "442          id Software                 Doom  ...        0              2   \n",
       "\n",
       "     Remaster played Latest launch year  Play - latest launch  \\\n",
       "0                0.0             2017.0                   0.0   \n",
       "1                0.0             2023.0                   0.0   \n",
       "2                0.0             2018.0                   0.0   \n",
       "3                1.0             2023.0                   0.0   \n",
       "4                1.0             2014.0                   0.0   \n",
       "..               ...                ...                   ...   \n",
       "438              0.0             2022.0                   1.0   \n",
       "439              0.0             2022.0                   0.0   \n",
       "440              0.0             2013.0                   0.0   \n",
       "441              0.0             2021.0                   2.0   \n",
       "442              0.0             2017.0                   2.0   \n",
       "\n",
       "     Any multiplayer  Any racing  Any sports  Any simulation  Any strategy  \n",
       "0                0.0         0.0         0.0             0.0           0.0  \n",
       "1                0.0         0.0         0.0             0.0           0.0  \n",
       "2                0.0         0.0         0.0             0.0           0.0  \n",
       "3                0.0         0.0         0.0             0.0           0.0  \n",
       "4                0.0         0.0         0.0             0.0           0.0  \n",
       "..               ...         ...         ...             ...           ...  \n",
       "438              1.0         0.0         0.0             0.0           0.0  \n",
       "439              0.0         0.0         0.0             0.0           0.0  \n",
       "440              0.0         0.0         1.0             0.0           0.0  \n",
       "441              0.0         0.0         0.0             0.0           0.0  \n",
       "442              0.0         0.0         0.0             0.0           0.0  \n",
       "\n",
       "[443 rows x 296 columns]"
      ]
     },
     "execution_count": 223,
     "metadata": {},
     "output_type": "execute_result"
    }
   ],
   "source": [
    "#have another look at the data\n",
    "data"
   ]
  },
  {
   "cell_type": "code",
   "execution_count": 224,
   "id": "d9c5d858",
   "metadata": {},
   "outputs": [],
   "source": [
    "# prep for model\n",
    "X = data.copy()\n",
    "X.drop(['Rating', 'Game', 'Played on', 'Publisher', 'Developer', 'Franchise', 'Key words', 'Remaster Release Year', 'Developer2'], axis = 1, inplace = True)\n",
    "y = data['Rating']\n",
    "X_train, X_test, y_train, y_test = train_test_split(X, y, random_state=0)"
   ]
  },
  {
   "cell_type": "code",
   "execution_count": 225,
   "id": "167f9fe1",
   "metadata": {},
   "outputs": [
    {
     "data": {
      "text/html": [
       "<style>#sk-container-id-12 {color: black;background-color: white;}#sk-container-id-12 pre{padding: 0;}#sk-container-id-12 div.sk-toggleable {background-color: white;}#sk-container-id-12 label.sk-toggleable__label {cursor: pointer;display: block;width: 100%;margin-bottom: 0;padding: 0.3em;box-sizing: border-box;text-align: center;}#sk-container-id-12 label.sk-toggleable__label-arrow:before {content: \"▸\";float: left;margin-right: 0.25em;color: #696969;}#sk-container-id-12 label.sk-toggleable__label-arrow:hover:before {color: black;}#sk-container-id-12 div.sk-estimator:hover label.sk-toggleable__label-arrow:before {color: black;}#sk-container-id-12 div.sk-toggleable__content {max-height: 0;max-width: 0;overflow: hidden;text-align: left;background-color: #f0f8ff;}#sk-container-id-12 div.sk-toggleable__content pre {margin: 0.2em;color: black;border-radius: 0.25em;background-color: #f0f8ff;}#sk-container-id-12 input.sk-toggleable__control:checked~div.sk-toggleable__content {max-height: 200px;max-width: 100%;overflow: auto;}#sk-container-id-12 input.sk-toggleable__control:checked~label.sk-toggleable__label-arrow:before {content: \"▾\";}#sk-container-id-12 div.sk-estimator input.sk-toggleable__control:checked~label.sk-toggleable__label {background-color: #d4ebff;}#sk-container-id-12 div.sk-label input.sk-toggleable__control:checked~label.sk-toggleable__label {background-color: #d4ebff;}#sk-container-id-12 input.sk-hidden--visually {border: 0;clip: rect(1px 1px 1px 1px);clip: rect(1px, 1px, 1px, 1px);height: 1px;margin: -1px;overflow: hidden;padding: 0;position: absolute;width: 1px;}#sk-container-id-12 div.sk-estimator {font-family: monospace;background-color: #f0f8ff;border: 1px dotted black;border-radius: 0.25em;box-sizing: border-box;margin-bottom: 0.5em;}#sk-container-id-12 div.sk-estimator:hover {background-color: #d4ebff;}#sk-container-id-12 div.sk-parallel-item::after {content: \"\";width: 100%;border-bottom: 1px solid gray;flex-grow: 1;}#sk-container-id-12 div.sk-label:hover label.sk-toggleable__label {background-color: #d4ebff;}#sk-container-id-12 div.sk-serial::before {content: \"\";position: absolute;border-left: 1px solid gray;box-sizing: border-box;top: 0;bottom: 0;left: 50%;z-index: 0;}#sk-container-id-12 div.sk-serial {display: flex;flex-direction: column;align-items: center;background-color: white;padding-right: 0.2em;padding-left: 0.2em;position: relative;}#sk-container-id-12 div.sk-item {position: relative;z-index: 1;}#sk-container-id-12 div.sk-parallel {display: flex;align-items: stretch;justify-content: center;background-color: white;position: relative;}#sk-container-id-12 div.sk-item::before, #sk-container-id-12 div.sk-parallel-item::before {content: \"\";position: absolute;border-left: 1px solid gray;box-sizing: border-box;top: 0;bottom: 0;left: 50%;z-index: -1;}#sk-container-id-12 div.sk-parallel-item {display: flex;flex-direction: column;z-index: 1;position: relative;background-color: white;}#sk-container-id-12 div.sk-parallel-item:first-child::after {align-self: flex-end;width: 50%;}#sk-container-id-12 div.sk-parallel-item:last-child::after {align-self: flex-start;width: 50%;}#sk-container-id-12 div.sk-parallel-item:only-child::after {width: 0;}#sk-container-id-12 div.sk-dashed-wrapped {border: 1px dashed gray;margin: 0 0.4em 0.5em 0.4em;box-sizing: border-box;padding-bottom: 0.4em;background-color: white;}#sk-container-id-12 div.sk-label label {font-family: monospace;font-weight: bold;display: inline-block;line-height: 1.2em;}#sk-container-id-12 div.sk-label-container {text-align: center;}#sk-container-id-12 div.sk-container {/* jupyter's `normalize.less` sets `[hidden] { display: none; }` but bootstrap.min.css set `[hidden] { display: none !important; }` so we also need the `!important` here to be able to override the default hidden behavior on the sphinx rendered scikit-learn.org. See: https://github.com/scikit-learn/scikit-learn/issues/21755 */display: inline-block !important;position: relative;}#sk-container-id-12 div.sk-text-repr-fallback {display: none;}</style><div id=\"sk-container-id-12\" class=\"sk-top-container\"><div class=\"sk-text-repr-fallback\"><pre>VotingRegressor(estimators=[(&#x27;Lasso&#x27;, LassoCV(random_state=0)),\n",
       "                            (&#x27;ElasticNet&#x27;, ElasticNetCV(random_state=0)),\n",
       "                            (&#x27;Ridge&#x27;, RidgeCV()),\n",
       "                            (&#x27;BayesianRidge&#x27;, BayesianRidge())])</pre><b>In a Jupyter environment, please rerun this cell to show the HTML representation or trust the notebook. <br />On GitHub, the HTML representation is unable to render, please try loading this page with nbviewer.org.</b></div><div class=\"sk-container\" hidden><div class=\"sk-item sk-dashed-wrapped\"><div class=\"sk-label-container\"><div class=\"sk-label sk-toggleable\"><input class=\"sk-toggleable__control sk-hidden--visually\" id=\"sk-estimator-id-38\" type=\"checkbox\" ><label for=\"sk-estimator-id-38\" class=\"sk-toggleable__label sk-toggleable__label-arrow\">VotingRegressor</label><div class=\"sk-toggleable__content\"><pre>VotingRegressor(estimators=[(&#x27;Lasso&#x27;, LassoCV(random_state=0)),\n",
       "                            (&#x27;ElasticNet&#x27;, ElasticNetCV(random_state=0)),\n",
       "                            (&#x27;Ridge&#x27;, RidgeCV()),\n",
       "                            (&#x27;BayesianRidge&#x27;, BayesianRidge())])</pre></div></div></div><div class=\"sk-parallel\"><div class=\"sk-parallel-item\"><div class=\"sk-item\"><div class=\"sk-label-container\"><div class=\"sk-label sk-toggleable\"><label>Lasso</label></div></div><div class=\"sk-serial\"><div class=\"sk-item\"><div class=\"sk-estimator sk-toggleable\"><input class=\"sk-toggleable__control sk-hidden--visually\" id=\"sk-estimator-id-39\" type=\"checkbox\" ><label for=\"sk-estimator-id-39\" class=\"sk-toggleable__label sk-toggleable__label-arrow\">LassoCV</label><div class=\"sk-toggleable__content\"><pre>LassoCV(random_state=0)</pre></div></div></div></div></div></div><div class=\"sk-parallel-item\"><div class=\"sk-item\"><div class=\"sk-label-container\"><div class=\"sk-label sk-toggleable\"><label>ElasticNet</label></div></div><div class=\"sk-serial\"><div class=\"sk-item\"><div class=\"sk-estimator sk-toggleable\"><input class=\"sk-toggleable__control sk-hidden--visually\" id=\"sk-estimator-id-40\" type=\"checkbox\" ><label for=\"sk-estimator-id-40\" class=\"sk-toggleable__label sk-toggleable__label-arrow\">ElasticNetCV</label><div class=\"sk-toggleable__content\"><pre>ElasticNetCV(random_state=0)</pre></div></div></div></div></div></div><div class=\"sk-parallel-item\"><div class=\"sk-item\"><div class=\"sk-label-container\"><div class=\"sk-label sk-toggleable\"><label>Ridge</label></div></div><div class=\"sk-serial\"><div class=\"sk-item\"><div class=\"sk-estimator sk-toggleable\"><input class=\"sk-toggleable__control sk-hidden--visually\" id=\"sk-estimator-id-41\" type=\"checkbox\" ><label for=\"sk-estimator-id-41\" class=\"sk-toggleable__label sk-toggleable__label-arrow\">RidgeCV</label><div class=\"sk-toggleable__content\"><pre>RidgeCV()</pre></div></div></div></div></div></div><div class=\"sk-parallel-item\"><div class=\"sk-item\"><div class=\"sk-label-container\"><div class=\"sk-label sk-toggleable\"><label>BayesianRidge</label></div></div><div class=\"sk-serial\"><div class=\"sk-item\"><div class=\"sk-estimator sk-toggleable\"><input class=\"sk-toggleable__control sk-hidden--visually\" id=\"sk-estimator-id-42\" type=\"checkbox\" ><label for=\"sk-estimator-id-42\" class=\"sk-toggleable__label sk-toggleable__label-arrow\">BayesianRidge</label><div class=\"sk-toggleable__content\"><pre>BayesianRidge()</pre></div></div></div></div></div></div></div></div></div></div>"
      ],
      "text/plain": [
       "VotingRegressor(estimators=[('Lasso', LassoCV(random_state=0)),\n",
       "                            ('ElasticNet', ElasticNetCV(random_state=0)),\n",
       "                            ('Ridge', RidgeCV()),\n",
       "                            ('BayesianRidge', BayesianRidge())])"
      ]
     },
     "execution_count": 225,
     "metadata": {},
     "output_type": "execute_result"
    }
   ],
   "source": [
    "#initialize and fit models\n",
    "model1 = GradientBoostingRegressor(random_state=0)\n",
    "model1.fit(X_train, y_train)\n",
    "'''\n",
    "model2 = LinearRegression()\n",
    "model2.fit(X_train, y_train)\n",
    "'''\n",
    "model3 = RandomForestRegressor(random_state=0)\n",
    "model3.fit(X_train, y_train)\n",
    "\n",
    "model4 = AdaBoostRegressor(random_state=0)\n",
    "model4.fit(X_train, y_train)\n",
    "\n",
    "model5 = DecisionTreeRegressor(random_state=0)\n",
    "model5.fit(X_train, y_train)\n",
    "\n",
    "model6 = BayesianRidge()\n",
    "model6.fit(X_train, y_train)\n",
    "\n",
    "model7 = Ridge(random_state=0)\n",
    "model7.fit(X_train, y_train)\n",
    "\n",
    "model8 = RidgeCV()\n",
    "model8.fit(X_train, y_train)\n",
    "\n",
    "model9 = ElasticNet(random_state=0)\n",
    "model9.fit(X_train, y_train)\n",
    "\n",
    "model10 = ElasticNetCV(random_state=0)\n",
    "model10.fit(X_train, y_train)\n",
    "\n",
    "model11 = Lasso(random_state=0)\n",
    "model11.fit(X_train, y_train)\n",
    "\n",
    "model12 = LassoCV(random_state=0)\n",
    "model12.fit(X_train, y_train)\n",
    "\n",
    "model13 = VotingRegressor(estimators=[('Lasso', model12), ('ElasticNet', model10), ('Ridge', model8), ('BayesianRidge', model6)])\n",
    "model13.fit(X_train, y_train)"
   ]
  },
  {
   "cell_type": "code",
   "execution_count": 226,
   "id": "1f3beba8",
   "metadata": {},
   "outputs": [
    {
     "name": "stdout",
     "output_type": "stream",
     "text": [
      "Model 1 - Gradient Boosting Regressor\n",
      "Coefficient of determination -  0.6428212403389172\n",
      "Pearson R -  PearsonRResult(statistic=0.8165293257293859, pvalue=9.14994714992711e-28)\n",
      "Mean absolute error -  6.268488114623359\n",
      "Root mean square error -  73.12693726466588\n",
      "Std of predictions -  8.539285779234369\n",
      "\n",
      "Model 3 - Random Forest Regressor\n",
      "Coefficient of determination -  0.650620959129258\n",
      "Pearson R -  PearsonRResult(statistic=0.8131866381403478, pvalue=2.2228379573407677e-27)\n",
      "Mean absolute error -  5.871171171171172\n",
      "Root mean square error -  71.53006306306305\n",
      "Std of predictions -  8.420525586235442\n",
      "\n",
      "Model 4 - AdaBoost Forest Regressor\n",
      "Coefficient of determination -  0.5516118891650579\n",
      "Pearson R -  PearsonRResult(statistic=0.8045995752944524, pvalue=2.0078956163416556e-26)\n",
      "Mean absolute error -  7.559338510879893\n",
      "Root mean square error -  91.800669452914\n",
      "Std of predictions -  9.422837211719665\n",
      "\n",
      "Model 5 - Decision Tree Regressor\n",
      "Coefficient of determination -  0.4694961978769001\n",
      "Pearson R -  PearsonRResult(statistic=0.7110794957438972, pvalue=2.25015506572478e-18)\n",
      "Mean absolute error -  7.243243243243243\n",
      "Root mean square error -  108.61261261261261\n",
      "Std of predictions -  10.274141833888377\n",
      "\n",
      "Model 6 - Bayesian Ridge Linear Regressor\n",
      "Coefficient of determination -  0.7226350529826111\n",
      "Pearson R -  PearsonRResult(statistic=0.865379965298203, pvalue=1.7259107268909547e-34)\n",
      "Mean absolute error -  5.6422386726080545\n",
      "Root mean square error -  56.786268867733966\n",
      "Std of predictions -  7.531857405639412\n",
      "\n",
      "Model 7 - Ridge Linear Regressor\n",
      "Coefficient of determination -  0.7100599779227204\n",
      "Pearson R -  PearsonRResult(statistic=0.8457752516701471, pvalue=1.638983775319044e-31)\n",
      "Mean absolute error -  5.778476996935083\n",
      "Root mean square error -  59.36082488521847\n",
      "Std of predictions -  7.6662171579730565\n",
      "\n",
      "Model 8 - RidgeCV Linear Regressor\n",
      "Coefficient of determination -  0.740312895702639\n",
      "Pearson R -  PearsonRResult(statistic=0.8740624118226898, pvalue=5.8168280247777636e-36)\n",
      "Mean absolute error -  5.478118725627567\n",
      "Root mean square error -  53.16699851473552\n",
      "Std of predictions -  7.282933893581416\n",
      "\n",
      "Model 9 - ElasticNet Linear Regressor\n",
      "Coefficient of determination -  0.6493421469167124\n",
      "Pearson R -  PearsonRResult(statistic=0.8214577794527588, pvalue=2.3905715128650957e-28)\n",
      "Mean absolute error -  6.398567554476071\n",
      "Root mean square error -  71.79188048056244\n",
      "Std of predictions -  8.471109241093835\n",
      "\n",
      "Model 10 - ElasticNetCV Linear Regressor\n",
      "Coefficient of determination -  0.7063206902586894\n",
      "Pearson R -  PearsonRResult(statistic=0.8565480230095524, pvalue=4.2959921503693216e-33)\n",
      "Mean absolute error -  5.751739595827403\n",
      "Root mean square error -  60.12638735786268\n",
      "Std of predictions -  7.752978408366683\n",
      "\n",
      "Model 11 - Lasso Linear Regressor\n",
      "Coefficient of determination -  0.6441442262317545\n",
      "Pearson R -  PearsonRResult(statistic=0.8182002635607515, pvalue=5.831301301318206e-28)\n",
      "Mean absolute error -  6.4561698110679675\n",
      "Root mean square error -  72.85607595566937\n",
      "Std of predictions -  8.533336097448858\n",
      "\n",
      "Model 12 - LassoCV Linear Regressor\n",
      "Coefficient of determination -  0.697511493206425\n",
      "Pearson R -  PearsonRResult(statistic=0.8511496947096112, pvalue=2.7616785427790185e-32)\n",
      "Mean absolute error -  5.820935747899325\n",
      "Root mean square error -  61.92993693288296\n",
      "Std of predictions -  7.8683325422586865\n",
      "\n",
      "Model 13 - Voting Regressor\n",
      "Coefficient of determination -  0.7208249198110181\n",
      "Pearson R -  PearsonRResult(statistic=0.8653944174648429, pvalue=1.7165382729151794e-34)\n",
      "Mean absolute error -  5.615939780134549\n",
      "Root mean square error -  57.15686619834055\n",
      "Std of predictions -  7.557113330084625\n",
      "\n"
     ]
    }
   ],
   "source": [
    "#output some actual model performance scores\n",
    "print('Model 1 - Gradient Boosting Regressor')\n",
    "print('Coefficient of determination - ', model1.score(X_test, y_test))\n",
    "print('Pearson R - ', pearsonr(y_test,model1.predict(X_test)))\n",
    "print('Mean absolute error - ', mean_absolute_error(y_test,model1.predict(X_test)))\n",
    "print('Root mean square error - ', mean_squared_error(y_test, model1.predict(X_test)))\n",
    "print('Std of predictions - ', np.std(model1.predict(X_test)-y_test))\n",
    "print('')\n",
    "'''\n",
    "print('Model 2 - Linear Regressor')\n",
    "print('Coefficient of determination - ', model2.score(X_test, y_test))\n",
    "print('Pearson R - ', pearsonr(y_test,model2.predict(X_test)))\n",
    "'''\n",
    "print('Model 3 - Random Forest Regressor')\n",
    "print('Coefficient of determination - ', model3.score(X_test, y_test))\n",
    "print('Pearson R - ', pearsonr(y_test,model3.predict(X_test)))\n",
    "print('Mean absolute error - ', mean_absolute_error(y_test,model3.predict(X_test)))\n",
    "print('Root mean square error - ', mean_squared_error(y_test, model3.predict(X_test)))\n",
    "print('Std of predictions - ', np.std(model3.predict(X_test)-y_test))\n",
    "print('')\n",
    "\n",
    "print('Model 4 - AdaBoost Forest Regressor')\n",
    "print('Coefficient of determination - ', model4.score(X_test, y_test))\n",
    "print('Pearson R - ', pearsonr(y_test,model4.predict(X_test)))\n",
    "print('Mean absolute error - ', mean_absolute_error(y_test,model4.predict(X_test)))\n",
    "print('Root mean square error - ', mean_squared_error(y_test, model4.predict(X_test)))\n",
    "print('Std of predictions - ', np.std(model4.predict(X_test)-y_test))\n",
    "print('')\n",
    "\n",
    "print('Model 5 - Decision Tree Regressor')\n",
    "print('Coefficient of determination - ', model5.score(X_test, y_test))\n",
    "print('Pearson R - ', pearsonr(y_test,model5.predict(X_test)))\n",
    "print('Mean absolute error - ', mean_absolute_error(y_test,model5.predict(X_test)))\n",
    "print('Root mean square error - ', mean_squared_error(y_test, model5.predict(X_test)))\n",
    "print('Std of predictions - ', np.std(model5.predict(X_test)-y_test))\n",
    "print('')\n",
    "\n",
    "print('Model 6 - Bayesian Ridge Linear Regressor')\n",
    "print('Coefficient of determination - ', model6.score(X_test, y_test))\n",
    "print('Pearson R - ', pearsonr(y_test,model6.predict(X_test)))\n",
    "print('Mean absolute error - ', mean_absolute_error(y_test,model6.predict(X_test)))\n",
    "print('Root mean square error - ', mean_squared_error(y_test, model6.predict(X_test)))\n",
    "print('Std of predictions - ', np.std(model6.predict(X_test)-y_test))\n",
    "print('')\n",
    "\n",
    "print('Model 7 - Ridge Linear Regressor')\n",
    "print('Coefficient of determination - ', model7.score(X_test, y_test))\n",
    "print('Pearson R - ', pearsonr(y_test,model7.predict(X_test)))\n",
    "print('Mean absolute error - ', mean_absolute_error(y_test,model7.predict(X_test)))\n",
    "print('Root mean square error - ', mean_squared_error(y_test, model7.predict(X_test)))\n",
    "print('Std of predictions - ', np.std(model7.predict(X_test)-y_test))\n",
    "print('')\n",
    "\n",
    "print('Model 8 - RidgeCV Linear Regressor')\n",
    "print('Coefficient of determination - ', model8.score(X_test, y_test))\n",
    "print('Pearson R - ', pearsonr(y_test,model8.predict(X_test)))\n",
    "print('Mean absolute error - ', mean_absolute_error(y_test,model8.predict(X_test)))\n",
    "print('Root mean square error - ', mean_squared_error(y_test, model8.predict(X_test)))\n",
    "print('Std of predictions - ', np.std(model8.predict(X_test)-y_test))\n",
    "print('')\n",
    "\n",
    "print('Model 9 - ElasticNet Linear Regressor')\n",
    "print('Coefficient of determination - ', model9.score(X_test, y_test))\n",
    "print('Pearson R - ', pearsonr(y_test,model9.predict(X_test)))\n",
    "print('Mean absolute error - ', mean_absolute_error(y_test,model9.predict(X_test)))\n",
    "print('Root mean square error - ', mean_squared_error(y_test, model9.predict(X_test)))\n",
    "print('Std of predictions - ', np.std(model9.predict(X_test)-y_test))\n",
    "print('')\n",
    "\n",
    "print('Model 10 - ElasticNetCV Linear Regressor')\n",
    "print('Coefficient of determination - ', model10.score(X_test, y_test))\n",
    "print('Pearson R - ', pearsonr(y_test,model10.predict(X_test)))\n",
    "print('Mean absolute error - ', mean_absolute_error(y_test,model10.predict(X_test)))\n",
    "print('Root mean square error - ', mean_squared_error(y_test, model10.predict(X_test)))\n",
    "print('Std of predictions - ', np.std(model10.predict(X_test)-y_test))\n",
    "print('')\n",
    "\n",
    "print('Model 11 - Lasso Linear Regressor')\n",
    "print('Coefficient of determination - ', model11.score(X_test, y_test))\n",
    "print('Pearson R - ', pearsonr(y_test,model11.predict(X_test)))\n",
    "print('Mean absolute error - ', mean_absolute_error(y_test,model11.predict(X_test)))\n",
    "print('Root mean square error - ', mean_squared_error(y_test, model11.predict(X_test)))\n",
    "print('Std of predictions - ', np.std(model11.predict(X_test)-y_test))\n",
    "print('')\n",
    "\n",
    "print('Model 12 - LassoCV Linear Regressor')\n",
    "print('Coefficient of determination - ', model12.score(X_test, y_test))\n",
    "print('Pearson R - ', pearsonr(y_test,model12.predict(X_test)))\n",
    "print('Mean absolute error - ', mean_absolute_error(y_test,model12.predict(X_test)))\n",
    "print('Root mean square error - ', mean_squared_error(y_test, model12.predict(X_test)))\n",
    "print('Std of predictions - ', np.std(model12.predict(X_test)-y_test))\n",
    "print('')\n",
    "\n",
    "print('Model 13 - Voting Regressor')\n",
    "print('Coefficient of determination - ', model13.score(X_test, y_test))\n",
    "print('Pearson R - ', pearsonr(y_test,model13.predict(X_test)))\n",
    "print('Mean absolute error - ', mean_absolute_error(y_test,model13.predict(X_test)))\n",
    "print('Root mean square error - ', mean_squared_error(y_test, model13.predict(X_test)))\n",
    "print('Std of predictions - ', np.std(model13.predict(X_test)-y_test))\n",
    "print('')"
   ]
  },
  {
   "cell_type": "code",
   "execution_count": 227,
   "id": "05e7a082",
   "metadata": {},
   "outputs": [],
   "source": [
    "#investigate models\n",
    "#print(pd.DataFrame(zip(X.columns, model2.coef_)).to_string()) # check coefficients of linearregressor\n",
    "# linear regressor seems to require scaling to size of output e.g. 0-100"
   ]
  },
  {
   "cell_type": "code",
   "execution_count": 228,
   "id": "fac50049",
   "metadata": {},
   "outputs": [
    {
     "data": {
      "application/vnd.plotly.v1+json": {
       "config": {
        "plotlyServerURL": "https://plot.ly"
       },
       "data": [
        {
         "hovertemplate": "<b>%{hovertext}</b><br><br>Actual Rating=%{x}<br>Predicted Rating=%{y}<extra></extra>",
         "hovertext": [
          "Nioh",
          "Trials Rising",
          "Crypt of the Necrodancer",
          "Marvel's Avengers",
          "The Outer Worlds",
          "Destruction Allstars",
          "Super Mario Odyssey",
          "Unrailed!",
          "Rollerdrome",
          "F1 2012",
          "Tetris Effect",
          "F1 2019",
          "Stellaris",
          "Path of Exile",
          "WRC 9",
          "Astro Bot Rescue Mission",
          "Mario + Rabbids Kingdom Battle",
          "The Legend of Zelda: Tears of the Kingdom",
          "Horizon Zero Dawn",
          "Heavy Rain",
          "Psychonauts 2",
          "Call of Duty Modern Warfare 2",
          "Mario & Sonic at the Olympic Games",
          "Dandy Ace",
          "Crash Bandicoot",
          "Pokemon White",
          "Northgard",
          "Middle Earth: Shadow of War",
          "Killzone Shadow Fall",
          "Fifa 13",
          "Wo Long Fallen Dynasty",
          "Tribes of Midgard",
          "The Ascent",
          "Apotheon",
          "Brain Training",
          "Mario Tennis Aces",
          "Overcooked 2",
          "Star Wars: Knights of the Old Republic",
          "Contrast",
          "Cat Quest II",
          "Forza Motorsport 7",
          "Mario Kart 7",
          "Mini Motorways",
          "F1 2015",
          "Clustertruck",
          "Infamous First Light",
          "Spiritfarer",
          "Uncharted 3 Drake's Deception",
          "Fifa 14",
          "Divinity Original Sin 2",
          "Ultimate Chicken Horse",
          "Red Dead Redemption 2",
          "Tunic",
          "Wargroove",
          "Grand Theft Auto Vice City Stories",
          "The Last of Us Part II",
          "Motorsport Manager",
          "Metroid Fusion",
          "The Simpsons Hit & Run",
          "Assassin's Creed Revelations",
          "Call of Duty Black Ops",
          "Batman Arkham Knight",
          "Football Manager 2008",
          "Gears 5",
          "Surviving Mars",
          "Star Wars Jedi Survivor",
          "Halo 4",
          "Watch Dogs",
          "Concrete Genie",
          "Doom VFR",
          "Super Mario 3D World + Bowser's Fury",
          "Mass Effect",
          "Dicey Dungeons",
          "Hearts of Iron IV",
          "Game of Thrones Telltale",
          "Ys VIII Lacrimosa of Dana",
          "Diablo Immortal",
          "Deathloop",
          "Uncharted Drake's Fortune",
          "Ghostwire Tokyo",
          "F1 2010",
          "F1 2020",
          "Monster Hunter Rise",
          "Transistor",
          "Nier Automata",
          "Torchlight 2",
          "Halo 5: Guardians",
          "Horizon Forbidden West",
          "Super Smash Bros. Brawl",
          "Marvel's Spider-Man Miles Morales",
          "Mass Effect 3",
          "Final Fantasy VII Remake",
          "Warlock - Master of the Arcane",
          "Assassin's Creed Syndicate",
          "The Last of Us",
          "You Suck At Parking",
          "Ori and The Blind Forest",
          "Watch Dogs 2",
          "Prison Architect",
          "Elden Ring",
          "Fifa 07",
          "Hades",
          "Mario & Sonic at the Winter Olympic Games",
          "Two Point Campus",
          "The Witcher 3",
          "Super Mario Galaxy",
          "Trek to Yomi",
          "Fifa Street 2",
          "Celeste",
          "Call of Duty Modern Warfare",
          "CrossfireX"
         ],
         "legendgroup": "",
         "marker": {
          "color": "#636efa",
          "symbol": "circle"
         },
         "mode": "markers",
         "name": "",
         "orientation": "v",
         "showlegend": false,
         "type": "scatter",
         "x": [
          65,
          75,
          73,
          43,
          59,
          54,
          97,
          59,
          79,
          78,
          89,
          83,
          72,
          81,
          74,
          94,
          79,
          100,
          97,
          78,
          89,
          92,
          61,
          54,
          72,
          87,
          74,
          58,
          69,
          78,
          64,
          73,
          64,
          67,
          72,
          65,
          80,
          76,
          43,
          71,
          82,
          85,
          68,
          58,
          68,
          72,
          82,
          91,
          82,
          89,
          73,
          98,
          68,
          69,
          82,
          96,
          69,
          90,
          73,
          83,
          90,
          84,
          86,
          84,
          63,
          87,
          82,
          84,
          79,
          24,
          88,
          90,
          67,
          76,
          48,
          90,
          39,
          82,
          85,
          73,
          79,
          87,
          81,
          86,
          63,
          78,
          84,
          91,
          91,
          89,
          94,
          91,
          61,
          82,
          99,
          62,
          77,
          69,
          74,
          97,
          79,
          98,
          64,
          79,
          70,
          98,
          69,
          64,
          94,
          89,
          40
         ],
         "xaxis": "x",
         "y": [
          78.12246014084917,
          78.35335443162637,
          77.3905670882483,
          56.35220587703475,
          74.16633944603552,
          56.03050045927375,
          92.95037896301778,
          64.74422462992231,
          71.93354096155065,
          80.44151235957099,
          81.09557489768383,
          81.75041354126074,
          76.56290295724739,
          90.75524800975984,
          71.33164583726898,
          86.00564665450395,
          75.75561944146284,
          85.9004106206811,
          92.80029070772343,
          81.24598622646454,
          84.54811203840802,
          89.07722864080199,
          60.26029175294161,
          69.8999554599543,
          70.47678772814663,
          85.2267522638765,
          68.72439966629895,
          71.57303868777399,
          69.53446858309849,
          80.55724385637211,
          70.03594307663843,
          65.24666267928637,
          65.22581464434325,
          69.70166164164743,
          74.40267301937274,
          73.25422428886259,
          73.77399339417696,
          85.93364678283501,
          52.96233087541202,
          70.1882027994792,
          80.7449663534992,
          84.46009845407502,
          71.35243002005211,
          63.73308831164343,
          69.43503587720033,
          70.55499228947247,
          77.63676630209136,
          94.9164750778641,
          78.45472974254449,
          87.05991836245414,
          69.22894733121586,
          86.61501747297632,
          76.01024417353574,
          72.72597343849179,
          79.20263748029697,
          87.62813385965092,
          72.91253628798893,
          87.31559449709414,
          71.82224771797667,
          80.64672354137156,
          88.20414981278111,
          81.18640443801121,
          82.94554439502792,
          81.37411116134558,
          66.37017497252532,
          85.77977574101294,
          80.81718472298053,
          75.72992883622942,
          73.94782516733267,
          58.2960109796511,
          83.75800487922425,
          86.66686345332005,
          72.51567953613085,
          74.89211758733245,
          57.1782094338306,
          81.01706321969925,
          53.027009667831294,
          75.77376335032284,
          90.33243281294858,
          68.56256273351846,
          80.82446423801571,
          83.20538199457599,
          77.48968370019657,
          80.60566944845687,
          82.5188103646002,
          84.98446261254662,
          77.60642555699201,
          92.08359228217978,
          90.6722363136222,
          82.56730472541688,
          90.75916514031667,
          83.38162956727831,
          63.67478075881934,
          76.09310733527343,
          98.55285533543747,
          67.93530548098988,
          84.05078674971685,
          77.37670732438164,
          77.24623705952479,
          87.2368724488914,
          79.18724362802004,
          89.15842835017122,
          65.78564235192994,
          70.81160620855178,
          82.98724211516071,
          95.08775439234455,
          61.63560963068437,
          57.60713727600455,
          81.69968271749451,
          87.41240417712982,
          40.01928025700283
         ],
         "yaxis": "y"
        }
       ],
       "layout": {
        "legend": {
         "tracegroupgap": 0
        },
        "margin": {
         "t": 60
        },
        "template": {
         "data": {
          "bar": [
           {
            "error_x": {
             "color": "#2a3f5f"
            },
            "error_y": {
             "color": "#2a3f5f"
            },
            "marker": {
             "line": {
              "color": "#E5ECF6",
              "width": 0.5
             },
             "pattern": {
              "fillmode": "overlay",
              "size": 10,
              "solidity": 0.2
             }
            },
            "type": "bar"
           }
          ],
          "barpolar": [
           {
            "marker": {
             "line": {
              "color": "#E5ECF6",
              "width": 0.5
             },
             "pattern": {
              "fillmode": "overlay",
              "size": 10,
              "solidity": 0.2
             }
            },
            "type": "barpolar"
           }
          ],
          "carpet": [
           {
            "aaxis": {
             "endlinecolor": "#2a3f5f",
             "gridcolor": "white",
             "linecolor": "white",
             "minorgridcolor": "white",
             "startlinecolor": "#2a3f5f"
            },
            "baxis": {
             "endlinecolor": "#2a3f5f",
             "gridcolor": "white",
             "linecolor": "white",
             "minorgridcolor": "white",
             "startlinecolor": "#2a3f5f"
            },
            "type": "carpet"
           }
          ],
          "choropleth": [
           {
            "colorbar": {
             "outlinewidth": 0,
             "ticks": ""
            },
            "type": "choropleth"
           }
          ],
          "contour": [
           {
            "colorbar": {
             "outlinewidth": 0,
             "ticks": ""
            },
            "colorscale": [
             [
              0,
              "#0d0887"
             ],
             [
              0.1111111111111111,
              "#46039f"
             ],
             [
              0.2222222222222222,
              "#7201a8"
             ],
             [
              0.3333333333333333,
              "#9c179e"
             ],
             [
              0.4444444444444444,
              "#bd3786"
             ],
             [
              0.5555555555555556,
              "#d8576b"
             ],
             [
              0.6666666666666666,
              "#ed7953"
             ],
             [
              0.7777777777777778,
              "#fb9f3a"
             ],
             [
              0.8888888888888888,
              "#fdca26"
             ],
             [
              1,
              "#f0f921"
             ]
            ],
            "type": "contour"
           }
          ],
          "contourcarpet": [
           {
            "colorbar": {
             "outlinewidth": 0,
             "ticks": ""
            },
            "type": "contourcarpet"
           }
          ],
          "heatmap": [
           {
            "colorbar": {
             "outlinewidth": 0,
             "ticks": ""
            },
            "colorscale": [
             [
              0,
              "#0d0887"
             ],
             [
              0.1111111111111111,
              "#46039f"
             ],
             [
              0.2222222222222222,
              "#7201a8"
             ],
             [
              0.3333333333333333,
              "#9c179e"
             ],
             [
              0.4444444444444444,
              "#bd3786"
             ],
             [
              0.5555555555555556,
              "#d8576b"
             ],
             [
              0.6666666666666666,
              "#ed7953"
             ],
             [
              0.7777777777777778,
              "#fb9f3a"
             ],
             [
              0.8888888888888888,
              "#fdca26"
             ],
             [
              1,
              "#f0f921"
             ]
            ],
            "type": "heatmap"
           }
          ],
          "heatmapgl": [
           {
            "colorbar": {
             "outlinewidth": 0,
             "ticks": ""
            },
            "colorscale": [
             [
              0,
              "#0d0887"
             ],
             [
              0.1111111111111111,
              "#46039f"
             ],
             [
              0.2222222222222222,
              "#7201a8"
             ],
             [
              0.3333333333333333,
              "#9c179e"
             ],
             [
              0.4444444444444444,
              "#bd3786"
             ],
             [
              0.5555555555555556,
              "#d8576b"
             ],
             [
              0.6666666666666666,
              "#ed7953"
             ],
             [
              0.7777777777777778,
              "#fb9f3a"
             ],
             [
              0.8888888888888888,
              "#fdca26"
             ],
             [
              1,
              "#f0f921"
             ]
            ],
            "type": "heatmapgl"
           }
          ],
          "histogram": [
           {
            "marker": {
             "pattern": {
              "fillmode": "overlay",
              "size": 10,
              "solidity": 0.2
             }
            },
            "type": "histogram"
           }
          ],
          "histogram2d": [
           {
            "colorbar": {
             "outlinewidth": 0,
             "ticks": ""
            },
            "colorscale": [
             [
              0,
              "#0d0887"
             ],
             [
              0.1111111111111111,
              "#46039f"
             ],
             [
              0.2222222222222222,
              "#7201a8"
             ],
             [
              0.3333333333333333,
              "#9c179e"
             ],
             [
              0.4444444444444444,
              "#bd3786"
             ],
             [
              0.5555555555555556,
              "#d8576b"
             ],
             [
              0.6666666666666666,
              "#ed7953"
             ],
             [
              0.7777777777777778,
              "#fb9f3a"
             ],
             [
              0.8888888888888888,
              "#fdca26"
             ],
             [
              1,
              "#f0f921"
             ]
            ],
            "type": "histogram2d"
           }
          ],
          "histogram2dcontour": [
           {
            "colorbar": {
             "outlinewidth": 0,
             "ticks": ""
            },
            "colorscale": [
             [
              0,
              "#0d0887"
             ],
             [
              0.1111111111111111,
              "#46039f"
             ],
             [
              0.2222222222222222,
              "#7201a8"
             ],
             [
              0.3333333333333333,
              "#9c179e"
             ],
             [
              0.4444444444444444,
              "#bd3786"
             ],
             [
              0.5555555555555556,
              "#d8576b"
             ],
             [
              0.6666666666666666,
              "#ed7953"
             ],
             [
              0.7777777777777778,
              "#fb9f3a"
             ],
             [
              0.8888888888888888,
              "#fdca26"
             ],
             [
              1,
              "#f0f921"
             ]
            ],
            "type": "histogram2dcontour"
           }
          ],
          "mesh3d": [
           {
            "colorbar": {
             "outlinewidth": 0,
             "ticks": ""
            },
            "type": "mesh3d"
           }
          ],
          "parcoords": [
           {
            "line": {
             "colorbar": {
              "outlinewidth": 0,
              "ticks": ""
             }
            },
            "type": "parcoords"
           }
          ],
          "pie": [
           {
            "automargin": true,
            "type": "pie"
           }
          ],
          "scatter": [
           {
            "fillpattern": {
             "fillmode": "overlay",
             "size": 10,
             "solidity": 0.2
            },
            "type": "scatter"
           }
          ],
          "scatter3d": [
           {
            "line": {
             "colorbar": {
              "outlinewidth": 0,
              "ticks": ""
             }
            },
            "marker": {
             "colorbar": {
              "outlinewidth": 0,
              "ticks": ""
             }
            },
            "type": "scatter3d"
           }
          ],
          "scattercarpet": [
           {
            "marker": {
             "colorbar": {
              "outlinewidth": 0,
              "ticks": ""
             }
            },
            "type": "scattercarpet"
           }
          ],
          "scattergeo": [
           {
            "marker": {
             "colorbar": {
              "outlinewidth": 0,
              "ticks": ""
             }
            },
            "type": "scattergeo"
           }
          ],
          "scattergl": [
           {
            "marker": {
             "colorbar": {
              "outlinewidth": 0,
              "ticks": ""
             }
            },
            "type": "scattergl"
           }
          ],
          "scattermapbox": [
           {
            "marker": {
             "colorbar": {
              "outlinewidth": 0,
              "ticks": ""
             }
            },
            "type": "scattermapbox"
           }
          ],
          "scatterpolar": [
           {
            "marker": {
             "colorbar": {
              "outlinewidth": 0,
              "ticks": ""
             }
            },
            "type": "scatterpolar"
           }
          ],
          "scatterpolargl": [
           {
            "marker": {
             "colorbar": {
              "outlinewidth": 0,
              "ticks": ""
             }
            },
            "type": "scatterpolargl"
           }
          ],
          "scatterternary": [
           {
            "marker": {
             "colorbar": {
              "outlinewidth": 0,
              "ticks": ""
             }
            },
            "type": "scatterternary"
           }
          ],
          "surface": [
           {
            "colorbar": {
             "outlinewidth": 0,
             "ticks": ""
            },
            "colorscale": [
             [
              0,
              "#0d0887"
             ],
             [
              0.1111111111111111,
              "#46039f"
             ],
             [
              0.2222222222222222,
              "#7201a8"
             ],
             [
              0.3333333333333333,
              "#9c179e"
             ],
             [
              0.4444444444444444,
              "#bd3786"
             ],
             [
              0.5555555555555556,
              "#d8576b"
             ],
             [
              0.6666666666666666,
              "#ed7953"
             ],
             [
              0.7777777777777778,
              "#fb9f3a"
             ],
             [
              0.8888888888888888,
              "#fdca26"
             ],
             [
              1,
              "#f0f921"
             ]
            ],
            "type": "surface"
           }
          ],
          "table": [
           {
            "cells": {
             "fill": {
              "color": "#EBF0F8"
             },
             "line": {
              "color": "white"
             }
            },
            "header": {
             "fill": {
              "color": "#C8D4E3"
             },
             "line": {
              "color": "white"
             }
            },
            "type": "table"
           }
          ]
         },
         "layout": {
          "annotationdefaults": {
           "arrowcolor": "#2a3f5f",
           "arrowhead": 0,
           "arrowwidth": 1
          },
          "autotypenumbers": "strict",
          "coloraxis": {
           "colorbar": {
            "outlinewidth": 0,
            "ticks": ""
           }
          },
          "colorscale": {
           "diverging": [
            [
             0,
             "#8e0152"
            ],
            [
             0.1,
             "#c51b7d"
            ],
            [
             0.2,
             "#de77ae"
            ],
            [
             0.3,
             "#f1b6da"
            ],
            [
             0.4,
             "#fde0ef"
            ],
            [
             0.5,
             "#f7f7f7"
            ],
            [
             0.6,
             "#e6f5d0"
            ],
            [
             0.7,
             "#b8e186"
            ],
            [
             0.8,
             "#7fbc41"
            ],
            [
             0.9,
             "#4d9221"
            ],
            [
             1,
             "#276419"
            ]
           ],
           "sequential": [
            [
             0,
             "#0d0887"
            ],
            [
             0.1111111111111111,
             "#46039f"
            ],
            [
             0.2222222222222222,
             "#7201a8"
            ],
            [
             0.3333333333333333,
             "#9c179e"
            ],
            [
             0.4444444444444444,
             "#bd3786"
            ],
            [
             0.5555555555555556,
             "#d8576b"
            ],
            [
             0.6666666666666666,
             "#ed7953"
            ],
            [
             0.7777777777777778,
             "#fb9f3a"
            ],
            [
             0.8888888888888888,
             "#fdca26"
            ],
            [
             1,
             "#f0f921"
            ]
           ],
           "sequentialminus": [
            [
             0,
             "#0d0887"
            ],
            [
             0.1111111111111111,
             "#46039f"
            ],
            [
             0.2222222222222222,
             "#7201a8"
            ],
            [
             0.3333333333333333,
             "#9c179e"
            ],
            [
             0.4444444444444444,
             "#bd3786"
            ],
            [
             0.5555555555555556,
             "#d8576b"
            ],
            [
             0.6666666666666666,
             "#ed7953"
            ],
            [
             0.7777777777777778,
             "#fb9f3a"
            ],
            [
             0.8888888888888888,
             "#fdca26"
            ],
            [
             1,
             "#f0f921"
            ]
           ]
          },
          "colorway": [
           "#636efa",
           "#EF553B",
           "#00cc96",
           "#ab63fa",
           "#FFA15A",
           "#19d3f3",
           "#FF6692",
           "#B6E880",
           "#FF97FF",
           "#FECB52"
          ],
          "font": {
           "color": "#2a3f5f"
          },
          "geo": {
           "bgcolor": "white",
           "lakecolor": "white",
           "landcolor": "#E5ECF6",
           "showlakes": true,
           "showland": true,
           "subunitcolor": "white"
          },
          "hoverlabel": {
           "align": "left"
          },
          "hovermode": "closest",
          "mapbox": {
           "style": "light"
          },
          "paper_bgcolor": "white",
          "plot_bgcolor": "#E5ECF6",
          "polar": {
           "angularaxis": {
            "gridcolor": "white",
            "linecolor": "white",
            "ticks": ""
           },
           "bgcolor": "#E5ECF6",
           "radialaxis": {
            "gridcolor": "white",
            "linecolor": "white",
            "ticks": ""
           }
          },
          "scene": {
           "xaxis": {
            "backgroundcolor": "#E5ECF6",
            "gridcolor": "white",
            "gridwidth": 2,
            "linecolor": "white",
            "showbackground": true,
            "ticks": "",
            "zerolinecolor": "white"
           },
           "yaxis": {
            "backgroundcolor": "#E5ECF6",
            "gridcolor": "white",
            "gridwidth": 2,
            "linecolor": "white",
            "showbackground": true,
            "ticks": "",
            "zerolinecolor": "white"
           },
           "zaxis": {
            "backgroundcolor": "#E5ECF6",
            "gridcolor": "white",
            "gridwidth": 2,
            "linecolor": "white",
            "showbackground": true,
            "ticks": "",
            "zerolinecolor": "white"
           }
          },
          "shapedefaults": {
           "line": {
            "color": "#2a3f5f"
           }
          },
          "ternary": {
           "aaxis": {
            "gridcolor": "white",
            "linecolor": "white",
            "ticks": ""
           },
           "baxis": {
            "gridcolor": "white",
            "linecolor": "white",
            "ticks": ""
           },
           "bgcolor": "#E5ECF6",
           "caxis": {
            "gridcolor": "white",
            "linecolor": "white",
            "ticks": ""
           }
          },
          "title": {
           "x": 0.05
          },
          "xaxis": {
           "automargin": true,
           "gridcolor": "white",
           "linecolor": "white",
           "ticks": "",
           "title": {
            "standoff": 15
           },
           "zerolinecolor": "white",
           "zerolinewidth": 2
          },
          "yaxis": {
           "automargin": true,
           "gridcolor": "white",
           "linecolor": "white",
           "ticks": "",
           "title": {
            "standoff": 15
           },
           "zerolinecolor": "white",
           "zerolinewidth": 2
          }
         }
        },
        "xaxis": {
         "anchor": "y",
         "domain": [
          0,
          1
         ],
         "title": {
          "text": "Actual Rating"
         }
        },
        "yaxis": {
         "anchor": "x",
         "domain": [
          0,
          1
         ],
         "title": {
          "text": "Predicted Rating"
         }
        }
       }
      }
     },
     "metadata": {},
     "output_type": "display_data"
    }
   ],
   "source": [
    "# quick plot of test results\n",
    "test_labels = pd.merge(y_test, data['Game'], left_index= True, right_index = True) #join the game name back in to rating scores\n",
    "test_scores = pd.DataFrame({'Game': test_labels['Game'], 'Predicted Rating':model8.predict(X_test), 'Actual Rating': test_labels['Rating']}) #join the test set to the predictions\n",
    "fig = px.scatter(test_scores, x=\"Actual Rating\", y=\"Predicted Rating\", hover_name= 'Game')\n",
    "fig"
   ]
  },
  {
   "cell_type": "code",
   "execution_count": 229,
   "id": "9de76fdb",
   "metadata": {},
   "outputs": [],
   "source": [
    "# save the best model\n",
    "joblib.dump(model8, 'gbrmodel.joblib')\n",
    "#save the data\n",
    "data.to_pickle('../data/processed_data.pkl')\n",
    "X.to_pickle('../data/X.pkl')\n",
    "y.to_pickle('../data/y.pkl')\n",
    "X_test.to_pickle('../data/X_test.pkl')\n",
    "y_test.to_pickle('../data/y_test.pkl')"
   ]
  }
 ],
 "metadata": {
  "kernelspec": {
   "display_name": "Python 3 (ipykernel)",
   "language": "python",
   "name": "python3"
  },
  "language_info": {
   "codemirror_mode": {
    "name": "ipython",
    "version": 3
   },
   "file_extension": ".py",
   "mimetype": "text/x-python",
   "name": "python",
   "nbconvert_exporter": "python",
   "pygments_lexer": "ipython3",
   "version": "3.10.9"
  }
 },
 "nbformat": 4,
 "nbformat_minor": 5
}
