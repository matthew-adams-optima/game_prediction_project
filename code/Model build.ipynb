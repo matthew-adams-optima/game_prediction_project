{
 "cells": [
  {
   "cell_type": "code",
   "execution_count": 381,
   "id": "ad620c6f",
   "metadata": {},
   "outputs": [],
   "source": [
    "# initialisation\n",
    "import pandas as pd\n",
    "import numpy as np\n",
    "import plotly.express as px\n",
    "import itertools\n",
    "from scipy.stats import *\n",
    "from pandasgui import show\n",
    "from sklearn.ensemble import GradientBoostingRegressor\n",
    "from sklearn.linear_model import LinearRegression\n",
    "from sklearn.model_selection import train_test_split"
   ]
  },
  {
   "cell_type": "code",
   "execution_count": 353,
   "id": "0bbc7bb8",
   "metadata": {},
   "outputs": [
    {
     "data": {
      "text/html": [
       "<div>\n",
       "<style scoped>\n",
       "    .dataframe tbody tr th:only-of-type {\n",
       "        vertical-align: middle;\n",
       "    }\n",
       "\n",
       "    .dataframe tbody tr th {\n",
       "        vertical-align: top;\n",
       "    }\n",
       "\n",
       "    .dataframe thead th {\n",
       "        text-align: right;\n",
       "    }\n",
       "</style>\n",
       "<table border=\"1\" class=\"dataframe\">\n",
       "  <thead>\n",
       "    <tr style=\"text-align: right;\">\n",
       "      <th></th>\n",
       "      <th>Game</th>\n",
       "      <th>Rating</th>\n",
       "      <th>Reviewscore</th>\n",
       "      <th>Played on</th>\n",
       "      <th>Launch Year</th>\n",
       "      <th>Play Year</th>\n",
       "      <th>DLC/ Major update played</th>\n",
       "      <th>Publisher</th>\n",
       "      <th>Developer</th>\n",
       "      <th>Franchise</th>\n",
       "      <th>Key words</th>\n",
       "      <th>Remaster Reviewscore</th>\n",
       "      <th>Remaster Release Year</th>\n",
       "      <th>Developer2</th>\n",
       "    </tr>\n",
       "  </thead>\n",
       "  <tbody>\n",
       "    <tr>\n",
       "      <th>0</th>\n",
       "      <td>The Legend of Zelda: Tears of the Kingdom</td>\n",
       "      <td>100</td>\n",
       "      <td>96</td>\n",
       "      <td>Switch</td>\n",
       "      <td>2023</td>\n",
       "      <td>2023</td>\n",
       "      <td>No</td>\n",
       "      <td>Nintendo</td>\n",
       "      <td>Nintendo</td>\n",
       "      <td>The Legend of Zelda</td>\n",
       "      <td>Adventure, open-world, sandbox, exploration, p...</td>\n",
       "      <td>NaN</td>\n",
       "      <td>NaN</td>\n",
       "      <td>NaN</td>\n",
       "    </tr>\n",
       "    <tr>\n",
       "      <th>1</th>\n",
       "      <td>The Legend of Zelda: Breath of the Wild</td>\n",
       "      <td>100</td>\n",
       "      <td>97</td>\n",
       "      <td>Switch</td>\n",
       "      <td>2017</td>\n",
       "      <td>2017</td>\n",
       "      <td>Yes</td>\n",
       "      <td>Nintendo</td>\n",
       "      <td>Nintendo</td>\n",
       "      <td>The Legend of Zelda</td>\n",
       "      <td>Adventure, open-world, sandbox, exploration, p...</td>\n",
       "      <td>NaN</td>\n",
       "      <td>NaN</td>\n",
       "      <td>NaN</td>\n",
       "    </tr>\n",
       "    <tr>\n",
       "      <th>2</th>\n",
       "      <td>God of War (2018)</td>\n",
       "      <td>99</td>\n",
       "      <td>94</td>\n",
       "      <td>PS4</td>\n",
       "      <td>2018</td>\n",
       "      <td>2018</td>\n",
       "      <td>No</td>\n",
       "      <td>Sony</td>\n",
       "      <td>Santa Monica Studio</td>\n",
       "      <td>God of War</td>\n",
       "      <td>Hack and slash, third-person combat, story-driven</td>\n",
       "      <td>NaN</td>\n",
       "      <td>NaN</td>\n",
       "      <td>NaN</td>\n",
       "    </tr>\n",
       "    <tr>\n",
       "      <th>3</th>\n",
       "      <td>The Last of Us</td>\n",
       "      <td>99</td>\n",
       "      <td>95</td>\n",
       "      <td>PS4</td>\n",
       "      <td>2013</td>\n",
       "      <td>2014</td>\n",
       "      <td>Yes</td>\n",
       "      <td>Sony</td>\n",
       "      <td>Naughty Dog</td>\n",
       "      <td>The Last of Us</td>\n",
       "      <td>Horror, TPS, stealth, survival, story-driven, ...</td>\n",
       "      <td>94.0</td>\n",
       "      <td>2014.0</td>\n",
       "      <td>NaN</td>\n",
       "    </tr>\n",
       "    <tr>\n",
       "      <th>4</th>\n",
       "      <td>Metroid Prime</td>\n",
       "      <td>99</td>\n",
       "      <td>97</td>\n",
       "      <td>Switch</td>\n",
       "      <td>2002</td>\n",
       "      <td>2023</td>\n",
       "      <td>No</td>\n",
       "      <td>Nintendo</td>\n",
       "      <td>Retro Studios</td>\n",
       "      <td>Metroid</td>\n",
       "      <td>Metroidvania, FPS, platforming, exploration</td>\n",
       "      <td>94.0</td>\n",
       "      <td>2023.0</td>\n",
       "      <td>NaN</td>\n",
       "    </tr>\n",
       "    <tr>\n",
       "      <th>...</th>\n",
       "      <td>...</td>\n",
       "      <td>...</td>\n",
       "      <td>...</td>\n",
       "      <td>...</td>\n",
       "      <td>...</td>\n",
       "      <td>...</td>\n",
       "      <td>...</td>\n",
       "      <td>...</td>\n",
       "      <td>...</td>\n",
       "      <td>...</td>\n",
       "      <td>...</td>\n",
       "      <td>...</td>\n",
       "      <td>...</td>\n",
       "      <td>...</td>\n",
       "    </tr>\n",
       "    <tr>\n",
       "      <th>433</th>\n",
       "      <td>Fifa 06 Game Boy Advance</td>\n",
       "      <td>44</td>\n",
       "      <td>49</td>\n",
       "      <td>GBA</td>\n",
       "      <td>2005</td>\n",
       "      <td>2005</td>\n",
       "      <td>No</td>\n",
       "      <td>EA</td>\n",
       "      <td>EA sports</td>\n",
       "      <td>Fifa</td>\n",
       "      <td>Sports (football)</td>\n",
       "      <td>NaN</td>\n",
       "      <td>NaN</td>\n",
       "      <td>NaN</td>\n",
       "    </tr>\n",
       "    <tr>\n",
       "      <th>434</th>\n",
       "      <td>Cruis'n Blast</td>\n",
       "      <td>42</td>\n",
       "      <td>73</td>\n",
       "      <td>Switch</td>\n",
       "      <td>2021</td>\n",
       "      <td>2021</td>\n",
       "      <td>No</td>\n",
       "      <td>Indie</td>\n",
       "      <td>Raw Thrills</td>\n",
       "      <td>Cruise'n Blast</td>\n",
       "      <td>Racing (arcade)</td>\n",
       "      <td>NaN</td>\n",
       "      <td>NaN</td>\n",
       "      <td>NaN</td>\n",
       "    </tr>\n",
       "    <tr>\n",
       "      <th>435</th>\n",
       "      <td>Fifa 14 Legacy Edition</td>\n",
       "      <td>38</td>\n",
       "      <td>38</td>\n",
       "      <td>Vita</td>\n",
       "      <td>2013</td>\n",
       "      <td>2013</td>\n",
       "      <td>No</td>\n",
       "      <td>EA</td>\n",
       "      <td>EA Sports</td>\n",
       "      <td>Fifa</td>\n",
       "      <td>Sports (football)</td>\n",
       "      <td>NaN</td>\n",
       "      <td>NaN</td>\n",
       "      <td>NaN</td>\n",
       "    </tr>\n",
       "    <tr>\n",
       "      <th>436</th>\n",
       "      <td>Sunlight</td>\n",
       "      <td>34</td>\n",
       "      <td>78</td>\n",
       "      <td>PC</td>\n",
       "      <td>2021</td>\n",
       "      <td>2023</td>\n",
       "      <td>No</td>\n",
       "      <td>Indie</td>\n",
       "      <td>Krillbite Studio</td>\n",
       "      <td>Sunlight</td>\n",
       "      <td>Adventure</td>\n",
       "      <td>NaN</td>\n",
       "      <td>NaN</td>\n",
       "      <td>NaN</td>\n",
       "    </tr>\n",
       "    <tr>\n",
       "      <th>437</th>\n",
       "      <td>Doom VFR</td>\n",
       "      <td>25</td>\n",
       "      <td>70</td>\n",
       "      <td>PS4</td>\n",
       "      <td>2017</td>\n",
       "      <td>2019</td>\n",
       "      <td>No</td>\n",
       "      <td>Bethesda</td>\n",
       "      <td>id Software</td>\n",
       "      <td>Doom</td>\n",
       "      <td>FPS</td>\n",
       "      <td>NaN</td>\n",
       "      <td>NaN</td>\n",
       "      <td>NaN</td>\n",
       "    </tr>\n",
       "  </tbody>\n",
       "</table>\n",
       "<p>438 rows × 14 columns</p>\n",
       "</div>"
      ],
      "text/plain": [
       "                                          Game  Rating  Reviewscore Played on  \\\n",
       "0    The Legend of Zelda: Tears of the Kingdom     100           96    Switch   \n",
       "1      The Legend of Zelda: Breath of the Wild     100           97    Switch   \n",
       "2                            God of War (2018)      99           94       PS4   \n",
       "3                               The Last of Us      99           95       PS4   \n",
       "4                                Metroid Prime      99           97    Switch   \n",
       "..                                         ...     ...          ...       ...   \n",
       "433                   Fifa 06 Game Boy Advance      44           49       GBA   \n",
       "434                              Cruis'n Blast      42           73    Switch   \n",
       "435                     Fifa 14 Legacy Edition      38           38      Vita   \n",
       "436                                   Sunlight      34           78        PC   \n",
       "437                                   Doom VFR      25           70       PS4   \n",
       "\n",
       "     Launch Year  Play Year DLC/ Major update played Publisher  \\\n",
       "0           2023       2023                       No  Nintendo   \n",
       "1           2017       2017                      Yes  Nintendo   \n",
       "2           2018       2018                       No      Sony   \n",
       "3           2013       2014                      Yes      Sony   \n",
       "4           2002       2023                       No  Nintendo   \n",
       "..           ...        ...                      ...       ...   \n",
       "433         2005       2005                       No        EA   \n",
       "434         2021       2021                       No     Indie   \n",
       "435         2013       2013                       No        EA   \n",
       "436         2021       2023                       No     Indie   \n",
       "437         2017       2019                       No  Bethesda   \n",
       "\n",
       "               Developer            Franchise  \\\n",
       "0               Nintendo  The Legend of Zelda   \n",
       "1               Nintendo  The Legend of Zelda   \n",
       "2    Santa Monica Studio           God of War   \n",
       "3            Naughty Dog       The Last of Us   \n",
       "4          Retro Studios              Metroid   \n",
       "..                   ...                  ...   \n",
       "433            EA sports                 Fifa   \n",
       "434          Raw Thrills       Cruise'n Blast   \n",
       "435            EA Sports                 Fifa   \n",
       "436     Krillbite Studio             Sunlight   \n",
       "437          id Software                 Doom   \n",
       "\n",
       "                                             Key words  Remaster Reviewscore  \\\n",
       "0    Adventure, open-world, sandbox, exploration, p...                   NaN   \n",
       "1    Adventure, open-world, sandbox, exploration, p...                   NaN   \n",
       "2    Hack and slash, third-person combat, story-driven                   NaN   \n",
       "3    Horror, TPS, stealth, survival, story-driven, ...                  94.0   \n",
       "4          Metroidvania, FPS, platforming, exploration                  94.0   \n",
       "..                                                 ...                   ...   \n",
       "433                                  Sports (football)                   NaN   \n",
       "434                                    Racing (arcade)                   NaN   \n",
       "435                                  Sports (football)                   NaN   \n",
       "436                                          Adventure                   NaN   \n",
       "437                                                FPS                   NaN   \n",
       "\n",
       "     Remaster Release Year Developer2  \n",
       "0                      NaN        NaN  \n",
       "1                      NaN        NaN  \n",
       "2                      NaN        NaN  \n",
       "3                   2014.0        NaN  \n",
       "4                   2023.0        NaN  \n",
       "..                     ...        ...  \n",
       "433                    NaN        NaN  \n",
       "434                    NaN        NaN  \n",
       "435                    NaN        NaN  \n",
       "436                    NaN        NaN  \n",
       "437                    NaN        NaN  \n",
       "\n",
       "[438 rows x 14 columns]"
      ]
     },
     "execution_count": 353,
     "metadata": {},
     "output_type": "execute_result"
    }
   ],
   "source": [
    "# load the data\n",
    "raw_data = pd.read_csv('../data/Games Database - Main Page.csv')\n",
    "#show(raw_data)\n",
    "#drop fields we won't be needing\n",
    "raw_data.drop(['Me - Review', 'Percentile', 'Launch Platform(s)', 'Hours Played', 'Completion', 'Year(s) revisited/ continued/ earlier dabbled'], axis = 1, inplace = True)\n",
    "raw_data"
   ]
  },
  {
   "cell_type": "code",
   "execution_count": 354,
   "id": "0726698e",
   "metadata": {
    "scrolled": false
   },
   "outputs": [
    {
     "data": {
      "application/vnd.plotly.v1+json": {
       "config": {
        "plotlyServerURL": "https://plot.ly"
       },
       "data": [
        {
         "hovertemplate": "<b>%{hovertext}</b><br><br>Played on=Switch<br>Reviewscore=%{x}<br>Rating=%{y}<extra></extra>",
         "hovertext": [
          "The Legend of Zelda: Tears of the Kingdom",
          "The Legend of Zelda: Breath of the Wild",
          "Metroid Prime",
          "Super Mario Odyssey",
          "Celeste",
          "Mario Kart 8",
          "Metroid Dread",
          "Super Metroid",
          "Super Smash Bros. Ultimate",
          "Ys VIII Lacrimosa of Dana",
          "Bayonetta 2",
          "Metroid Fusion",
          "Super Mario 3D World + Bowser's Fury",
          "Astral Chain",
          "Animal Crossing New Horizons",
          "Golf Story",
          "Splatoon 3",
          "The Legend of Zelda: Skyward Sword",
          "Mario & Luigi Superstar Saga",
          "Pokemon Legends Arceus",
          "Luigi's Mansion 3",
          "Monster Hunter Rise",
          "Mario + Rabbids Kingdom Battle",
          "Kirby and the Forgotten Land",
          "The Legend of Zelda: A Link to the Past",
          "Xenoblade Chronicles Definitive Edition",
          "Freshly Frosted",
          "Ring Fit Adventure",
          "Gris",
          "Pokemon Let's Go Pikachu",
          "Hot Wheels Unleashed",
          "Pokemon Violet",
          "Wargroove",
          "The Legend of Zelda: Link's Awakening",
          "Hyrule Warriors Age of Calamity",
          "Cat Quest II",
          "Cat Quest",
          "Bayonetta",
          "Mario Golf: Super Rush",
          "Mario Tennis Aces",
          "Grid Autosport",
          "Minecraft Dungeons",
          "Pokemon Sword",
          "Octopath Traveller",
          "Cruis'n Blast"
         ],
         "legendgroup": "Switch",
         "marker": {
          "color": "#636efa",
          "symbol": "circle"
         },
         "mode": "markers",
         "name": "Switch",
         "orientation": "v",
         "showlegend": true,
         "type": "scatter",
         "x": [
          96,
          97,
          97,
          97,
          91,
          88,
          87,
          96,
          93,
          85,
          91,
          92,
          89,
          87,
          90,
          78,
          83,
          93,
          90,
          84,
          86,
          88,
          85,
          84,
          95,
          89,
          91,
          83,
          84,
          81,
          74,
          72,
          83,
          87,
          80,
          76,
          72,
          90,
          71,
          78,
          78,
          72,
          80,
          83,
          73
         ],
         "xaxis": "x",
         "y": [
          100,
          100,
          99,
          97,
          94,
          94,
          93,
          93,
          90,
          90,
          90,
          90,
          89,
          88,
          87,
          85,
          84,
          84,
          84,
          82,
          82,
          81,
          81,
          80,
          80,
          79,
          78,
          78,
          77,
          76,
          75,
          74,
          74,
          73,
          72,
          72,
          71,
          69,
          67,
          66,
          65,
          64,
          63,
          61,
          42
         ],
         "yaxis": "y"
        },
        {
         "hovertemplate": "<b>%{hovertext}</b><br><br>Played on=PS4<br>Reviewscore=%{x}<br>Rating=%{y}<extra></extra>",
         "hovertext": [
          "God of War (2018)",
          "The Last of Us",
          "Red Dead Redemption 2",
          "Horizon Zero Dawn",
          "The Last of Us Part II",
          "Bloodborne",
          "Uncharted 2 Among Thieves",
          "Grand Theft Auto V",
          "Astro Bot Rescue Mission",
          "Uncharted 4 A Thief's End",
          "Driveclub",
          "Ghost of Tsushima",
          "Marvel's Spider-Man",
          "Uncharted The Lost Legacy",
          "Dragon Age Inquisition",
          "Final Fantasy VII Remake",
          "Rayman Legends",
          "God of War 3",
          "Star Wars Jedi Fallen Order",
          "Rocket League",
          "Batman Arkham Asylum",
          "Call of Duty Modern Warfare",
          "Marvel's Spider-Man Miles Morales",
          "Tetris Effect",
          "Crash Bandicoot 2: Cortex Strikes Back",
          "Persona 5",
          "Titanfall 2",
          "Rise of the Tomb Raider ",
          "Assassin's Creed IV Black Flag",
          "Journey",
          "F1 2020",
          "Tales From the Borderlands",
          "Crash Bandicoot 3: Warped",
          "Crash Team Racing Nitro Fueled",
          "Transistor",
          "Uncharted Drake's Fortune",
          "F1 2018",
          "Watch Dogs",
          "Assassin's Creed Unity",
          "Borderlands 3",
          "F1 2017",
          "Batman Arkham Knight",
          "OlliOlli 2: Welcome to Olliwood",
          "Tomb Raider",
          "F1 2019",
          "Assassin's Creed Syndicate",
          "Assassin's Creed Origins",
          "F1 2016",
          "Call of Duty Infinite Warfare",
          "Fifa 14",
          "Call of Duty Black Ops 4",
          "Overwatch",
          "Far Cry 4",
          "inFAMOUS Second Son",
          "Resogun",
          "Apex Legends",
          "Concrete Genie",
          "Overcooked 2",
          "Overcooked",
          "Stardew Valley",
          "Call of Duty Advanced Warfare",
          "Dreams",
          "Gran Turismo Sport",
          "Call of Duty WW2",
          "Trackmania Turbo",
          "Kingdom Hearts 3",
          "Ratchet & Clank",
          "Call of Duty Black Ops III",
          "The Order 1886",
          "Middle Earth Shadow of Mordor",
          "Heavy Rain",
          "Sekiro Shadows Die Twice",
          "Moss PSVR",
          "WipeOut Omega Collection",
          "Battlefield 4",
          "Monster Hunter World",
          "Doom (2016)",
          "Borderlands The Pre-Sequel",
          "Crash Bandicoot 4: Its About Time",
          "Destiny",
          "Infamous First Light",
          "Dirt Rally 2.0",
          "Star Wars Squadrons",
          "Journey to the Savage Planet",
          "Detroit Become Human",
          "Watch Dogs 2",
          "The Crew",
          "Velocity 2X",
          "Crash Bandicoot",
          "Battlefield 1",
          "Apotheon",
          "Assassin's Creed Rogue",
          "Don't Starve: Console Edition",
          "Sportsfriends",
          "Fifa 19",
          "The Witcher 3",
          "Star Wars Battlefront",
          "Assassin's Creed Freedom Cry",
          "Killzone Shadow Fall",
          "Grid (2019)",
          "GreedFall",
          "Cyberpunk 2077",
          "Assassin's Creed Odyssey",
          "Nex Machina",
          "Far Cry Primal",
          "Fall Guys",
          "Final Fantasy XV",
          "The Last Guardian",
          "Dragon Quest Builders",
          "War Thunder",
          "Just Cause 3",
          "Shadow of the Colossus (Remake)",
          "Nier Automata",
          "Project Cars",
          "Doom Eternal",
          "Unrailed!",
          "Middle Earth: Shadow of War",
          "The Crew 2",
          "Need For Speed Heat",
          "F1 2015",
          "DC Universe Online",
          "Dead Nation: Apocalypse Edition",
          "Little Big Planet 3",
          "VR Worlds",
          "Control",
          "Game of Thrones Telltale",
          "Marvel's Avengers",
          "Farming Simulator 2019",
          "Contrast",
          "Doom VFR"
         ],
         "legendgroup": "PS4",
         "marker": {
          "color": "#EF553B",
          "symbol": "circle"
         },
         "mode": "markers",
         "name": "PS4",
         "orientation": "v",
         "showlegend": true,
         "type": "scatter",
         "x": [
          94,
          95,
          97,
          89,
          93,
          92,
          96,
          97,
          90,
          93,
          71,
          85,
          87,
          84,
          89,
          88,
          90,
          92,
          85,
          85,
          92,
          92,
          85,
          89,
          89,
          94,
          87,
          86,
          83,
          92,
          88,
          86,
          91,
          83,
          83,
          88,
          84,
          77,
          70,
          80,
          86,
          87,
          85,
          85,
          86,
          76,
          81,
          82,
          77,
          85,
          85,
          91,
          85,
          80,
          84,
          86,
          77,
          81,
          80,
          89,
          83,
          90,
          75,
          79,
          81,
          85,
          85,
          81,
          63,
          84,
          87,
          90,
          85,
          85,
          85,
          89,
          85,
          75,
          85,
          76,
          73,
          83,
          79,
          76,
          78,
          82,
          61,
          85,
          80,
          87,
          76,
          72,
          76,
          80,
          81,
          92,
          73,
          70,
          73,
          73,
          75,
          76,
          85,
          84,
          76,
          80,
          81,
          81,
          70,
          75,
          73,
          92,
          89,
          75,
          89,
          75,
          79,
          64,
          72,
          65,
          72,
          71,
          79,
          56,
          84,
          69,
          68,
          64,
          59,
          70
         ],
         "xaxis": "x",
         "y": [
          99,
          99,
          98,
          97,
          96,
          96,
          96,
          95,
          94,
          94,
          94,
          93,
          93,
          92,
          92,
          91,
          91,
          91,
          90,
          90,
          90,
          90,
          89,
          89,
          89,
          88,
          88,
          88,
          88,
          88,
          87,
          87,
          87,
          86,
          86,
          86,
          85,
          85,
          85,
          84,
          84,
          84,
          84,
          84,
          83,
          83,
          82,
          82,
          82,
          82,
          81,
          81,
          81,
          81,
          81,
          80,
          80,
          80,
          80,
          80,
          80,
          79,
          79,
          79,
          79,
          78,
          78,
          78,
          78,
          78,
          78,
          77,
          77,
          77,
          77,
          76,
          76,
          76,
          74,
          74,
          74,
          73,
          72,
          72,
          72,
          72,
          72,
          72,
          72,
          71,
          71,
          71,
          71,
          71,
          70,
          70,
          70,
          70,
          70,
          69,
          69,
          68,
          68,
          68,
          67,
          66,
          66,
          65,
          65,
          65,
          64,
          63,
          63,
          63,
          61,
          61,
          60,
          59,
          58,
          58,
          58,
          57,
          56,
          55,
          53,
          50,
          47,
          46,
          45,
          25
         ],
         "yaxis": "y"
        },
        {
         "hovertemplate": "<b>%{hovertext}</b><br><br>Played on=PC<br>Reviewscore=%{x}<br>Rating=%{y}<extra></extra>",
         "hovertext": [
          "Hades",
          "Portal 2",
          "Hollow Knight",
          "Forza Horizon 3",
          "Guild Wars 2",
          "Forza Horizon 5",
          "Forza Horizon 4",
          "Undertale",
          "Halo Combat Evolved",
          "Football Manager 2007",
          "Halo Reach",
          "Psychonauts",
          "Ori and The Will of the Wisps",
          "A Short Hike",
          "Divinity Original Sin 2",
          "Civilization V",
          "Halo 3",
          "Diablo 3",
          "Vampire Survivors",
          "Rogue Legacy 2",
          "Death's Door",
          "Cities Skylines",
          "Devil May Cry 5",
          "Civilization VI",
          "Football Manager 2008",
          "Halo 2",
          "Aces and Adventures",
          "Minecraft",
          "Neon White",
          "Crosscode",
          "Europa Universalis IV",
          "Terraria",
          "Football Manager 2009",
          "Citizen Sleeper",
          "Team Fortress 2",
          "Rollercoaster Tycoon 2",
          "Spiritfarer",
          "Call of Duty Black Ops II",
          "Football Manager 2010",
          "Path of Exile",
          "Football Manager 2013",
          "Ys Seven",
          "Two Point Campus",
          "Final Fantasy X",
          "PlateUp!",
          "Teenage Mutant Ninja Turtles: Shredder's Revenge",
          "F1 2012",
          "Loop Hero",
          "Crypt of the Necrodancer",
          "XCOM: Enemy Unknown",
          "Torchlight 2",
          "Football Manager 2012",
          "Deep Rock Galactic",
          "Warhammer Vermentide 2",
          "Hearts of Iron IV",
          "Ori and The Blind Forest",
          "Football Manager 2014",
          "Diablo 4",
          "Parkitect",
          "Northgard",
          "Pyre",
          "Warframe",
          "Star Wars: Knights of the Old Republic",
          "Ultimate Chicken Horse",
          "Prison Architect",
          "Spec Ops The Line",
          "Torchlight",
          "Dungeon of the Endless",
          "Endless Legend",
          "Rollercoaster Tycoon",
          "Wildermyth",
          "The Riftbreaker",
          "Buck Up and Drive!",
          "Darksiders Genesis",
          "Football Manager 2015",
          "Hyper Light Drifter",
          "Stellaris",
          "Halo 3 ODST",
          "20 Minutes Till Dawn",
          "Warpips",
          "Abzu",
          "TemTem",
          "Age of Empires IV",
          "Golf With Your Friends",
          "Motorsport Manager",
          "Boyfriend Dungeon",
          "Clustertruck",
          "Banished",
          "Mini Motorways",
          "Dicey Dungeons",
          "Surviving Mars",
          "Dragon Quest XI",
          "Factorio",
          "Game Dev Tycoon",
          "Awesomenauts",
          "The Jackbox Party Pack 6",
          "Sea of Thieves",
          "Worms W.M.D",
          "Kingdom New Lands",
          "Darksburg",
          "The Ascent",
          "Back 4 Blood",
          "Big Pharma",
          "You Suck At Parking",
          "Embr",
          "For The King",
          "Human Fall Flat",
          "Civilization Beyond Earth",
          "Warlock - Master of the Arcane",
          "Spacelines from the Far Out",
          "Luna",
          "Democracy 3",
          "Clicker Heroes",
          "Lost Ark",
          "Golfie",
          "Minecraft Legends",
          "Shoppe Keep",
          "Diablo 2 Resurrected",
          "Youtubers Life",
          "F.I.S.T. Forged In Shadow Torch",
          "Sunlight"
         ],
         "legendgroup": "PC",
         "marker": {
          "color": "#00cc96",
          "symbol": "circle"
         },
         "mode": "markers",
         "name": "PC",
         "orientation": "v",
         "showlegend": true,
         "type": "scatter",
         "x": [
          94,
          95,
          90,
          91,
          90,
          92,
          92,
          92,
          97,
          87,
          91,
          87,
          90,
          87,
          93,
          90,
          94,
          88,
          87,
          89,
          88,
          85,
          88,
          88,
          86,
          95,
          84,
          93,
          89,
          86,
          87,
          83,
          83,
          84,
          92,
          74,
          87,
          83,
          87,
          93,
          86,
          79,
          84,
          92,
          80,
          87,
          81,
          84,
          87,
          89,
          88,
          84,
          85,
          83,
          83,
          89,
          85,
          88,
          83,
          79,
          84,
          71,
          94,
          79,
          80,
          76,
          83,
          79,
          82,
          78,
          85,
          80,
          70,
          79,
          80,
          84,
          81,
          83,
          76,
          79,
          80,
          76,
          83,
          69,
          81,
          73,
          76,
          74,
          80,
          82,
          77,
          86,
          70,
          68,
          78,
          74,
          67,
          78,
          73,
          68,
          73,
          76,
          64,
          70,
          67,
          75,
          68,
          81,
          71,
          82,
          62,
          70,
          57,
          82,
          70,
          71,
          57,
          80,
          63,
          80,
          78
         ],
         "xaxis": "x",
         "y": [
          98,
          95,
          94,
          93,
          93,
          92,
          92,
          92,
          92,
          91,
          90,
          90,
          89,
          89,
          89,
          89,
          89,
          88,
          88,
          88,
          88,
          88,
          87,
          87,
          87,
          87,
          86,
          86,
          85,
          85,
          85,
          85,
          85,
          84,
          84,
          84,
          83,
          83,
          83,
          81,
          81,
          81,
          80,
          80,
          79,
          79,
          79,
          78,
          78,
          78,
          78,
          78,
          77,
          77,
          77,
          77,
          77,
          76,
          76,
          76,
          76,
          76,
          76,
          75,
          75,
          75,
          75,
          74,
          74,
          74,
          73,
          73,
          73,
          73,
          73,
          72,
          72,
          72,
          71,
          71,
          71,
          70,
          70,
          70,
          70,
          69,
          69,
          69,
          68,
          68,
          68,
          68,
          68,
          68,
          68,
          67,
          67,
          67,
          67,
          66,
          64,
          63,
          63,
          62,
          62,
          62,
          62,
          62,
          62,
          60,
          60,
          56,
          55,
          54,
          53,
          52,
          52,
          51,
          50,
          49,
          34
         ],
         "yaxis": "y"
        },
        {
         "hovertemplate": "<b>%{hovertext}</b><br><br>Played on=Wii<br>Reviewscore=%{x}<br>Rating=%{y}<extra></extra>",
         "hovertext": [
          "Super Mario Galaxy",
          "Super Mario Galaxy 2",
          "Super Smash Bros. Brawl",
          "Mario Kart Wii",
          "Wii Sports",
          "Mario Strikers Charged Football",
          "Wii Fit",
          "New Super Mario Bros. Wii",
          "F1 2009",
          "Animal Crossing City Folk",
          "Mario & Sonic at the Olympic Games",
          "Mario Party 8"
         ],
         "legendgroup": "Wii",
         "marker": {
          "color": "#ab63fa",
          "symbol": "circle"
         },
         "mode": "markers",
         "name": "Wii",
         "orientation": "v",
         "showlegend": true,
         "type": "scatter",
         "x": [
          97,
          97,
          93,
          82,
          76,
          79,
          80,
          87,
          69,
          73,
          67,
          62
         ],
         "xaxis": "x",
         "y": [
          98,
          97,
          91,
          88,
          75,
          75,
          74,
          73,
          69,
          67,
          63,
          51
         ],
         "yaxis": "y"
        },
        {
         "hovertemplate": "<b>%{hovertext}</b><br><br>Played on=XBS<br>Reviewscore=%{x}<br>Rating=%{y}<extra></extra>",
         "hovertext": [
          "Hi-Fi Rush",
          "Elden Ring",
          "Mass Effect 2",
          "Mass Effect 3",
          "Mass Effect",
          "Psychonauts 2",
          "Gears 5",
          "Dead Cells",
          "Unsighted",
          "Halo 5: Guardians",
          "Monster Sanctuary",
          "Forza Motorsport 7",
          "Gears of War 4",
          "Halo 4",
          "Halo Infinite",
          "Nobody Saves The World",
          "Wild Hearts",
          "Chained Echoes",
          "Streets of Rage 4",
          "A Plague Tale: Innocence",
          "Far Cry 5",
          "Grid Legends",
          "High on Life",
          "Windjammers 2",
          "Trek to Yomi",
          "Curse of the Dead Gods",
          "Tunic",
          "Need for Speed Unbound",
          "Wo Long Fallen Dynasty",
          "A Plague Tale: Requiem",
          "Scarlet Nexus",
          "Dandy Ace",
          "The Outer Worlds",
          "Outer Wilds",
          "CrossfireX"
         ],
         "legendgroup": "XBS",
         "marker": {
          "color": "#FFA15A",
          "symbol": "circle"
         },
         "mode": "markers",
         "name": "XBS",
         "orientation": "v",
         "showlegend": true,
         "type": "scatter",
         "x": [
          89,
          96,
          96,
          93,
          91,
          89,
          85,
          89,
          85,
          84,
          80,
          85,
          84,
          87,
          87,
          80,
          79,
          89,
          84,
          82,
          82,
          75,
          69,
          77,
          72,
          81,
          86,
          75,
          82,
          84,
          79,
          79,
          85,
          86,
          42
         ],
         "xaxis": "x",
         "y": [
          97,
          97,
          95,
          94,
          90,
          89,
          87,
          87,
          86,
          85,
          83,
          82,
          82,
          82,
          81,
          78,
          77,
          77,
          77,
          77,
          76,
          72,
          72,
          71,
          70,
          70,
          69,
          67,
          64,
          64,
          61,
          59,
          59,
          58,
          48
         ],
         "yaxis": "y"
        },
        {
         "hovertemplate": "<b>%{hovertext}</b><br><br>Played on=PS5<br>Reviewscore=%{x}<br>Rating=%{y}<extra></extra>",
         "hovertext": [
          "God of War Ragnarök",
          "Bioshock Infinite",
          "Bioshock",
          "Final Fantasy XVI",
          "Horizon Forbidden West",
          "Demon's Souls (Remake)",
          "Ratchet & Clank: Rift Apart",
          "Astro's Playroom",
          "Star Wars Jedi Survivor",
          "Gran Turismo 7",
          "OlliOlli World",
          "Stray",
          "Guardians of the Galaxy",
          "Returnal",
          "Kena: Bridge of Spirits",
          "Ys IX: Monstrum Nox",
          "Deathloop",
          "Bioshock 2",
          "Dirt 5",
          "Overwatch 2",
          "Risk of Rain 2",
          "Trials Fusion",
          "Immortals Fenyx Rising",
          "Trials Rising",
          "Sackboy: A Big Adventure",
          "Bugsnax",
          "WRC 9",
          "Wreckfest",
          "Cult of the Lamb",
          "Ghostwire Tokyo",
          "Tribes of Midgard",
          "Nioh",
          "Arcadeggedon",
          "Pure Pool",
          "Lego Star Wars The Skywalker Saga",
          "Destruction Allstars",
          "Tchia"
         ],
         "legendgroup": "PS5",
         "marker": {
          "color": "#19d3f3",
          "symbol": "circle"
         },
         "mode": "markers",
         "name": "PS5",
         "orientation": "v",
         "showlegend": true,
         "type": "scatter",
         "x": [
          94,
          94,
          96,
          88,
          88,
          92,
          88,
          84,
          85,
          87,
          86,
          84,
          82,
          86,
          82,
          80,
          88,
          88,
          82,
          77,
          86,
          79,
          79,
          80,
          81,
          75,
          80,
          80,
          84,
          77,
          75,
          88,
          74,
          73,
          82,
          62,
          78
         ],
         "xaxis": "x",
         "y": [
          96,
          95,
          93,
          92,
          91,
          90,
          89,
          88,
          87,
          87,
          87,
          86,
          86,
          84,
          84,
          83,
          82,
          80,
          79,
          77,
          77,
          77,
          76,
          76,
          75,
          75,
          74,
          74,
          73,
          73,
          73,
          65,
          64,
          64,
          63,
          58,
          57
         ],
         "yaxis": "y"
        },
        {
         "hovertemplate": "<b>%{hovertext}</b><br><br>Played on=DS<br>Reviewscore=%{x}<br>Rating=%{y}<extra></extra>",
         "hovertext": [
          "Mario Kart DS",
          "Pokemon SoulSilver",
          "Pokemon White",
          "Pokemon Diamond",
          "Dragon Quest IX",
          "Nintendogs",
          "Brain Training",
          "Pokemon Mystery Dunegon Explorers of Time",
          "Mario & Sonic at the Winter Olympic Games"
         ],
         "legendgroup": "DS",
         "marker": {
          "color": "#FF6692",
          "symbol": "circle"
         },
         "mode": "markers",
         "name": "DS",
         "orientation": "v",
         "showlegend": true,
         "type": "scatter",
         "x": [
          91,
          87,
          87,
          85,
          87,
          83,
          77,
          60,
          72
         ],
         "xaxis": "x",
         "y": [
          93,
          91,
          88,
          85,
          79,
          75,
          73,
          69,
          68
         ],
         "yaxis": "y"
        },
        {
         "hovertemplate": "<b>%{hovertext}</b><br><br>Played on=PS3<br>Reviewscore=%{x}<br>Rating=%{y}<extra></extra>",
         "hovertext": [
          "Assassin's Creed Brotherhood",
          "Call of Duty Modern Warfare 2",
          "Uncharted 3 Drake's Deception",
          "Call of Duty Black Ops",
          "Dragon Age 2",
          "Call of Duty Modern Warfare 3",
          "Dragon Age Origins",
          "Assassin's Creed Revelations",
          "Fifa 11",
          "F1 2011",
          "F1 2010",
          "Need for Speed Hot Pursuit",
          "Skyrim",
          "Burnout Paradise"
         ],
         "legendgroup": "PS3",
         "marker": {
          "color": "#B6E880",
          "symbol": "circle"
         },
         "mode": "markers",
         "name": "PS3",
         "orientation": "v",
         "showlegend": true,
         "type": "scatter",
         "x": [
          90,
          94,
          92,
          88,
          79,
          89,
          91,
          80,
          88,
          84,
          84,
          88,
          94,
          88
         ],
         "xaxis": "x",
         "y": [
          92,
          92,
          91,
          91,
          86,
          85,
          85,
          84,
          83,
          82,
          80,
          75,
          69,
          57
         ],
         "yaxis": "y"
        },
        {
         "hovertemplate": "<b>%{hovertext}</b><br><br>Played on=PS2<br>Reviewscore=%{x}<br>Rating=%{y}<extra></extra>",
         "hovertext": [
          "Grand Theft Auto San Andreas",
          "Lego Star Wars II: The Original Trilogy",
          "Lego Star Wars: The Video Game",
          "Fifa 07",
          "The Simpsons Hit & Run",
          "Fifa Street 2",
          "Crash Bandicoot The Wrath of Cortex"
         ],
         "legendgroup": "PS2",
         "marker": {
          "color": "#FF97FF",
          "symbol": "circle"
         },
         "mode": "markers",
         "name": "PS2",
         "orientation": "v",
         "showlegend": true,
         "type": "scatter",
         "x": [
          95,
          84,
          78,
          82,
          78,
          59,
          66
         ],
         "xaxis": "x",
         "y": [
          91,
          84,
          82,
          81,
          74,
          66,
          66
         ],
         "yaxis": "y"
        },
        {
         "hovertemplate": "<b>%{hovertext}</b><br><br>Played on=3DS<br>Reviewscore=%{x}<br>Rating=%{y}<extra></extra>",
         "hovertext": [
          "The Legend of Zelda: Ocarina of Time",
          "Pokemon Black 2",
          "Mario Kart 7",
          "Pokemon Sun",
          "Pokemon Y",
          "Pokemon Omega Ruby",
          "New Super Mario Bros. 2"
         ],
         "legendgroup": "3DS",
         "marker": {
          "color": "#FECB52",
          "symbol": "circle"
         },
         "mode": "markers",
         "name": "3DS",
         "orientation": "v",
         "showlegend": true,
         "type": "scatter",
         "x": [
          99,
          80,
          85,
          87,
          86,
          83,
          78
         ],
         "xaxis": "x",
         "y": [
          91,
          86,
          86,
          83,
          80,
          78,
          66
         ],
         "yaxis": "y"
        },
        {
         "hovertemplate": "<b>%{hovertext}</b><br><br>Played on=GB<br>Reviewscore=%{x}<br>Rating=%{y}<extra></extra>",
         "hovertext": [
          "Tetris"
         ],
         "legendgroup": "GB",
         "marker": {
          "color": "#636efa",
          "symbol": "circle"
         },
         "mode": "markers",
         "name": "GB",
         "orientation": "v",
         "showlegend": true,
         "type": "scatter",
         "x": [
          90
         ],
         "xaxis": "x",
         "y": [
          90
         ],
         "yaxis": "y"
        },
        {
         "hovertemplate": "<b>%{hovertext}</b><br><br>Played on=PS<br>Reviewscore=%{x}<br>Rating=%{y}<extra></extra>",
         "hovertext": [
          "Gran Turismo 2"
         ],
         "legendgroup": "PS",
         "marker": {
          "color": "#EF553B",
          "symbol": "circle"
         },
         "mode": "markers",
         "name": "PS",
         "orientation": "v",
         "showlegend": true,
         "type": "scatter",
         "x": [
          93
         ],
         "xaxis": "x",
         "y": [
          89
         ],
         "yaxis": "y"
        },
        {
         "hovertemplate": "<b>%{hovertext}</b><br><br>Played on=X360<br>Reviewscore=%{x}<br>Rating=%{y}<extra></extra>",
         "hovertext": [
          "Borderlands 2",
          "Forza 4",
          "Fifa 12",
          "Fifa 13",
          "Castlevania Symphony of the Night",
          "Grand Theft Auto IV"
         ],
         "legendgroup": "X360",
         "marker": {
          "color": "#00cc96",
          "symbol": "circle"
         },
         "mode": "markers",
         "name": "X360",
         "orientation": "v",
         "showlegend": true,
         "type": "scatter",
         "x": [
          89,
          91,
          90,
          90,
          93,
          98
         ],
         "xaxis": "x",
         "y": [
          88,
          88,
          81,
          80,
          74,
          71
         ],
         "yaxis": "y"
        },
        {
         "hovertemplate": "<b>%{hovertext}</b><br><br>Played on=Vita<br>Reviewscore=%{x}<br>Rating=%{y}<extra></extra>",
         "hovertext": [
          "Tearaway",
          "Guacamelee!",
          "Uncharted Golden Abyss",
          "Sonic & All Stars Racing Transformed",
          "Fifa 14 Legacy Edition"
         ],
         "legendgroup": "Vita",
         "marker": {
          "color": "#ab63fa",
          "symbol": "circle"
         },
         "mode": "markers",
         "name": "Vita",
         "orientation": "v",
         "showlegend": true,
         "type": "scatter",
         "x": [
          87,
          83,
          80,
          75,
          38
         ],
         "xaxis": "x",
         "y": [
          85,
          75,
          73,
          67,
          38
         ],
         "yaxis": "y"
        },
        {
         "hovertemplate": "<b>%{hovertext}</b><br><br>Played on=PSP<br>Reviewscore=%{x}<br>Rating=%{y}<extra></extra>",
         "hovertext": [
          "Grand Theft Auto Vice City Stories",
          "2010 FIFA World Cup South Africa"
         ],
         "legendgroup": "PSP",
         "marker": {
          "color": "#FFA15A",
          "symbol": "circle"
         },
         "mode": "markers",
         "name": "PSP",
         "orientation": "v",
         "showlegend": true,
         "type": "scatter",
         "x": [
          86,
          82
         ],
         "xaxis": "x",
         "y": [
          83,
          77
         ],
         "yaxis": "y"
        },
        {
         "hovertemplate": "<b>%{hovertext}</b><br><br>Played on=PC, XB1, XBS, NSW<br>Reviewscore=%{x}<br>Rating=%{y}<extra></extra>",
         "hovertext": [
          "Cassette Beasts"
         ],
         "legendgroup": "PC, XB1, XBS, NSW",
         "marker": {
          "color": "#19d3f3",
          "symbol": "circle"
         },
         "mode": "markers",
         "name": "PC, XB1, XBS, NSW",
         "orientation": "v",
         "showlegend": true,
         "type": "scatter",
         "x": [
          86
         ],
         "xaxis": "x",
         "y": [
          81
         ],
         "yaxis": "y"
        },
        {
         "hovertemplate": "<b>%{hovertext}</b><br><br>Played on=Mobile<br>Reviewscore=%{x}<br>Rating=%{y}<extra></extra>",
         "hovertext": [
          "Golf Peaks",
          "Lyne",
          "Diablo Immortal"
         ],
         "legendgroup": "Mobile",
         "marker": {
          "color": "#FF6692",
          "symbol": "circle"
         },
         "mode": "markers",
         "name": "Mobile",
         "orientation": "v",
         "showlegend": true,
         "type": "scatter",
         "x": [
          75,
          86,
          65
         ],
         "xaxis": "x",
         "y": [
          69,
          69,
          44
         ],
         "yaxis": "y"
        },
        {
         "hovertemplate": "<b>%{hovertext}</b><br><br>Played on=GBA<br>Reviewscore=%{x}<br>Rating=%{y}<extra></extra>",
         "hovertext": [
          "Finding Nemo",
          "Fifa 06 Game Boy Advance"
         ],
         "legendgroup": "GBA",
         "marker": {
          "color": "#B6E880",
          "symbol": "circle"
         },
         "mode": "markers",
         "name": "GBA",
         "orientation": "v",
         "showlegend": true,
         "type": "scatter",
         "x": [
          63,
          49
         ],
         "xaxis": "x",
         "y": [
          56,
          44
         ],
         "yaxis": "y"
        }
       ],
       "layout": {
        "legend": {
         "title": {
          "text": "Played on"
         },
         "tracegroupgap": 0
        },
        "margin": {
         "t": 60
        },
        "template": {
         "data": {
          "bar": [
           {
            "error_x": {
             "color": "#2a3f5f"
            },
            "error_y": {
             "color": "#2a3f5f"
            },
            "marker": {
             "line": {
              "color": "#E5ECF6",
              "width": 0.5
             },
             "pattern": {
              "fillmode": "overlay",
              "size": 10,
              "solidity": 0.2
             }
            },
            "type": "bar"
           }
          ],
          "barpolar": [
           {
            "marker": {
             "line": {
              "color": "#E5ECF6",
              "width": 0.5
             },
             "pattern": {
              "fillmode": "overlay",
              "size": 10,
              "solidity": 0.2
             }
            },
            "type": "barpolar"
           }
          ],
          "carpet": [
           {
            "aaxis": {
             "endlinecolor": "#2a3f5f",
             "gridcolor": "white",
             "linecolor": "white",
             "minorgridcolor": "white",
             "startlinecolor": "#2a3f5f"
            },
            "baxis": {
             "endlinecolor": "#2a3f5f",
             "gridcolor": "white",
             "linecolor": "white",
             "minorgridcolor": "white",
             "startlinecolor": "#2a3f5f"
            },
            "type": "carpet"
           }
          ],
          "choropleth": [
           {
            "colorbar": {
             "outlinewidth": 0,
             "ticks": ""
            },
            "type": "choropleth"
           }
          ],
          "contour": [
           {
            "colorbar": {
             "outlinewidth": 0,
             "ticks": ""
            },
            "colorscale": [
             [
              0,
              "#0d0887"
             ],
             [
              0.1111111111111111,
              "#46039f"
             ],
             [
              0.2222222222222222,
              "#7201a8"
             ],
             [
              0.3333333333333333,
              "#9c179e"
             ],
             [
              0.4444444444444444,
              "#bd3786"
             ],
             [
              0.5555555555555556,
              "#d8576b"
             ],
             [
              0.6666666666666666,
              "#ed7953"
             ],
             [
              0.7777777777777778,
              "#fb9f3a"
             ],
             [
              0.8888888888888888,
              "#fdca26"
             ],
             [
              1,
              "#f0f921"
             ]
            ],
            "type": "contour"
           }
          ],
          "contourcarpet": [
           {
            "colorbar": {
             "outlinewidth": 0,
             "ticks": ""
            },
            "type": "contourcarpet"
           }
          ],
          "heatmap": [
           {
            "colorbar": {
             "outlinewidth": 0,
             "ticks": ""
            },
            "colorscale": [
             [
              0,
              "#0d0887"
             ],
             [
              0.1111111111111111,
              "#46039f"
             ],
             [
              0.2222222222222222,
              "#7201a8"
             ],
             [
              0.3333333333333333,
              "#9c179e"
             ],
             [
              0.4444444444444444,
              "#bd3786"
             ],
             [
              0.5555555555555556,
              "#d8576b"
             ],
             [
              0.6666666666666666,
              "#ed7953"
             ],
             [
              0.7777777777777778,
              "#fb9f3a"
             ],
             [
              0.8888888888888888,
              "#fdca26"
             ],
             [
              1,
              "#f0f921"
             ]
            ],
            "type": "heatmap"
           }
          ],
          "heatmapgl": [
           {
            "colorbar": {
             "outlinewidth": 0,
             "ticks": ""
            },
            "colorscale": [
             [
              0,
              "#0d0887"
             ],
             [
              0.1111111111111111,
              "#46039f"
             ],
             [
              0.2222222222222222,
              "#7201a8"
             ],
             [
              0.3333333333333333,
              "#9c179e"
             ],
             [
              0.4444444444444444,
              "#bd3786"
             ],
             [
              0.5555555555555556,
              "#d8576b"
             ],
             [
              0.6666666666666666,
              "#ed7953"
             ],
             [
              0.7777777777777778,
              "#fb9f3a"
             ],
             [
              0.8888888888888888,
              "#fdca26"
             ],
             [
              1,
              "#f0f921"
             ]
            ],
            "type": "heatmapgl"
           }
          ],
          "histogram": [
           {
            "marker": {
             "pattern": {
              "fillmode": "overlay",
              "size": 10,
              "solidity": 0.2
             }
            },
            "type": "histogram"
           }
          ],
          "histogram2d": [
           {
            "colorbar": {
             "outlinewidth": 0,
             "ticks": ""
            },
            "colorscale": [
             [
              0,
              "#0d0887"
             ],
             [
              0.1111111111111111,
              "#46039f"
             ],
             [
              0.2222222222222222,
              "#7201a8"
             ],
             [
              0.3333333333333333,
              "#9c179e"
             ],
             [
              0.4444444444444444,
              "#bd3786"
             ],
             [
              0.5555555555555556,
              "#d8576b"
             ],
             [
              0.6666666666666666,
              "#ed7953"
             ],
             [
              0.7777777777777778,
              "#fb9f3a"
             ],
             [
              0.8888888888888888,
              "#fdca26"
             ],
             [
              1,
              "#f0f921"
             ]
            ],
            "type": "histogram2d"
           }
          ],
          "histogram2dcontour": [
           {
            "colorbar": {
             "outlinewidth": 0,
             "ticks": ""
            },
            "colorscale": [
             [
              0,
              "#0d0887"
             ],
             [
              0.1111111111111111,
              "#46039f"
             ],
             [
              0.2222222222222222,
              "#7201a8"
             ],
             [
              0.3333333333333333,
              "#9c179e"
             ],
             [
              0.4444444444444444,
              "#bd3786"
             ],
             [
              0.5555555555555556,
              "#d8576b"
             ],
             [
              0.6666666666666666,
              "#ed7953"
             ],
             [
              0.7777777777777778,
              "#fb9f3a"
             ],
             [
              0.8888888888888888,
              "#fdca26"
             ],
             [
              1,
              "#f0f921"
             ]
            ],
            "type": "histogram2dcontour"
           }
          ],
          "mesh3d": [
           {
            "colorbar": {
             "outlinewidth": 0,
             "ticks": ""
            },
            "type": "mesh3d"
           }
          ],
          "parcoords": [
           {
            "line": {
             "colorbar": {
              "outlinewidth": 0,
              "ticks": ""
             }
            },
            "type": "parcoords"
           }
          ],
          "pie": [
           {
            "automargin": true,
            "type": "pie"
           }
          ],
          "scatter": [
           {
            "fillpattern": {
             "fillmode": "overlay",
             "size": 10,
             "solidity": 0.2
            },
            "type": "scatter"
           }
          ],
          "scatter3d": [
           {
            "line": {
             "colorbar": {
              "outlinewidth": 0,
              "ticks": ""
             }
            },
            "marker": {
             "colorbar": {
              "outlinewidth": 0,
              "ticks": ""
             }
            },
            "type": "scatter3d"
           }
          ],
          "scattercarpet": [
           {
            "marker": {
             "colorbar": {
              "outlinewidth": 0,
              "ticks": ""
             }
            },
            "type": "scattercarpet"
           }
          ],
          "scattergeo": [
           {
            "marker": {
             "colorbar": {
              "outlinewidth": 0,
              "ticks": ""
             }
            },
            "type": "scattergeo"
           }
          ],
          "scattergl": [
           {
            "marker": {
             "colorbar": {
              "outlinewidth": 0,
              "ticks": ""
             }
            },
            "type": "scattergl"
           }
          ],
          "scattermapbox": [
           {
            "marker": {
             "colorbar": {
              "outlinewidth": 0,
              "ticks": ""
             }
            },
            "type": "scattermapbox"
           }
          ],
          "scatterpolar": [
           {
            "marker": {
             "colorbar": {
              "outlinewidth": 0,
              "ticks": ""
             }
            },
            "type": "scatterpolar"
           }
          ],
          "scatterpolargl": [
           {
            "marker": {
             "colorbar": {
              "outlinewidth": 0,
              "ticks": ""
             }
            },
            "type": "scatterpolargl"
           }
          ],
          "scatterternary": [
           {
            "marker": {
             "colorbar": {
              "outlinewidth": 0,
              "ticks": ""
             }
            },
            "type": "scatterternary"
           }
          ],
          "surface": [
           {
            "colorbar": {
             "outlinewidth": 0,
             "ticks": ""
            },
            "colorscale": [
             [
              0,
              "#0d0887"
             ],
             [
              0.1111111111111111,
              "#46039f"
             ],
             [
              0.2222222222222222,
              "#7201a8"
             ],
             [
              0.3333333333333333,
              "#9c179e"
             ],
             [
              0.4444444444444444,
              "#bd3786"
             ],
             [
              0.5555555555555556,
              "#d8576b"
             ],
             [
              0.6666666666666666,
              "#ed7953"
             ],
             [
              0.7777777777777778,
              "#fb9f3a"
             ],
             [
              0.8888888888888888,
              "#fdca26"
             ],
             [
              1,
              "#f0f921"
             ]
            ],
            "type": "surface"
           }
          ],
          "table": [
           {
            "cells": {
             "fill": {
              "color": "#EBF0F8"
             },
             "line": {
              "color": "white"
             }
            },
            "header": {
             "fill": {
              "color": "#C8D4E3"
             },
             "line": {
              "color": "white"
             }
            },
            "type": "table"
           }
          ]
         },
         "layout": {
          "annotationdefaults": {
           "arrowcolor": "#2a3f5f",
           "arrowhead": 0,
           "arrowwidth": 1
          },
          "autotypenumbers": "strict",
          "coloraxis": {
           "colorbar": {
            "outlinewidth": 0,
            "ticks": ""
           }
          },
          "colorscale": {
           "diverging": [
            [
             0,
             "#8e0152"
            ],
            [
             0.1,
             "#c51b7d"
            ],
            [
             0.2,
             "#de77ae"
            ],
            [
             0.3,
             "#f1b6da"
            ],
            [
             0.4,
             "#fde0ef"
            ],
            [
             0.5,
             "#f7f7f7"
            ],
            [
             0.6,
             "#e6f5d0"
            ],
            [
             0.7,
             "#b8e186"
            ],
            [
             0.8,
             "#7fbc41"
            ],
            [
             0.9,
             "#4d9221"
            ],
            [
             1,
             "#276419"
            ]
           ],
           "sequential": [
            [
             0,
             "#0d0887"
            ],
            [
             0.1111111111111111,
             "#46039f"
            ],
            [
             0.2222222222222222,
             "#7201a8"
            ],
            [
             0.3333333333333333,
             "#9c179e"
            ],
            [
             0.4444444444444444,
             "#bd3786"
            ],
            [
             0.5555555555555556,
             "#d8576b"
            ],
            [
             0.6666666666666666,
             "#ed7953"
            ],
            [
             0.7777777777777778,
             "#fb9f3a"
            ],
            [
             0.8888888888888888,
             "#fdca26"
            ],
            [
             1,
             "#f0f921"
            ]
           ],
           "sequentialminus": [
            [
             0,
             "#0d0887"
            ],
            [
             0.1111111111111111,
             "#46039f"
            ],
            [
             0.2222222222222222,
             "#7201a8"
            ],
            [
             0.3333333333333333,
             "#9c179e"
            ],
            [
             0.4444444444444444,
             "#bd3786"
            ],
            [
             0.5555555555555556,
             "#d8576b"
            ],
            [
             0.6666666666666666,
             "#ed7953"
            ],
            [
             0.7777777777777778,
             "#fb9f3a"
            ],
            [
             0.8888888888888888,
             "#fdca26"
            ],
            [
             1,
             "#f0f921"
            ]
           ]
          },
          "colorway": [
           "#636efa",
           "#EF553B",
           "#00cc96",
           "#ab63fa",
           "#FFA15A",
           "#19d3f3",
           "#FF6692",
           "#B6E880",
           "#FF97FF",
           "#FECB52"
          ],
          "font": {
           "color": "#2a3f5f"
          },
          "geo": {
           "bgcolor": "white",
           "lakecolor": "white",
           "landcolor": "#E5ECF6",
           "showlakes": true,
           "showland": true,
           "subunitcolor": "white"
          },
          "hoverlabel": {
           "align": "left"
          },
          "hovermode": "closest",
          "mapbox": {
           "style": "light"
          },
          "paper_bgcolor": "white",
          "plot_bgcolor": "#E5ECF6",
          "polar": {
           "angularaxis": {
            "gridcolor": "white",
            "linecolor": "white",
            "ticks": ""
           },
           "bgcolor": "#E5ECF6",
           "radialaxis": {
            "gridcolor": "white",
            "linecolor": "white",
            "ticks": ""
           }
          },
          "scene": {
           "xaxis": {
            "backgroundcolor": "#E5ECF6",
            "gridcolor": "white",
            "gridwidth": 2,
            "linecolor": "white",
            "showbackground": true,
            "ticks": "",
            "zerolinecolor": "white"
           },
           "yaxis": {
            "backgroundcolor": "#E5ECF6",
            "gridcolor": "white",
            "gridwidth": 2,
            "linecolor": "white",
            "showbackground": true,
            "ticks": "",
            "zerolinecolor": "white"
           },
           "zaxis": {
            "backgroundcolor": "#E5ECF6",
            "gridcolor": "white",
            "gridwidth": 2,
            "linecolor": "white",
            "showbackground": true,
            "ticks": "",
            "zerolinecolor": "white"
           }
          },
          "shapedefaults": {
           "line": {
            "color": "#2a3f5f"
           }
          },
          "ternary": {
           "aaxis": {
            "gridcolor": "white",
            "linecolor": "white",
            "ticks": ""
           },
           "baxis": {
            "gridcolor": "white",
            "linecolor": "white",
            "ticks": ""
           },
           "bgcolor": "#E5ECF6",
           "caxis": {
            "gridcolor": "white",
            "linecolor": "white",
            "ticks": ""
           }
          },
          "title": {
           "x": 0.05
          },
          "xaxis": {
           "automargin": true,
           "gridcolor": "white",
           "linecolor": "white",
           "ticks": "",
           "title": {
            "standoff": 15
           },
           "zerolinecolor": "white",
           "zerolinewidth": 2
          },
          "yaxis": {
           "automargin": true,
           "gridcolor": "white",
           "linecolor": "white",
           "ticks": "",
           "title": {
            "standoff": 15
           },
           "zerolinecolor": "white",
           "zerolinewidth": 2
          }
         }
        },
        "xaxis": {
         "anchor": "y",
         "domain": [
          0,
          1
         ],
         "title": {
          "text": "Reviewscore"
         }
        },
        "yaxis": {
         "anchor": "x",
         "domain": [
          0,
          1
         ],
         "title": {
          "text": "Rating"
         }
        }
       }
      }
     },
     "metadata": {},
     "output_type": "display_data"
    }
   ],
   "source": [
    "# a bit of basic plotting\n",
    "fig = px.scatter(raw_data, x=\"Reviewscore\", y=\"Rating\", color=\"Played on\", hover_name=\"Game\")\n",
    "fig"
   ]
  },
  {
   "cell_type": "code",
   "execution_count": 355,
   "id": "adde7c9d",
   "metadata": {},
   "outputs": [],
   "source": [
    "#create set of unique key words from the data frame\n",
    "str_data = raw_data.copy()\n",
    "str_data['Key words'] = str_data['Key words'].apply(lambda x: x.split(',')) #convert each entry in key words to a list\n",
    "lst = str_data['Key words'].to_list() #append all lists together\n",
    "combine = sum(lst, []) #roll the lists into one\n",
    "remove_space = [s.strip(' ') for s in combine] #remove leading and trailing spaces in list items\n",
    "capitalize = [s.upper() for s in remove_space] #convert all characters to upper case\n",
    "kwords = set(capitalize) #remove duplicate list items\n",
    "kwords = list(kwords)\n",
    "\n",
    "# add new columns which track the keywords\n",
    "kw_data = raw_data.copy()\n",
    "kw_data['Key words'] = kw_data['Key words'].str.upper()\n",
    "for i in kwords:\n",
    "    kw_data[i] = kw_data['Key words'].apply(lambda x: 1 if str(i) in x else 0)"
   ]
  },
  {
   "cell_type": "code",
   "execution_count": 356,
   "id": "863fe0e5",
   "metadata": {
    "scrolled": true
   },
   "outputs": [],
   "source": [
    "#create set of unique platforms from the data frame\n",
    "str_data = raw_data.copy()\n",
    "str_data['Played on'] = str_data['Played on'].apply(lambda x: x.split(',')) #convert each entry in key words to a list\n",
    "lst = str_data['Played on'].to_list() #append all lists together\n",
    "combine = sum(lst, []) #roll the lists into one\n",
    "remove_space = [s.strip(' ') for s in combine] #remove leading and trailing spaces in list items\n",
    "capitalize_plats = [s.upper() for s in remove_space] #convert all characters to upper case\n",
    "plats = set(capitalize_plats) #remove duplicate list items\n",
    "plats = list(plats)\n",
    "\n",
    "# add new columns which track the keywords\n",
    "data = kw_data.copy()\n",
    "data['Played on'] = data['Played on'].str.upper()\n",
    "for i in plats:\n",
    "    data[i] = data['Played on'].apply(lambda x: 1 if str(i) in x else 0)"
   ]
  },
  {
   "cell_type": "code",
   "execution_count": 357,
   "id": "67d90c4a",
   "metadata": {},
   "outputs": [],
   "source": [
    "# calculate play - launch field\n",
    "data['Play - launch'] = data['Play Year'] - data['Launch Year']\n",
    "data['Play - launch'].fillna(0, inplace=True)\n",
    "# calculate upgraded played field\n",
    "data.loc[np.isnan(data['Remaster Reviewscore']) == False, 'Remaster played'] = 1\n",
    "data['Remaster played'].fillna(0, inplace=True)\n",
    "# calculate any multiplayer field\n",
    "data['Key words'] = data['Key words'].str.upper()\n",
    "data.loc[data['Key words'].str.contains('MULTIPLAYER') == True, 'Any multiplayer'] = 1\n",
    "data['Any multiplayer'].fillna(0, inplace=True)\n",
    "# calculate any racing field\n",
    "data.loc[data['Key words'].str.contains('RACING') == True, 'Any racing'] = 1\n",
    "data['Any racing'].fillna(0, inplace=True)\n",
    "# calculate any sports field\n",
    "data.loc[data['Key words'].str.contains('SPORTS') == True, 'Any sports'] = 1\n",
    "data['Any sports'].fillna(0, inplace=True)\n",
    "# calculate any simulation field\n",
    "data.loc[data['Key words'].str.contains('SIMULATION') == True, 'Any simulation'] = 1\n",
    "data['Any simulation'].fillna(0, inplace=True)\n",
    "# calculate any strategy field\n",
    "data.loc[data['Key words'].str.contains('STRATEGY') == True, 'Any strategy'] = 1\n",
    "data['Any strategy'].fillna(0, inplace=True)\n"
   ]
  },
  {
   "cell_type": "code",
   "execution_count": 358,
   "id": "3afa91a6",
   "metadata": {},
   "outputs": [],
   "source": [
    "# convert the yes no fields to 1 or 0\n",
    "data['DLC/ Major update played'] = data['DLC/ Major update played'].replace({'Yes': 1, 'No': 0})"
   ]
  },
  {
   "cell_type": "code",
   "execution_count": 359,
   "id": "c0ffadd2",
   "metadata": {},
   "outputs": [],
   "source": [
    "# tidy missing values\n",
    "data['Remaster Reviewscore'].fillna(0, inplace=True)"
   ]
  },
  {
   "cell_type": "code",
   "execution_count": 360,
   "id": "b0c52212",
   "metadata": {},
   "outputs": [
    {
     "data": {
      "text/html": [
       "<div>\n",
       "<style scoped>\n",
       "    .dataframe tbody tr th:only-of-type {\n",
       "        vertical-align: middle;\n",
       "    }\n",
       "\n",
       "    .dataframe tbody tr th {\n",
       "        vertical-align: top;\n",
       "    }\n",
       "\n",
       "    .dataframe thead th {\n",
       "        text-align: right;\n",
       "    }\n",
       "</style>\n",
       "<table border=\"1\" class=\"dataframe\">\n",
       "  <thead>\n",
       "    <tr style=\"text-align: right;\">\n",
       "      <th></th>\n",
       "      <th>Game</th>\n",
       "      <th>Rating</th>\n",
       "      <th>Reviewscore</th>\n",
       "      <th>Played on</th>\n",
       "      <th>Launch Year</th>\n",
       "      <th>Play Year</th>\n",
       "      <th>DLC/ Major update played</th>\n",
       "      <th>Publisher</th>\n",
       "      <th>Developer</th>\n",
       "      <th>Franchise</th>\n",
       "      <th>...</th>\n",
       "      <th>XB1</th>\n",
       "      <th>PS5</th>\n",
       "      <th>PS3</th>\n",
       "      <th>Play - launch</th>\n",
       "      <th>Remaster played</th>\n",
       "      <th>Any multiplayer</th>\n",
       "      <th>Any racing</th>\n",
       "      <th>Any sports</th>\n",
       "      <th>Any simulation</th>\n",
       "      <th>Any strategy</th>\n",
       "    </tr>\n",
       "  </thead>\n",
       "  <tbody>\n",
       "    <tr>\n",
       "      <th>0</th>\n",
       "      <td>The Legend of Zelda: Tears of the Kingdom</td>\n",
       "      <td>100</td>\n",
       "      <td>96</td>\n",
       "      <td>SWITCH</td>\n",
       "      <td>2023</td>\n",
       "      <td>2023</td>\n",
       "      <td>0</td>\n",
       "      <td>Nintendo</td>\n",
       "      <td>Nintendo</td>\n",
       "      <td>The Legend of Zelda</td>\n",
       "      <td>...</td>\n",
       "      <td>0</td>\n",
       "      <td>0</td>\n",
       "      <td>0</td>\n",
       "      <td>0</td>\n",
       "      <td>0.0</td>\n",
       "      <td>0.0</td>\n",
       "      <td>0.0</td>\n",
       "      <td>0.0</td>\n",
       "      <td>0.0</td>\n",
       "      <td>0.0</td>\n",
       "    </tr>\n",
       "    <tr>\n",
       "      <th>1</th>\n",
       "      <td>The Legend of Zelda: Breath of the Wild</td>\n",
       "      <td>100</td>\n",
       "      <td>97</td>\n",
       "      <td>SWITCH</td>\n",
       "      <td>2017</td>\n",
       "      <td>2017</td>\n",
       "      <td>1</td>\n",
       "      <td>Nintendo</td>\n",
       "      <td>Nintendo</td>\n",
       "      <td>The Legend of Zelda</td>\n",
       "      <td>...</td>\n",
       "      <td>0</td>\n",
       "      <td>0</td>\n",
       "      <td>0</td>\n",
       "      <td>0</td>\n",
       "      <td>0.0</td>\n",
       "      <td>0.0</td>\n",
       "      <td>0.0</td>\n",
       "      <td>0.0</td>\n",
       "      <td>0.0</td>\n",
       "      <td>0.0</td>\n",
       "    </tr>\n",
       "    <tr>\n",
       "      <th>2</th>\n",
       "      <td>God of War (2018)</td>\n",
       "      <td>99</td>\n",
       "      <td>94</td>\n",
       "      <td>PS4</td>\n",
       "      <td>2018</td>\n",
       "      <td>2018</td>\n",
       "      <td>0</td>\n",
       "      <td>Sony</td>\n",
       "      <td>Santa Monica Studio</td>\n",
       "      <td>God of War</td>\n",
       "      <td>...</td>\n",
       "      <td>0</td>\n",
       "      <td>0</td>\n",
       "      <td>0</td>\n",
       "      <td>0</td>\n",
       "      <td>0.0</td>\n",
       "      <td>0.0</td>\n",
       "      <td>0.0</td>\n",
       "      <td>0.0</td>\n",
       "      <td>0.0</td>\n",
       "      <td>0.0</td>\n",
       "    </tr>\n",
       "    <tr>\n",
       "      <th>3</th>\n",
       "      <td>The Last of Us</td>\n",
       "      <td>99</td>\n",
       "      <td>95</td>\n",
       "      <td>PS4</td>\n",
       "      <td>2013</td>\n",
       "      <td>2014</td>\n",
       "      <td>1</td>\n",
       "      <td>Sony</td>\n",
       "      <td>Naughty Dog</td>\n",
       "      <td>The Last of Us</td>\n",
       "      <td>...</td>\n",
       "      <td>0</td>\n",
       "      <td>0</td>\n",
       "      <td>0</td>\n",
       "      <td>1</td>\n",
       "      <td>1.0</td>\n",
       "      <td>0.0</td>\n",
       "      <td>0.0</td>\n",
       "      <td>0.0</td>\n",
       "      <td>0.0</td>\n",
       "      <td>0.0</td>\n",
       "    </tr>\n",
       "    <tr>\n",
       "      <th>4</th>\n",
       "      <td>Metroid Prime</td>\n",
       "      <td>99</td>\n",
       "      <td>97</td>\n",
       "      <td>SWITCH</td>\n",
       "      <td>2002</td>\n",
       "      <td>2023</td>\n",
       "      <td>0</td>\n",
       "      <td>Nintendo</td>\n",
       "      <td>Retro Studios</td>\n",
       "      <td>Metroid</td>\n",
       "      <td>...</td>\n",
       "      <td>0</td>\n",
       "      <td>0</td>\n",
       "      <td>0</td>\n",
       "      <td>21</td>\n",
       "      <td>1.0</td>\n",
       "      <td>0.0</td>\n",
       "      <td>0.0</td>\n",
       "      <td>0.0</td>\n",
       "      <td>0.0</td>\n",
       "      <td>0.0</td>\n",
       "    </tr>\n",
       "    <tr>\n",
       "      <th>...</th>\n",
       "      <td>...</td>\n",
       "      <td>...</td>\n",
       "      <td>...</td>\n",
       "      <td>...</td>\n",
       "      <td>...</td>\n",
       "      <td>...</td>\n",
       "      <td>...</td>\n",
       "      <td>...</td>\n",
       "      <td>...</td>\n",
       "      <td>...</td>\n",
       "      <td>...</td>\n",
       "      <td>...</td>\n",
       "      <td>...</td>\n",
       "      <td>...</td>\n",
       "      <td>...</td>\n",
       "      <td>...</td>\n",
       "      <td>...</td>\n",
       "      <td>...</td>\n",
       "      <td>...</td>\n",
       "      <td>...</td>\n",
       "      <td>...</td>\n",
       "    </tr>\n",
       "    <tr>\n",
       "      <th>433</th>\n",
       "      <td>Fifa 06 Game Boy Advance</td>\n",
       "      <td>44</td>\n",
       "      <td>49</td>\n",
       "      <td>GBA</td>\n",
       "      <td>2005</td>\n",
       "      <td>2005</td>\n",
       "      <td>0</td>\n",
       "      <td>EA</td>\n",
       "      <td>EA sports</td>\n",
       "      <td>Fifa</td>\n",
       "      <td>...</td>\n",
       "      <td>0</td>\n",
       "      <td>0</td>\n",
       "      <td>0</td>\n",
       "      <td>0</td>\n",
       "      <td>0.0</td>\n",
       "      <td>0.0</td>\n",
       "      <td>0.0</td>\n",
       "      <td>1.0</td>\n",
       "      <td>0.0</td>\n",
       "      <td>0.0</td>\n",
       "    </tr>\n",
       "    <tr>\n",
       "      <th>434</th>\n",
       "      <td>Cruis'n Blast</td>\n",
       "      <td>42</td>\n",
       "      <td>73</td>\n",
       "      <td>SWITCH</td>\n",
       "      <td>2021</td>\n",
       "      <td>2021</td>\n",
       "      <td>0</td>\n",
       "      <td>Indie</td>\n",
       "      <td>Raw Thrills</td>\n",
       "      <td>Cruise'n Blast</td>\n",
       "      <td>...</td>\n",
       "      <td>0</td>\n",
       "      <td>0</td>\n",
       "      <td>0</td>\n",
       "      <td>0</td>\n",
       "      <td>0.0</td>\n",
       "      <td>0.0</td>\n",
       "      <td>1.0</td>\n",
       "      <td>0.0</td>\n",
       "      <td>0.0</td>\n",
       "      <td>0.0</td>\n",
       "    </tr>\n",
       "    <tr>\n",
       "      <th>435</th>\n",
       "      <td>Fifa 14 Legacy Edition</td>\n",
       "      <td>38</td>\n",
       "      <td>38</td>\n",
       "      <td>VITA</td>\n",
       "      <td>2013</td>\n",
       "      <td>2013</td>\n",
       "      <td>0</td>\n",
       "      <td>EA</td>\n",
       "      <td>EA Sports</td>\n",
       "      <td>Fifa</td>\n",
       "      <td>...</td>\n",
       "      <td>0</td>\n",
       "      <td>0</td>\n",
       "      <td>0</td>\n",
       "      <td>0</td>\n",
       "      <td>0.0</td>\n",
       "      <td>0.0</td>\n",
       "      <td>0.0</td>\n",
       "      <td>1.0</td>\n",
       "      <td>0.0</td>\n",
       "      <td>0.0</td>\n",
       "    </tr>\n",
       "    <tr>\n",
       "      <th>436</th>\n",
       "      <td>Sunlight</td>\n",
       "      <td>34</td>\n",
       "      <td>78</td>\n",
       "      <td>PC</td>\n",
       "      <td>2021</td>\n",
       "      <td>2023</td>\n",
       "      <td>0</td>\n",
       "      <td>Indie</td>\n",
       "      <td>Krillbite Studio</td>\n",
       "      <td>Sunlight</td>\n",
       "      <td>...</td>\n",
       "      <td>0</td>\n",
       "      <td>0</td>\n",
       "      <td>0</td>\n",
       "      <td>2</td>\n",
       "      <td>0.0</td>\n",
       "      <td>0.0</td>\n",
       "      <td>0.0</td>\n",
       "      <td>0.0</td>\n",
       "      <td>0.0</td>\n",
       "      <td>0.0</td>\n",
       "    </tr>\n",
       "    <tr>\n",
       "      <th>437</th>\n",
       "      <td>Doom VFR</td>\n",
       "      <td>25</td>\n",
       "      <td>70</td>\n",
       "      <td>PS4</td>\n",
       "      <td>2017</td>\n",
       "      <td>2019</td>\n",
       "      <td>0</td>\n",
       "      <td>Bethesda</td>\n",
       "      <td>id Software</td>\n",
       "      <td>Doom</td>\n",
       "      <td>...</td>\n",
       "      <td>0</td>\n",
       "      <td>0</td>\n",
       "      <td>0</td>\n",
       "      <td>2</td>\n",
       "      <td>0.0</td>\n",
       "      <td>0.0</td>\n",
       "      <td>0.0</td>\n",
       "      <td>0.0</td>\n",
       "      <td>0.0</td>\n",
       "      <td>0.0</td>\n",
       "    </tr>\n",
       "  </tbody>\n",
       "</table>\n",
       "<p>438 rows × 120 columns</p>\n",
       "</div>"
      ],
      "text/plain": [
       "                                          Game  Rating  Reviewscore Played on  \\\n",
       "0    The Legend of Zelda: Tears of the Kingdom     100           96    SWITCH   \n",
       "1      The Legend of Zelda: Breath of the Wild     100           97    SWITCH   \n",
       "2                            God of War (2018)      99           94       PS4   \n",
       "3                               The Last of Us      99           95       PS4   \n",
       "4                                Metroid Prime      99           97    SWITCH   \n",
       "..                                         ...     ...          ...       ...   \n",
       "433                   Fifa 06 Game Boy Advance      44           49       GBA   \n",
       "434                              Cruis'n Blast      42           73    SWITCH   \n",
       "435                     Fifa 14 Legacy Edition      38           38      VITA   \n",
       "436                                   Sunlight      34           78        PC   \n",
       "437                                   Doom VFR      25           70       PS4   \n",
       "\n",
       "     Launch Year  Play Year  DLC/ Major update played Publisher  \\\n",
       "0           2023       2023                         0  Nintendo   \n",
       "1           2017       2017                         1  Nintendo   \n",
       "2           2018       2018                         0      Sony   \n",
       "3           2013       2014                         1      Sony   \n",
       "4           2002       2023                         0  Nintendo   \n",
       "..           ...        ...                       ...       ...   \n",
       "433         2005       2005                         0        EA   \n",
       "434         2021       2021                         0     Indie   \n",
       "435         2013       2013                         0        EA   \n",
       "436         2021       2023                         0     Indie   \n",
       "437         2017       2019                         0  Bethesda   \n",
       "\n",
       "               Developer            Franchise  ... XB1  PS5  PS3  \\\n",
       "0               Nintendo  The Legend of Zelda  ...   0    0    0   \n",
       "1               Nintendo  The Legend of Zelda  ...   0    0    0   \n",
       "2    Santa Monica Studio           God of War  ...   0    0    0   \n",
       "3            Naughty Dog       The Last of Us  ...   0    0    0   \n",
       "4          Retro Studios              Metroid  ...   0    0    0   \n",
       "..                   ...                  ...  ...  ..  ...  ...   \n",
       "433            EA sports                 Fifa  ...   0    0    0   \n",
       "434          Raw Thrills       Cruise'n Blast  ...   0    0    0   \n",
       "435            EA Sports                 Fifa  ...   0    0    0   \n",
       "436     Krillbite Studio             Sunlight  ...   0    0    0   \n",
       "437          id Software                 Doom  ...   0    0    0   \n",
       "\n",
       "    Play - launch  Remaster played  Any multiplayer  Any racing  Any sports  \\\n",
       "0               0              0.0              0.0         0.0         0.0   \n",
       "1               0              0.0              0.0         0.0         0.0   \n",
       "2               0              0.0              0.0         0.0         0.0   \n",
       "3               1              1.0              0.0         0.0         0.0   \n",
       "4              21              1.0              0.0         0.0         0.0   \n",
       "..            ...              ...              ...         ...         ...   \n",
       "433             0              0.0              0.0         0.0         1.0   \n",
       "434             0              0.0              0.0         1.0         0.0   \n",
       "435             0              0.0              0.0         0.0         1.0   \n",
       "436             2              0.0              0.0         0.0         0.0   \n",
       "437             2              0.0              0.0         0.0         0.0   \n",
       "\n",
       "     Any simulation  Any strategy  \n",
       "0               0.0           0.0  \n",
       "1               0.0           0.0  \n",
       "2               0.0           0.0  \n",
       "3               0.0           0.0  \n",
       "4               0.0           0.0  \n",
       "..              ...           ...  \n",
       "433             0.0           0.0  \n",
       "434             0.0           0.0  \n",
       "435             0.0           0.0  \n",
       "436             0.0           0.0  \n",
       "437             0.0           0.0  \n",
       "\n",
       "[438 rows x 120 columns]"
      ]
     },
     "execution_count": 360,
     "metadata": {},
     "output_type": "execute_result"
    }
   ],
   "source": [
    "#have another look at the data\n",
    "data"
   ]
  },
  {
   "cell_type": "code",
   "execution_count": 361,
   "id": "d9c5d858",
   "metadata": {},
   "outputs": [],
   "source": [
    "# prep for model\n",
    "X = data.copy()\n",
    "X.drop(['Rating', 'Game', 'Played on', 'Publisher', 'Developer', 'Franchise', 'Key words', 'Remaster Release Year', 'Developer2'], axis = 1, inplace = True)\n",
    "y = data['Rating']\n",
    "X_train, X_test, y_train, y_test = train_test_split(X, y, random_state=0)"
   ]
  },
  {
   "cell_type": "code",
   "execution_count": 367,
   "id": "167f9fe1",
   "metadata": {},
   "outputs": [
    {
     "data": {
      "text/html": [
       "<style>#sk-container-id-22 {color: black;background-color: white;}#sk-container-id-22 pre{padding: 0;}#sk-container-id-22 div.sk-toggleable {background-color: white;}#sk-container-id-22 label.sk-toggleable__label {cursor: pointer;display: block;width: 100%;margin-bottom: 0;padding: 0.3em;box-sizing: border-box;text-align: center;}#sk-container-id-22 label.sk-toggleable__label-arrow:before {content: \"▸\";float: left;margin-right: 0.25em;color: #696969;}#sk-container-id-22 label.sk-toggleable__label-arrow:hover:before {color: black;}#sk-container-id-22 div.sk-estimator:hover label.sk-toggleable__label-arrow:before {color: black;}#sk-container-id-22 div.sk-toggleable__content {max-height: 0;max-width: 0;overflow: hidden;text-align: left;background-color: #f0f8ff;}#sk-container-id-22 div.sk-toggleable__content pre {margin: 0.2em;color: black;border-radius: 0.25em;background-color: #f0f8ff;}#sk-container-id-22 input.sk-toggleable__control:checked~div.sk-toggleable__content {max-height: 200px;max-width: 100%;overflow: auto;}#sk-container-id-22 input.sk-toggleable__control:checked~label.sk-toggleable__label-arrow:before {content: \"▾\";}#sk-container-id-22 div.sk-estimator input.sk-toggleable__control:checked~label.sk-toggleable__label {background-color: #d4ebff;}#sk-container-id-22 div.sk-label input.sk-toggleable__control:checked~label.sk-toggleable__label {background-color: #d4ebff;}#sk-container-id-22 input.sk-hidden--visually {border: 0;clip: rect(1px 1px 1px 1px);clip: rect(1px, 1px, 1px, 1px);height: 1px;margin: -1px;overflow: hidden;padding: 0;position: absolute;width: 1px;}#sk-container-id-22 div.sk-estimator {font-family: monospace;background-color: #f0f8ff;border: 1px dotted black;border-radius: 0.25em;box-sizing: border-box;margin-bottom: 0.5em;}#sk-container-id-22 div.sk-estimator:hover {background-color: #d4ebff;}#sk-container-id-22 div.sk-parallel-item::after {content: \"\";width: 100%;border-bottom: 1px solid gray;flex-grow: 1;}#sk-container-id-22 div.sk-label:hover label.sk-toggleable__label {background-color: #d4ebff;}#sk-container-id-22 div.sk-serial::before {content: \"\";position: absolute;border-left: 1px solid gray;box-sizing: border-box;top: 0;bottom: 0;left: 50%;z-index: 0;}#sk-container-id-22 div.sk-serial {display: flex;flex-direction: column;align-items: center;background-color: white;padding-right: 0.2em;padding-left: 0.2em;position: relative;}#sk-container-id-22 div.sk-item {position: relative;z-index: 1;}#sk-container-id-22 div.sk-parallel {display: flex;align-items: stretch;justify-content: center;background-color: white;position: relative;}#sk-container-id-22 div.sk-item::before, #sk-container-id-22 div.sk-parallel-item::before {content: \"\";position: absolute;border-left: 1px solid gray;box-sizing: border-box;top: 0;bottom: 0;left: 50%;z-index: -1;}#sk-container-id-22 div.sk-parallel-item {display: flex;flex-direction: column;z-index: 1;position: relative;background-color: white;}#sk-container-id-22 div.sk-parallel-item:first-child::after {align-self: flex-end;width: 50%;}#sk-container-id-22 div.sk-parallel-item:last-child::after {align-self: flex-start;width: 50%;}#sk-container-id-22 div.sk-parallel-item:only-child::after {width: 0;}#sk-container-id-22 div.sk-dashed-wrapped {border: 1px dashed gray;margin: 0 0.4em 0.5em 0.4em;box-sizing: border-box;padding-bottom: 0.4em;background-color: white;}#sk-container-id-22 div.sk-label label {font-family: monospace;font-weight: bold;display: inline-block;line-height: 1.2em;}#sk-container-id-22 div.sk-label-container {text-align: center;}#sk-container-id-22 div.sk-container {/* jupyter's `normalize.less` sets `[hidden] { display: none; }` but bootstrap.min.css set `[hidden] { display: none !important; }` so we also need the `!important` here to be able to override the default hidden behavior on the sphinx rendered scikit-learn.org. See: https://github.com/scikit-learn/scikit-learn/issues/21755 */display: inline-block !important;position: relative;}#sk-container-id-22 div.sk-text-repr-fallback {display: none;}</style><div id=\"sk-container-id-22\" class=\"sk-top-container\"><div class=\"sk-text-repr-fallback\"><pre>GradientBoostingRegressor(random_state=0)</pre><b>In a Jupyter environment, please rerun this cell to show the HTML representation or trust the notebook. <br />On GitHub, the HTML representation is unable to render, please try loading this page with nbviewer.org.</b></div><div class=\"sk-container\" hidden><div class=\"sk-item\"><div class=\"sk-estimator sk-toggleable\"><input class=\"sk-toggleable__control sk-hidden--visually\" id=\"sk-estimator-id-22\" type=\"checkbox\" checked><label for=\"sk-estimator-id-22\" class=\"sk-toggleable__label sk-toggleable__label-arrow\">GradientBoostingRegressor</label><div class=\"sk-toggleable__content\"><pre>GradientBoostingRegressor(random_state=0)</pre></div></div></div></div></div>"
      ],
      "text/plain": [
       "GradientBoostingRegressor(random_state=0)"
      ]
     },
     "execution_count": 367,
     "metadata": {},
     "output_type": "execute_result"
    }
   ],
   "source": [
    "#initialize and fit model\n",
    "model = GradientBoostingRegressor(random_state=0)\n",
    "model.fit(X_train, y_train)"
   ]
  },
  {
   "cell_type": "code",
   "execution_count": 369,
   "id": "d94c0142",
   "metadata": {},
   "outputs": [],
   "source": [
    "# obtain feature importances\n",
    "importance = model.feature_importances_\n",
    "importances_df = pd.DataFrame([importance], columns = X.columns)\n",
    "importances_df = importances_df.transpose()\n",
    "importances_df.to_csv('../data/feature_importances.csv') # send importances to csv"
   ]
  },
  {
   "cell_type": "code",
   "execution_count": 378,
   "id": "ec0f7e0b",
   "metadata": {},
   "outputs": [
    {
     "name": "stdout",
     "output_type": "stream",
     "text": [
      "0.5854584801265793\n"
     ]
    }
   ],
   "source": [
    "# analyse performance using test set\n",
    "test_labels = pd.merge(y_test, data['Game'], left_index= True, right_index = True) #join the game name back in to rating scores\n",
    "test_scores = pd.DataFrame({'Game': test_labels['Game'], 'Predicted Rating':model.predict(X_test), 'Actual Rating': test_labels['Rating']}) #join the test set to the predictions\n",
    "test_scores.to_csv('../data/test_scores_output.csv')"
   ]
  },
  {
   "cell_type": "code",
   "execution_count": 379,
   "id": "d023e74d",
   "metadata": {},
   "outputs": [
    {
     "data": {
      "application/vnd.plotly.v1+json": {
       "config": {
        "plotlyServerURL": "https://plot.ly"
       },
       "data": [
        {
         "hovertemplate": "<b>%{hovertext}</b><br><br>Actual Rating=%{x}<br>Predicted Rating=%{y}<extra></extra>",
         "hovertext": [
          "F1 2012",
          "Nex Machina",
          "Monster Hunter World",
          "Grand Theft Auto IV",
          "Grand Theft Auto San Andreas",
          "Super Mario Galaxy 2",
          "Grand Theft Auto Vice City Stories",
          "Wildermyth",
          "Endless Legend",
          "Sportsfriends",
          "Horizon Zero Dawn",
          "Gran Turismo Sport",
          "Nier Automata",
          "Tribes of Midgard",
          "Guacamelee!",
          "Doom VFR",
          "Forza Horizon 5",
          "Mario Kart Wii",
          "Spacelines from the Far Out",
          "OlliOlli 2: Welcome to Olliwood",
          "Crash Bandicoot The Wrath of Cortex",
          "Lego Star Wars: The Video Game",
          "Final Fantasy X",
          "Call of Duty WW2",
          "Celeste",
          "Warlock - Master of the Arcane",
          "Trials Rising",
          "Boyfriend Dungeon",
          "Sea of Thieves",
          "Ultimate Chicken Horse",
          "Contrast",
          "The Legend of Zelda: Breath of the Wild",
          "Tetris Effect",
          "Embr",
          "The Witcher 3",
          "Demon's Souls (Remake)",
          "Mini Motorways",
          "Cities Skylines",
          "Pokemon Diamond",
          "Assassin's Creed Freedom Cry",
          "F1 2019",
          "Cruis'n Blast",
          "Fifa 11",
          "Football Manager 2008",
          "Golf Story",
          "Forza Motorsport 7",
          "F1 2020",
          "Streets of Rage 4",
          "Fifa Street 2",
          "Guardians of the Galaxy",
          "Bloodborne",
          "Moss PSVR",
          "Kingdom Hearts 3",
          "Pokemon Legends Arceus",
          "Rocket League",
          "Dirt Rally 2.0",
          "Awesomenauts",
          "Just Cause 3",
          "Red Dead Redemption 2",
          "Project Cars",
          "Motorsport Manager",
          "Football Manager 2010",
          "Farming Simulator 2019",
          "Assassin's Creed Syndicate",
          "Dragon Quest XI",
          "Star Wars Squadrons",
          "F1 2011",
          "Scarlet Nexus",
          "Ys VIII Lacrimosa of Dana",
          "Surviving Mars",
          "Civilization V",
          "Diablo 2 Resurrected",
          "Call of Duty Modern Warfare",
          "Overcooked",
          "Sekiro Shadows Die Twice",
          "Star Wars: Knights of the Old Republic",
          "Unrailed!",
          "New Super Mario Bros. 2",
          "Need For Speed Heat",
          "Mario + Rabbids Kingdom Battle",
          "Gears 5",
          "Two Point Campus",
          "Hyper Light Drifter",
          "Dragon Age Origins",
          "God of War 3",
          "Super Smash Bros. Brawl",
          "Marvel's Spider-Man Miles Morales",
          "Driveclub",
          "Horizon Forbidden West",
          "Torchlight",
          "Metroid Prime",
          "WipeOut Omega Collection",
          "Fifa 06 Game Boy Advance",
          "Citizen Sleeper",
          "Need for Speed Hot Pursuit",
          "Hi-Fi Rush",
          "Star Wars Battlefront",
          "Hades",
          "Crosscode",
          "Football Manager 2014",
          "Minecraft Dungeons",
          "Super Mario Galaxy",
          "Risk of Rain 2",
          "Fall Guys",
          "Astro Bot Rescue Mission",
          "Tetris",
          "Dragon Quest Builders",
          "Mass Effect 2",
          "Batman Arkham Knight",
          "High on Life"
         ],
         "legendgroup": "",
         "marker": {
          "color": "#636efa",
          "symbol": "circle"
         },
         "mode": "markers",
         "name": "",
         "orientation": "v",
         "showlegend": false,
         "type": "scatter",
         "x": [
          79,
          68,
          76,
          71,
          91,
          97,
          83,
          73,
          74,
          71,
          97,
          79,
          63,
          73,
          75,
          25,
          92,
          88,
          60,
          84,
          66,
          82,
          80,
          79,
          94,
          62,
          76,
          69,
          67,
          75,
          45,
          100,
          89,
          62,
          70,
          90,
          68,
          88,
          85,
          70,
          83,
          42,
          83,
          87,
          85,
          82,
          87,
          77,
          66,
          86,
          96,
          77,
          78,
          82,
          90,
          73,
          68,
          64,
          98,
          63,
          70,
          83,
          46,
          83,
          68,
          72,
          82,
          61,
          90,
          68,
          89,
          51,
          90,
          80,
          77,
          76,
          61,
          66,
          58,
          81,
          87,
          80,
          72,
          85,
          91,
          91,
          89,
          94,
          91,
          75,
          99,
          77,
          44,
          84,
          75,
          97,
          70,
          98,
          85,
          77,
          64,
          98,
          77,
          66,
          94,
          90,
          65,
          95,
          84,
          72
         ],
         "xaxis": "x",
         "y": [
          79.9702381055981,
          76.3057300659079,
          83.61850568885036,
          89.53445682939591,
          86.42159088563122,
          92.81805039454322,
          81.6683483402203,
          76.51769155106062,
          72.73147901442272,
          73.83851062189886,
          90.30406149726502,
          72.52481150082382,
          82.70835674521788,
          71.10385562090448,
          77.41181854260533,
          63.546187819279346,
          90.04423642894032,
          80.50848879996221,
          71.51097548215992,
          81.66114604364974,
          65.52286472073892,
          75.13462667892814,
          90.09413962951223,
          74.51638197652512,
          84.87149097940917,
          63.75290699169839,
          76.00323746330699,
          66.92646563143386,
          60.505611163858944,
          70.93449457764171,
          61.32533317598398,
          94.4450729849866,
          81.74280841351664,
          59.84384291003047,
          87.68857219458579,
          85.41548449707112,
          72.9669405992296,
          82.41120282919721,
          83.23687757182807,
          67.44386813683288,
          81.49921031675488,
          69.58523009376002,
          83.44730660674284,
          81.22804468538152,
          71.18098499318526,
          78.16662534605976,
          84.82176473865454,
          76.24723468516639,
          64.02518396769567,
          77.85300840737033,
          88.73598769799793,
          73.41435296767277,
          77.8357584909223,
          76.98719191386414,
          81.8532127410142,
          79.06573522429197,
          73.56748184605291,
          70.12032100118911,
          95.35974557088169,
          71.23085951508898,
          73.39466439154278,
          83.02328608843469,
          58.733593503509255,
          78.28538901145487,
          78.11185374771617,
          70.69970922989249,
          80.02841383401805,
          73.66896960178119,
          74.3288498406996,
          69.36245303586911,
          86.93147864692186,
          62.02472386017319,
          85.29883991072262,
          70.45909984282373,
          83.73822785499743,
          86.65189815964085,
          68.2936614663964,
          74.05412459120332,
          71.76736971980608,
          77.43353357313559,
          79.00586455293661,
          77.00580978082242,
          72.77368623480682,
          89.31679545035,
          87.60703216454554,
          83.61802021680829,
          86.68179848759752,
          67.83358198314882,
          90.04123129310784,
          78.0305586982469,
          92.79107534820545,
          80.97742274609573,
          53.05849176412858,
          74.65212616896218,
          65.9658961832124,
          81.65088486185697,
          67.93612495569624,
          90.37777063627985,
          81.15021302922696,
          76.77034819601553,
          65.4934942936607,
          92.42991979272648,
          81.93988376625227,
          72.37817538764371,
          84.36922676565541,
          78.46325978680309,
          63.10321856909797,
          94.63971976782587,
          87.27939443969876,
          71.23250173156994
         ],
         "yaxis": "y"
        }
       ],
       "layout": {
        "legend": {
         "tracegroupgap": 0
        },
        "margin": {
         "t": 60
        },
        "template": {
         "data": {
          "bar": [
           {
            "error_x": {
             "color": "#2a3f5f"
            },
            "error_y": {
             "color": "#2a3f5f"
            },
            "marker": {
             "line": {
              "color": "#E5ECF6",
              "width": 0.5
             },
             "pattern": {
              "fillmode": "overlay",
              "size": 10,
              "solidity": 0.2
             }
            },
            "type": "bar"
           }
          ],
          "barpolar": [
           {
            "marker": {
             "line": {
              "color": "#E5ECF6",
              "width": 0.5
             },
             "pattern": {
              "fillmode": "overlay",
              "size": 10,
              "solidity": 0.2
             }
            },
            "type": "barpolar"
           }
          ],
          "carpet": [
           {
            "aaxis": {
             "endlinecolor": "#2a3f5f",
             "gridcolor": "white",
             "linecolor": "white",
             "minorgridcolor": "white",
             "startlinecolor": "#2a3f5f"
            },
            "baxis": {
             "endlinecolor": "#2a3f5f",
             "gridcolor": "white",
             "linecolor": "white",
             "minorgridcolor": "white",
             "startlinecolor": "#2a3f5f"
            },
            "type": "carpet"
           }
          ],
          "choropleth": [
           {
            "colorbar": {
             "outlinewidth": 0,
             "ticks": ""
            },
            "type": "choropleth"
           }
          ],
          "contour": [
           {
            "colorbar": {
             "outlinewidth": 0,
             "ticks": ""
            },
            "colorscale": [
             [
              0,
              "#0d0887"
             ],
             [
              0.1111111111111111,
              "#46039f"
             ],
             [
              0.2222222222222222,
              "#7201a8"
             ],
             [
              0.3333333333333333,
              "#9c179e"
             ],
             [
              0.4444444444444444,
              "#bd3786"
             ],
             [
              0.5555555555555556,
              "#d8576b"
             ],
             [
              0.6666666666666666,
              "#ed7953"
             ],
             [
              0.7777777777777778,
              "#fb9f3a"
             ],
             [
              0.8888888888888888,
              "#fdca26"
             ],
             [
              1,
              "#f0f921"
             ]
            ],
            "type": "contour"
           }
          ],
          "contourcarpet": [
           {
            "colorbar": {
             "outlinewidth": 0,
             "ticks": ""
            },
            "type": "contourcarpet"
           }
          ],
          "heatmap": [
           {
            "colorbar": {
             "outlinewidth": 0,
             "ticks": ""
            },
            "colorscale": [
             [
              0,
              "#0d0887"
             ],
             [
              0.1111111111111111,
              "#46039f"
             ],
             [
              0.2222222222222222,
              "#7201a8"
             ],
             [
              0.3333333333333333,
              "#9c179e"
             ],
             [
              0.4444444444444444,
              "#bd3786"
             ],
             [
              0.5555555555555556,
              "#d8576b"
             ],
             [
              0.6666666666666666,
              "#ed7953"
             ],
             [
              0.7777777777777778,
              "#fb9f3a"
             ],
             [
              0.8888888888888888,
              "#fdca26"
             ],
             [
              1,
              "#f0f921"
             ]
            ],
            "type": "heatmap"
           }
          ],
          "heatmapgl": [
           {
            "colorbar": {
             "outlinewidth": 0,
             "ticks": ""
            },
            "colorscale": [
             [
              0,
              "#0d0887"
             ],
             [
              0.1111111111111111,
              "#46039f"
             ],
             [
              0.2222222222222222,
              "#7201a8"
             ],
             [
              0.3333333333333333,
              "#9c179e"
             ],
             [
              0.4444444444444444,
              "#bd3786"
             ],
             [
              0.5555555555555556,
              "#d8576b"
             ],
             [
              0.6666666666666666,
              "#ed7953"
             ],
             [
              0.7777777777777778,
              "#fb9f3a"
             ],
             [
              0.8888888888888888,
              "#fdca26"
             ],
             [
              1,
              "#f0f921"
             ]
            ],
            "type": "heatmapgl"
           }
          ],
          "histogram": [
           {
            "marker": {
             "pattern": {
              "fillmode": "overlay",
              "size": 10,
              "solidity": 0.2
             }
            },
            "type": "histogram"
           }
          ],
          "histogram2d": [
           {
            "colorbar": {
             "outlinewidth": 0,
             "ticks": ""
            },
            "colorscale": [
             [
              0,
              "#0d0887"
             ],
             [
              0.1111111111111111,
              "#46039f"
             ],
             [
              0.2222222222222222,
              "#7201a8"
             ],
             [
              0.3333333333333333,
              "#9c179e"
             ],
             [
              0.4444444444444444,
              "#bd3786"
             ],
             [
              0.5555555555555556,
              "#d8576b"
             ],
             [
              0.6666666666666666,
              "#ed7953"
             ],
             [
              0.7777777777777778,
              "#fb9f3a"
             ],
             [
              0.8888888888888888,
              "#fdca26"
             ],
             [
              1,
              "#f0f921"
             ]
            ],
            "type": "histogram2d"
           }
          ],
          "histogram2dcontour": [
           {
            "colorbar": {
             "outlinewidth": 0,
             "ticks": ""
            },
            "colorscale": [
             [
              0,
              "#0d0887"
             ],
             [
              0.1111111111111111,
              "#46039f"
             ],
             [
              0.2222222222222222,
              "#7201a8"
             ],
             [
              0.3333333333333333,
              "#9c179e"
             ],
             [
              0.4444444444444444,
              "#bd3786"
             ],
             [
              0.5555555555555556,
              "#d8576b"
             ],
             [
              0.6666666666666666,
              "#ed7953"
             ],
             [
              0.7777777777777778,
              "#fb9f3a"
             ],
             [
              0.8888888888888888,
              "#fdca26"
             ],
             [
              1,
              "#f0f921"
             ]
            ],
            "type": "histogram2dcontour"
           }
          ],
          "mesh3d": [
           {
            "colorbar": {
             "outlinewidth": 0,
             "ticks": ""
            },
            "type": "mesh3d"
           }
          ],
          "parcoords": [
           {
            "line": {
             "colorbar": {
              "outlinewidth": 0,
              "ticks": ""
             }
            },
            "type": "parcoords"
           }
          ],
          "pie": [
           {
            "automargin": true,
            "type": "pie"
           }
          ],
          "scatter": [
           {
            "fillpattern": {
             "fillmode": "overlay",
             "size": 10,
             "solidity": 0.2
            },
            "type": "scatter"
           }
          ],
          "scatter3d": [
           {
            "line": {
             "colorbar": {
              "outlinewidth": 0,
              "ticks": ""
             }
            },
            "marker": {
             "colorbar": {
              "outlinewidth": 0,
              "ticks": ""
             }
            },
            "type": "scatter3d"
           }
          ],
          "scattercarpet": [
           {
            "marker": {
             "colorbar": {
              "outlinewidth": 0,
              "ticks": ""
             }
            },
            "type": "scattercarpet"
           }
          ],
          "scattergeo": [
           {
            "marker": {
             "colorbar": {
              "outlinewidth": 0,
              "ticks": ""
             }
            },
            "type": "scattergeo"
           }
          ],
          "scattergl": [
           {
            "marker": {
             "colorbar": {
              "outlinewidth": 0,
              "ticks": ""
             }
            },
            "type": "scattergl"
           }
          ],
          "scattermapbox": [
           {
            "marker": {
             "colorbar": {
              "outlinewidth": 0,
              "ticks": ""
             }
            },
            "type": "scattermapbox"
           }
          ],
          "scatterpolar": [
           {
            "marker": {
             "colorbar": {
              "outlinewidth": 0,
              "ticks": ""
             }
            },
            "type": "scatterpolar"
           }
          ],
          "scatterpolargl": [
           {
            "marker": {
             "colorbar": {
              "outlinewidth": 0,
              "ticks": ""
             }
            },
            "type": "scatterpolargl"
           }
          ],
          "scatterternary": [
           {
            "marker": {
             "colorbar": {
              "outlinewidth": 0,
              "ticks": ""
             }
            },
            "type": "scatterternary"
           }
          ],
          "surface": [
           {
            "colorbar": {
             "outlinewidth": 0,
             "ticks": ""
            },
            "colorscale": [
             [
              0,
              "#0d0887"
             ],
             [
              0.1111111111111111,
              "#46039f"
             ],
             [
              0.2222222222222222,
              "#7201a8"
             ],
             [
              0.3333333333333333,
              "#9c179e"
             ],
             [
              0.4444444444444444,
              "#bd3786"
             ],
             [
              0.5555555555555556,
              "#d8576b"
             ],
             [
              0.6666666666666666,
              "#ed7953"
             ],
             [
              0.7777777777777778,
              "#fb9f3a"
             ],
             [
              0.8888888888888888,
              "#fdca26"
             ],
             [
              1,
              "#f0f921"
             ]
            ],
            "type": "surface"
           }
          ],
          "table": [
           {
            "cells": {
             "fill": {
              "color": "#EBF0F8"
             },
             "line": {
              "color": "white"
             }
            },
            "header": {
             "fill": {
              "color": "#C8D4E3"
             },
             "line": {
              "color": "white"
             }
            },
            "type": "table"
           }
          ]
         },
         "layout": {
          "annotationdefaults": {
           "arrowcolor": "#2a3f5f",
           "arrowhead": 0,
           "arrowwidth": 1
          },
          "autotypenumbers": "strict",
          "coloraxis": {
           "colorbar": {
            "outlinewidth": 0,
            "ticks": ""
           }
          },
          "colorscale": {
           "diverging": [
            [
             0,
             "#8e0152"
            ],
            [
             0.1,
             "#c51b7d"
            ],
            [
             0.2,
             "#de77ae"
            ],
            [
             0.3,
             "#f1b6da"
            ],
            [
             0.4,
             "#fde0ef"
            ],
            [
             0.5,
             "#f7f7f7"
            ],
            [
             0.6,
             "#e6f5d0"
            ],
            [
             0.7,
             "#b8e186"
            ],
            [
             0.8,
             "#7fbc41"
            ],
            [
             0.9,
             "#4d9221"
            ],
            [
             1,
             "#276419"
            ]
           ],
           "sequential": [
            [
             0,
             "#0d0887"
            ],
            [
             0.1111111111111111,
             "#46039f"
            ],
            [
             0.2222222222222222,
             "#7201a8"
            ],
            [
             0.3333333333333333,
             "#9c179e"
            ],
            [
             0.4444444444444444,
             "#bd3786"
            ],
            [
             0.5555555555555556,
             "#d8576b"
            ],
            [
             0.6666666666666666,
             "#ed7953"
            ],
            [
             0.7777777777777778,
             "#fb9f3a"
            ],
            [
             0.8888888888888888,
             "#fdca26"
            ],
            [
             1,
             "#f0f921"
            ]
           ],
           "sequentialminus": [
            [
             0,
             "#0d0887"
            ],
            [
             0.1111111111111111,
             "#46039f"
            ],
            [
             0.2222222222222222,
             "#7201a8"
            ],
            [
             0.3333333333333333,
             "#9c179e"
            ],
            [
             0.4444444444444444,
             "#bd3786"
            ],
            [
             0.5555555555555556,
             "#d8576b"
            ],
            [
             0.6666666666666666,
             "#ed7953"
            ],
            [
             0.7777777777777778,
             "#fb9f3a"
            ],
            [
             0.8888888888888888,
             "#fdca26"
            ],
            [
             1,
             "#f0f921"
            ]
           ]
          },
          "colorway": [
           "#636efa",
           "#EF553B",
           "#00cc96",
           "#ab63fa",
           "#FFA15A",
           "#19d3f3",
           "#FF6692",
           "#B6E880",
           "#FF97FF",
           "#FECB52"
          ],
          "font": {
           "color": "#2a3f5f"
          },
          "geo": {
           "bgcolor": "white",
           "lakecolor": "white",
           "landcolor": "#E5ECF6",
           "showlakes": true,
           "showland": true,
           "subunitcolor": "white"
          },
          "hoverlabel": {
           "align": "left"
          },
          "hovermode": "closest",
          "mapbox": {
           "style": "light"
          },
          "paper_bgcolor": "white",
          "plot_bgcolor": "#E5ECF6",
          "polar": {
           "angularaxis": {
            "gridcolor": "white",
            "linecolor": "white",
            "ticks": ""
           },
           "bgcolor": "#E5ECF6",
           "radialaxis": {
            "gridcolor": "white",
            "linecolor": "white",
            "ticks": ""
           }
          },
          "scene": {
           "xaxis": {
            "backgroundcolor": "#E5ECF6",
            "gridcolor": "white",
            "gridwidth": 2,
            "linecolor": "white",
            "showbackground": true,
            "ticks": "",
            "zerolinecolor": "white"
           },
           "yaxis": {
            "backgroundcolor": "#E5ECF6",
            "gridcolor": "white",
            "gridwidth": 2,
            "linecolor": "white",
            "showbackground": true,
            "ticks": "",
            "zerolinecolor": "white"
           },
           "zaxis": {
            "backgroundcolor": "#E5ECF6",
            "gridcolor": "white",
            "gridwidth": 2,
            "linecolor": "white",
            "showbackground": true,
            "ticks": "",
            "zerolinecolor": "white"
           }
          },
          "shapedefaults": {
           "line": {
            "color": "#2a3f5f"
           }
          },
          "ternary": {
           "aaxis": {
            "gridcolor": "white",
            "linecolor": "white",
            "ticks": ""
           },
           "baxis": {
            "gridcolor": "white",
            "linecolor": "white",
            "ticks": ""
           },
           "bgcolor": "#E5ECF6",
           "caxis": {
            "gridcolor": "white",
            "linecolor": "white",
            "ticks": ""
           }
          },
          "title": {
           "x": 0.05
          },
          "xaxis": {
           "automargin": true,
           "gridcolor": "white",
           "linecolor": "white",
           "ticks": "",
           "title": {
            "standoff": 15
           },
           "zerolinecolor": "white",
           "zerolinewidth": 2
          },
          "yaxis": {
           "automargin": true,
           "gridcolor": "white",
           "linecolor": "white",
           "ticks": "",
           "title": {
            "standoff": 15
           },
           "zerolinecolor": "white",
           "zerolinewidth": 2
          }
         }
        },
        "xaxis": {
         "anchor": "y",
         "domain": [
          0,
          1
         ],
         "title": {
          "text": "Actual Rating"
         }
        },
        "yaxis": {
         "anchor": "x",
         "domain": [
          0,
          1
         ],
         "title": {
          "text": "Predicted Rating"
         }
        }
       }
      }
     },
     "metadata": {},
     "output_type": "display_data"
    }
   ],
   "source": [
    "# scatter plot of scores vs actual\n",
    "fig = px.scatter(test_scores, x=\"Actual Rating\", y=\"Predicted Rating\", hover_name= 'Game')\n",
    "fig"
   ]
  },
  {
   "cell_type": "code",
   "execution_count": 385,
   "id": "1f3beba8",
   "metadata": {},
   "outputs": [
    {
     "name": "stdout",
     "output_type": "stream",
     "text": [
      "Coefficient of determination -  0.5854584801265793\n",
      "Pearson R -  PearsonRResult(statistic=0.7746471268206356, pvalue=3.156324140228438e-23)\n"
     ]
    }
   ],
   "source": [
    "#output some actual model performance scores\n",
    "print('Coefficient of determination - ', model.score(X_test, y_test))\n",
    "print('Pearson R - ', pearsonr(y_test,model.predict(X_test)))"
   ]
  },
  {
   "cell_type": "code",
   "execution_count": 388,
   "id": "397ae145",
   "metadata": {},
   "outputs": [
    {
     "data": {
      "application/vnd.plotly.v1+json": {
       "config": {
        "plotlyServerURL": "https://plot.ly"
       },
       "data": [
        {
         "hovertemplate": "<b>%{hovertext}</b><br><br>Review avg=%{x}<br>Predicted Rating=%{y}<extra></extra>",
         "hovertext": [
          "The Legend of Zelda: Tears of the Kingdom",
          "The Legend of Zelda: Breath of the Wild",
          "God of War (2018)",
          "The Last of Us",
          "Metroid Prime",
          "Hades",
          "Red Dead Redemption 2",
          "Super Mario Galaxy",
          "Hi-Fi Rush",
          "Elden Ring",
          "Horizon Zero Dawn",
          "Super Mario Odyssey",
          "Super Mario Galaxy 2",
          "God of War Ragnarök",
          "The Last of Us Part II",
          "Bloodborne",
          "Uncharted 2 Among Thieves",
          "Bioshock Infinite",
          "Grand Theft Auto V",
          "Portal 2",
          "Mass Effect 2",
          "Celeste",
          "Astro Bot Rescue Mission",
          "Hollow Knight",
          "Mario Kart 8",
          "Uncharted 4 A Thief's End",
          "Driveclub",
          "Mass Effect 3",
          "Metroid Dread",
          "Ghost of Tsushima",
          "Marvel's Spider-Man",
          "Forza Horizon 3",
          "Guild Wars 2",
          "Bioshock",
          "Mario Kart DS",
          "Super Metroid",
          "Final Fantasy XVI",
          "Forza Horizon 5",
          "Forza Horizon 4",
          "Uncharted The Lost Legacy",
          "Undertale",
          "Dragon Age Inquisition",
          "Assassin's Creed Brotherhood",
          "Call of Duty Modern Warfare 2",
          "Halo Combat Evolved",
          "Horizon Forbidden West",
          "Final Fantasy VII Remake",
          "Rayman Legends",
          "Uncharted 3 Drake's Deception",
          "God of War 3",
          "Call of Duty Black Ops",
          "Pokemon SoulSilver",
          "Super Smash Bros. Brawl",
          "Football Manager 2007",
          "Grand Theft Auto San Andreas",
          "The Legend of Zelda: Ocarina of Time",
          "Demon's Souls (Remake)",
          "Star Wars Jedi Fallen Order",
          "Super Smash Bros. Ultimate",
          "Ys VIII Lacrimosa of Dana",
          "Rocket League",
          "Bayonetta 2",
          "Halo Reach",
          "Batman Arkham Asylum",
          "Mass Effect",
          "Call of Duty Modern Warfare",
          "Psychonauts",
          "Metroid Fusion",
          "Tetris",
          "Gran Turismo 2",
          "Ratchet & Clank: Rift Apart",
          "Super Mario 3D World + Bowser's Fury",
          "Psychonauts 2",
          "Ori and The Will of the Wisps",
          "Marvel's Spider-Man Miles Morales",
          "A Short Hike",
          "Tetris Effect",
          "Divinity Original Sin 2",
          "Civilization V",
          "Halo 3",
          "Crash Bandicoot 2: Cortex Strikes Back",
          "Diablo 3",
          "Vampire Survivors",
          "Rogue Legacy 2",
          "Death's Door",
          "Astro's Playroom",
          "Astral Chain",
          "Persona 5",
          "Titanfall 2",
          "Rise of the Tomb Raider ",
          "Cities Skylines",
          "Assassin's Creed IV Black Flag",
          "Journey",
          "Borderlands 2",
          "Forza 4",
          "Pokemon White",
          "Mario Kart Wii",
          "Star Wars Jedi Survivor",
          "Gran Turismo 7",
          "OlliOlli World",
          "F1 2020",
          "Animal Crossing New Horizons",
          "Gears 5",
          "Devil May Cry 5",
          "Dead Cells",
          "Civilization VI",
          "Tales From the Borderlands",
          "Football Manager 2008",
          "Halo 2",
          "Crash Bandicoot 3: Warped",
          "Aces and Adventures",
          "Stray",
          "Unsighted",
          "Guardians of the Galaxy",
          "Crash Team Racing Nitro Fueled",
          "Transistor",
          "Pokemon Black 2",
          "Minecraft",
          "Mario Kart 7",
          "Dragon Age 2",
          "Uncharted Drake's Fortune",
          "Neon White",
          "Crosscode",
          "F1 2018",
          "Golf Story",
          "Halo 5: Guardians",
          "Watch Dogs",
          "Assassin's Creed Unity",
          "Europa Universalis IV",
          "Tearaway",
          "Terraria",
          "Call of Duty Modern Warfare 3",
          "Dragon Age Origins",
          "Football Manager 2009",
          "Pokemon Diamond",
          "Citizen Sleeper",
          "Splatoon 3",
          "Returnal",
          "Kena: Bridge of Spirits",
          "Borderlands 3",
          "F1 2017",
          "Batman Arkham Knight",
          "OlliOlli 2: Welcome to Olliwood",
          "Tomb Raider",
          "The Legend of Zelda: Skyward Sword",
          "Assassin's Creed Revelations",
          "Team Fortress 2",
          "Lego Star Wars II: The Original Trilogy",
          "Mario & Luigi Superstar Saga",
          "Rollercoaster Tycoon 2",
          "Ys IX: Monstrum Nox",
          "Monster Sanctuary",
          "Spiritfarer",
          "F1 2019",
          "Pokemon Sun",
          "Assassin's Creed Syndicate",
          "Call of Duty Black Ops II",
          "Fifa 11",
          "Football Manager 2010",
          "Grand Theft Auto Vice City Stories",
          "Pokemon Legends Arceus",
          "Deathloop",
          "Luigi's Mansion 3",
          "Assassin's Creed Origins",
          "Forza Motorsport 7",
          "Gears of War 4",
          "F1 2016",
          "Call of Duty Infinite Warfare",
          "Fifa 14",
          "Halo 4",
          "F1 2011",
          "Lego Star Wars: The Video Game",
          "Cassette Beasts",
          "Halo Infinite",
          "Monster Hunter Rise",
          "Call of Duty Black Ops 4",
          "Mario + Rabbids Kingdom Battle",
          "Overwatch",
          "Far Cry 4",
          "inFAMOUS Second Son",
          "Path of Exile",
          "Resogun",
          "Football Manager 2013",
          "Fifa 12",
          "Ys Seven",
          "Fifa 07",
          "Two Point Campus",
          "Kirby and the Forgotten Land",
          "Apex Legends",
          "Concrete Genie",
          "Overcooked 2",
          "Overcooked",
          "Stardew Valley",
          "Call of Duty Advanced Warfare",
          "Pokemon Y",
          "Fifa 13",
          "Bioshock 2",
          "F1 2010",
          "Final Fantasy X",
          "The Legend of Zelda: A Link to the Past",
          "PlateUp!",
          "Teenage Mutant Ninja Turtles: Shredder's Revenge",
          "Xenoblade Chronicles Definitive Edition",
          "Dirt 5",
          "Dreams",
          "Gran Turismo Sport",
          "Call of Duty WW2",
          "Trackmania Turbo",
          "F1 2012",
          "Dragon Quest IX",
          "Nobody Saves The World",
          "Freshly Frosted",
          "Loop Hero",
          "Kingdom Hearts 3",
          "Ring Fit Adventure",
          "Ratchet & Clank",
          "Crypt of the Necrodancer",
          "Call of Duty Black Ops III",
          "The Order 1886",
          "Middle Earth Shadow of Mordor",
          "Pokemon Omega Ruby",
          "XCOM: Enemy Unknown",
          "Torchlight 2",
          "Football Manager 2012",
          "Heavy Rain",
          "Wild Hearts",
          "Chained Echoes",
          "Overwatch 2",
          "Deep Rock Galactic",
          "Streets of Rage 4",
          "A Plague Tale: Innocence",
          "Risk of Rain 2",
          "Sekiro Shadows Die Twice",
          "Warhammer Vermentide 2",
          "Gris",
          "Moss PSVR",
          "WipeOut Omega Collection",
          "Hearts of Iron IV",
          "Ori and The Blind Forest",
          "Trials Fusion",
          "Football Manager 2014",
          "Battlefield 4",
          "2010 FIFA World Cup South Africa",
          "Diablo 4",
          "Immortals Fenyx Rising",
          "Trials Rising",
          "Parkitect",
          "Far Cry 5",
          "Northgard",
          "Monster Hunter World",
          "Pokemon Let's Go Pikachu",
          "Pyre",
          "Doom (2016)",
          "Borderlands The Pre-Sequel",
          "Warframe",
          "Star Wars: Knights of the Old Republic",
          "Hot Wheels Unleashed",
          "Sackboy: A Big Adventure",
          "Bugsnax",
          "Ultimate Chicken Horse",
          "Prison Architect",
          "Guacamelee!",
          "Spec Ops The Line",
          "Need for Speed Hot Pursuit",
          "Torchlight",
          "Wii Sports",
          "Mario Strikers Charged Football",
          "Nintendogs",
          "Pokemon Violet",
          "WRC 9",
          "Crash Bandicoot 4: Its About Time",
          "Wargroove",
          "Wreckfest",
          "Dungeon of the Endless",
          "Endless Legend",
          "Destiny",
          "Infamous First Light",
          "Wii Fit",
          "The Simpsons Hit & Run",
          "Rollercoaster Tycoon",
          "Castlevania Symphony of the Night",
          "Cult of the Lamb",
          "Ghostwire Tokyo",
          "Tribes of Midgard",
          "Wildermyth",
          "The Riftbreaker",
          "Buck Up and Drive!",
          "Dirt Rally 2.0",
          "Darksiders Genesis",
          "The Legend of Zelda: Link's Awakening",
          "Football Manager 2015",
          "Uncharted Golden Abyss",
          "New Super Mario Bros. Wii",
          "Brain Training",
          "Grid Legends",
          "High on Life",
          "Hyrule Warriors Age of Calamity",
          "Star Wars Squadrons",
          "Journey to the Savage Planet",
          "Cat Quest II",
          "Detroit Become Human",
          "Hyper Light Drifter",
          "Stellaris",
          "Watch Dogs 2",
          "The Crew",
          "Velocity 2X",
          "Halo 3 ODST",
          "Crash Bandicoot",
          "20 Minutes Till Dawn",
          "Warpips",
          "Windjammers 2",
          "Cat Quest",
          "Battlefield 1",
          "Abzu",
          "Apotheon",
          "Assassin's Creed Rogue",
          "Don't Starve: Console Edition",
          "Sportsfriends",
          "Grand Theft Auto IV",
          "TemTem",
          "Trek to Yomi",
          "Curse of the Dead Gods",
          "Age of Empires IV",
          "Golf With Your Friends",
          "Fifa 19",
          "Motorsport Manager",
          "The Witcher 3",
          "Star Wars Battlefront",
          "Assassin's Creed Freedom Cry",
          "Killzone Shadow Fall",
          "Tunic",
          "Boyfriend Dungeon",
          "Grid (2019)",
          "GreedFall",
          "Golf Peaks",
          "Clustertruck",
          "Banished",
          "Lyne",
          "Skyrim",
          "Bayonetta",
          "F1 2009",
          "Pokemon Mystery Dunegon Explorers of Time",
          "Mini Motorways",
          "Cyberpunk 2077",
          "Dicey Dungeons",
          "Surviving Mars",
          "Dragon Quest XI",
          "Assassin's Creed Odyssey",
          "Nex Machina",
          "Factorio",
          "Game Dev Tycoon",
          "Awesomenauts",
          "Mario & Sonic at the Winter Olympic Games",
          "Need for Speed Unbound",
          "Mario Golf: Super Rush",
          "The Jackbox Party Pack 6",
          "Sea of Thieves",
          "Worms W.M.D",
          "Kingdom New Lands",
          "Far Cry Primal",
          "Sonic & All Stars Racing Transformed",
          "Animal Crossing City Folk",
          "Darksburg",
          "Fall Guys",
          "Mario Tennis Aces",
          "Final Fantasy XV",
          "New Super Mario Bros. 2",
          "Fifa Street 2",
          "Crash Bandicoot The Wrath of Cortex",
          "Nioh",
          "The Last Guardian",
          "Dragon Quest Builders",
          "Grid Autosport",
          "War Thunder",
          "Wo Long Fallen Dynasty",
          "A Plague Tale: Requiem",
          "Arcadeggedon",
          "The Ascent",
          "Minecraft Dungeons",
          "Just Cause 3",
          "Pure Pool",
          "Lego Star Wars The Skywalker Saga",
          "Back 4 Blood",
          "Pokemon Sword",
          "Shadow of the Colossus (Remake)",
          "Nier Automata",
          "Project Cars",
          "Big Pharma",
          "Mario & Sonic at the Olympic Games",
          "You Suck At Parking",
          "Embr",
          "For The King",
          "Human Fall Flat",
          "Civilization Beyond Earth",
          "Warlock - Master of the Arcane",
          "Scarlet Nexus",
          "Doom Eternal",
          "Unrailed!",
          "Octopath Traveller",
          "Spacelines from the Far Out",
          "Luna",
          "Middle Earth: Shadow of War",
          "Dandy Ace",
          "The Outer Worlds",
          "The Crew 2",
          "Destruction Allstars",
          "Outer Wilds",
          "Need For Speed Heat",
          "F1 2015",
          "DC Universe Online",
          "Tchia",
          "Dead Nation: Apocalypse Edition",
          "Burnout Paradise",
          "Little Big Planet 3",
          "Democracy 3",
          "Finding Nemo",
          "VR Worlds",
          "Clicker Heroes",
          "Lost Ark",
          "Golfie",
          "Control",
          "Minecraft Legends",
          "Shoppe Keep",
          "Diablo 2 Resurrected",
          "Mario Party 8",
          "Youtubers Life",
          "Game of Thrones Telltale",
          "F.I.S.T. Forged In Shadow Torch",
          "CrossfireX",
          "Marvel's Avengers",
          "Farming Simulator 2019",
          "Contrast",
          "Diablo Immortal",
          "Fifa 06 Game Boy Advance",
          "Cruis'n Blast",
          "Fifa 14 Legacy Edition",
          "Sunlight",
          "Doom VFR"
         ],
         "legendgroup": "",
         "marker": {
          "color": "#636efa",
          "symbol": "circle"
         },
         "mode": "markers",
         "name": "",
         "orientation": "v",
         "showlegend": false,
         "type": "scatter",
         "x": [
          96,
          97,
          94,
          95,
          97,
          94,
          97,
          97,
          89,
          96,
          89,
          97,
          97,
          94,
          93,
          92,
          96,
          94,
          97,
          95,
          96,
          91,
          90,
          90,
          88,
          93,
          71,
          93,
          87,
          85,
          87,
          91,
          90,
          96,
          91,
          96,
          88,
          92,
          92,
          84,
          92,
          89,
          90,
          94,
          97,
          88,
          88,
          90,
          92,
          92,
          88,
          87,
          93,
          87,
          95,
          99,
          92,
          85,
          93,
          85,
          85,
          91,
          91,
          92,
          91,
          92,
          87,
          92,
          90,
          93,
          88,
          89,
          89,
          90,
          85,
          87,
          89,
          93,
          90,
          94,
          89,
          88,
          87,
          89,
          88,
          84,
          87,
          94,
          87,
          86,
          85,
          83,
          92,
          89,
          91,
          87,
          82,
          85,
          87,
          86,
          88,
          90,
          85,
          88,
          89,
          88,
          86,
          86,
          95,
          91,
          84,
          84,
          85,
          82,
          83,
          83,
          80,
          93,
          85,
          79,
          88,
          89,
          86,
          84,
          78,
          84,
          77,
          70,
          87,
          87,
          83,
          89,
          91,
          83,
          85,
          84,
          83,
          86,
          82,
          80,
          86,
          87,
          85,
          85,
          93,
          80,
          92,
          84,
          90,
          74,
          80,
          80,
          87,
          86,
          87,
          76,
          83,
          88,
          87,
          86,
          84,
          88,
          86,
          81,
          85,
          84,
          82,
          77,
          85,
          87,
          84,
          78,
          86,
          87,
          88,
          85,
          85,
          91,
          85,
          80,
          93,
          84,
          86,
          90,
          79,
          82,
          84,
          84,
          86,
          77,
          81,
          80,
          89,
          83,
          86,
          90,
          88,
          84,
          92,
          95,
          80,
          87,
          89,
          82,
          90,
          75,
          79,
          81,
          81,
          87,
          80,
          91,
          84,
          85,
          83,
          85,
          87,
          81,
          63,
          84,
          83,
          89,
          88,
          84,
          87,
          79,
          89,
          77,
          85,
          84,
          82,
          86,
          90,
          83,
          84,
          85,
          85,
          83,
          89,
          79,
          85,
          85,
          82,
          88,
          79,
          80,
          83,
          82,
          79,
          89,
          81,
          84,
          85,
          75,
          71,
          94,
          74,
          81,
          75,
          79,
          80,
          83,
          76,
          88,
          83,
          76,
          79,
          83,
          72,
          80,
          85,
          83,
          80,
          79,
          82,
          76,
          73,
          80,
          78,
          78,
          93,
          84,
          77,
          75,
          85,
          80,
          70,
          83,
          79,
          87,
          80,
          80,
          87,
          77,
          75,
          69,
          80,
          79,
          76,
          76,
          78,
          84,
          81,
          82,
          61,
          85,
          83,
          80,
          76,
          79,
          77,
          72,
          87,
          80,
          76,
          72,
          76,
          80,
          98,
          76,
          72,
          81,
          83,
          69,
          81,
          81,
          92,
          73,
          70,
          73,
          86,
          73,
          73,
          75,
          75,
          76,
          74,
          86,
          94,
          90,
          69,
          60,
          80,
          76,
          82,
          77,
          86,
          85,
          84,
          70,
          68,
          78,
          72,
          75,
          71,
          74,
          67,
          78,
          73,
          76,
          75,
          73,
          68,
          80,
          78,
          81,
          78,
          59,
          66,
          88,
          81,
          70,
          78,
          75,
          82,
          84,
          74,
          73,
          72,
          73,
          73,
          82,
          76,
          80,
          92,
          89,
          75,
          64,
          67,
          70,
          67,
          75,
          68,
          81,
          71,
          79,
          89,
          75,
          83,
          82,
          62,
          79,
          79,
          85,
          64,
          62,
          86,
          72,
          65,
          72,
          78,
          71,
          88,
          79,
          70,
          63,
          56,
          57,
          82,
          70,
          84,
          71,
          57,
          80,
          62,
          63,
          69,
          80,
          42,
          68,
          64,
          59,
          65,
          49,
          73,
          38,
          78,
          70
         ],
         "xaxis": "x",
         "y": [
          95.61274620952173,
          94.4450729849866,
          93.49744186602115,
          98.78580273065968,
          92.79107534820545,
          90.37777063627985,
          95.35974557088169,
          92.42991979272648,
          81.65088486185697,
          94.13583925711416,
          90.30406149726502,
          97.16767730034842,
          92.81805039454322,
          94.48788106305975,
          90.80771726762758,
          88.73598769799793,
          96.02623181127147,
          92.10391421363028,
          94.76231773431248,
          88.96897621758067,
          94.63971976782587,
          84.87149097940917,
          84.36922676565541,
          87.05597085588522,
          93.97238931326221,
          96.35579849257797,
          67.83358198314882,
          91.89204161419386,
          86.14421749305524,
          91.37239902341148,
          91.61993433402424,
          90.47715137180097,
          88.90020719717336,
          94.00791349073467,
          91.05670323970469,
          92.72160196657082,
          85.92729258051988,
          90.04423642894032,
          91.16640633992995,
          89.55260874758868,
          89.1690307072298,
          90.21771181525013,
          88.3817613303145,
          87.54636394190369,
          91.37573699294575,
          90.04123129310784,
          87.79414537331435,
          86.1813975064435,
          92.06569324278627,
          87.60703216454554,
          89.02114934159822,
          86.4357123577118,
          83.61802021680829,
          86.27837552761343,
          86.42159088563122,
          89.26813365102983,
          85.41548449707112,
          91.14549949823903,
          85.85128592345126,
          74.3288498406996,
          81.8532127410142,
          87.01491894929524,
          85.27420567362374,
          87.08970875822918,
          90.73228467535107,
          85.29883991072262,
          85.7026492739651,
          84.19309210418471,
          78.46325978680309,
          88.82153049727043,
          86.65252393905519,
          85.50038093634824,
          85.50038093634824,
          85.60321036801435,
          86.68179848759752,
          78.02373742884227,
          81.74280841351664,
          88.59251044807304,
          86.93147864692186,
          86.69777981934354,
          83.52636238091566,
          87.78576681001655,
          82.17871703456368,
          85.94880207128362,
          86.83484305321096,
          81.88934665328601,
          82.05584757727185,
          89.49414951052738,
          83.47503392772029,
          85.49962849800725,
          82.41120282919721,
          86.0898111043655,
          80.83516311962593,
          81.55720367865528,
          87.71498571974018,
          85.78762221876867,
          80.50848879996221,
          89.02252355700287,
          89.38332749440033,
          83.07798309281151,
          84.82176473865454,
          86.5205279153469,
          79.00586455293661,
          83.72257679352626,
          84.14874627928963,
          82.49993990105865,
          80.31833879935814,
          81.22804468538152,
          88.88455211129944,
          86.5684421741829,
          82.02410118785133,
          77.71965244592545,
          80.35473613992755,
          77.85300840737033,
          81.66547504100414,
          79.1976586567136,
          80.7736631952726,
          87.30669289506719,
          83.59128607321547,
          79.40258989152706,
          87.17419025782932,
          83.12728277115706,
          81.15021302922696,
          80.66617528978468,
          71.18098499318526,
          78.72209555967895,
          76.08651663873073,
          82.73233052839502,
          86.35975280285858,
          84.92037046167015,
          80.8164133940756,
          84.96717835070412,
          89.31679545035,
          80.46559192340317,
          83.23687757182807,
          74.65212616896218,
          83.53343795350415,
          86.13067074881218,
          81.66070172671553,
          72.77292887911248,
          81.81045777306593,
          87.27939443969876,
          81.66114604364974,
          85.22872016549351,
          83.76564615919443,
          83.18380630765476,
          84.51955305860017,
          82.20309263960266,
          81.66187131026463,
          77.16634782092618,
          74.61935123278403,
          77.95001976895837,
          81.42323817026609,
          81.49921031675488,
          82.85098595451238,
          78.28538901145487,
          80.9790665927075,
          83.44730660674284,
          83.02328608843469,
          81.6683483402203,
          76.98719191386414,
          82.41453720061044,
          74.4247692018522,
          73.08417633542354,
          78.16662534605976,
          79.07518468046366,
          76.93855356450291,
          71.67588821059775,
          78.36330672885965,
          82.84346499312203,
          80.02841383401805,
          75.13462667892814,
          80.17670471638355,
          81.31364101308945,
          81.42956100036106,
          77.47074262864466,
          77.43353357313559,
          84.73685440448926,
          79.60876215404878,
          76.04154923280768,
          85.30733798569189,
          77.75275276575476,
          80.22164761072457,
          82.76453331647355,
          75.0377565765031,
          79.19574362725258,
          77.00580978082242,
          80.43397460842517,
          78.30377765561487,
          75.34610842896112,
          71.97590832998216,
          70.45909984282373,
          81.87603389640124,
          79.18085343637932,
          79.71150784823779,
          83.12381457507921,
          84.85526027688095,
          80.02841383401805,
          90.09413962951223,
          80.51603578712486,
          74.55947806546725,
          82.07221610874548,
          80.30344097260107,
          78.97182803533421,
          81.64068090366132,
          72.52481150082382,
          74.51638197652512,
          76.93855356450291,
          79.9702381055981,
          83.99715959379648,
          72.06033970244958,
          84.75501464340705,
          76.24723468516639,
          77.8357584909223,
          76.61653657844137,
          78.61884706391085,
          81.11906960054681,
          76.41474871422321,
          74.1637237454752,
          80.0857549398849,
          77.73026375359503,
          81.47747326533293,
          83.19412624413197,
          79.93424618883208,
          83.47717783154006,
          68.05280746215287,
          78.15101487289934,
          71.95903175508694,
          79.51248153493901,
          76.24723468516639,
          74.9669953713438,
          81.93988376625227,
          83.73822785499743,
          75.07851811743048,
          73.06589645585265,
          73.41435296767277,
          80.97742274609573,
          76.34723091252285,
          83.53715449196365,
          73.30084869118275,
          76.77034819601553,
          79.99450792670402,
          77.62600309281517,
          79.0636901017319,
          72.85977655896377,
          76.00323746330699,
          78.73713661058518,
          72.2975630842886,
          70.86517445011467,
          83.61850568885036,
          73.06479906827346,
          75.61639130721649,
          75.3633878353208,
          71.05233555214375,
          68.07078742010567,
          86.65189815964085,
          71.57926342641845,
          75.08168324788181,
          72.2183790256312,
          70.93449457764171,
          75.71358608634037,
          77.41181854260533,
          75.5274653698241,
          65.9658961832124,
          78.0305586982469,
          72.8100177043982,
          74.36908053508733,
          78.88879787430224,
          70.00759814366438,
          76.23966163769678,
          76.66688852949868,
          76.79455855186782,
          74.64915473320323,
          71.02988429617768,
          72.73147901442272,
          71.48987953202374,
          74.78168077189758,
          75.02708660518572,
          73.68243614208541,
          74.47732308498873,
          79.29352828807706,
          71.80362236496745,
          66.65422018947845,
          71.10385562090448,
          76.51769155106062,
          72.31486642939177,
          65.29068267587913,
          79.06573522429197,
          70.1052795311422,
          78.32358592545718,
          73.49005411007874,
          74.63274545745364,
          79.64571195425137,
          74.46514879673238,
          71.57926342641845,
          71.23250173156994,
          72.12660576620617,
          70.69970922989249,
          69.47665384788002,
          70.46161390019262,
          70.4990599492803,
          72.77368623480682,
          72.85752293630463,
          73.7431209033629,
          66.92690673637352,
          75.80699632310427,
          75.31831315661215,
          74.2530872062791,
          66.81966106215886,
          71.62374954577069,
          70.12102813152514,
          70.64280051583798,
          80.57779585077988,
          69.555074000828,
          70.33155562621137,
          70.97984045905775,
          70.81247822072427,
          73.83851062189886,
          89.53445682939591,
          69.98602810056158,
          67.10448760486031,
          72.1082003022011,
          76.6780822158657,
          64.14538179539223,
          72.67329835139581,
          73.39466439154278,
          87.68857219458579,
          67.93612495569624,
          67.44386813683288,
          69.5673261535406,
          71.51271999137482,
          66.92646563143386,
          69.9864251721174,
          70.6380436146102,
          68.01711578154305,
          70.05800350266843,
          70.28341507102175,
          73.11132381136822,
          83.3956721809431,
          79.14875744547092,
          66.43384220386169,
          65.08996334540052,
          72.9669405992296,
          71.55258603169106,
          72.20836550357357,
          69.36245303586911,
          78.11185374771617,
          76.68216669211331,
          76.3057300659079,
          65.56358922209853,
          63.85464460005914,
          73.56748184605291,
          69.42357369542162,
          63.372342201062494,
          64.76407486468182,
          69.87677789617474,
          60.505611163858944,
          68.91615285430034,
          67.07701325938521,
          70.8427673749308,
          69.43500266252622,
          67.82771985944564,
          59.665820936604,
          72.37817538764371,
          70.11793235466979,
          73.53265517474422,
          74.05412459120332,
          64.02518396769567,
          65.52286472073892,
          75.08029522992045,
          71.52533150455727,
          63.10321856909797,
          70.75299629839293,
          68.9553837187241,
          69.39599851561178,
          73.52129458408686,
          67.78377060491964,
          66.26630454211468,
          65.4934942936607,
          70.12032100118911,
          67.21667675709853,
          71.28444217192866,
          68.54868085045018,
          73.06479906827346,
          80.25261684678604,
          82.70835674521788,
          71.23085951508898,
          59.31673301108838,
          63.45651740896991,
          66.22011901777147,
          59.84384291003047,
          68.42765629485179,
          61.63836973858287,
          73.49005411007874,
          63.75290699169839,
          73.66896960178119,
          80.68398984692742,
          68.2936614663964,
          74.16234478513192,
          71.51097548215992,
          54.27396029554793,
          72.87274666341071,
          69.95857355333465,
          69.66424111026694,
          63.6929286712751,
          58.83216469253679,
          70.64173481629317,
          71.76736971980608,
          61.738830130981455,
          62.90964844489323,
          59.20699532441667,
          62.717104108476654,
          62.815403776520846,
          67.43928223673451,
          64.51148208735447,
          59.839856834395576,
          55.69169648656711,
          55.53498808357495,
          59.9277382269021,
          56.43302131625454,
          76.10182780572009,
          54.71263935546914,
          54.8578914604226,
          62.02472386017319,
          58.26099745554046,
          53.952661937446734,
          57.22769058821805,
          57.044286705919596,
          49.42276555058163,
          59.223488364899346,
          58.733593503509255,
          61.32533317598398,
          47.827662496712655,
          53.05849176412858,
          69.58523009376002,
          41.38206303153978,
          49.766395575852734,
          63.546187819279346
         ],
         "yaxis": "y"
        }
       ],
       "layout": {
        "legend": {
         "tracegroupgap": 0
        },
        "margin": {
         "t": 60
        },
        "template": {
         "data": {
          "bar": [
           {
            "error_x": {
             "color": "#2a3f5f"
            },
            "error_y": {
             "color": "#2a3f5f"
            },
            "marker": {
             "line": {
              "color": "#E5ECF6",
              "width": 0.5
             },
             "pattern": {
              "fillmode": "overlay",
              "size": 10,
              "solidity": 0.2
             }
            },
            "type": "bar"
           }
          ],
          "barpolar": [
           {
            "marker": {
             "line": {
              "color": "#E5ECF6",
              "width": 0.5
             },
             "pattern": {
              "fillmode": "overlay",
              "size": 10,
              "solidity": 0.2
             }
            },
            "type": "barpolar"
           }
          ],
          "carpet": [
           {
            "aaxis": {
             "endlinecolor": "#2a3f5f",
             "gridcolor": "white",
             "linecolor": "white",
             "minorgridcolor": "white",
             "startlinecolor": "#2a3f5f"
            },
            "baxis": {
             "endlinecolor": "#2a3f5f",
             "gridcolor": "white",
             "linecolor": "white",
             "minorgridcolor": "white",
             "startlinecolor": "#2a3f5f"
            },
            "type": "carpet"
           }
          ],
          "choropleth": [
           {
            "colorbar": {
             "outlinewidth": 0,
             "ticks": ""
            },
            "type": "choropleth"
           }
          ],
          "contour": [
           {
            "colorbar": {
             "outlinewidth": 0,
             "ticks": ""
            },
            "colorscale": [
             [
              0,
              "#0d0887"
             ],
             [
              0.1111111111111111,
              "#46039f"
             ],
             [
              0.2222222222222222,
              "#7201a8"
             ],
             [
              0.3333333333333333,
              "#9c179e"
             ],
             [
              0.4444444444444444,
              "#bd3786"
             ],
             [
              0.5555555555555556,
              "#d8576b"
             ],
             [
              0.6666666666666666,
              "#ed7953"
             ],
             [
              0.7777777777777778,
              "#fb9f3a"
             ],
             [
              0.8888888888888888,
              "#fdca26"
             ],
             [
              1,
              "#f0f921"
             ]
            ],
            "type": "contour"
           }
          ],
          "contourcarpet": [
           {
            "colorbar": {
             "outlinewidth": 0,
             "ticks": ""
            },
            "type": "contourcarpet"
           }
          ],
          "heatmap": [
           {
            "colorbar": {
             "outlinewidth": 0,
             "ticks": ""
            },
            "colorscale": [
             [
              0,
              "#0d0887"
             ],
             [
              0.1111111111111111,
              "#46039f"
             ],
             [
              0.2222222222222222,
              "#7201a8"
             ],
             [
              0.3333333333333333,
              "#9c179e"
             ],
             [
              0.4444444444444444,
              "#bd3786"
             ],
             [
              0.5555555555555556,
              "#d8576b"
             ],
             [
              0.6666666666666666,
              "#ed7953"
             ],
             [
              0.7777777777777778,
              "#fb9f3a"
             ],
             [
              0.8888888888888888,
              "#fdca26"
             ],
             [
              1,
              "#f0f921"
             ]
            ],
            "type": "heatmap"
           }
          ],
          "heatmapgl": [
           {
            "colorbar": {
             "outlinewidth": 0,
             "ticks": ""
            },
            "colorscale": [
             [
              0,
              "#0d0887"
             ],
             [
              0.1111111111111111,
              "#46039f"
             ],
             [
              0.2222222222222222,
              "#7201a8"
             ],
             [
              0.3333333333333333,
              "#9c179e"
             ],
             [
              0.4444444444444444,
              "#bd3786"
             ],
             [
              0.5555555555555556,
              "#d8576b"
             ],
             [
              0.6666666666666666,
              "#ed7953"
             ],
             [
              0.7777777777777778,
              "#fb9f3a"
             ],
             [
              0.8888888888888888,
              "#fdca26"
             ],
             [
              1,
              "#f0f921"
             ]
            ],
            "type": "heatmapgl"
           }
          ],
          "histogram": [
           {
            "marker": {
             "pattern": {
              "fillmode": "overlay",
              "size": 10,
              "solidity": 0.2
             }
            },
            "type": "histogram"
           }
          ],
          "histogram2d": [
           {
            "colorbar": {
             "outlinewidth": 0,
             "ticks": ""
            },
            "colorscale": [
             [
              0,
              "#0d0887"
             ],
             [
              0.1111111111111111,
              "#46039f"
             ],
             [
              0.2222222222222222,
              "#7201a8"
             ],
             [
              0.3333333333333333,
              "#9c179e"
             ],
             [
              0.4444444444444444,
              "#bd3786"
             ],
             [
              0.5555555555555556,
              "#d8576b"
             ],
             [
              0.6666666666666666,
              "#ed7953"
             ],
             [
              0.7777777777777778,
              "#fb9f3a"
             ],
             [
              0.8888888888888888,
              "#fdca26"
             ],
             [
              1,
              "#f0f921"
             ]
            ],
            "type": "histogram2d"
           }
          ],
          "histogram2dcontour": [
           {
            "colorbar": {
             "outlinewidth": 0,
             "ticks": ""
            },
            "colorscale": [
             [
              0,
              "#0d0887"
             ],
             [
              0.1111111111111111,
              "#46039f"
             ],
             [
              0.2222222222222222,
              "#7201a8"
             ],
             [
              0.3333333333333333,
              "#9c179e"
             ],
             [
              0.4444444444444444,
              "#bd3786"
             ],
             [
              0.5555555555555556,
              "#d8576b"
             ],
             [
              0.6666666666666666,
              "#ed7953"
             ],
             [
              0.7777777777777778,
              "#fb9f3a"
             ],
             [
              0.8888888888888888,
              "#fdca26"
             ],
             [
              1,
              "#f0f921"
             ]
            ],
            "type": "histogram2dcontour"
           }
          ],
          "mesh3d": [
           {
            "colorbar": {
             "outlinewidth": 0,
             "ticks": ""
            },
            "type": "mesh3d"
           }
          ],
          "parcoords": [
           {
            "line": {
             "colorbar": {
              "outlinewidth": 0,
              "ticks": ""
             }
            },
            "type": "parcoords"
           }
          ],
          "pie": [
           {
            "automargin": true,
            "type": "pie"
           }
          ],
          "scatter": [
           {
            "fillpattern": {
             "fillmode": "overlay",
             "size": 10,
             "solidity": 0.2
            },
            "type": "scatter"
           }
          ],
          "scatter3d": [
           {
            "line": {
             "colorbar": {
              "outlinewidth": 0,
              "ticks": ""
             }
            },
            "marker": {
             "colorbar": {
              "outlinewidth": 0,
              "ticks": ""
             }
            },
            "type": "scatter3d"
           }
          ],
          "scattercarpet": [
           {
            "marker": {
             "colorbar": {
              "outlinewidth": 0,
              "ticks": ""
             }
            },
            "type": "scattercarpet"
           }
          ],
          "scattergeo": [
           {
            "marker": {
             "colorbar": {
              "outlinewidth": 0,
              "ticks": ""
             }
            },
            "type": "scattergeo"
           }
          ],
          "scattergl": [
           {
            "marker": {
             "colorbar": {
              "outlinewidth": 0,
              "ticks": ""
             }
            },
            "type": "scattergl"
           }
          ],
          "scattermapbox": [
           {
            "marker": {
             "colorbar": {
              "outlinewidth": 0,
              "ticks": ""
             }
            },
            "type": "scattermapbox"
           }
          ],
          "scatterpolar": [
           {
            "marker": {
             "colorbar": {
              "outlinewidth": 0,
              "ticks": ""
             }
            },
            "type": "scatterpolar"
           }
          ],
          "scatterpolargl": [
           {
            "marker": {
             "colorbar": {
              "outlinewidth": 0,
              "ticks": ""
             }
            },
            "type": "scatterpolargl"
           }
          ],
          "scatterternary": [
           {
            "marker": {
             "colorbar": {
              "outlinewidth": 0,
              "ticks": ""
             }
            },
            "type": "scatterternary"
           }
          ],
          "surface": [
           {
            "colorbar": {
             "outlinewidth": 0,
             "ticks": ""
            },
            "colorscale": [
             [
              0,
              "#0d0887"
             ],
             [
              0.1111111111111111,
              "#46039f"
             ],
             [
              0.2222222222222222,
              "#7201a8"
             ],
             [
              0.3333333333333333,
              "#9c179e"
             ],
             [
              0.4444444444444444,
              "#bd3786"
             ],
             [
              0.5555555555555556,
              "#d8576b"
             ],
             [
              0.6666666666666666,
              "#ed7953"
             ],
             [
              0.7777777777777778,
              "#fb9f3a"
             ],
             [
              0.8888888888888888,
              "#fdca26"
             ],
             [
              1,
              "#f0f921"
             ]
            ],
            "type": "surface"
           }
          ],
          "table": [
           {
            "cells": {
             "fill": {
              "color": "#EBF0F8"
             },
             "line": {
              "color": "white"
             }
            },
            "header": {
             "fill": {
              "color": "#C8D4E3"
             },
             "line": {
              "color": "white"
             }
            },
            "type": "table"
           }
          ]
         },
         "layout": {
          "annotationdefaults": {
           "arrowcolor": "#2a3f5f",
           "arrowhead": 0,
           "arrowwidth": 1
          },
          "autotypenumbers": "strict",
          "coloraxis": {
           "colorbar": {
            "outlinewidth": 0,
            "ticks": ""
           }
          },
          "colorscale": {
           "diverging": [
            [
             0,
             "#8e0152"
            ],
            [
             0.1,
             "#c51b7d"
            ],
            [
             0.2,
             "#de77ae"
            ],
            [
             0.3,
             "#f1b6da"
            ],
            [
             0.4,
             "#fde0ef"
            ],
            [
             0.5,
             "#f7f7f7"
            ],
            [
             0.6,
             "#e6f5d0"
            ],
            [
             0.7,
             "#b8e186"
            ],
            [
             0.8,
             "#7fbc41"
            ],
            [
             0.9,
             "#4d9221"
            ],
            [
             1,
             "#276419"
            ]
           ],
           "sequential": [
            [
             0,
             "#0d0887"
            ],
            [
             0.1111111111111111,
             "#46039f"
            ],
            [
             0.2222222222222222,
             "#7201a8"
            ],
            [
             0.3333333333333333,
             "#9c179e"
            ],
            [
             0.4444444444444444,
             "#bd3786"
            ],
            [
             0.5555555555555556,
             "#d8576b"
            ],
            [
             0.6666666666666666,
             "#ed7953"
            ],
            [
             0.7777777777777778,
             "#fb9f3a"
            ],
            [
             0.8888888888888888,
             "#fdca26"
            ],
            [
             1,
             "#f0f921"
            ]
           ],
           "sequentialminus": [
            [
             0,
             "#0d0887"
            ],
            [
             0.1111111111111111,
             "#46039f"
            ],
            [
             0.2222222222222222,
             "#7201a8"
            ],
            [
             0.3333333333333333,
             "#9c179e"
            ],
            [
             0.4444444444444444,
             "#bd3786"
            ],
            [
             0.5555555555555556,
             "#d8576b"
            ],
            [
             0.6666666666666666,
             "#ed7953"
            ],
            [
             0.7777777777777778,
             "#fb9f3a"
            ],
            [
             0.8888888888888888,
             "#fdca26"
            ],
            [
             1,
             "#f0f921"
            ]
           ]
          },
          "colorway": [
           "#636efa",
           "#EF553B",
           "#00cc96",
           "#ab63fa",
           "#FFA15A",
           "#19d3f3",
           "#FF6692",
           "#B6E880",
           "#FF97FF",
           "#FECB52"
          ],
          "font": {
           "color": "#2a3f5f"
          },
          "geo": {
           "bgcolor": "white",
           "lakecolor": "white",
           "landcolor": "#E5ECF6",
           "showlakes": true,
           "showland": true,
           "subunitcolor": "white"
          },
          "hoverlabel": {
           "align": "left"
          },
          "hovermode": "closest",
          "mapbox": {
           "style": "light"
          },
          "paper_bgcolor": "white",
          "plot_bgcolor": "#E5ECF6",
          "polar": {
           "angularaxis": {
            "gridcolor": "white",
            "linecolor": "white",
            "ticks": ""
           },
           "bgcolor": "#E5ECF6",
           "radialaxis": {
            "gridcolor": "white",
            "linecolor": "white",
            "ticks": ""
           }
          },
          "scene": {
           "xaxis": {
            "backgroundcolor": "#E5ECF6",
            "gridcolor": "white",
            "gridwidth": 2,
            "linecolor": "white",
            "showbackground": true,
            "ticks": "",
            "zerolinecolor": "white"
           },
           "yaxis": {
            "backgroundcolor": "#E5ECF6",
            "gridcolor": "white",
            "gridwidth": 2,
            "linecolor": "white",
            "showbackground": true,
            "ticks": "",
            "zerolinecolor": "white"
           },
           "zaxis": {
            "backgroundcolor": "#E5ECF6",
            "gridcolor": "white",
            "gridwidth": 2,
            "linecolor": "white",
            "showbackground": true,
            "ticks": "",
            "zerolinecolor": "white"
           }
          },
          "shapedefaults": {
           "line": {
            "color": "#2a3f5f"
           }
          },
          "ternary": {
           "aaxis": {
            "gridcolor": "white",
            "linecolor": "white",
            "ticks": ""
           },
           "baxis": {
            "gridcolor": "white",
            "linecolor": "white",
            "ticks": ""
           },
           "bgcolor": "#E5ECF6",
           "caxis": {
            "gridcolor": "white",
            "linecolor": "white",
            "ticks": ""
           }
          },
          "title": {
           "x": 0.05
          },
          "xaxis": {
           "automargin": true,
           "gridcolor": "white",
           "linecolor": "white",
           "ticks": "",
           "title": {
            "standoff": 15
           },
           "zerolinecolor": "white",
           "zerolinewidth": 2
          },
          "yaxis": {
           "automargin": true,
           "gridcolor": "white",
           "linecolor": "white",
           "ticks": "",
           "title": {
            "standoff": 15
           },
           "zerolinecolor": "white",
           "zerolinewidth": 2
          }
         }
        },
        "xaxis": {
         "anchor": "y",
         "domain": [
          0,
          1
         ],
         "title": {
          "text": "Review avg"
         }
        },
        "yaxis": {
         "anchor": "x",
         "domain": [
          0,
          1
         ],
         "title": {
          "text": "Predicted Rating"
         }
        }
       }
      }
     },
     "metadata": {},
     "output_type": "display_data"
    }
   ],
   "source": [
    "#obtain plot of predicted rating vs review score\n",
    "all_labels = pd.merge(y, data['Game'], left_index= True, right_index = True) #join the game name back in to rating scores\n",
    "scores_labels = pd.merge(all_labels, data['Reviewscore'], left_index= True, right_index = True) #join the review avg back in to rating scores\n",
    "scores_comp = pd.DataFrame({'Game': scores_labels['Game'], \n",
    "                            'Predicted Rating': model.predict(X), \n",
    "                            'Actual Rating': scores_labels['Rating'], \n",
    "                            'Review avg': scores_labels['Reviewscore']}) #join the test set to the predictions\n",
    "# scatter plot\n",
    "fig = px.scatter(scores_comp, x=\"Review avg\", y=\"Predicted Rating\", hover_name= 'Game')\n",
    "fig\n"
   ]
  }
 ],
 "metadata": {
  "kernelspec": {
   "display_name": "Python 3 (ipykernel)",
   "language": "python",
   "name": "python3"
  },
  "language_info": {
   "codemirror_mode": {
    "name": "ipython",
    "version": 3
   },
   "file_extension": ".py",
   "mimetype": "text/x-python",
   "name": "python",
   "nbconvert_exporter": "python",
   "pygments_lexer": "ipython3",
   "version": "3.10.9"
  }
 },
 "nbformat": 4,
 "nbformat_minor": 5
}
