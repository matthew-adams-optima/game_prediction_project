{
 "cells": [
  {
   "cell_type": "code",
   "execution_count": 1,
   "metadata": {},
   "outputs": [],
   "source": [
    "# initialisation\n",
    "import pandas as pd\n",
    "import numpy as np\n",
    "import plotly.express as px\n",
    "import itertools\n",
    "import joblib\n",
    "from scipy.stats import *\n",
    "from pandasgui import show\n",
    "from sklearn.ensemble import GradientBoostingRegressor\n",
    "from sklearn.linear_model import LinearRegression\n",
    "from sklearn.model_selection import train_test_split"
   ]
  },
  {
   "cell_type": "code",
   "execution_count": 2,
   "metadata": {},
   "outputs": [],
   "source": [
    "model = joblib.load('gbrmodel.joblib')\n",
    "data = pd.read_pickle('../data/processed_data.pkl')\n",
    "y_test = pd.read_pickle('../data/y_test.pkl')\n",
    "X_test = pd.read_pickle('../data/X_test.pkl')\n",
    "X = pd.read_pickle('../data/X.pkl')\n",
    "y = pd.read_pickle('../data/y.pkl')"
   ]
  },
  {
   "cell_type": "code",
   "execution_count": 3,
   "metadata": {},
   "outputs": [
    {
     "data": {
      "text/html": [
       "<div>\n",
       "<style scoped>\n",
       "    .dataframe tbody tr th:only-of-type {\n",
       "        vertical-align: middle;\n",
       "    }\n",
       "\n",
       "    .dataframe tbody tr th {\n",
       "        vertical-align: top;\n",
       "    }\n",
       "\n",
       "    .dataframe thead th {\n",
       "        text-align: right;\n",
       "    }\n",
       "</style>\n",
       "<table border=\"1\" class=\"dataframe\">\n",
       "  <thead>\n",
       "    <tr style=\"text-align: right;\">\n",
       "      <th></th>\n",
       "      <th>0</th>\n",
       "    </tr>\n",
       "  </thead>\n",
       "  <tbody>\n",
       "    <tr>\n",
       "      <th>Reviewscore</th>\n",
       "      <td>0.604337</td>\n",
       "    </tr>\n",
       "    <tr>\n",
       "      <th>Launch Year</th>\n",
       "      <td>0.018757</td>\n",
       "    </tr>\n",
       "    <tr>\n",
       "      <th>Play Year</th>\n",
       "      <td>0.036532</td>\n",
       "    </tr>\n",
       "    <tr>\n",
       "      <th>DLC/ Major update played</th>\n",
       "      <td>0.029255</td>\n",
       "    </tr>\n",
       "    <tr>\n",
       "      <th>Remaster Reviewscore</th>\n",
       "      <td>0.002028</td>\n",
       "    </tr>\n",
       "    <tr>\n",
       "      <th>...</th>\n",
       "      <td>...</td>\n",
       "    </tr>\n",
       "    <tr>\n",
       "      <th>Any multiplayer</th>\n",
       "      <td>0.000665</td>\n",
       "    </tr>\n",
       "    <tr>\n",
       "      <th>Any racing</th>\n",
       "      <td>0.000000</td>\n",
       "    </tr>\n",
       "    <tr>\n",
       "      <th>Any sports</th>\n",
       "      <td>0.000000</td>\n",
       "    </tr>\n",
       "    <tr>\n",
       "      <th>Any simulation</th>\n",
       "      <td>0.000000</td>\n",
       "    </tr>\n",
       "    <tr>\n",
       "      <th>Any strategy</th>\n",
       "      <td>0.000000</td>\n",
       "    </tr>\n",
       "  </tbody>\n",
       "</table>\n",
       "<p>287 rows × 1 columns</p>\n",
       "</div>"
      ],
      "text/plain": [
       "                                 0\n",
       "Reviewscore               0.604337\n",
       "Launch Year               0.018757\n",
       "Play Year                 0.036532\n",
       "DLC/ Major update played  0.029255\n",
       "Remaster Reviewscore      0.002028\n",
       "...                            ...\n",
       "Any multiplayer           0.000665\n",
       "Any racing                0.000000\n",
       "Any sports                0.000000\n",
       "Any simulation            0.000000\n",
       "Any strategy              0.000000\n",
       "\n",
       "[287 rows x 1 columns]"
      ]
     },
     "execution_count": 3,
     "metadata": {},
     "output_type": "execute_result"
    }
   ],
   "source": [
    "# obtain feature importances\n",
    "importance = model.feature_importances_\n",
    "importances_df = pd.DataFrame([importance], columns = X.columns)\n",
    "importances_df = importances_df.transpose()\n",
    "importances_df.to_csv('../data/feature_importances.csv') # send importances to csv\n",
    "importances_df\n"
   ]
  },
  {
   "cell_type": "code",
   "execution_count": 4,
   "metadata": {},
   "outputs": [],
   "source": [
    "# analyse performance using test set\n",
    "test_labels = pd.merge(y_test, data['Game'], left_index= True, right_index = True) #join the game name back in to rating scores\n",
    "test_scores = pd.DataFrame({'Game': test_labels['Game'], 'Predicted Rating':model.predict(X_test), 'Actual Rating': test_labels['Rating']}) #join the test set to the predictions\n",
    "test_scores.to_csv('../data/test_scores_output.csv')"
   ]
  },
  {
   "cell_type": "code",
   "execution_count": 5,
   "metadata": {},
   "outputs": [
    {
     "data": {
      "application/vnd.plotly.v1+json": {
       "config": {
        "plotlyServerURL": "https://plot.ly"
       },
       "data": [
        {
         "hovertemplate": "<b>%{hovertext}</b><br><br>Actual Rating=%{x}<br>Predicted Rating=%{y}<extra></extra>",
         "hovertext": [
          "Nioh",
          "Trials Rising",
          "Crypt of the Necrodancer",
          "Marvel's Avengers",
          "The Outer Worlds",
          "Destruction Allstars",
          "Super Mario Odyssey",
          "Unrailed!",
          "Rollerdrome",
          "F1 2012",
          "Tetris Effect",
          "F1 2019",
          "Stellaris",
          "Path of Exile",
          "WRC 9",
          "Astro Bot Rescue Mission",
          "Mario + Rabbids Kingdom Battle",
          "The Legend of Zelda: Tears of the Kingdom",
          "Horizon Zero Dawn",
          "Heavy Rain",
          "Psychonauts 2",
          "Call of Duty Modern Warfare 2",
          "Mario & Sonic at the Olympic Games",
          "Dandy Ace",
          "Crash Bandicoot",
          "Pokemon White",
          "Northgard",
          "Middle Earth: Shadow of War",
          "Killzone Shadow Fall",
          "Fifa 13",
          "Wo Long Fallen Dynasty",
          "Tribes of Midgard",
          "The Ascent",
          "Apotheon",
          "Brain Training",
          "Mario Tennis Aces",
          "Overcooked 2",
          "Star Wars: Knights of the Old Republic",
          "Contrast",
          "Cat Quest II",
          "Forza Motorsport 7",
          "Mario Kart 7",
          "Mini Motorways",
          "F1 2015",
          "Clustertruck",
          "Infamous First Light",
          "Spiritfarer",
          "Uncharted 3 Drake's Deception",
          "Fifa 14",
          "Divinity Original Sin 2",
          "Ultimate Chicken Horse",
          "Red Dead Redemption 2",
          "Tunic",
          "Wargroove",
          "Grand Theft Auto Vice City Stories",
          "The Last of Us Part II",
          "Motorsport Manager",
          "Metroid Fusion",
          "The Simpsons Hit & Run",
          "Assassin's Creed Revelations",
          "Call of Duty Black Ops",
          "Batman Arkham Knight",
          "Football Manager 2008",
          "Gears 5",
          "Surviving Mars",
          "Star Wars Jedi Survivor",
          "Halo 4",
          "Watch Dogs",
          "Concrete Genie",
          "Doom VFR",
          "Super Mario 3D World + Bowser's Fury",
          "Mass Effect",
          "Dicey Dungeons",
          "Hearts of Iron IV",
          "Game of Thrones Telltale",
          "Ys VIII Lacrimosa of Dana",
          "Diablo Immortal",
          "Deathloop",
          "Uncharted Drake's Fortune",
          "Ghostwire Tokyo",
          "F1 2010",
          "F1 2020",
          "Monster Hunter Rise",
          "Transistor",
          "Nier Automata",
          "Torchlight 2",
          "Halo 5: Guardians",
          "Horizon Forbidden West",
          "Super Smash Bros. Brawl",
          "Marvel's Spider-Man Miles Morales",
          "Mass Effect 3",
          "Final Fantasy VII Remake",
          "Warlock - Master of the Arcane",
          "Assassin's Creed Syndicate",
          "The Last of Us",
          "You Suck At Parking",
          "Ori and The Blind Forest",
          "Watch Dogs 2",
          "Prison Architect",
          "Elden Ring",
          "Fifa 07",
          "Hades",
          "Mario & Sonic at the Winter Olympic Games",
          "Two Point Campus",
          "The Witcher 3",
          "Super Mario Galaxy",
          "Trek to Yomi",
          "Fifa Street 2",
          "Celeste",
          "Call of Duty Modern Warfare",
          "CrossfireX"
         ],
         "legendgroup": "",
         "marker": {
          "color": "#636efa",
          "symbol": "circle"
         },
         "mode": "markers",
         "name": "",
         "orientation": "v",
         "showlegend": false,
         "type": "scatter",
         "x": [
          65,
          75,
          73,
          43,
          59,
          54,
          97,
          59,
          79,
          78,
          89,
          83,
          72,
          81,
          74,
          94,
          79,
          100,
          97,
          78,
          89,
          92,
          61,
          54,
          72,
          87,
          74,
          58,
          69,
          78,
          64,
          73,
          64,
          67,
          72,
          65,
          80,
          76,
          43,
          71,
          82,
          85,
          68,
          58,
          68,
          72,
          82,
          91,
          82,
          89,
          73,
          98,
          68,
          69,
          82,
          96,
          69,
          90,
          73,
          83,
          90,
          84,
          86,
          84,
          63,
          87,
          82,
          84,
          79,
          24,
          88,
          90,
          67,
          76,
          48,
          90,
          39,
          82,
          85,
          73,
          79,
          87,
          81,
          86,
          63,
          78,
          84,
          91,
          91,
          89,
          94,
          91,
          61,
          82,
          99,
          62,
          77,
          69,
          74,
          97,
          79,
          98,
          64,
          79,
          70,
          98,
          69,
          64,
          94,
          89,
          40
         ],
         "xaxis": "x",
         "y": [
          81.62017430490411,
          76.51918830693607,
          80.46427125256835,
          63.28308337892871,
          74.3519263434876,
          54.88622967961563,
          91.4088988660617,
          68.14167183506292,
          64.17952598651634,
          75.45584909948909,
          81.78569471602165,
          78.96321742919271,
          75.65081068391197,
          86.0431085917958,
          71.65521981248527,
          86.1741402496172,
          78.09286609806176,
          88.88659975118708,
          93.02820989241904,
          82.33583295747196,
          83.11642899903394,
          88.48768592756072,
          66.92279586831359,
          69.77975864107806,
          75.62191110601336,
          84.24188143836253,
          68.26478367669246,
          72.082801862612,
          66.81835077019811,
          83.27995245112214,
          66.99922082969073,
          66.54822058384595,
          67.86511898515067,
          69.83332288947223,
          71.89809955826826,
          71.67018558262731,
          74.21511828788283,
          87.7442501764784,
          55.28008736216457,
          71.05558489781663,
          78.30147306902323,
          82.43166558060871,
          69.4739909078678,
          61.42722219530778,
          67.09781815459367,
          71.54794625503253,
          81.60908683224051,
          92.0964947583077,
          79.11817570595596,
          84.23058405987175,
          69.63878493624166,
          85.91526438214433,
          75.8147703683492,
          72.52817066802939,
          81.93244790305559,
          78.56379430116222,
          71.31713558236046,
          86.65185910626101,
          70.96708835500834,
          80.45029068206117,
          88.26173043384547,
          86.05174205993,
          81.81948301269163,
          78.22373077958245,
          65.72381689504446,
          91.74197783157265,
          82.25311198264727,
          73.52295189711211,
          72.04030402449021,
          63.70367100392667,
          83.39537280667066,
          89.93159518301762,
          69.51569456477561,
          76.97368850710701,
          63.50874698013258,
          80.65246871280166,
          58.3469431947602,
          67.23682200605874,
          89.58357063834696,
          62.22192479350356,
          80.40616646148855,
          83.023385819677,
          78.18774790259059,
          75.74132359458729,
          81.14739889795979,
          83.72066411795456,
          78.09139719885447,
          94.66533225531802,
          90.51541916532446,
          86.97670741485486,
          89.93159518301762,
          87.23719239294543,
          63.092541231392154,
          74.95460595764975,
          91.89950350075347,
          73.8964811735945,
          83.83164513015994,
          75.27589277409238,
          78.15526688669583,
          84.54097127584691,
          77.7606753362583,
          85.67333962690421,
          66.05206383333777,
          75.219390630073,
          84.04489970134739,
          92.9107758447538,
          62.838299684429515,
          57.058941585015525,
          82.23709433016117,
          86.88978177432378,
          52.20083805283142
         ],
         "yaxis": "y"
        }
       ],
       "layout": {
        "legend": {
         "tracegroupgap": 0
        },
        "margin": {
         "t": 60
        },
        "template": {
         "data": {
          "bar": [
           {
            "error_x": {
             "color": "#2a3f5f"
            },
            "error_y": {
             "color": "#2a3f5f"
            },
            "marker": {
             "line": {
              "color": "#E5ECF6",
              "width": 0.5
             },
             "pattern": {
              "fillmode": "overlay",
              "size": 10,
              "solidity": 0.2
             }
            },
            "type": "bar"
           }
          ],
          "barpolar": [
           {
            "marker": {
             "line": {
              "color": "#E5ECF6",
              "width": 0.5
             },
             "pattern": {
              "fillmode": "overlay",
              "size": 10,
              "solidity": 0.2
             }
            },
            "type": "barpolar"
           }
          ],
          "carpet": [
           {
            "aaxis": {
             "endlinecolor": "#2a3f5f",
             "gridcolor": "white",
             "linecolor": "white",
             "minorgridcolor": "white",
             "startlinecolor": "#2a3f5f"
            },
            "baxis": {
             "endlinecolor": "#2a3f5f",
             "gridcolor": "white",
             "linecolor": "white",
             "minorgridcolor": "white",
             "startlinecolor": "#2a3f5f"
            },
            "type": "carpet"
           }
          ],
          "choropleth": [
           {
            "colorbar": {
             "outlinewidth": 0,
             "ticks": ""
            },
            "type": "choropleth"
           }
          ],
          "contour": [
           {
            "colorbar": {
             "outlinewidth": 0,
             "ticks": ""
            },
            "colorscale": [
             [
              0,
              "#0d0887"
             ],
             [
              0.1111111111111111,
              "#46039f"
             ],
             [
              0.2222222222222222,
              "#7201a8"
             ],
             [
              0.3333333333333333,
              "#9c179e"
             ],
             [
              0.4444444444444444,
              "#bd3786"
             ],
             [
              0.5555555555555556,
              "#d8576b"
             ],
             [
              0.6666666666666666,
              "#ed7953"
             ],
             [
              0.7777777777777778,
              "#fb9f3a"
             ],
             [
              0.8888888888888888,
              "#fdca26"
             ],
             [
              1,
              "#f0f921"
             ]
            ],
            "type": "contour"
           }
          ],
          "contourcarpet": [
           {
            "colorbar": {
             "outlinewidth": 0,
             "ticks": ""
            },
            "type": "contourcarpet"
           }
          ],
          "heatmap": [
           {
            "colorbar": {
             "outlinewidth": 0,
             "ticks": ""
            },
            "colorscale": [
             [
              0,
              "#0d0887"
             ],
             [
              0.1111111111111111,
              "#46039f"
             ],
             [
              0.2222222222222222,
              "#7201a8"
             ],
             [
              0.3333333333333333,
              "#9c179e"
             ],
             [
              0.4444444444444444,
              "#bd3786"
             ],
             [
              0.5555555555555556,
              "#d8576b"
             ],
             [
              0.6666666666666666,
              "#ed7953"
             ],
             [
              0.7777777777777778,
              "#fb9f3a"
             ],
             [
              0.8888888888888888,
              "#fdca26"
             ],
             [
              1,
              "#f0f921"
             ]
            ],
            "type": "heatmap"
           }
          ],
          "heatmapgl": [
           {
            "colorbar": {
             "outlinewidth": 0,
             "ticks": ""
            },
            "colorscale": [
             [
              0,
              "#0d0887"
             ],
             [
              0.1111111111111111,
              "#46039f"
             ],
             [
              0.2222222222222222,
              "#7201a8"
             ],
             [
              0.3333333333333333,
              "#9c179e"
             ],
             [
              0.4444444444444444,
              "#bd3786"
             ],
             [
              0.5555555555555556,
              "#d8576b"
             ],
             [
              0.6666666666666666,
              "#ed7953"
             ],
             [
              0.7777777777777778,
              "#fb9f3a"
             ],
             [
              0.8888888888888888,
              "#fdca26"
             ],
             [
              1,
              "#f0f921"
             ]
            ],
            "type": "heatmapgl"
           }
          ],
          "histogram": [
           {
            "marker": {
             "pattern": {
              "fillmode": "overlay",
              "size": 10,
              "solidity": 0.2
             }
            },
            "type": "histogram"
           }
          ],
          "histogram2d": [
           {
            "colorbar": {
             "outlinewidth": 0,
             "ticks": ""
            },
            "colorscale": [
             [
              0,
              "#0d0887"
             ],
             [
              0.1111111111111111,
              "#46039f"
             ],
             [
              0.2222222222222222,
              "#7201a8"
             ],
             [
              0.3333333333333333,
              "#9c179e"
             ],
             [
              0.4444444444444444,
              "#bd3786"
             ],
             [
              0.5555555555555556,
              "#d8576b"
             ],
             [
              0.6666666666666666,
              "#ed7953"
             ],
             [
              0.7777777777777778,
              "#fb9f3a"
             ],
             [
              0.8888888888888888,
              "#fdca26"
             ],
             [
              1,
              "#f0f921"
             ]
            ],
            "type": "histogram2d"
           }
          ],
          "histogram2dcontour": [
           {
            "colorbar": {
             "outlinewidth": 0,
             "ticks": ""
            },
            "colorscale": [
             [
              0,
              "#0d0887"
             ],
             [
              0.1111111111111111,
              "#46039f"
             ],
             [
              0.2222222222222222,
              "#7201a8"
             ],
             [
              0.3333333333333333,
              "#9c179e"
             ],
             [
              0.4444444444444444,
              "#bd3786"
             ],
             [
              0.5555555555555556,
              "#d8576b"
             ],
             [
              0.6666666666666666,
              "#ed7953"
             ],
             [
              0.7777777777777778,
              "#fb9f3a"
             ],
             [
              0.8888888888888888,
              "#fdca26"
             ],
             [
              1,
              "#f0f921"
             ]
            ],
            "type": "histogram2dcontour"
           }
          ],
          "mesh3d": [
           {
            "colorbar": {
             "outlinewidth": 0,
             "ticks": ""
            },
            "type": "mesh3d"
           }
          ],
          "parcoords": [
           {
            "line": {
             "colorbar": {
              "outlinewidth": 0,
              "ticks": ""
             }
            },
            "type": "parcoords"
           }
          ],
          "pie": [
           {
            "automargin": true,
            "type": "pie"
           }
          ],
          "scatter": [
           {
            "fillpattern": {
             "fillmode": "overlay",
             "size": 10,
             "solidity": 0.2
            },
            "type": "scatter"
           }
          ],
          "scatter3d": [
           {
            "line": {
             "colorbar": {
              "outlinewidth": 0,
              "ticks": ""
             }
            },
            "marker": {
             "colorbar": {
              "outlinewidth": 0,
              "ticks": ""
             }
            },
            "type": "scatter3d"
           }
          ],
          "scattercarpet": [
           {
            "marker": {
             "colorbar": {
              "outlinewidth": 0,
              "ticks": ""
             }
            },
            "type": "scattercarpet"
           }
          ],
          "scattergeo": [
           {
            "marker": {
             "colorbar": {
              "outlinewidth": 0,
              "ticks": ""
             }
            },
            "type": "scattergeo"
           }
          ],
          "scattergl": [
           {
            "marker": {
             "colorbar": {
              "outlinewidth": 0,
              "ticks": ""
             }
            },
            "type": "scattergl"
           }
          ],
          "scattermapbox": [
           {
            "marker": {
             "colorbar": {
              "outlinewidth": 0,
              "ticks": ""
             }
            },
            "type": "scattermapbox"
           }
          ],
          "scatterpolar": [
           {
            "marker": {
             "colorbar": {
              "outlinewidth": 0,
              "ticks": ""
             }
            },
            "type": "scatterpolar"
           }
          ],
          "scatterpolargl": [
           {
            "marker": {
             "colorbar": {
              "outlinewidth": 0,
              "ticks": ""
             }
            },
            "type": "scatterpolargl"
           }
          ],
          "scatterternary": [
           {
            "marker": {
             "colorbar": {
              "outlinewidth": 0,
              "ticks": ""
             }
            },
            "type": "scatterternary"
           }
          ],
          "surface": [
           {
            "colorbar": {
             "outlinewidth": 0,
             "ticks": ""
            },
            "colorscale": [
             [
              0,
              "#0d0887"
             ],
             [
              0.1111111111111111,
              "#46039f"
             ],
             [
              0.2222222222222222,
              "#7201a8"
             ],
             [
              0.3333333333333333,
              "#9c179e"
             ],
             [
              0.4444444444444444,
              "#bd3786"
             ],
             [
              0.5555555555555556,
              "#d8576b"
             ],
             [
              0.6666666666666666,
              "#ed7953"
             ],
             [
              0.7777777777777778,
              "#fb9f3a"
             ],
             [
              0.8888888888888888,
              "#fdca26"
             ],
             [
              1,
              "#f0f921"
             ]
            ],
            "type": "surface"
           }
          ],
          "table": [
           {
            "cells": {
             "fill": {
              "color": "#EBF0F8"
             },
             "line": {
              "color": "white"
             }
            },
            "header": {
             "fill": {
              "color": "#C8D4E3"
             },
             "line": {
              "color": "white"
             }
            },
            "type": "table"
           }
          ]
         },
         "layout": {
          "annotationdefaults": {
           "arrowcolor": "#2a3f5f",
           "arrowhead": 0,
           "arrowwidth": 1
          },
          "autotypenumbers": "strict",
          "coloraxis": {
           "colorbar": {
            "outlinewidth": 0,
            "ticks": ""
           }
          },
          "colorscale": {
           "diverging": [
            [
             0,
             "#8e0152"
            ],
            [
             0.1,
             "#c51b7d"
            ],
            [
             0.2,
             "#de77ae"
            ],
            [
             0.3,
             "#f1b6da"
            ],
            [
             0.4,
             "#fde0ef"
            ],
            [
             0.5,
             "#f7f7f7"
            ],
            [
             0.6,
             "#e6f5d0"
            ],
            [
             0.7,
             "#b8e186"
            ],
            [
             0.8,
             "#7fbc41"
            ],
            [
             0.9,
             "#4d9221"
            ],
            [
             1,
             "#276419"
            ]
           ],
           "sequential": [
            [
             0,
             "#0d0887"
            ],
            [
             0.1111111111111111,
             "#46039f"
            ],
            [
             0.2222222222222222,
             "#7201a8"
            ],
            [
             0.3333333333333333,
             "#9c179e"
            ],
            [
             0.4444444444444444,
             "#bd3786"
            ],
            [
             0.5555555555555556,
             "#d8576b"
            ],
            [
             0.6666666666666666,
             "#ed7953"
            ],
            [
             0.7777777777777778,
             "#fb9f3a"
            ],
            [
             0.8888888888888888,
             "#fdca26"
            ],
            [
             1,
             "#f0f921"
            ]
           ],
           "sequentialminus": [
            [
             0,
             "#0d0887"
            ],
            [
             0.1111111111111111,
             "#46039f"
            ],
            [
             0.2222222222222222,
             "#7201a8"
            ],
            [
             0.3333333333333333,
             "#9c179e"
            ],
            [
             0.4444444444444444,
             "#bd3786"
            ],
            [
             0.5555555555555556,
             "#d8576b"
            ],
            [
             0.6666666666666666,
             "#ed7953"
            ],
            [
             0.7777777777777778,
             "#fb9f3a"
            ],
            [
             0.8888888888888888,
             "#fdca26"
            ],
            [
             1,
             "#f0f921"
            ]
           ]
          },
          "colorway": [
           "#636efa",
           "#EF553B",
           "#00cc96",
           "#ab63fa",
           "#FFA15A",
           "#19d3f3",
           "#FF6692",
           "#B6E880",
           "#FF97FF",
           "#FECB52"
          ],
          "font": {
           "color": "#2a3f5f"
          },
          "geo": {
           "bgcolor": "white",
           "lakecolor": "white",
           "landcolor": "#E5ECF6",
           "showlakes": true,
           "showland": true,
           "subunitcolor": "white"
          },
          "hoverlabel": {
           "align": "left"
          },
          "hovermode": "closest",
          "mapbox": {
           "style": "light"
          },
          "paper_bgcolor": "white",
          "plot_bgcolor": "#E5ECF6",
          "polar": {
           "angularaxis": {
            "gridcolor": "white",
            "linecolor": "white",
            "ticks": ""
           },
           "bgcolor": "#E5ECF6",
           "radialaxis": {
            "gridcolor": "white",
            "linecolor": "white",
            "ticks": ""
           }
          },
          "scene": {
           "xaxis": {
            "backgroundcolor": "#E5ECF6",
            "gridcolor": "white",
            "gridwidth": 2,
            "linecolor": "white",
            "showbackground": true,
            "ticks": "",
            "zerolinecolor": "white"
           },
           "yaxis": {
            "backgroundcolor": "#E5ECF6",
            "gridcolor": "white",
            "gridwidth": 2,
            "linecolor": "white",
            "showbackground": true,
            "ticks": "",
            "zerolinecolor": "white"
           },
           "zaxis": {
            "backgroundcolor": "#E5ECF6",
            "gridcolor": "white",
            "gridwidth": 2,
            "linecolor": "white",
            "showbackground": true,
            "ticks": "",
            "zerolinecolor": "white"
           }
          },
          "shapedefaults": {
           "line": {
            "color": "#2a3f5f"
           }
          },
          "ternary": {
           "aaxis": {
            "gridcolor": "white",
            "linecolor": "white",
            "ticks": ""
           },
           "baxis": {
            "gridcolor": "white",
            "linecolor": "white",
            "ticks": ""
           },
           "bgcolor": "#E5ECF6",
           "caxis": {
            "gridcolor": "white",
            "linecolor": "white",
            "ticks": ""
           }
          },
          "title": {
           "x": 0.05
          },
          "xaxis": {
           "automargin": true,
           "gridcolor": "white",
           "linecolor": "white",
           "ticks": "",
           "title": {
            "standoff": 15
           },
           "zerolinecolor": "white",
           "zerolinewidth": 2
          },
          "yaxis": {
           "automargin": true,
           "gridcolor": "white",
           "linecolor": "white",
           "ticks": "",
           "title": {
            "standoff": 15
           },
           "zerolinecolor": "white",
           "zerolinewidth": 2
          }
         }
        },
        "xaxis": {
         "anchor": "y",
         "domain": [
          0,
          1
         ],
         "title": {
          "text": "Actual Rating"
         }
        },
        "yaxis": {
         "anchor": "x",
         "domain": [
          0,
          1
         ],
         "title": {
          "text": "Predicted Rating"
         }
        }
       }
      }
     },
     "metadata": {},
     "output_type": "display_data"
    }
   ],
   "source": [
    "# scatter plot of scores vs actual for test set\n",
    "fig = px.scatter(test_scores, x=\"Actual Rating\", y=\"Predicted Rating\", hover_name= 'Game')\n",
    "fig"
   ]
  },
  {
   "cell_type": "code",
   "execution_count": 6,
   "metadata": {},
   "outputs": [],
   "source": [
    "#obtain plot of predicted rating vs review score\n",
    "all_labels = pd.merge(y, data['Game'], left_index= True, right_index = True) #join the game name back in to rating scores\n",
    "scores_labels = pd.merge(all_labels, data['Reviewscore'], left_index= True, right_index = True) #join the review avg back in to rating scores\n",
    "scores_comp = pd.DataFrame({'Game': scores_labels['Game'], \n",
    "                            'Predicted Rating': model.predict(X), \n",
    "                            'Actual Rating': scores_labels['Rating'], \n",
    "                            'Review avg': scores_labels['Reviewscore']}) #join the test set to the predictions"
   ]
  },
  {
   "cell_type": "code",
   "execution_count": 7,
   "metadata": {},
   "outputs": [
    {
     "data": {
      "application/vnd.plotly.v1+json": {
       "config": {
        "plotlyServerURL": "https://plot.ly"
       },
       "data": [
        {
         "hovertemplate": "<b>%{hovertext}</b><br><br>Review avg=%{x}<br>Predicted Rating=%{y}<extra></extra>",
         "hovertext": [
          "The Legend of Zelda: Breath of the Wild",
          "The Legend of Zelda: Tears of the Kingdom",
          "God of War (2018)",
          "Metroid Prime",
          "The Last of Us",
          "Hades",
          "Red Dead Redemption 2",
          "Super Mario Galaxy",
          "Elden Ring",
          "Hi-Fi Rush",
          "Horizon Zero Dawn",
          "Super Mario Galaxy 2",
          "Super Mario Odyssey",
          "Bloodborne",
          "God of War Ragnarök",
          "The Last of Us Part II",
          "Uncharted 2 Among Thieves",
          "Bioshock Infinite",
          "Grand Theft Auto V",
          "Mass Effect 2",
          "Portal 2",
          "Astro Bot Rescue Mission",
          "Celeste",
          "Driveclub",
          "Hollow Knight",
          "Mario Kart 8",
          "Mass Effect 3",
          "Uncharted 4 A Thief's End",
          "Bioshock",
          "Forza Horizon 3",
          "Ghost of Tsushima",
          "Guild Wars 2",
          "Mario Kart DS",
          "Marvel's Spider-Man",
          "Metroid Dread",
          "Super Metroid",
          "Assassin's Creed Brotherhood",
          "Call of Duty Modern Warfare 2",
          "Dragon Age Inquisition",
          "Final Fantasy XVI",
          "Forza Horizon 4",
          "Forza Horizon 5",
          "Halo Combat Evolved",
          "Uncharted The Lost Legacy",
          "Undertale",
          "Final Fantasy VII Remake",
          "Football Manager 2007",
          "God of War 3",
          "Grand Theft Auto San Andreas",
          "Horizon Forbidden West",
          "Pokemon SoulSilver",
          "Rayman Legends",
          "Super Smash Bros. Brawl",
          "The Legend of Zelda: Ocarina of Time",
          "Uncharted 3 Drake's Deception",
          "Bayonetta 2",
          "Call of Duty Black Ops",
          "Demon's Souls (Remake)",
          "Halo Reach",
          "Mass Effect",
          "Metroid Fusion",
          "Psychonauts",
          "Rocket League",
          "Star Wars Jedi Fallen Order",
          "Super Smash Bros. Ultimate",
          "Ys VIII Lacrimosa of Dana",
          "A Short Hike",
          "Batman Arkham Asylum",
          "Call of Duty Modern Warfare",
          "Civilization V",
          "Crash Bandicoot 2: Cortex Strikes Back",
          "Divinity Original Sin 2",
          "Gran Turismo 2",
          "Halo 3",
          "Marvel's Spider-Man Miles Morales",
          "Ori and The Will of the Wisps",
          "Psychonauts 2",
          "Ratchet & Clank: Rift Apart",
          "Tetris Effect",
          "Assassin's Creed IV Black Flag",
          "Astral Chain",
          "Astro's Playroom",
          "Borderlands 2",
          "Cities Skylines",
          "Death's Door",
          "Diablo 3",
          "Forza 4",
          "Journey",
          "Mario Kart Wii",
          "Rise of the Tomb Raider ",
          "Super Mario 3D World + Bowser's Fury",
          "Tetris",
          "Vampire Survivors",
          "Animal Crossing New Horizons",
          "Crash Bandicoot 3: Warped",
          "Devil May Cry 5",
          "F1 2020",
          "Gran Turismo 7",
          "Halo 2",
          "Persona 5",
          "Pokemon White",
          "Rogue Legacy 2",
          "Star Wars Jedi Survivor",
          "Titanfall 2",
          "Civilization VI",
          "Dead Cells",
          "Dragon Age 2",
          "Football Manager 2008",
          "Guardians of the Galaxy",
          "Minecraft",
          "OlliOlli World",
          "Stray",
          "Tales From the Borderlands",
          "Transistor",
          "Aces and Adventures",
          "Assassin's Creed Unity",
          "Crosscode",
          "Dragon Age Origins",
          "Mario Kart 7",
          "Neon White",
          "Pokemon Diamond",
          "Tearaway",
          "Uncharted Drake's Fortune",
          "Unsighted",
          "Batman Arkham Knight",
          "Call of Duty Modern Warfare 3",
          "Citizen Sleeper",
          "Crash Team Racing",
          "Europa Universalis IV",
          "F1 2017",
          "F1 2018",
          "Football Manager 2009",
          "Gears 5",
          "Golf Story",
          "Halo 5: Guardians",
          "Kena: Bridge of Spirits",
          "Pokemon Black 2",
          "Returnal",
          "Splatoon 3",
          "Terraria",
          "The Legend of Zelda: Skyward Sword",
          "Watch Dogs",
          "Assassin's Creed Revelations",
          "Borderlands 3",
          "F1 2019",
          "Fifa 11",
          "Football Manager 2010",
          "Lego Star Wars II: The Original Trilogy",
          "Mario & Luigi Superstar Saga",
          "OlliOlli 2: Welcome to Olliwood",
          "Pokemon Sun",
          "Rollercoaster Tycoon 2",
          "Tomb Raider",
          "Ys IX: Monstrum Nox",
          "Assassin's Creed Syndicate",
          "Deathloop",
          "F1 2016",
          "Fifa 14",
          "Forza Motorsport 7",
          "Grand Theft Auto Vice City Stories",
          "Halo 4",
          "Luigi's Mansion 3",
          "Monster Sanctuary",
          "Pokemon Legends Arceus",
          "Spiritfarer",
          "Team Fortress 2",
          "Bioshock 2",
          "Cassette Beasts",
          "Halo Infinite",
          "inFAMOUS Second Son",
          "Monster Hunter Rise",
          "Path of Exile",
          "Resogun",
          "F1 2011",
          "Fifa 12",
          "Final Fantasy X",
          "Kirby and the Forgotten Land",
          "Lego Star Wars: The Video Game",
          "Overcooked",
          "Overcooked 2",
          "Overwatch",
          "Stardew Valley",
          "The Legend of Zelda: A Link to the Past",
          "Ys Seven",
          "Apex Legends",
          "Call of Duty Black Ops II",
          "Concrete Genie",
          "Dirt 5",
          "F1 2010",
          "Far Cry 4",
          "Fifa 07",
          "Football Manager 2013",
          "Gears of War 4",
          "Gran Turismo Sport",
          "Mario + Rabbids Kingdom Battle",
          "Middle Earth Shadow of Mordor",
          "PlateUp!",
          "Pokemon Y",
          "Rollerdrome",
          "Teenage Mutant Ninja Turtles: Shredder's Revenge",
          "Two Point Campus",
          "Xenoblade Chronicles",
          "Assassin's Creed Origins",
          "Call of Duty Advanced Warfare",
          "Dragon Quest IX",
          "F1 2012",
          "Fifa 13",
          "Football Manager 2012",
          "Heavy Rain",
          "Kingdom Hearts 3",
          "Nobody Saves The World",
          "Pokemon Omega Ruby",
          "Ratchet & Clank",
          "Torchlight 2",
          "Trackmania Turbo",
          "XCOM: Enemy Unknown",
          "Battlefield 4",
          "Call of Duty Infinite Warfare",
          "Call of Duty WW2",
          "Chained Echoes",
          "Deep Rock Galactic",
          "Football Manager 2014",
          "Freshly Frosted",
          "Gris",
          "Loop Hero",
          "Ori and The Blind Forest",
          "Ring Fit Adventure",
          "Sekiro Shadows Die Twice",
          "Streets of Rage 4",
          "The Order 1886",
          "A Plague Tale: Innocence",
          "Call of Duty Black Ops 4",
          "Doom (2016)",
          "Hearts of Iron IV",
          "Monster Hunter World",
          "Moss PSVR",
          "Overwatch 2",
          "Pyre",
          "Star Wars: Knights of the Old Republic",
          "Trials Fusion",
          "Warhammer Vermentide 2",
          "WipeOut Omega Collection",
          "Call of Duty Black Ops III",
          "Guacamelee!",
          "Mario Strikers Charged Football",
          "Need for Speed Hot Pursuit",
          "Pokemon Let's Go Pikachu",
          "Sackboy: A Big Adventure",
          "Torchlight",
          "Trials Rising",
          "Wii Sports",
          "2010 FIFA World Cup South Africa",
          "Batman Arkham City",
          "Borderlands The Pre-Sequel",
          "Call of Duty Black Ops Cold War",
          "Castlevania Symphony of the Night",
          "Crash Bandicoot 4: Its About Time",
          "Destiny",
          "Dreams",
          "Dungeon of the Endless",
          "Immortals Fenyx Rising",
          "Northgard",
          "Parkitect",
          "Pokemon Violet",
          "Prison Architect",
          "Risk of Rain 2",
          "Warframe",
          "Wild Hearts",
          "WRC 9",
          "Wreckfest",
          "Bugsnax",
          "Crypt of the Necrodancer",
          "Diablo 4",
          "Dirt Rally 2.0",
          "Far Cry 5",
          "Football Manager 2015",
          "Ghostwire Tokyo",
          "Hot Wheels Unleashed",
          "Nintendogs",
          "Rollercoaster Tycoon",
          "Spec Ops The Line",
          "The Legend of Zelda: Link's Awakening",
          "The Simpsons Hit & Run",
          "Tribes of Midgard",
          "Ultimate Chicken Horse",
          "Wii Fit",
          "Wildermyth",
          "Brain Training",
          "Buck Up and Drive!",
          "Crash Bandicoot",
          "Cult of the Lamb",
          "Darksiders Genesis",
          "Halo 3 ODST",
          "High on Life",
          "Hyper Light Drifter",
          "Hyrule Warriors Age of Calamity",
          "Infamous First Light",
          "New Super Mario Bros. Wii",
          "Stellaris",
          "Uncharted Golden Abyss",
          "Abzu",
          "Battlefield 1",
          "Cat Quest II",
          "Grid Legends",
          "Star Wars Squadrons",
          "The Crew",
          "Velocity 2X",
          "Warpips",
          "Assassin's Creed Rogue",
          "Cat Quest",
          "Don't Starve",
          "Fifa 19",
          "Grand Theft Auto IV",
          "The Witcher 3",
          "Age of Empires IV",
          "Assassin's Creed Freedom Cry",
          "Bayonetta",
          "Detroit Become Human",
          "Journey to the Savage Planet",
          "Killzone Shadow Fall",
          "Motorsport Manager",
          "Skyrim",
          "Sportsfriends",
          "Star Wars Battlefront",
          "TemTem",
          "Trek to Yomi",
          "Wargroove",
          "Watch Dogs 2",
          "Windjammers 2",
          "20 Minutes Till Dawn",
          "Clustertruck",
          "Curse of the Dead Gods",
          "Cyberpunk 2077",
          "Endless Legend",
          "F1 2009",
          "Golf Peaks",
          "Golf With Your Friends",
          "GreedFall",
          "Grid (2019)",
          "Mini Motorways",
          "Nex Machina",
          "Pokemon Mystery Dunegon Explorers of Time",
          "The Riftbreaker",
          "Tunic",
          "Apotheon",
          "Assassin's Creed Odyssey",
          "Boyfriend Dungeon",
          "Dicey Dungeons",
          "Dragon Quest XI",
          "Game Dev Tycoon",
          "Kingdom New Lands",
          "Mario Golf: Super Rush",
          "Need for Speed Unbound",
          "Factorio",
          "Fall Guys",
          "Far Cry Primal",
          "Sea of Thieves",
          "The Jackbox Party Pack 6",
          "Final Fantasy XV",
          "Grid Autosport",
          "Mario Tennis Aces",
          "New Super Mario Bros. 2",
          "Nioh",
          "War Thunder",
          "Worms W.M.D",
          "Civilization Beyond Earth",
          "Fifa Street 2",
          "Awesomenauts",
          "Banished",
          "Dragon Quest Builders",
          "Lyne",
          "Mario & Sonic at the Winter Olympic Games",
          "Sonic & All Stars Racing Transformed",
          "The Ascent",
          "The Last Guardian",
          "Wo Long Fallen Dynasty",
          "A Plague Tale: Requiem",
          "Animal Crossing City Folk",
          "Crash Bandicoot The Wrath of Cortex",
          "Darksburg",
          "Just Cause 3",
          "Minecraft Dungeons",
          "Nier Automata",
          "Surviving Mars",
          "Human Fall Flat",
          "Project Cars",
          "Shadow of the Colossus (Remake)",
          "You Suck At Parking",
          "Embr",
          "Mario & Sonic at the Olympic Games",
          "Warlock - Master of the Arcane",
          "Doom Eternal",
          "Prey",
          "Scarlet Nexus",
          "Arcadeggedon",
          "Back 4 Blood",
          "Lego Star Wars The Skywalker Saga",
          "Luna",
          "Pokemon Sword",
          "The Outer Worlds",
          "Unrailed!",
          "F1 2015",
          "Middle Earth: Shadow of War",
          "Outer Wilds",
          "Spacelines from the Far Out",
          "Burnout Paradise",
          "For The King",
          "Tchia",
          "Big Pharma",
          "Dead Nation: Apocalypse Edition",
          "DC Universe Online",
          "Little Big Planet 3",
          "Dandy Ace",
          "Destruction Allstars",
          "Lost Ark",
          "Need For Speed Heat",
          "The Crew 2",
          "Control",
          "Finding Nemo",
          "Octopath Traveller",
          "Democracy 3",
          "Golfie",
          "Clicker Heroes",
          "Pure Pool",
          "Shoppe Keep",
          "Diablo 2",
          "VR Worlds",
          "Minecraft Legends",
          "Game of Thrones Telltale",
          "Mario Party 8",
          "Cruis'n Blast",
          "F.I.S.T. Forged In Shadow Torch",
          "Youtubers Life",
          "Farming Simulator 2019",
          "Exoprimal",
          "Contrast",
          "Marvel's Avengers",
          "Fifa 06 Game Boy Advance",
          "CrossfireX",
          "Diablo Immortal",
          "Fifa 14 Legacy Edition",
          "Sunlight",
          "Doom VFR"
         ],
         "legendgroup": "",
         "marker": {
          "color": "#636efa",
          "symbol": "circle"
         },
         "mode": "markers",
         "name": "",
         "orientation": "v",
         "showlegend": false,
         "type": "scatter",
         "x": [
          97,
          96,
          94,
          97,
          95,
          94,
          97,
          97,
          96,
          89,
          89,
          97,
          97,
          92,
          94,
          93,
          96,
          94,
          97,
          96,
          95,
          90,
          91,
          71,
          90,
          88,
          93,
          93,
          96,
          91,
          85,
          90,
          91,
          87,
          87,
          96,
          90,
          94,
          89,
          88,
          92,
          92,
          97,
          84,
          92,
          88,
          87,
          92,
          95,
          88,
          87,
          90,
          93,
          99,
          92,
          91,
          88,
          92,
          91,
          91,
          92,
          87,
          85,
          85,
          93,
          85,
          87,
          92,
          92,
          90,
          89,
          93,
          93,
          94,
          85,
          90,
          89,
          88,
          89,
          83,
          87,
          84,
          89,
          85,
          88,
          88,
          91,
          92,
          82,
          86,
          89,
          90,
          87,
          90,
          91,
          88,
          88,
          87,
          95,
          94,
          87,
          89,
          84,
          87,
          88,
          89,
          79,
          86,
          82,
          93,
          86,
          84,
          86,
          83,
          84,
          70,
          86,
          91,
          85,
          89,
          85,
          87,
          88,
          85,
          87,
          89,
          84,
          88,
          87,
          86,
          84,
          83,
          85,
          78,
          84,
          82,
          80,
          86,
          83,
          83,
          93,
          77,
          80,
          80,
          86,
          88,
          87,
          84,
          90,
          85,
          87,
          74,
          85,
          80,
          76,
          88,
          82,
          85,
          85,
          86,
          87,
          86,
          80,
          84,
          87,
          92,
          88,
          86,
          87,
          80,
          88,
          93,
          84,
          84,
          90,
          92,
          84,
          78,
          80,
          81,
          91,
          89,
          95,
          79,
          86,
          83,
          77,
          82,
          84,
          85,
          82,
          86,
          84,
          75,
          85,
          84,
          80,
          86,
          80,
          87,
          84,
          92,
          81,
          83,
          87,
          81,
          90,
          84,
          87,
          85,
          80,
          83,
          85,
          88,
          81,
          89,
          85,
          77,
          79,
          89,
          85,
          85,
          91,
          84,
          84,
          89,
          83,
          90,
          84,
          63,
          82,
          85,
          85,
          83,
          89,
          85,
          77,
          84,
          94,
          79,
          83,
          85,
          81,
          83,
          79,
          88,
          81,
          81,
          83,
          80,
          76,
          82,
          94,
          75,
          75,
          93,
          85,
          76,
          90,
          79,
          79,
          79,
          83,
          72,
          80,
          86,
          71,
          79,
          80,
          80,
          75,
          87,
          88,
          83,
          82,
          80,
          77,
          74,
          83,
          78,
          76,
          87,
          78,
          75,
          79,
          80,
          85,
          77,
          70,
          80,
          84,
          79,
          83,
          69,
          84,
          80,
          73,
          87,
          81,
          80,
          80,
          87,
          76,
          75,
          79,
          61,
          85,
          79,
          72,
          72,
          79,
          81,
          98,
          92,
          83,
          70,
          90,
          78,
          76,
          73,
          81,
          94,
          80,
          73,
          76,
          72,
          83,
          82,
          77,
          76,
          76,
          81,
          76,
          82,
          69,
          75,
          69,
          75,
          73,
          80,
          84,
          60,
          80,
          86,
          76,
          85,
          73,
          82,
          86,
          68,
          73,
          71,
          75,
          70,
          80,
          76,
          67,
          74,
          81,
          78,
          78,
          78,
          88,
          75,
          78,
          81,
          59,
          78,
          74,
          70,
          86,
          72,
          75,
          73,
          81,
          82,
          84,
          73,
          66,
          68,
          73,
          72,
          89,
          77,
          68,
          75,
          92,
          70,
          67,
          67,
          71,
          89,
          81,
          79,
          74,
          76,
          82,
          62,
          80,
          85,
          75,
          65,
          79,
          86,
          82,
          88,
          75,
          78,
          64,
          71,
          72,
          79,
          79,
          62,
          82,
          72,
          64,
          84,
          63,
          83,
          70,
          70,
          57,
          73,
          57,
          88,
          56,
          71,
          69,
          62,
          73,
          80,
          63,
          64,
          60,
          59,
          68,
          49,
          42,
          65,
          38,
          78,
          70
         ],
         "xaxis": "x",
         "y": [
          95.42221573610213,
          88.88659975118708,
          92.39245854479593,
          97.24449300559186,
          91.89950350075347,
          85.67333962690421,
          85.91526438214433,
          92.9107758447538,
          84.54097127584691,
          92.69936727049027,
          93.02820989241904,
          91.4088988660617,
          91.4088988660617,
          92.66884628368803,
          94.13538600615149,
          78.56379430116222,
          95.23596211398807,
          91.67182001805963,
          95.03667974090493,
          93.00890460804597,
          85.83629444597182,
          86.1741402496172,
          82.23709433016117,
          84.93963986287788,
          86.16186883561477,
          91.30291045206184,
          89.93159518301762,
          96.25240376783638,
          92.23015529174899,
          89.9953626951917,
          91.91552365412508,
          89.23119436523437,
          91.04925781335096,
          92.17202172812661,
          86.4844017378383,
          91.35826902776415,
          90.07782466847056,
          88.48768592756072,
          88.81094041945899,
          87.83505411163429,
          91.15237938440953,
          91.15237938440953,
          88.69400830780629,
          88.55266336305078,
          84.23058405987175,
          87.23719239294543,
          85.54210072180298,
          88.90015247939787,
          90.64145891598642,
          94.66533225531802,
          85.00826940690094,
          84.7156059612974,
          90.51541916532446,
          88.62865927643281,
          92.0964947583077,
          87.2375214147932,
          88.26173043384547,
          88.27401023638559,
          86.30545193409208,
          89.93159518301762,
          86.65185910626101,
          83.50630318764773,
          84.93099740239713,
          89.84047840793097,
          86.49261039767642,
          80.65246871280166,
          79.65597199004429,
          87.22136252360146,
          86.88978177432378,
          87.61172361864037,
          84.09062483722242,
          84.23058405987175,
          88.60588872975208,
          87.74627267070302,
          86.97670741485486,
          86.06788448443548,
          83.11642899903394,
          86.86842872808063,
          81.78569471602165,
          84.1499217438699,
          82.33853072365669,
          81.65657561344008,
          85.1462576682374,
          84.93099740239713,
          84.27899486380089,
          87.61332508581931,
          86.30570719886742,
          82.19370887580831,
          81.37281445979936,
          85.25181111599272,
          83.39537280667066,
          84.42617461767962,
          80.75221433085568,
          89.22838656125035,
          87.75356442525332,
          82.23518747328487,
          83.023385819677,
          87.67060761759272,
          88.30460794439237,
          84.58549886333911,
          84.24188143836253,
          86.8317170465417,
          91.74197783157265,
          83.01099767773277,
          83.29128870914137,
          85.42086532286899,
          77.0014324609953,
          81.81948301269163,
          78.80452747927131,
          87.44038996501627,
          80.40285107797729,
          80.64608419791098,
          82.5629719432296,
          75.74132359458729,
          78.84171798018932,
          84.22983518168868,
          82.06619426800633,
          87.70917678189996,
          82.43166558060871,
          84.95199588416268,
          82.40457790831755,
          82.75849520316814,
          89.58357063834696,
          77.49593379076536,
          86.05174205993,
          83.40627609372994,
          80.6279744053775,
          81.78569471602165,
          85.67906184373716,
          80.80636210368537,
          78.8616710358842,
          80.21903410929075,
          78.22373077958245,
          72.83587528059824,
          78.09139719885447,
          80.65743631741014,
          76.07181695604177,
          85.60165874614039,
          81.1514547070646,
          78.03970245435873,
          87.32019962321985,
          73.52295189711211,
          80.45029068206117,
          76.70711419499118,
          78.96321742919271,
          82.94233980837582,
          82.99263946025306,
          81.83090150974708,
          82.05331503915626,
          80.25115880077601,
          84.54053068725084,
          73.97884782355526,
          84.67527431534843,
          78.69960499381298,
          74.95460595764975,
          67.23682200605874,
          76.40061898738378,
          79.11817570595596,
          78.30147306902323,
          81.93244790305559,
          82.25311198264727,
          77.50820880086543,
          75.26683777102062,
          78.98618680070227,
          81.60908683224051,
          82.08074398544436,
          82.96768562054237,
          76.56096814672485,
          81.48704546713334,
          76.10980684260421,
          78.18774790259059,
          86.0431085917958,
          78.32650022911767,
          80.40616646148855,
          83.00976742915948,
          82.4840074721703,
          77.85939951421811,
          75.52901540715548,
          76.0582629623755,
          74.21511828788283,
          86.3808352883354,
          82.02306860380835,
          82.9031419078729,
          75.34264797075761,
          76.35126781687761,
          77.3873251405839,
          72.04030402449021,
          79.84164955156768,
          80.40616646148855,
          80.40775744997356,
          77.7606753362583,
          79.56867100003002,
          79.14499493247047,
          75.54021790301478,
          78.09286609806176,
          77.96521717937942,
          76.31212221220316,
          80.81791297813949,
          64.17952598651634,
          80.75221433085568,
          75.219390630073,
          82.10837114043628,
          74.93553986829626,
          77.3873251405839,
          83.29128870914137,
          75.45584909948909,
          83.27995245112214,
          79.46712460672151,
          82.33583295747196,
          76.31690734744166,
          70.89623638033629,
          78.52157973410479,
          81.20709357805461,
          83.72066411795456,
          71.92155256445903,
          81.04860109280006,
          78.67340078009514,
          73.42524998083266,
          74.93756236252088,
          80.70561007631326,
          80.3759294110316,
          79.1684753578332,
          81.78435722349998,
          75.86731183281357,
          75.95107217468079,
          83.83164513015994,
          73.68511165201721,
          81.16188078649361,
          75.95107217468079,
          72.10554634432032,
          72.75675992665387,
          77.62397993222885,
          76.48253184704917,
          76.97368850710701,
          79.22981551046794,
          75.41457472615238,
          73.1589172288589,
          76.90241118853382,
          87.7442501764784,
          76.7438222235149,
          71.31896343685405,
          78.32650022911767,
          74.93756236252088,
          75.72034841730697,
          78.25064673567655,
          80.06491569264367,
          74.22867228154911,
          74.54698319964494,
          77.13287889395754,
          76.51918830693607,
          72.80865754055529,
          75.50986332359669,
          80.45096628329775,
          73.51761692389637,
          67.35415601309819,
          78.39723560118188,
          78.189681929254,
          70.3364816001476,
          80.34551864169035,
          69.18604782958047,
          71.46953545396092,
          68.26478367669246,
          75.74382067320488,
          67.89952505136097,
          78.15526688669583,
          74.6263878055421,
          68.24837847894015,
          65.77561451177101,
          71.65521981248527,
          73.25079775916815,
          71.2843415437679,
          80.46427125256835,
          75.8207374334255,
          75.13054383261435,
          73.69158178163684,
          74.21815799583374,
          62.22192479350356,
          67.53744110831838,
          76.88882911797927,
          73.97884782355526,
          71.0543208379536,
          82.29317336111711,
          70.96708835500834,
          66.54822058384595,
          69.63878493624166,
          73.8305024694785,
          76.89170501793284,
          71.89809955826826,
          62.539650435541226,
          75.62191110601336,
          76.0865691869317,
          69.60471706779268,
          75.7816229635397,
          67.23465093212715,
          75.42528089675336,
          74.85099562260694,
          71.54794625503253,
          77.33308607454752,
          75.65081068391197,
          75.64945511041681,
          69.29901271994443,
          78.19474335274859,
          71.05558489781663,
          70.62620948900344,
          72.97943030343964,
          60.19295793522576,
          77.35907451680406,
          69.4739909078678,
          67.88204763534124,
          67.41055654406279,
          70.20554712818637,
          72.33183215378578,
          79.24783990458401,
          84.04489970134739,
          72.52817066802939,
          67.38225355242315,
          78.52285447300446,
          68.82467297299029,
          65.28247878913504,
          66.81835077019811,
          71.31713558236046,
          73.17913596036615,
          71.92155256445903,
          66.35071308222608,
          68.04116998633826,
          62.838299684429515,
          72.52817066802939,
          75.27589277409238,
          68.44032108395123,
          61.645436167883226,
          67.09781815459367,
          70.20913404989125,
          68.47807395157042,
          70.40613604199945,
          69.45141708215719,
          66.51251100606648,
          64.45031883169023,
          68.59103884193438,
          67.87490637625845,
          69.4739909078678,
          75.96177834528177,
          61.95117564946363,
          69.17534165897949,
          75.8147703683492,
          69.83332288947223,
          76.65469178916729,
          63.46876773745306,
          69.51569456477561,
          72.4072464555347,
          64.34389367754926,
          62.5503566061422,
          65.88909518273023,
          64.55213528372448,
          68.08927537578438,
          70.64410988699152,
          72.4693541634961,
          65.33714477741434,
          66.9330241262198,
          69.63567512891414,
          70.79205438035501,
          71.67018558262731,
          68.45613869599075,
          81.62017430490411,
          69.38058578281104,
          66.21925280765856,
          72.57952292290837,
          57.058941585015525,
          68.77616880071247,
          68.77616880071247,
          63.126882392454725,
          74.82451780663149,
          66.05206383333777,
          66.70524905705798,
          67.86511898515067,
          66.05127345589509,
          66.99922082969073,
          69.89382902169521,
          67.16695663974066,
          63.15544770669311,
          62.23889376739602,
          63.247651336737874,
          65.31911589550931,
          81.14739889795979,
          65.72381689504446,
          62.9744163014015,
          65.63677789107632,
          68.48690838960385,
          73.8964811735945,
          59.98782857536351,
          66.92279586831359,
          63.092541231392154,
          67.10466280269962,
          61.04567494414507,
          65.83345404270185,
          64.29470028830231,
          58.49621506018111,
          67.12846022674,
          53.64042125079827,
          74.22867228154911,
          74.3519263434876,
          68.14167183506292,
          61.42722219530778,
          72.082801862612,
          64.46090946769648,
          64.96818627691802,
          63.09587280440778,
          65.72381689504446,
          61.67851032549529,
          56.390615503478934,
          60.79442588917207,
          59.91030485762638,
          63.427469050793356,
          69.77975864107806,
          54.88622967961563,
          63.627939381201884,
          62.6769157741061,
          57.49829885735391,
          63.69856503364433,
          55.8819867707447,
          63.736421864428905,
          64.34389367754926,
          56.672005073300845,
          51.91462896496159,
          57.035917340371086,
          52.98141808175766,
          58.151248749138404,
          51.9194282105003,
          56.33698935350855,
          63.50874698013258,
          54.49237609077991,
          62.838299684429515,
          57.13214494123005,
          52.112382590140804,
          51.651564586385575,
          50.649794531359454,
          55.28008736216457,
          63.28308337892871,
          45.25775756751021,
          52.20083805283142,
          58.3469431947602,
          42.25391143540275,
          54.954417389485734,
          63.70367100392667
         ],
         "yaxis": "y"
        }
       ],
       "layout": {
        "legend": {
         "tracegroupgap": 0
        },
        "margin": {
         "t": 60
        },
        "template": {
         "data": {
          "bar": [
           {
            "error_x": {
             "color": "#2a3f5f"
            },
            "error_y": {
             "color": "#2a3f5f"
            },
            "marker": {
             "line": {
              "color": "#E5ECF6",
              "width": 0.5
             },
             "pattern": {
              "fillmode": "overlay",
              "size": 10,
              "solidity": 0.2
             }
            },
            "type": "bar"
           }
          ],
          "barpolar": [
           {
            "marker": {
             "line": {
              "color": "#E5ECF6",
              "width": 0.5
             },
             "pattern": {
              "fillmode": "overlay",
              "size": 10,
              "solidity": 0.2
             }
            },
            "type": "barpolar"
           }
          ],
          "carpet": [
           {
            "aaxis": {
             "endlinecolor": "#2a3f5f",
             "gridcolor": "white",
             "linecolor": "white",
             "minorgridcolor": "white",
             "startlinecolor": "#2a3f5f"
            },
            "baxis": {
             "endlinecolor": "#2a3f5f",
             "gridcolor": "white",
             "linecolor": "white",
             "minorgridcolor": "white",
             "startlinecolor": "#2a3f5f"
            },
            "type": "carpet"
           }
          ],
          "choropleth": [
           {
            "colorbar": {
             "outlinewidth": 0,
             "ticks": ""
            },
            "type": "choropleth"
           }
          ],
          "contour": [
           {
            "colorbar": {
             "outlinewidth": 0,
             "ticks": ""
            },
            "colorscale": [
             [
              0,
              "#0d0887"
             ],
             [
              0.1111111111111111,
              "#46039f"
             ],
             [
              0.2222222222222222,
              "#7201a8"
             ],
             [
              0.3333333333333333,
              "#9c179e"
             ],
             [
              0.4444444444444444,
              "#bd3786"
             ],
             [
              0.5555555555555556,
              "#d8576b"
             ],
             [
              0.6666666666666666,
              "#ed7953"
             ],
             [
              0.7777777777777778,
              "#fb9f3a"
             ],
             [
              0.8888888888888888,
              "#fdca26"
             ],
             [
              1,
              "#f0f921"
             ]
            ],
            "type": "contour"
           }
          ],
          "contourcarpet": [
           {
            "colorbar": {
             "outlinewidth": 0,
             "ticks": ""
            },
            "type": "contourcarpet"
           }
          ],
          "heatmap": [
           {
            "colorbar": {
             "outlinewidth": 0,
             "ticks": ""
            },
            "colorscale": [
             [
              0,
              "#0d0887"
             ],
             [
              0.1111111111111111,
              "#46039f"
             ],
             [
              0.2222222222222222,
              "#7201a8"
             ],
             [
              0.3333333333333333,
              "#9c179e"
             ],
             [
              0.4444444444444444,
              "#bd3786"
             ],
             [
              0.5555555555555556,
              "#d8576b"
             ],
             [
              0.6666666666666666,
              "#ed7953"
             ],
             [
              0.7777777777777778,
              "#fb9f3a"
             ],
             [
              0.8888888888888888,
              "#fdca26"
             ],
             [
              1,
              "#f0f921"
             ]
            ],
            "type": "heatmap"
           }
          ],
          "heatmapgl": [
           {
            "colorbar": {
             "outlinewidth": 0,
             "ticks": ""
            },
            "colorscale": [
             [
              0,
              "#0d0887"
             ],
             [
              0.1111111111111111,
              "#46039f"
             ],
             [
              0.2222222222222222,
              "#7201a8"
             ],
             [
              0.3333333333333333,
              "#9c179e"
             ],
             [
              0.4444444444444444,
              "#bd3786"
             ],
             [
              0.5555555555555556,
              "#d8576b"
             ],
             [
              0.6666666666666666,
              "#ed7953"
             ],
             [
              0.7777777777777778,
              "#fb9f3a"
             ],
             [
              0.8888888888888888,
              "#fdca26"
             ],
             [
              1,
              "#f0f921"
             ]
            ],
            "type": "heatmapgl"
           }
          ],
          "histogram": [
           {
            "marker": {
             "pattern": {
              "fillmode": "overlay",
              "size": 10,
              "solidity": 0.2
             }
            },
            "type": "histogram"
           }
          ],
          "histogram2d": [
           {
            "colorbar": {
             "outlinewidth": 0,
             "ticks": ""
            },
            "colorscale": [
             [
              0,
              "#0d0887"
             ],
             [
              0.1111111111111111,
              "#46039f"
             ],
             [
              0.2222222222222222,
              "#7201a8"
             ],
             [
              0.3333333333333333,
              "#9c179e"
             ],
             [
              0.4444444444444444,
              "#bd3786"
             ],
             [
              0.5555555555555556,
              "#d8576b"
             ],
             [
              0.6666666666666666,
              "#ed7953"
             ],
             [
              0.7777777777777778,
              "#fb9f3a"
             ],
             [
              0.8888888888888888,
              "#fdca26"
             ],
             [
              1,
              "#f0f921"
             ]
            ],
            "type": "histogram2d"
           }
          ],
          "histogram2dcontour": [
           {
            "colorbar": {
             "outlinewidth": 0,
             "ticks": ""
            },
            "colorscale": [
             [
              0,
              "#0d0887"
             ],
             [
              0.1111111111111111,
              "#46039f"
             ],
             [
              0.2222222222222222,
              "#7201a8"
             ],
             [
              0.3333333333333333,
              "#9c179e"
             ],
             [
              0.4444444444444444,
              "#bd3786"
             ],
             [
              0.5555555555555556,
              "#d8576b"
             ],
             [
              0.6666666666666666,
              "#ed7953"
             ],
             [
              0.7777777777777778,
              "#fb9f3a"
             ],
             [
              0.8888888888888888,
              "#fdca26"
             ],
             [
              1,
              "#f0f921"
             ]
            ],
            "type": "histogram2dcontour"
           }
          ],
          "mesh3d": [
           {
            "colorbar": {
             "outlinewidth": 0,
             "ticks": ""
            },
            "type": "mesh3d"
           }
          ],
          "parcoords": [
           {
            "line": {
             "colorbar": {
              "outlinewidth": 0,
              "ticks": ""
             }
            },
            "type": "parcoords"
           }
          ],
          "pie": [
           {
            "automargin": true,
            "type": "pie"
           }
          ],
          "scatter": [
           {
            "fillpattern": {
             "fillmode": "overlay",
             "size": 10,
             "solidity": 0.2
            },
            "type": "scatter"
           }
          ],
          "scatter3d": [
           {
            "line": {
             "colorbar": {
              "outlinewidth": 0,
              "ticks": ""
             }
            },
            "marker": {
             "colorbar": {
              "outlinewidth": 0,
              "ticks": ""
             }
            },
            "type": "scatter3d"
           }
          ],
          "scattercarpet": [
           {
            "marker": {
             "colorbar": {
              "outlinewidth": 0,
              "ticks": ""
             }
            },
            "type": "scattercarpet"
           }
          ],
          "scattergeo": [
           {
            "marker": {
             "colorbar": {
              "outlinewidth": 0,
              "ticks": ""
             }
            },
            "type": "scattergeo"
           }
          ],
          "scattergl": [
           {
            "marker": {
             "colorbar": {
              "outlinewidth": 0,
              "ticks": ""
             }
            },
            "type": "scattergl"
           }
          ],
          "scattermapbox": [
           {
            "marker": {
             "colorbar": {
              "outlinewidth": 0,
              "ticks": ""
             }
            },
            "type": "scattermapbox"
           }
          ],
          "scatterpolar": [
           {
            "marker": {
             "colorbar": {
              "outlinewidth": 0,
              "ticks": ""
             }
            },
            "type": "scatterpolar"
           }
          ],
          "scatterpolargl": [
           {
            "marker": {
             "colorbar": {
              "outlinewidth": 0,
              "ticks": ""
             }
            },
            "type": "scatterpolargl"
           }
          ],
          "scatterternary": [
           {
            "marker": {
             "colorbar": {
              "outlinewidth": 0,
              "ticks": ""
             }
            },
            "type": "scatterternary"
           }
          ],
          "surface": [
           {
            "colorbar": {
             "outlinewidth": 0,
             "ticks": ""
            },
            "colorscale": [
             [
              0,
              "#0d0887"
             ],
             [
              0.1111111111111111,
              "#46039f"
             ],
             [
              0.2222222222222222,
              "#7201a8"
             ],
             [
              0.3333333333333333,
              "#9c179e"
             ],
             [
              0.4444444444444444,
              "#bd3786"
             ],
             [
              0.5555555555555556,
              "#d8576b"
             ],
             [
              0.6666666666666666,
              "#ed7953"
             ],
             [
              0.7777777777777778,
              "#fb9f3a"
             ],
             [
              0.8888888888888888,
              "#fdca26"
             ],
             [
              1,
              "#f0f921"
             ]
            ],
            "type": "surface"
           }
          ],
          "table": [
           {
            "cells": {
             "fill": {
              "color": "#EBF0F8"
             },
             "line": {
              "color": "white"
             }
            },
            "header": {
             "fill": {
              "color": "#C8D4E3"
             },
             "line": {
              "color": "white"
             }
            },
            "type": "table"
           }
          ]
         },
         "layout": {
          "annotationdefaults": {
           "arrowcolor": "#2a3f5f",
           "arrowhead": 0,
           "arrowwidth": 1
          },
          "autotypenumbers": "strict",
          "coloraxis": {
           "colorbar": {
            "outlinewidth": 0,
            "ticks": ""
           }
          },
          "colorscale": {
           "diverging": [
            [
             0,
             "#8e0152"
            ],
            [
             0.1,
             "#c51b7d"
            ],
            [
             0.2,
             "#de77ae"
            ],
            [
             0.3,
             "#f1b6da"
            ],
            [
             0.4,
             "#fde0ef"
            ],
            [
             0.5,
             "#f7f7f7"
            ],
            [
             0.6,
             "#e6f5d0"
            ],
            [
             0.7,
             "#b8e186"
            ],
            [
             0.8,
             "#7fbc41"
            ],
            [
             0.9,
             "#4d9221"
            ],
            [
             1,
             "#276419"
            ]
           ],
           "sequential": [
            [
             0,
             "#0d0887"
            ],
            [
             0.1111111111111111,
             "#46039f"
            ],
            [
             0.2222222222222222,
             "#7201a8"
            ],
            [
             0.3333333333333333,
             "#9c179e"
            ],
            [
             0.4444444444444444,
             "#bd3786"
            ],
            [
             0.5555555555555556,
             "#d8576b"
            ],
            [
             0.6666666666666666,
             "#ed7953"
            ],
            [
             0.7777777777777778,
             "#fb9f3a"
            ],
            [
             0.8888888888888888,
             "#fdca26"
            ],
            [
             1,
             "#f0f921"
            ]
           ],
           "sequentialminus": [
            [
             0,
             "#0d0887"
            ],
            [
             0.1111111111111111,
             "#46039f"
            ],
            [
             0.2222222222222222,
             "#7201a8"
            ],
            [
             0.3333333333333333,
             "#9c179e"
            ],
            [
             0.4444444444444444,
             "#bd3786"
            ],
            [
             0.5555555555555556,
             "#d8576b"
            ],
            [
             0.6666666666666666,
             "#ed7953"
            ],
            [
             0.7777777777777778,
             "#fb9f3a"
            ],
            [
             0.8888888888888888,
             "#fdca26"
            ],
            [
             1,
             "#f0f921"
            ]
           ]
          },
          "colorway": [
           "#636efa",
           "#EF553B",
           "#00cc96",
           "#ab63fa",
           "#FFA15A",
           "#19d3f3",
           "#FF6692",
           "#B6E880",
           "#FF97FF",
           "#FECB52"
          ],
          "font": {
           "color": "#2a3f5f"
          },
          "geo": {
           "bgcolor": "white",
           "lakecolor": "white",
           "landcolor": "#E5ECF6",
           "showlakes": true,
           "showland": true,
           "subunitcolor": "white"
          },
          "hoverlabel": {
           "align": "left"
          },
          "hovermode": "closest",
          "mapbox": {
           "style": "light"
          },
          "paper_bgcolor": "white",
          "plot_bgcolor": "#E5ECF6",
          "polar": {
           "angularaxis": {
            "gridcolor": "white",
            "linecolor": "white",
            "ticks": ""
           },
           "bgcolor": "#E5ECF6",
           "radialaxis": {
            "gridcolor": "white",
            "linecolor": "white",
            "ticks": ""
           }
          },
          "scene": {
           "xaxis": {
            "backgroundcolor": "#E5ECF6",
            "gridcolor": "white",
            "gridwidth": 2,
            "linecolor": "white",
            "showbackground": true,
            "ticks": "",
            "zerolinecolor": "white"
           },
           "yaxis": {
            "backgroundcolor": "#E5ECF6",
            "gridcolor": "white",
            "gridwidth": 2,
            "linecolor": "white",
            "showbackground": true,
            "ticks": "",
            "zerolinecolor": "white"
           },
           "zaxis": {
            "backgroundcolor": "#E5ECF6",
            "gridcolor": "white",
            "gridwidth": 2,
            "linecolor": "white",
            "showbackground": true,
            "ticks": "",
            "zerolinecolor": "white"
           }
          },
          "shapedefaults": {
           "line": {
            "color": "#2a3f5f"
           }
          },
          "ternary": {
           "aaxis": {
            "gridcolor": "white",
            "linecolor": "white",
            "ticks": ""
           },
           "baxis": {
            "gridcolor": "white",
            "linecolor": "white",
            "ticks": ""
           },
           "bgcolor": "#E5ECF6",
           "caxis": {
            "gridcolor": "white",
            "linecolor": "white",
            "ticks": ""
           }
          },
          "title": {
           "x": 0.05
          },
          "xaxis": {
           "automargin": true,
           "gridcolor": "white",
           "linecolor": "white",
           "ticks": "",
           "title": {
            "standoff": 15
           },
           "zerolinecolor": "white",
           "zerolinewidth": 2
          },
          "yaxis": {
           "automargin": true,
           "gridcolor": "white",
           "linecolor": "white",
           "ticks": "",
           "title": {
            "standoff": 15
           },
           "zerolinecolor": "white",
           "zerolinewidth": 2
          }
         }
        },
        "xaxis": {
         "anchor": "y",
         "domain": [
          0,
          1
         ],
         "title": {
          "text": "Review avg"
         }
        },
        "yaxis": {
         "anchor": "x",
         "domain": [
          0,
          1
         ],
         "title": {
          "text": "Predicted Rating"
         }
        }
       }
      }
     },
     "metadata": {},
     "output_type": "display_data"
    }
   ],
   "source": [
    "# scatter plot\n",
    "fig = px.scatter(scores_comp, x=\"Review avg\", y=\"Predicted Rating\", hover_name= 'Game')\n",
    "fig"
   ]
  }
 ],
 "metadata": {
  "kernelspec": {
   "display_name": "base",
   "language": "python",
   "name": "python3"
  },
  "language_info": {
   "codemirror_mode": {
    "name": "ipython",
    "version": 3
   },
   "file_extension": ".py",
   "mimetype": "text/x-python",
   "name": "python",
   "nbconvert_exporter": "python",
   "pygments_lexer": "ipython3",
   "version": "3.10.9"
  },
  "orig_nbformat": 4
 },
 "nbformat": 4,
 "nbformat_minor": 2
}
