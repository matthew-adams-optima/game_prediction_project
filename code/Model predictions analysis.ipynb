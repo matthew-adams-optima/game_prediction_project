{
 "cells": [
  {
   "cell_type": "code",
   "execution_count": 1,
   "metadata": {},
   "outputs": [],
   "source": [
    "# initialisation\n",
    "import pandas as pd\n",
    "import numpy as np\n",
    "import plotly.express as px\n",
    "import itertools\n",
    "import joblib\n",
    "from scipy.stats import *\n",
    "from pandasgui import show\n",
    "from sklearn.ensemble import GradientBoostingRegressor\n",
    "from sklearn.linear_model import LinearRegression\n",
    "from sklearn.model_selection import train_test_split"
   ]
  },
  {
   "cell_type": "code",
   "execution_count": 2,
   "metadata": {},
   "outputs": [],
   "source": [
    "# import the model and data\n",
    "model = joblib.load('gbrmodel.joblib')\n",
    "data = pd.read_pickle('../data/processed_data.pkl')\n",
    "y_test = pd.read_pickle('../data/y_test.pkl')\n",
    "X_test = pd.read_pickle('../data/X_test.pkl')\n",
    "X = pd.read_pickle('../data/X.pkl')\n",
    "y = pd.read_pickle('../data/y.pkl')"
   ]
  },
  {
   "cell_type": "code",
   "execution_count": 3,
   "metadata": {},
   "outputs": [
    {
     "ename": "AttributeError",
     "evalue": "'RidgeCV' object has no attribute 'feature_importances_'",
     "output_type": "error",
     "traceback": [
      "\u001b[1;31m---------------------------------------------------------------------------\u001b[0m",
      "\u001b[1;31mAttributeError\u001b[0m                            Traceback (most recent call last)",
      "Cell \u001b[1;32mIn[3], line 2\u001b[0m\n\u001b[0;32m      1\u001b[0m \u001b[39m# obtain feature importances\u001b[39;00m\n\u001b[1;32m----> 2\u001b[0m importance \u001b[39m=\u001b[39m model\u001b[39m.\u001b[39;49mfeature_importances_\n\u001b[0;32m      3\u001b[0m importances_df \u001b[39m=\u001b[39m pd\u001b[39m.\u001b[39mDataFrame([importance], columns \u001b[39m=\u001b[39m X\u001b[39m.\u001b[39mcolumns)\n\u001b[0;32m      4\u001b[0m importances_df \u001b[39m=\u001b[39m importances_df\u001b[39m.\u001b[39mtranspose()\n",
      "\u001b[1;31mAttributeError\u001b[0m: 'RidgeCV' object has no attribute 'feature_importances_'"
     ]
    }
   ],
   "source": [
    "# obtain feature importances\n",
    "importance = model.feature_importances_\n",
    "importances_df = pd.DataFrame([importance], columns = X.columns)\n",
    "importances_df = importances_df.transpose()\n",
    "importances_df.to_csv('../data/feature_importances.csv') # send importances to csv\n",
    "importances_df\n",
    "# need to switch to t-statistic for basic linear regression"
   ]
  },
  {
   "cell_type": "code",
   "execution_count": 4,
   "metadata": {},
   "outputs": [],
   "source": [
    "# analyse performance using test set\n",
    "test_labels = pd.merge(y_test, data['Game'], left_index= True, right_index = True) #join the game name back in to rating scores\n",
    "test_scores = pd.DataFrame({'Game': test_labels['Game'], 'Predicted Rating':model.predict(X_test), 'Actual Rating': test_labels['Rating']}) #join the test set to the predictions\n",
    "test_scores.to_csv('../data/test_scores_output.csv')"
   ]
  },
  {
   "cell_type": "code",
   "execution_count": 5,
   "metadata": {},
   "outputs": [
    {
     "data": {
      "application/vnd.plotly.v1+json": {
       "config": {
        "plotlyServerURL": "https://plot.ly"
       },
       "data": [
        {
         "hovertemplate": "<b>%{hovertext}</b><br><br>Actual Rating=%{x}<br>Predicted Rating=%{y}<extra></extra>",
         "hovertext": [
          "Nioh",
          "Trials Rising",
          "Crypt of the Necrodancer",
          "Marvel's Avengers",
          "The Outer Worlds",
          "Destruction Allstars",
          "Super Mario Odyssey",
          "Unrailed!",
          "Rollerdrome",
          "F1 2012",
          "Tetris Effect",
          "F1 2019",
          "Stellaris",
          "Path of Exile",
          "WRC 9",
          "Astro Bot Rescue Mission",
          "Mario + Rabbids Kingdom Battle",
          "The Legend of Zelda: Tears of the Kingdom",
          "Horizon Zero Dawn",
          "Heavy Rain",
          "Psychonauts 2",
          "Call of Duty Modern Warfare 2",
          "Mario & Sonic at the Olympic Games",
          "Dandy Ace",
          "Crash Bandicoot",
          "Pokemon White",
          "Northgard",
          "Middle Earth: Shadow of War",
          "Killzone Shadow Fall",
          "Fifa 13",
          "Wo Long Fallen Dynasty",
          "Tribes of Midgard",
          "The Ascent",
          "Apotheon",
          "Brain Training",
          "Mario Tennis Aces",
          "Overcooked 2",
          "Star Wars: Knights of the Old Republic",
          "Contrast",
          "Cat Quest II",
          "Forza Motorsport 7",
          "Mario Kart 7",
          "Mini Motorways",
          "F1 2015",
          "Clustertruck",
          "Infamous First Light",
          "Spiritfarer",
          "Uncharted 3 Drake's Deception",
          "Fifa 14",
          "Divinity Original Sin 2",
          "Ultimate Chicken Horse",
          "Red Dead Redemption 2",
          "Tunic",
          "Wargroove",
          "Grand Theft Auto Vice City Stories",
          "The Last of Us Part II",
          "Motorsport Manager",
          "Metroid Fusion",
          "The Simpsons Hit & Run",
          "Assassin's Creed Revelations",
          "Call of Duty Black Ops",
          "Batman Arkham Knight",
          "Football Manager 2008",
          "Gears 5",
          "Surviving Mars",
          "Star Wars Jedi Survivor",
          "Halo 4",
          "Watch Dogs",
          "Concrete Genie",
          "Doom VFR",
          "Super Mario 3D World + Bowser's Fury",
          "Mass Effect",
          "Dicey Dungeons",
          "Hearts of Iron IV",
          "Game of Thrones Telltale",
          "Ys VIII Lacrimosa of Dana",
          "Diablo Immortal",
          "Deathloop",
          "Uncharted Drake's Fortune",
          "Ghostwire Tokyo",
          "F1 2010",
          "F1 2020",
          "Monster Hunter Rise",
          "Transistor",
          "Nier Automata",
          "Torchlight 2",
          "Halo 5: Guardians",
          "Horizon Forbidden West",
          "Super Smash Bros. Brawl",
          "Marvel's Spider-Man Miles Morales",
          "Mass Effect 3",
          "Final Fantasy VII Remake",
          "Warlock - Master of the Arcane",
          "Assassin's Creed Syndicate",
          "The Last of Us",
          "You Suck At Parking",
          "Ori and The Blind Forest",
          "Watch Dogs 2",
          "Prison Architect",
          "Elden Ring",
          "Fifa 07",
          "Hades",
          "Mario & Sonic at the Winter Olympic Games",
          "Two Point Campus",
          "The Witcher 3",
          "Super Mario Galaxy",
          "Trek to Yomi",
          "Fifa Street 2",
          "Celeste",
          "Call of Duty Modern Warfare",
          "CrossfireX"
         ],
         "legendgroup": "",
         "marker": {
          "color": "#636efa",
          "symbol": "circle"
         },
         "mode": "markers",
         "name": "",
         "orientation": "v",
         "showlegend": false,
         "type": "scatter",
         "x": [
          65,
          75,
          73,
          43,
          59,
          54,
          97,
          59,
          79,
          78,
          89,
          83,
          72,
          81,
          74,
          94,
          79,
          100,
          97,
          78,
          89,
          92,
          61,
          54,
          72,
          87,
          74,
          58,
          69,
          78,
          64,
          73,
          64,
          67,
          72,
          65,
          80,
          76,
          43,
          71,
          82,
          85,
          68,
          58,
          68,
          72,
          82,
          91,
          82,
          89,
          73,
          98,
          68,
          69,
          82,
          96,
          69,
          90,
          73,
          83,
          90,
          84,
          86,
          84,
          63,
          87,
          82,
          84,
          79,
          24,
          88,
          90,
          67,
          76,
          48,
          90,
          39,
          82,
          85,
          73,
          79,
          87,
          81,
          86,
          63,
          78,
          84,
          91,
          91,
          89,
          94,
          91,
          61,
          82,
          99,
          62,
          77,
          69,
          74,
          97,
          79,
          98,
          64,
          79,
          70,
          98,
          69,
          64,
          94,
          89,
          40
         ],
         "xaxis": "x",
         "y": [
          78.12246014084917,
          78.35335443162637,
          77.3905670882483,
          56.35220587703475,
          74.16633944603552,
          56.03050045927375,
          92.95037896301778,
          64.74422462992231,
          71.93354096155065,
          80.44151235957099,
          81.09557489768383,
          81.75041354126074,
          76.56290295724739,
          90.75524800975984,
          71.33164583726898,
          86.00564665450395,
          75.75561944146284,
          85.9004106206811,
          92.80029070772343,
          81.24598622646454,
          84.54811203840802,
          89.07722864080199,
          60.26029175294161,
          69.8999554599543,
          70.47678772814663,
          85.2267522638765,
          68.72439966629895,
          71.57303868777399,
          69.53446858309849,
          80.55724385637211,
          70.03594307663843,
          65.24666267928637,
          65.22581464434325,
          69.70166164164743,
          74.40267301937274,
          73.25422428886259,
          73.77399339417696,
          85.93364678283501,
          52.96233087541202,
          70.1882027994792,
          80.7449663534992,
          84.46009845407502,
          71.35243002005211,
          63.73308831164343,
          69.43503587720033,
          70.55499228947247,
          77.63676630209136,
          94.9164750778641,
          78.45472974254449,
          87.05991836245414,
          69.22894733121586,
          86.61501747297632,
          76.01024417353574,
          72.72597343849179,
          79.20263748029697,
          87.62813385965092,
          72.91253628798893,
          87.31559449709414,
          71.82224771797667,
          80.64672354137156,
          88.20414981278111,
          81.18640443801121,
          82.94554439502792,
          81.37411116134558,
          66.37017497252532,
          85.77977574101294,
          80.81718472298053,
          75.72992883622942,
          73.94782516733267,
          58.2960109796511,
          83.75800487922425,
          86.66686345332005,
          72.51567953613085,
          74.89211758733245,
          57.1782094338306,
          81.01706321969925,
          53.027009667831294,
          75.77376335032284,
          90.33243281294858,
          68.56256273351846,
          80.82446423801571,
          83.20538199457599,
          77.48968370019657,
          80.60566944845687,
          82.5188103646002,
          84.98446261254662,
          77.60642555699201,
          92.08359228217978,
          90.6722363136222,
          82.56730472541688,
          90.75916514031667,
          83.38162956727831,
          63.67478075881934,
          76.09310733527343,
          98.55285533543747,
          67.93530548098988,
          84.05078674971685,
          77.37670732438164,
          77.24623705952479,
          87.2368724488914,
          79.18724362802004,
          89.15842835017122,
          65.78564235192994,
          70.81160620855178,
          82.98724211516071,
          95.08775439234455,
          61.63560963068437,
          57.60713727600455,
          81.69968271749451,
          87.41240417712982,
          40.01928025700283
         ],
         "yaxis": "y"
        }
       ],
       "layout": {
        "legend": {
         "tracegroupgap": 0
        },
        "margin": {
         "t": 60
        },
        "template": {
         "data": {
          "bar": [
           {
            "error_x": {
             "color": "#2a3f5f"
            },
            "error_y": {
             "color": "#2a3f5f"
            },
            "marker": {
             "line": {
              "color": "#E5ECF6",
              "width": 0.5
             },
             "pattern": {
              "fillmode": "overlay",
              "size": 10,
              "solidity": 0.2
             }
            },
            "type": "bar"
           }
          ],
          "barpolar": [
           {
            "marker": {
             "line": {
              "color": "#E5ECF6",
              "width": 0.5
             },
             "pattern": {
              "fillmode": "overlay",
              "size": 10,
              "solidity": 0.2
             }
            },
            "type": "barpolar"
           }
          ],
          "carpet": [
           {
            "aaxis": {
             "endlinecolor": "#2a3f5f",
             "gridcolor": "white",
             "linecolor": "white",
             "minorgridcolor": "white",
             "startlinecolor": "#2a3f5f"
            },
            "baxis": {
             "endlinecolor": "#2a3f5f",
             "gridcolor": "white",
             "linecolor": "white",
             "minorgridcolor": "white",
             "startlinecolor": "#2a3f5f"
            },
            "type": "carpet"
           }
          ],
          "choropleth": [
           {
            "colorbar": {
             "outlinewidth": 0,
             "ticks": ""
            },
            "type": "choropleth"
           }
          ],
          "contour": [
           {
            "colorbar": {
             "outlinewidth": 0,
             "ticks": ""
            },
            "colorscale": [
             [
              0,
              "#0d0887"
             ],
             [
              0.1111111111111111,
              "#46039f"
             ],
             [
              0.2222222222222222,
              "#7201a8"
             ],
             [
              0.3333333333333333,
              "#9c179e"
             ],
             [
              0.4444444444444444,
              "#bd3786"
             ],
             [
              0.5555555555555556,
              "#d8576b"
             ],
             [
              0.6666666666666666,
              "#ed7953"
             ],
             [
              0.7777777777777778,
              "#fb9f3a"
             ],
             [
              0.8888888888888888,
              "#fdca26"
             ],
             [
              1,
              "#f0f921"
             ]
            ],
            "type": "contour"
           }
          ],
          "contourcarpet": [
           {
            "colorbar": {
             "outlinewidth": 0,
             "ticks": ""
            },
            "type": "contourcarpet"
           }
          ],
          "heatmap": [
           {
            "colorbar": {
             "outlinewidth": 0,
             "ticks": ""
            },
            "colorscale": [
             [
              0,
              "#0d0887"
             ],
             [
              0.1111111111111111,
              "#46039f"
             ],
             [
              0.2222222222222222,
              "#7201a8"
             ],
             [
              0.3333333333333333,
              "#9c179e"
             ],
             [
              0.4444444444444444,
              "#bd3786"
             ],
             [
              0.5555555555555556,
              "#d8576b"
             ],
             [
              0.6666666666666666,
              "#ed7953"
             ],
             [
              0.7777777777777778,
              "#fb9f3a"
             ],
             [
              0.8888888888888888,
              "#fdca26"
             ],
             [
              1,
              "#f0f921"
             ]
            ],
            "type": "heatmap"
           }
          ],
          "heatmapgl": [
           {
            "colorbar": {
             "outlinewidth": 0,
             "ticks": ""
            },
            "colorscale": [
             [
              0,
              "#0d0887"
             ],
             [
              0.1111111111111111,
              "#46039f"
             ],
             [
              0.2222222222222222,
              "#7201a8"
             ],
             [
              0.3333333333333333,
              "#9c179e"
             ],
             [
              0.4444444444444444,
              "#bd3786"
             ],
             [
              0.5555555555555556,
              "#d8576b"
             ],
             [
              0.6666666666666666,
              "#ed7953"
             ],
             [
              0.7777777777777778,
              "#fb9f3a"
             ],
             [
              0.8888888888888888,
              "#fdca26"
             ],
             [
              1,
              "#f0f921"
             ]
            ],
            "type": "heatmapgl"
           }
          ],
          "histogram": [
           {
            "marker": {
             "pattern": {
              "fillmode": "overlay",
              "size": 10,
              "solidity": 0.2
             }
            },
            "type": "histogram"
           }
          ],
          "histogram2d": [
           {
            "colorbar": {
             "outlinewidth": 0,
             "ticks": ""
            },
            "colorscale": [
             [
              0,
              "#0d0887"
             ],
             [
              0.1111111111111111,
              "#46039f"
             ],
             [
              0.2222222222222222,
              "#7201a8"
             ],
             [
              0.3333333333333333,
              "#9c179e"
             ],
             [
              0.4444444444444444,
              "#bd3786"
             ],
             [
              0.5555555555555556,
              "#d8576b"
             ],
             [
              0.6666666666666666,
              "#ed7953"
             ],
             [
              0.7777777777777778,
              "#fb9f3a"
             ],
             [
              0.8888888888888888,
              "#fdca26"
             ],
             [
              1,
              "#f0f921"
             ]
            ],
            "type": "histogram2d"
           }
          ],
          "histogram2dcontour": [
           {
            "colorbar": {
             "outlinewidth": 0,
             "ticks": ""
            },
            "colorscale": [
             [
              0,
              "#0d0887"
             ],
             [
              0.1111111111111111,
              "#46039f"
             ],
             [
              0.2222222222222222,
              "#7201a8"
             ],
             [
              0.3333333333333333,
              "#9c179e"
             ],
             [
              0.4444444444444444,
              "#bd3786"
             ],
             [
              0.5555555555555556,
              "#d8576b"
             ],
             [
              0.6666666666666666,
              "#ed7953"
             ],
             [
              0.7777777777777778,
              "#fb9f3a"
             ],
             [
              0.8888888888888888,
              "#fdca26"
             ],
             [
              1,
              "#f0f921"
             ]
            ],
            "type": "histogram2dcontour"
           }
          ],
          "mesh3d": [
           {
            "colorbar": {
             "outlinewidth": 0,
             "ticks": ""
            },
            "type": "mesh3d"
           }
          ],
          "parcoords": [
           {
            "line": {
             "colorbar": {
              "outlinewidth": 0,
              "ticks": ""
             }
            },
            "type": "parcoords"
           }
          ],
          "pie": [
           {
            "automargin": true,
            "type": "pie"
           }
          ],
          "scatter": [
           {
            "fillpattern": {
             "fillmode": "overlay",
             "size": 10,
             "solidity": 0.2
            },
            "type": "scatter"
           }
          ],
          "scatter3d": [
           {
            "line": {
             "colorbar": {
              "outlinewidth": 0,
              "ticks": ""
             }
            },
            "marker": {
             "colorbar": {
              "outlinewidth": 0,
              "ticks": ""
             }
            },
            "type": "scatter3d"
           }
          ],
          "scattercarpet": [
           {
            "marker": {
             "colorbar": {
              "outlinewidth": 0,
              "ticks": ""
             }
            },
            "type": "scattercarpet"
           }
          ],
          "scattergeo": [
           {
            "marker": {
             "colorbar": {
              "outlinewidth": 0,
              "ticks": ""
             }
            },
            "type": "scattergeo"
           }
          ],
          "scattergl": [
           {
            "marker": {
             "colorbar": {
              "outlinewidth": 0,
              "ticks": ""
             }
            },
            "type": "scattergl"
           }
          ],
          "scattermapbox": [
           {
            "marker": {
             "colorbar": {
              "outlinewidth": 0,
              "ticks": ""
             }
            },
            "type": "scattermapbox"
           }
          ],
          "scatterpolar": [
           {
            "marker": {
             "colorbar": {
              "outlinewidth": 0,
              "ticks": ""
             }
            },
            "type": "scatterpolar"
           }
          ],
          "scatterpolargl": [
           {
            "marker": {
             "colorbar": {
              "outlinewidth": 0,
              "ticks": ""
             }
            },
            "type": "scatterpolargl"
           }
          ],
          "scatterternary": [
           {
            "marker": {
             "colorbar": {
              "outlinewidth": 0,
              "ticks": ""
             }
            },
            "type": "scatterternary"
           }
          ],
          "surface": [
           {
            "colorbar": {
             "outlinewidth": 0,
             "ticks": ""
            },
            "colorscale": [
             [
              0,
              "#0d0887"
             ],
             [
              0.1111111111111111,
              "#46039f"
             ],
             [
              0.2222222222222222,
              "#7201a8"
             ],
             [
              0.3333333333333333,
              "#9c179e"
             ],
             [
              0.4444444444444444,
              "#bd3786"
             ],
             [
              0.5555555555555556,
              "#d8576b"
             ],
             [
              0.6666666666666666,
              "#ed7953"
             ],
             [
              0.7777777777777778,
              "#fb9f3a"
             ],
             [
              0.8888888888888888,
              "#fdca26"
             ],
             [
              1,
              "#f0f921"
             ]
            ],
            "type": "surface"
           }
          ],
          "table": [
           {
            "cells": {
             "fill": {
              "color": "#EBF0F8"
             },
             "line": {
              "color": "white"
             }
            },
            "header": {
             "fill": {
              "color": "#C8D4E3"
             },
             "line": {
              "color": "white"
             }
            },
            "type": "table"
           }
          ]
         },
         "layout": {
          "annotationdefaults": {
           "arrowcolor": "#2a3f5f",
           "arrowhead": 0,
           "arrowwidth": 1
          },
          "autotypenumbers": "strict",
          "coloraxis": {
           "colorbar": {
            "outlinewidth": 0,
            "ticks": ""
           }
          },
          "colorscale": {
           "diverging": [
            [
             0,
             "#8e0152"
            ],
            [
             0.1,
             "#c51b7d"
            ],
            [
             0.2,
             "#de77ae"
            ],
            [
             0.3,
             "#f1b6da"
            ],
            [
             0.4,
             "#fde0ef"
            ],
            [
             0.5,
             "#f7f7f7"
            ],
            [
             0.6,
             "#e6f5d0"
            ],
            [
             0.7,
             "#b8e186"
            ],
            [
             0.8,
             "#7fbc41"
            ],
            [
             0.9,
             "#4d9221"
            ],
            [
             1,
             "#276419"
            ]
           ],
           "sequential": [
            [
             0,
             "#0d0887"
            ],
            [
             0.1111111111111111,
             "#46039f"
            ],
            [
             0.2222222222222222,
             "#7201a8"
            ],
            [
             0.3333333333333333,
             "#9c179e"
            ],
            [
             0.4444444444444444,
             "#bd3786"
            ],
            [
             0.5555555555555556,
             "#d8576b"
            ],
            [
             0.6666666666666666,
             "#ed7953"
            ],
            [
             0.7777777777777778,
             "#fb9f3a"
            ],
            [
             0.8888888888888888,
             "#fdca26"
            ],
            [
             1,
             "#f0f921"
            ]
           ],
           "sequentialminus": [
            [
             0,
             "#0d0887"
            ],
            [
             0.1111111111111111,
             "#46039f"
            ],
            [
             0.2222222222222222,
             "#7201a8"
            ],
            [
             0.3333333333333333,
             "#9c179e"
            ],
            [
             0.4444444444444444,
             "#bd3786"
            ],
            [
             0.5555555555555556,
             "#d8576b"
            ],
            [
             0.6666666666666666,
             "#ed7953"
            ],
            [
             0.7777777777777778,
             "#fb9f3a"
            ],
            [
             0.8888888888888888,
             "#fdca26"
            ],
            [
             1,
             "#f0f921"
            ]
           ]
          },
          "colorway": [
           "#636efa",
           "#EF553B",
           "#00cc96",
           "#ab63fa",
           "#FFA15A",
           "#19d3f3",
           "#FF6692",
           "#B6E880",
           "#FF97FF",
           "#FECB52"
          ],
          "font": {
           "color": "#2a3f5f"
          },
          "geo": {
           "bgcolor": "white",
           "lakecolor": "white",
           "landcolor": "#E5ECF6",
           "showlakes": true,
           "showland": true,
           "subunitcolor": "white"
          },
          "hoverlabel": {
           "align": "left"
          },
          "hovermode": "closest",
          "mapbox": {
           "style": "light"
          },
          "paper_bgcolor": "white",
          "plot_bgcolor": "#E5ECF6",
          "polar": {
           "angularaxis": {
            "gridcolor": "white",
            "linecolor": "white",
            "ticks": ""
           },
           "bgcolor": "#E5ECF6",
           "radialaxis": {
            "gridcolor": "white",
            "linecolor": "white",
            "ticks": ""
           }
          },
          "scene": {
           "xaxis": {
            "backgroundcolor": "#E5ECF6",
            "gridcolor": "white",
            "gridwidth": 2,
            "linecolor": "white",
            "showbackground": true,
            "ticks": "",
            "zerolinecolor": "white"
           },
           "yaxis": {
            "backgroundcolor": "#E5ECF6",
            "gridcolor": "white",
            "gridwidth": 2,
            "linecolor": "white",
            "showbackground": true,
            "ticks": "",
            "zerolinecolor": "white"
           },
           "zaxis": {
            "backgroundcolor": "#E5ECF6",
            "gridcolor": "white",
            "gridwidth": 2,
            "linecolor": "white",
            "showbackground": true,
            "ticks": "",
            "zerolinecolor": "white"
           }
          },
          "shapedefaults": {
           "line": {
            "color": "#2a3f5f"
           }
          },
          "ternary": {
           "aaxis": {
            "gridcolor": "white",
            "linecolor": "white",
            "ticks": ""
           },
           "baxis": {
            "gridcolor": "white",
            "linecolor": "white",
            "ticks": ""
           },
           "bgcolor": "#E5ECF6",
           "caxis": {
            "gridcolor": "white",
            "linecolor": "white",
            "ticks": ""
           }
          },
          "title": {
           "x": 0.05
          },
          "xaxis": {
           "automargin": true,
           "gridcolor": "white",
           "linecolor": "white",
           "ticks": "",
           "title": {
            "standoff": 15
           },
           "zerolinecolor": "white",
           "zerolinewidth": 2
          },
          "yaxis": {
           "automargin": true,
           "gridcolor": "white",
           "linecolor": "white",
           "ticks": "",
           "title": {
            "standoff": 15
           },
           "zerolinecolor": "white",
           "zerolinewidth": 2
          }
         }
        },
        "xaxis": {
         "anchor": "y",
         "domain": [
          0,
          1
         ],
         "title": {
          "text": "Actual Rating"
         }
        },
        "yaxis": {
         "anchor": "x",
         "domain": [
          0,
          1
         ],
         "title": {
          "text": "Predicted Rating"
         }
        }
       }
      }
     },
     "metadata": {},
     "output_type": "display_data"
    }
   ],
   "source": [
    "# scatter plot of predicted scores vs actual for test set\n",
    "fig = px.scatter(test_scores, x=\"Actual Rating\", y=\"Predicted Rating\", hover_name= 'Game')\n",
    "fig"
   ]
  },
  {
   "cell_type": "code",
   "execution_count": 6,
   "metadata": {},
   "outputs": [],
   "source": [
    "#obtain plot of predicted rating vs review score\n",
    "all_labels = pd.merge(y, data['Game'], left_index= True, right_index = True) #join the game name back in to rating scores\n",
    "scores_labels = pd.merge(all_labels, data['Reviewscore'], left_index= True, right_index = True) #join the review avg back in to rating scores\n",
    "scores_comp = pd.DataFrame({'Game': scores_labels['Game'], \n",
    "                            'Predicted Rating': model.predict(X), \n",
    "                            'Actual Rating': scores_labels['Rating'], \n",
    "                            'Review avg': scores_labels['Reviewscore']}) #join the test set to the predictions"
   ]
  },
  {
   "cell_type": "code",
   "execution_count": 7,
   "metadata": {},
   "outputs": [
    {
     "data": {
      "application/vnd.plotly.v1+json": {
       "config": {
        "plotlyServerURL": "https://plot.ly"
       },
       "data": [
        {
         "hovertemplate": "<b>%{hovertext}</b><br><br>Review avg=%{x}<br>Predicted Rating=%{y}<extra></extra>",
         "hovertext": [
          "The Legend of Zelda: Breath of the Wild",
          "The Legend of Zelda: Tears of the Kingdom",
          "God of War (2018)",
          "Metroid Prime",
          "The Last of Us",
          "Hades",
          "Red Dead Redemption 2",
          "Super Mario Galaxy",
          "Elden Ring",
          "Hi-Fi Rush",
          "Horizon Zero Dawn",
          "Super Mario Galaxy 2",
          "Super Mario Odyssey",
          "Bloodborne",
          "God of War Ragnarök",
          "The Last of Us Part II",
          "Uncharted 2 Among Thieves",
          "Bioshock Infinite",
          "Grand Theft Auto V",
          "Mass Effect 2",
          "Portal 2",
          "Astro Bot Rescue Mission",
          "Celeste",
          "Driveclub",
          "Hollow Knight",
          "Mario Kart 8",
          "Mass Effect 3",
          "Uncharted 4 A Thief's End",
          "Bioshock",
          "Forza Horizon 3",
          "Ghost of Tsushima",
          "Guild Wars 2",
          "Mario Kart DS",
          "Marvel's Spider-Man",
          "Metroid Dread",
          "Super Metroid",
          "Assassin's Creed Brotherhood",
          "Call of Duty Modern Warfare 2",
          "Dragon Age Inquisition",
          "Final Fantasy XVI",
          "Forza Horizon 4",
          "Forza Horizon 5",
          "Halo Combat Evolved",
          "Uncharted The Lost Legacy",
          "Undertale",
          "Final Fantasy VII Remake",
          "Football Manager 2007",
          "God of War 3",
          "Grand Theft Auto San Andreas",
          "Horizon Forbidden West",
          "Pokemon SoulSilver",
          "Rayman Legends",
          "Super Smash Bros. Brawl",
          "The Legend of Zelda: Ocarina of Time",
          "Uncharted 3 Drake's Deception",
          "Bayonetta 2",
          "Call of Duty Black Ops",
          "Demon's Souls (Remake)",
          "Halo Reach",
          "Mass Effect",
          "Metroid Fusion",
          "Psychonauts",
          "Rocket League",
          "Star Wars Jedi Fallen Order",
          "Super Smash Bros. Ultimate",
          "Ys VIII Lacrimosa of Dana",
          "A Short Hike",
          "Batman Arkham Asylum",
          "Call of Duty Modern Warfare",
          "Civilization V",
          "Crash Bandicoot 2: Cortex Strikes Back",
          "Divinity Original Sin 2",
          "Gran Turismo 2",
          "Halo 3",
          "Marvel's Spider-Man Miles Morales",
          "Ori and The Will of the Wisps",
          "Psychonauts 2",
          "Ratchet & Clank: Rift Apart",
          "Tetris Effect",
          "Assassin's Creed IV Black Flag",
          "Astral Chain",
          "Astro's Playroom",
          "Borderlands 2",
          "Cities Skylines",
          "Death's Door",
          "Diablo 3",
          "Forza 4",
          "Journey",
          "Mario Kart Wii",
          "Rise of the Tomb Raider ",
          "Super Mario 3D World + Bowser's Fury",
          "Tetris",
          "Vampire Survivors",
          "Animal Crossing New Horizons",
          "Crash Bandicoot 3: Warped",
          "Devil May Cry 5",
          "F1 2020",
          "Gran Turismo 7",
          "Halo 2",
          "Persona 5",
          "Pokemon White",
          "Rogue Legacy 2",
          "Star Wars Jedi Survivor",
          "Titanfall 2",
          "Civilization VI",
          "Dead Cells",
          "Dragon Age 2",
          "Football Manager 2008",
          "Guardians of the Galaxy",
          "Minecraft",
          "OlliOlli World",
          "Stray",
          "Tales From the Borderlands",
          "Transistor",
          "Aces and Adventures",
          "Assassin's Creed Unity",
          "Crosscode",
          "Dragon Age Origins",
          "Mario Kart 7",
          "Neon White",
          "Pokemon Diamond",
          "Tearaway",
          "Uncharted Drake's Fortune",
          "Unsighted",
          "Batman Arkham Knight",
          "Call of Duty Modern Warfare 3",
          "Citizen Sleeper",
          "Crash Team Racing",
          "Europa Universalis IV",
          "F1 2017",
          "F1 2018",
          "Football Manager 2009",
          "Gears 5",
          "Golf Story",
          "Halo 5: Guardians",
          "Kena: Bridge of Spirits",
          "Pokemon Black 2",
          "Returnal",
          "Splatoon 3",
          "Terraria",
          "The Legend of Zelda: Skyward Sword",
          "Watch Dogs",
          "Assassin's Creed Revelations",
          "Borderlands 3",
          "F1 2019",
          "Fifa 11",
          "Football Manager 2010",
          "Lego Star Wars II: The Original Trilogy",
          "Mario & Luigi Superstar Saga",
          "OlliOlli 2: Welcome to Olliwood",
          "Pokemon Sun",
          "Rollercoaster Tycoon 2",
          "Tomb Raider",
          "Ys IX: Monstrum Nox",
          "Assassin's Creed Syndicate",
          "Deathloop",
          "F1 2016",
          "Fifa 14",
          "Forza Motorsport 7",
          "Grand Theft Auto Vice City Stories",
          "Halo 4",
          "Luigi's Mansion 3",
          "Monster Sanctuary",
          "Pokemon Legends Arceus",
          "Spiritfarer",
          "Team Fortress 2",
          "Bioshock 2",
          "Cassette Beasts",
          "Halo Infinite",
          "inFAMOUS Second Son",
          "Monster Hunter Rise",
          "Path of Exile",
          "Resogun",
          "F1 2011",
          "Fifa 12",
          "Final Fantasy X",
          "Kirby and the Forgotten Land",
          "Lego Star Wars: The Video Game",
          "Overcooked",
          "Overcooked 2",
          "Overwatch",
          "Stardew Valley",
          "The Legend of Zelda: A Link to the Past",
          "Ys Seven",
          "Apex Legends",
          "Call of Duty Black Ops II",
          "Concrete Genie",
          "Dirt 5",
          "F1 2010",
          "Far Cry 4",
          "Fifa 07",
          "Football Manager 2013",
          "Gears of War 4",
          "Gran Turismo Sport",
          "Mario + Rabbids Kingdom Battle",
          "Middle Earth Shadow of Mordor",
          "PlateUp!",
          "Pokemon Y",
          "Rollerdrome",
          "Teenage Mutant Ninja Turtles: Shredder's Revenge",
          "Two Point Campus",
          "Xenoblade Chronicles",
          "Assassin's Creed Origins",
          "Call of Duty Advanced Warfare",
          "Dragon Quest IX",
          "F1 2012",
          "Fifa 13",
          "Football Manager 2012",
          "Heavy Rain",
          "Kingdom Hearts 3",
          "Nobody Saves The World",
          "Pokemon Omega Ruby",
          "Ratchet & Clank",
          "Torchlight 2",
          "Trackmania Turbo",
          "XCOM: Enemy Unknown",
          "Battlefield 4",
          "Call of Duty Infinite Warfare",
          "Call of Duty WW2",
          "Chained Echoes",
          "Deep Rock Galactic",
          "Football Manager 2014",
          "Freshly Frosted",
          "Gris",
          "Loop Hero",
          "Ori and The Blind Forest",
          "Ring Fit Adventure",
          "Sekiro Shadows Die Twice",
          "Streets of Rage 4",
          "The Order 1886",
          "A Plague Tale: Innocence",
          "Call of Duty Black Ops 4",
          "Doom (2016)",
          "Hearts of Iron IV",
          "Monster Hunter World",
          "Moss PSVR",
          "Overwatch 2",
          "Pyre",
          "Star Wars: Knights of the Old Republic",
          "Trials Fusion",
          "Warhammer Vermentide 2",
          "WipeOut Omega Collection",
          "Call of Duty Black Ops III",
          "Guacamelee!",
          "Mario Strikers Charged Football",
          "Need for Speed Hot Pursuit",
          "Pokemon Let's Go Pikachu",
          "Sackboy: A Big Adventure",
          "Torchlight",
          "Trials Rising",
          "Wii Sports",
          "2010 FIFA World Cup South Africa",
          "Batman Arkham City",
          "Borderlands The Pre-Sequel",
          "Call of Duty Black Ops Cold War",
          "Castlevania Symphony of the Night",
          "Crash Bandicoot 4: Its About Time",
          "Destiny",
          "Dreams",
          "Dungeon of the Endless",
          "Immortals Fenyx Rising",
          "Northgard",
          "Parkitect",
          "Pokemon Violet",
          "Prison Architect",
          "Risk of Rain 2",
          "Warframe",
          "Wild Hearts",
          "WRC 9",
          "Wreckfest",
          "Bugsnax",
          "Crypt of the Necrodancer",
          "Diablo 4",
          "Dirt Rally 2.0",
          "Far Cry 5",
          "Football Manager 2015",
          "Ghostwire Tokyo",
          "Hot Wheels Unleashed",
          "Nintendogs",
          "Rollercoaster Tycoon",
          "Spec Ops The Line",
          "The Legend of Zelda: Link's Awakening",
          "The Simpsons Hit & Run",
          "Tribes of Midgard",
          "Ultimate Chicken Horse",
          "Wii Fit",
          "Wildermyth",
          "Brain Training",
          "Buck Up and Drive!",
          "Crash Bandicoot",
          "Cult of the Lamb",
          "Darksiders Genesis",
          "Halo 3 ODST",
          "High on Life",
          "Hyper Light Drifter",
          "Hyrule Warriors Age of Calamity",
          "Infamous First Light",
          "New Super Mario Bros. Wii",
          "Stellaris",
          "Uncharted Golden Abyss",
          "Abzu",
          "Battlefield 1",
          "Cat Quest II",
          "Grid Legends",
          "Star Wars Squadrons",
          "The Crew",
          "Velocity 2X",
          "Warpips",
          "Assassin's Creed Rogue",
          "Cat Quest",
          "Don't Starve",
          "Fifa 19",
          "Grand Theft Auto IV",
          "The Witcher 3",
          "Age of Empires IV",
          "Assassin's Creed Freedom Cry",
          "Bayonetta",
          "Detroit Become Human",
          "Journey to the Savage Planet",
          "Killzone Shadow Fall",
          "Motorsport Manager",
          "Skyrim",
          "Sportsfriends",
          "Star Wars Battlefront",
          "TemTem",
          "Trek to Yomi",
          "Wargroove",
          "Watch Dogs 2",
          "Windjammers 2",
          "20 Minutes Till Dawn",
          "Clustertruck",
          "Curse of the Dead Gods",
          "Cyberpunk 2077",
          "Endless Legend",
          "F1 2009",
          "Golf Peaks",
          "Golf With Your Friends",
          "GreedFall",
          "Grid (2019)",
          "Mini Motorways",
          "Nex Machina",
          "Pokemon Mystery Dunegon Explorers of Time",
          "The Riftbreaker",
          "Tunic",
          "Apotheon",
          "Assassin's Creed Odyssey",
          "Boyfriend Dungeon",
          "Dicey Dungeons",
          "Dragon Quest XI",
          "Game Dev Tycoon",
          "Kingdom New Lands",
          "Mario Golf: Super Rush",
          "Need for Speed Unbound",
          "Factorio",
          "Fall Guys",
          "Far Cry Primal",
          "Sea of Thieves",
          "The Jackbox Party Pack 6",
          "Final Fantasy XV",
          "Grid Autosport",
          "Mario Tennis Aces",
          "New Super Mario Bros. 2",
          "Nioh",
          "War Thunder",
          "Worms W.M.D",
          "Civilization Beyond Earth",
          "Fifa Street 2",
          "Awesomenauts",
          "Banished",
          "Dragon Quest Builders",
          "Lyne",
          "Mario & Sonic at the Winter Olympic Games",
          "Sonic & All Stars Racing Transformed",
          "The Ascent",
          "The Last Guardian",
          "Wo Long Fallen Dynasty",
          "A Plague Tale: Requiem",
          "Animal Crossing City Folk",
          "Crash Bandicoot The Wrath of Cortex",
          "Darksburg",
          "Just Cause 3",
          "Minecraft Dungeons",
          "Nier Automata",
          "Surviving Mars",
          "Human Fall Flat",
          "Project Cars",
          "Shadow of the Colossus (Remake)",
          "You Suck At Parking",
          "Embr",
          "Mario & Sonic at the Olympic Games",
          "Warlock - Master of the Arcane",
          "Doom Eternal",
          "Prey",
          "Scarlet Nexus",
          "Arcadeggedon",
          "Back 4 Blood",
          "Lego Star Wars The Skywalker Saga",
          "Luna",
          "Pokemon Sword",
          "The Outer Worlds",
          "Unrailed!",
          "F1 2015",
          "Middle Earth: Shadow of War",
          "Outer Wilds",
          "Spacelines from the Far Out",
          "Burnout Paradise",
          "For The King",
          "Tchia",
          "Big Pharma",
          "Dead Nation: Apocalypse Edition",
          "DC Universe Online",
          "Little Big Planet 3",
          "Dandy Ace",
          "Destruction Allstars",
          "Lost Ark",
          "Need For Speed Heat",
          "The Crew 2",
          "Control",
          "Finding Nemo",
          "Octopath Traveller",
          "Democracy 3",
          "Golfie",
          "Clicker Heroes",
          "Pure Pool",
          "Shoppe Keep",
          "Diablo 2",
          "VR Worlds",
          "Minecraft Legends",
          "Game of Thrones Telltale",
          "Mario Party 8",
          "Cruis'n Blast",
          "F.I.S.T. Forged In Shadow Torch",
          "Youtubers Life",
          "Farming Simulator 2019",
          "Exoprimal",
          "Contrast",
          "Marvel's Avengers",
          "Fifa 06 Game Boy Advance",
          "CrossfireX",
          "Diablo Immortal",
          "Fifa 14 Legacy Edition",
          "Sunlight",
          "Doom VFR"
         ],
         "legendgroup": "",
         "marker": {
          "color": "#636efa",
          "symbol": "circle"
         },
         "mode": "markers",
         "name": "",
         "orientation": "v",
         "showlegend": false,
         "type": "scatter",
         "x": [
          97,
          96,
          94,
          97,
          95,
          94,
          97,
          97,
          96,
          89,
          89,
          97,
          97,
          92,
          94,
          93,
          96,
          94,
          97,
          96,
          95,
          90,
          91,
          71,
          90,
          88,
          93,
          93,
          96,
          91,
          85,
          90,
          91,
          87,
          87,
          96,
          90,
          94,
          89,
          88,
          92,
          92,
          97,
          84,
          92,
          88,
          87,
          92,
          95,
          88,
          87,
          90,
          93,
          99,
          92,
          91,
          88,
          92,
          91,
          91,
          92,
          87,
          85,
          85,
          93,
          85,
          87,
          92,
          92,
          90,
          89,
          93,
          93,
          94,
          85,
          90,
          89,
          88,
          89,
          83,
          87,
          84,
          89,
          85,
          88,
          88,
          91,
          92,
          82,
          86,
          89,
          90,
          87,
          90,
          91,
          88,
          88,
          87,
          95,
          94,
          87,
          89,
          84,
          87,
          88,
          89,
          79,
          86,
          82,
          93,
          86,
          84,
          86,
          83,
          84,
          70,
          86,
          91,
          85,
          89,
          85,
          87,
          88,
          85,
          87,
          89,
          84,
          88,
          87,
          86,
          84,
          83,
          85,
          78,
          84,
          82,
          80,
          86,
          83,
          83,
          93,
          77,
          80,
          80,
          86,
          88,
          87,
          84,
          90,
          85,
          87,
          74,
          85,
          80,
          76,
          88,
          82,
          85,
          85,
          86,
          87,
          86,
          80,
          84,
          87,
          92,
          88,
          86,
          87,
          80,
          88,
          93,
          84,
          84,
          90,
          92,
          84,
          78,
          80,
          81,
          91,
          89,
          95,
          79,
          86,
          83,
          77,
          82,
          84,
          85,
          82,
          86,
          84,
          75,
          85,
          84,
          80,
          86,
          80,
          87,
          84,
          92,
          81,
          83,
          87,
          81,
          90,
          84,
          87,
          85,
          80,
          83,
          85,
          88,
          81,
          89,
          85,
          77,
          79,
          89,
          85,
          85,
          91,
          84,
          84,
          89,
          83,
          90,
          84,
          63,
          82,
          85,
          85,
          83,
          89,
          85,
          77,
          84,
          94,
          79,
          83,
          85,
          81,
          83,
          79,
          88,
          81,
          81,
          83,
          80,
          76,
          82,
          94,
          75,
          75,
          93,
          85,
          76,
          90,
          79,
          79,
          79,
          83,
          72,
          80,
          86,
          71,
          79,
          80,
          80,
          75,
          87,
          88,
          83,
          82,
          80,
          77,
          74,
          83,
          78,
          76,
          87,
          78,
          75,
          79,
          80,
          85,
          77,
          70,
          80,
          84,
          79,
          83,
          69,
          84,
          80,
          73,
          87,
          81,
          80,
          80,
          87,
          76,
          75,
          79,
          61,
          85,
          79,
          72,
          72,
          79,
          81,
          98,
          92,
          83,
          70,
          90,
          78,
          76,
          73,
          81,
          94,
          80,
          73,
          76,
          72,
          83,
          82,
          77,
          76,
          76,
          81,
          76,
          82,
          69,
          75,
          69,
          75,
          73,
          80,
          84,
          60,
          80,
          86,
          76,
          85,
          73,
          82,
          86,
          68,
          73,
          71,
          75,
          70,
          80,
          76,
          67,
          74,
          81,
          78,
          78,
          78,
          88,
          75,
          78,
          81,
          59,
          78,
          74,
          70,
          86,
          72,
          75,
          73,
          81,
          82,
          84,
          73,
          66,
          68,
          73,
          72,
          89,
          77,
          68,
          75,
          92,
          70,
          67,
          67,
          71,
          89,
          81,
          79,
          74,
          76,
          82,
          62,
          80,
          85,
          75,
          65,
          79,
          86,
          82,
          88,
          75,
          78,
          64,
          71,
          72,
          79,
          79,
          62,
          82,
          72,
          64,
          84,
          63,
          83,
          70,
          70,
          57,
          73,
          57,
          88,
          56,
          71,
          69,
          62,
          73,
          80,
          63,
          64,
          60,
          59,
          68,
          49,
          42,
          65,
          38,
          78,
          70
         ],
         "xaxis": "x",
         "y": [
          94.21845504843168,
          85.9004106206811,
          93.4484261269821,
          91.64630291110711,
          98.55285533543747,
          89.15842835017122,
          86.61501747297632,
          95.08775439234455,
          87.2368724488914,
          89.30037472472543,
          92.80029070772343,
          94.25742924897429,
          92.95037896301778,
          93.7852499014499,
          93.70040330674692,
          87.62813385965092,
          98.72486504142171,
          92.19788543366485,
          92.62010437060985,
          92.68765334106843,
          88.15833088121497,
          86.00564665450395,
          81.69968271749451,
          73.95436812485013,
          84.54574031308209,
          94.63898977284589,
          90.75916514031667,
          100.46833357302648,
          91.2369428020977,
          91.51621313639941,
          87.81123895812254,
          85.40199350703449,
          92.51839928401228,
          90.13736451146713,
          84.42233503372074,
          91.41341945959687,
          90.01657855276767,
          89.07722864080199,
          90.25872341530169,
          80.39490183057706,
          92.48007847849112,
          91.21539087704127,
          89.16991282327456,
          88.65196274763935,
          88.1595625103962,
          83.38162956727831,
          84.30537242241041,
          91.76139165056293,
          87.9089786923771,
          92.08359228217978,
          86.08267725577252,
          85.04754994889242,
          90.6722363136222,
          86.40653843786686,
          94.9164750778641,
          86.00726071229656,
          88.20414981278111,
          89.22915776678678,
          85.63856311576387,
          86.66686345332005,
          87.31559449709414,
          83.19123160088031,
          82.5364046464116,
          88.54598672852467,
          86.9873581039767,
          81.01706321969925,
          75.22203091890458,
          83.99787339748877,
          87.41240417712982,
          88.26389444619906,
          80.24030119110898,
          87.05991836245414,
          92.68562428716541,
          88.67446249649686,
          82.56730472541688,
          84.61868940651789,
          84.54811203840802,
          85.77748288609791,
          81.09557489768383,
          82.82608970477497,
          81.75702922073992,
          81.47115594050649,
          83.94175892275211,
          81.29447762802602,
          83.3716942147222,
          85.84852272799515,
          86.81892354840079,
          80.74012126246384,
          81.98809903357335,
          84.40337043486272,
          83.75800487922425,
          81.69943482872566,
          76.7875713198165,
          85.6997504818313,
          81.68401643731738,
          81.67092515832178,
          83.20538199457599,
          86.62832165103748,
          89.57432821727423,
          84.49371603862824,
          85.2267522638765,
          84.384932942707,
          85.77977574101294,
          79.3354294280964,
          80.31067189912119,
          84.46060443211138,
          78.48400818358755,
          82.94554439502792,
          77.06575072680448,
          87.4714882351609,
          80.82692363294359,
          76.27388687324094,
          83.67602012571444,
          80.60566944845687,
          73.62034050434193,
          77.25890339793114,
          82.00489021728254,
          87.66270977878435,
          84.46009845407502,
          83.31102204803176,
          85.03647141201088,
          79.80849442976216,
          90.33243281294858,
          76.78795612396152,
          81.18640443801121,
          84.23664123624303,
          80.48773328841708,
          76.33605666871267,
          84.71460313541672,
          82.59353860889394,
          80.29544508794561,
          79.70918538051365,
          81.37411116134558,
          72.69670372134067,
          77.60642555699201,
          83.37015187391273,
          77.91643607563947,
          85.71403963274929,
          77.8010788617164,
          81.93760513460143,
          86.29606107416134,
          75.72992883622942,
          80.64672354137156,
          75.55680763176133,
          81.75041354126074,
          80.12509516230898,
          82.6063223628812,
          79.60826563317596,
          80.02140664285116,
          80.8739338449601,
          82.7980443953345,
          72.35778532903873,
          87.11980941009347,
          77.64848933065025,
          76.09310733527343,
          75.77376335032284,
          79.26203916844702,
          78.45472974254449,
          80.7449663534992,
          79.20263748029697,
          80.81718472298053,
          77.33504686782271,
          76.22448011454605,
          77.57450512068726,
          77.63676630209136,
          83.49679125265766,
          81.96141437089398,
          78.01760894923109,
          78.75409230976925,
          77.12285074443378,
          77.48968370019657,
          90.75524800975984,
          76.54044551831907,
          80.40290170419928,
          80.54444393210917,
          78.39564290519809,
          76.96185400563866,
          74.40023520559703,
          73.6788529682442,
          73.77399339417696,
          82.55409226973097,
          79.06474531295362,
          80.71785537175481,
          75.60287702648668,
          76.92707168039419,
          80.48504097258456,
          73.94782516733267,
          80.12167865565164,
          80.82446423801571,
          81.94764391766546,
          79.18724362802004,
          80.83773172594499,
          80.39744589499082,
          75.10435862421923,
          75.75561944146284,
          77.13790133497923,
          73.09286499893278,
          83.12446650321829,
          71.93354096155065,
          76.99830836505646,
          70.81160620855178,
          83.79888717149413,
          76.21222451216829,
          79.48823134164513,
          79.03409720026525,
          80.44151235957099,
          80.55724385637211,
          79.38276327262986,
          81.24598622646454,
          77.28670380478388,
          70.74135627268197,
          79.88810748870412,
          83.13227175945212,
          84.98446261254662,
          74.36192957403932,
          80.61238975846982,
          79.59212190604728,
          71.77026927982729,
          73.15115911578323,
          79.11465597943481,
          80.64244095455047,
          79.04354124048314,
          80.46306167634827,
          71.63535061011078,
          72.17383093458443,
          84.05078674971685,
          74.46076776344171,
          80.97179154650223,
          74.55130832456507,
          61.689847615329086,
          72.12726803928263,
          77.89221618046827,
          72.09769078605223,
          74.89211758733245,
          81.38712015604779,
          74.28008404678064,
          68.95313008866867,
          77.14878717826787,
          85.93364678283501,
          76.11778186299841,
          73.97130247845053,
          77.77945850497554,
          76.91233383457939,
          77.17611045986826,
          77.10853238509605,
          77.339485188053,
          76.61296081773253,
          73.97270814499427,
          80.25473537192852,
          78.35335443162637,
          71.51738961235174,
          76.36075963359997,
          81.0454297118265,
          72.97329283301485,
          69.12783933095955,
          79.29526407274386,
          78.82192787639269,
          67.63240333620365,
          79.59543644683117,
          70.08157407659166,
          71.21494190332066,
          68.72439966629895,
          77.05889610645477,
          66.31531919789654,
          77.24623705952479,
          79.48260122626311,
          69.68541674258972,
          68.43425110993235,
          71.33164583726898,
          73.68619962753723,
          69.50539755850002,
          77.3905670882483,
          73.24382477127824,
          74.63953227882689,
          76.0996698494597,
          74.36501369691655,
          68.56256273351846,
          64.73985456085268,
          77.99804158237328,
          75.63808507243402,
          73.2716132920491,
          78.41780245089558,
          71.82224771797667,
          65.24666267928637,
          69.22894733121586,
          73.8371934404937,
          76.13982157260409,
          74.40267301937274,
          61.6203326188695,
          70.47678772814663,
          76.4498715786076,
          70.52854393316534,
          76.77533457688094,
          64.09274416631911,
          71.81584751332855,
          78.166532208484,
          70.55499228947247,
          81.55618238071634,
          76.56290295724739,
          82.60116549249551,
          66.61445360851553,
          76.52366097440688,
          70.1882027994792,
          66.42004796617152,
          70.791973798551,
          57.75156688346215,
          76.61213775919623,
          68.15213808693227,
          69.35997328385304,
          67.27826589284894,
          68.31178161328103,
          72.15949264111862,
          84.56205160437389,
          82.98724211516071,
          71.64327942654927,
          68.89118845610051,
          78.92581793505076,
          70.04695688387278,
          62.91439809452129,
          69.53446858309849,
          72.91253628798893,
          80.31893658558226,
          71.6375213111495,
          66.74592118089026,
          64.59472216050483,
          61.63560963068437,
          72.72597343849179,
          77.37670732438164,
          67.18708267225907,
          66.04508835677518,
          69.43503587720033,
          70.79213798952969,
          66.22542559305793,
          71.62623441332062,
          67.7352240971104,
          64.29213893390488,
          62.402806994198045,
          66.51654535913246,
          68.45065067032579,
          71.35243002005211,
          73.14557491337303,
          59.299202497637566,
          69.33167630281548,
          76.01024417353574,
          69.70166164164743,
          77.86629175502605,
          63.411948274381416,
          72.51567953613085,
          74.68504810116428,
          62.401335006898535,
          63.456584292539674,
          66.18702652999218,
          62.88292440835653,
          67.11164364174977,
          71.30544130271346,
          69.59470767788434,
          60.740744326939875,
          64.44260443988196,
          73.72622623828522,
          72.44156457590452,
          73.25422428886259,
          73.20335833650677,
          78.12246014084917,
          67.96848541561201,
          67.35883847618402,
          74.3284372909319,
          57.60713727600455,
          71.05301975986902,
          66.6361752365151,
          61.135674637668444,
          74.5490597418152,
          65.78564235192994,
          65.47731002966884,
          65.22581464434325,
          70.60548081140098,
          70.03594307663843,
          74.04219879920322,
          67.82498793816353,
          66.04094151083655,
          58.22708375779871,
          62.07818317976307,
          63.51272041397738,
          82.5188103646002,
          66.37017497252532,
          59.461640880620166,
          65.93986183307993,
          78.95799845185593,
          67.93530548098988,
          56.53355174776493,
          60.26029175294161,
          63.67478075881934,
          75.90195245736754,
          62.953614108343004,
          70.98295714723099,
          65.16852925113187,
          58.89196810311864,
          72.37737741173294,
          53.82290277390348,
          75.25313279035004,
          74.16633944603552,
          64.74422462992231,
          63.73308831164343,
          71.57303868777399,
          72.11295618778468,
          66.6495084622619,
          73.42697756895723,
          64.33633895627531,
          66.43158681529349,
          56.71571448077225,
          60.88608594637776,
          65.41172686688697,
          70.00623706432827,
          69.8999554599543,
          56.03050045927375,
          68.31126935995496,
          62.69542467144356,
          59.748838145052446,
          75.02633612160332,
          58.536431995268,
          70.5603811196487,
          63.85630346021378,
          62.05997977900927,
          50.76636173271925,
          64.43332267214748,
          50.160655950073874,
          71.22376262515354,
          49.73208434717935,
          58.94856858357434,
          57.1782094338306,
          55.3802835632772,
          63.80158906728673,
          69.9781503597801,
          54.84824179684006,
          52.01346059406001,
          49.33169507133948,
          52.96233087541202,
          56.35220587703475,
          45.760560950880745,
          40.01928025700283,
          53.027009667831294,
          33.61218392722424,
          65.85211324547299,
          58.2960109796511
         ],
         "yaxis": "y"
        }
       ],
       "layout": {
        "legend": {
         "tracegroupgap": 0
        },
        "margin": {
         "t": 60
        },
        "template": {
         "data": {
          "bar": [
           {
            "error_x": {
             "color": "#2a3f5f"
            },
            "error_y": {
             "color": "#2a3f5f"
            },
            "marker": {
             "line": {
              "color": "#E5ECF6",
              "width": 0.5
             },
             "pattern": {
              "fillmode": "overlay",
              "size": 10,
              "solidity": 0.2
             }
            },
            "type": "bar"
           }
          ],
          "barpolar": [
           {
            "marker": {
             "line": {
              "color": "#E5ECF6",
              "width": 0.5
             },
             "pattern": {
              "fillmode": "overlay",
              "size": 10,
              "solidity": 0.2
             }
            },
            "type": "barpolar"
           }
          ],
          "carpet": [
           {
            "aaxis": {
             "endlinecolor": "#2a3f5f",
             "gridcolor": "white",
             "linecolor": "white",
             "minorgridcolor": "white",
             "startlinecolor": "#2a3f5f"
            },
            "baxis": {
             "endlinecolor": "#2a3f5f",
             "gridcolor": "white",
             "linecolor": "white",
             "minorgridcolor": "white",
             "startlinecolor": "#2a3f5f"
            },
            "type": "carpet"
           }
          ],
          "choropleth": [
           {
            "colorbar": {
             "outlinewidth": 0,
             "ticks": ""
            },
            "type": "choropleth"
           }
          ],
          "contour": [
           {
            "colorbar": {
             "outlinewidth": 0,
             "ticks": ""
            },
            "colorscale": [
             [
              0,
              "#0d0887"
             ],
             [
              0.1111111111111111,
              "#46039f"
             ],
             [
              0.2222222222222222,
              "#7201a8"
             ],
             [
              0.3333333333333333,
              "#9c179e"
             ],
             [
              0.4444444444444444,
              "#bd3786"
             ],
             [
              0.5555555555555556,
              "#d8576b"
             ],
             [
              0.6666666666666666,
              "#ed7953"
             ],
             [
              0.7777777777777778,
              "#fb9f3a"
             ],
             [
              0.8888888888888888,
              "#fdca26"
             ],
             [
              1,
              "#f0f921"
             ]
            ],
            "type": "contour"
           }
          ],
          "contourcarpet": [
           {
            "colorbar": {
             "outlinewidth": 0,
             "ticks": ""
            },
            "type": "contourcarpet"
           }
          ],
          "heatmap": [
           {
            "colorbar": {
             "outlinewidth": 0,
             "ticks": ""
            },
            "colorscale": [
             [
              0,
              "#0d0887"
             ],
             [
              0.1111111111111111,
              "#46039f"
             ],
             [
              0.2222222222222222,
              "#7201a8"
             ],
             [
              0.3333333333333333,
              "#9c179e"
             ],
             [
              0.4444444444444444,
              "#bd3786"
             ],
             [
              0.5555555555555556,
              "#d8576b"
             ],
             [
              0.6666666666666666,
              "#ed7953"
             ],
             [
              0.7777777777777778,
              "#fb9f3a"
             ],
             [
              0.8888888888888888,
              "#fdca26"
             ],
             [
              1,
              "#f0f921"
             ]
            ],
            "type": "heatmap"
           }
          ],
          "heatmapgl": [
           {
            "colorbar": {
             "outlinewidth": 0,
             "ticks": ""
            },
            "colorscale": [
             [
              0,
              "#0d0887"
             ],
             [
              0.1111111111111111,
              "#46039f"
             ],
             [
              0.2222222222222222,
              "#7201a8"
             ],
             [
              0.3333333333333333,
              "#9c179e"
             ],
             [
              0.4444444444444444,
              "#bd3786"
             ],
             [
              0.5555555555555556,
              "#d8576b"
             ],
             [
              0.6666666666666666,
              "#ed7953"
             ],
             [
              0.7777777777777778,
              "#fb9f3a"
             ],
             [
              0.8888888888888888,
              "#fdca26"
             ],
             [
              1,
              "#f0f921"
             ]
            ],
            "type": "heatmapgl"
           }
          ],
          "histogram": [
           {
            "marker": {
             "pattern": {
              "fillmode": "overlay",
              "size": 10,
              "solidity": 0.2
             }
            },
            "type": "histogram"
           }
          ],
          "histogram2d": [
           {
            "colorbar": {
             "outlinewidth": 0,
             "ticks": ""
            },
            "colorscale": [
             [
              0,
              "#0d0887"
             ],
             [
              0.1111111111111111,
              "#46039f"
             ],
             [
              0.2222222222222222,
              "#7201a8"
             ],
             [
              0.3333333333333333,
              "#9c179e"
             ],
             [
              0.4444444444444444,
              "#bd3786"
             ],
             [
              0.5555555555555556,
              "#d8576b"
             ],
             [
              0.6666666666666666,
              "#ed7953"
             ],
             [
              0.7777777777777778,
              "#fb9f3a"
             ],
             [
              0.8888888888888888,
              "#fdca26"
             ],
             [
              1,
              "#f0f921"
             ]
            ],
            "type": "histogram2d"
           }
          ],
          "histogram2dcontour": [
           {
            "colorbar": {
             "outlinewidth": 0,
             "ticks": ""
            },
            "colorscale": [
             [
              0,
              "#0d0887"
             ],
             [
              0.1111111111111111,
              "#46039f"
             ],
             [
              0.2222222222222222,
              "#7201a8"
             ],
             [
              0.3333333333333333,
              "#9c179e"
             ],
             [
              0.4444444444444444,
              "#bd3786"
             ],
             [
              0.5555555555555556,
              "#d8576b"
             ],
             [
              0.6666666666666666,
              "#ed7953"
             ],
             [
              0.7777777777777778,
              "#fb9f3a"
             ],
             [
              0.8888888888888888,
              "#fdca26"
             ],
             [
              1,
              "#f0f921"
             ]
            ],
            "type": "histogram2dcontour"
           }
          ],
          "mesh3d": [
           {
            "colorbar": {
             "outlinewidth": 0,
             "ticks": ""
            },
            "type": "mesh3d"
           }
          ],
          "parcoords": [
           {
            "line": {
             "colorbar": {
              "outlinewidth": 0,
              "ticks": ""
             }
            },
            "type": "parcoords"
           }
          ],
          "pie": [
           {
            "automargin": true,
            "type": "pie"
           }
          ],
          "scatter": [
           {
            "fillpattern": {
             "fillmode": "overlay",
             "size": 10,
             "solidity": 0.2
            },
            "type": "scatter"
           }
          ],
          "scatter3d": [
           {
            "line": {
             "colorbar": {
              "outlinewidth": 0,
              "ticks": ""
             }
            },
            "marker": {
             "colorbar": {
              "outlinewidth": 0,
              "ticks": ""
             }
            },
            "type": "scatter3d"
           }
          ],
          "scattercarpet": [
           {
            "marker": {
             "colorbar": {
              "outlinewidth": 0,
              "ticks": ""
             }
            },
            "type": "scattercarpet"
           }
          ],
          "scattergeo": [
           {
            "marker": {
             "colorbar": {
              "outlinewidth": 0,
              "ticks": ""
             }
            },
            "type": "scattergeo"
           }
          ],
          "scattergl": [
           {
            "marker": {
             "colorbar": {
              "outlinewidth": 0,
              "ticks": ""
             }
            },
            "type": "scattergl"
           }
          ],
          "scattermapbox": [
           {
            "marker": {
             "colorbar": {
              "outlinewidth": 0,
              "ticks": ""
             }
            },
            "type": "scattermapbox"
           }
          ],
          "scatterpolar": [
           {
            "marker": {
             "colorbar": {
              "outlinewidth": 0,
              "ticks": ""
             }
            },
            "type": "scatterpolar"
           }
          ],
          "scatterpolargl": [
           {
            "marker": {
             "colorbar": {
              "outlinewidth": 0,
              "ticks": ""
             }
            },
            "type": "scatterpolargl"
           }
          ],
          "scatterternary": [
           {
            "marker": {
             "colorbar": {
              "outlinewidth": 0,
              "ticks": ""
             }
            },
            "type": "scatterternary"
           }
          ],
          "surface": [
           {
            "colorbar": {
             "outlinewidth": 0,
             "ticks": ""
            },
            "colorscale": [
             [
              0,
              "#0d0887"
             ],
             [
              0.1111111111111111,
              "#46039f"
             ],
             [
              0.2222222222222222,
              "#7201a8"
             ],
             [
              0.3333333333333333,
              "#9c179e"
             ],
             [
              0.4444444444444444,
              "#bd3786"
             ],
             [
              0.5555555555555556,
              "#d8576b"
             ],
             [
              0.6666666666666666,
              "#ed7953"
             ],
             [
              0.7777777777777778,
              "#fb9f3a"
             ],
             [
              0.8888888888888888,
              "#fdca26"
             ],
             [
              1,
              "#f0f921"
             ]
            ],
            "type": "surface"
           }
          ],
          "table": [
           {
            "cells": {
             "fill": {
              "color": "#EBF0F8"
             },
             "line": {
              "color": "white"
             }
            },
            "header": {
             "fill": {
              "color": "#C8D4E3"
             },
             "line": {
              "color": "white"
             }
            },
            "type": "table"
           }
          ]
         },
         "layout": {
          "annotationdefaults": {
           "arrowcolor": "#2a3f5f",
           "arrowhead": 0,
           "arrowwidth": 1
          },
          "autotypenumbers": "strict",
          "coloraxis": {
           "colorbar": {
            "outlinewidth": 0,
            "ticks": ""
           }
          },
          "colorscale": {
           "diverging": [
            [
             0,
             "#8e0152"
            ],
            [
             0.1,
             "#c51b7d"
            ],
            [
             0.2,
             "#de77ae"
            ],
            [
             0.3,
             "#f1b6da"
            ],
            [
             0.4,
             "#fde0ef"
            ],
            [
             0.5,
             "#f7f7f7"
            ],
            [
             0.6,
             "#e6f5d0"
            ],
            [
             0.7,
             "#b8e186"
            ],
            [
             0.8,
             "#7fbc41"
            ],
            [
             0.9,
             "#4d9221"
            ],
            [
             1,
             "#276419"
            ]
           ],
           "sequential": [
            [
             0,
             "#0d0887"
            ],
            [
             0.1111111111111111,
             "#46039f"
            ],
            [
             0.2222222222222222,
             "#7201a8"
            ],
            [
             0.3333333333333333,
             "#9c179e"
            ],
            [
             0.4444444444444444,
             "#bd3786"
            ],
            [
             0.5555555555555556,
             "#d8576b"
            ],
            [
             0.6666666666666666,
             "#ed7953"
            ],
            [
             0.7777777777777778,
             "#fb9f3a"
            ],
            [
             0.8888888888888888,
             "#fdca26"
            ],
            [
             1,
             "#f0f921"
            ]
           ],
           "sequentialminus": [
            [
             0,
             "#0d0887"
            ],
            [
             0.1111111111111111,
             "#46039f"
            ],
            [
             0.2222222222222222,
             "#7201a8"
            ],
            [
             0.3333333333333333,
             "#9c179e"
            ],
            [
             0.4444444444444444,
             "#bd3786"
            ],
            [
             0.5555555555555556,
             "#d8576b"
            ],
            [
             0.6666666666666666,
             "#ed7953"
            ],
            [
             0.7777777777777778,
             "#fb9f3a"
            ],
            [
             0.8888888888888888,
             "#fdca26"
            ],
            [
             1,
             "#f0f921"
            ]
           ]
          },
          "colorway": [
           "#636efa",
           "#EF553B",
           "#00cc96",
           "#ab63fa",
           "#FFA15A",
           "#19d3f3",
           "#FF6692",
           "#B6E880",
           "#FF97FF",
           "#FECB52"
          ],
          "font": {
           "color": "#2a3f5f"
          },
          "geo": {
           "bgcolor": "white",
           "lakecolor": "white",
           "landcolor": "#E5ECF6",
           "showlakes": true,
           "showland": true,
           "subunitcolor": "white"
          },
          "hoverlabel": {
           "align": "left"
          },
          "hovermode": "closest",
          "mapbox": {
           "style": "light"
          },
          "paper_bgcolor": "white",
          "plot_bgcolor": "#E5ECF6",
          "polar": {
           "angularaxis": {
            "gridcolor": "white",
            "linecolor": "white",
            "ticks": ""
           },
           "bgcolor": "#E5ECF6",
           "radialaxis": {
            "gridcolor": "white",
            "linecolor": "white",
            "ticks": ""
           }
          },
          "scene": {
           "xaxis": {
            "backgroundcolor": "#E5ECF6",
            "gridcolor": "white",
            "gridwidth": 2,
            "linecolor": "white",
            "showbackground": true,
            "ticks": "",
            "zerolinecolor": "white"
           },
           "yaxis": {
            "backgroundcolor": "#E5ECF6",
            "gridcolor": "white",
            "gridwidth": 2,
            "linecolor": "white",
            "showbackground": true,
            "ticks": "",
            "zerolinecolor": "white"
           },
           "zaxis": {
            "backgroundcolor": "#E5ECF6",
            "gridcolor": "white",
            "gridwidth": 2,
            "linecolor": "white",
            "showbackground": true,
            "ticks": "",
            "zerolinecolor": "white"
           }
          },
          "shapedefaults": {
           "line": {
            "color": "#2a3f5f"
           }
          },
          "ternary": {
           "aaxis": {
            "gridcolor": "white",
            "linecolor": "white",
            "ticks": ""
           },
           "baxis": {
            "gridcolor": "white",
            "linecolor": "white",
            "ticks": ""
           },
           "bgcolor": "#E5ECF6",
           "caxis": {
            "gridcolor": "white",
            "linecolor": "white",
            "ticks": ""
           }
          },
          "title": {
           "x": 0.05
          },
          "xaxis": {
           "automargin": true,
           "gridcolor": "white",
           "linecolor": "white",
           "ticks": "",
           "title": {
            "standoff": 15
           },
           "zerolinecolor": "white",
           "zerolinewidth": 2
          },
          "yaxis": {
           "automargin": true,
           "gridcolor": "white",
           "linecolor": "white",
           "ticks": "",
           "title": {
            "standoff": 15
           },
           "zerolinecolor": "white",
           "zerolinewidth": 2
          }
         }
        },
        "xaxis": {
         "anchor": "y",
         "domain": [
          0,
          1
         ],
         "title": {
          "text": "Review avg"
         }
        },
        "yaxis": {
         "anchor": "x",
         "domain": [
          0,
          1
         ],
         "title": {
          "text": "Predicted Rating"
         }
        }
       }
      }
     },
     "metadata": {},
     "output_type": "display_data"
    }
   ],
   "source": [
    "# scatter plot of predictions vs review avg\n",
    "fig = px.scatter(scores_comp, x=\"Review avg\", y=\"Predicted Rating\", hover_name= 'Game')\n",
    "fig\n",
    "# switch to a different chart type that shows spread?"
   ]
  },
  {
   "cell_type": "code",
   "execution_count": 8,
   "metadata": {},
   "outputs": [
    {
     "data": {
      "application/vnd.plotly.v1+json": {
       "config": {
        "plotlyServerURL": "https://plot.ly"
       },
       "data": [
        {
         "hovertemplate": "<b>%{hovertext}</b><br><br>Actual Rating=%{x}<br>Prediction delta=%{y}<extra></extra>",
         "hovertext": [
          "The Legend of Zelda: Breath of the Wild",
          "The Legend of Zelda: Tears of the Kingdom",
          "God of War (2018)",
          "Metroid Prime",
          "The Last of Us",
          "Hades",
          "Red Dead Redemption 2",
          "Super Mario Galaxy",
          "Elden Ring",
          "Hi-Fi Rush",
          "Horizon Zero Dawn",
          "Super Mario Galaxy 2",
          "Super Mario Odyssey",
          "Bloodborne",
          "God of War Ragnarök",
          "The Last of Us Part II",
          "Uncharted 2 Among Thieves",
          "Bioshock Infinite",
          "Grand Theft Auto V",
          "Mass Effect 2",
          "Portal 2",
          "Astro Bot Rescue Mission",
          "Celeste",
          "Driveclub",
          "Hollow Knight",
          "Mario Kart 8",
          "Mass Effect 3",
          "Uncharted 4 A Thief's End",
          "Bioshock",
          "Forza Horizon 3",
          "Ghost of Tsushima",
          "Guild Wars 2",
          "Mario Kart DS",
          "Marvel's Spider-Man",
          "Metroid Dread",
          "Super Metroid",
          "Assassin's Creed Brotherhood",
          "Call of Duty Modern Warfare 2",
          "Dragon Age Inquisition",
          "Final Fantasy XVI",
          "Forza Horizon 4",
          "Forza Horizon 5",
          "Halo Combat Evolved",
          "Uncharted The Lost Legacy",
          "Undertale",
          "Final Fantasy VII Remake",
          "Football Manager 2007",
          "God of War 3",
          "Grand Theft Auto San Andreas",
          "Horizon Forbidden West",
          "Pokemon SoulSilver",
          "Rayman Legends",
          "Super Smash Bros. Brawl",
          "The Legend of Zelda: Ocarina of Time",
          "Uncharted 3 Drake's Deception",
          "Bayonetta 2",
          "Call of Duty Black Ops",
          "Demon's Souls (Remake)",
          "Halo Reach",
          "Mass Effect",
          "Metroid Fusion",
          "Psychonauts",
          "Rocket League",
          "Star Wars Jedi Fallen Order",
          "Super Smash Bros. Ultimate",
          "Ys VIII Lacrimosa of Dana",
          "A Short Hike",
          "Batman Arkham Asylum",
          "Call of Duty Modern Warfare",
          "Civilization V",
          "Crash Bandicoot 2: Cortex Strikes Back",
          "Divinity Original Sin 2",
          "Gran Turismo 2",
          "Halo 3",
          "Marvel's Spider-Man Miles Morales",
          "Ori and The Will of the Wisps",
          "Psychonauts 2",
          "Ratchet & Clank: Rift Apart",
          "Tetris Effect",
          "Assassin's Creed IV Black Flag",
          "Astral Chain",
          "Astro's Playroom",
          "Borderlands 2",
          "Cities Skylines",
          "Death's Door",
          "Diablo 3",
          "Forza 4",
          "Journey",
          "Mario Kart Wii",
          "Rise of the Tomb Raider ",
          "Super Mario 3D World + Bowser's Fury",
          "Tetris",
          "Vampire Survivors",
          "Animal Crossing New Horizons",
          "Crash Bandicoot 3: Warped",
          "Devil May Cry 5",
          "F1 2020",
          "Gran Turismo 7",
          "Halo 2",
          "Persona 5",
          "Pokemon White",
          "Rogue Legacy 2",
          "Star Wars Jedi Survivor",
          "Titanfall 2",
          "Civilization VI",
          "Dead Cells",
          "Dragon Age 2",
          "Football Manager 2008",
          "Guardians of the Galaxy",
          "Minecraft",
          "OlliOlli World",
          "Stray",
          "Tales From the Borderlands",
          "Transistor",
          "Aces and Adventures",
          "Assassin's Creed Unity",
          "Crosscode",
          "Dragon Age Origins",
          "Mario Kart 7",
          "Neon White",
          "Pokemon Diamond",
          "Tearaway",
          "Uncharted Drake's Fortune",
          "Unsighted",
          "Batman Arkham Knight",
          "Call of Duty Modern Warfare 3",
          "Citizen Sleeper",
          "Crash Team Racing",
          "Europa Universalis IV",
          "F1 2017",
          "F1 2018",
          "Football Manager 2009",
          "Gears 5",
          "Golf Story",
          "Halo 5: Guardians",
          "Kena: Bridge of Spirits",
          "Pokemon Black 2",
          "Returnal",
          "Splatoon 3",
          "Terraria",
          "The Legend of Zelda: Skyward Sword",
          "Watch Dogs",
          "Assassin's Creed Revelations",
          "Borderlands 3",
          "F1 2019",
          "Fifa 11",
          "Football Manager 2010",
          "Lego Star Wars II: The Original Trilogy",
          "Mario & Luigi Superstar Saga",
          "OlliOlli 2: Welcome to Olliwood",
          "Pokemon Sun",
          "Rollercoaster Tycoon 2",
          "Tomb Raider",
          "Ys IX: Monstrum Nox",
          "Assassin's Creed Syndicate",
          "Deathloop",
          "F1 2016",
          "Fifa 14",
          "Forza Motorsport 7",
          "Grand Theft Auto Vice City Stories",
          "Halo 4",
          "Luigi's Mansion 3",
          "Monster Sanctuary",
          "Pokemon Legends Arceus",
          "Spiritfarer",
          "Team Fortress 2",
          "Bioshock 2",
          "Cassette Beasts",
          "Halo Infinite",
          "inFAMOUS Second Son",
          "Monster Hunter Rise",
          "Path of Exile",
          "Resogun",
          "F1 2011",
          "Fifa 12",
          "Final Fantasy X",
          "Kirby and the Forgotten Land",
          "Lego Star Wars: The Video Game",
          "Overcooked",
          "Overcooked 2",
          "Overwatch",
          "Stardew Valley",
          "The Legend of Zelda: A Link to the Past",
          "Ys Seven",
          "Apex Legends",
          "Call of Duty Black Ops II",
          "Concrete Genie",
          "Dirt 5",
          "F1 2010",
          "Far Cry 4",
          "Fifa 07",
          "Football Manager 2013",
          "Gears of War 4",
          "Gran Turismo Sport",
          "Mario + Rabbids Kingdom Battle",
          "Middle Earth Shadow of Mordor",
          "PlateUp!",
          "Pokemon Y",
          "Rollerdrome",
          "Teenage Mutant Ninja Turtles: Shredder's Revenge",
          "Two Point Campus",
          "Xenoblade Chronicles",
          "Assassin's Creed Origins",
          "Call of Duty Advanced Warfare",
          "Dragon Quest IX",
          "F1 2012",
          "Fifa 13",
          "Football Manager 2012",
          "Heavy Rain",
          "Kingdom Hearts 3",
          "Nobody Saves The World",
          "Pokemon Omega Ruby",
          "Ratchet & Clank",
          "Torchlight 2",
          "Trackmania Turbo",
          "XCOM: Enemy Unknown",
          "Battlefield 4",
          "Call of Duty Infinite Warfare",
          "Call of Duty WW2",
          "Chained Echoes",
          "Deep Rock Galactic",
          "Football Manager 2014",
          "Freshly Frosted",
          "Gris",
          "Loop Hero",
          "Ori and The Blind Forest",
          "Ring Fit Adventure",
          "Sekiro Shadows Die Twice",
          "Streets of Rage 4",
          "The Order 1886",
          "A Plague Tale: Innocence",
          "Call of Duty Black Ops 4",
          "Doom (2016)",
          "Hearts of Iron IV",
          "Monster Hunter World",
          "Moss PSVR",
          "Overwatch 2",
          "Pyre",
          "Star Wars: Knights of the Old Republic",
          "Trials Fusion",
          "Warhammer Vermentide 2",
          "WipeOut Omega Collection",
          "Call of Duty Black Ops III",
          "Guacamelee!",
          "Mario Strikers Charged Football",
          "Need for Speed Hot Pursuit",
          "Pokemon Let's Go Pikachu",
          "Sackboy: A Big Adventure",
          "Torchlight",
          "Trials Rising",
          "Wii Sports",
          "2010 FIFA World Cup South Africa",
          "Batman Arkham City",
          "Borderlands The Pre-Sequel",
          "Call of Duty Black Ops Cold War",
          "Castlevania Symphony of the Night",
          "Crash Bandicoot 4: Its About Time",
          "Destiny",
          "Dreams",
          "Dungeon of the Endless",
          "Immortals Fenyx Rising",
          "Northgard",
          "Parkitect",
          "Pokemon Violet",
          "Prison Architect",
          "Risk of Rain 2",
          "Warframe",
          "Wild Hearts",
          "WRC 9",
          "Wreckfest",
          "Bugsnax",
          "Crypt of the Necrodancer",
          "Diablo 4",
          "Dirt Rally 2.0",
          "Far Cry 5",
          "Football Manager 2015",
          "Ghostwire Tokyo",
          "Hot Wheels Unleashed",
          "Nintendogs",
          "Rollercoaster Tycoon",
          "Spec Ops The Line",
          "The Legend of Zelda: Link's Awakening",
          "The Simpsons Hit & Run",
          "Tribes of Midgard",
          "Ultimate Chicken Horse",
          "Wii Fit",
          "Wildermyth",
          "Brain Training",
          "Buck Up and Drive!",
          "Crash Bandicoot",
          "Cult of the Lamb",
          "Darksiders Genesis",
          "Halo 3 ODST",
          "High on Life",
          "Hyper Light Drifter",
          "Hyrule Warriors Age of Calamity",
          "Infamous First Light",
          "New Super Mario Bros. Wii",
          "Stellaris",
          "Uncharted Golden Abyss",
          "Abzu",
          "Battlefield 1",
          "Cat Quest II",
          "Grid Legends",
          "Star Wars Squadrons",
          "The Crew",
          "Velocity 2X",
          "Warpips",
          "Assassin's Creed Rogue",
          "Cat Quest",
          "Don't Starve",
          "Fifa 19",
          "Grand Theft Auto IV",
          "The Witcher 3",
          "Age of Empires IV",
          "Assassin's Creed Freedom Cry",
          "Bayonetta",
          "Detroit Become Human",
          "Journey to the Savage Planet",
          "Killzone Shadow Fall",
          "Motorsport Manager",
          "Skyrim",
          "Sportsfriends",
          "Star Wars Battlefront",
          "TemTem",
          "Trek to Yomi",
          "Wargroove",
          "Watch Dogs 2",
          "Windjammers 2",
          "20 Minutes Till Dawn",
          "Clustertruck",
          "Curse of the Dead Gods",
          "Cyberpunk 2077",
          "Endless Legend",
          "F1 2009",
          "Golf Peaks",
          "Golf With Your Friends",
          "GreedFall",
          "Grid (2019)",
          "Mini Motorways",
          "Nex Machina",
          "Pokemon Mystery Dunegon Explorers of Time",
          "The Riftbreaker",
          "Tunic",
          "Apotheon",
          "Assassin's Creed Odyssey",
          "Boyfriend Dungeon",
          "Dicey Dungeons",
          "Dragon Quest XI",
          "Game Dev Tycoon",
          "Kingdom New Lands",
          "Mario Golf: Super Rush",
          "Need for Speed Unbound",
          "Factorio",
          "Fall Guys",
          "Far Cry Primal",
          "Sea of Thieves",
          "The Jackbox Party Pack 6",
          "Final Fantasy XV",
          "Grid Autosport",
          "Mario Tennis Aces",
          "New Super Mario Bros. 2",
          "Nioh",
          "War Thunder",
          "Worms W.M.D",
          "Civilization Beyond Earth",
          "Fifa Street 2",
          "Awesomenauts",
          "Banished",
          "Dragon Quest Builders",
          "Lyne",
          "Mario & Sonic at the Winter Olympic Games",
          "Sonic & All Stars Racing Transformed",
          "The Ascent",
          "The Last Guardian",
          "Wo Long Fallen Dynasty",
          "A Plague Tale: Requiem",
          "Animal Crossing City Folk",
          "Crash Bandicoot The Wrath of Cortex",
          "Darksburg",
          "Just Cause 3",
          "Minecraft Dungeons",
          "Nier Automata",
          "Surviving Mars",
          "Human Fall Flat",
          "Project Cars",
          "Shadow of the Colossus (Remake)",
          "You Suck At Parking",
          "Embr",
          "Mario & Sonic at the Olympic Games",
          "Warlock - Master of the Arcane",
          "Doom Eternal",
          "Prey",
          "Scarlet Nexus",
          "Arcadeggedon",
          "Back 4 Blood",
          "Lego Star Wars The Skywalker Saga",
          "Luna",
          "Pokemon Sword",
          "The Outer Worlds",
          "Unrailed!",
          "F1 2015",
          "Middle Earth: Shadow of War",
          "Outer Wilds",
          "Spacelines from the Far Out",
          "Burnout Paradise",
          "For The King",
          "Tchia",
          "Big Pharma",
          "Dead Nation: Apocalypse Edition",
          "DC Universe Online",
          "Little Big Planet 3",
          "Dandy Ace",
          "Destruction Allstars",
          "Lost Ark",
          "Need For Speed Heat",
          "The Crew 2",
          "Control",
          "Finding Nemo",
          "Octopath Traveller",
          "Democracy 3",
          "Golfie",
          "Clicker Heroes",
          "Pure Pool",
          "Shoppe Keep",
          "Diablo 2",
          "VR Worlds",
          "Minecraft Legends",
          "Game of Thrones Telltale",
          "Mario Party 8",
          "Cruis'n Blast",
          "F.I.S.T. Forged In Shadow Torch",
          "Youtubers Life",
          "Farming Simulator 2019",
          "Exoprimal",
          "Contrast",
          "Marvel's Avengers",
          "Fifa 06 Game Boy Advance",
          "CrossfireX",
          "Diablo Immortal",
          "Fifa 14 Legacy Edition",
          "Sunlight",
          "Doom VFR"
         ],
         "legendgroup": "",
         "marker": {
          "color": "#636efa",
          "symbol": "circle"
         },
         "mode": "markers",
         "name": "",
         "orientation": "v",
         "showlegend": false,
         "type": "scatter",
         "x": [
          100,
          100,
          99,
          99,
          99,
          98,
          98,
          98,
          97,
          97,
          97,
          97,
          97,
          96,
          96,
          96,
          96,
          95,
          95,
          95,
          95,
          94,
          94,
          94,
          94,
          94,
          94,
          94,
          93,
          93,
          93,
          93,
          93,
          93,
          93,
          93,
          92,
          92,
          92,
          92,
          92,
          92,
          92,
          92,
          92,
          91,
          91,
          91,
          91,
          91,
          91,
          91,
          91,
          91,
          91,
          90,
          90,
          90,
          90,
          90,
          90,
          90,
          90,
          90,
          90,
          90,
          89,
          89,
          89,
          89,
          89,
          89,
          89,
          89,
          89,
          89,
          89,
          89,
          89,
          88,
          88,
          88,
          88,
          88,
          88,
          88,
          88,
          88,
          88,
          88,
          88,
          88,
          88,
          87,
          87,
          87,
          87,
          87,
          87,
          87,
          87,
          87,
          87,
          87,
          86,
          86,
          86,
          86,
          86,
          86,
          86,
          86,
          86,
          86,
          85,
          85,
          85,
          85,
          85,
          85,
          85,
          85,
          85,
          85,
          84,
          84,
          84,
          84,
          84,
          84,
          84,
          84,
          84,
          84,
          84,
          84,
          84,
          84,
          84,
          84,
          84,
          84,
          83,
          83,
          83,
          83,
          83,
          83,
          83,
          83,
          83,
          83,
          83,
          83,
          82,
          82,
          82,
          82,
          82,
          82,
          82,
          82,
          82,
          82,
          82,
          82,
          81,
          81,
          81,
          81,
          81,
          81,
          81,
          80,
          80,
          80,
          80,
          80,
          80,
          80,
          80,
          80,
          80,
          80,
          79,
          79,
          79,
          79,
          79,
          79,
          79,
          79,
          79,
          79,
          79,
          79,
          79,
          79,
          79,
          79,
          79,
          79,
          78,
          78,
          78,
          78,
          78,
          78,
          78,
          78,
          78,
          78,
          78,
          78,
          78,
          78,
          77,
          77,
          77,
          77,
          77,
          77,
          77,
          77,
          77,
          77,
          77,
          77,
          77,
          77,
          76,
          76,
          76,
          76,
          76,
          76,
          76,
          76,
          76,
          76,
          76,
          76,
          75,
          75,
          75,
          75,
          75,
          75,
          75,
          75,
          75,
          74,
          74,
          74,
          74,
          74,
          74,
          74,
          74,
          74,
          74,
          74,
          74,
          74,
          74,
          74,
          74,
          74,
          74,
          74,
          73,
          73,
          73,
          73,
          73,
          73,
          73,
          73,
          73,
          73,
          73,
          73,
          73,
          73,
          73,
          73,
          73,
          72,
          72,
          72,
          72,
          72,
          72,
          72,
          72,
          72,
          72,
          72,
          72,
          72,
          71,
          71,
          71,
          71,
          71,
          71,
          71,
          71,
          70,
          70,
          70,
          70,
          70,
          70,
          69,
          69,
          69,
          69,
          69,
          69,
          69,
          69,
          69,
          69,
          69,
          69,
          69,
          69,
          69,
          68,
          68,
          68,
          68,
          68,
          68,
          68,
          68,
          68,
          68,
          68,
          68,
          68,
          68,
          68,
          67,
          67,
          67,
          67,
          67,
          67,
          67,
          67,
          67,
          66,
          66,
          66,
          66,
          66,
          65,
          65,
          65,
          65,
          65,
          65,
          65,
          64,
          64,
          64,
          64,
          64,
          64,
          64,
          64,
          64,
          64,
          64,
          63,
          63,
          63,
          63,
          63,
          63,
          63,
          63,
          62,
          62,
          62,
          62,
          61,
          61,
          61,
          60,
          60,
          60,
          59,
          59,
          59,
          59,
          59,
          59,
          59,
          58,
          58,
          58,
          58,
          57,
          57,
          57,
          56,
          56,
          55,
          55,
          54,
          54,
          54,
          54,
          54,
          53,
          53,
          53,
          52,
          52,
          51,
          51,
          51,
          50,
          50,
          49,
          48,
          48,
          47,
          47,
          46,
          45,
          44,
          43,
          43,
          42,
          40,
          39,
          37,
          32,
          24
         ],
         "xaxis": "x",
         "y": [
          5.781544951568321,
          14.0995893793189,
          5.551573873017901,
          7.353697088892886,
          0.4471446645625292,
          8.84157164982878,
          11.38498252702368,
          2.91224560765545,
          9.763127551108596,
          7.69962527527457,
          4.199709292276566,
          2.74257075102571,
          4.0496210369822165,
          2.2147500985500983,
          2.299596693253079,
          8.371866140349084,
          -2.724865041421708,
          2.802114566335149,
          2.3798956293901483,
          2.312346658931574,
          6.841669118785035,
          7.994353345496052,
          12.300317282505489,
          20.045631875149866,
          9.454259686917908,
          -0.6389897728458891,
          3.240834859683332,
          -6.468333573026484,
          1.7630571979022989,
          1.483786863600585,
          5.188761041877456,
          7.59800649296551,
          0.48160071598772447,
          2.8626354885328738,
          8.577664966279258,
          1.5865805404031335,
          1.983421447232331,
          2.922771359198009,
          1.741276584698312,
          11.605098169422945,
          -0.48007847849112295,
          0.7846091229587273,
          2.830087176725442,
          3.3480372523606547,
          3.8404374896038007,
          7.61837043272169,
          6.694627577589586,
          -0.7613916505629277,
          3.0910213076228956,
          -1.0835922821797794,
          4.9173227442274765,
          5.952450051107576,
          0.32776368637780706,
          4.593461562133143,
          -3.9164750778641064,
          3.9927392877034436,
          1.795850187218889,
          0.7708422332132159,
          4.361436884236127,
          3.3331365466799525,
          2.684405502905861,
          6.8087683991196855,
          7.463595353588403,
          1.4540132714753327,
          3.012641896023297,
          8.982936780300747,
          13.77796908109542,
          5.002126602511225,
          1.5875958228701847,
          0.7361055538009396,
          8.759698808891017,
          1.940081637545859,
          -3.6856242871654104,
          0.32553750350314203,
          6.432695274583125,
          4.381310593482112,
          4.451887961591979,
          3.222517113902086,
          7.904425102316168,
          5.173910295225028,
          6.242970779260077,
          6.528844059493508,
          4.058241077247885,
          6.705522371973984,
          4.628305785277803,
          2.151477272004854,
          1.1810764515992105,
          7.259878737536155,
          6.011900966426651,
          3.5966295651372775,
          4.241995120775755,
          6.300565171274343,
          11.212428680183507,
          1.3002495181686982,
          5.315983562682618,
          5.329074841678221,
          3.794618005424013,
          0.3716783489625186,
          -2.5743282172742283,
          2.5062839613717642,
          1.7732477361234942,
          2.615067057293004,
          1.2202242589870593,
          7.664570571903596,
          5.689328100878811,
          1.5393955678886186,
          7.515991816412452,
          3.054455604972077,
          8.934249273195519,
          -1.4714882351609049,
          5.17307636705641,
          9.72611312675906,
          2.3239798742855555,
          5.394330551543135,
          11.379659495658075,
          7.741096602068865,
          2.9951097827174635,
          -2.662709778784347,
          0.5399015459249767,
          1.6889779519682406,
          -0.03647141201088289,
          5.191505570237837,
          -5.332432812948582,
          8.212043876038479,
          2.813595561988791,
          -0.23664123624303102,
          3.5122667115829245,
          7.663943331287328,
          -0.7146031354167235,
          1.4064613911060633,
          3.704554912054391,
          4.290814619486355,
          2.6258888386544186,
          11.303296278659332,
          6.393574443007992,
          0.6298481260872677,
          6.083563924360533,
          -1.7140396327492908,
          6.198921138283595,
          2.0623948653985735,
          -2.2960610741613436,
          8.27007116377058,
          2.353276458628443,
          7.44319236823867,
          1.2495864587392589,
          2.8749048376910196,
          0.3936776371187989,
          3.391734366824039,
          2.9785933571488385,
          2.1260661550398936,
          0.20195560466549978,
          10.642214670961266,
          -4.119809410093467,
          5.35151066934975,
          5.90689266472657,
          6.226236649677162,
          2.737960831552982,
          3.5452702574555133,
          1.2550336465008058,
          2.7973625197030287,
          1.182815277019472,
          4.664953132177288,
          5.775519885453946,
          4.425494879312737,
          4.36323369790864,
          -1.4967912526576583,
          -0.9614143708939764,
          2.9823910507689106,
          2.2459076902307515,
          3.8771492555662235,
          3.510316299803435,
          -9.755248009759839,
          4.459554481680925,
          -0.4029017041992802,
          -0.544443932109175,
          1.6043570948019124,
          3.0381459943613436,
          5.599764794402972,
          6.3211470317558,
          6.226006605823045,
          -2.5540922697309725,
          0.9352546870463812,
          -0.7178553717548084,
          4.397122973513319,
          2.0729283196058077,
          -1.4850409725845566,
          5.052174832667333,
          -1.1216786556516354,
          -1.8244642380157075,
          -2.9476439176654594,
          -0.1872436280200418,
          -1.837731725944991,
          -1.397445894990824,
          3.8956413757807695,
          3.2443805585371592,
          1.862098665020767,
          5.907135001067218,
          -4.124466503218287,
          7.066459038449352,
          2.0016916349435405,
          8.18839379144822,
          -4.79888717149413,
          1.7877754878317091,
          -1.4882313416451325,
          -1.0340972002652506,
          -2.441512359570993,
          -2.5572438563721107,
          -1.3827632726298589,
          -3.245986226464538,
          0.7132961952161168,
          7.258643727318031,
          -1.8881074887041223,
          -5.132271759452124,
          -6.984462612546622,
          3.6380704259606773,
          -2.612389758469817,
          -2.592121906047282,
          5.229730720172711,
          3.84884088421677,
          -2.114655979434815,
          -3.642440954550466,
          -2.043541240483137,
          -3.463061676348275,
          5.364649389889223,
          4.82616906541557,
          -7.050786749716849,
          2.5392322365582913,
          -3.9717915465022315,
          2.4486916754349295,
          15.310152384670914,
          3.872731960717374,
          -1.8922161804682673,
          3.902309213947774,
          1.10788241266755,
          -5.387120156047786,
          1.7199159532193562,
          7.046869911331328,
          -1.1487871782678667,
          -9.933646782835012,
          -0.11778186299841309,
          2.028697521549475,
          -1.779458504975537,
          -1.9123338345793854,
          -2.176110459868255,
          -2.108532385096055,
          -2.339485188053004,
          -1.612960817732528,
          1.0272918550057284,
          -5.254735371928518,
          -3.3533544316263715,
          3.482610387648265,
          -2.3607596335999688,
          -7.0454297118265,
          1.0267071669851475,
          4.872160669040454,
          -5.295264072743862,
          -4.821927876392692,
          6.367596663796348,
          -5.595436446831172,
          3.9184259234083356,
          2.785058096679336,
          5.27560033370105,
          -3.0588961064547675,
          7.684680802103458,
          -3.2462370595247876,
          -5.482601226263114,
          4.314583257410277,
          5.565748890067653,
          2.6683541627310206,
          0.31380037246276515,
          3.4946024414999783,
          -4.390567088248304,
          -0.24382477127824131,
          -1.6395322788268913,
          -3.0996698494597013,
          -1.3650136969165487,
          4.437437266481538,
          8.260145439147323,
          -4.998041582373276,
          -2.6380850724340235,
          -0.27161329204909634,
          -5.417802450895579,
          1.1777522820233344,
          7.7533373207136265,
          3.7710526687841366,
          -0.8371934404937065,
          -3.1398215726040917,
          -2.4026730193727417,
          10.379667381130503,
          1.5232122718533674,
          -4.449871578607599,
          1.4714560668346621,
          -4.775334576880937,
          7.9072558336808925,
          0.1841524866714508,
          -6.166532208484,
          1.445007710527534,
          -9.556182380716336,
          -4.562902957247388,
          -10.601165492495511,
          4.385546391484468,
          -5.52366097440688,
          0.8117972005208003,
          4.5799520338284765,
          0.20802620144900175,
          13.248433116537853,
          -5.61213775919623,
          2.8478619130677316,
          0.6400267161469628,
          2.7217341071510646,
          1.6882183867189724,
          -2.159492641118618,
          -14.562051604373892,
          -12.987242115160711,
          -2.6432794265492703,
          0.10881154389949188,
          -9.925817935050759,
          -1.046956883872781,
          6.085601905478711,
          -0.5344685830984872,
          -3.912536287988928,
          -11.318936585582264,
          -2.6375213111494986,
          2.2540788191097363,
          4.40527783949517,
          7.364390369315629,
          -3.725973438491792,
          -8.376707324381641,
          1.8129173277409336,
          1.9549116432248184,
          -1.4350358772003347,
          -2.7921379895296923,
          1.7745744069420653,
          -3.626234413320617,
          0.2647759028895962,
          3.70786106609512,
          5.597193005801955,
          1.483454640867535,
          -0.45065067032578554,
          -3.352430020052111,
          -5.145574913373025,
          8.700797502362434,
          -1.331676302815481,
          -8.010244173535739,
          -2.7016616416474335,
          -10.866291755026054,
          3.588051725618584,
          -5.515679536130847,
          -7.685048101164284,
          4.598664993101465,
          3.5434157074603263,
          0.8129734700078188,
          4.11707559164347,
          -1.1116436417497653,
          -5.3054413027134615,
          -3.594707677884344,
          5.2592556730601245,
          1.5573955601180387,
          -8.726226238285221,
          -7.441564575904522,
          -8.254224288862588,
          -8.203358336506767,
          -13.12246014084917,
          -2.968485415612008,
          -2.358838476184019,
          -10.328437290931902,
          6.392862723995449,
          -7.0530197598690165,
          -2.6361752365151006,
          2.864325362331556,
          -10.5490597418152,
          -1.785642351929937,
          -1.4773100296688426,
          -1.2258146443432452,
          -6.60548081140098,
          -6.035943076638432,
          -11.04219879920322,
          -4.824987938163531,
          -3.0409415108365465,
          4.7729162422012905,
          0.921816820236927,
          -0.5127204139773767,
          -19.5188103646002,
          -3.3701749725253194,
          2.538359119379834,
          -3.939861833079931,
          -16.95799845185593,
          -5.935305480989882,
          4.466448252235068,
          0.7397082470583882,
          -2.674780758819338,
          -15.901952457367543,
          -2.953614108343004,
          -10.98295714723099,
          -6.168529251131872,
          0.10803189688135717,
          -13.377377411732937,
          5.177097226096521,
          -16.253132790350037,
          -15.166339446035522,
          -5.744224629922314,
          -5.733088311643428,
          -13.573038687773987,
          -14.112956187784675,
          -8.649508462261906,
          -16.426977568957227,
          -7.336338956275313,
          -9.431586815293485,
          -0.7157144807722489,
          -4.8860859463777615,
          -10.411726866886966,
          -15.006237064328275,
          -15.899955459954299,
          -2.0305004592737532,
          -14.311269359954963,
          -8.695424671443561,
          -5.748838145052446,
          -22.02633612160332,
          -5.5364319952680034,
          -17.560381119648696,
          -11.85630346021378,
          -10.059979779009268,
          0.2336382672807531,
          -13.433322672147483,
          0.839344049926126,
          -21.22376262515354,
          0.26791565282064767,
          -9.948568583574342,
          -9.178209433830602,
          -7.380283563277203,
          -16.801589067286727,
          -22.978150359780102,
          -8.848241796840057,
          -7.013460594060007,
          -5.331695071339482,
          -9.962330875412022,
          -13.352205877034748,
          -3.7605609508807447,
          -0.019280257002833423,
          -14.027009667831294,
          3.387816072775763,
          -33.85211324547299,
          -34.2960109796511
         ],
         "yaxis": "y"
        }
       ],
       "layout": {
        "legend": {
         "tracegroupgap": 0
        },
        "margin": {
         "t": 60
        },
        "template": {
         "data": {
          "bar": [
           {
            "error_x": {
             "color": "#2a3f5f"
            },
            "error_y": {
             "color": "#2a3f5f"
            },
            "marker": {
             "line": {
              "color": "#E5ECF6",
              "width": 0.5
             },
             "pattern": {
              "fillmode": "overlay",
              "size": 10,
              "solidity": 0.2
             }
            },
            "type": "bar"
           }
          ],
          "barpolar": [
           {
            "marker": {
             "line": {
              "color": "#E5ECF6",
              "width": 0.5
             },
             "pattern": {
              "fillmode": "overlay",
              "size": 10,
              "solidity": 0.2
             }
            },
            "type": "barpolar"
           }
          ],
          "carpet": [
           {
            "aaxis": {
             "endlinecolor": "#2a3f5f",
             "gridcolor": "white",
             "linecolor": "white",
             "minorgridcolor": "white",
             "startlinecolor": "#2a3f5f"
            },
            "baxis": {
             "endlinecolor": "#2a3f5f",
             "gridcolor": "white",
             "linecolor": "white",
             "minorgridcolor": "white",
             "startlinecolor": "#2a3f5f"
            },
            "type": "carpet"
           }
          ],
          "choropleth": [
           {
            "colorbar": {
             "outlinewidth": 0,
             "ticks": ""
            },
            "type": "choropleth"
           }
          ],
          "contour": [
           {
            "colorbar": {
             "outlinewidth": 0,
             "ticks": ""
            },
            "colorscale": [
             [
              0,
              "#0d0887"
             ],
             [
              0.1111111111111111,
              "#46039f"
             ],
             [
              0.2222222222222222,
              "#7201a8"
             ],
             [
              0.3333333333333333,
              "#9c179e"
             ],
             [
              0.4444444444444444,
              "#bd3786"
             ],
             [
              0.5555555555555556,
              "#d8576b"
             ],
             [
              0.6666666666666666,
              "#ed7953"
             ],
             [
              0.7777777777777778,
              "#fb9f3a"
             ],
             [
              0.8888888888888888,
              "#fdca26"
             ],
             [
              1,
              "#f0f921"
             ]
            ],
            "type": "contour"
           }
          ],
          "contourcarpet": [
           {
            "colorbar": {
             "outlinewidth": 0,
             "ticks": ""
            },
            "type": "contourcarpet"
           }
          ],
          "heatmap": [
           {
            "colorbar": {
             "outlinewidth": 0,
             "ticks": ""
            },
            "colorscale": [
             [
              0,
              "#0d0887"
             ],
             [
              0.1111111111111111,
              "#46039f"
             ],
             [
              0.2222222222222222,
              "#7201a8"
             ],
             [
              0.3333333333333333,
              "#9c179e"
             ],
             [
              0.4444444444444444,
              "#bd3786"
             ],
             [
              0.5555555555555556,
              "#d8576b"
             ],
             [
              0.6666666666666666,
              "#ed7953"
             ],
             [
              0.7777777777777778,
              "#fb9f3a"
             ],
             [
              0.8888888888888888,
              "#fdca26"
             ],
             [
              1,
              "#f0f921"
             ]
            ],
            "type": "heatmap"
           }
          ],
          "heatmapgl": [
           {
            "colorbar": {
             "outlinewidth": 0,
             "ticks": ""
            },
            "colorscale": [
             [
              0,
              "#0d0887"
             ],
             [
              0.1111111111111111,
              "#46039f"
             ],
             [
              0.2222222222222222,
              "#7201a8"
             ],
             [
              0.3333333333333333,
              "#9c179e"
             ],
             [
              0.4444444444444444,
              "#bd3786"
             ],
             [
              0.5555555555555556,
              "#d8576b"
             ],
             [
              0.6666666666666666,
              "#ed7953"
             ],
             [
              0.7777777777777778,
              "#fb9f3a"
             ],
             [
              0.8888888888888888,
              "#fdca26"
             ],
             [
              1,
              "#f0f921"
             ]
            ],
            "type": "heatmapgl"
           }
          ],
          "histogram": [
           {
            "marker": {
             "pattern": {
              "fillmode": "overlay",
              "size": 10,
              "solidity": 0.2
             }
            },
            "type": "histogram"
           }
          ],
          "histogram2d": [
           {
            "colorbar": {
             "outlinewidth": 0,
             "ticks": ""
            },
            "colorscale": [
             [
              0,
              "#0d0887"
             ],
             [
              0.1111111111111111,
              "#46039f"
             ],
             [
              0.2222222222222222,
              "#7201a8"
             ],
             [
              0.3333333333333333,
              "#9c179e"
             ],
             [
              0.4444444444444444,
              "#bd3786"
             ],
             [
              0.5555555555555556,
              "#d8576b"
             ],
             [
              0.6666666666666666,
              "#ed7953"
             ],
             [
              0.7777777777777778,
              "#fb9f3a"
             ],
             [
              0.8888888888888888,
              "#fdca26"
             ],
             [
              1,
              "#f0f921"
             ]
            ],
            "type": "histogram2d"
           }
          ],
          "histogram2dcontour": [
           {
            "colorbar": {
             "outlinewidth": 0,
             "ticks": ""
            },
            "colorscale": [
             [
              0,
              "#0d0887"
             ],
             [
              0.1111111111111111,
              "#46039f"
             ],
             [
              0.2222222222222222,
              "#7201a8"
             ],
             [
              0.3333333333333333,
              "#9c179e"
             ],
             [
              0.4444444444444444,
              "#bd3786"
             ],
             [
              0.5555555555555556,
              "#d8576b"
             ],
             [
              0.6666666666666666,
              "#ed7953"
             ],
             [
              0.7777777777777778,
              "#fb9f3a"
             ],
             [
              0.8888888888888888,
              "#fdca26"
             ],
             [
              1,
              "#f0f921"
             ]
            ],
            "type": "histogram2dcontour"
           }
          ],
          "mesh3d": [
           {
            "colorbar": {
             "outlinewidth": 0,
             "ticks": ""
            },
            "type": "mesh3d"
           }
          ],
          "parcoords": [
           {
            "line": {
             "colorbar": {
              "outlinewidth": 0,
              "ticks": ""
             }
            },
            "type": "parcoords"
           }
          ],
          "pie": [
           {
            "automargin": true,
            "type": "pie"
           }
          ],
          "scatter": [
           {
            "fillpattern": {
             "fillmode": "overlay",
             "size": 10,
             "solidity": 0.2
            },
            "type": "scatter"
           }
          ],
          "scatter3d": [
           {
            "line": {
             "colorbar": {
              "outlinewidth": 0,
              "ticks": ""
             }
            },
            "marker": {
             "colorbar": {
              "outlinewidth": 0,
              "ticks": ""
             }
            },
            "type": "scatter3d"
           }
          ],
          "scattercarpet": [
           {
            "marker": {
             "colorbar": {
              "outlinewidth": 0,
              "ticks": ""
             }
            },
            "type": "scattercarpet"
           }
          ],
          "scattergeo": [
           {
            "marker": {
             "colorbar": {
              "outlinewidth": 0,
              "ticks": ""
             }
            },
            "type": "scattergeo"
           }
          ],
          "scattergl": [
           {
            "marker": {
             "colorbar": {
              "outlinewidth": 0,
              "ticks": ""
             }
            },
            "type": "scattergl"
           }
          ],
          "scattermapbox": [
           {
            "marker": {
             "colorbar": {
              "outlinewidth": 0,
              "ticks": ""
             }
            },
            "type": "scattermapbox"
           }
          ],
          "scatterpolar": [
           {
            "marker": {
             "colorbar": {
              "outlinewidth": 0,
              "ticks": ""
             }
            },
            "type": "scatterpolar"
           }
          ],
          "scatterpolargl": [
           {
            "marker": {
             "colorbar": {
              "outlinewidth": 0,
              "ticks": ""
             }
            },
            "type": "scatterpolargl"
           }
          ],
          "scatterternary": [
           {
            "marker": {
             "colorbar": {
              "outlinewidth": 0,
              "ticks": ""
             }
            },
            "type": "scatterternary"
           }
          ],
          "surface": [
           {
            "colorbar": {
             "outlinewidth": 0,
             "ticks": ""
            },
            "colorscale": [
             [
              0,
              "#0d0887"
             ],
             [
              0.1111111111111111,
              "#46039f"
             ],
             [
              0.2222222222222222,
              "#7201a8"
             ],
             [
              0.3333333333333333,
              "#9c179e"
             ],
             [
              0.4444444444444444,
              "#bd3786"
             ],
             [
              0.5555555555555556,
              "#d8576b"
             ],
             [
              0.6666666666666666,
              "#ed7953"
             ],
             [
              0.7777777777777778,
              "#fb9f3a"
             ],
             [
              0.8888888888888888,
              "#fdca26"
             ],
             [
              1,
              "#f0f921"
             ]
            ],
            "type": "surface"
           }
          ],
          "table": [
           {
            "cells": {
             "fill": {
              "color": "#EBF0F8"
             },
             "line": {
              "color": "white"
             }
            },
            "header": {
             "fill": {
              "color": "#C8D4E3"
             },
             "line": {
              "color": "white"
             }
            },
            "type": "table"
           }
          ]
         },
         "layout": {
          "annotationdefaults": {
           "arrowcolor": "#2a3f5f",
           "arrowhead": 0,
           "arrowwidth": 1
          },
          "autotypenumbers": "strict",
          "coloraxis": {
           "colorbar": {
            "outlinewidth": 0,
            "ticks": ""
           }
          },
          "colorscale": {
           "diverging": [
            [
             0,
             "#8e0152"
            ],
            [
             0.1,
             "#c51b7d"
            ],
            [
             0.2,
             "#de77ae"
            ],
            [
             0.3,
             "#f1b6da"
            ],
            [
             0.4,
             "#fde0ef"
            ],
            [
             0.5,
             "#f7f7f7"
            ],
            [
             0.6,
             "#e6f5d0"
            ],
            [
             0.7,
             "#b8e186"
            ],
            [
             0.8,
             "#7fbc41"
            ],
            [
             0.9,
             "#4d9221"
            ],
            [
             1,
             "#276419"
            ]
           ],
           "sequential": [
            [
             0,
             "#0d0887"
            ],
            [
             0.1111111111111111,
             "#46039f"
            ],
            [
             0.2222222222222222,
             "#7201a8"
            ],
            [
             0.3333333333333333,
             "#9c179e"
            ],
            [
             0.4444444444444444,
             "#bd3786"
            ],
            [
             0.5555555555555556,
             "#d8576b"
            ],
            [
             0.6666666666666666,
             "#ed7953"
            ],
            [
             0.7777777777777778,
             "#fb9f3a"
            ],
            [
             0.8888888888888888,
             "#fdca26"
            ],
            [
             1,
             "#f0f921"
            ]
           ],
           "sequentialminus": [
            [
             0,
             "#0d0887"
            ],
            [
             0.1111111111111111,
             "#46039f"
            ],
            [
             0.2222222222222222,
             "#7201a8"
            ],
            [
             0.3333333333333333,
             "#9c179e"
            ],
            [
             0.4444444444444444,
             "#bd3786"
            ],
            [
             0.5555555555555556,
             "#d8576b"
            ],
            [
             0.6666666666666666,
             "#ed7953"
            ],
            [
             0.7777777777777778,
             "#fb9f3a"
            ],
            [
             0.8888888888888888,
             "#fdca26"
            ],
            [
             1,
             "#f0f921"
            ]
           ]
          },
          "colorway": [
           "#636efa",
           "#EF553B",
           "#00cc96",
           "#ab63fa",
           "#FFA15A",
           "#19d3f3",
           "#FF6692",
           "#B6E880",
           "#FF97FF",
           "#FECB52"
          ],
          "font": {
           "color": "#2a3f5f"
          },
          "geo": {
           "bgcolor": "white",
           "lakecolor": "white",
           "landcolor": "#E5ECF6",
           "showlakes": true,
           "showland": true,
           "subunitcolor": "white"
          },
          "hoverlabel": {
           "align": "left"
          },
          "hovermode": "closest",
          "mapbox": {
           "style": "light"
          },
          "paper_bgcolor": "white",
          "plot_bgcolor": "#E5ECF6",
          "polar": {
           "angularaxis": {
            "gridcolor": "white",
            "linecolor": "white",
            "ticks": ""
           },
           "bgcolor": "#E5ECF6",
           "radialaxis": {
            "gridcolor": "white",
            "linecolor": "white",
            "ticks": ""
           }
          },
          "scene": {
           "xaxis": {
            "backgroundcolor": "#E5ECF6",
            "gridcolor": "white",
            "gridwidth": 2,
            "linecolor": "white",
            "showbackground": true,
            "ticks": "",
            "zerolinecolor": "white"
           },
           "yaxis": {
            "backgroundcolor": "#E5ECF6",
            "gridcolor": "white",
            "gridwidth": 2,
            "linecolor": "white",
            "showbackground": true,
            "ticks": "",
            "zerolinecolor": "white"
           },
           "zaxis": {
            "backgroundcolor": "#E5ECF6",
            "gridcolor": "white",
            "gridwidth": 2,
            "linecolor": "white",
            "showbackground": true,
            "ticks": "",
            "zerolinecolor": "white"
           }
          },
          "shapedefaults": {
           "line": {
            "color": "#2a3f5f"
           }
          },
          "ternary": {
           "aaxis": {
            "gridcolor": "white",
            "linecolor": "white",
            "ticks": ""
           },
           "baxis": {
            "gridcolor": "white",
            "linecolor": "white",
            "ticks": ""
           },
           "bgcolor": "#E5ECF6",
           "caxis": {
            "gridcolor": "white",
            "linecolor": "white",
            "ticks": ""
           }
          },
          "title": {
           "x": 0.05
          },
          "xaxis": {
           "automargin": true,
           "gridcolor": "white",
           "linecolor": "white",
           "ticks": "",
           "title": {
            "standoff": 15
           },
           "zerolinecolor": "white",
           "zerolinewidth": 2
          },
          "yaxis": {
           "automargin": true,
           "gridcolor": "white",
           "linecolor": "white",
           "ticks": "",
           "title": {
            "standoff": 15
           },
           "zerolinecolor": "white",
           "zerolinewidth": 2
          }
         }
        },
        "xaxis": {
         "anchor": "y",
         "domain": [
          0,
          1
         ],
         "title": {
          "text": "Actual Rating"
         }
        },
        "yaxis": {
         "anchor": "x",
         "domain": [
          0,
          1
         ],
         "title": {
          "text": "Prediction delta"
         }
        }
       }
      }
     },
     "metadata": {},
     "output_type": "display_data"
    }
   ],
   "source": [
    "# scatter plot of spread of predictions by rating\n",
    "scores_comp['Prediction delta'] = scores_comp['Actual Rating'] - scores_comp['Predicted Rating']\n",
    "fig = px.scatter(scores_comp, x=\"Actual Rating\", y=\"Prediction delta\", hover_name= 'Game')\n",
    "fig"
   ]
  }
 ],
 "metadata": {
  "kernelspec": {
   "display_name": "base",
   "language": "python",
   "name": "python3"
  },
  "language_info": {
   "codemirror_mode": {
    "name": "ipython",
    "version": 3
   },
   "file_extension": ".py",
   "mimetype": "text/x-python",
   "name": "python",
   "nbconvert_exporter": "python",
   "pygments_lexer": "ipython3",
   "version": "3.10.9"
  },
  "orig_nbformat": 4
 },
 "nbformat": 4,
 "nbformat_minor": 2
}
